{
 "cells": [
  {
   "cell_type": "markdown",
   "metadata": {},
   "source": [
    "### Physics 112: Spring 2021: Section 1: Professor Holzapfel \n",
    "### HW6 computational problem 2\n",
    "### Size and Temperature of Stars from thier Flux as a function of frequency\n",
    "Copyright 2021 by the Regents of the University of California. All rights reserved."
   ]
  },
  {
   "cell_type": "markdown",
   "metadata": {},
   "source": [
    "Measurements of the radiation intensity from stars as a function frequency can be used to determine both their temperature and size. In this problem, we will assume that the stars emit as perfect blackbodies. In practice, this is a good approximation that becomes less accurate for cooler stars.\n",
    "\n",
    "Since we will be using astronomical photometry data, we need to take a moment to discuss this data and how to convert it to units we are more familiar with. The average specific flux from a star over a range of frequency determined by a standard observing band is reported in the form of a \"magnitude\" which is a logarithmic scale of the brightness. The zero-magnitude reference for this scale is given by the brightness of a standard star called Vega. So, the magnitude of a star with specific flux $f_a$ (W/m$^2$ Hz) is given by $m_a=-2.5 \\log(f_a/f_0)$, where $f_0$ is the flux from Vega in that band. Given a magnitude $m_a$ for a star in a given band, we can convert that to a flux by $$f_a=f_0 10^{-0.4 m_a}.$$\n",
    "\n",
    "A common set of photometric bands are labelled by:\n",
    "U, V, B, R, I, J, K (for reasons...)\n",
    "the band centers in units of nanometers (nm) are given by:"
   ]
  },
  {
   "cell_type": "code",
   "execution_count": 17,
   "metadata": {},
   "outputs": [],
   "source": [
    "import numpy as np\n",
    "bands=np.array([365, 445, 551, 658, 806, 1220, 1630, 2190])"
   ]
  },
  {
   "cell_type": "markdown",
   "metadata": {},
   "source": [
    "The flux of Vega ($f_0$) in units of Jy $\\left(10^{-26}\\frac{W}{m^2 Hz}\\right)$ in each of these bands is given below."
   ]
  },
  {
   "cell_type": "code",
   "execution_count": 18,
   "metadata": {},
   "outputs": [],
   "source": [
    "f0=np.array([1810, 4000, 3600, 3060, 2420, 1670, 980, 620 ])"
   ]
  },
  {
   "cell_type": "markdown",
   "metadata": {},
   "source": [
    "In this problem, we will use measurements of magnitudes for a few stars to characterize their temperatures and sizes. The first star we will consider is Tau Ceti. This is a star similar to the Sun that is a distance of 11.89 ly (light-years) from earth. The magnitude of Tau Ceti in each of the observing bands is:"
   ]
  },
  {
   "cell_type": "code",
   "execution_count": 19,
   "metadata": {},
   "outputs": [],
   "source": [
    "m_tc = np.array([4.43, 4.22, 3.50, 2.88, 2.41, 2.14, 1.72, 1.68])"
   ]
  },
  {
   "cell_type": "markdown",
   "metadata": {},
   "source": [
    "a) Plot the flux of Tau Ceti as a function of the observing band wavelength. Don't worry about plotting any errors. The photometry data is very accurate and the star is not a perfect blackbody. The uncertainty in the fit will be dominated by the systematic difference between the data and the model and not the measurement errors."
   ]
  },
  {
   "cell_type": "code",
   "execution_count": 20,
   "metadata": {},
   "outputs": [],
   "source": [
    "# a) Answer here"
   ]
  },
  {
   "cell_type": "markdown",
   "metadata": {},
   "source": [
    "b) Now compare the measured flux with a model where the star is blackbody of temperature $T$ (K) subtending a solid angle $\\Omega=\\pi(R/D)^2$, where R is the radius of the star and it is at a distance of $D=11.89\\,$ly. Determine the best fit values and uncertainties for $T$ and $R$. Express your value for $R$ in units of the solar radius ($R_{sun} = 696\\times 10^6\\,$m)."
   ]
  },
  {
   "cell_type": "code",
   "execution_count": 22,
   "metadata": {},
   "outputs": [],
   "source": [
    "# b) Answer Here "
   ]
  },
  {
   "cell_type": "markdown",
   "metadata": {},
   "source": [
    "c) Overplot the best fit model for the flux as a function of wavelength on the plot of the measured fluxes. Your model should provide a reasonable, but imperfect, fit to the data."
   ]
  },
  {
   "cell_type": "code",
   "execution_count": 25,
   "metadata": {},
   "outputs": [],
   "source": [
    "# c) Answer Here"
   ]
  },
  {
   "cell_type": "markdown",
   "metadata": {},
   "source": [
    "d) Now find the best fit temperature and radius for Mintaka and overplot your best BB model with the measured fluxes. Mintaka is at a distance of 1230 ly and has the following magnitudes in the U, B, V, R, I, J, K bands:"
   ]
  },
  {
   "cell_type": "code",
   "execution_count": 28,
   "metadata": {},
   "outputs": [],
   "source": [
    "m_m=np.array([0.96, 2.2, 2.4, 2.32, 2.54, 2.72, 2.84, 2.88])"
   ]
  },
  {
   "cell_type": "code",
   "execution_count": 29,
   "metadata": {},
   "outputs": [],
   "source": [
    "# d) Answer here"
   ]
  },
  {
   "cell_type": "markdown",
   "metadata": {},
   "source": [
    "e) Now find the best fit temperature and radius for Betelgeuse and overplot your best BB model with the measured fluxes. Betelgeuse is at a distance of 643 ly and has the following magnitudes in the U, B, V, R, I, J, K bands:"
   ]
  },
  {
   "cell_type": "code",
   "execution_count": 32,
   "metadata": {},
   "outputs": [],
   "source": [
    "# e) Answer Here"
   ]
  },
  {
   "cell_type": "code",
   "execution_count": 33,
   "metadata": {},
   "outputs": [],
   "source": [
    "m_b=np.array([4.38, 2.27, 0.42, -1.17, -2.45, -3.00, -3.73,-4.05])"
   ]
  }
 ],
 "metadata": {
  "kernelspec": {
   "display_name": "Python 3",
   "language": "python",
   "name": "python3"
  },
  "language_info": {
   "codemirror_mode": {
    "name": "ipython",
    "version": 3
   },
   "file_extension": ".py",
   "mimetype": "text/x-python",
   "name": "python",
   "nbconvert_exporter": "python",
   "pygments_lexer": "ipython3",
   "version": "3.8.6"
  }
 },
 "nbformat": 4,
 "nbformat_minor": 2
}

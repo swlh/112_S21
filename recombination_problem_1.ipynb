{
 "cells": [
  {
   "cell_type": "markdown",
   "metadata": {},
   "source": [
    "### Physics 112: Section 1: Professor Holzapfel \n",
    "#### HW8, Computational problem - corrected 4/3/21\n",
    "#### Saha Equation and Recombination of the Early Universe\n",
    "Copyright 2021 by the Regents of the University of California. All rights reserved.\n"
   ]
  },
  {
   "cell_type": "markdown",
   "metadata": {},
   "source": [
    "In this problem we explore the equilibrium ionization fraction of hydrogen as a function of temperature and density and apply it to the study of recombination in the early universe. As shown in Problem 1 of HW8, the Saha equation that we derived in class considering only the ground state of the hydrogen atom is applicable over a wide range of temperatures and densities. The Saha equation relates the equilibrium ionization fraction $x=n_e/(n_p+n_H) = n_e/n_t$ to the temperature $\\tau$ and total density $n_t$ as\n",
    "$$\\frac{x^2}{1-x}=\\frac{n_q}{n_t} \\exp\\left(-\\frac{\\epsilon_0}{\\tau}\\right),$$ where $n_q=(m_e\\tau/2\\pi\\hbar^2)^{3/2}$ and $\\epsilon_0=13.6\\,$eV. Solving this quadratic equation for x will produce two solutions only one of which will be positive. The positive solution is the physically meaningful one for this problem. You will have to take care in solvinng the quadratic equation for low density and high temperature where numerical precision is critical."
   ]
  },
  {
   "cell_type": "markdown",
   "metadata": {},
   "source": [
    "a) Plot the ionization fraction as a function of temperature over the range $1,000K<T<20,000K$ for total hydrogen densities of $n=1, 10^6, 10^{12}, {\\rm and}\\, 10^{18}\\, {\\rm m}^{-3}$. Note the relatively abrupt change from neutral to fully ionized and how the temperature of this transition changes with density. "
   ]
  },
  {
   "cell_type": "code",
   "execution_count": 44,
   "metadata": {},
   "outputs": [],
   "source": [
    "#a) Solution Here"
   ]
  },
  {
   "cell_type": "markdown",
   "metadata": {},
   "source": [
    "b) Low density gasses become ionized at temperatures much lower than you might have naively anticipated from the electron binding energy, $\\frac{\\epsilon_0}{k_b} = 157,800\\,$K. If we define ionization as occurring when the hydrogen gas is 50% ionized, make a plot of the ionization temperature as a function of the total hydrogen density over the range $1\\,{\\rm m}^{-3}<n_t<10^{21}{\\rm m}^{-3}$."
   ]
  },
  {
   "cell_type": "code",
   "execution_count": 4,
   "metadata": {},
   "outputs": [],
   "source": [
    "#b) Solution Here"
   ]
  },
  {
   "cell_type": "markdown",
   "metadata": {},
   "source": [
    "c) The early Universe is a hot and dense plasma. As the Universe ages, it expands and cools. When the Universe reaches a critical combination of density and temperature, the plasma combines to form a neutral gas of mostly hydrogen. In the study of cosmology, distances are parameterized in terms of the redshift, $z = \\frac{\\lambda_{obs}-\\lambda_{emit}}{\\lambda_{emit}}$, where $\\lambda_{emit}$ is the wavelength of light originally emitted by a distant source and $\\lambda_{obs}$ is the observed wavelength. At a redshift $z$, the Universe was a factor of $(1+z)$ smaller than it is today. The temperature of the Universe was higher $T(z) = T_{0}(1+z)$, where $T_{0}=T_{CMB}=2.73\\,$K is the average temperature of the Universe today. The density of hydrogen changes with redhshift as $n_t(z) = n_0 (1+z)^3$ where $n_0\\sim 1.6\\,{\\rm m}^{-3}$ is the current average density of the Universe. Using the scaling of the temperature and density with redshift, plot the ionization fraction of the Universe as a function of redshift z."
   ]
  },
  {
   "cell_type": "code",
   "execution_count": null,
   "metadata": {},
   "outputs": [],
   "source": [
    "#c) Solution Here"
   ]
  },
  {
   "cell_type": "markdown",
   "metadata": {},
   "source": [
    "d) If we define recombination as occurring at when the ionization fraction drops below 50%, solve for the redshift where this occurs. Use the value of this redshift to determine the temperature and density of the Universe at the time (redshift) of recombination. The detailed solution of this problem is more involved because the Universe contains helium (~25% of mass) as well as hydrogen, and is evolving in time and therefore can not be considered to be in thermal equilibrium. Nonetheless, the simple treatment here gives results that are roughly correct."
   ]
  },
  {
   "cell_type": "code",
   "execution_count": 7,
   "metadata": {},
   "outputs": [],
   "source": [
    "#d) Solution Here"
   ]
  }
 ],
 "metadata": {
  "anaconda-cloud": {},
  "history": [
   {
    "code": "trials = 10000\nsteps = 1000\nprobR = 0.25 #Probability of a +1 (or right) step\nsamps = sampleTrajectories(trials, steps, prob=probR)",
    "id": "ed1ea916255e450e89375eb40e312fe5",
    "idx": 5,
    "time": "2021-02-09T01:30:01.922Z",
    "type": "execution"
   },
   {
    "id": "ed1ea916255e450e89375eb40e312fe5",
    "time": "2021-02-09T01:30:02.065Z",
    "type": "completion"
   },
   {
    "code": "import numpy as np\nimport scipy.stats as st\nimport matplotlib.pyplot as plt",
    "id": "e74988113d194d328e5c2c538ffe9284",
    "idx": 0,
    "time": "2021-02-09T01:30:09.585Z",
    "type": "execution"
   },
   {
    "id": "e74988113d194d328e5c2c538ffe9284",
    "time": "2021-02-09T01:30:10.434Z",
    "type": "completion"
   },
   {
    "code": "np.random.choice([-1,1], size=7)",
    "id": "e3f92094badc4d81a7a03780c0686ba1",
    "idx": 2,
    "time": "2021-02-09T01:30:10.871Z",
    "type": "execution"
   },
   {
    "id": "e3f92094badc4d81a7a03780c0686ba1",
    "time": "2021-02-09T01:30:10.934Z",
    "type": "completion"
   },
   {
    "code": "#Function that samples M number of trajectories, with N number of steps per trial\n#Inputs: Number of trials, number of steps per trial\n#Outputs: List of locations (integers) where the random walker stops at the end of all N steps of each trial\ndef sampleTrajectories(num_trials, num_steps, prob=0.5):\n    vals = np.zeros(num_trials, dtype=int)\n    for i in range(num_trials):\n        vals[i] = sum(np.random.choice([-1,1], p=[1-prob, prob], size=num_steps))\n    return vals",
    "id": "35751fd4a6d94a28a045573580711d3c",
    "idx": 4,
    "time": "2021-02-09T01:30:12.581Z",
    "type": "execution"
   },
   {
    "id": "35751fd4a6d94a28a045573580711d3c",
    "time": "2021-02-09T01:30:12.638Z",
    "type": "completion"
   },
   {
    "code": "trials = 10000\nsteps = 1000\nprobR = 0.25 #Probability of a +1 (or right) step\nsamps = sampleTrajectories(trials, steps, prob=probR)",
    "id": "ed1ea916255e450e89375eb40e312fe5",
    "idx": 5,
    "time": "2021-02-09T01:30:13.542Z",
    "type": "execution"
   },
   {
    "id": "ed1ea916255e450e89375eb40e312fe5",
    "time": "2021-02-09T01:30:16.691Z",
    "type": "completion"
   },
   {
    "code": "print(np.mean(samps))\nprint(np.var(samps))",
    "id": "0a938262ef8945de87ba231a17544de2",
    "idx": 7,
    "time": "2021-02-09T01:30:25.440Z",
    "type": "execution"
   },
   {
    "id": "0a938262ef8945de87ba231a17544de2",
    "time": "2021-02-09T01:30:25.522Z",
    "type": "completion"
   },
   {
    "code": "test_N = [250, 500, 750, 1000, 1250, 1500]\nvarns = np.zeros(len(test_N))\nfor i in range(len(test_N)):\n    varns[i] = np.var(sampleTrajectories(trials, test_N[i]))",
    "id": "1df029d0b48845d7863c05accf839d60",
    "idx": 9,
    "time": "2021-02-09T01:30:36.551Z",
    "type": "execution"
   },
   {
    "code": "fig, ax = plt.subplots()\n\nax.plot(test_N, varns, 'ro', ms=8)\nax.set_ylabel(\"Variance\")\nax.set_xlabel(\"Steps\")\nplt.show()\nplt.close()",
    "id": "6c522274b1e740a183176a4cfb47f8a1",
    "idx": 10,
    "time": "2021-02-09T01:30:43.031Z",
    "type": "execution"
   },
   {
    "id": "1df029d0b48845d7863c05accf839d60",
    "time": "2021-02-09T01:30:53.488Z",
    "type": "completion"
   },
   {
    "id": "6c522274b1e740a183176a4cfb47f8a1",
    "time": "2021-02-09T01:30:53.727Z",
    "type": "completion"
   },
   {
    "code": "test_N = [250, 500, 750, 1000, 1250, 1500]\nvarns = np.zeros(len(test_N))\nfor i in range(len(test_N)):\n    varns[i] = np.var(sampleTrajectories(trials, test_N[i], probR))",
    "id": "1df029d0b48845d7863c05accf839d60",
    "idx": 9,
    "time": "2021-02-09T01:31:31.741Z",
    "type": "execution"
   },
   {
    "code": "fig, ax = plt.subplots()\n\nax.plot(test_N, varns, 'ro', ms=8)\nax.set_ylabel(\"Variance\")\nax.set_xlabel(\"Steps\")\nplt.show()\nplt.close()",
    "id": "6c522274b1e740a183176a4cfb47f8a1",
    "idx": 10,
    "time": "2021-02-09T01:31:37.291Z",
    "type": "execution"
   },
   {
    "id": "1df029d0b48845d7863c05accf839d60",
    "time": "2021-02-09T01:31:47.663Z",
    "type": "completion"
   },
   {
    "id": "6c522274b1e740a183176a4cfb47f8a1",
    "time": "2021-02-09T01:31:47.830Z",
    "type": "completion"
   },
   {
    "code": "coeffs = np.polyfit(test_N, varns, 1)\nfit = np.poly1d(coeffs)\nprint(fit)\n\nfig, ax = plt.subplots()\nax.plot(test_N, varns, 'ro', ms=8)\nax.plot(test_N, fit(test_N), 'b-')\nax.set_ylabel(\"Variance\")\nax.set_xlabel(\"Steps\")\nplt.show()\nplt.close()",
    "id": "4b1e2002b9e0492ca116cf7c3131d276",
    "idx": 12,
    "time": "2021-02-09T01:32:04.228Z",
    "type": "execution"
   },
   {
    "id": "4b1e2002b9e0492ca116cf7c3131d276",
    "time": "2021-02-09T01:32:04.524Z",
    "type": "completion"
   },
   {
    "code": "trials = 10000\nsteps = 1000\nprobR = 0.5 #Probability of a +1 (or right) step\nsamps = sampleTrajectories(trials, steps, prob=probR)",
    "id": "ed1ea916255e450e89375eb40e312fe5",
    "idx": 5,
    "time": "2021-02-09T01:33:44.529Z",
    "type": "execution"
   },
   {
    "code": "print(np.mean(samps))\nprint(np.var(samps))",
    "id": "0a938262ef8945de87ba231a17544de2",
    "idx": 7,
    "time": "2021-02-09T01:33:45.856Z",
    "type": "execution"
   },
   {
    "id": "ed1ea916255e450e89375eb40e312fe5",
    "time": "2021-02-09T01:33:48.272Z",
    "type": "completion"
   },
   {
    "id": "0a938262ef8945de87ba231a17544de2",
    "time": "2021-02-09T01:33:48.277Z",
    "type": "completion"
   },
   {
    "code": "print(np.mean(samps))\nprint(np.var(samps))",
    "id": "0a938262ef8945de87ba231a17544de2",
    "idx": 7,
    "time": "2021-02-09T01:34:02.244Z",
    "type": "execution"
   },
   {
    "id": "0a938262ef8945de87ba231a17544de2",
    "time": "2021-02-09T01:34:02.302Z",
    "type": "completion"
   },
   {
    "code": "trials = 10000\nsteps = 1000\nprobR = 0.5 #Probability of a +1 (or right) step\nsamps = sampleTrajectories(trials, steps, prob=probR)",
    "id": "ed1ea916255e450e89375eb40e312fe5",
    "idx": 5,
    "time": "2021-02-09T01:34:05.989Z",
    "type": "execution"
   },
   {
    "code": "print(np.mean(samps))\nprint(np.var(samps))",
    "id": "0a938262ef8945de87ba231a17544de2",
    "idx": 7,
    "time": "2021-02-09T01:34:07.520Z",
    "type": "execution"
   },
   {
    "id": "ed1ea916255e450e89375eb40e312fe5",
    "time": "2021-02-09T01:34:09.250Z",
    "type": "completion"
   },
   {
    "id": "0a938262ef8945de87ba231a17544de2",
    "time": "2021-02-09T01:34:09.267Z",
    "type": "completion"
   },
   {
    "code": "trials = 10000\nsteps = 1000\nprobR = 0.25 #Probability of a +1 (or right) step\nsamps = sampleTrajectories(trials, steps, prob=probR)",
    "id": "ed1ea916255e450e89375eb40e312fe5",
    "idx": 5,
    "time": "2021-02-09T01:34:29.778Z",
    "type": "execution"
   },
   {
    "code": "print(np.mean(samps))\nprint(np.var(samps))",
    "id": "0a938262ef8945de87ba231a17544de2",
    "idx": 7,
    "time": "2021-02-09T01:34:32.161Z",
    "type": "execution"
   },
   {
    "id": "ed1ea916255e450e89375eb40e312fe5",
    "time": "2021-02-09T01:34:32.870Z",
    "type": "completion"
   },
   {
    "id": "0a938262ef8945de87ba231a17544de2",
    "time": "2021-02-09T01:34:32.874Z",
    "type": "completion"
   },
   {
    "code": "test_N = [250, 500, 750, 1000, 1250, 1500]\nvarns = np.zeros(len(test_N))\nfor i in range(len(test_N)):\n    varns[i] = np.var(sampleTrajectories(trials, test_N[i], probR))",
    "id": "1df029d0b48845d7863c05accf839d60",
    "idx": 9,
    "time": "2021-02-09T01:34:40.554Z",
    "type": "execution"
   },
   {
    "code": "fig, ax = plt.subplots()\n\nax.plot(test_N, varns, 'ro', ms=8)\nax.set_ylabel(\"Variance\")\nax.set_xlabel(\"Steps\")\nplt.show()\nplt.close()",
    "id": "6c522274b1e740a183176a4cfb47f8a1",
    "idx": 10,
    "time": "2021-02-09T01:34:47.452Z",
    "type": "execution"
   },
   {
    "id": "1df029d0b48845d7863c05accf839d60",
    "time": "2021-02-09T01:34:57.553Z",
    "type": "completion"
   },
   {
    "id": "6c522274b1e740a183176a4cfb47f8a1",
    "time": "2021-02-09T01:34:57.714Z",
    "type": "completion"
   },
   {
    "code": "print(np.mean(samps))\nprint(np.var(samps))",
    "id": "0a938262ef8945de87ba231a17544de2",
    "idx": 7,
    "time": "2021-02-09T01:38:02.250Z",
    "type": "execution"
   },
   {
    "id": "0a938262ef8945de87ba231a17544de2",
    "time": "2021-02-09T01:38:02.309Z",
    "type": "completion"
   },
   {
    "code": "test_N = [250, 500, 750, 1000, 1250, 1500]\nvarns = np.zeros(len(test_N))\nfor i in range(len(test_N)):\n    varns[i] = np.var(sampleTrajectories(trials, test_N[i], probR))",
    "id": "1df029d0b48845d7863c05accf839d60",
    "idx": 9,
    "time": "2021-02-09T01:38:04.688Z",
    "type": "execution"
   },
   {
    "code": "fig, ax = plt.subplots()\n\nax.plot(test_N, varns, 'ro', ms=8)\nax.set_ylabel(\"Variance\")\nax.set_xlabel(\"Steps\")\nplt.show()\nplt.close()",
    "id": "6c522274b1e740a183176a4cfb47f8a1",
    "idx": 10,
    "time": "2021-02-09T01:38:07.400Z",
    "type": "execution"
   },
   {
    "id": "1df029d0b48845d7863c05accf839d60",
    "time": "2021-02-09T01:38:20.958Z",
    "type": "completion"
   },
   {
    "id": "6c522274b1e740a183176a4cfb47f8a1",
    "time": "2021-02-09T01:38:21.136Z",
    "type": "completion"
   },
   {
    "code": "coeffs = np.polyfit(test_N, varns, 1)\nfit = np.poly1d(coeffs)\nprint(fit)\n\nfig, ax = plt.subplots()\nax.plot(test_N, varns, 'ro', ms=8)\nax.plot(test_N, fit(test_N), 'b-')\nax.set_ylabel(\"Variance\")\nax.set_xlabel(\"Steps\")\nplt.show()\nplt.close()",
    "id": "4b1e2002b9e0492ca116cf7c3131d276",
    "idx": 12,
    "time": "2021-02-09T01:38:22.238Z",
    "type": "execution"
   },
   {
    "id": "4b1e2002b9e0492ca116cf7c3131d276",
    "time": "2021-02-09T01:38:22.508Z",
    "type": "completion"
   },
   {
    "code": "trials = 10000\nsteps = 1000\nprobR = 0.5 #Probability of a +1 (or right) step\nsamps = sampleTrajectories(trials, steps, prob=probR)",
    "id": "ed1ea916255e450e89375eb40e312fe5",
    "idx": 5,
    "time": "2021-02-09T01:38:56.292Z",
    "type": "execution"
   },
   {
    "code": "print(np.mean(samps))\nprint(np.var(samps))",
    "id": "0a938262ef8945de87ba231a17544de2",
    "idx": 7,
    "time": "2021-02-09T01:38:57.652Z",
    "type": "execution"
   },
   {
    "id": "ed1ea916255e450e89375eb40e312fe5",
    "time": "2021-02-09T01:38:59.685Z",
    "type": "completion"
   },
   {
    "id": "0a938262ef8945de87ba231a17544de2",
    "time": "2021-02-09T01:38:59.690Z",
    "type": "completion"
   },
   {
    "code": "test_N = [250, 500, 750, 1000, 1250, 1500]\nvarns = np.zeros(len(test_N))\nfor i in range(len(test_N)):\n    varns[i] = np.var(sampleTrajectories(trials, test_N[i], probR))",
    "id": "1df029d0b48845d7863c05accf839d60",
    "idx": 9,
    "time": "2021-02-09T01:39:03.684Z",
    "type": "execution"
   },
   {
    "code": "fig, ax = plt.subplots()\n\nax.plot(test_N, varns, 'ro', ms=8)\nax.set_ylabel(\"Variance\")\nax.set_xlabel(\"Steps\")\nplt.show()\nplt.close()",
    "id": "6c522274b1e740a183176a4cfb47f8a1",
    "idx": 10,
    "time": "2021-02-09T01:39:06.895Z",
    "type": "execution"
   },
   {
    "code": "coeffs = np.polyfit(test_N, varns, 1)\nfit = np.poly1d(coeffs)\nprint(fit)\n\nfig, ax = plt.subplots()\nax.plot(test_N, varns, 'ro', ms=8)\nax.plot(test_N, fit(test_N), 'b-')\nax.set_ylabel(\"Variance\")\nax.set_xlabel(\"Steps\")\nplt.show()\nplt.close()",
    "id": "4b1e2002b9e0492ca116cf7c3131d276",
    "idx": 12,
    "time": "2021-02-09T01:39:16.328Z",
    "type": "execution"
   },
   {
    "id": "1df029d0b48845d7863c05accf839d60",
    "time": "2021-02-09T01:39:20.190Z",
    "type": "completion"
   },
   {
    "id": "6c522274b1e740a183176a4cfb47f8a1",
    "time": "2021-02-09T01:39:20.372Z",
    "type": "completion"
   },
   {
    "id": "4b1e2002b9e0492ca116cf7c3131d276",
    "time": "2021-02-09T01:39:20.623Z",
    "type": "completion"
   },
   {
    "code": "#Function that samples M number of trajectories, stopping when a walker reaches a distance z away from the origin\n#Inputs: Number of trials, distance to the edge\n#Outputs: List of integers for the number of steps taken until reaching a distance z\ndef sampleEscapeTraj(trials, z):\n    escSteps = np.zeros(trials)\n    for i in range(trials):\n        stepNum = 0\n        curPos = 0\n        while abs(curPos)!=z:\n            curPos += np.random.choice([-1, 1])\n            stepNum += 1\n        escSteps[i] = stepNum\n    return escSteps",
    "id": "15ec0e12d37c4fd4853576687a4634d6",
    "idx": 19,
    "time": "2021-02-09T01:51:21.702Z",
    "type": "execution"
   },
   {
    "id": "15ec0e12d37c4fd4853576687a4634d6",
    "time": "2021-02-09T01:51:21.769Z",
    "type": "completion"
   },
   {
    "code": "trials = 1000\nz = 100\nescSamps = sampleEscapeTraj(trials, z)",
    "id": "aeae959941cb46f88eda981eecda3f8c",
    "idx": 20,
    "time": "2021-02-09T01:51:23.460Z",
    "type": "execution"
   },
   {
    "code": "fig, ax = plt.subplots()\n\nnum_bins = 30\nn, bins, patches = ax.hist(escSamps, num_bins)\nax.set_ylabel(\"Counts\")\nax.set_xlabel(\"Steps to $z$\")\nplt.show()\nplt.close()",
    "id": "3b825f4c6bc84ef881373ab7d428b1ef",
    "idx": 22,
    "time": "2021-02-09T01:51:30.970Z",
    "type": "execution"
   },
   {
    "code": "trials = 10\nz = 100\nescSamps = sampleEscapeTraj(trials, z)",
    "id": "aeae959941cb46f88eda981eecda3f8c",
    "idx": 20,
    "time": "2021-02-09T01:52:36.293Z",
    "type": "execution"
   },
   {
    "id": "3b825f4c6bc84ef881373ab7d428b1ef",
    "time": "2021-02-09T01:52:38.658Z",
    "type": "completion"
   },
   {
    "id": "aeae959941cb46f88eda981eecda3f8c",
    "time": "2021-02-09T01:52:39.560Z",
    "type": "completion"
   },
   {
    "id": "aeae959941cb46f88eda981eecda3f8c",
    "time": "2021-02-09T01:52:39.560Z",
    "type": "completion"
   },
   {
    "code": "fig, ax = plt.subplots()\n\nnum_bins = 30\nn, bins, patches = ax.hist(escSamps, num_bins)\nax.set_ylabel(\"Counts\")\nax.set_xlabel(\"Steps to $z$\")\nplt.show()\nplt.close()",
    "id": "3b825f4c6bc84ef881373ab7d428b1ef",
    "idx": 22,
    "time": "2021-02-09T01:52:59.832Z",
    "type": "execution"
   },
   {
    "id": "3b825f4c6bc84ef881373ab7d428b1ef",
    "time": "2021-02-09T01:53:00.150Z",
    "type": "completion"
   },
   {
    "code": "trials = 1000\nz = 100\nescSamps = sampleEscapeTraj(trials, z)",
    "id": "aeae959941cb46f88eda981eecda3f8c",
    "idx": 20,
    "time": "2021-02-09T01:53:12.336Z",
    "type": "execution"
   },
   {
    "code": "fig, ax = plt.subplots()\n\nnum_bins = 30\nn, bins, patches = ax.hist(escSamps, num_bins)\nax.set_ylabel(\"Counts\")\nax.set_xlabel(\"Steps to $z$\")\nplt.show()\nplt.close()",
    "id": "3b825f4c6bc84ef881373ab7d428b1ef",
    "idx": 22,
    "time": "2021-02-09T01:53:14.360Z",
    "type": "execution"
   },
   {
    "code": "fig, ax = plt.subplots()\n\nnum_bins = 30\nn, bins, patches = ax.hist(escSamps, num_bins)\nax.set_ylabel(\"Counts\")\nax.set_xlabel(\"Steps to $z$\")\nplt.show()\nplt.close()",
    "id": "3b825f4c6bc84ef881373ab7d428b1ef",
    "idx": 22,
    "time": "2021-02-09T01:54:13.290Z",
    "type": "execution"
   },
   {
    "id": "aeae959941cb46f88eda981eecda3f8c",
    "time": "2021-02-09T01:54:26.902Z",
    "type": "completion"
   },
   {
    "id": "3b825f4c6bc84ef881373ab7d428b1ef",
    "time": "2021-02-09T01:54:27.439Z",
    "type": "completion"
   },
   {
    "id": "3b825f4c6bc84ef881373ab7d428b1ef",
    "time": "2021-02-09T01:54:27.440Z",
    "type": "completion"
   },
   {
    "code": "trials = 100\nz = 100\nescSamps = sampleEscapeTraj(trials, z)",
    "id": "aeae959941cb46f88eda981eecda3f8c",
    "idx": 20,
    "time": "2021-02-09T01:57:01.564Z",
    "type": "execution"
   },
   {
    "code": "fig, ax = plt.subplots()\n\nnum_bins = 30\nn, bins, patches = ax.hist(escSamps, num_bins)\nax.set_ylabel(\"Counts\")\nax.set_xlabel(\"Steps to $z$\")\nplt.show()\nplt.close()",
    "id": "3b825f4c6bc84ef881373ab7d428b1ef",
    "idx": 22,
    "time": "2021-02-09T01:57:04.931Z",
    "type": "execution"
   },
   {
    "id": "aeae959941cb46f88eda981eecda3f8c",
    "time": "2021-02-09T01:57:09.777Z",
    "type": "completion"
   },
   {
    "id": "3b825f4c6bc84ef881373ab7d428b1ef",
    "time": "2021-02-09T01:57:10.034Z",
    "type": "completion"
   },
   {
    "code": "print(np.mean(escSamps))",
    "id": "baa5fd01ae63480f8a258a85ab03b3a6",
    "idx": 25,
    "time": "2021-02-09T02:03:58.605Z",
    "type": "execution"
   },
   {
    "id": "baa5fd01ae63480f8a258a85ab03b3a6",
    "time": "2021-02-09T02:03:58.684Z",
    "type": "completion"
   },
   {
    "code": "trials = 100\nz = 100\nescSamps = sampleEscapeTraj(trials, z)",
    "id": "aeae959941cb46f88eda981eecda3f8c",
    "idx": 20,
    "time": "2021-02-09T02:04:29.505Z",
    "type": "execution"
   },
   {
    "code": "fig, ax = plt.subplots()\n\nnum_bins = 30\nn, bins, patches = ax.hist(escSamps, num_bins)\nax.set_ylabel(\"Counts\")\nax.set_xlabel(\"Steps to $z$\")\nplt.show()\nplt.close()",
    "id": "3b825f4c6bc84ef881373ab7d428b1ef",
    "idx": 22,
    "time": "2021-02-09T02:04:31.033Z",
    "type": "execution"
   },
   {
    "code": "print(np.mean(escSamps))",
    "id": "baa5fd01ae63480f8a258a85ab03b3a6",
    "idx": 24,
    "time": "2021-02-09T02:04:35.360Z",
    "type": "execution"
   },
   {
    "id": "aeae959941cb46f88eda981eecda3f8c",
    "time": "2021-02-09T02:04:40.599Z",
    "type": "completion"
   },
   {
    "id": "3b825f4c6bc84ef881373ab7d428b1ef",
    "time": "2021-02-09T02:04:40.616Z",
    "type": "completion"
   },
   {
    "id": "baa5fd01ae63480f8a258a85ab03b3a6",
    "time": "2021-02-09T02:04:40.639Z",
    "type": "completion"
   },
   {
    "code": "#Function that samples M number of trajectories, stopping when a walker reaches a distance z away from the origin\n#Inputs: Number of trials, distance to the edge\n#Outputs: List of integers for the number of steps taken until reaching a distance z\ndef sampleEscapeTraj(trials, z):\n    escSteps = np.zeros(trials)\n    for i in range(trials):\n        stepNum = 0\n        curPos = 0\n        while abs(curPos)!=z:\n            curPos += np.random.choice([-1, 1])\n            stepNum += 1\n        escSteps[i] = stepNum\n    return escSteps",
    "id": "15ec0e12d37c4fd4853576687a4634d6",
    "idx": 19,
    "time": "2021-02-09T02:04:54.970Z",
    "type": "execution"
   },
   {
    "id": "15ec0e12d37c4fd4853576687a4634d6",
    "time": "2021-02-09T02:04:55.027Z",
    "type": "completion"
   },
   {
    "code": "trials = 100\nz = 100\nescSamps = sampleEscapeTraj(trials, z)",
    "id": "aeae959941cb46f88eda981eecda3f8c",
    "idx": 20,
    "time": "2021-02-09T02:04:55.648Z",
    "type": "execution"
   },
   {
    "code": "fig, ax = plt.subplots()\n\nnum_bins = 30\nn, bins, patches = ax.hist(escSamps, num_bins)\nax.set_ylabel(\"Counts\")\nax.set_xlabel(\"Steps to $z$\")\nplt.show()\nplt.close()",
    "id": "3b825f4c6bc84ef881373ab7d428b1ef",
    "idx": 22,
    "time": "2021-02-09T02:04:57.636Z",
    "type": "execution"
   },
   {
    "code": "print(np.mean(escSamps))",
    "id": "baa5fd01ae63480f8a258a85ab03b3a6",
    "idx": 24,
    "time": "2021-02-09T02:05:00.970Z",
    "type": "execution"
   },
   {
    "id": "aeae959941cb46f88eda981eecda3f8c",
    "time": "2021-02-09T02:05:02.664Z",
    "type": "completion"
   },
   {
    "id": "3b825f4c6bc84ef881373ab7d428b1ef",
    "time": "2021-02-09T02:05:02.984Z",
    "type": "completion"
   },
   {
    "id": "baa5fd01ae63480f8a258a85ab03b3a6",
    "time": "2021-02-09T02:05:02.989Z",
    "type": "completion"
   },
   {
    "code": "trials = 100\nz = 10\nescSamps = sampleEscapeTraj(trials, z)",
    "id": "aeae959941cb46f88eda981eecda3f8c",
    "idx": 20,
    "time": "2021-02-09T02:05:21.597Z",
    "type": "execution"
   },
   {
    "id": "aeae959941cb46f88eda981eecda3f8c",
    "time": "2021-02-09T02:05:21.736Z",
    "type": "completion"
   },
   {
    "code": "fig, ax = plt.subplots()\n\nnum_bins = 30\nn, bins, patches = ax.hist(escSamps, num_bins)\nax.set_ylabel(\"Counts\")\nax.set_xlabel(\"Steps to $z$\")\nplt.show()\nplt.close()",
    "id": "3b825f4c6bc84ef881373ab7d428b1ef",
    "idx": 22,
    "time": "2021-02-09T02:05:23.783Z",
    "type": "execution"
   },
   {
    "id": "3b825f4c6bc84ef881373ab7d428b1ef",
    "time": "2021-02-09T02:05:24.104Z",
    "type": "completion"
   },
   {
    "code": "print(np.mean(escSamps))",
    "id": "baa5fd01ae63480f8a258a85ab03b3a6",
    "idx": 24,
    "time": "2021-02-09T02:05:27.109Z",
    "type": "execution"
   },
   {
    "id": "baa5fd01ae63480f8a258a85ab03b3a6",
    "time": "2021-02-09T02:05:27.193Z",
    "type": "completion"
   },
   {
    "code": "trials = 100\nz = 200\nescSamps = sampleEscapeTraj(trials, z)",
    "id": "aeae959941cb46f88eda981eecda3f8c",
    "idx": 20,
    "time": "2021-02-09T02:06:07.793Z",
    "type": "execution"
   },
   {
    "code": "fig, ax = plt.subplots()\n\nnum_bins = 30\nn, bins, patches = ax.hist(escSamps, num_bins)\nax.set_ylabel(\"Counts\")\nax.set_xlabel(\"Steps to $z$\")\nplt.show()\nplt.close()",
    "id": "3b825f4c6bc84ef881373ab7d428b1ef",
    "idx": 22,
    "time": "2021-02-09T02:06:10.129Z",
    "type": "execution"
   },
   {
    "code": "print(np.mean(escSamps))",
    "id": "baa5fd01ae63480f8a258a85ab03b3a6",
    "idx": 24,
    "time": "2021-02-09T02:06:12.528Z",
    "type": "execution"
   },
   {
    "code": "test_z = [2, 4, 6, 8, 10, 12, 14, 16, 18, 20]\nmeanEsc = np.zeros(len(test_z))\nfor i in range(len(test_z)):\n    meanEsc[i] = np.mean(sampleEscapeTraj(trials, test_z[i]))",
    "id": "c92d1ee6507c4d8289dac35e4a0892bc",
    "idx": 26,
    "time": "2021-02-09T02:06:31.617Z",
    "type": "execution"
   },
   {
    "id": "aeae959941cb46f88eda981eecda3f8c",
    "time": "2021-02-09T02:06:35.859Z",
    "type": "completion"
   },
   {
    "id": "3b825f4c6bc84ef881373ab7d428b1ef",
    "time": "2021-02-09T02:06:36.131Z",
    "type": "completion"
   },
   {
    "id": "baa5fd01ae63480f8a258a85ab03b3a6",
    "time": "2021-02-09T02:06:36.173Z",
    "type": "completion"
   },
   {
    "id": "c92d1ee6507c4d8289dac35e4a0892bc",
    "time": "2021-02-09T02:06:37.283Z",
    "type": "completion"
   },
   {
    "code": "trials = 100\nz = 100\nescSamps = sampleEscapeTraj(trials, z)",
    "id": "aeae959941cb46f88eda981eecda3f8c",
    "idx": 20,
    "time": "2021-02-09T02:06:49.179Z",
    "type": "execution"
   },
   {
    "code": "fig, ax = plt.subplots()\n\nnum_bins = 30\nn, bins, patches = ax.hist(escSamps, num_bins)\nax.set_ylabel(\"Counts\")\nax.set_xlabel(\"Steps to $z$\")\nplt.show()\nplt.close()",
    "id": "3b825f4c6bc84ef881373ab7d428b1ef",
    "idx": 22,
    "time": "2021-02-09T02:06:54.323Z",
    "type": "execution"
   },
   {
    "code": "print(np.mean(escSamps))",
    "id": "baa5fd01ae63480f8a258a85ab03b3a6",
    "idx": 24,
    "time": "2021-02-09T02:06:56.754Z",
    "type": "execution"
   },
   {
    "id": "aeae959941cb46f88eda981eecda3f8c",
    "time": "2021-02-09T02:06:56.806Z",
    "type": "completion"
   },
   {
    "id": "3b825f4c6bc84ef881373ab7d428b1ef",
    "time": "2021-02-09T02:06:57.093Z",
    "type": "completion"
   },
   {
    "id": "baa5fd01ae63480f8a258a85ab03b3a6",
    "time": "2021-02-09T02:06:57.133Z",
    "type": "completion"
   },
   {
    "code": "trials = 1000\nz = 10\nescSamps = sampleEscapeTraj(trials, z)",
    "id": "aeae959941cb46f88eda981eecda3f8c",
    "idx": 20,
    "time": "2021-02-09T02:07:29.289Z",
    "type": "execution"
   },
   {
    "id": "aeae959941cb46f88eda981eecda3f8c",
    "time": "2021-02-09T02:07:30.070Z",
    "type": "completion"
   },
   {
    "code": "fig, ax = plt.subplots()\n\nnum_bins = 30\nn, bins, patches = ax.hist(escSamps, num_bins)\nax.set_ylabel(\"Counts\")\nax.set_xlabel(\"Steps to $z$\")\nplt.show()\nplt.close()",
    "id": "3b825f4c6bc84ef881373ab7d428b1ef",
    "idx": 22,
    "time": "2021-02-09T02:07:33.907Z",
    "type": "execution"
   },
   {
    "id": "3b825f4c6bc84ef881373ab7d428b1ef",
    "time": "2021-02-09T02:07:34.226Z",
    "type": "completion"
   },
   {
    "code": "trials = 5000\nz = 10\nescSamps = sampleEscapeTraj(trials, z)",
    "id": "aeae959941cb46f88eda981eecda3f8c",
    "idx": 20,
    "time": "2021-02-09T02:08:15.314Z",
    "type": "execution"
   },
   {
    "code": "fig, ax = plt.subplots()\n\nnum_bins = 30\nn, bins, patches = ax.hist(escSamps, num_bins)\nax.set_ylabel(\"Counts\")\nax.set_xlabel(\"Steps to $z$\")\nplt.show()\nplt.close()",
    "id": "3b825f4c6bc84ef881373ab7d428b1ef",
    "idx": 22,
    "time": "2021-02-09T02:08:17.515Z",
    "type": "execution"
   },
   {
    "id": "aeae959941cb46f88eda981eecda3f8c",
    "time": "2021-02-09T02:08:19.080Z",
    "type": "completion"
   },
   {
    "id": "3b825f4c6bc84ef881373ab7d428b1ef",
    "time": "2021-02-09T02:08:19.339Z",
    "type": "completion"
   },
   {
    "code": "print(np.mean(escSamps))",
    "id": "baa5fd01ae63480f8a258a85ab03b3a6",
    "idx": 24,
    "time": "2021-02-09T02:08:23.273Z",
    "type": "execution"
   },
   {
    "id": "baa5fd01ae63480f8a258a85ab03b3a6",
    "time": "2021-02-09T02:08:23.342Z",
    "type": "completion"
   },
   {
    "code": "#Function that samples M number of trajectories, stopping when a walker reaches a distance r away from the origin\n#Inputs: Number of trials, distance to the edge\n#Outputs: List of integers for the number of steps taken until reaching a distance r\n#In each time interval there is a random step of length $1/\\sqrt{3}$ \ndef sampleEscapeTraj(trials, z):\n    escSteps = np.zeros(trials)\n    for i in range(trials):\n        stepNum = 0\n        curPos = 0\n        while abs(curPos)!=z:\n            curPos += np.random.choice([-1, 1])\n            stepNum += 1\n        escSteps[i] = stepNum\n    return escSteps",
    "id": "47e5c7c23c6a438d9c20d1ff91ddf749",
    "idx": 31,
    "time": "2021-02-09T03:34:43.602Z",
    "type": "execution"
   },
   {
    "id": "47e5c7c23c6a438d9c20d1ff91ddf749",
    "time": "2021-02-09T03:34:43.711Z",
    "type": "completion"
   },
   {
    "code": "#Function that samples M number of trajectories, stopping when a walker reaches a distance r away from the origin\n#Inputs: Number of trials, distance to the edge\n#Outputs: List of integers for the number of steps taken until reaching a distance r\n#In each time interval there is a random step of length 1/sqrt(3) in x,y,and z. \ndef sampleEscapeTraj(trials, r):\n    rescSteps = np.zeros(trials)\n    for i in range(trials):\n        stepNum = 0\n        x = 0\n        y = 0 \n        z = 0\n        while (x**2+y**2+z**2 < r**2):\n            x += np.random.choice([-1, 1])/sqrt(3)\n            y += np.random.choice([-1, 1])/sqrt(3)\n            z += np.random.choice([-1, 1])/sqrt(3)\n            stepNum += 1\n        rescSteps[i] = stepNum\n    return rescSteps",
    "id": "47e5c7c23c6a438d9c20d1ff91ddf749",
    "idx": 31,
    "time": "2021-02-09T03:43:39.297Z",
    "type": "execution"
   },
   {
    "id": "47e5c7c23c6a438d9c20d1ff91ddf749",
    "time": "2021-02-09T03:43:39.374Z",
    "type": "completion"
   },
   {
    "code": "trials = 5000\nr = 10\nrescSamps = sampleEscapeTraj(trials, r)",
    "id": "d1ba13e6c95440088cb794bf560b6454",
    "idx": 32,
    "time": "2021-02-09T03:43:40.604Z",
    "type": "execution"
   },
   {
    "id": "d1ba13e6c95440088cb794bf560b6454",
    "time": "2021-02-09T03:43:40.746Z",
    "type": "completion"
   },
   {
    "code": "#Function that samples M number of trajectories, stopping when a walker reaches a distance r away from the origin\n#Inputs: Number of trials, distance to the edge\n#Outputs: List of integers for the number of steps taken until reaching a distance r\n#In each time interval there is a random step of length 1/sqrt(3) in x,y,and z. \ndef sampleEscapeTraj(trials, r):\n    rescSteps = np.zeros(trials)\n    for i in range(trials):\n        stepNum = 0\n        x = 0\n        y = 0 \n        z = 0\n        while (x**2+y**2+z**2 < r**2):\n            x += np.random.choice([-1, 1])/np.sqrt(3)\n            y += np.random.choice([-1, 1])/np.sqrt(3)\n            z += np.random.choice([-1, 1])/np.sqrt(3)\n            stepNum += 1\n        rescSteps[i] = stepNum\n    return rescSteps",
    "id": "47e5c7c23c6a438d9c20d1ff91ddf749",
    "idx": 31,
    "time": "2021-02-09T03:44:51.331Z",
    "type": "execution"
   },
   {
    "id": "47e5c7c23c6a438d9c20d1ff91ddf749",
    "time": "2021-02-09T03:44:51.404Z",
    "type": "completion"
   },
   {
    "code": "#Function that samples M number of trajectories, stopping when a walker reaches a distance r away from the origin\n#Inputs: Number of trials, distance to the edge\n#Outputs: List of integers for the number of steps taken until reaching a distance r\n#In each time interval there is a random step of length 1/sqrt(3) in x,y,and z. \ndef sampleEscapeTraj(trials, r):\n    rescSteps = np.zeros(trials)\n    for i in range(trials):\n        stepNum = 0\n        x = 0\n        y = 0 \n        z = 0\n        while (x**2+y**2+z**2 < r**2):\n            x += np.random.choice([-1, 1])/np.sqrt(3)\n            y += np.random.choice([-1, 1])/np.sqrt(3)\n            z += np.random.choice([-1, 1])/np.sqrt(3)\n            stepNum += 1\n        rescSteps[i] = stepNum\n    return rescSteps",
    "id": "47e5c7c23c6a438d9c20d1ff91ddf749",
    "idx": 31,
    "time": "2021-02-09T03:44:55.317Z",
    "type": "execution"
   },
   {
    "id": "47e5c7c23c6a438d9c20d1ff91ddf749",
    "time": "2021-02-09T03:44:55.376Z",
    "type": "completion"
   },
   {
    "code": "import numpy as np\nimport scipy.stats as st\nimport matplotlib.pyplot as plt",
    "id": "f7e5311ff87248e3a891b84c9742bab7",
    "idx": 0,
    "time": "2021-02-09T03:45:05.803Z",
    "type": "execution"
   },
   {
    "id": "f7e5311ff87248e3a891b84c9742bab7",
    "time": "2021-02-09T03:45:06.697Z",
    "type": "completion"
   },
   {
    "code": "#Function that samples M number of trajectories, stopping when a walker reaches a distance r away from the origin\n#Inputs: Number of trials, distance to the edge\n#Outputs: List of integers for the number of steps taken until reaching a distance r\n#In each time interval there is a random step of length 1/sqrt(3) in x,y,and z. \ndef sampleEscapeTraj(trials, r):\n    rescSteps = np.zeros(trials)\n    for i in range(trials):\n        stepNum = 0\n        x = 0\n        y = 0 \n        z = 0\n        while (x**2+y**2+z**2 < r**2):\n            x += np.random.choice([-1, 1])/np.sqrt(3)\n            y += np.random.choice([-1, 1])/np.sqrt(3)\n            z += np.random.choice([-1, 1])/np.sqrt(3)\n            stepNum += 1\n        rescSteps[i] = stepNum\n    return rescSteps",
    "id": "47e5c7c23c6a438d9c20d1ff91ddf749",
    "idx": 31,
    "time": "2021-02-09T03:45:12.894Z",
    "type": "execution"
   },
   {
    "id": "47e5c7c23c6a438d9c20d1ff91ddf749",
    "time": "2021-02-09T03:45:12.954Z",
    "type": "completion"
   },
   {
    "code": "#Function that samples M number of trajectories, stopping when a walker reaches a distance r away from the origin\n#Inputs: Number of trials, distance to the edge\n#Outputs: List of integers for the number of steps taken until reaching a distance r\n#In each time interval there is a random step of length 1/sqrt(3) in x,y,and z. \ndef sampleEscapeTraj(trials, r):\n    rescSteps = np.zeros(trials)\n    for i in range(trials):\n        stepNum = 0\n        x = 0\n        y = 0 \n        z = 0\n        while (x**2+y**2+z**2 < r**2):\n            x += np.random.choice([-1, 1])/np.sqrt(3)\n            y += np.random.choice([-1, 1])/np.sqrt(3)\n            z += np.random.choice([-1, 1])/np.sqrt(3)\n            stepNum += 1\n        rescSteps[i] = stepNum\n    return rescSteps",
    "id": "47e5c7c23c6a438d9c20d1ff91ddf749",
    "idx": 31,
    "time": "2021-02-09T03:45:22.125Z",
    "type": "execution"
   },
   {
    "id": "47e5c7c23c6a438d9c20d1ff91ddf749",
    "time": "2021-02-09T03:45:22.186Z",
    "type": "completion"
   },
   {
    "code": "trials = 5000\nr = 10\nrescSamps = sampleEscapeTraj(trials, r)",
    "id": "d1ba13e6c95440088cb794bf560b6454",
    "idx": 32,
    "time": "2021-02-09T03:45:23.443Z",
    "type": "execution"
   },
   {
    "code": "fig, ax = plt.subplots()\n\nnum_bins = 30\nn, bins, patches = ax.hist(rescSamps, num_bins)\nax.set_ylabel(\"Counts\")\nax.set_xlabel(\"Steps to $r$\")\nplt.show()\nplt.close()",
    "id": "402226077bb041b593a014d60ad09015",
    "idx": 33,
    "time": "2021-02-09T03:45:25.472Z",
    "type": "execution"
   },
   {
    "id": "d1ba13e6c95440088cb794bf560b6454",
    "time": "2021-02-09T03:45:45.783Z",
    "type": "completion"
   },
   {
    "id": "402226077bb041b593a014d60ad09015",
    "time": "2021-02-09T03:45:46.231Z",
    "type": "completion"
   },
   {
    "code": "print(np.mean(escSamps))",
    "id": "ae7484e2e2184d948918bd6a5b3918dd",
    "idx": 34,
    "time": "2021-02-09T03:45:56.995Z",
    "type": "execution"
   },
   {
    "id": "ae7484e2e2184d948918bd6a5b3918dd",
    "time": "2021-02-09T03:45:57.134Z",
    "type": "completion"
   },
   {
    "code": "print(np.mean(rescSamps))",
    "id": "ae7484e2e2184d948918bd6a5b3918dd",
    "idx": 34,
    "time": "2021-02-09T03:46:05.705Z",
    "type": "execution"
   },
   {
    "id": "ae7484e2e2184d948918bd6a5b3918dd",
    "time": "2021-02-09T03:46:05.775Z",
    "type": "completion"
   },
   {
    "code": "trials = 1000\nr = 10\nrescSamps = sampleEscapeTraj(trials, r)",
    "id": "d1ba13e6c95440088cb794bf560b6454",
    "idx": 32,
    "time": "2021-02-09T03:46:43.963Z",
    "type": "execution"
   },
   {
    "code": "fig, ax = plt.subplots()\n\nnum_bins = 30\nn, bins, patches = ax.hist(rescSamps, num_bins)\nax.set_ylabel(\"Counts\")\nax.set_xlabel(\"Steps to $r$\")\nplt.show()\nplt.close()",
    "id": "402226077bb041b593a014d60ad09015",
    "idx": 33,
    "time": "2021-02-09T03:46:46.561Z",
    "type": "execution"
   },
   {
    "id": "d1ba13e6c95440088cb794bf560b6454",
    "time": "2021-02-09T03:46:48.291Z",
    "type": "completion"
   },
   {
    "id": "402226077bb041b593a014d60ad09015",
    "time": "2021-02-09T03:46:48.554Z",
    "type": "completion"
   },
   {
    "code": "print(np.mean(rescSamps))",
    "id": "ae7484e2e2184d948918bd6a5b3918dd",
    "idx": 34,
    "time": "2021-02-09T03:46:49.679Z",
    "type": "execution"
   },
   {
    "id": "ae7484e2e2184d948918bd6a5b3918dd",
    "time": "2021-02-09T03:46:49.736Z",
    "type": "completion"
   },
   {
    "code": "trials = 1000\nr = 20\nrescSamps = sampleEscapeTraj(trials, r)",
    "id": "d1ba13e6c95440088cb794bf560b6454",
    "idx": 32,
    "time": "2021-02-09T03:47:05.309Z",
    "type": "execution"
   },
   {
    "code": "fig, ax = plt.subplots()\n\nnum_bins = 30\nn, bins, patches = ax.hist(rescSamps, num_bins)\nax.set_ylabel(\"Counts\")\nax.set_xlabel(\"Steps to $r$\")\nplt.show()\nplt.close()",
    "id": "402226077bb041b593a014d60ad09015",
    "idx": 33,
    "time": "2021-02-09T03:47:06.518Z",
    "type": "execution"
   },
   {
    "code": "print(np.mean(rescSamps))",
    "id": "ae7484e2e2184d948918bd6a5b3918dd",
    "idx": 34,
    "time": "2021-02-09T03:47:09.820Z",
    "type": "execution"
   },
   {
    "id": "d1ba13e6c95440088cb794bf560b6454",
    "time": "2021-02-09T03:47:24.527Z",
    "type": "completion"
   },
   {
    "id": "402226077bb041b593a014d60ad09015",
    "time": "2021-02-09T03:47:24.807Z",
    "type": "completion"
   },
   {
    "id": "ae7484e2e2184d948918bd6a5b3918dd",
    "time": "2021-02-09T03:47:24.837Z",
    "type": "completion"
   },
   {
    "code": "#Function that samples M number of trajectories, stopping when a walker reaches a distance r away from the origin\n#Inputs: Number of trials, distance to the edge\n#Outputs: List of integers for the number of steps taken until reaching a distance r\n#In each time interval there is a random step of length 1/sqrt(3) in x,y,and z. \ndef sampleEscapeTraj(trials, r):\n    rescSteps = np.zeros(trials)\n    for i in range(trials):\n        stepNum = 0\n        x = 0\n        y = 0 \n        z = 0\n        while ((x**2+y**2+z**2) < r**2):\n            x += np.random.choice([-1, 1])/np.sqrt(3)\n            y += np.random.choice([-1, 1])/np.sqrt(3)\n            z += np.random.choice([-1, 1])/np.sqrt(3)\n            stepNum += 1\n        rescSteps[i] = stepNum\n    return rescSteps",
    "id": "47e5c7c23c6a438d9c20d1ff91ddf749",
    "idx": 31,
    "time": "2021-02-09T03:48:32.701Z",
    "type": "execution"
   },
   {
    "id": "47e5c7c23c6a438d9c20d1ff91ddf749",
    "time": "2021-02-09T03:48:32.772Z",
    "type": "completion"
   },
   {
    "code": "trials = 1000\nr = 4\nrescSamps = sampleEscapeTraj(trials, r)",
    "id": "d1ba13e6c95440088cb794bf560b6454",
    "idx": 32,
    "time": "2021-02-09T03:48:33.607Z",
    "type": "execution"
   },
   {
    "id": "d1ba13e6c95440088cb794bf560b6454",
    "time": "2021-02-09T03:48:34.392Z",
    "type": "completion"
   },
   {
    "code": "fig, ax = plt.subplots()\n\nnum_bins = 30\nn, bins, patches = ax.hist(rescSamps, num_bins)\nax.set_ylabel(\"Counts\")\nax.set_xlabel(\"Steps to $r$\")\nplt.show()\nplt.close()",
    "id": "402226077bb041b593a014d60ad09015",
    "idx": 33,
    "time": "2021-02-09T03:48:35.926Z",
    "type": "execution"
   },
   {
    "id": "402226077bb041b593a014d60ad09015",
    "time": "2021-02-09T03:48:36.261Z",
    "type": "completion"
   },
   {
    "code": "print(np.mean(rescSamps))",
    "id": "ae7484e2e2184d948918bd6a5b3918dd",
    "idx": 34,
    "time": "2021-02-09T03:48:42.322Z",
    "type": "execution"
   },
   {
    "id": "ae7484e2e2184d948918bd6a5b3918dd",
    "time": "2021-02-09T03:48:43.158Z",
    "type": "completion"
   },
   {
    "code": "print(np.median(resecSamps))",
    "id": "4bc60c843f2d4b0a98d0875ccea38a94",
    "idx": 35,
    "time": "2021-02-09T03:49:46.793Z",
    "type": "execution"
   },
   {
    "id": "4bc60c843f2d4b0a98d0875ccea38a94",
    "time": "2021-02-09T03:49:46.863Z",
    "type": "completion"
   },
   {
    "code": "print(np.median(rescSamps))",
    "id": "4bc60c843f2d4b0a98d0875ccea38a94",
    "idx": 35,
    "time": "2021-02-09T03:50:02.676Z",
    "type": "execution"
   },
   {
    "id": "4bc60c843f2d4b0a98d0875ccea38a94",
    "time": "2021-02-09T03:50:02.736Z",
    "type": "completion"
   },
   {
    "code": "trials = 1000\nr = 10\nrescSamps = sampleEscapeTraj(trials, r)",
    "id": "d1ba13e6c95440088cb794bf560b6454",
    "idx": 32,
    "time": "2021-02-09T03:51:21.868Z",
    "type": "execution"
   },
   {
    "code": "fig, ax = plt.subplots()\n\nnum_bins = 30\nn, bins, patches = ax.hist(rescSamps, num_bins)\nax.set_ylabel(\"Counts\")\nax.set_xlabel(\"Steps to $r$\")\nplt.show()\nplt.close()",
    "id": "402226077bb041b593a014d60ad09015",
    "idx": 33,
    "time": "2021-02-09T03:51:23.719Z",
    "type": "execution"
   },
   {
    "code": "print(np.mean(rescSamps))",
    "id": "ae7484e2e2184d948918bd6a5b3918dd",
    "idx": 34,
    "time": "2021-02-09T03:51:24.902Z",
    "type": "execution"
   },
   {
    "code": "print(np.median(rescSamps))",
    "id": "4bc60c843f2d4b0a98d0875ccea38a94",
    "idx": 35,
    "time": "2021-02-09T03:51:25.746Z",
    "type": "execution"
   },
   {
    "id": "d1ba13e6c95440088cb794bf560b6454",
    "time": "2021-02-09T03:51:26.233Z",
    "type": "completion"
   },
   {
    "id": "402226077bb041b593a014d60ad09015",
    "time": "2021-02-09T03:51:26.506Z",
    "type": "completion"
   },
   {
    "id": "ae7484e2e2184d948918bd6a5b3918dd",
    "time": "2021-02-09T03:51:26.539Z",
    "type": "completion"
   },
   {
    "id": "4bc60c843f2d4b0a98d0875ccea38a94",
    "time": "2021-02-09T03:51:26.542Z",
    "type": "completion"
   },
   {
    "code": "print(np.mean(escSamps))\nprint(np.median(escSamps))",
    "id": "baa5fd01ae63480f8a258a85ab03b3a6",
    "idx": 24,
    "time": "2021-02-09T03:53:25.038Z",
    "type": "execution"
   },
   {
    "id": "baa5fd01ae63480f8a258a85ab03b3a6",
    "time": "2021-02-09T03:53:25.203Z",
    "type": "completion"
   },
   {
    "code": "#Function that samples M number of trajectories, stopping when a walker reaches a distance z away from the origin\n#Inputs: Number of trials, distance to the edge\n#Outputs: List of integers for the number of steps taken until reaching a distance z\ndef sampleEscapeTraj(trials, z):\n    escSteps = np.zeros(trials)\n    for i in range(trials):\n        stepNum = 0\n        curPos = 0\n        while abs(curPos)!=z:\n            curPos += np.random.choice([-1, 1])\n            stepNum += 1\n        escSteps[i] = stepNum\n    return escSteps",
    "id": "15ec0e12d37c4fd4853576687a4634d6",
    "idx": 19,
    "time": "2021-02-09T03:53:46.813Z",
    "type": "execution"
   },
   {
    "id": "15ec0e12d37c4fd4853576687a4634d6",
    "time": "2021-02-09T03:53:46.981Z",
    "type": "completion"
   },
   {
    "code": "trials = 5000\nz = 10\nescSamps = sampleEscapeTraj(trials, z)",
    "id": "aeae959941cb46f88eda981eecda3f8c",
    "idx": 20,
    "time": "2021-02-09T03:53:47.584Z",
    "type": "execution"
   },
   {
    "code": "fig, ax = plt.subplots()\n\nnum_bins = 30\nn, bins, patches = ax.hist(escSamps, num_bins)\nax.set_ylabel(\"Counts\")\nax.set_xlabel(\"Steps to $z$\")\nplt.show()\nplt.close()",
    "id": "3b825f4c6bc84ef881373ab7d428b1ef",
    "idx": 22,
    "time": "2021-02-09T03:53:50.192Z",
    "type": "execution"
   },
   {
    "id": "aeae959941cb46f88eda981eecda3f8c",
    "time": "2021-02-09T03:53:51.091Z",
    "type": "completion"
   },
   {
    "id": "3b825f4c6bc84ef881373ab7d428b1ef",
    "time": "2021-02-09T03:53:51.420Z",
    "type": "completion"
   },
   {
    "code": "print(np.mean(escSamps))\nprint(np.median(escSamps))",
    "id": "baa5fd01ae63480f8a258a85ab03b3a6",
    "idx": 24,
    "time": "2021-02-09T03:53:53.757Z",
    "type": "execution"
   },
   {
    "id": "baa5fd01ae63480f8a258a85ab03b3a6",
    "time": "2021-02-09T03:53:53.851Z",
    "type": "completion"
   },
   {
    "code": "fig, ax = plt.subplots()\n\nnum_bins = 50\nn, bins, patches = ax.hist(samps, num_bins)\nx = np.arange(np.min(samps), np.max(samps), 2)\nx_range = np.max(samps) -np.min(samps)\nax.plot(x, (x_range/(2*num_bins))*trials*st.binom.pmf((x+steps)/2, steps, probR, loc=0), 'r-', label='Binomial p.d.f.')\nax.set_ylabel(\"Counts\")\nax.set_xlabel(\"Net Displacement\")\nax.legend()\nplt.show()\nplt.close()",
    "id": "e4ed722ab85b407d963938656f3f3238",
    "idx": 9,
    "time": "2021-02-09T04:06:17.032Z",
    "type": "execution"
   },
   {
    "id": "e4ed722ab85b407d963938656f3f3238",
    "time": "2021-02-09T04:06:17.289Z",
    "type": "completion"
   },
   {
    "code": "print(np.mean(samps))\nprint(np.var(samps))",
    "id": "abc9e4886268418e8bf43fcf55ececf0",
    "idx": 10,
    "time": "2021-02-09T04:06:18.703Z",
    "type": "execution"
   },
   {
    "id": "abc9e4886268418e8bf43fcf55ececf0",
    "time": "2021-02-09T04:06:18.793Z",
    "type": "completion"
   },
   {
    "code": "trials = 10000\nsteps = 1000\nprobR = 0.5 #Probability of a +1 (or right) step\nsamps = sampleTrajectories(trials, steps, prob=probR)",
    "id": "c6c2c3f41355440a8c288473860c15b5",
    "idx": 5,
    "time": "2021-02-09T04:06:37.437Z",
    "type": "execution"
   },
   {
    "id": "c6c2c3f41355440a8c288473860c15b5",
    "time": "2021-02-09T04:06:37.504Z",
    "type": "completion"
   },
   {
    "code": "#Function that samples M number of trajectories, with N number of steps per trial\n#Inputs: Number of trials, number of steps per trial\n#Outputs: List of locations (integers) where the random walker stops at the end of all N steps of each trial\ndef sampleTrajectories(num_trials, num_steps, prob=0.5):\n    vals = np.zeros(num_trials, dtype=int)\n    for i in range(num_trials):\n        vals[i] = sum(np.random.choice([-1,1], p=[1-prob, prob], size=num_steps))\n    return vals",
    "id": "8bafbfe49d044c62877a5ae7b9df7451",
    "idx": 4,
    "time": "2021-02-09T04:06:47.863Z",
    "type": "execution"
   },
   {
    "id": "8bafbfe49d044c62877a5ae7b9df7451",
    "time": "2021-02-09T04:06:47.924Z",
    "type": "completion"
   },
   {
    "code": "trials = 10000\nsteps = 1000\nprobR = 0.5 #Probability of a +1 (or right) step\nsamps = sampleTrajectories(trials, steps, prob=probR)",
    "id": "c6c2c3f41355440a8c288473860c15b5",
    "idx": 5,
    "time": "2021-02-09T04:06:49.414Z",
    "type": "execution"
   },
   {
    "id": "c6c2c3f41355440a8c288473860c15b5",
    "time": "2021-02-09T04:06:52.958Z",
    "type": "completion"
   },
   {
    "code": "We can plot the resulting distribution of ending distances.",
    "id": "8361d3729801407db7ea928c041b179e",
    "idx": 8,
    "time": "2021-02-09T04:06:59.041Z",
    "type": "execution"
   },
   {
    "id": "8361d3729801407db7ea928c041b179e",
    "time": "2021-02-09T04:06:59.120Z",
    "type": "completion"
   },
   {
    "code": "fig, ax = plt.subplots()\n\nnum_bins = 50\nn, bins, patches = ax.hist(samps, num_bins)\nx = np.arange(np.min(samps), np.max(samps), 2)\nx_range = np.max(samps) -np.min(samps)\nax.plot(x, (x_range/(2*num_bins))*trials*st.binom.pmf((x+steps)/2, steps, probR, loc=0), 'r-', label='Binomial p.d.f.')\nax.set_ylabel(\"Counts\")\nax.set_xlabel(\"Net Displacement\")\nax.legend()\nplt.show()\nplt.close()",
    "id": "e4ed722ab85b407d963938656f3f3238",
    "idx": 9,
    "time": "2021-02-09T04:07:00.679Z",
    "type": "execution"
   },
   {
    "id": "e4ed722ab85b407d963938656f3f3238",
    "time": "2021-02-09T04:07:01.199Z",
    "type": "completion"
   },
   {
    "code": "trials = 10000\nsteps = 1000\nprobR = 0.25 #Probability of a +1 (or right) step\nsamps = sampleTrajectories(trials, steps, prob=probR)",
    "id": "c6c2c3f41355440a8c288473860c15b5",
    "idx": 5,
    "time": "2021-02-09T04:07:45.131Z",
    "type": "execution"
   },
   {
    "id": "c6c2c3f41355440a8c288473860c15b5",
    "time": "2021-02-09T04:07:48.867Z",
    "type": "completion"
   },
   {
    "code": "trials = 10000\nsteps = 1000\nprobR = 0.25 #Probability of a +1 (or right) step\nsamps = sampleTrajectories(trials, steps, prob=probR)",
    "id": "c6c2c3f41355440a8c288473860c15b5",
    "idx": 5,
    "time": "2021-02-09T04:07:54.100Z",
    "type": "execution"
   },
   {
    "code": "We can plot the resulting distribution of ending distances.",
    "id": "8361d3729801407db7ea928c041b179e",
    "idx": 8,
    "time": "2021-02-09T04:07:56.069Z",
    "type": "execution"
   },
   {
    "code": "fig, ax = plt.subplots()\n\nnum_bins = 50\nn, bins, patches = ax.hist(samps, num_bins)\nx = np.arange(np.min(samps), np.max(samps), 2)\nx_range = np.max(samps) -np.min(samps)\nax.plot(x, (x_range/(2*num_bins))*trials*st.binom.pmf((x+steps)/2, steps, probR, loc=0), 'r-', label='Binomial p.d.f.')\nax.set_ylabel(\"Counts\")\nax.set_xlabel(\"Net Displacement\")\nax.legend()\nplt.show()\nplt.close()",
    "id": "e4ed722ab85b407d963938656f3f3238",
    "idx": 9,
    "time": "2021-02-09T04:07:57.013Z",
    "type": "execution"
   },
   {
    "id": "c6c2c3f41355440a8c288473860c15b5",
    "time": "2021-02-09T04:07:57.349Z",
    "type": "completion"
   },
   {
    "id": "8361d3729801407db7ea928c041b179e",
    "time": "2021-02-09T04:07:57.355Z",
    "type": "completion"
   },
   {
    "id": "e4ed722ab85b407d963938656f3f3238",
    "time": "2021-02-09T04:07:57.357Z",
    "type": "completion"
   },
   {
    "code": "print(np.mean(samps))\nprint(np.var(samps))",
    "id": "abc9e4886268418e8bf43fcf55ececf0",
    "idx": 10,
    "time": "2021-02-09T04:08:06.923Z",
    "type": "execution"
   },
   {
    "id": "abc9e4886268418e8bf43fcf55ececf0",
    "time": "2021-02-09T04:08:06.994Z",
    "type": "completion"
   },
   {
    "code": "fig, ax = plt.subplots()\n\nnum_bins = 50\nn, bins, patches = ax.hist(samps, num_bins)\nx = np.arange(np.min(samps), np.max(samps), 2)\nx_range = np.max(samps) -np.min(samps)\nax.plot(x, (x_range/(2*num_bins))*trials*st.binom.pmf((x+steps)/2, steps, probR, loc=0), 'r-', label='Binomial p.d.f.')\nax.set_ylabel(\"Counts\")\nax.set_xlabel(\"Net Displacement\")\nax.legend()\nplt.show()\nplt.close()",
    "id": "e4ed722ab85b407d963938656f3f3238",
    "idx": 9,
    "time": "2021-02-09T04:08:17.719Z",
    "type": "execution"
   },
   {
    "id": "e4ed722ab85b407d963938656f3f3238",
    "time": "2021-02-09T04:08:18.190Z",
    "type": "completion"
   },
   {
    "code": "fig, ax = plt.subplots()\n\nnum_bins = 50\nn, bins, patches = ax.hist(samps, num_bins)\nx = np.arange(np.min(samps), np.max(samps), 2)\nx_range = np.max(samps) -np.min(samps)\n#ax.plot(x, (x_range/(2*num_bins))*trials*st.binom.pmf((x+steps)/2, steps, probR, loc=0), 'r-', label='Binomial p.d.f.')\nax.set_ylabel(\"Counts\")\nax.set_xlabel(\"Net Displacement\")\nax.legend()\nplt.show()\nplt.close()",
    "id": "e4ed722ab85b407d963938656f3f3238",
    "idx": 7,
    "time": "2021-02-09T04:23:41.372Z",
    "type": "execution"
   },
   {
    "id": "e4ed722ab85b407d963938656f3f3238",
    "time": "2021-02-09T04:23:41.776Z",
    "type": "completion"
   },
   {
    "code": "fig, ax = plt.subplots()\n\nnum_bins = 50\nn, bins, patches = ax.hist(samps, num_bins)\nx = np.arange(np.min(samps), np.max(samps), 2)\nx_range = np.max(samps) -np.min(samps)\n#ax.plot(x, (x_range/(2*num_bins))*trials*st.binom.pmf((x+steps)/2, steps, probR, loc=0), 'r-', label='Binomial p.d.f.')\nax.set_ylabel(\"Counts\")\nax.set_xlabel(\"Net Displacement\")\n#ax.legend()\nplt.show()\nplt.close()",
    "id": "e4ed722ab85b407d963938656f3f3238",
    "idx": 7,
    "time": "2021-02-09T04:24:23.258Z",
    "type": "execution"
   },
   {
    "id": "e4ed722ab85b407d963938656f3f3238",
    "time": "2021-02-09T04:24:23.619Z",
    "type": "completion"
   },
   {
    "code": "trials = 10000\nsteps = 100\nprobR = 0.25 #Probability of a +1 (or right) step\nsamps = sampleTrajectories(trials, steps, prob=probR)",
    "id": "c6c2c3f41355440a8c288473860c15b5",
    "idx": 5,
    "time": "2021-02-09T04:24:46.050Z",
    "type": "execution"
   },
   {
    "id": "c6c2c3f41355440a8c288473860c15b5",
    "time": "2021-02-09T04:24:47.000Z",
    "type": "completion"
   },
   {
    "code": "fig, ax = plt.subplots()\n\nnum_bins = 50\nn, bins, patches = ax.hist(samps, num_bins)\nx = np.arange(np.min(samps), np.max(samps), 2)\nx_range = np.max(samps) -np.min(samps)\n#ax.plot(x, (x_range/(2*num_bins))*trials*st.binom.pmf((x+steps)/2, steps, probR, loc=0), 'r-', label='Binomial p.d.f.')\nax.set_ylabel(\"Counts\")\nax.set_xlabel(\"Net Displacement\")\n#ax.legend()\nplt.show()\nplt.close()",
    "id": "e4ed722ab85b407d963938656f3f3238",
    "idx": 7,
    "time": "2021-02-09T04:24:49.400Z",
    "type": "execution"
   },
   {
    "id": "e4ed722ab85b407d963938656f3f3238",
    "time": "2021-02-09T04:24:49.769Z",
    "type": "completion"
   },
   {
    "code": "trials = 10000\nsteps = 1000\nprobR = 0.25 #Probability of a +1 (or right) step\nsamps = sampleTrajectories(trials, steps, prob=probR)",
    "id": "c6c2c3f41355440a8c288473860c15b5",
    "idx": 5,
    "time": "2021-02-09T04:25:07.802Z",
    "type": "execution"
   },
   {
    "code": "fig, ax = plt.subplots()\n\nnum_bins = 50\nn, bins, patches = ax.hist(samps, num_bins)\nx = np.arange(np.min(samps), np.max(samps), 2)\nx_range = np.max(samps) -np.min(samps)\n#ax.plot(x, (x_range/(2*num_bins))*trials*st.binom.pmf((x+steps)/2, steps, probR, loc=0), 'r-', label='Binomial p.d.f.')\nax.set_ylabel(\"Counts\")\nax.set_xlabel(\"Net Displacement\")\n#ax.legend()\nplt.show()\nplt.close()",
    "id": "e4ed722ab85b407d963938656f3f3238",
    "idx": 7,
    "time": "2021-02-09T04:25:10.650Z",
    "type": "execution"
   },
   {
    "id": "c6c2c3f41355440a8c288473860c15b5",
    "time": "2021-02-09T04:25:11.093Z",
    "type": "completion"
   },
   {
    "id": "e4ed722ab85b407d963938656f3f3238",
    "time": "2021-02-09T04:25:11.419Z",
    "type": "completion"
   },
   {
    "code": "print(np.mean(samps))\nprint(np.var(samps))",
    "id": "abc9e4886268418e8bf43fcf55ececf0",
    "idx": 9,
    "time": "2021-02-09T04:25:14.753Z",
    "type": "execution"
   },
   {
    "id": "abc9e4886268418e8bf43fcf55ececf0",
    "time": "2021-02-09T04:25:14.848Z",
    "type": "completion"
   },
   {
    "code": "#Function that samples M number of trajectories, with N number of steps per trial\n#Inputs: Number of trials, number of steps per trial\n#Outputs: List of locations (integers) where the random walker stops at the end of all N steps of each trial\ndef sampleTrajectories(num_trials, num_steps, prob=0.5):\n    vals = np.zeros(num_trials, dtype=int)\n    for i in range(num_trials):\n        vals[i] = sum(np.random.choice([-1,1], p=[1-prob, prob], size=num_steps))\n    return vals",
    "id": "8bafbfe49d044c62877a5ae7b9df7451",
    "idx": 4,
    "time": "2021-02-09T04:25:32.330Z",
    "type": "execution"
   },
   {
    "id": "8bafbfe49d044c62877a5ae7b9df7451",
    "time": "2021-02-09T04:25:32.414Z",
    "type": "completion"
   },
   {
    "code": "trials = 10000\nsteps = 1000\nprobR = 0.25 #Probability of a +1 (or right) step\nsamps = sampleTrajectories(trials, steps, prob=probR)",
    "id": "c6c2c3f41355440a8c288473860c15b5",
    "idx": 5,
    "time": "2021-02-09T04:25:32.977Z",
    "type": "execution"
   },
   {
    "code": "fig, ax = plt.subplots()\n\nnum_bins = 50\nn, bins, patches = ax.hist(samps, num_bins)\nx = np.arange(np.min(samps), np.max(samps), 2)\nx_range = np.max(samps) -np.min(samps)\n#ax.plot(x, (x_range/(2*num_bins))*trials*st.binom.pmf((x+steps)/2, steps, probR, loc=0), 'r-', label='Binomial p.d.f.')\nax.set_ylabel(\"Counts\")\nax.set_xlabel(\"Net Displacement\")\n#ax.legend()\nplt.show()\nplt.close()",
    "id": "e4ed722ab85b407d963938656f3f3238",
    "idx": 7,
    "time": "2021-02-09T04:25:34.521Z",
    "type": "execution"
   },
   {
    "id": "c6c2c3f41355440a8c288473860c15b5",
    "time": "2021-02-09T04:25:36.608Z",
    "type": "completion"
   },
   {
    "id": "e4ed722ab85b407d963938656f3f3238",
    "time": "2021-02-09T04:25:37.002Z",
    "type": "completion"
   },
   {
    "code": "#Function that samples M number of trajectories, with N number of steps per trial\n#Inputs: Number of trials, number of steps per trial\n#Outputs: List of locations (integers) where the random walker stops at the end of all N steps of each trial\ndef sampleTrajectories(num_trials, num_steps, prob=0.5):\n    vals = np.zeros(num_trials, dtype=int)\n    for i in range(num_trials):\n        vals[i] = sum(np.random.choice([-1,1], p=[1-prob, prob], size=num_steps))\n    return vals",
    "id": "8bafbfe49d044c62877a5ae7b9df7451",
    "idx": 4,
    "time": "2021-02-09T04:25:48.607Z",
    "type": "execution"
   },
   {
    "id": "8bafbfe49d044c62877a5ae7b9df7451",
    "time": "2021-02-09T04:25:48.667Z",
    "type": "completion"
   },
   {
    "code": "trials = 10000\nsteps = 1000\nprobR = 0.25 #Probability of a +1 (or right) step\nsamps = sampleTrajectories(trials, steps, prob=probR)",
    "id": "c6c2c3f41355440a8c288473860c15b5",
    "idx": 5,
    "time": "2021-02-09T04:25:49.393Z",
    "type": "execution"
   },
   {
    "code": "fig, ax = plt.subplots()\n\nnum_bins = 50\nn, bins, patches = ax.hist(samps, num_bins)\nx = np.arange(np.min(samps), np.max(samps), 2)\nx_range = np.max(samps) -np.min(samps)\n#ax.plot(x, (x_range/(2*num_bins))*trials*st.binom.pmf((x+steps)/2, steps, probR, loc=0), 'r-', label='Binomial p.d.f.')\nax.set_ylabel(\"Counts\")\nax.set_xlabel(\"Net Displacement\")\n#ax.legend()\nplt.show()\nplt.close()",
    "id": "e4ed722ab85b407d963938656f3f3238",
    "idx": 7,
    "time": "2021-02-09T04:25:51.407Z",
    "type": "execution"
   },
   {
    "id": "c6c2c3f41355440a8c288473860c15b5",
    "time": "2021-02-09T04:25:54.771Z",
    "type": "completion"
   },
   {
    "id": "e4ed722ab85b407d963938656f3f3238",
    "time": "2021-02-09T04:25:54.777Z",
    "type": "completion"
   },
   {
    "code": "trials = 10000\nsteps = 100\nprobR = 0.25 #Probability of a +1 (or right) step\nsamps = sampleTrajectories(trials, steps, prob=probR)",
    "id": "c6c2c3f41355440a8c288473860c15b5",
    "idx": 5,
    "time": "2021-02-09T04:26:29.183Z",
    "type": "execution"
   },
   {
    "id": "c6c2c3f41355440a8c288473860c15b5",
    "time": "2021-02-09T04:26:30.230Z",
    "type": "completion"
   },
   {
    "code": "fig, ax = plt.subplots()\n\nnum_bins = 50\nn, bins, patches = ax.hist(samps, num_bins)\nx = np.arange(np.min(samps), np.max(samps), 2)\nx_range = np.max(samps) -np.min(samps)\n#ax.plot(x, (x_range/(2*num_bins))*trials*st.binom.pmf((x+steps)/2, steps, probR, loc=0), 'r-', label='Binomial p.d.f.')\nax.set_ylabel(\"Counts\")\nax.set_xlabel(\"Net Displacement\")\n#ax.legend()\nplt.show()\nplt.close()",
    "id": "e4ed722ab85b407d963938656f3f3238",
    "idx": 7,
    "time": "2021-02-09T04:26:31.683Z",
    "type": "execution"
   },
   {
    "id": "e4ed722ab85b407d963938656f3f3238",
    "time": "2021-02-09T04:26:32.043Z",
    "type": "completion"
   },
   {
    "code": "fig, ax = plt.subplots()\n\nnum_bins = 50\nn, bins, patches = ax.hist(samps, num_bins)\nx = np.arange(np.min(samps), np.max(samps), 4)\nx_range = np.max(samps) -np.min(samps)\n#ax.plot(x, (x_range/(2*num_bins))*trials*st.binom.pmf((x+steps)/2, steps, probR, loc=0), 'r-', label='Binomial p.d.f.')\nax.set_ylabel(\"Counts\")\nax.set_xlabel(\"Net Displacement\")\n#ax.legend()\nplt.show()\nplt.close()",
    "id": "e4ed722ab85b407d963938656f3f3238",
    "idx": 7,
    "time": "2021-02-09T04:26:48.289Z",
    "type": "execution"
   },
   {
    "id": "e4ed722ab85b407d963938656f3f3238",
    "time": "2021-02-09T04:26:48.643Z",
    "type": "completion"
   },
   {
    "code": "fig, ax = plt.subplots()\n\nnum_bins = 50\nn, bins, patches = ax.hist(samps, num_bins)\nx = np.arange(np.min(samps), np.max(samps), 6)\nx_range = np.max(samps) -np.min(samps)\n#ax.plot(x, (x_range/(2*num_bins))*trials*st.binom.pmf((x+steps)/2, steps, probR, loc=0), 'r-', label='Binomial p.d.f.')\nax.set_ylabel(\"Counts\")\nax.set_xlabel(\"Net Displacement\")\n#ax.legend()\nplt.show()\nplt.close()",
    "id": "e4ed722ab85b407d963938656f3f3238",
    "idx": 7,
    "time": "2021-02-09T04:27:02.016Z",
    "type": "execution"
   },
   {
    "id": "e4ed722ab85b407d963938656f3f3238",
    "time": "2021-02-09T04:27:02.382Z",
    "type": "completion"
   },
   {
    "code": "fig, ax = plt.subplots()\n\nnum_bins = 20\nn, bins, patches = ax.hist(samps, num_bins)\nx = np.arange(np.min(samps), np.max(samps), 2)\nx_range = np.max(samps) -np.min(samps)\n#ax.plot(x, (x_range/(2*num_bins))*trials*st.binom.pmf((x+steps)/2, steps, probR, loc=0), 'r-', label='Binomial p.d.f.')\nax.set_ylabel(\"Counts\")\nax.set_xlabel(\"Net Displacement\")\n#ax.legend()\nplt.show()\nplt.close()",
    "id": "e4ed722ab85b407d963938656f3f3238",
    "idx": 7,
    "time": "2021-02-09T04:27:17.060Z",
    "type": "execution"
   },
   {
    "id": "e4ed722ab85b407d963938656f3f3238",
    "time": "2021-02-09T04:27:17.374Z",
    "type": "completion"
   },
   {
    "code": "fig, ax = plt.subplots()\n\nnum_bins = 50\nn, bins, patches = ax.hist(samps, num_bins)\nx = np.arange(np.min(samps), np.max(samps), 2)\nx_range = np.max(samps) -np.min(samps)\n#ax.plot(x, (x_range/(2*num_bins))*trials*st.binom.pmf((x+steps)/2, steps, probR, loc=0), 'r-', label='Binomial p.d.f.')\nax.set_ylabel(\"Counts\")\nax.set_xlabel(\"Net Displacement\")\n#ax.legend()\nplt.show()\nplt.close()",
    "id": "e4ed722ab85b407d963938656f3f3238",
    "idx": 7,
    "time": "2021-02-09T04:27:35.902Z",
    "type": "execution"
   },
   {
    "id": "e4ed722ab85b407d963938656f3f3238",
    "time": "2021-02-09T04:27:36.271Z",
    "type": "completion"
   },
   {
    "code": "trials = 10000\nsteps = 300\nprobR = 0.25 #Probability of a +1 (or right) step\nsamps = sampleTrajectories(trials, steps, prob=probR)",
    "id": "c6c2c3f41355440a8c288473860c15b5",
    "idx": 5,
    "time": "2021-02-09T04:28:00.126Z",
    "type": "execution"
   },
   {
    "id": "c6c2c3f41355440a8c288473860c15b5",
    "time": "2021-02-09T04:28:02.003Z",
    "type": "completion"
   },
   {
    "code": "trials = 100000\nsteps = 300\nprobR = 0.25 #Probability of a +1 (or right) step\nsamps = sampleTrajectories(trials, steps, prob=probR)",
    "id": "c6c2c3f41355440a8c288473860c15b5",
    "idx": 5,
    "time": "2021-02-09T04:28:15.593Z",
    "type": "execution"
   },
   {
    "code": "fig, ax = plt.subplots()\n\nnum_bins = 50\nn, bins, patches = ax.hist(samps, num_bins)\nx = np.arange(np.min(samps), np.max(samps), 2)\nx_range = np.max(samps) -np.min(samps)\n#ax.plot(x, (x_range/(2*num_bins))*trials*st.binom.pmf((x+steps)/2, steps, probR, loc=0), 'r-', label='Binomial p.d.f.')\nax.set_ylabel(\"Counts\")\nax.set_xlabel(\"Net Displacement\")\n#ax.legend()\nplt.show()\nplt.close()",
    "id": "e4ed722ab85b407d963938656f3f3238",
    "idx": 7,
    "time": "2021-02-09T04:28:20.444Z",
    "type": "execution"
   },
   {
    "id": "c6c2c3f41355440a8c288473860c15b5",
    "time": "2021-02-09T04:28:30.446Z",
    "type": "completion"
   },
   {
    "id": "e4ed722ab85b407d963938656f3f3238",
    "time": "2021-02-09T04:28:30.756Z",
    "type": "completion"
   },
   {
    "code": "trials = 100000\nsteps = 300\nprobR = 0.5 #Probability of a +1 (or right) step\nsamps = sampleTrajectories(trials, steps, prob=probR)",
    "id": "c6c2c3f41355440a8c288473860c15b5",
    "idx": 5,
    "time": "2021-02-09T04:29:15.747Z",
    "type": "execution"
   },
   {
    "code": "fig, ax = plt.subplots()\n\nnum_bins = 50\nn, bins, patches = ax.hist(samps, num_bins)\nx = np.arange(np.min(samps), np.max(samps), 2)\nx_range = np.max(samps) -np.min(samps)\n#ax.plot(x, (x_range/(2*num_bins))*trials*st.binom.pmf((x+steps)/2, steps, probR, loc=0), 'r-', label='Binomial p.d.f.')\nax.set_ylabel(\"Counts\")\nax.set_xlabel(\"Net Displacement\")\n#ax.legend()\nplt.show()\nplt.close()",
    "id": "e4ed722ab85b407d963938656f3f3238",
    "idx": 7,
    "time": "2021-02-09T04:29:24.604Z",
    "type": "execution"
   },
   {
    "id": "c6c2c3f41355440a8c288473860c15b5",
    "time": "2021-02-09T04:29:30.392Z",
    "type": "completion"
   },
   {
    "id": "e4ed722ab85b407d963938656f3f3238",
    "time": "2021-02-09T04:29:30.695Z",
    "type": "completion"
   },
   {
    "code": "#Function that samples M number of trajectories, with N number of steps per trial\n#Inputs: Number of trials, number of steps per trial\n#Outputs: List of locations (integers) where the random walker stops at the end of all N steps of each trial\ndef sampleTrajectories(num_trials, num_steps, prob=0.5):\n    vals = np.zeros(num_trials, dtype=float)\n    for i in range(num_trials):\n        vals[i] = sum(np.random.choice([-1,1], p=[1-prob, prob], size=num_steps))\n    return vals",
    "id": "8bafbfe49d044c62877a5ae7b9df7451",
    "idx": 4,
    "time": "2021-02-09T04:31:42.593Z",
    "type": "execution"
   },
   {
    "id": "8bafbfe49d044c62877a5ae7b9df7451",
    "time": "2021-02-09T04:31:42.665Z",
    "type": "completion"
   },
   {
    "code": "trials = 100000\nsteps = 300\nprobR = 0.5 #Probability of a +1 (or right) step\nsamps = sampleTrajectories(trials, steps, prob=probR)",
    "id": "c6c2c3f41355440a8c288473860c15b5",
    "idx": 5,
    "time": "2021-02-09T04:31:44.245Z",
    "type": "execution"
   },
   {
    "code": "fig, ax = plt.subplots()\n\nnum_bins = 50\nn, bins, patches = ax.hist(samps, num_bins)\nx = np.arange(np.min(samps), np.max(samps), 2)\nx_range = np.max(samps) -np.min(samps)\n#ax.plot(x, (x_range/(2*num_bins))*trials*st.binom.pmf((x+steps)/2, steps, probR, loc=0), 'r-', label='Binomial p.d.f.')\nax.set_ylabel(\"Counts\")\nax.set_xlabel(\"Net Displacement\")\n#ax.legend()\nplt.show()\nplt.close()",
    "id": "e4ed722ab85b407d963938656f3f3238",
    "idx": 7,
    "time": "2021-02-09T04:31:45.818Z",
    "type": "execution"
   },
   {
    "id": "c6c2c3f41355440a8c288473860c15b5",
    "time": "2021-02-09T04:31:59.096Z",
    "type": "completion"
   },
   {
    "id": "e4ed722ab85b407d963938656f3f3238",
    "time": "2021-02-09T04:31:59.410Z",
    "type": "completion"
   },
   {
    "code": "#Function that samples M number of trajectories, with N number of steps per trial\n#Inputs: Number of trials, number of steps per trial\n#Outputs: List of locations (integers) where the random walker stops at the end of all N steps of each trial\ndef sampleTrajectories(num_trials, num_steps, prob=0.5):\n    vals = np.zeros(num_trials, dtype=int)\n    for i in range(num_trials):\n        vals[i] = sum(np.random.choice([-1,1], p=[1-prob, prob], size=num_steps))\n    return vals",
    "id": "8bafbfe49d044c62877a5ae7b9df7451",
    "idx": 4,
    "time": "2021-02-09T04:32:30.995Z",
    "type": "execution"
   },
   {
    "id": "8bafbfe49d044c62877a5ae7b9df7451",
    "time": "2021-02-09T04:32:31.058Z",
    "type": "completion"
   },
   {
    "code": "trials = 100000\nsteps = 300\nprobR = 0.5 #Probability of a +1 (or right) step\nsamps = sampleTrajectories(trials, steps, prob=probR)",
    "id": "c6c2c3f41355440a8c288473860c15b5",
    "idx": 5,
    "time": "2021-02-09T04:32:32.063Z",
    "type": "execution"
   },
   {
    "code": "fig, ax = plt.subplots()\n\nnum_bins = 50\nn, bins, patches = ax.hist(samps, num_bins)\nx = np.arange(np.min(samps), np.max(samps), 2)\nx_range = np.max(samps) -np.min(samps)\n#ax.plot(x, (x_range/(2*num_bins))*trials*st.binom.pmf((x+steps)/2, steps, probR, loc=0), 'r-', label='Binomial p.d.f.')\nax.set_ylabel(\"Counts\")\nax.set_xlabel(\"Net Displacement\")\n#ax.legend()\nplt.show()\nplt.close()",
    "id": "e4ed722ab85b407d963938656f3f3238",
    "idx": 7,
    "time": "2021-02-09T04:32:34.803Z",
    "type": "execution"
   },
   {
    "id": "c6c2c3f41355440a8c288473860c15b5",
    "time": "2021-02-09T04:32:46.187Z",
    "type": "completion"
   },
   {
    "id": "e4ed722ab85b407d963938656f3f3238",
    "time": "2021-02-09T04:32:46.519Z",
    "type": "completion"
   },
   {
    "code": "fig, ax = plt.subplots()\n\nnum_bins = 20\nn, bins, patches = ax.hist(samps, num_bins)\nx = np.arange(np.min(samps), np.max(samps), 2)\nx_range = np.max(samps) -np.min(samps)\n#ax.plot(x, (x_range/(2*num_bins))*trials*st.binom.pmf((x+steps)/2, steps, probR, loc=0), 'r-', label='Binomial p.d.f.')\nax.set_ylabel(\"Counts\")\nax.set_xlabel(\"Net Displacement\")\n#ax.legend()\nplt.show()\nplt.close()",
    "id": "e4ed722ab85b407d963938656f3f3238",
    "idx": 7,
    "time": "2021-02-09T04:33:35.106Z",
    "type": "execution"
   },
   {
    "id": "e4ed722ab85b407d963938656f3f3238",
    "time": "2021-02-09T04:33:35.444Z",
    "type": "completion"
   },
   {
    "code": "trials = 1000\nsteps = 1000\nprobR = 0.5 #Probability of a +1 (or right) step\nsamps = sampleTrajectories(trials, steps, prob=probR)",
    "id": "c6c2c3f41355440a8c288473860c15b5",
    "idx": 5,
    "time": "2021-02-09T04:33:53.989Z",
    "type": "execution"
   },
   {
    "id": "c6c2c3f41355440a8c288473860c15b5",
    "time": "2021-02-09T04:33:54.384Z",
    "type": "completion"
   },
   {
    "code": "fig, ax = plt.subplots()\n\nnum_bins = 20\nn, bins, patches = ax.hist(samps, num_bins)\nx = np.arange(np.min(samps), np.max(samps), 2)\nx_range = np.max(samps) -np.min(samps)\n#ax.plot(x, (x_range/(2*num_bins))*trials*st.binom.pmf((x+steps)/2, steps, probR, loc=0), 'r-', label='Binomial p.d.f.')\nax.set_ylabel(\"Counts\")\nax.set_xlabel(\"Net Displacement\")\n#ax.legend()\nplt.show()\nplt.close()",
    "id": "e4ed722ab85b407d963938656f3f3238",
    "idx": 7,
    "time": "2021-02-09T04:33:57.044Z",
    "type": "execution"
   },
   {
    "id": "e4ed722ab85b407d963938656f3f3238",
    "time": "2021-02-09T04:33:57.442Z",
    "type": "completion"
   },
   {
    "code": "#Function that samples M number of trajectories, with N number of steps per trial\n#Inputs: Number of trials, number of steps per trial\n#Outputs: List of locations (integers) where the random walker stops at the end of all N steps of each trial\ndef sampleTrajectories(num_trials, num_steps, prob=0.5):\n    vals = np.zeros(num_trials, dtype=int)\n    for i in range(num_trials):\n        vals[i] = sum(np.random.choice([-1,1], p=[1-prob, prob], size=num_steps))\n    return vals",
    "id": "8bafbfe49d044c62877a5ae7b9df7451",
    "idx": 4,
    "time": "2021-02-09T04:34:07.839Z",
    "type": "execution"
   },
   {
    "code": "trials = 1000\nsteps = 1000\nprobR = 0.5 #Probability of a +1 (or right) step\nsamps = sampleTrajectories(trials, steps, prob=probR)",
    "id": "c6c2c3f41355440a8c288473860c15b5",
    "idx": 5,
    "time": "2021-02-09T04:34:08.450Z",
    "type": "execution"
   },
   {
    "code": "fig, ax = plt.subplots()\n\nnum_bins = 20\nn, bins, patches = ax.hist(samps, num_bins)\nx = np.arange(np.min(samps), np.max(samps), 2)\nx_range = np.max(samps) -np.min(samps)\n#ax.plot(x, (x_range/(2*num_bins))*trials*st.binom.pmf((x+steps)/2, steps, probR, loc=0), 'r-', label='Binomial p.d.f.')\nax.set_ylabel(\"Counts\")\nax.set_xlabel(\"Net Displacement\")\n#ax.legend()\nplt.show()\nplt.close()",
    "id": "e4ed722ab85b407d963938656f3f3238",
    "idx": 7,
    "time": "2021-02-09T04:34:10.788Z",
    "type": "execution"
   },
   {
    "id": "8bafbfe49d044c62877a5ae7b9df7451",
    "time": "2021-02-09T04:34:12.294Z",
    "type": "completion"
   },
   {
    "id": "c6c2c3f41355440a8c288473860c15b5",
    "time": "2021-02-09T04:34:12.296Z",
    "type": "completion"
   },
   {
    "id": "e4ed722ab85b407d963938656f3f3238",
    "time": "2021-02-09T04:34:12.839Z",
    "type": "completion"
   },
   {
    "code": "trials = 5000\nsteps = 1000\nprobR = 0.5 #Probability of a +1 (or right) step\nsamps = sampleTrajectories(trials, steps, prob=probR)",
    "id": "c6c2c3f41355440a8c288473860c15b5",
    "idx": 5,
    "time": "2021-02-09T04:34:24.655Z",
    "type": "execution"
   },
   {
    "id": "c6c2c3f41355440a8c288473860c15b5",
    "time": "2021-02-09T04:34:26.291Z",
    "type": "completion"
   },
   {
    "code": "fig, ax = plt.subplots()\n\nnum_bins = 20\nn, bins, patches = ax.hist(samps, num_bins)\nx = np.arange(np.min(samps), np.max(samps), 2)\nx_range = np.max(samps) -np.min(samps)\n#ax.plot(x, (x_range/(2*num_bins))*trials*st.binom.pmf((x+steps)/2, steps, probR, loc=0), 'r-', label='Binomial p.d.f.')\nax.set_ylabel(\"Counts\")\nax.set_xlabel(\"Net Displacement\")\n#ax.legend()\nplt.show()\nplt.close()",
    "id": "e4ed722ab85b407d963938656f3f3238",
    "idx": 7,
    "time": "2021-02-09T04:34:26.775Z",
    "type": "execution"
   },
   {
    "id": "e4ed722ab85b407d963938656f3f3238",
    "time": "2021-02-09T04:34:27.133Z",
    "type": "completion"
   },
   {
    "code": "#Function that samples M number of trajectories, with N number of steps per trial\n#Inputs: Number of trials, number of steps per trial\n#Outputs: List of locations (integers) where the random walker stops at the end of all N steps of each trial\ndef sampleTrajectories(num_trials, num_steps, prob=0.5):\n    vals = np.zeros(num_trials, dtype=int)\n    for i in range(num_trials):\n        vals[i] = sum(np.random.choice([-1,1], p=[1-prob, prob], size=num_steps))\n    return vals",
    "id": "8bafbfe49d044c62877a5ae7b9df7451",
    "idx": 4,
    "time": "2021-02-09T04:34:35.895Z",
    "type": "execution"
   },
   {
    "id": "8bafbfe49d044c62877a5ae7b9df7451",
    "time": "2021-02-09T04:34:35.957Z",
    "type": "completion"
   },
   {
    "code": "trials = 5000\nsteps = 1000\nprobR = 0.5 #Probability of a +1 (or right) step\nsamps = sampleTrajectories(trials, steps, prob=probR)",
    "id": "c6c2c3f41355440a8c288473860c15b5",
    "idx": 5,
    "time": "2021-02-09T04:34:36.470Z",
    "type": "execution"
   },
   {
    "id": "c6c2c3f41355440a8c288473860c15b5",
    "time": "2021-02-09T04:34:38.159Z",
    "type": "completion"
   },
   {
    "code": "fig, ax = plt.subplots()\n\nnum_bins = 20\nn, bins, patches = ax.hist(samps, num_bins)\nx = np.arange(np.min(samps), np.max(samps), 2)\nx_range = np.max(samps) -np.min(samps)\n#ax.plot(x, (x_range/(2*num_bins))*trials*st.binom.pmf((x+steps)/2, steps, probR, loc=0), 'r-', label='Binomial p.d.f.')\nax.set_ylabel(\"Counts\")\nax.set_xlabel(\"Net Displacement\")\n#ax.legend()\nplt.show()\nplt.close()",
    "id": "e4ed722ab85b407d963938656f3f3238",
    "idx": 7,
    "time": "2021-02-09T04:34:38.178Z",
    "type": "execution"
   },
   {
    "id": "e4ed722ab85b407d963938656f3f3238",
    "time": "2021-02-09T04:34:38.467Z",
    "type": "completion"
   },
   {
    "code": "fig, ax = plt.subplots()\n\nnum_bins = 50\nn, bins, patches = ax.hist(samps, num_bins)\nx = np.arange(np.min(samps), np.max(samps), 2)\nx_range = np.max(samps) -np.min(samps)\n#ax.plot(x, (x_range/(2*num_bins))*trials*st.binom.pmf((x+steps)/2, steps, probR, loc=0), 'r-', label='Binomial p.d.f.')\nax.set_ylabel(\"Counts\")\nax.set_xlabel(\"Net Displacement\")\n#ax.legend()\nplt.show()\nplt.close()",
    "id": "e4ed722ab85b407d963938656f3f3238",
    "idx": 7,
    "time": "2021-02-09T04:34:47.024Z",
    "type": "execution"
   },
   {
    "id": "e4ed722ab85b407d963938656f3f3238",
    "time": "2021-02-09T04:34:47.409Z",
    "type": "completion"
   },
   {
    "code": "fig, ax = plt.subplots()\n\nnum_bins = 50\nn, bins, patches = ax.hist(samps, num_bins)\nx = np.arange(np.min(samps), np.max(samps), 1)\nx_range = np.max(samps) -np.min(samps)\n#ax.plot(x, (x_range/(2*num_bins))*trials*st.binom.pmf((x+steps)/2, steps, probR, loc=0), 'r-', label='Binomial p.d.f.')\nax.set_ylabel(\"Counts\")\nax.set_xlabel(\"Net Displacement\")\n#ax.legend()\nplt.show()\nplt.close()",
    "id": "e4ed722ab85b407d963938656f3f3238",
    "idx": 7,
    "time": "2021-02-09T04:34:59.197Z",
    "type": "execution"
   },
   {
    "id": "e4ed722ab85b407d963938656f3f3238",
    "time": "2021-02-09T04:34:59.682Z",
    "type": "completion"
   },
   {
    "code": "fig, ax = plt.subplots()\n\nnum_bins = 50\nn, bins, patches = ax.hist(samps, num_bins)\nx = np.arange(np.min(samps), np.max(samps), 5)\nx_range = np.max(samps) -np.min(samps)\n#ax.plot(x, (x_range/(2*num_bins))*trials*st.binom.pmf((x+steps)/2, steps, probR, loc=0), 'r-', label='Binomial p.d.f.')\nax.set_ylabel(\"Counts\")\nax.set_xlabel(\"Net Displacement\")\n#ax.legend()\nplt.show()\nplt.close()",
    "id": "e4ed722ab85b407d963938656f3f3238",
    "idx": 7,
    "time": "2021-02-09T04:35:05.508Z",
    "type": "execution"
   },
   {
    "id": "e4ed722ab85b407d963938656f3f3238",
    "time": "2021-02-09T04:35:05.849Z",
    "type": "completion"
   },
   {
    "code": "fig, ax = plt.subplots()\n\nnum_bins = 50\nn, bins, patches = ax.hist(samps, num_bins)\nx = np.arange(np.min(samps), np.max(samps), 10)\nx_range = np.max(samps) -np.min(samps)\n#ax.plot(x, (x_range/(2*num_bins))*trials*st.binom.pmf((x+steps)/2, steps, probR, loc=0), 'r-', label='Binomial p.d.f.')\nax.set_ylabel(\"Counts\")\nax.set_xlabel(\"Net Displacement\")\n#ax.legend()\nplt.show()\nplt.close()",
    "id": "e4ed722ab85b407d963938656f3f3238",
    "idx": 7,
    "time": "2021-02-09T04:35:11.259Z",
    "type": "execution"
   },
   {
    "id": "e4ed722ab85b407d963938656f3f3238",
    "time": "2021-02-09T04:35:11.647Z",
    "type": "completion"
   },
   {
    "code": "fig, ax = plt.subplots()\n\nnum_bins = 50\nn, bins, patches = ax.hist(samps, num_bins)\nx = np.arange(np.min(samps), np.max(samps), 2)\nx_range = np.max(samps) -np.min(samps)\n#ax.plot(x, (x_range/(2*num_bins))*trials*st.binom.pmf((x+steps)/2, steps, probR, loc=0), 'r-', label='Binomial p.d.f.')\nax.set_ylabel(\"Counts\")\nax.set_xlabel(\"Net Displacement\")\n#ax.legend()\nplt.show()\nplt.close()",
    "id": "e4ed722ab85b407d963938656f3f3238",
    "idx": 7,
    "time": "2021-02-09T04:35:19.714Z",
    "type": "execution"
   },
   {
    "id": "e4ed722ab85b407d963938656f3f3238",
    "time": "2021-02-09T04:35:20.084Z",
    "type": "completion"
   },
   {
    "code": "trials = 100\nsteps = 10000\nprobR = 0.5 #Probability of a +1 (or right) step\nsamps = sampleTrajectories(trials, steps, prob=probR)",
    "id": "c6c2c3f41355440a8c288473860c15b5",
    "idx": 5,
    "time": "2021-02-09T04:36:29.914Z",
    "type": "execution"
   },
   {
    "id": "c6c2c3f41355440a8c288473860c15b5",
    "time": "2021-02-09T04:36:30.303Z",
    "type": "completion"
   },
   {
    "code": "fig, ax = plt.subplots()\n\nnum_bins = 50\nn, bins, patches = ax.hist(samps, num_bins)\nx = np.arange(np.min(samps), np.max(samps), 2)\nx_range = np.max(samps) -np.min(samps)\n#ax.plot(x, (x_range/(2*num_bins))*trials*st.binom.pmf((x+steps)/2, steps, probR, loc=0), 'r-', label='Binomial p.d.f.')\nax.set_ylabel(\"Counts\")\nax.set_xlabel(\"Net Displacement\")\n#ax.legend()\nplt.show()\nplt.close()",
    "id": "e4ed722ab85b407d963938656f3f3238",
    "idx": 7,
    "time": "2021-02-09T04:36:31.762Z",
    "type": "execution"
   },
   {
    "id": "e4ed722ab85b407d963938656f3f3238",
    "time": "2021-02-09T04:36:32.141Z",
    "type": "completion"
   },
   {
    "code": "trials = 10000\nsteps = 10000\nprobR = 0.5 #Probability of a +1 (or right) step\nsamps = sampleTrajectories(trials, steps, prob=probR)",
    "id": "c6c2c3f41355440a8c288473860c15b5",
    "idx": 5,
    "time": "2021-02-09T04:36:56.082Z",
    "type": "execution"
   },
   {
    "code": "fig, ax = plt.subplots()\n\nnum_bins = 50\nn, bins, patches = ax.hist(samps, num_bins)\nx = np.arange(np.min(samps), np.max(samps), 2)\nx_range = np.max(samps) -np.min(samps)\n#ax.plot(x, (x_range/(2*num_bins))*trials*st.binom.pmf((x+steps)/2, steps, probR, loc=0), 'r-', label='Binomial p.d.f.')\nax.set_ylabel(\"Counts\")\nax.set_xlabel(\"Net Displacement\")\n#ax.legend()\nplt.show()\nplt.close()",
    "id": "e4ed722ab85b407d963938656f3f3238",
    "idx": 7,
    "time": "2021-02-09T04:37:00.987Z",
    "type": "execution"
   },
   {
    "id": "c6c2c3f41355440a8c288473860c15b5",
    "time": "2021-02-09T04:37:20.363Z",
    "type": "completion"
   },
   {
    "id": "e4ed722ab85b407d963938656f3f3238",
    "time": "2021-02-09T04:37:20.671Z",
    "type": "completion"
   },
   {
    "code": "trials = 1000\nsteps = 10000\nprobR = 0.5 #Probability of a +1 (or right) step\nsamps = sampleTrajectories(trials, steps, prob=probR)",
    "id": "c6c2c3f41355440a8c288473860c15b5",
    "idx": 5,
    "time": "2021-02-09T04:37:40.188Z",
    "type": "execution"
   },
   {
    "id": "c6c2c3f41355440a8c288473860c15b5",
    "time": "2021-02-09T04:37:42.614Z",
    "type": "completion"
   },
   {
    "code": "#Function that samples M number of trajectories, with N number of steps per trial\n#Inputs: Number of trials, number of steps per trial\n#Outputs: List of locations (integers) where the random walker stops at the end of all N steps of each trial\ndef sampleTrajectories(num_trials, num_steps, prob=0.5):\n    vals = np.zeros(num_trials, dtype=int)\n    for i in range(num_trials):\n        vals[i] = sum(np.random.choice([-1,1], p=[1-prob, prob], size=num_steps))\n    return vals",
    "id": "8bafbfe49d044c62877a5ae7b9df7451",
    "idx": 4,
    "time": "2021-02-09T04:37:57.205Z",
    "type": "execution"
   },
   {
    "id": "8bafbfe49d044c62877a5ae7b9df7451",
    "time": "2021-02-09T04:37:57.273Z",
    "type": "completion"
   },
   {
    "code": "trials = 1000\nsteps = 10000\nprobR = 0.5 #Probability of a +1 (or right) step\nsamps = sampleTrajectories(trials, steps, prob=probR)",
    "id": "c6c2c3f41355440a8c288473860c15b5",
    "idx": 5,
    "time": "2021-02-09T04:37:57.941Z",
    "type": "execution"
   },
   {
    "id": "c6c2c3f41355440a8c288473860c15b5",
    "time": "2021-02-09T04:38:00.354Z",
    "type": "completion"
   },
   {
    "code": "fig, ax = plt.subplots()\n\nnum_bins = 50\nn, bins, patches = ax.hist(samps, num_bins)\nx = np.arange(np.min(samps), np.max(samps), 2)\nx_range = np.max(samps) -np.min(samps)\n#ax.plot(x, (x_range/(2*num_bins))*trials*st.binom.pmf((x+steps)/2, steps, probR, loc=0), 'r-', label='Binomial p.d.f.')\nax.set_ylabel(\"Counts\")\nax.set_xlabel(\"Net Displacement\")\n#ax.legend()\nplt.show()\nplt.close()",
    "id": "e4ed722ab85b407d963938656f3f3238",
    "idx": 7,
    "time": "2021-02-09T04:38:00.540Z",
    "type": "execution"
   },
   {
    "id": "e4ed722ab85b407d963938656f3f3238",
    "time": "2021-02-09T04:38:01.052Z",
    "type": "completion"
   },
   {
    "code": "trials = 1000\nsteps = 3000\nprobR = 0.5 #Probability of a +1 (or right) step\nsamps = sampleTrajectories(trials, steps, prob=probR)",
    "id": "c6c2c3f41355440a8c288473860c15b5",
    "idx": 5,
    "time": "2021-02-09T04:39:15.804Z",
    "type": "execution"
   },
   {
    "id": "c6c2c3f41355440a8c288473860c15b5",
    "time": "2021-02-09T04:39:16.705Z",
    "type": "completion"
   },
   {
    "code": "fig, ax = plt.subplots()\n\nnum_bins = 50\nn, bins, patches = ax.hist(samps, num_bins)\nx = np.arange(np.min(samps), np.max(samps), 2)\nx_range = np.max(samps) -np.min(samps)\n#ax.plot(x, (x_range/(2*num_bins))*trials*st.binom.pmf((x+steps)/2, steps, probR, loc=0), 'r-', label='Binomial p.d.f.')\nax.set_ylabel(\"Counts\")\nax.set_xlabel(\"Net Displacement\")\n#ax.legend()\nplt.show()\nplt.close()",
    "id": "e4ed722ab85b407d963938656f3f3238",
    "idx": 7,
    "time": "2021-02-09T04:39:17.799Z",
    "type": "execution"
   },
   {
    "id": "e4ed722ab85b407d963938656f3f3238",
    "time": "2021-02-09T04:39:18.156Z",
    "type": "completion"
   },
   {
    "code": "#Function that samples M number of trajectories, with N number of steps per trial\n#Inputs: Number of trials, number of steps per trial\n#Outputs: List of locations (integers) where the random walker stops at the end of all N steps of each trial\ndef sampleTrajectories(num_trials, num_steps, prob=0.5):\n    vals = np.zeros(num_trials, dtype=int)\n    for i in range(num_trials):\n        vals[i] = sum(np.random.choice([-1,1], p=[1-prob, prob], size=num_steps))\n    return vals",
    "id": "8bafbfe49d044c62877a5ae7b9df7451",
    "idx": 4,
    "time": "2021-02-09T04:39:25.314Z",
    "type": "execution"
   },
   {
    "id": "8bafbfe49d044c62877a5ae7b9df7451",
    "time": "2021-02-09T04:39:25.374Z",
    "type": "completion"
   },
   {
    "code": "trials = 1000\nsteps = 3000\nprobR = 0.5 #Probability of a +1 (or right) step\nsamps = sampleTrajectories(trials, steps, prob=probR)",
    "id": "c6c2c3f41355440a8c288473860c15b5",
    "idx": 5,
    "time": "2021-02-09T04:39:25.839Z",
    "type": "execution"
   },
   {
    "id": "c6c2c3f41355440a8c288473860c15b5",
    "time": "2021-02-09T04:39:26.718Z",
    "type": "completion"
   },
   {
    "code": "fig, ax = plt.subplots()\n\nnum_bins = 50\nn, bins, patches = ax.hist(samps, num_bins)\nx = np.arange(np.min(samps), np.max(samps), 2)\nx_range = np.max(samps) -np.min(samps)\n#ax.plot(x, (x_range/(2*num_bins))*trials*st.binom.pmf((x+steps)/2, steps, probR, loc=0), 'r-', label='Binomial p.d.f.')\nax.set_ylabel(\"Counts\")\nax.set_xlabel(\"Net Displacement\")\n#ax.legend()\nplt.show()\nplt.close()",
    "id": "e4ed722ab85b407d963938656f3f3238",
    "idx": 7,
    "time": "2021-02-09T04:39:27.752Z",
    "type": "execution"
   },
   {
    "id": "e4ed722ab85b407d963938656f3f3238",
    "time": "2021-02-09T04:39:28.113Z",
    "type": "completion"
   },
   {
    "code": "np.random.choice([-1,1], size=7)",
    "id": "be02592aae674a9e8b2ad1c7fb67571a",
    "idx": 2,
    "time": "2021-02-09T04:41:11.531Z",
    "type": "execution"
   },
   {
    "id": "be02592aae674a9e8b2ad1c7fb67571a",
    "time": "2021-02-09T04:41:11.631Z",
    "type": "completion"
   },
   {
    "code": "import numpy as np\nimport scipy.stats as st\nimport matplotlib.pyplot as plt",
    "id": "f7e5311ff87248e3a891b84c9742bab7",
    "idx": 0,
    "time": "2021-02-09T04:41:18.329Z",
    "type": "execution"
   },
   {
    "id": "f7e5311ff87248e3a891b84c9742bab7",
    "time": "2021-02-09T04:41:18.388Z",
    "type": "completion"
   },
   {
    "code": "np.random.choice([-1,1], size=7)",
    "id": "be02592aae674a9e8b2ad1c7fb67571a",
    "idx": 2,
    "time": "2021-02-09T04:41:19.939Z",
    "type": "execution"
   },
   {
    "id": "be02592aae674a9e8b2ad1c7fb67571a",
    "time": "2021-02-09T04:41:20.098Z",
    "type": "completion"
   },
   {
    "code": "#Function that samples M number of trajectories, with N number of steps per trial\n#Inputs: Number of trials, number of steps per trial\n#Outputs: List of locations (integers) where the random walker stops at the end of all N steps of each trial\ndef sampleTrajectories(num_trials, num_steps, prob=0.5):\n    vals = np.zeros(num_trials, dtype=int)\n    for i in range(num_trials):\n        vals[i] = sum(np.random.choice([-1,1], p=[1-prob, prob], size=num_steps))\n    return vals",
    "id": "8bafbfe49d044c62877a5ae7b9df7451",
    "idx": 4,
    "time": "2021-02-09T04:41:21.560Z",
    "type": "execution"
   },
   {
    "id": "8bafbfe49d044c62877a5ae7b9df7451",
    "time": "2021-02-09T04:41:21.617Z",
    "type": "completion"
   },
   {
    "code": "trials = 1000\nsteps = 3000\nprobR = 0.5 #Probability of a +1 (or right) step\nsamps = sampleTrajectories(trials, steps, prob=probR)",
    "id": "c6c2c3f41355440a8c288473860c15b5",
    "idx": 5,
    "time": "2021-02-09T04:41:22.438Z",
    "type": "execution"
   },
   {
    "id": "c6c2c3f41355440a8c288473860c15b5",
    "time": "2021-02-09T04:41:23.329Z",
    "type": "completion"
   },
   {
    "code": "fig, ax = plt.subplots()\n\nnum_bins = 50\nn, bins, patches = ax.hist(samps, num_bins)\nx = np.arange(np.min(samps), np.max(samps), 2)\nx_range = np.max(samps) -np.min(samps)\n#ax.plot(x, (x_range/(2*num_bins))*trials*st.binom.pmf((x+steps)/2, steps, probR, loc=0), 'r-', label='Binomial p.d.f.')\nax.set_ylabel(\"Counts\")\nax.set_xlabel(\"Net Displacement\")\n#ax.legend()\nplt.show()\nplt.close()",
    "id": "e4ed722ab85b407d963938656f3f3238",
    "idx": 7,
    "time": "2021-02-09T04:41:24.638Z",
    "type": "execution"
   },
   {
    "id": "e4ed722ab85b407d963938656f3f3238",
    "time": "2021-02-09T04:41:25.015Z",
    "type": "completion"
   },
   {
    "code": "trials = 1000\nsteps = 10000\nprobR = 0.5 #Probability of a +1 (or right) step\nsamps = sampleTrajectories(trials, steps, prob=probR)",
    "id": "c6c2c3f41355440a8c288473860c15b5",
    "idx": 5,
    "time": "2021-02-09T04:42:41.271Z",
    "type": "execution"
   },
   {
    "id": "c6c2c3f41355440a8c288473860c15b5",
    "time": "2021-02-09T04:42:43.977Z",
    "type": "completion"
   },
   {
    "code": "fig, ax = plt.subplots()\n\nnum_bins = 50\nn, bins, patches = ax.hist(samps, num_bins)\nx = np.arange(np.min(samps), np.max(samps), 2)\nx_range = np.max(samps) -np.min(samps)\n#ax.plot(x, (x_range/(2*num_bins))*trials*st.binom.pmf((x+steps)/2, steps, probR, loc=0), 'r-', label='Binomial p.d.f.')\nax.set_ylabel(\"Counts\")\nax.set_xlabel(\"Net Displacement\")\n#ax.legend()\nplt.show()\nplt.close()",
    "id": "e4ed722ab85b407d963938656f3f3238",
    "idx": 7,
    "time": "2021-02-09T04:42:45.702Z",
    "type": "execution"
   },
   {
    "id": "e4ed722ab85b407d963938656f3f3238",
    "time": "2021-02-09T04:42:46.054Z",
    "type": "completion"
   },
   {
    "code": "#Function that samples M number of trajectories, with N number of steps per trial\n#Inputs: Number of trials, number of steps per trial\n#Outputs: List of locations (integers) where the random walker stops at the end of all N steps of each trial\ndef sampleTrajectories(num_trials, num_steps, prob=0.5):\n    vals = np.zeros(num_trials, dtype=int)\n    for i in range(num_trials):\n        vals[i] = sum(np.random.choice([-1,1], p=[1-prob, prob], size=num_steps))\n    return vals",
    "id": "8bafbfe49d044c62877a5ae7b9df7451",
    "idx": 4,
    "time": "2021-02-09T04:42:53.064Z",
    "type": "execution"
   },
   {
    "id": "8bafbfe49d044c62877a5ae7b9df7451",
    "time": "2021-02-09T04:42:53.127Z",
    "type": "completion"
   },
   {
    "code": "trials = 1000\nsteps = 10000\nprobR = 0.5 #Probability of a +1 (or right) step\nsamps = sampleTrajectories(trials, steps, prob=probR)",
    "id": "c6c2c3f41355440a8c288473860c15b5",
    "idx": 5,
    "time": "2021-02-09T04:42:53.724Z",
    "type": "execution"
   },
   {
    "code": "fig, ax = plt.subplots()\n\nnum_bins = 50\nn, bins, patches = ax.hist(samps, num_bins)\nx = np.arange(np.min(samps), np.max(samps), 2)\nx_range = np.max(samps) -np.min(samps)\n#ax.plot(x, (x_range/(2*num_bins))*trials*st.binom.pmf((x+steps)/2, steps, probR, loc=0), 'r-', label='Binomial p.d.f.')\nax.set_ylabel(\"Counts\")\nax.set_xlabel(\"Net Displacement\")\n#ax.legend()\nplt.show()\nplt.close()",
    "id": "e4ed722ab85b407d963938656f3f3238",
    "idx": 7,
    "time": "2021-02-09T04:42:55.324Z",
    "type": "execution"
   },
   {
    "id": "c6c2c3f41355440a8c288473860c15b5",
    "time": "2021-02-09T04:42:56.321Z",
    "type": "completion"
   },
   {
    "id": "e4ed722ab85b407d963938656f3f3238",
    "time": "2021-02-09T04:42:56.604Z",
    "type": "completion"
   },
   {
    "code": "#Function that samples M number of trajectories, with N number of steps per trial\n#Inputs: Number of trials, number of steps per trial\n#Outputs: List of locations (integers) where the random walker stops at the end of all N steps of each trial\ndef sampleTrajectories(num_trials, num_steps, prob=0.5):\n    vals = np.zeros(num_trials, dtype=int)\n    for i in range(num_trials):\n        vals[i] = sum(np.random.choice([-1,1], p=[1-prob, prob], size=num_steps))\n    return vals",
    "id": "8bafbfe49d044c62877a5ae7b9df7451",
    "idx": 4,
    "time": "2021-02-09T04:43:07.944Z",
    "type": "execution"
   },
   {
    "id": "8bafbfe49d044c62877a5ae7b9df7451",
    "time": "2021-02-09T04:43:08.304Z",
    "type": "completion"
   },
   {
    "code": "trials = 1000\nsteps = 10000\nprobR = 0.5 #Probability of a +1 (or right) step\nsamps = sampleTrajectories(trials, steps, prob=probR)",
    "id": "c6c2c3f41355440a8c288473860c15b5",
    "idx": 5,
    "time": "2021-02-09T04:43:08.531Z",
    "type": "execution"
   },
   {
    "code": "fig, ax = plt.subplots()\n\nnum_bins = 50\nn, bins, patches = ax.hist(samps, num_bins)\nx = np.arange(np.min(samps), np.max(samps), 2)\nx_range = np.max(samps) -np.min(samps)\n#ax.plot(x, (x_range/(2*num_bins))*trials*st.binom.pmf((x+steps)/2, steps, probR, loc=0), 'r-', label='Binomial p.d.f.')\nax.set_ylabel(\"Counts\")\nax.set_xlabel(\"Net Displacement\")\n#ax.legend()\nplt.show()\nplt.close()",
    "id": "e4ed722ab85b407d963938656f3f3238",
    "idx": 7,
    "time": "2021-02-09T04:43:09.822Z",
    "type": "execution"
   },
   {
    "id": "c6c2c3f41355440a8c288473860c15b5",
    "time": "2021-02-09T04:43:11.334Z",
    "type": "completion"
   },
   {
    "id": "e4ed722ab85b407d963938656f3f3238",
    "time": "2021-02-09T04:43:11.638Z",
    "type": "completion"
   },
   {
    "code": "fig, ax = plt.subplots()\n\nnum_bins = 50\nn, bins, patches = ax.hist(samps, num_bins)\nx = np.arange(np.min(samps), np.max(samps), 2)\nx_range = np.max(samps) -np.min(samps)\nax.plot(x, (x_range/(2*num_bins))*trials*st.binom.pmf((x+steps)/2, steps, probR, loc=0), 'r-', label='Binomial p.d.f.')\nax.set_ylabel(\"Counts\")\nax.set_xlabel(\"Net Displacement\")\nax.legend()\nplt.show()\nplt.close()",
    "id": "7f7f2d167de740518e6dce59e5738787",
    "idx": 14,
    "time": "2021-02-09T04:53:06.644Z",
    "type": "execution"
   },
   {
    "id": "7f7f2d167de740518e6dce59e5738787",
    "time": "2021-02-09T04:53:07.101Z",
    "type": "completion"
   },
   {
    "code": "trials = 1000\nsteps = 10000\nprobR = 0.25 #Probability of a +1 (or right) step\nsamps = sampleTrajectories(trials, steps, prob=probR)",
    "id": "c6c2c3f41355440a8c288473860c15b5",
    "idx": 5,
    "time": "2021-02-09T04:53:24.666Z",
    "type": "execution"
   },
   {
    "code": "fig, ax = plt.subplots()\n\nnum_bins = 50\nn, bins, patches = ax.hist(samps, num_bins)\nx = np.arange(np.min(samps), np.max(samps), 2)\nx_range = np.max(samps) -np.min(samps)\n#ax.plot(x, (x_range/(2*num_bins))*trials*st.binom.pmf((x+steps)/2, steps, probR, loc=0), 'r-', label='Binomial p.d.f.')\nax.set_ylabel(\"Counts\")\nax.set_xlabel(\"Net Displacement\")\n#ax.legend()\nplt.show()\nplt.close()",
    "id": "e4ed722ab85b407d963938656f3f3238",
    "idx": 7,
    "time": "2021-02-09T04:53:26.169Z",
    "type": "execution"
   },
   {
    "id": "c6c2c3f41355440a8c288473860c15b5",
    "time": "2021-02-09T04:53:27.072Z",
    "type": "completion"
   },
   {
    "id": "e4ed722ab85b407d963938656f3f3238",
    "time": "2021-02-09T04:53:27.380Z",
    "type": "completion"
   },
   {
    "code": "print(np.mean(samps))\nprint(np.var(samps))",
    "id": "abc9e4886268418e8bf43fcf55ececf0",
    "idx": 9,
    "time": "2021-02-09T04:53:31.910Z",
    "type": "execution"
   },
   {
    "id": "abc9e4886268418e8bf43fcf55ececf0",
    "time": "2021-02-09T04:53:31.985Z",
    "type": "completion"
   },
   {
    "code": "fig, ax = plt.subplots()\n\nnum_bins = 50\nn, bins, patches = ax.hist(samps, num_bins)\nx = np.arange(np.min(samps), np.max(samps), 2)\nx_range = np.max(samps) -np.min(samps)\nax.plot(x, (x_range/(2*num_bins))*trials*st.binom.pmf((x+steps)/2, steps, probR, loc=0), 'r-', label='Binomial p.d.f.')\nax.set_ylabel(\"Counts\")\nax.set_xlabel(\"Net Displacement\")\nax.legend()\nplt.show()\nplt.close()",
    "id": "7f7f2d167de740518e6dce59e5738787",
    "idx": 14,
    "time": "2021-02-09T04:53:36.977Z",
    "type": "execution"
   },
   {
    "id": "7f7f2d167de740518e6dce59e5738787",
    "time": "2021-02-09T04:53:37.425Z",
    "type": "completion"
   },
   {
    "code": "np.random.choice([-1,1], size=7)",
    "id": "3597991278e645578ba09ba30c098776",
    "idx": 5,
    "time": "2021-02-09T20:10:24.703Z",
    "type": "execution"
   },
   {
    "id": "3597991278e645578ba09ba30c098776",
    "time": "2021-02-09T20:10:25.055Z",
    "type": "completion"
   },
   {
    "code": "import numpy as np\nimport scipy.stats as st\nimport matplotlib.pyplot as plt",
    "id": "bf6f0cfbb228466f8b153b6f36ba116e",
    "idx": 2,
    "time": "2021-02-09T20:10:32.896Z",
    "type": "execution"
   },
   {
    "id": "bf6f0cfbb228466f8b153b6f36ba116e",
    "time": "2021-02-09T20:10:34.084Z",
    "type": "completion"
   },
   {
    "code": "np.random.choice([-1,1], size=7)",
    "id": "3597991278e645578ba09ba30c098776",
    "idx": 5,
    "time": "2021-02-09T20:10:40.833Z",
    "type": "execution"
   },
   {
    "id": "3597991278e645578ba09ba30c098776",
    "time": "2021-02-09T20:10:40.902Z",
    "type": "completion"
   },
   {
    "code": "np.random.choice([-1,1], size=20)",
    "id": "3597991278e645578ba09ba30c098776",
    "idx": 5,
    "time": "2021-02-09T20:11:33.092Z",
    "type": "execution"
   },
   {
    "id": "3597991278e645578ba09ba30c098776",
    "time": "2021-02-09T20:11:33.172Z",
    "type": "completion"
   },
   {
    "code": "seq = np.random.choice([-1,1], size=20)\nprint(seq)",
    "id": "3597991278e645578ba09ba30c098776",
    "idx": 5,
    "time": "2021-02-09T20:14:33.755Z",
    "type": "execution"
   },
   {
    "id": "3597991278e645578ba09ba30c098776",
    "time": "2021-02-09T20:14:33.832Z",
    "type": "completion"
   },
   {
    "code": "seq = np.random.choice([-1,1], size=40)\nprint(seq)",
    "id": "3597991278e645578ba09ba30c098776",
    "idx": 5,
    "time": "2021-02-09T20:14:44.763Z",
    "type": "execution"
   },
   {
    "id": "3597991278e645578ba09ba30c098776",
    "time": "2021-02-09T20:14:45.120Z",
    "type": "completion"
   },
   {
    "code": "seq = np.random.choice([-1,1], size=30)\nprint(seq)",
    "id": "3597991278e645578ba09ba30c098776",
    "idx": 5,
    "time": "2021-02-09T20:14:50.908Z",
    "type": "execution"
   },
   {
    "id": "3597991278e645578ba09ba30c098776",
    "time": "2021-02-09T20:14:50.973Z",
    "type": "completion"
   },
   {
    "code": "seq = np.random.choice([-1,1], size=100)\nprint(seq)",
    "id": "3597991278e645578ba09ba30c098776",
    "idx": 5,
    "time": "2021-02-09T20:15:02.427Z",
    "type": "execution"
   },
   {
    "id": "3597991278e645578ba09ba30c098776",
    "time": "2021-02-09T20:15:02.490Z",
    "type": "completion"
   },
   {
    "code": "print(np.mean(seq))",
    "id": "2acdfc71184d401e8b81937a168f0322",
    "idx": 7,
    "time": "2021-02-09T20:15:15.825Z",
    "type": "execution"
   },
   {
    "id": "2acdfc71184d401e8b81937a168f0322",
    "time": "2021-02-09T20:15:15.883Z",
    "type": "completion"
   },
   {
    "code": "seq = np.random.choice([-1,1], p=[0.25, 0.75], size=100)\nprint(seq)",
    "id": "e91d91d25d4a48a5bf0c4247d3665718",
    "idx": 11,
    "time": "2021-02-09T20:24:26.632Z",
    "type": "execution"
   },
   {
    "id": "e91d91d25d4a48a5bf0c4247d3665718",
    "time": "2021-02-09T20:24:26.709Z",
    "type": "completion"
   },
   {
    "code": "seq = np.random.choice([-1,1], p=[0.25, 0.75], size=100)\nprint(seq)\nprint(np.mean(seq))",
    "id": "e91d91d25d4a48a5bf0c4247d3665718",
    "idx": 11,
    "time": "2021-02-09T20:24:58.629Z",
    "type": "execution"
   },
   {
    "code": "seq = np.random.choice([-1,1], p=[0.25, 0.75], size=100)\nprint(seq)\nprint(np.mean(seq))",
    "id": "e91d91d25d4a48a5bf0c4247d3665718",
    "idx": 11,
    "time": "2021-02-09T20:25:03.084Z",
    "type": "execution"
   },
   {
    "code": "seq = np.random.choice([-1,1], p=[0.25, 0.75], size=100)\nprint(seq)",
    "id": "e91d91d25d4a48a5bf0c4247d3665718",
    "idx": 11,
    "time": "2021-02-09T20:25:51.676Z",
    "type": "execution"
   },
   {
    "code": "seq = np.random.choice([-1,1], size=100)\nprint(seq)",
    "id": "3597991278e645578ba09ba30c098776",
    "idx": 5,
    "time": "2021-02-09T20:26:16.860Z",
    "type": "execution"
   },
   {
    "code": "seq = np.random.choice([-1,1], size=100)\nprint(seq)",
    "id": "3597991278e645578ba09ba30c098776",
    "idx": 5,
    "time": "2021-02-09T20:26:59.851Z",
    "type": "execution"
   },
   {
    "code": "seq = np.random.choice([-1,1], size=100)\nprint(seq)",
    "id": "3597991278e645578ba09ba30c098776",
    "idx": 5,
    "time": "2021-02-09T20:27:10.321Z",
    "type": "execution"
   },
   {
    "id": "e91d91d25d4a48a5bf0c4247d3665718",
    "time": "2021-02-09T20:27:27.231Z",
    "type": "completion"
   },
   {
    "id": "e91d91d25d4a48a5bf0c4247d3665718",
    "time": "2021-02-09T20:27:27.231Z",
    "type": "completion"
   },
   {
    "id": "e91d91d25d4a48a5bf0c4247d3665718",
    "time": "2021-02-09T20:27:27.231Z",
    "type": "completion"
   },
   {
    "id": "3597991278e645578ba09ba30c098776",
    "time": "2021-02-09T20:27:27.258Z",
    "type": "completion"
   },
   {
    "id": "3597991278e645578ba09ba30c098776",
    "time": "2021-02-09T20:27:27.259Z",
    "type": "completion"
   },
   {
    "id": "3597991278e645578ba09ba30c098776",
    "time": "2021-02-09T20:27:27.259Z",
    "type": "completion"
   },
   {
    "code": "seq = np.random.choice([-1,1], size=100)\nprint(seq)",
    "id": "3597991278e645578ba09ba30c098776",
    "idx": 5,
    "time": "2021-02-09T20:27:32.555Z",
    "type": "execution"
   },
   {
    "id": "3597991278e645578ba09ba30c098776",
    "time": "2021-02-09T20:27:32.620Z",
    "type": "completion"
   },
   {
    "code": "import numpy as np\nimport scipy.stats as st\nimport matplotlib.pyplot as plt",
    "id": "bf6f0cfbb228466f8b153b6f36ba116e",
    "idx": 2,
    "time": "2021-02-09T20:27:38.998Z",
    "type": "execution"
   },
   {
    "id": "bf6f0cfbb228466f8b153b6f36ba116e",
    "time": "2021-02-09T20:27:40.060Z",
    "type": "completion"
   },
   {
    "code": "seq = np.random.choice([-1,1], size=100)\nprint(seq)",
    "id": "3597991278e645578ba09ba30c098776",
    "idx": 5,
    "time": "2021-02-09T20:27:42.378Z",
    "type": "execution"
   },
   {
    "id": "3597991278e645578ba09ba30c098776",
    "time": "2021-02-09T20:27:42.442Z",
    "type": "completion"
   },
   {
    "code": "print(np.mean(seq))",
    "id": "2acdfc71184d401e8b81937a168f0322",
    "idx": 8,
    "time": "2021-02-09T20:27:46.036Z",
    "type": "execution"
   },
   {
    "id": "2acdfc71184d401e8b81937a168f0322",
    "time": "2021-02-09T20:27:46.099Z",
    "type": "completion"
   },
   {
    "code": "seq = np.random.choice([-1,1], p=[0.25, 0.75], size=100)\nprint(seq)\nprint(np.mean(seq))",
    "id": "e91d91d25d4a48a5bf0c4247d3665718",
    "idx": 11,
    "time": "2021-02-09T20:28:06.008Z",
    "type": "execution"
   },
   {
    "id": "e91d91d25d4a48a5bf0c4247d3665718",
    "time": "2021-02-09T20:28:06.072Z",
    "type": "completion"
   },
   {
    "code": "seq = np.random.choice([-1,1], p=[0.02, 0.98], size=100)\nprint(seq)\nprint(np.mean(seq))",
    "id": "e91d91d25d4a48a5bf0c4247d3665718",
    "idx": 11,
    "time": "2021-02-09T20:28:52.292Z",
    "type": "execution"
   },
   {
    "id": "e91d91d25d4a48a5bf0c4247d3665718",
    "time": "2021-02-09T20:28:52.360Z",
    "type": "completion"
   },
   {
    "code": "seq = np.random.choice([-1,1], p=[0.25, 0.75], size=100)\nprint(seq)\nprint(np.mean(seq))",
    "id": "e91d91d25d4a48a5bf0c4247d3665718",
    "idx": 11,
    "time": "2021-02-09T20:29:06.386Z",
    "type": "execution"
   },
   {
    "id": "e91d91d25d4a48a5bf0c4247d3665718",
    "time": "2021-02-09T20:29:06.485Z",
    "type": "completion"
   },
   {
    "code": "seq = np.random.choice([-1,1], p=[0.5, 0.5], size=100)\nprint(seq)\nprint(np.mean(seq))",
    "id": "e91d91d25d4a48a5bf0c4247d3665718",
    "idx": 11,
    "time": "2021-02-09T20:29:23.076Z",
    "type": "execution"
   },
   {
    "id": "e91d91d25d4a48a5bf0c4247d3665718",
    "time": "2021-02-09T20:29:23.141Z",
    "type": "completion"
   },
   {
    "code": "seq = np.random.choice([-1,1], p=[0.5, 0.5], size=100)\nprint(seq)\nprint(np.mean(seq))",
    "id": "e91d91d25d4a48a5bf0c4247d3665718",
    "idx": 11,
    "time": "2021-02-09T20:29:28.098Z",
    "type": "execution"
   },
   {
    "id": "e91d91d25d4a48a5bf0c4247d3665718",
    "time": "2021-02-09T20:29:28.164Z",
    "type": "completion"
   },
   {
    "code": "seq = np.random.choice([-1,1], p=[0.5, 0.5], size=100)\nprint(seq)\nprint(np.mean(seq))",
    "id": "e91d91d25d4a48a5bf0c4247d3665718",
    "idx": 11,
    "time": "2021-02-09T20:29:31.582Z",
    "type": "execution"
   },
   {
    "id": "e91d91d25d4a48a5bf0c4247d3665718",
    "time": "2021-02-09T20:29:31.644Z",
    "type": "completion"
   },
   {
    "code": "seq = np.random.choice([-1,1], size=1000)\nprint(seq)",
    "id": "3597991278e645578ba09ba30c098776",
    "idx": 5,
    "time": "2021-02-09T20:29:49.925Z",
    "type": "execution"
   },
   {
    "id": "3597991278e645578ba09ba30c098776",
    "time": "2021-02-09T20:29:49.990Z",
    "type": "completion"
   },
   {
    "code": "print(np.mean(seq))",
    "id": "2acdfc71184d401e8b81937a168f0322",
    "idx": 8,
    "time": "2021-02-09T20:29:57.091Z",
    "type": "execution"
   },
   {
    "id": "2acdfc71184d401e8b81937a168f0322",
    "time": "2021-02-09T20:29:57.158Z",
    "type": "completion"
   },
   {
    "code": "seq = np.random.choice([-1,1], size=1000)",
    "id": "3597991278e645578ba09ba30c098776",
    "idx": 5,
    "time": "2021-02-09T20:30:11.922Z",
    "type": "execution"
   },
   {
    "id": "3597991278e645578ba09ba30c098776",
    "time": "2021-02-09T20:30:11.982Z",
    "type": "completion"
   },
   {
    "code": "seq = np.random.choice([-1,1], size=1000)\nprint(np.mean(seq))",
    "id": "3597991278e645578ba09ba30c098776",
    "idx": 5,
    "time": "2021-02-09T20:31:52.438Z",
    "type": "execution"
   },
   {
    "id": "3597991278e645578ba09ba30c098776",
    "time": "2021-02-09T20:31:52.516Z",
    "type": "completion"
   },
   {
    "code": "seq = np.random.choice([-1,1], p=[0.75, 0.25], size=100)\nprint(seq)\nprint(np.mean(seq))",
    "id": "e91d91d25d4a48a5bf0c4247d3665718",
    "idx": 8,
    "time": "2021-02-09T20:33:56.401Z",
    "type": "execution"
   },
   {
    "id": "e91d91d25d4a48a5bf0c4247d3665718",
    "time": "2021-02-09T20:33:56.463Z",
    "type": "completion"
   },
   {
    "code": "seq = np.random.choice([-1,1], p=[0.75, 0.25], size=1000)\nprint(np.mean(seq))",
    "id": "e91d91d25d4a48a5bf0c4247d3665718",
    "idx": 8,
    "time": "2021-02-09T20:34:15.207Z",
    "type": "execution"
   },
   {
    "id": "e91d91d25d4a48a5bf0c4247d3665718",
    "time": "2021-02-09T20:34:15.267Z",
    "type": "completion"
   },
   {
    "code": "seq = np.random.choice([-1,1], p=[0.75, 0.25], size=1000)\nprint(np.mean(seq))",
    "id": "e91d91d25d4a48a5bf0c4247d3665718",
    "idx": 8,
    "time": "2021-02-09T20:34:21.389Z",
    "type": "execution"
   },
   {
    "id": "e91d91d25d4a48a5bf0c4247d3665718",
    "time": "2021-02-09T20:34:21.455Z",
    "type": "completion"
   },
   {
    "code": "seq = np.random.choice([-1,1], p=[0.75, 0.25], size=1000)\nprint(np.mean(seq))",
    "id": "e91d91d25d4a48a5bf0c4247d3665718",
    "idx": 8,
    "time": "2021-02-09T20:34:24.039Z",
    "type": "execution"
   },
   {
    "id": "e91d91d25d4a48a5bf0c4247d3665718",
    "time": "2021-02-09T20:34:24.100Z",
    "type": "completion"
   },
   {
    "code": "seq = np.random.choice([-1,1], p=[0.75, 0.25], size=1000)\nprint(np.mean(seq))",
    "id": "e91d91d25d4a48a5bf0c4247d3665718",
    "idx": 8,
    "time": "2021-02-09T20:34:26.773Z",
    "type": "execution"
   },
   {
    "id": "e91d91d25d4a48a5bf0c4247d3665718",
    "time": "2021-02-09T20:34:26.840Z",
    "type": "completion"
   },
   {
    "code": "seq = np.random.choice([-1,1], p=[0.75, 0.25], size=10000)\nprint(np.mean(seq))",
    "id": "e91d91d25d4a48a5bf0c4247d3665718",
    "idx": 8,
    "time": "2021-02-09T20:34:32.022Z",
    "type": "execution"
   },
   {
    "id": "e91d91d25d4a48a5bf0c4247d3665718",
    "time": "2021-02-09T20:34:32.097Z",
    "type": "completion"
   },
   {
    "code": "seq = np.random.choice([-1,1], size=10000)\nprint(np.mean(seq))",
    "id": "3597991278e645578ba09ba30c098776",
    "idx": 5,
    "time": "2021-02-09T20:34:39.174Z",
    "type": "execution"
   },
   {
    "id": "3597991278e645578ba09ba30c098776",
    "time": "2021-02-09T20:34:39.234Z",
    "type": "completion"
   },
   {
    "code": "seq = np.random.choice([-1,1], p=[0.75, 0.25], size=10000)\nprint(np.mean(seq))",
    "id": "e91d91d25d4a48a5bf0c4247d3665718",
    "idx": 8,
    "time": "2021-02-09T20:34:55.668Z",
    "type": "execution"
   },
   {
    "id": "e91d91d25d4a48a5bf0c4247d3665718",
    "time": "2021-02-09T20:34:55.737Z",
    "type": "completion"
   },
   {
    "code": "seq = np.random.choice([-1,1], size=10000)\nprint(np.mean(seq))\nprint(np.sum(seq))",
    "id": "3597991278e645578ba09ba30c098776",
    "idx": 5,
    "time": "2021-02-09T20:37:26.933Z",
    "type": "execution"
   },
   {
    "id": "3597991278e645578ba09ba30c098776",
    "time": "2021-02-09T20:37:27.010Z",
    "type": "completion"
   },
   {
    "code": "seq = np.random.choice([-1,1], size=10000)\nprint(np.sum(seq))\nprint(np.mean(seq))",
    "id": "3597991278e645578ba09ba30c098776",
    "idx": 5,
    "time": "2021-02-09T20:40:31.380Z",
    "type": "execution"
   },
   {
    "id": "3597991278e645578ba09ba30c098776",
    "time": "2021-02-09T20:40:31.452Z",
    "type": "completion"
   },
   {
    "code": "seq = np.random.choice([-1,1], p=[0.75, 0.25], size=10000)\nprint(np.sum(seq))\nprint(np.mean(seq))",
    "id": "e91d91d25d4a48a5bf0c4247d3665718",
    "idx": 8,
    "time": "2021-02-09T20:40:34.960Z",
    "type": "execution"
   },
   {
    "id": "e91d91d25d4a48a5bf0c4247d3665718",
    "time": "2021-02-09T20:40:35.035Z",
    "type": "completion"
   },
   {
    "code": "#Function that samples M number of trajectories, with N number of steps per trial\n#Inputs: Number of trials, number of steps per trial\n#Outputs: List of locations (integers) where the random walker stops at the end of all N steps of each trial\ndef sampleTrajectories(num_trials, num_steps, prob=0.5):\n    vals = np.zeros(num_trials, dtype=int)\n    for i in range(num_trials):\n        vals[i] = sum(np.random.choice([-1,1], p=[1-prob, prob], size=num_steps))\n    return vals",
    "id": "9b2041e073f2451d8e2ca1c4479820a6",
    "idx": 11,
    "time": "2021-02-09T21:00:40.251Z",
    "type": "execution"
   },
   {
    "id": "9b2041e073f2451d8e2ca1c4479820a6",
    "time": "2021-02-09T21:00:40.333Z",
    "type": "completion"
   },
   {
    "code": "trials = 1000\nsteps = 10000\nprobR = 0.25 #Probability of a +1 (or right) step\nsamps = sampleTrajectories(trials, steps, prob=probR)",
    "id": "6581fa834ff845bda2bd7b916b517e49",
    "idx": 13,
    "time": "2021-02-09T21:03:07.736Z",
    "type": "execution"
   },
   {
    "id": "6581fa834ff845bda2bd7b916b517e49",
    "time": "2021-02-09T21:03:12.427Z",
    "type": "completion"
   },
   {
    "code": "trials = 1000\nsteps = 10000\nprobR = 0.5 #Probability of a +1 (or right) step\nsamps = sampleTrajectories(trials, steps, prob=probR)",
    "id": "6581fa834ff845bda2bd7b916b517e49",
    "idx": 14,
    "time": "2021-02-09T21:11:37.320Z",
    "type": "execution"
   },
   {
    "code": "fig, ax = plt.subplots()\n\nnum_bins = 50\nn, bins, patches = ax.hist(samps, num_bins)\nx = np.arange(np.min(samps), np.max(samps), 2)\nx_range = np.max(samps) -np.min(samps)\n#ax.plot(x, (x_range/(2*num_bins))*trials*st.binom.pmf((x+steps)/2, steps, probR, loc=0), 'r-', label='Binomial p.d.f.')\nax.set_ylabel(\"Counts\")\nax.set_xlabel(\"Net Displacement\")\n#ax.legend()\nplt.show()\nplt.close()",
    "id": "4240e595fcc44400a4cca2bcf759a89c",
    "idx": 15,
    "time": "2021-02-09T21:11:38.981Z",
    "type": "execution"
   },
   {
    "id": "6581fa834ff845bda2bd7b916b517e49",
    "time": "2021-02-09T21:11:40.246Z",
    "type": "completion"
   },
   {
    "id": "4240e595fcc44400a4cca2bcf759a89c",
    "time": "2021-02-09T21:11:40.649Z",
    "type": "completion"
   },
   {
    "code": "print(np.mean(samps))\nprint(np.var(samps))",
    "id": "e04c94c9877b4a3ebdd567ff8fcd8d6b",
    "idx": 15,
    "time": "2021-02-09T21:14:55.675Z",
    "type": "execution"
   },
   {
    "id": "e04c94c9877b4a3ebdd567ff8fcd8d6b",
    "time": "2021-02-09T21:14:55.740Z",
    "type": "completion"
   },
   {
    "code": "sampleTrajectories(num_trials, num_steps, prob=0.5)",
    "id": "813be560dd3f4c65b2e58792c0badca2",
    "idx": 16,
    "time": "2021-02-09T21:14:57.888Z",
    "type": "execution"
   },
   {
    "id": "813be560dd3f4c65b2e58792c0badca2",
    "time": "2021-02-09T21:14:58.026Z",
    "type": "completion"
   },
   {
    "code": "print(np.mean(samps))\nprint(np.var(samps))",
    "id": "e04c94c9877b4a3ebdd567ff8fcd8d6b",
    "idx": 16,
    "time": "2021-02-09T21:18:05.161Z",
    "type": "execution"
   },
   {
    "id": "e04c94c9877b4a3ebdd567ff8fcd8d6b",
    "time": "2021-02-09T21:18:05.230Z",
    "type": "completion"
   },
   {
    "code": "fig, ax = plt.subplots()\n\nnum_bins = 50\nn, bins, patches = ax.hist(samps, num_bins)\nx = np.arange(np.min(samps), np.max(samps), 2)\nx_range = np.max(samps) -np.min(samps)\n#ax.plot(x, (x_range/(2*num_bins))*trials*st.binom.pmf((x+steps)/2, steps, probR, loc=0), 'r-', label='Binomial p.d.f.')\nax.set_ylabel(\"Counts\")\nax.set_xlabel(\"Net Displacement\")\n#ax.legend()\nplt.show()\nplt.close()",
    "id": "4240e595fcc44400a4cca2bcf759a89c",
    "idx": 17,
    "time": "2021-02-09T21:18:08.977Z",
    "type": "execution"
   },
   {
    "id": "4240e595fcc44400a4cca2bcf759a89c",
    "time": "2021-02-09T21:18:09.344Z",
    "type": "completion"
   },
   {
    "code": "trials = 1000\nsteps = 10000\nprobR = 0.5 #Probability of a +1 (or right) step\nsamps = sampleTrajectories(trials, steps, prob=probR)",
    "id": "6581fa834ff845bda2bd7b916b517e49",
    "idx": 14,
    "time": "2021-02-09T21:19:02.537Z",
    "type": "execution"
   },
   {
    "code": "print(np.mean(samps))\nprint(np.var(samps))",
    "id": "e04c94c9877b4a3ebdd567ff8fcd8d6b",
    "idx": 15,
    "time": "2021-02-09T21:19:03.395Z",
    "type": "execution"
   },
   {
    "code": "fig, ax = plt.subplots()\n\nnum_bins = 50\nn, bins, patches = ax.hist(samps, num_bins)\nx = np.arange(np.min(samps), np.max(samps), 2)\nx_range = np.max(samps) -np.min(samps)\n#ax.plot(x, (x_range/(2*num_bins))*trials*st.binom.pmf((x+steps)/2, steps, probR, loc=0), 'r-', label='Binomial p.d.f.')\nax.set_ylabel(\"Counts\")\nax.set_xlabel(\"Net Displacement\")\n#ax.legend()\nplt.show()\nplt.close()",
    "id": "4240e595fcc44400a4cca2bcf759a89c",
    "idx": 16,
    "time": "2021-02-09T21:19:04.995Z",
    "type": "execution"
   },
   {
    "id": "6581fa834ff845bda2bd7b916b517e49",
    "time": "2021-02-09T21:19:05.352Z",
    "type": "completion"
   },
   {
    "id": "e04c94c9877b4a3ebdd567ff8fcd8d6b",
    "time": "2021-02-09T21:19:05.366Z",
    "type": "completion"
   },
   {
    "id": "4240e595fcc44400a4cca2bcf759a89c",
    "time": "2021-02-09T21:19:05.710Z",
    "type": "completion"
   },
   {
    "code": "trials = 1000\nsteps = 10000\nprobR = 0.25 #Probability of a +1 (or right) step\nsamps = sampleTrajectories(trials, steps, prob=probR)",
    "id": "ced07cba0d884abc84a6b53db2735f42",
    "idx": 18,
    "time": "2021-02-09T21:25:44.272Z",
    "type": "execution"
   },
   {
    "id": "ced07cba0d884abc84a6b53db2735f42",
    "time": "2021-02-09T21:25:46.915Z",
    "type": "completion"
   },
   {
    "code": "fig, ax = plt.subplots()\n\nnum_bins = 50\nn, bins, patches = ax.hist(samps, num_bins)\nx = np.arange(np.min(samps), np.max(samps), 2)\nx_range = np.max(samps) -np.min(samps)\n#ax.plot(x, (x_range/(2*num_bins))*trials*st.binom.pmf((x+steps)/2, steps, probR, loc=0), 'r-', label='Binomial p.d.f.')\nax.set_ylabel(\"Counts\")\nax.set_xlabel(\"Net Displacement\")\n#ax.legend()\nplt.show()\nplt.close()",
    "id": "f75751c2f68540fb8c613a084305c573",
    "idx": 19,
    "time": "2021-02-09T21:25:48.212Z",
    "type": "execution"
   },
   {
    "id": "f75751c2f68540fb8c613a084305c573",
    "time": "2021-02-09T21:25:48.564Z",
    "type": "completion"
   },
   {
    "code": "fig, ax = plt.subplots()\n\nnum_bins = 50\nn, bins, patches = ax.hist(samps, num_bins)\nx = np.arange(np.min(samps), np.max(samps), 2)\nx_range = np.max(samps) -np.min(samps)\nax.set_ylabel(\"Counts\")\nax.set_xlabel(\"Net Displacement\")\nplt.show()\nplt.close()",
    "id": "4240e595fcc44400a4cca2bcf759a89c",
    "idx": 15,
    "time": "2021-02-09T21:26:51.971Z",
    "type": "execution"
   },
   {
    "id": "4240e595fcc44400a4cca2bcf759a89c",
    "time": "2021-02-09T21:26:52.568Z",
    "type": "completion"
   },
   {
    "code": "trials = 1000\nsteps = 10000\nprobR = 0.5 #Probability of a +1 (or right) step\nsamps = sampleTrajectories(trials, steps, prob=probR)",
    "id": "6581fa834ff845bda2bd7b916b517e49",
    "idx": 14,
    "time": "2021-02-09T21:27:21.137Z",
    "type": "execution"
   },
   {
    "id": "6581fa834ff845bda2bd7b916b517e49",
    "time": "2021-02-09T21:27:23.791Z",
    "type": "completion"
   },
   {
    "code": "fig, ax = plt.subplots()\n\nnum_bins = 50\nn, bins, patches = ax.hist(samps, num_bins)\nx = np.arange(np.min(samps), np.max(samps), 2)\nx_range = np.max(samps) -np.min(samps)\nax.set_ylabel(\"Counts\")\nax.set_xlabel(\"Net Displacement\")\nplt.show()\nplt.close()",
    "id": "4240e595fcc44400a4cca2bcf759a89c",
    "idx": 15,
    "time": "2021-02-09T21:27:23.854Z",
    "type": "execution"
   },
   {
    "id": "4240e595fcc44400a4cca2bcf759a89c",
    "time": "2021-02-09T21:27:24.417Z",
    "type": "completion"
   },
   {
    "code": "trials = 1000\nsteps = 10000\nprobR = 0.25 #Probability of a +1 (or right) step\nsamps = sampleTrajectories(trials, steps, prob=probR)",
    "id": "ced07cba0d884abc84a6b53db2735f42",
    "idx": 18,
    "time": "2021-02-09T21:27:30.004Z",
    "type": "execution"
   },
   {
    "code": "fig, ax = plt.subplots()\n\nnum_bins = 50\nn, bins, patches = ax.hist(samps, num_bins)\nx = np.arange(np.min(samps), np.max(samps), 2)\nx_range = np.max(samps) -np.min(samps)\nax.set_ylabel(\"Counts\")\nax.set_xlabel(\"Net Displacement\")\nplt.show()\nplt.close()",
    "id": "f75751c2f68540fb8c613a084305c573",
    "idx": 19,
    "time": "2021-02-09T21:27:31.245Z",
    "type": "execution"
   },
   {
    "id": "ced07cba0d884abc84a6b53db2735f42",
    "time": "2021-02-09T21:27:32.617Z",
    "type": "completion"
   },
   {
    "id": "f75751c2f68540fb8c613a084305c573",
    "time": "2021-02-09T21:27:32.955Z",
    "type": "completion"
   },
   {
    "code": "print(np.mean(samps))\nprint(np.var(samps))",
    "id": "db4fa23c982c41f8802a604d6f22d1a9",
    "idx": 16,
    "time": "2021-02-09T21:29:16.784Z",
    "type": "execution"
   },
   {
    "id": "db4fa23c982c41f8802a604d6f22d1a9",
    "time": "2021-02-09T21:29:16.857Z",
    "type": "completion"
   },
   {
    "code": "trials = 1000\nsteps = 10000\nprobR = 0.5 #Probability of a +1 (or right) step\nsamps = sampleTrajectories(trials, steps, prob=probR)",
    "id": "6581fa834ff845bda2bd7b916b517e49",
    "idx": 14,
    "time": "2021-02-09T21:29:33.623Z",
    "type": "execution"
   },
   {
    "code": "fig, ax = plt.subplots()\n\nnum_bins = 50\nn, bins, patches = ax.hist(samps, num_bins)\nx = np.arange(np.min(samps), np.max(samps), 2)\nx_range = np.max(samps) -np.min(samps)\nax.set_ylabel(\"Counts\")\nax.set_xlabel(\"Net Displacement\")\nplt.show()\nplt.close()",
    "id": "4240e595fcc44400a4cca2bcf759a89c",
    "idx": 15,
    "time": "2021-02-09T21:29:35.469Z",
    "type": "execution"
   },
   {
    "code": "print(np.mean(samps))\nprint(np.var(samps))",
    "id": "db4fa23c982c41f8802a604d6f22d1a9",
    "idx": 16,
    "time": "2021-02-09T21:29:36.430Z",
    "type": "execution"
   },
   {
    "id": "6581fa834ff845bda2bd7b916b517e49",
    "time": "2021-02-09T21:29:36.491Z",
    "type": "completion"
   },
   {
    "id": "4240e595fcc44400a4cca2bcf759a89c",
    "time": "2021-02-09T21:29:36.865Z",
    "type": "completion"
   },
   {
    "id": "db4fa23c982c41f8802a604d6f22d1a9",
    "time": "2021-02-09T21:29:36.902Z",
    "type": "completion"
   },
   {
    "code": "trials = 1000\nsteps = 10000\nprobR = 0.25 #Probability of a +1 (or right) step\nsamps = sampleTrajectories(trials, steps, prob=probR)",
    "id": "ced07cba0d884abc84a6b53db2735f42",
    "idx": 19,
    "time": "2021-02-09T21:30:25.405Z",
    "type": "execution"
   },
   {
    "code": "fig, ax = plt.subplots()\n\nnum_bins = 50\nn, bins, patches = ax.hist(samps, num_bins)\nx = np.arange(np.min(samps), np.max(samps), 2)\nx_range = np.max(samps) -np.min(samps)\nax.set_ylabel(\"Counts\")\nax.set_xlabel(\"Net Displacement\")\nplt.show()\nplt.close()",
    "id": "f75751c2f68540fb8c613a084305c573",
    "idx": 20,
    "time": "2021-02-09T21:30:27.909Z",
    "type": "execution"
   },
   {
    "id": "ced07cba0d884abc84a6b53db2735f42",
    "time": "2021-02-09T21:30:28.086Z",
    "type": "completion"
   },
   {
    "id": "f75751c2f68540fb8c613a084305c573",
    "time": "2021-02-09T21:30:28.423Z",
    "type": "completion"
   },
   {
    "code": "print(np.mean(samps))\nprint(np.var(samps))",
    "id": "51393f7a139543308cd8010ce390efc6",
    "idx": 21,
    "time": "2021-02-09T21:30:30.656Z",
    "type": "execution"
   },
   {
    "id": "51393f7a139543308cd8010ce390efc6",
    "time": "2021-02-09T21:30:30.727Z",
    "type": "completion"
   },
   {
    "code": "trials = 1000\nsteps = 10000\nprobR = 0.9 #Probability of a +1 (or right) step\nsamps = sampleTrajectories(trials, steps, prob=probR)",
    "id": "ced07cba0d884abc84a6b53db2735f42",
    "idx": 19,
    "time": "2021-02-09T21:30:49.933Z",
    "type": "execution"
   },
   {
    "code": "fig, ax = plt.subplots()\n\nnum_bins = 50\nn, bins, patches = ax.hist(samps, num_bins)\nx = np.arange(np.min(samps), np.max(samps), 2)\nx_range = np.max(samps) -np.min(samps)\nax.set_ylabel(\"Counts\")\nax.set_xlabel(\"Net Displacement\")\nplt.show()\nplt.close()",
    "id": "f75751c2f68540fb8c613a084305c573",
    "idx": 20,
    "time": "2021-02-09T21:30:50.970Z",
    "type": "execution"
   },
   {
    "id": "ced07cba0d884abc84a6b53db2735f42",
    "time": "2021-02-09T21:30:52.809Z",
    "type": "completion"
   },
   {
    "id": "f75751c2f68540fb8c613a084305c573",
    "time": "2021-02-09T21:30:53.211Z",
    "type": "completion"
   },
   {
    "code": "print(np.mean(samps))\nprint(np.var(samps))",
    "id": "51393f7a139543308cd8010ce390efc6",
    "idx": 21,
    "time": "2021-02-09T21:30:54.637Z",
    "type": "execution"
   },
   {
    "id": "51393f7a139543308cd8010ce390efc6",
    "time": "2021-02-09T21:30:54.711Z",
    "type": "completion"
   },
   {
    "code": "trials = 1000\nsteps = 10000\nprobR = 0.99 #Probability of a +1 (or right) step\nsamps = sampleTrajectories(trials, steps, prob=probR)",
    "id": "ced07cba0d884abc84a6b53db2735f42",
    "idx": 19,
    "time": "2021-02-09T21:31:10.120Z",
    "type": "execution"
   },
   {
    "code": "fig, ax = plt.subplots()\n\nnum_bins = 50\nn, bins, patches = ax.hist(samps, num_bins)\nx = np.arange(np.min(samps), np.max(samps), 2)\nx_range = np.max(samps) -np.min(samps)\nax.set_ylabel(\"Counts\")\nax.set_xlabel(\"Net Displacement\")\nplt.show()\nplt.close()",
    "id": "f75751c2f68540fb8c613a084305c573",
    "idx": 20,
    "time": "2021-02-09T21:31:11.774Z",
    "type": "execution"
   },
   {
    "id": "ced07cba0d884abc84a6b53db2735f42",
    "time": "2021-02-09T21:31:12.722Z",
    "type": "completion"
   },
   {
    "id": "f75751c2f68540fb8c613a084305c573",
    "time": "2021-02-09T21:31:13.065Z",
    "type": "completion"
   },
   {
    "code": "print(np.mean(samps))\nprint(np.var(samps))",
    "id": "51393f7a139543308cd8010ce390efc6",
    "idx": 21,
    "time": "2021-02-09T21:31:21.190Z",
    "type": "execution"
   },
   {
    "id": "51393f7a139543308cd8010ce390efc6",
    "time": "2021-02-09T21:31:21.256Z",
    "type": "completion"
   },
   {
    "code": "trials = 1000\nsteps = 10000\nprobR = 0.25 #Probability of a +1 (or right) step\nsamps = sampleTrajectories(trials, steps, prob=probR)",
    "id": "ced07cba0d884abc84a6b53db2735f42",
    "idx": 19,
    "time": "2021-02-09T21:31:33.267Z",
    "type": "execution"
   },
   {
    "code": "fig, ax = plt.subplots()\n\nnum_bins = 50\nn, bins, patches = ax.hist(samps, num_bins)\nx = np.arange(np.min(samps), np.max(samps), 2)\nx_range = np.max(samps) -np.min(samps)\nax.set_ylabel(\"Counts\")\nax.set_xlabel(\"Net Displacement\")\nplt.show()\nplt.close()",
    "id": "f75751c2f68540fb8c613a084305c573",
    "idx": 20,
    "time": "2021-02-09T21:31:34.836Z",
    "type": "execution"
   },
   {
    "id": "ced07cba0d884abc84a6b53db2735f42",
    "time": "2021-02-09T21:31:36.195Z",
    "type": "completion"
   },
   {
    "id": "f75751c2f68540fb8c613a084305c573",
    "time": "2021-02-09T21:31:36.539Z",
    "type": "completion"
   },
   {
    "code": "print(np.mean(samps))\nprint(np.var(samps))",
    "id": "51393f7a139543308cd8010ce390efc6",
    "idx": 21,
    "time": "2021-02-09T21:31:39.082Z",
    "type": "execution"
   },
   {
    "id": "51393f7a139543308cd8010ce390efc6",
    "time": "2021-02-09T21:31:39.142Z",
    "type": "completion"
   },
   {
    "code": "trials = 1000\nsteps = 10000\nprobR = 0.5 #Probability of a +1 (or right) step\nsamps = sampleTrajectories(trials, steps, prob=probR)",
    "id": "708e65b0480b4ec3853729d6a2745bfb",
    "idx": 26,
    "time": "2021-02-09T21:37:53.571Z",
    "type": "execution"
   },
   {
    "id": "708e65b0480b4ec3853729d6a2745bfb",
    "time": "2021-02-09T21:37:56.234Z",
    "type": "completion"
   },
   {
    "code": "fig, ax = plt.subplots()\n\nnum_bins = 50\nn, bins, patches = ax.hist(samps, num_bins)\nx = np.arange(np.min(samps), np.max(samps), 2)\nx_range = np.max(samps) -np.min(samps)\nax.plot(x, (x_range/(2*num_bins))*trials*st.binom.pmf((x+steps)/2, steps, probR, loc=0), 'r-', label='Binomial p.d.f.')\nax.set_ylabel(\"Counts\")\nax.set_xlabel(\"Net Displacement\")\nax.legend()\nplt.show()\nplt.close()",
    "id": "5ab133733459402c8a2e0ef3665c8ba5",
    "idx": 27,
    "time": "2021-02-09T21:38:11.742Z",
    "type": "execution"
   },
   {
    "id": "5ab133733459402c8a2e0ef3665c8ba5",
    "time": "2021-02-09T21:38:14.295Z",
    "type": "completion"
   },
   {
    "code": "fig, ax = plt.subplots()\n\nnum_bins = 50\nn, bins, patches = ax.hist(samps, num_bins)\nx = np.arange(np.min(samps), np.max(samps), 1)\nx_range = np.max(samps) -np.min(samps)\nax.plot(x, (x_range/(2*num_bins))*trials*st.binom.pmf((x+steps)/2, steps, probR, loc=0), 'r-', label='Binomial p.d.f.')\nax.set_ylabel(\"Counts\")\nax.set_xlabel(\"Net Displacement\")\nax.legend()\nplt.show()\nplt.close()",
    "id": "5ab133733459402c8a2e0ef3665c8ba5",
    "idx": 27,
    "time": "2021-02-09T21:49:32.327Z",
    "type": "execution"
   },
   {
    "id": "5ab133733459402c8a2e0ef3665c8ba5",
    "time": "2021-02-09T21:49:32.886Z",
    "type": "completion"
   },
   {
    "code": "fig, ax = plt.subplots()\n\nnum_bins = 50\nn, bins, patches = ax.hist(samps, num_bins)\nx = np.arange(np.min(samps), np.max(samps), 2)\nx_range = np.max(samps) -np.min(samps)\nax.plot(x, (x_range/(2*num_bins))*trials*st.binom.pmf((x+steps)/2, steps, probR, loc=0), 'r-', label='Binomial p.d.f.')\nax.set_ylabel(\"Counts\")\nax.set_xlabel(\"Net Displacement\")\nax.legend()\nplt.show()\nplt.close()",
    "id": "5ab133733459402c8a2e0ef3665c8ba5",
    "idx": 27,
    "time": "2021-02-09T21:49:42.337Z",
    "type": "execution"
   },
   {
    "id": "5ab133733459402c8a2e0ef3665c8ba5",
    "time": "2021-02-09T21:49:42.998Z",
    "type": "completion"
   },
   {
    "code": "fig, ax = plt.subplots()\n\nnum_bins = 50\nn, bins, patches = ax.hist(samps, num_bins)\nx = np.arange(np.min(samps), np.max(samps), 4)\nx_range = np.max(samps) -np.min(samps)\nax.plot(x, (x_range/(2*num_bins))*trials*st.binom.pmf((x+steps)/2, steps, probR, loc=0), 'r-', label='Binomial p.d.f.')\nax.set_ylabel(\"Counts\")\nax.set_xlabel(\"Net Displacement\")\nax.legend()\nplt.show()\nplt.close()",
    "id": "5ab133733459402c8a2e0ef3665c8ba5",
    "idx": 27,
    "time": "2021-02-09T21:49:48.719Z",
    "type": "execution"
   },
   {
    "id": "5ab133733459402c8a2e0ef3665c8ba5",
    "time": "2021-02-09T21:49:49.268Z",
    "type": "completion"
   },
   {
    "code": "fig, ax = plt.subplots()\n\nnum_bins = 50\nn, bins, patches = ax.hist(samps, num_bins)\nx = np.arange(np.min(samps), np.max(samps), 10)\nx_range = np.max(samps) -np.min(samps)\nax.plot(x, (x_range/(2*num_bins))*trials*st.binom.pmf((x+steps)/2, steps, probR, loc=0), 'r-', label='Binomial p.d.f.')\nax.set_ylabel(\"Counts\")\nax.set_xlabel(\"Net Displacement\")\nax.legend()\nplt.show()\nplt.close()",
    "id": "5ab133733459402c8a2e0ef3665c8ba5",
    "idx": 27,
    "time": "2021-02-09T21:49:54.180Z",
    "type": "execution"
   },
   {
    "id": "5ab133733459402c8a2e0ef3665c8ba5",
    "time": "2021-02-09T21:49:54.701Z",
    "type": "completion"
   },
   {
    "code": "fig, ax = plt.subplots()\n\nnum_bins = 50\nn, bins, patches = ax.hist(samps, num_bins)\nx = np.arange(np.min(samps), np.max(samps), 100)\nx_range = np.max(samps) -np.min(samps)\nax.plot(x, (x_range/(2*num_bins))*trials*st.binom.pmf((x+steps)/2, steps, probR, loc=0), 'r-', label='Binomial p.d.f.')\nax.set_ylabel(\"Counts\")\nax.set_xlabel(\"Net Displacement\")\nax.legend()\nplt.show()\nplt.close()",
    "id": "5ab133733459402c8a2e0ef3665c8ba5",
    "idx": 27,
    "time": "2021-02-09T21:49:59.117Z",
    "type": "execution"
   },
   {
    "id": "5ab133733459402c8a2e0ef3665c8ba5",
    "time": "2021-02-09T21:49:59.658Z",
    "type": "completion"
   },
   {
    "code": "fig, ax = plt.subplots()\n\nnum_bins = 50\nn, bins, patches = ax.hist(samps, num_bins)\nx = np.arange(np.min(samps), np.max(samps), 2)\nx_range = np.max(samps) -np.min(samps)\nax.plot(x, (x_range/(2*num_bins))*trials*st.binom.pmf((x+steps)/2, steps, probR, loc=0), 'r-', label='Binomial p.d.f.')\nax.set_ylabel(\"Counts\")\nax.set_xlabel(\"Net Displacement\")\nax.legend()\nplt.show()\nplt.close()",
    "id": "5ab133733459402c8a2e0ef3665c8ba5",
    "idx": 27,
    "time": "2021-02-09T21:50:08.520Z",
    "type": "execution"
   },
   {
    "id": "5ab133733459402c8a2e0ef3665c8ba5",
    "time": "2021-02-09T21:50:09.047Z",
    "type": "completion"
   },
   {
    "code": "#fig, ax = plt.subplots()\n\nnum_bins = 50\nn, bins, patches = ax.hist(samps, num_bins)\nx = np.arange(np.min(samps), np.max(samps), 2)\nx_range = np.max(samps) -np.min(samps)\nax.set_ylabel(\"Counts\")\nax.set_xlabel(\"Net Displacement\")\nplt.show()\nplt.close()",
    "id": "6f989f4a37b64a9086321de997d18729",
    "idx": 15,
    "time": "2021-02-09T21:55:37.635Z",
    "type": "execution"
   },
   {
    "id": "6f989f4a37b64a9086321de997d18729",
    "time": "2021-02-09T21:55:37.769Z",
    "type": "completion"
   },
   {
    "code": "fig, ax = plt.subplots()\n\nnum_bins = 50\nn, bins, patches = ax.hist(samps, num_bins)\nx = np.arange(np.min(samps), np.max(samps), 2)\nx_range = np.max(samps) -np.min(samps)\nax.set_ylabel(\"Counts\")\nax.set_xlabel(\"Net Displacement\")\nplt.show()\nplt.close()",
    "id": "6f989f4a37b64a9086321de997d18729",
    "idx": 15,
    "time": "2021-02-09T21:57:50.642Z",
    "type": "execution"
   },
   {
    "id": "6f989f4a37b64a9086321de997d18729",
    "time": "2021-02-09T21:57:51.231Z",
    "type": "completion"
   },
   {
    "code": "trials = 1000\nsteps = 10000\nprobR = 0.5 #Probability of a +1 (or right) step\nsamps = sampleTrajectories(trials, steps, prob=probR)",
    "id": "6581fa834ff845bda2bd7b916b517e49",
    "idx": 14,
    "time": "2021-02-09T22:00:14.192Z",
    "type": "execution"
   },
   {
    "code": "fig, ax = plt.subplots()\n\nnum_bins = 50\nn, bins, patches = ax.hist(samps, num_bins)\nx = np.arange(np.min(samps), np.max(samps), 2)\nx_range = np.max(samps) -np.min(samps)\nax.set_ylabel(\"Counts\")\nax.set_xlabel(\"Net Displacement\")\nplt.show()\nplt.close()",
    "id": "6f989f4a37b64a9086321de997d18729",
    "idx": 15,
    "time": "2021-02-09T22:00:15.375Z",
    "type": "execution"
   },
   {
    "id": "6581fa834ff845bda2bd7b916b517e49",
    "time": "2021-02-09T22:00:17.851Z",
    "type": "completion"
   },
   {
    "id": "6f989f4a37b64a9086321de997d18729",
    "time": "2021-02-09T22:00:18.567Z",
    "type": "completion"
   },
   {
    "code": "fig, ax = plt.subplots()\n\nnum_bins = 50\nn, bins, patches = ax.hist(samps, num_bins)\nx = np.arange(np.min(samps), np.max(samps), 2)\nx_range = np.max(samps) -np.min(samps)\nax.set_ylabel(\"Counts\")\nax.set_xlabel(\"Net Displacement\")\nplt.show()\nplt.close()",
    "id": "4240e595fcc44400a4cca2bcf759a89c",
    "idx": 17,
    "time": "2021-02-09T22:00:26.420Z",
    "type": "execution"
   },
   {
    "id": "4240e595fcc44400a4cca2bcf759a89c",
    "time": "2021-02-09T22:00:26.953Z",
    "type": "completion"
   },
   {
    "code": "#Solution\nseq = np.random.choice([-1,1], size=10000)\nprint(np.sum(seq))\nprint(np.mean(seq))",
    "id": "3597991278e645578ba09ba30c098776",
    "idx": 6,
    "time": "2021-02-10T01:18:18.499Z",
    "type": "execution"
   },
   {
    "id": "3597991278e645578ba09ba30c098776",
    "time": "2021-02-10T01:18:18.644Z",
    "type": "completion"
   },
   {
    "code": "import numpy as np\nimport scipy.stats as st\nimport matplotlib.pyplot as plt",
    "id": "bf6f0cfbb228466f8b153b6f36ba116e",
    "idx": 3,
    "time": "2021-02-10T01:18:25.814Z",
    "type": "execution"
   },
   {
    "id": "bf6f0cfbb228466f8b153b6f36ba116e",
    "time": "2021-02-10T01:18:26.832Z",
    "type": "completion"
   },
   {
    "code": "#Solution\nseq = np.random.choice([-1,1], size=10000)\nprint(np.sum(seq))\nprint(np.mean(seq))",
    "id": "3597991278e645578ba09ba30c098776",
    "idx": 6,
    "time": "2021-02-10T01:18:28.468Z",
    "type": "execution"
   },
   {
    "id": "3597991278e645578ba09ba30c098776",
    "time": "2021-02-10T01:18:30.535Z",
    "type": "completion"
   },
   {
    "code": "#c) Solution\n#Function that samples M number of trajectories, with N number of steps per trial\n#Inputs: Number of trials, number of steps per trial\n#Outputs: List of locations (integers) where the random walker stops at the end of all N steps of each trial\ndef sampleTrajectories(num_trials, num_steps, prob=0.5):\n    vals = np.zeros(num_trials, dtype=int)\n    for i in range(num_trials):\n        vals[i] = sum(np.random.choice([-1,1], p=[1-prob, prob], size=num_steps))\n    return vals",
    "id": "9b2041e073f2451d8e2ca1c4479820a6",
    "idx": 12,
    "time": "2021-02-10T01:33:55.924Z",
    "type": "execution"
   },
   {
    "id": "9b2041e073f2451d8e2ca1c4479820a6",
    "time": "2021-02-10T01:33:55.983Z",
    "type": "completion"
   },
   {
    "code": "#c) Solution",
    "id": "e612b77baa124c1483d8a019483e9c1e",
    "idx": 11,
    "time": "2021-02-10T01:34:17.985Z",
    "type": "execution"
   },
   {
    "id": "e612b77baa124c1483d8a019483e9c1e",
    "time": "2021-02-10T01:34:18.046Z",
    "type": "completion"
   },
   {
    "code": "#c) Solution\n#Function that samples M number of trajectories, with N number of steps per trial\n#Inputs: Number of trials, number of steps per trial\n#Outputs: List of locations (integers) where the random walker stops at the end of all N steps of each trial\ndef sampleTrajectories(num_trials, num_steps, prob=0.5):\n    vals = np.zeros(num_trials, dtype=int)\n    for i in range(num_trials):\n        vals[i] = sum(np.random.choice([-1,1], p=[1-prob, prob], size=num_steps))\n    return vals",
    "id": "9b2041e073f2451d8e2ca1c4479820a6",
    "idx": 12,
    "time": "2021-02-10T01:34:18.918Z",
    "type": "execution"
   },
   {
    "id": "9b2041e073f2451d8e2ca1c4479820a6",
    "time": "2021-02-10T01:34:18.977Z",
    "type": "completion"
   },
   {
    "code": "#c) Solution\n#Function that samples M number of trajectories, with N number of steps per trial\n#Inputs: Number of trials, number of steps per trial\n#Outputs: List of locations (integers) where the random walker stops at the end of all N steps of each trial\ndef Trajectories(num_trials, num_steps, prob=0.5):\n    vals = np.zeros(num_trials, dtype=int)\n    for i in range(num_trials):\n        vals[i] = sum(np.random.choice([-1,1], p=[1-prob, prob], size=num_steps))\n    return vals",
    "id": "9b2041e073f2451d8e2ca1c4479820a6",
    "idx": 12,
    "time": "2021-02-10T01:35:38.584Z",
    "type": "execution"
   },
   {
    "id": "9b2041e073f2451d8e2ca1c4479820a6",
    "time": "2021-02-10T01:35:38.680Z",
    "type": "completion"
   },
   {
    "code": "print(np.mean(samps))\nprint(np.var(samps))",
    "id": "db4fa23c982c41f8802a604d6f22d1a9",
    "idx": 19,
    "time": "2021-02-10T01:36:41.818Z",
    "type": "execution"
   },
   {
    "id": "db4fa23c982c41f8802a604d6f22d1a9",
    "time": "2021-02-10T01:36:41.952Z",
    "type": "completion"
   },
   {
    "code": "#d) Solution\ntrials = 1000\nsteps = 10000\nprobR = 0.5 #Probability of a +1 (or right) step\nsamps = Trajectories(trials, steps, prob=probR)",
    "id": "6581fa834ff845bda2bd7b916b517e49",
    "idx": 15,
    "time": "2021-02-10T01:36:49.076Z",
    "type": "execution"
   },
   {
    "code": "fig, ax = plt.subplots()\nnum_bins = 50\nn, bins, patches = ax.hist(samps, num_bins)\nx = np.arange(np.min(samps), np.max(samps), 2)\nx_range = np.max(samps) -np.min(samps)\nax.set_ylabel(\"Counts\")\nax.set_xlabel(\"Net Displacement\")\nplt.show()\nplt.close()",
    "id": "6f989f4a37b64a9086321de997d18729",
    "idx": 16,
    "time": "2021-02-10T01:36:50.112Z",
    "type": "execution"
   },
   {
    "id": "6581fa834ff845bda2bd7b916b517e49",
    "time": "2021-02-10T01:36:51.604Z",
    "type": "completion"
   },
   {
    "id": "6f989f4a37b64a9086321de997d18729",
    "time": "2021-02-10T01:36:51.954Z",
    "type": "completion"
   },
   {
    "code": "#e) Solution",
    "id": "396b58269ef04955b9fc7572439ac22e",
    "idx": 18,
    "time": "2021-02-10T01:37:42.104Z",
    "type": "execution"
   },
   {
    "id": "396b58269ef04955b9fc7572439ac22e",
    "time": "2021-02-10T01:37:42.167Z",
    "type": "completion"
   },
   {
    "code": "#e) Solution\nprint(np.mean(samps))\nprint(np.var(samps))",
    "id": "db4fa23c982c41f8802a604d6f22d1a9",
    "idx": 19,
    "time": "2021-02-10T01:37:43.097Z",
    "type": "execution"
   },
   {
    "id": "db4fa23c982c41f8802a604d6f22d1a9",
    "time": "2021-02-10T01:37:43.168Z",
    "type": "completion"
   },
   {
    "code": "#f) Solution\ntrials = 1000\nsteps = 10000\nprobR = 0.25 #Probability of a +1 (or right) step\nsamps = sampleTrajectories(trials, steps, prob=probR)",
    "id": "b6197f0fc1414250a410c675355afc36",
    "idx": 22,
    "time": "2021-02-10T01:38:55.463Z",
    "type": "execution"
   },
   {
    "code": "fig, ax = plt.subplots()\nnum_bins = 50\nn, bins, patches = ax.hist(samps, num_bins)\nx = np.arange(np.min(samps), np.max(samps), 2)\nx_range = np.max(samps) -np.min(samps)\nax.set_ylabel(\"Counts\")\nax.set_xlabel(\"Net Displacement\")\nplt.show()\nplt.close()",
    "id": "f75751c2f68540fb8c613a084305c573",
    "idx": 23,
    "time": "2021-02-10T01:38:56.965Z",
    "type": "execution"
   },
   {
    "id": "b6197f0fc1414250a410c675355afc36",
    "time": "2021-02-10T01:38:58.282Z",
    "type": "completion"
   },
   {
    "id": "f75751c2f68540fb8c613a084305c573",
    "time": "2021-02-10T01:38:58.620Z",
    "type": "completion"
   },
   {
    "code": "print(np.mean(samps))\nprint(np.var(samps))",
    "id": "51393f7a139543308cd8010ce390efc6",
    "idx": 24,
    "time": "2021-02-10T01:38:59.637Z",
    "type": "execution"
   },
   {
    "id": "51393f7a139543308cd8010ce390efc6",
    "time": "2021-02-10T01:38:59.697Z",
    "type": "completion"
   }
  ],
  "kernelspec": {
   "display_name": "Python 3",
   "language": "python",
   "name": "python3"
  },
  "language_info": {
   "codemirror_mode": {
    "name": "ipython",
    "version": 3
   },
   "file_extension": ".py",
   "mimetype": "text/x-python",
   "name": "python",
   "nbconvert_exporter": "python",
   "pygments_lexer": "ipython3",
   "version": "3.8.8"
  }
 },
 "nbformat": 4,
 "nbformat_minor": 2
}

{
 "cells": [
  {
   "cell_type": "markdown",
   "metadata": {},
   "source": [
    "#### Physics 112: Section 1: Professor Holzapfel\n",
    "#### HW3, Computational problem 2\n",
    "#### Photon Diffusion\n",
    "Copyright 2021 by the Regents of the University of California. All rights reserved."
   ]
  },
  {
   "cell_type": "markdown",
   "metadata": {},
   "source": [
    "In this problem, we will numerically address the problem presented in HW1 (problem 6) of a photon escaping from the Sun. We will model the Sun as a sphere of uniform density with an abrupt edge. The photons scatter and perform a random walk with steps of uniform length until they reach the boundry at the edge of the Sun at which point they are assumed to escape. We will first address the one dimensional version of this photon escape problem. In this 1D walk, we calculate the distribution of the number of steps required for a photon to first reach a distance $z_{max}$ from the origin where it presumed to escape. "
   ]
  },
  {
   "cell_type": "markdown",
   "metadata": {},
   "source": [
    "Start by importing the necessary python numerical, statistics, and plotting libraries and abrieviate them:"
   ]
  },
  {
   "cell_type": "code",
   "execution_count": 146,
   "metadata": {},
   "outputs": [],
   "source": [
    "import numpy as np\n",
    "import scipy.stats as st\n",
    "import matplotlib.pyplot as plt"
   ]
  },
  {
   "cell_type": "markdown",
   "metadata": {},
   "source": [
    "#### a) Create a function Escape(M, z_max) that creates M sequences of random steps of +1 and -1 in z that terminate when abs(z) exceeds $z_{max}$ and the photon escapes. This function should return an array with M values of the number of steps required for each photon to escape. Input your answer in the cell below."
   ]
  },
  {
   "cell_type": "code",
   "execution_count": 147,
   "metadata": {},
   "outputs": [],
   "source": [
    "#a) Solution"
   ]
  },
  {
   "cell_type": "markdown",
   "metadata": {},
   "source": [
    "#### b) Run Escape(M, z_max) for $M=1000$ trials with $z_{max}=10$ and plot a histogram of the steps required for photons to escape."
   ]
  },
  {
   "cell_type": "code",
   "execution_count": 149,
   "metadata": {},
   "outputs": [],
   "source": [
    "#b) Solution"
   ]
  },
  {
   "cell_type": "markdown",
   "metadata": {},
   "source": [
    "#### c) Compute the the mean number of steps for a photon to escape. Repeat this calculation for values of $z_{max} = 3, 5, 10, 20, 30$. Interpret the mean number of steps in each case in terms of $z_{max}$."
   ]
  },
  {
   "cell_type": "code",
   "execution_count": 152,
   "metadata": {},
   "outputs": [],
   "source": [
    "#c) Solution"
   ]
  },
  {
   "cell_type": "markdown",
   "metadata": {},
   "source": [
    "The number of steps required for a photon to escape is very close to $z_{max}^2$"
   ]
  },
  {
   "cell_type": "markdown",
   "metadata": {},
   "source": [
    "#### Now we consider the problem of a photon diffusing out of the Sun in 3 dimensions. \n",
    "Assume that each step is an independent random walk in x, y, and z. If the mean free path for each step is $\\Delta r=1$, then the mean step sizes in x, y, and z are $\\Delta x=\\Delta y= \\Delta z =\\frac{1}{\\sqrt{3}}$. Assume the Sun has an abrupt edge $r=r_{max}$ and a photon reaching that edge escapes, never to return. \n",
    "\n",
    "#### d) Create a function Escape3d(M, r_max) that returns an M-element array of the number of steps for the photon to escape in each of the trials."
   ]
  },
  {
   "cell_type": "code",
   "execution_count": 154,
   "metadata": {},
   "outputs": [],
   "source": [
    "#d) Solution"
   ]
  },
  {
   "cell_type": "markdown",
   "metadata": {},
   "source": [
    "#### e) Run Escape3d(M, r_max) for $M = 1000$ trials with $r_{max} = 30$ and produce a histogram of the results."
   ]
  },
  {
   "cell_type": "code",
   "execution_count": 156,
   "metadata": {},
   "outputs": [],
   "source": [
    "#e) Solution"
   ]
  },
  {
   "cell_type": "markdown",
   "metadata": {},
   "source": [
    "#### f) Compute the mean number of steps required for a photon to escape for $r_{max}= 3, 5, 10, 20, 30$. Keep the number of trials at $M=1000$. How does the average number of steps for escape depend on $r_{max}$?  Compare your results with the rough approximation for the number of steps required for a photon to escape the Sun (when compared with the radius of the Sun) found in HW1 (problem 6). "
   ]
  },
  {
   "cell_type": "code",
   "execution_count": null,
   "metadata": {},
   "outputs": [],
   "source": [
    "#f) Solution"
   ]
  }
 ],
 "metadata": {
  "anaconda-cloud": {},
  "history": [
   {
    "code": "trials = 10000\nsteps = 1000\nprobR = 0.25 #Probability of a +1 (or right) step\nsamps = sampleTrajectories(trials, steps, prob=probR)",
    "id": "ed1ea916255e450e89375eb40e312fe5",
    "idx": 5,
    "time": "2021-02-09T01:30:01.922Z",
    "type": "execution"
   },
   {
    "id": "ed1ea916255e450e89375eb40e312fe5",
    "time": "2021-02-09T01:30:02.065Z",
    "type": "completion"
   },
   {
    "code": "import numpy as np\nimport scipy.stats as st\nimport matplotlib.pyplot as plt",
    "id": "e74988113d194d328e5c2c538ffe9284",
    "idx": 0,
    "time": "2021-02-09T01:30:09.585Z",
    "type": "execution"
   },
   {
    "id": "e74988113d194d328e5c2c538ffe9284",
    "time": "2021-02-09T01:30:10.434Z",
    "type": "completion"
   },
   {
    "code": "np.random.choice([-1,1], size=7)",
    "id": "e3f92094badc4d81a7a03780c0686ba1",
    "idx": 2,
    "time": "2021-02-09T01:30:10.871Z",
    "type": "execution"
   },
   {
    "id": "e3f92094badc4d81a7a03780c0686ba1",
    "time": "2021-02-09T01:30:10.934Z",
    "type": "completion"
   },
   {
    "code": "#Function that samples M number of trajectories, with N number of steps per trial\n#Inputs: Number of trials, number of steps per trial\n#Outputs: List of locations (integers) where the random walker stops at the end of all N steps of each trial\ndef sampleTrajectories(num_trials, num_steps, prob=0.5):\n    vals = np.zeros(num_trials, dtype=int)\n    for i in range(num_trials):\n        vals[i] = sum(np.random.choice([-1,1], p=[1-prob, prob], size=num_steps))\n    return vals",
    "id": "35751fd4a6d94a28a045573580711d3c",
    "idx": 4,
    "time": "2021-02-09T01:30:12.581Z",
    "type": "execution"
   },
   {
    "id": "35751fd4a6d94a28a045573580711d3c",
    "time": "2021-02-09T01:30:12.638Z",
    "type": "completion"
   },
   {
    "code": "trials = 10000\nsteps = 1000\nprobR = 0.25 #Probability of a +1 (or right) step\nsamps = sampleTrajectories(trials, steps, prob=probR)",
    "id": "ed1ea916255e450e89375eb40e312fe5",
    "idx": 5,
    "time": "2021-02-09T01:30:13.542Z",
    "type": "execution"
   },
   {
    "id": "ed1ea916255e450e89375eb40e312fe5",
    "time": "2021-02-09T01:30:16.691Z",
    "type": "completion"
   },
   {
    "code": "print(np.mean(samps))\nprint(np.var(samps))",
    "id": "0a938262ef8945de87ba231a17544de2",
    "idx": 7,
    "time": "2021-02-09T01:30:25.440Z",
    "type": "execution"
   },
   {
    "id": "0a938262ef8945de87ba231a17544de2",
    "time": "2021-02-09T01:30:25.522Z",
    "type": "completion"
   },
   {
    "code": "test_N = [250, 500, 750, 1000, 1250, 1500]\nvarns = np.zeros(len(test_N))\nfor i in range(len(test_N)):\n    varns[i] = np.var(sampleTrajectories(trials, test_N[i]))",
    "id": "1df029d0b48845d7863c05accf839d60",
    "idx": 9,
    "time": "2021-02-09T01:30:36.551Z",
    "type": "execution"
   },
   {
    "code": "fig, ax = plt.subplots()\n\nax.plot(test_N, varns, 'ro', ms=8)\nax.set_ylabel(\"Variance\")\nax.set_xlabel(\"Steps\")\nplt.show()\nplt.close()",
    "id": "6c522274b1e740a183176a4cfb47f8a1",
    "idx": 10,
    "time": "2021-02-09T01:30:43.031Z",
    "type": "execution"
   },
   {
    "id": "1df029d0b48845d7863c05accf839d60",
    "time": "2021-02-09T01:30:53.488Z",
    "type": "completion"
   },
   {
    "id": "6c522274b1e740a183176a4cfb47f8a1",
    "time": "2021-02-09T01:30:53.727Z",
    "type": "completion"
   },
   {
    "code": "test_N = [250, 500, 750, 1000, 1250, 1500]\nvarns = np.zeros(len(test_N))\nfor i in range(len(test_N)):\n    varns[i] = np.var(sampleTrajectories(trials, test_N[i], probR))",
    "id": "1df029d0b48845d7863c05accf839d60",
    "idx": 9,
    "time": "2021-02-09T01:31:31.741Z",
    "type": "execution"
   },
   {
    "code": "fig, ax = plt.subplots()\n\nax.plot(test_N, varns, 'ro', ms=8)\nax.set_ylabel(\"Variance\")\nax.set_xlabel(\"Steps\")\nplt.show()\nplt.close()",
    "id": "6c522274b1e740a183176a4cfb47f8a1",
    "idx": 10,
    "time": "2021-02-09T01:31:37.291Z",
    "type": "execution"
   },
   {
    "id": "1df029d0b48845d7863c05accf839d60",
    "time": "2021-02-09T01:31:47.663Z",
    "type": "completion"
   },
   {
    "id": "6c522274b1e740a183176a4cfb47f8a1",
    "time": "2021-02-09T01:31:47.830Z",
    "type": "completion"
   },
   {
    "code": "coeffs = np.polyfit(test_N, varns, 1)\nfit = np.poly1d(coeffs)\nprint(fit)\n\nfig, ax = plt.subplots()\nax.plot(test_N, varns, 'ro', ms=8)\nax.plot(test_N, fit(test_N), 'b-')\nax.set_ylabel(\"Variance\")\nax.set_xlabel(\"Steps\")\nplt.show()\nplt.close()",
    "id": "4b1e2002b9e0492ca116cf7c3131d276",
    "idx": 12,
    "time": "2021-02-09T01:32:04.228Z",
    "type": "execution"
   },
   {
    "id": "4b1e2002b9e0492ca116cf7c3131d276",
    "time": "2021-02-09T01:32:04.524Z",
    "type": "completion"
   },
   {
    "code": "trials = 10000\nsteps = 1000\nprobR = 0.5 #Probability of a +1 (or right) step\nsamps = sampleTrajectories(trials, steps, prob=probR)",
    "id": "ed1ea916255e450e89375eb40e312fe5",
    "idx": 5,
    "time": "2021-02-09T01:33:44.529Z",
    "type": "execution"
   },
   {
    "code": "print(np.mean(samps))\nprint(np.var(samps))",
    "id": "0a938262ef8945de87ba231a17544de2",
    "idx": 7,
    "time": "2021-02-09T01:33:45.856Z",
    "type": "execution"
   },
   {
    "id": "ed1ea916255e450e89375eb40e312fe5",
    "time": "2021-02-09T01:33:48.272Z",
    "type": "completion"
   },
   {
    "id": "0a938262ef8945de87ba231a17544de2",
    "time": "2021-02-09T01:33:48.277Z",
    "type": "completion"
   },
   {
    "code": "print(np.mean(samps))\nprint(np.var(samps))",
    "id": "0a938262ef8945de87ba231a17544de2",
    "idx": 7,
    "time": "2021-02-09T01:34:02.244Z",
    "type": "execution"
   },
   {
    "id": "0a938262ef8945de87ba231a17544de2",
    "time": "2021-02-09T01:34:02.302Z",
    "type": "completion"
   },
   {
    "code": "trials = 10000\nsteps = 1000\nprobR = 0.5 #Probability of a +1 (or right) step\nsamps = sampleTrajectories(trials, steps, prob=probR)",
    "id": "ed1ea916255e450e89375eb40e312fe5",
    "idx": 5,
    "time": "2021-02-09T01:34:05.989Z",
    "type": "execution"
   },
   {
    "code": "print(np.mean(samps))\nprint(np.var(samps))",
    "id": "0a938262ef8945de87ba231a17544de2",
    "idx": 7,
    "time": "2021-02-09T01:34:07.520Z",
    "type": "execution"
   },
   {
    "id": "ed1ea916255e450e89375eb40e312fe5",
    "time": "2021-02-09T01:34:09.250Z",
    "type": "completion"
   },
   {
    "id": "0a938262ef8945de87ba231a17544de2",
    "time": "2021-02-09T01:34:09.267Z",
    "type": "completion"
   },
   {
    "code": "trials = 10000\nsteps = 1000\nprobR = 0.25 #Probability of a +1 (or right) step\nsamps = sampleTrajectories(trials, steps, prob=probR)",
    "id": "ed1ea916255e450e89375eb40e312fe5",
    "idx": 5,
    "time": "2021-02-09T01:34:29.778Z",
    "type": "execution"
   },
   {
    "code": "print(np.mean(samps))\nprint(np.var(samps))",
    "id": "0a938262ef8945de87ba231a17544de2",
    "idx": 7,
    "time": "2021-02-09T01:34:32.161Z",
    "type": "execution"
   },
   {
    "id": "ed1ea916255e450e89375eb40e312fe5",
    "time": "2021-02-09T01:34:32.870Z",
    "type": "completion"
   },
   {
    "id": "0a938262ef8945de87ba231a17544de2",
    "time": "2021-02-09T01:34:32.874Z",
    "type": "completion"
   },
   {
    "code": "test_N = [250, 500, 750, 1000, 1250, 1500]\nvarns = np.zeros(len(test_N))\nfor i in range(len(test_N)):\n    varns[i] = np.var(sampleTrajectories(trials, test_N[i], probR))",
    "id": "1df029d0b48845d7863c05accf839d60",
    "idx": 9,
    "time": "2021-02-09T01:34:40.554Z",
    "type": "execution"
   },
   {
    "code": "fig, ax = plt.subplots()\n\nax.plot(test_N, varns, 'ro', ms=8)\nax.set_ylabel(\"Variance\")\nax.set_xlabel(\"Steps\")\nplt.show()\nplt.close()",
    "id": "6c522274b1e740a183176a4cfb47f8a1",
    "idx": 10,
    "time": "2021-02-09T01:34:47.452Z",
    "type": "execution"
   },
   {
    "id": "1df029d0b48845d7863c05accf839d60",
    "time": "2021-02-09T01:34:57.553Z",
    "type": "completion"
   },
   {
    "id": "6c522274b1e740a183176a4cfb47f8a1",
    "time": "2021-02-09T01:34:57.714Z",
    "type": "completion"
   },
   {
    "code": "print(np.mean(samps))\nprint(np.var(samps))",
    "id": "0a938262ef8945de87ba231a17544de2",
    "idx": 7,
    "time": "2021-02-09T01:38:02.250Z",
    "type": "execution"
   },
   {
    "id": "0a938262ef8945de87ba231a17544de2",
    "time": "2021-02-09T01:38:02.309Z",
    "type": "completion"
   },
   {
    "code": "test_N = [250, 500, 750, 1000, 1250, 1500]\nvarns = np.zeros(len(test_N))\nfor i in range(len(test_N)):\n    varns[i] = np.var(sampleTrajectories(trials, test_N[i], probR))",
    "id": "1df029d0b48845d7863c05accf839d60",
    "idx": 9,
    "time": "2021-02-09T01:38:04.688Z",
    "type": "execution"
   },
   {
    "code": "fig, ax = plt.subplots()\n\nax.plot(test_N, varns, 'ro', ms=8)\nax.set_ylabel(\"Variance\")\nax.set_xlabel(\"Steps\")\nplt.show()\nplt.close()",
    "id": "6c522274b1e740a183176a4cfb47f8a1",
    "idx": 10,
    "time": "2021-02-09T01:38:07.400Z",
    "type": "execution"
   },
   {
    "id": "1df029d0b48845d7863c05accf839d60",
    "time": "2021-02-09T01:38:20.958Z",
    "type": "completion"
   },
   {
    "id": "6c522274b1e740a183176a4cfb47f8a1",
    "time": "2021-02-09T01:38:21.136Z",
    "type": "completion"
   },
   {
    "code": "coeffs = np.polyfit(test_N, varns, 1)\nfit = np.poly1d(coeffs)\nprint(fit)\n\nfig, ax = plt.subplots()\nax.plot(test_N, varns, 'ro', ms=8)\nax.plot(test_N, fit(test_N), 'b-')\nax.set_ylabel(\"Variance\")\nax.set_xlabel(\"Steps\")\nplt.show()\nplt.close()",
    "id": "4b1e2002b9e0492ca116cf7c3131d276",
    "idx": 12,
    "time": "2021-02-09T01:38:22.238Z",
    "type": "execution"
   },
   {
    "id": "4b1e2002b9e0492ca116cf7c3131d276",
    "time": "2021-02-09T01:38:22.508Z",
    "type": "completion"
   },
   {
    "code": "trials = 10000\nsteps = 1000\nprobR = 0.5 #Probability of a +1 (or right) step\nsamps = sampleTrajectories(trials, steps, prob=probR)",
    "id": "ed1ea916255e450e89375eb40e312fe5",
    "idx": 5,
    "time": "2021-02-09T01:38:56.292Z",
    "type": "execution"
   },
   {
    "code": "print(np.mean(samps))\nprint(np.var(samps))",
    "id": "0a938262ef8945de87ba231a17544de2",
    "idx": 7,
    "time": "2021-02-09T01:38:57.652Z",
    "type": "execution"
   },
   {
    "id": "ed1ea916255e450e89375eb40e312fe5",
    "time": "2021-02-09T01:38:59.685Z",
    "type": "completion"
   },
   {
    "id": "0a938262ef8945de87ba231a17544de2",
    "time": "2021-02-09T01:38:59.690Z",
    "type": "completion"
   },
   {
    "code": "test_N = [250, 500, 750, 1000, 1250, 1500]\nvarns = np.zeros(len(test_N))\nfor i in range(len(test_N)):\n    varns[i] = np.var(sampleTrajectories(trials, test_N[i], probR))",
    "id": "1df029d0b48845d7863c05accf839d60",
    "idx": 9,
    "time": "2021-02-09T01:39:03.684Z",
    "type": "execution"
   },
   {
    "code": "fig, ax = plt.subplots()\n\nax.plot(test_N, varns, 'ro', ms=8)\nax.set_ylabel(\"Variance\")\nax.set_xlabel(\"Steps\")\nplt.show()\nplt.close()",
    "id": "6c522274b1e740a183176a4cfb47f8a1",
    "idx": 10,
    "time": "2021-02-09T01:39:06.895Z",
    "type": "execution"
   },
   {
    "code": "coeffs = np.polyfit(test_N, varns, 1)\nfit = np.poly1d(coeffs)\nprint(fit)\n\nfig, ax = plt.subplots()\nax.plot(test_N, varns, 'ro', ms=8)\nax.plot(test_N, fit(test_N), 'b-')\nax.set_ylabel(\"Variance\")\nax.set_xlabel(\"Steps\")\nplt.show()\nplt.close()",
    "id": "4b1e2002b9e0492ca116cf7c3131d276",
    "idx": 12,
    "time": "2021-02-09T01:39:16.328Z",
    "type": "execution"
   },
   {
    "id": "1df029d0b48845d7863c05accf839d60",
    "time": "2021-02-09T01:39:20.190Z",
    "type": "completion"
   },
   {
    "id": "6c522274b1e740a183176a4cfb47f8a1",
    "time": "2021-02-09T01:39:20.372Z",
    "type": "completion"
   },
   {
    "id": "4b1e2002b9e0492ca116cf7c3131d276",
    "time": "2021-02-09T01:39:20.623Z",
    "type": "completion"
   },
   {
    "code": "#Function that samples M number of trajectories, stopping when a walker reaches a distance z away from the origin\n#Inputs: Number of trials, distance to the edge\n#Outputs: List of integers for the number of steps taken until reaching a distance z\ndef sampleEscapeTraj(trials, z):\n    escSteps = np.zeros(trials)\n    for i in range(trials):\n        stepNum = 0\n        curPos = 0\n        while abs(curPos)!=z:\n            curPos += np.random.choice([-1, 1])\n            stepNum += 1\n        escSteps[i] = stepNum\n    return escSteps",
    "id": "15ec0e12d37c4fd4853576687a4634d6",
    "idx": 19,
    "time": "2021-02-09T01:51:21.702Z",
    "type": "execution"
   },
   {
    "id": "15ec0e12d37c4fd4853576687a4634d6",
    "time": "2021-02-09T01:51:21.769Z",
    "type": "completion"
   },
   {
    "code": "trials = 1000\nz = 100\nescSamps = sampleEscapeTraj(trials, z)",
    "id": "aeae959941cb46f88eda981eecda3f8c",
    "idx": 20,
    "time": "2021-02-09T01:51:23.460Z",
    "type": "execution"
   },
   {
    "code": "fig, ax = plt.subplots()\n\nnum_bins = 30\nn, bins, patches = ax.hist(escSamps, num_bins)\nax.set_ylabel(\"Counts\")\nax.set_xlabel(\"Steps to $z$\")\nplt.show()\nplt.close()",
    "id": "3b825f4c6bc84ef881373ab7d428b1ef",
    "idx": 22,
    "time": "2021-02-09T01:51:30.970Z",
    "type": "execution"
   },
   {
    "code": "trials = 10\nz = 100\nescSamps = sampleEscapeTraj(trials, z)",
    "id": "aeae959941cb46f88eda981eecda3f8c",
    "idx": 20,
    "time": "2021-02-09T01:52:36.293Z",
    "type": "execution"
   },
   {
    "id": "3b825f4c6bc84ef881373ab7d428b1ef",
    "time": "2021-02-09T01:52:38.658Z",
    "type": "completion"
   },
   {
    "id": "aeae959941cb46f88eda981eecda3f8c",
    "time": "2021-02-09T01:52:39.560Z",
    "type": "completion"
   },
   {
    "id": "aeae959941cb46f88eda981eecda3f8c",
    "time": "2021-02-09T01:52:39.560Z",
    "type": "completion"
   },
   {
    "code": "fig, ax = plt.subplots()\n\nnum_bins = 30\nn, bins, patches = ax.hist(escSamps, num_bins)\nax.set_ylabel(\"Counts\")\nax.set_xlabel(\"Steps to $z$\")\nplt.show()\nplt.close()",
    "id": "3b825f4c6bc84ef881373ab7d428b1ef",
    "idx": 22,
    "time": "2021-02-09T01:52:59.832Z",
    "type": "execution"
   },
   {
    "id": "3b825f4c6bc84ef881373ab7d428b1ef",
    "time": "2021-02-09T01:53:00.150Z",
    "type": "completion"
   },
   {
    "code": "trials = 1000\nz = 100\nescSamps = sampleEscapeTraj(trials, z)",
    "id": "aeae959941cb46f88eda981eecda3f8c",
    "idx": 20,
    "time": "2021-02-09T01:53:12.336Z",
    "type": "execution"
   },
   {
    "code": "fig, ax = plt.subplots()\n\nnum_bins = 30\nn, bins, patches = ax.hist(escSamps, num_bins)\nax.set_ylabel(\"Counts\")\nax.set_xlabel(\"Steps to $z$\")\nplt.show()\nplt.close()",
    "id": "3b825f4c6bc84ef881373ab7d428b1ef",
    "idx": 22,
    "time": "2021-02-09T01:53:14.360Z",
    "type": "execution"
   },
   {
    "code": "fig, ax = plt.subplots()\n\nnum_bins = 30\nn, bins, patches = ax.hist(escSamps, num_bins)\nax.set_ylabel(\"Counts\")\nax.set_xlabel(\"Steps to $z$\")\nplt.show()\nplt.close()",
    "id": "3b825f4c6bc84ef881373ab7d428b1ef",
    "idx": 22,
    "time": "2021-02-09T01:54:13.290Z",
    "type": "execution"
   },
   {
    "id": "aeae959941cb46f88eda981eecda3f8c",
    "time": "2021-02-09T01:54:26.902Z",
    "type": "completion"
   },
   {
    "id": "3b825f4c6bc84ef881373ab7d428b1ef",
    "time": "2021-02-09T01:54:27.439Z",
    "type": "completion"
   },
   {
    "id": "3b825f4c6bc84ef881373ab7d428b1ef",
    "time": "2021-02-09T01:54:27.440Z",
    "type": "completion"
   },
   {
    "code": "trials = 100\nz = 100\nescSamps = sampleEscapeTraj(trials, z)",
    "id": "aeae959941cb46f88eda981eecda3f8c",
    "idx": 20,
    "time": "2021-02-09T01:57:01.564Z",
    "type": "execution"
   },
   {
    "code": "fig, ax = plt.subplots()\n\nnum_bins = 30\nn, bins, patches = ax.hist(escSamps, num_bins)\nax.set_ylabel(\"Counts\")\nax.set_xlabel(\"Steps to $z$\")\nplt.show()\nplt.close()",
    "id": "3b825f4c6bc84ef881373ab7d428b1ef",
    "idx": 22,
    "time": "2021-02-09T01:57:04.931Z",
    "type": "execution"
   },
   {
    "id": "aeae959941cb46f88eda981eecda3f8c",
    "time": "2021-02-09T01:57:09.777Z",
    "type": "completion"
   },
   {
    "id": "3b825f4c6bc84ef881373ab7d428b1ef",
    "time": "2021-02-09T01:57:10.034Z",
    "type": "completion"
   },
   {
    "code": "print(np.mean(escSamps))",
    "id": "baa5fd01ae63480f8a258a85ab03b3a6",
    "idx": 25,
    "time": "2021-02-09T02:03:58.605Z",
    "type": "execution"
   },
   {
    "id": "baa5fd01ae63480f8a258a85ab03b3a6",
    "time": "2021-02-09T02:03:58.684Z",
    "type": "completion"
   },
   {
    "code": "trials = 100\nz = 100\nescSamps = sampleEscapeTraj(trials, z)",
    "id": "aeae959941cb46f88eda981eecda3f8c",
    "idx": 20,
    "time": "2021-02-09T02:04:29.505Z",
    "type": "execution"
   },
   {
    "code": "fig, ax = plt.subplots()\n\nnum_bins = 30\nn, bins, patches = ax.hist(escSamps, num_bins)\nax.set_ylabel(\"Counts\")\nax.set_xlabel(\"Steps to $z$\")\nplt.show()\nplt.close()",
    "id": "3b825f4c6bc84ef881373ab7d428b1ef",
    "idx": 22,
    "time": "2021-02-09T02:04:31.033Z",
    "type": "execution"
   },
   {
    "code": "print(np.mean(escSamps))",
    "id": "baa5fd01ae63480f8a258a85ab03b3a6",
    "idx": 24,
    "time": "2021-02-09T02:04:35.360Z",
    "type": "execution"
   },
   {
    "id": "aeae959941cb46f88eda981eecda3f8c",
    "time": "2021-02-09T02:04:40.599Z",
    "type": "completion"
   },
   {
    "id": "3b825f4c6bc84ef881373ab7d428b1ef",
    "time": "2021-02-09T02:04:40.616Z",
    "type": "completion"
   },
   {
    "id": "baa5fd01ae63480f8a258a85ab03b3a6",
    "time": "2021-02-09T02:04:40.639Z",
    "type": "completion"
   },
   {
    "code": "#Function that samples M number of trajectories, stopping when a walker reaches a distance z away from the origin\n#Inputs: Number of trials, distance to the edge\n#Outputs: List of integers for the number of steps taken until reaching a distance z\ndef sampleEscapeTraj(trials, z):\n    escSteps = np.zeros(trials)\n    for i in range(trials):\n        stepNum = 0\n        curPos = 0\n        while abs(curPos)!=z:\n            curPos += np.random.choice([-1, 1])\n            stepNum += 1\n        escSteps[i] = stepNum\n    return escSteps",
    "id": "15ec0e12d37c4fd4853576687a4634d6",
    "idx": 19,
    "time": "2021-02-09T02:04:54.970Z",
    "type": "execution"
   },
   {
    "id": "15ec0e12d37c4fd4853576687a4634d6",
    "time": "2021-02-09T02:04:55.027Z",
    "type": "completion"
   },
   {
    "code": "trials = 100\nz = 100\nescSamps = sampleEscapeTraj(trials, z)",
    "id": "aeae959941cb46f88eda981eecda3f8c",
    "idx": 20,
    "time": "2021-02-09T02:04:55.648Z",
    "type": "execution"
   },
   {
    "code": "fig, ax = plt.subplots()\n\nnum_bins = 30\nn, bins, patches = ax.hist(escSamps, num_bins)\nax.set_ylabel(\"Counts\")\nax.set_xlabel(\"Steps to $z$\")\nplt.show()\nplt.close()",
    "id": "3b825f4c6bc84ef881373ab7d428b1ef",
    "idx": 22,
    "time": "2021-02-09T02:04:57.636Z",
    "type": "execution"
   },
   {
    "code": "print(np.mean(escSamps))",
    "id": "baa5fd01ae63480f8a258a85ab03b3a6",
    "idx": 24,
    "time": "2021-02-09T02:05:00.970Z",
    "type": "execution"
   },
   {
    "id": "aeae959941cb46f88eda981eecda3f8c",
    "time": "2021-02-09T02:05:02.664Z",
    "type": "completion"
   },
   {
    "id": "3b825f4c6bc84ef881373ab7d428b1ef",
    "time": "2021-02-09T02:05:02.984Z",
    "type": "completion"
   },
   {
    "id": "baa5fd01ae63480f8a258a85ab03b3a6",
    "time": "2021-02-09T02:05:02.989Z",
    "type": "completion"
   },
   {
    "code": "trials = 100\nz = 10\nescSamps = sampleEscapeTraj(trials, z)",
    "id": "aeae959941cb46f88eda981eecda3f8c",
    "idx": 20,
    "time": "2021-02-09T02:05:21.597Z",
    "type": "execution"
   },
   {
    "id": "aeae959941cb46f88eda981eecda3f8c",
    "time": "2021-02-09T02:05:21.736Z",
    "type": "completion"
   },
   {
    "code": "fig, ax = plt.subplots()\n\nnum_bins = 30\nn, bins, patches = ax.hist(escSamps, num_bins)\nax.set_ylabel(\"Counts\")\nax.set_xlabel(\"Steps to $z$\")\nplt.show()\nplt.close()",
    "id": "3b825f4c6bc84ef881373ab7d428b1ef",
    "idx": 22,
    "time": "2021-02-09T02:05:23.783Z",
    "type": "execution"
   },
   {
    "id": "3b825f4c6bc84ef881373ab7d428b1ef",
    "time": "2021-02-09T02:05:24.104Z",
    "type": "completion"
   },
   {
    "code": "print(np.mean(escSamps))",
    "id": "baa5fd01ae63480f8a258a85ab03b3a6",
    "idx": 24,
    "time": "2021-02-09T02:05:27.109Z",
    "type": "execution"
   },
   {
    "id": "baa5fd01ae63480f8a258a85ab03b3a6",
    "time": "2021-02-09T02:05:27.193Z",
    "type": "completion"
   },
   {
    "code": "trials = 100\nz = 200\nescSamps = sampleEscapeTraj(trials, z)",
    "id": "aeae959941cb46f88eda981eecda3f8c",
    "idx": 20,
    "time": "2021-02-09T02:06:07.793Z",
    "type": "execution"
   },
   {
    "code": "fig, ax = plt.subplots()\n\nnum_bins = 30\nn, bins, patches = ax.hist(escSamps, num_bins)\nax.set_ylabel(\"Counts\")\nax.set_xlabel(\"Steps to $z$\")\nplt.show()\nplt.close()",
    "id": "3b825f4c6bc84ef881373ab7d428b1ef",
    "idx": 22,
    "time": "2021-02-09T02:06:10.129Z",
    "type": "execution"
   },
   {
    "code": "print(np.mean(escSamps))",
    "id": "baa5fd01ae63480f8a258a85ab03b3a6",
    "idx": 24,
    "time": "2021-02-09T02:06:12.528Z",
    "type": "execution"
   },
   {
    "code": "test_z = [2, 4, 6, 8, 10, 12, 14, 16, 18, 20]\nmeanEsc = np.zeros(len(test_z))\nfor i in range(len(test_z)):\n    meanEsc[i] = np.mean(sampleEscapeTraj(trials, test_z[i]))",
    "id": "c92d1ee6507c4d8289dac35e4a0892bc",
    "idx": 26,
    "time": "2021-02-09T02:06:31.617Z",
    "type": "execution"
   },
   {
    "id": "aeae959941cb46f88eda981eecda3f8c",
    "time": "2021-02-09T02:06:35.859Z",
    "type": "completion"
   },
   {
    "id": "3b825f4c6bc84ef881373ab7d428b1ef",
    "time": "2021-02-09T02:06:36.131Z",
    "type": "completion"
   },
   {
    "id": "baa5fd01ae63480f8a258a85ab03b3a6",
    "time": "2021-02-09T02:06:36.173Z",
    "type": "completion"
   },
   {
    "id": "c92d1ee6507c4d8289dac35e4a0892bc",
    "time": "2021-02-09T02:06:37.283Z",
    "type": "completion"
   },
   {
    "code": "trials = 100\nz = 100\nescSamps = sampleEscapeTraj(trials, z)",
    "id": "aeae959941cb46f88eda981eecda3f8c",
    "idx": 20,
    "time": "2021-02-09T02:06:49.179Z",
    "type": "execution"
   },
   {
    "code": "fig, ax = plt.subplots()\n\nnum_bins = 30\nn, bins, patches = ax.hist(escSamps, num_bins)\nax.set_ylabel(\"Counts\")\nax.set_xlabel(\"Steps to $z$\")\nplt.show()\nplt.close()",
    "id": "3b825f4c6bc84ef881373ab7d428b1ef",
    "idx": 22,
    "time": "2021-02-09T02:06:54.323Z",
    "type": "execution"
   },
   {
    "code": "print(np.mean(escSamps))",
    "id": "baa5fd01ae63480f8a258a85ab03b3a6",
    "idx": 24,
    "time": "2021-02-09T02:06:56.754Z",
    "type": "execution"
   },
   {
    "id": "aeae959941cb46f88eda981eecda3f8c",
    "time": "2021-02-09T02:06:56.806Z",
    "type": "completion"
   },
   {
    "id": "3b825f4c6bc84ef881373ab7d428b1ef",
    "time": "2021-02-09T02:06:57.093Z",
    "type": "completion"
   },
   {
    "id": "baa5fd01ae63480f8a258a85ab03b3a6",
    "time": "2021-02-09T02:06:57.133Z",
    "type": "completion"
   },
   {
    "code": "trials = 1000\nz = 10\nescSamps = sampleEscapeTraj(trials, z)",
    "id": "aeae959941cb46f88eda981eecda3f8c",
    "idx": 20,
    "time": "2021-02-09T02:07:29.289Z",
    "type": "execution"
   },
   {
    "id": "aeae959941cb46f88eda981eecda3f8c",
    "time": "2021-02-09T02:07:30.070Z",
    "type": "completion"
   },
   {
    "code": "fig, ax = plt.subplots()\n\nnum_bins = 30\nn, bins, patches = ax.hist(escSamps, num_bins)\nax.set_ylabel(\"Counts\")\nax.set_xlabel(\"Steps to $z$\")\nplt.show()\nplt.close()",
    "id": "3b825f4c6bc84ef881373ab7d428b1ef",
    "idx": 22,
    "time": "2021-02-09T02:07:33.907Z",
    "type": "execution"
   },
   {
    "id": "3b825f4c6bc84ef881373ab7d428b1ef",
    "time": "2021-02-09T02:07:34.226Z",
    "type": "completion"
   },
   {
    "code": "trials = 5000\nz = 10\nescSamps = sampleEscapeTraj(trials, z)",
    "id": "aeae959941cb46f88eda981eecda3f8c",
    "idx": 20,
    "time": "2021-02-09T02:08:15.314Z",
    "type": "execution"
   },
   {
    "code": "fig, ax = plt.subplots()\n\nnum_bins = 30\nn, bins, patches = ax.hist(escSamps, num_bins)\nax.set_ylabel(\"Counts\")\nax.set_xlabel(\"Steps to $z$\")\nplt.show()\nplt.close()",
    "id": "3b825f4c6bc84ef881373ab7d428b1ef",
    "idx": 22,
    "time": "2021-02-09T02:08:17.515Z",
    "type": "execution"
   },
   {
    "id": "aeae959941cb46f88eda981eecda3f8c",
    "time": "2021-02-09T02:08:19.080Z",
    "type": "completion"
   },
   {
    "id": "3b825f4c6bc84ef881373ab7d428b1ef",
    "time": "2021-02-09T02:08:19.339Z",
    "type": "completion"
   },
   {
    "code": "print(np.mean(escSamps))",
    "id": "baa5fd01ae63480f8a258a85ab03b3a6",
    "idx": 24,
    "time": "2021-02-09T02:08:23.273Z",
    "type": "execution"
   },
   {
    "id": "baa5fd01ae63480f8a258a85ab03b3a6",
    "time": "2021-02-09T02:08:23.342Z",
    "type": "completion"
   },
   {
    "code": "#Function that samples M number of trajectories, stopping when a walker reaches a distance r away from the origin\n#Inputs: Number of trials, distance to the edge\n#Outputs: List of integers for the number of steps taken until reaching a distance r\n#In each time interval there is a random step of length $1/\\sqrt{3}$ \ndef sampleEscapeTraj(trials, z):\n    escSteps = np.zeros(trials)\n    for i in range(trials):\n        stepNum = 0\n        curPos = 0\n        while abs(curPos)!=z:\n            curPos += np.random.choice([-1, 1])\n            stepNum += 1\n        escSteps[i] = stepNum\n    return escSteps",
    "id": "47e5c7c23c6a438d9c20d1ff91ddf749",
    "idx": 31,
    "time": "2021-02-09T03:34:43.602Z",
    "type": "execution"
   },
   {
    "id": "47e5c7c23c6a438d9c20d1ff91ddf749",
    "time": "2021-02-09T03:34:43.711Z",
    "type": "completion"
   },
   {
    "code": "#Function that samples M number of trajectories, stopping when a walker reaches a distance r away from the origin\n#Inputs: Number of trials, distance to the edge\n#Outputs: List of integers for the number of steps taken until reaching a distance r\n#In each time interval there is a random step of length 1/sqrt(3) in x,y,and z. \ndef sampleEscapeTraj(trials, r):\n    rescSteps = np.zeros(trials)\n    for i in range(trials):\n        stepNum = 0\n        x = 0\n        y = 0 \n        z = 0\n        while (x**2+y**2+z**2 < r**2):\n            x += np.random.choice([-1, 1])/sqrt(3)\n            y += np.random.choice([-1, 1])/sqrt(3)\n            z += np.random.choice([-1, 1])/sqrt(3)\n            stepNum += 1\n        rescSteps[i] = stepNum\n    return rescSteps",
    "id": "47e5c7c23c6a438d9c20d1ff91ddf749",
    "idx": 31,
    "time": "2021-02-09T03:43:39.297Z",
    "type": "execution"
   },
   {
    "id": "47e5c7c23c6a438d9c20d1ff91ddf749",
    "time": "2021-02-09T03:43:39.374Z",
    "type": "completion"
   },
   {
    "code": "trials = 5000\nr = 10\nrescSamps = sampleEscapeTraj(trials, r)",
    "id": "d1ba13e6c95440088cb794bf560b6454",
    "idx": 32,
    "time": "2021-02-09T03:43:40.604Z",
    "type": "execution"
   },
   {
    "id": "d1ba13e6c95440088cb794bf560b6454",
    "time": "2021-02-09T03:43:40.746Z",
    "type": "completion"
   },
   {
    "code": "#Function that samples M number of trajectories, stopping when a walker reaches a distance r away from the origin\n#Inputs: Number of trials, distance to the edge\n#Outputs: List of integers for the number of steps taken until reaching a distance r\n#In each time interval there is a random step of length 1/sqrt(3) in x,y,and z. \ndef sampleEscapeTraj(trials, r):\n    rescSteps = np.zeros(trials)\n    for i in range(trials):\n        stepNum = 0\n        x = 0\n        y = 0 \n        z = 0\n        while (x**2+y**2+z**2 < r**2):\n            x += np.random.choice([-1, 1])/np.sqrt(3)\n            y += np.random.choice([-1, 1])/np.sqrt(3)\n            z += np.random.choice([-1, 1])/np.sqrt(3)\n            stepNum += 1\n        rescSteps[i] = stepNum\n    return rescSteps",
    "id": "47e5c7c23c6a438d9c20d1ff91ddf749",
    "idx": 31,
    "time": "2021-02-09T03:44:51.331Z",
    "type": "execution"
   },
   {
    "id": "47e5c7c23c6a438d9c20d1ff91ddf749",
    "time": "2021-02-09T03:44:51.404Z",
    "type": "completion"
   },
   {
    "code": "#Function that samples M number of trajectories, stopping when a walker reaches a distance r away from the origin\n#Inputs: Number of trials, distance to the edge\n#Outputs: List of integers for the number of steps taken until reaching a distance r\n#In each time interval there is a random step of length 1/sqrt(3) in x,y,and z. \ndef sampleEscapeTraj(trials, r):\n    rescSteps = np.zeros(trials)\n    for i in range(trials):\n        stepNum = 0\n        x = 0\n        y = 0 \n        z = 0\n        while (x**2+y**2+z**2 < r**2):\n            x += np.random.choice([-1, 1])/np.sqrt(3)\n            y += np.random.choice([-1, 1])/np.sqrt(3)\n            z += np.random.choice([-1, 1])/np.sqrt(3)\n            stepNum += 1\n        rescSteps[i] = stepNum\n    return rescSteps",
    "id": "47e5c7c23c6a438d9c20d1ff91ddf749",
    "idx": 31,
    "time": "2021-02-09T03:44:55.317Z",
    "type": "execution"
   },
   {
    "id": "47e5c7c23c6a438d9c20d1ff91ddf749",
    "time": "2021-02-09T03:44:55.376Z",
    "type": "completion"
   },
   {
    "code": "import numpy as np\nimport scipy.stats as st\nimport matplotlib.pyplot as plt",
    "id": "f7e5311ff87248e3a891b84c9742bab7",
    "idx": 0,
    "time": "2021-02-09T03:45:05.803Z",
    "type": "execution"
   },
   {
    "id": "f7e5311ff87248e3a891b84c9742bab7",
    "time": "2021-02-09T03:45:06.697Z",
    "type": "completion"
   },
   {
    "code": "#Function that samples M number of trajectories, stopping when a walker reaches a distance r away from the origin\n#Inputs: Number of trials, distance to the edge\n#Outputs: List of integers for the number of steps taken until reaching a distance r\n#In each time interval there is a random step of length 1/sqrt(3) in x,y,and z. \ndef sampleEscapeTraj(trials, r):\n    rescSteps = np.zeros(trials)\n    for i in range(trials):\n        stepNum = 0\n        x = 0\n        y = 0 \n        z = 0\n        while (x**2+y**2+z**2 < r**2):\n            x += np.random.choice([-1, 1])/np.sqrt(3)\n            y += np.random.choice([-1, 1])/np.sqrt(3)\n            z += np.random.choice([-1, 1])/np.sqrt(3)\n            stepNum += 1\n        rescSteps[i] = stepNum\n    return rescSteps",
    "id": "47e5c7c23c6a438d9c20d1ff91ddf749",
    "idx": 31,
    "time": "2021-02-09T03:45:12.894Z",
    "type": "execution"
   },
   {
    "id": "47e5c7c23c6a438d9c20d1ff91ddf749",
    "time": "2021-02-09T03:45:12.954Z",
    "type": "completion"
   },
   {
    "code": "#Function that samples M number of trajectories, stopping when a walker reaches a distance r away from the origin\n#Inputs: Number of trials, distance to the edge\n#Outputs: List of integers for the number of steps taken until reaching a distance r\n#In each time interval there is a random step of length 1/sqrt(3) in x,y,and z. \ndef sampleEscapeTraj(trials, r):\n    rescSteps = np.zeros(trials)\n    for i in range(trials):\n        stepNum = 0\n        x = 0\n        y = 0 \n        z = 0\n        while (x**2+y**2+z**2 < r**2):\n            x += np.random.choice([-1, 1])/np.sqrt(3)\n            y += np.random.choice([-1, 1])/np.sqrt(3)\n            z += np.random.choice([-1, 1])/np.sqrt(3)\n            stepNum += 1\n        rescSteps[i] = stepNum\n    return rescSteps",
    "id": "47e5c7c23c6a438d9c20d1ff91ddf749",
    "idx": 31,
    "time": "2021-02-09T03:45:22.125Z",
    "type": "execution"
   },
   {
    "id": "47e5c7c23c6a438d9c20d1ff91ddf749",
    "time": "2021-02-09T03:45:22.186Z",
    "type": "completion"
   },
   {
    "code": "trials = 5000\nr = 10\nrescSamps = sampleEscapeTraj(trials, r)",
    "id": "d1ba13e6c95440088cb794bf560b6454",
    "idx": 32,
    "time": "2021-02-09T03:45:23.443Z",
    "type": "execution"
   },
   {
    "code": "fig, ax = plt.subplots()\n\nnum_bins = 30\nn, bins, patches = ax.hist(rescSamps, num_bins)\nax.set_ylabel(\"Counts\")\nax.set_xlabel(\"Steps to $r$\")\nplt.show()\nplt.close()",
    "id": "402226077bb041b593a014d60ad09015",
    "idx": 33,
    "time": "2021-02-09T03:45:25.472Z",
    "type": "execution"
   },
   {
    "id": "d1ba13e6c95440088cb794bf560b6454",
    "time": "2021-02-09T03:45:45.783Z",
    "type": "completion"
   },
   {
    "id": "402226077bb041b593a014d60ad09015",
    "time": "2021-02-09T03:45:46.231Z",
    "type": "completion"
   },
   {
    "code": "print(np.mean(escSamps))",
    "id": "ae7484e2e2184d948918bd6a5b3918dd",
    "idx": 34,
    "time": "2021-02-09T03:45:56.995Z",
    "type": "execution"
   },
   {
    "id": "ae7484e2e2184d948918bd6a5b3918dd",
    "time": "2021-02-09T03:45:57.134Z",
    "type": "completion"
   },
   {
    "code": "print(np.mean(rescSamps))",
    "id": "ae7484e2e2184d948918bd6a5b3918dd",
    "idx": 34,
    "time": "2021-02-09T03:46:05.705Z",
    "type": "execution"
   },
   {
    "id": "ae7484e2e2184d948918bd6a5b3918dd",
    "time": "2021-02-09T03:46:05.775Z",
    "type": "completion"
   },
   {
    "code": "trials = 1000\nr = 10\nrescSamps = sampleEscapeTraj(trials, r)",
    "id": "d1ba13e6c95440088cb794bf560b6454",
    "idx": 32,
    "time": "2021-02-09T03:46:43.963Z",
    "type": "execution"
   },
   {
    "code": "fig, ax = plt.subplots()\n\nnum_bins = 30\nn, bins, patches = ax.hist(rescSamps, num_bins)\nax.set_ylabel(\"Counts\")\nax.set_xlabel(\"Steps to $r$\")\nplt.show()\nplt.close()",
    "id": "402226077bb041b593a014d60ad09015",
    "idx": 33,
    "time": "2021-02-09T03:46:46.561Z",
    "type": "execution"
   },
   {
    "id": "d1ba13e6c95440088cb794bf560b6454",
    "time": "2021-02-09T03:46:48.291Z",
    "type": "completion"
   },
   {
    "id": "402226077bb041b593a014d60ad09015",
    "time": "2021-02-09T03:46:48.554Z",
    "type": "completion"
   },
   {
    "code": "print(np.mean(rescSamps))",
    "id": "ae7484e2e2184d948918bd6a5b3918dd",
    "idx": 34,
    "time": "2021-02-09T03:46:49.679Z",
    "type": "execution"
   },
   {
    "id": "ae7484e2e2184d948918bd6a5b3918dd",
    "time": "2021-02-09T03:46:49.736Z",
    "type": "completion"
   },
   {
    "code": "trials = 1000\nr = 20\nrescSamps = sampleEscapeTraj(trials, r)",
    "id": "d1ba13e6c95440088cb794bf560b6454",
    "idx": 32,
    "time": "2021-02-09T03:47:05.309Z",
    "type": "execution"
   },
   {
    "code": "fig, ax = plt.subplots()\n\nnum_bins = 30\nn, bins, patches = ax.hist(rescSamps, num_bins)\nax.set_ylabel(\"Counts\")\nax.set_xlabel(\"Steps to $r$\")\nplt.show()\nplt.close()",
    "id": "402226077bb041b593a014d60ad09015",
    "idx": 33,
    "time": "2021-02-09T03:47:06.518Z",
    "type": "execution"
   },
   {
    "code": "print(np.mean(rescSamps))",
    "id": "ae7484e2e2184d948918bd6a5b3918dd",
    "idx": 34,
    "time": "2021-02-09T03:47:09.820Z",
    "type": "execution"
   },
   {
    "id": "d1ba13e6c95440088cb794bf560b6454",
    "time": "2021-02-09T03:47:24.527Z",
    "type": "completion"
   },
   {
    "id": "402226077bb041b593a014d60ad09015",
    "time": "2021-02-09T03:47:24.807Z",
    "type": "completion"
   },
   {
    "id": "ae7484e2e2184d948918bd6a5b3918dd",
    "time": "2021-02-09T03:47:24.837Z",
    "type": "completion"
   },
   {
    "code": "#Function that samples M number of trajectories, stopping when a walker reaches a distance r away from the origin\n#Inputs: Number of trials, distance to the edge\n#Outputs: List of integers for the number of steps taken until reaching a distance r\n#In each time interval there is a random step of length 1/sqrt(3) in x,y,and z. \ndef sampleEscapeTraj(trials, r):\n    rescSteps = np.zeros(trials)\n    for i in range(trials):\n        stepNum = 0\n        x = 0\n        y = 0 \n        z = 0\n        while ((x**2+y**2+z**2) < r**2):\n            x += np.random.choice([-1, 1])/np.sqrt(3)\n            y += np.random.choice([-1, 1])/np.sqrt(3)\n            z += np.random.choice([-1, 1])/np.sqrt(3)\n            stepNum += 1\n        rescSteps[i] = stepNum\n    return rescSteps",
    "id": "47e5c7c23c6a438d9c20d1ff91ddf749",
    "idx": 31,
    "time": "2021-02-09T03:48:32.701Z",
    "type": "execution"
   },
   {
    "id": "47e5c7c23c6a438d9c20d1ff91ddf749",
    "time": "2021-02-09T03:48:32.772Z",
    "type": "completion"
   },
   {
    "code": "trials = 1000\nr = 4\nrescSamps = sampleEscapeTraj(trials, r)",
    "id": "d1ba13e6c95440088cb794bf560b6454",
    "idx": 32,
    "time": "2021-02-09T03:48:33.607Z",
    "type": "execution"
   },
   {
    "id": "d1ba13e6c95440088cb794bf560b6454",
    "time": "2021-02-09T03:48:34.392Z",
    "type": "completion"
   },
   {
    "code": "fig, ax = plt.subplots()\n\nnum_bins = 30\nn, bins, patches = ax.hist(rescSamps, num_bins)\nax.set_ylabel(\"Counts\")\nax.set_xlabel(\"Steps to $r$\")\nplt.show()\nplt.close()",
    "id": "402226077bb041b593a014d60ad09015",
    "idx": 33,
    "time": "2021-02-09T03:48:35.926Z",
    "type": "execution"
   },
   {
    "id": "402226077bb041b593a014d60ad09015",
    "time": "2021-02-09T03:48:36.261Z",
    "type": "completion"
   },
   {
    "code": "print(np.mean(rescSamps))",
    "id": "ae7484e2e2184d948918bd6a5b3918dd",
    "idx": 34,
    "time": "2021-02-09T03:48:42.322Z",
    "type": "execution"
   },
   {
    "id": "ae7484e2e2184d948918bd6a5b3918dd",
    "time": "2021-02-09T03:48:43.158Z",
    "type": "completion"
   },
   {
    "code": "print(np.median(resecSamps))",
    "id": "4bc60c843f2d4b0a98d0875ccea38a94",
    "idx": 35,
    "time": "2021-02-09T03:49:46.793Z",
    "type": "execution"
   },
   {
    "id": "4bc60c843f2d4b0a98d0875ccea38a94",
    "time": "2021-02-09T03:49:46.863Z",
    "type": "completion"
   },
   {
    "code": "print(np.median(rescSamps))",
    "id": "4bc60c843f2d4b0a98d0875ccea38a94",
    "idx": 35,
    "time": "2021-02-09T03:50:02.676Z",
    "type": "execution"
   },
   {
    "id": "4bc60c843f2d4b0a98d0875ccea38a94",
    "time": "2021-02-09T03:50:02.736Z",
    "type": "completion"
   },
   {
    "code": "trials = 1000\nr = 10\nrescSamps = sampleEscapeTraj(trials, r)",
    "id": "d1ba13e6c95440088cb794bf560b6454",
    "idx": 32,
    "time": "2021-02-09T03:51:21.868Z",
    "type": "execution"
   },
   {
    "code": "fig, ax = plt.subplots()\n\nnum_bins = 30\nn, bins, patches = ax.hist(rescSamps, num_bins)\nax.set_ylabel(\"Counts\")\nax.set_xlabel(\"Steps to $r$\")\nplt.show()\nplt.close()",
    "id": "402226077bb041b593a014d60ad09015",
    "idx": 33,
    "time": "2021-02-09T03:51:23.719Z",
    "type": "execution"
   },
   {
    "code": "print(np.mean(rescSamps))",
    "id": "ae7484e2e2184d948918bd6a5b3918dd",
    "idx": 34,
    "time": "2021-02-09T03:51:24.902Z",
    "type": "execution"
   },
   {
    "code": "print(np.median(rescSamps))",
    "id": "4bc60c843f2d4b0a98d0875ccea38a94",
    "idx": 35,
    "time": "2021-02-09T03:51:25.746Z",
    "type": "execution"
   },
   {
    "id": "d1ba13e6c95440088cb794bf560b6454",
    "time": "2021-02-09T03:51:26.233Z",
    "type": "completion"
   },
   {
    "id": "402226077bb041b593a014d60ad09015",
    "time": "2021-02-09T03:51:26.506Z",
    "type": "completion"
   },
   {
    "id": "ae7484e2e2184d948918bd6a5b3918dd",
    "time": "2021-02-09T03:51:26.539Z",
    "type": "completion"
   },
   {
    "id": "4bc60c843f2d4b0a98d0875ccea38a94",
    "time": "2021-02-09T03:51:26.542Z",
    "type": "completion"
   },
   {
    "code": "print(np.mean(escSamps))\nprint(np.median(escSamps))",
    "id": "baa5fd01ae63480f8a258a85ab03b3a6",
    "idx": 24,
    "time": "2021-02-09T03:53:25.038Z",
    "type": "execution"
   },
   {
    "id": "baa5fd01ae63480f8a258a85ab03b3a6",
    "time": "2021-02-09T03:53:25.203Z",
    "type": "completion"
   },
   {
    "code": "#Function that samples M number of trajectories, stopping when a walker reaches a distance z away from the origin\n#Inputs: Number of trials, distance to the edge\n#Outputs: List of integers for the number of steps taken until reaching a distance z\ndef sampleEscapeTraj(trials, z):\n    escSteps = np.zeros(trials)\n    for i in range(trials):\n        stepNum = 0\n        curPos = 0\n        while abs(curPos)!=z:\n            curPos += np.random.choice([-1, 1])\n            stepNum += 1\n        escSteps[i] = stepNum\n    return escSteps",
    "id": "15ec0e12d37c4fd4853576687a4634d6",
    "idx": 19,
    "time": "2021-02-09T03:53:46.813Z",
    "type": "execution"
   },
   {
    "id": "15ec0e12d37c4fd4853576687a4634d6",
    "time": "2021-02-09T03:53:46.981Z",
    "type": "completion"
   },
   {
    "code": "trials = 5000\nz = 10\nescSamps = sampleEscapeTraj(trials, z)",
    "id": "aeae959941cb46f88eda981eecda3f8c",
    "idx": 20,
    "time": "2021-02-09T03:53:47.584Z",
    "type": "execution"
   },
   {
    "code": "fig, ax = plt.subplots()\n\nnum_bins = 30\nn, bins, patches = ax.hist(escSamps, num_bins)\nax.set_ylabel(\"Counts\")\nax.set_xlabel(\"Steps to $z$\")\nplt.show()\nplt.close()",
    "id": "3b825f4c6bc84ef881373ab7d428b1ef",
    "idx": 22,
    "time": "2021-02-09T03:53:50.192Z",
    "type": "execution"
   },
   {
    "id": "aeae959941cb46f88eda981eecda3f8c",
    "time": "2021-02-09T03:53:51.091Z",
    "type": "completion"
   },
   {
    "id": "3b825f4c6bc84ef881373ab7d428b1ef",
    "time": "2021-02-09T03:53:51.420Z",
    "type": "completion"
   },
   {
    "code": "print(np.mean(escSamps))\nprint(np.median(escSamps))",
    "id": "baa5fd01ae63480f8a258a85ab03b3a6",
    "idx": 24,
    "time": "2021-02-09T03:53:53.757Z",
    "type": "execution"
   },
   {
    "id": "baa5fd01ae63480f8a258a85ab03b3a6",
    "time": "2021-02-09T03:53:53.851Z",
    "type": "completion"
   },
   {
    "code": "fig, ax = plt.subplots()\n\nnum_bins = 50\nn, bins, patches = ax.hist(samps, num_bins)\nx = np.arange(np.min(samps), np.max(samps), 2)\nx_range = np.max(samps) -np.min(samps)\nax.plot(x, (x_range/(2*num_bins))*trials*st.binom.pmf((x+steps)/2, steps, probR, loc=0), 'r-', label='Binomial p.d.f.')\nax.set_ylabel(\"Counts\")\nax.set_xlabel(\"Net Displacement\")\nax.legend()\nplt.show()\nplt.close()",
    "id": "e4ed722ab85b407d963938656f3f3238",
    "idx": 9,
    "time": "2021-02-09T04:06:17.032Z",
    "type": "execution"
   },
   {
    "id": "e4ed722ab85b407d963938656f3f3238",
    "time": "2021-02-09T04:06:17.289Z",
    "type": "completion"
   },
   {
    "code": "print(np.mean(samps))\nprint(np.var(samps))",
    "id": "abc9e4886268418e8bf43fcf55ececf0",
    "idx": 10,
    "time": "2021-02-09T04:06:18.703Z",
    "type": "execution"
   },
   {
    "id": "abc9e4886268418e8bf43fcf55ececf0",
    "time": "2021-02-09T04:06:18.793Z",
    "type": "completion"
   },
   {
    "code": "trials = 10000\nsteps = 1000\nprobR = 0.5 #Probability of a +1 (or right) step\nsamps = sampleTrajectories(trials, steps, prob=probR)",
    "id": "c6c2c3f41355440a8c288473860c15b5",
    "idx": 5,
    "time": "2021-02-09T04:06:37.437Z",
    "type": "execution"
   },
   {
    "id": "c6c2c3f41355440a8c288473860c15b5",
    "time": "2021-02-09T04:06:37.504Z",
    "type": "completion"
   },
   {
    "code": "#Function that samples M number of trajectories, with N number of steps per trial\n#Inputs: Number of trials, number of steps per trial\n#Outputs: List of locations (integers) where the random walker stops at the end of all N steps of each trial\ndef sampleTrajectories(num_trials, num_steps, prob=0.5):\n    vals = np.zeros(num_trials, dtype=int)\n    for i in range(num_trials):\n        vals[i] = sum(np.random.choice([-1,1], p=[1-prob, prob], size=num_steps))\n    return vals",
    "id": "8bafbfe49d044c62877a5ae7b9df7451",
    "idx": 4,
    "time": "2021-02-09T04:06:47.863Z",
    "type": "execution"
   },
   {
    "id": "8bafbfe49d044c62877a5ae7b9df7451",
    "time": "2021-02-09T04:06:47.924Z",
    "type": "completion"
   },
   {
    "code": "trials = 10000\nsteps = 1000\nprobR = 0.5 #Probability of a +1 (or right) step\nsamps = sampleTrajectories(trials, steps, prob=probR)",
    "id": "c6c2c3f41355440a8c288473860c15b5",
    "idx": 5,
    "time": "2021-02-09T04:06:49.414Z",
    "type": "execution"
   },
   {
    "id": "c6c2c3f41355440a8c288473860c15b5",
    "time": "2021-02-09T04:06:52.958Z",
    "type": "completion"
   },
   {
    "code": "We can plot the resulting distribution of ending distances.",
    "id": "8361d3729801407db7ea928c041b179e",
    "idx": 8,
    "time": "2021-02-09T04:06:59.041Z",
    "type": "execution"
   },
   {
    "id": "8361d3729801407db7ea928c041b179e",
    "time": "2021-02-09T04:06:59.120Z",
    "type": "completion"
   },
   {
    "code": "fig, ax = plt.subplots()\n\nnum_bins = 50\nn, bins, patches = ax.hist(samps, num_bins)\nx = np.arange(np.min(samps), np.max(samps), 2)\nx_range = np.max(samps) -np.min(samps)\nax.plot(x, (x_range/(2*num_bins))*trials*st.binom.pmf((x+steps)/2, steps, probR, loc=0), 'r-', label='Binomial p.d.f.')\nax.set_ylabel(\"Counts\")\nax.set_xlabel(\"Net Displacement\")\nax.legend()\nplt.show()\nplt.close()",
    "id": "e4ed722ab85b407d963938656f3f3238",
    "idx": 9,
    "time": "2021-02-09T04:07:00.679Z",
    "type": "execution"
   },
   {
    "id": "e4ed722ab85b407d963938656f3f3238",
    "time": "2021-02-09T04:07:01.199Z",
    "type": "completion"
   },
   {
    "code": "trials = 10000\nsteps = 1000\nprobR = 0.25 #Probability of a +1 (or right) step\nsamps = sampleTrajectories(trials, steps, prob=probR)",
    "id": "c6c2c3f41355440a8c288473860c15b5",
    "idx": 5,
    "time": "2021-02-09T04:07:45.131Z",
    "type": "execution"
   },
   {
    "id": "c6c2c3f41355440a8c288473860c15b5",
    "time": "2021-02-09T04:07:48.867Z",
    "type": "completion"
   },
   {
    "code": "trials = 10000\nsteps = 1000\nprobR = 0.25 #Probability of a +1 (or right) step\nsamps = sampleTrajectories(trials, steps, prob=probR)",
    "id": "c6c2c3f41355440a8c288473860c15b5",
    "idx": 5,
    "time": "2021-02-09T04:07:54.100Z",
    "type": "execution"
   },
   {
    "code": "We can plot the resulting distribution of ending distances.",
    "id": "8361d3729801407db7ea928c041b179e",
    "idx": 8,
    "time": "2021-02-09T04:07:56.069Z",
    "type": "execution"
   },
   {
    "code": "fig, ax = plt.subplots()\n\nnum_bins = 50\nn, bins, patches = ax.hist(samps, num_bins)\nx = np.arange(np.min(samps), np.max(samps), 2)\nx_range = np.max(samps) -np.min(samps)\nax.plot(x, (x_range/(2*num_bins))*trials*st.binom.pmf((x+steps)/2, steps, probR, loc=0), 'r-', label='Binomial p.d.f.')\nax.set_ylabel(\"Counts\")\nax.set_xlabel(\"Net Displacement\")\nax.legend()\nplt.show()\nplt.close()",
    "id": "e4ed722ab85b407d963938656f3f3238",
    "idx": 9,
    "time": "2021-02-09T04:07:57.013Z",
    "type": "execution"
   },
   {
    "id": "c6c2c3f41355440a8c288473860c15b5",
    "time": "2021-02-09T04:07:57.349Z",
    "type": "completion"
   },
   {
    "id": "8361d3729801407db7ea928c041b179e",
    "time": "2021-02-09T04:07:57.355Z",
    "type": "completion"
   },
   {
    "id": "e4ed722ab85b407d963938656f3f3238",
    "time": "2021-02-09T04:07:57.357Z",
    "type": "completion"
   },
   {
    "code": "print(np.mean(samps))\nprint(np.var(samps))",
    "id": "abc9e4886268418e8bf43fcf55ececf0",
    "idx": 10,
    "time": "2021-02-09T04:08:06.923Z",
    "type": "execution"
   },
   {
    "id": "abc9e4886268418e8bf43fcf55ececf0",
    "time": "2021-02-09T04:08:06.994Z",
    "type": "completion"
   },
   {
    "code": "fig, ax = plt.subplots()\n\nnum_bins = 50\nn, bins, patches = ax.hist(samps, num_bins)\nx = np.arange(np.min(samps), np.max(samps), 2)\nx_range = np.max(samps) -np.min(samps)\nax.plot(x, (x_range/(2*num_bins))*trials*st.binom.pmf((x+steps)/2, steps, probR, loc=0), 'r-', label='Binomial p.d.f.')\nax.set_ylabel(\"Counts\")\nax.set_xlabel(\"Net Displacement\")\nax.legend()\nplt.show()\nplt.close()",
    "id": "e4ed722ab85b407d963938656f3f3238",
    "idx": 9,
    "time": "2021-02-09T04:08:17.719Z",
    "type": "execution"
   },
   {
    "id": "e4ed722ab85b407d963938656f3f3238",
    "time": "2021-02-09T04:08:18.190Z",
    "type": "completion"
   },
   {
    "code": "fig, ax = plt.subplots()\n\nnum_bins = 50\nn, bins, patches = ax.hist(samps, num_bins)\nx = np.arange(np.min(samps), np.max(samps), 2)\nx_range = np.max(samps) -np.min(samps)\n#ax.plot(x, (x_range/(2*num_bins))*trials*st.binom.pmf((x+steps)/2, steps, probR, loc=0), 'r-', label='Binomial p.d.f.')\nax.set_ylabel(\"Counts\")\nax.set_xlabel(\"Net Displacement\")\nax.legend()\nplt.show()\nplt.close()",
    "id": "e4ed722ab85b407d963938656f3f3238",
    "idx": 7,
    "time": "2021-02-09T04:23:41.372Z",
    "type": "execution"
   },
   {
    "id": "e4ed722ab85b407d963938656f3f3238",
    "time": "2021-02-09T04:23:41.776Z",
    "type": "completion"
   },
   {
    "code": "fig, ax = plt.subplots()\n\nnum_bins = 50\nn, bins, patches = ax.hist(samps, num_bins)\nx = np.arange(np.min(samps), np.max(samps), 2)\nx_range = np.max(samps) -np.min(samps)\n#ax.plot(x, (x_range/(2*num_bins))*trials*st.binom.pmf((x+steps)/2, steps, probR, loc=0), 'r-', label='Binomial p.d.f.')\nax.set_ylabel(\"Counts\")\nax.set_xlabel(\"Net Displacement\")\n#ax.legend()\nplt.show()\nplt.close()",
    "id": "e4ed722ab85b407d963938656f3f3238",
    "idx": 7,
    "time": "2021-02-09T04:24:23.258Z",
    "type": "execution"
   },
   {
    "id": "e4ed722ab85b407d963938656f3f3238",
    "time": "2021-02-09T04:24:23.619Z",
    "type": "completion"
   },
   {
    "code": "trials = 10000\nsteps = 100\nprobR = 0.25 #Probability of a +1 (or right) step\nsamps = sampleTrajectories(trials, steps, prob=probR)",
    "id": "c6c2c3f41355440a8c288473860c15b5",
    "idx": 5,
    "time": "2021-02-09T04:24:46.050Z",
    "type": "execution"
   },
   {
    "id": "c6c2c3f41355440a8c288473860c15b5",
    "time": "2021-02-09T04:24:47.000Z",
    "type": "completion"
   },
   {
    "code": "fig, ax = plt.subplots()\n\nnum_bins = 50\nn, bins, patches = ax.hist(samps, num_bins)\nx = np.arange(np.min(samps), np.max(samps), 2)\nx_range = np.max(samps) -np.min(samps)\n#ax.plot(x, (x_range/(2*num_bins))*trials*st.binom.pmf((x+steps)/2, steps, probR, loc=0), 'r-', label='Binomial p.d.f.')\nax.set_ylabel(\"Counts\")\nax.set_xlabel(\"Net Displacement\")\n#ax.legend()\nplt.show()\nplt.close()",
    "id": "e4ed722ab85b407d963938656f3f3238",
    "idx": 7,
    "time": "2021-02-09T04:24:49.400Z",
    "type": "execution"
   },
   {
    "id": "e4ed722ab85b407d963938656f3f3238",
    "time": "2021-02-09T04:24:49.769Z",
    "type": "completion"
   },
   {
    "code": "trials = 10000\nsteps = 1000\nprobR = 0.25 #Probability of a +1 (or right) step\nsamps = sampleTrajectories(trials, steps, prob=probR)",
    "id": "c6c2c3f41355440a8c288473860c15b5",
    "idx": 5,
    "time": "2021-02-09T04:25:07.802Z",
    "type": "execution"
   },
   {
    "code": "fig, ax = plt.subplots()\n\nnum_bins = 50\nn, bins, patches = ax.hist(samps, num_bins)\nx = np.arange(np.min(samps), np.max(samps), 2)\nx_range = np.max(samps) -np.min(samps)\n#ax.plot(x, (x_range/(2*num_bins))*trials*st.binom.pmf((x+steps)/2, steps, probR, loc=0), 'r-', label='Binomial p.d.f.')\nax.set_ylabel(\"Counts\")\nax.set_xlabel(\"Net Displacement\")\n#ax.legend()\nplt.show()\nplt.close()",
    "id": "e4ed722ab85b407d963938656f3f3238",
    "idx": 7,
    "time": "2021-02-09T04:25:10.650Z",
    "type": "execution"
   },
   {
    "id": "c6c2c3f41355440a8c288473860c15b5",
    "time": "2021-02-09T04:25:11.093Z",
    "type": "completion"
   },
   {
    "id": "e4ed722ab85b407d963938656f3f3238",
    "time": "2021-02-09T04:25:11.419Z",
    "type": "completion"
   },
   {
    "code": "print(np.mean(samps))\nprint(np.var(samps))",
    "id": "abc9e4886268418e8bf43fcf55ececf0",
    "idx": 9,
    "time": "2021-02-09T04:25:14.753Z",
    "type": "execution"
   },
   {
    "id": "abc9e4886268418e8bf43fcf55ececf0",
    "time": "2021-02-09T04:25:14.848Z",
    "type": "completion"
   },
   {
    "code": "#Function that samples M number of trajectories, with N number of steps per trial\n#Inputs: Number of trials, number of steps per trial\n#Outputs: List of locations (integers) where the random walker stops at the end of all N steps of each trial\ndef sampleTrajectories(num_trials, num_steps, prob=0.5):\n    vals = np.zeros(num_trials, dtype=int)\n    for i in range(num_trials):\n        vals[i] = sum(np.random.choice([-1,1], p=[1-prob, prob], size=num_steps))\n    return vals",
    "id": "8bafbfe49d044c62877a5ae7b9df7451",
    "idx": 4,
    "time": "2021-02-09T04:25:32.330Z",
    "type": "execution"
   },
   {
    "id": "8bafbfe49d044c62877a5ae7b9df7451",
    "time": "2021-02-09T04:25:32.414Z",
    "type": "completion"
   },
   {
    "code": "trials = 10000\nsteps = 1000\nprobR = 0.25 #Probability of a +1 (or right) step\nsamps = sampleTrajectories(trials, steps, prob=probR)",
    "id": "c6c2c3f41355440a8c288473860c15b5",
    "idx": 5,
    "time": "2021-02-09T04:25:32.977Z",
    "type": "execution"
   },
   {
    "code": "fig, ax = plt.subplots()\n\nnum_bins = 50\nn, bins, patches = ax.hist(samps, num_bins)\nx = np.arange(np.min(samps), np.max(samps), 2)\nx_range = np.max(samps) -np.min(samps)\n#ax.plot(x, (x_range/(2*num_bins))*trials*st.binom.pmf((x+steps)/2, steps, probR, loc=0), 'r-', label='Binomial p.d.f.')\nax.set_ylabel(\"Counts\")\nax.set_xlabel(\"Net Displacement\")\n#ax.legend()\nplt.show()\nplt.close()",
    "id": "e4ed722ab85b407d963938656f3f3238",
    "idx": 7,
    "time": "2021-02-09T04:25:34.521Z",
    "type": "execution"
   },
   {
    "id": "c6c2c3f41355440a8c288473860c15b5",
    "time": "2021-02-09T04:25:36.608Z",
    "type": "completion"
   },
   {
    "id": "e4ed722ab85b407d963938656f3f3238",
    "time": "2021-02-09T04:25:37.002Z",
    "type": "completion"
   },
   {
    "code": "#Function that samples M number of trajectories, with N number of steps per trial\n#Inputs: Number of trials, number of steps per trial\n#Outputs: List of locations (integers) where the random walker stops at the end of all N steps of each trial\ndef sampleTrajectories(num_trials, num_steps, prob=0.5):\n    vals = np.zeros(num_trials, dtype=int)\n    for i in range(num_trials):\n        vals[i] = sum(np.random.choice([-1,1], p=[1-prob, prob], size=num_steps))\n    return vals",
    "id": "8bafbfe49d044c62877a5ae7b9df7451",
    "idx": 4,
    "time": "2021-02-09T04:25:48.607Z",
    "type": "execution"
   },
   {
    "id": "8bafbfe49d044c62877a5ae7b9df7451",
    "time": "2021-02-09T04:25:48.667Z",
    "type": "completion"
   },
   {
    "code": "trials = 10000\nsteps = 1000\nprobR = 0.25 #Probability of a +1 (or right) step\nsamps = sampleTrajectories(trials, steps, prob=probR)",
    "id": "c6c2c3f41355440a8c288473860c15b5",
    "idx": 5,
    "time": "2021-02-09T04:25:49.393Z",
    "type": "execution"
   },
   {
    "code": "fig, ax = plt.subplots()\n\nnum_bins = 50\nn, bins, patches = ax.hist(samps, num_bins)\nx = np.arange(np.min(samps), np.max(samps), 2)\nx_range = np.max(samps) -np.min(samps)\n#ax.plot(x, (x_range/(2*num_bins))*trials*st.binom.pmf((x+steps)/2, steps, probR, loc=0), 'r-', label='Binomial p.d.f.')\nax.set_ylabel(\"Counts\")\nax.set_xlabel(\"Net Displacement\")\n#ax.legend()\nplt.show()\nplt.close()",
    "id": "e4ed722ab85b407d963938656f3f3238",
    "idx": 7,
    "time": "2021-02-09T04:25:51.407Z",
    "type": "execution"
   },
   {
    "id": "c6c2c3f41355440a8c288473860c15b5",
    "time": "2021-02-09T04:25:54.771Z",
    "type": "completion"
   },
   {
    "id": "e4ed722ab85b407d963938656f3f3238",
    "time": "2021-02-09T04:25:54.777Z",
    "type": "completion"
   },
   {
    "code": "trials = 10000\nsteps = 100\nprobR = 0.25 #Probability of a +1 (or right) step\nsamps = sampleTrajectories(trials, steps, prob=probR)",
    "id": "c6c2c3f41355440a8c288473860c15b5",
    "idx": 5,
    "time": "2021-02-09T04:26:29.183Z",
    "type": "execution"
   },
   {
    "id": "c6c2c3f41355440a8c288473860c15b5",
    "time": "2021-02-09T04:26:30.230Z",
    "type": "completion"
   },
   {
    "code": "fig, ax = plt.subplots()\n\nnum_bins = 50\nn, bins, patches = ax.hist(samps, num_bins)\nx = np.arange(np.min(samps), np.max(samps), 2)\nx_range = np.max(samps) -np.min(samps)\n#ax.plot(x, (x_range/(2*num_bins))*trials*st.binom.pmf((x+steps)/2, steps, probR, loc=0), 'r-', label='Binomial p.d.f.')\nax.set_ylabel(\"Counts\")\nax.set_xlabel(\"Net Displacement\")\n#ax.legend()\nplt.show()\nplt.close()",
    "id": "e4ed722ab85b407d963938656f3f3238",
    "idx": 7,
    "time": "2021-02-09T04:26:31.683Z",
    "type": "execution"
   },
   {
    "id": "e4ed722ab85b407d963938656f3f3238",
    "time": "2021-02-09T04:26:32.043Z",
    "type": "completion"
   },
   {
    "code": "fig, ax = plt.subplots()\n\nnum_bins = 50\nn, bins, patches = ax.hist(samps, num_bins)\nx = np.arange(np.min(samps), np.max(samps), 4)\nx_range = np.max(samps) -np.min(samps)\n#ax.plot(x, (x_range/(2*num_bins))*trials*st.binom.pmf((x+steps)/2, steps, probR, loc=0), 'r-', label='Binomial p.d.f.')\nax.set_ylabel(\"Counts\")\nax.set_xlabel(\"Net Displacement\")\n#ax.legend()\nplt.show()\nplt.close()",
    "id": "e4ed722ab85b407d963938656f3f3238",
    "idx": 7,
    "time": "2021-02-09T04:26:48.289Z",
    "type": "execution"
   },
   {
    "id": "e4ed722ab85b407d963938656f3f3238",
    "time": "2021-02-09T04:26:48.643Z",
    "type": "completion"
   },
   {
    "code": "fig, ax = plt.subplots()\n\nnum_bins = 50\nn, bins, patches = ax.hist(samps, num_bins)\nx = np.arange(np.min(samps), np.max(samps), 6)\nx_range = np.max(samps) -np.min(samps)\n#ax.plot(x, (x_range/(2*num_bins))*trials*st.binom.pmf((x+steps)/2, steps, probR, loc=0), 'r-', label='Binomial p.d.f.')\nax.set_ylabel(\"Counts\")\nax.set_xlabel(\"Net Displacement\")\n#ax.legend()\nplt.show()\nplt.close()",
    "id": "e4ed722ab85b407d963938656f3f3238",
    "idx": 7,
    "time": "2021-02-09T04:27:02.016Z",
    "type": "execution"
   },
   {
    "id": "e4ed722ab85b407d963938656f3f3238",
    "time": "2021-02-09T04:27:02.382Z",
    "type": "completion"
   },
   {
    "code": "fig, ax = plt.subplots()\n\nnum_bins = 20\nn, bins, patches = ax.hist(samps, num_bins)\nx = np.arange(np.min(samps), np.max(samps), 2)\nx_range = np.max(samps) -np.min(samps)\n#ax.plot(x, (x_range/(2*num_bins))*trials*st.binom.pmf((x+steps)/2, steps, probR, loc=0), 'r-', label='Binomial p.d.f.')\nax.set_ylabel(\"Counts\")\nax.set_xlabel(\"Net Displacement\")\n#ax.legend()\nplt.show()\nplt.close()",
    "id": "e4ed722ab85b407d963938656f3f3238",
    "idx": 7,
    "time": "2021-02-09T04:27:17.060Z",
    "type": "execution"
   },
   {
    "id": "e4ed722ab85b407d963938656f3f3238",
    "time": "2021-02-09T04:27:17.374Z",
    "type": "completion"
   },
   {
    "code": "fig, ax = plt.subplots()\n\nnum_bins = 50\nn, bins, patches = ax.hist(samps, num_bins)\nx = np.arange(np.min(samps), np.max(samps), 2)\nx_range = np.max(samps) -np.min(samps)\n#ax.plot(x, (x_range/(2*num_bins))*trials*st.binom.pmf((x+steps)/2, steps, probR, loc=0), 'r-', label='Binomial p.d.f.')\nax.set_ylabel(\"Counts\")\nax.set_xlabel(\"Net Displacement\")\n#ax.legend()\nplt.show()\nplt.close()",
    "id": "e4ed722ab85b407d963938656f3f3238",
    "idx": 7,
    "time": "2021-02-09T04:27:35.902Z",
    "type": "execution"
   },
   {
    "id": "e4ed722ab85b407d963938656f3f3238",
    "time": "2021-02-09T04:27:36.271Z",
    "type": "completion"
   },
   {
    "code": "trials = 10000\nsteps = 300\nprobR = 0.25 #Probability of a +1 (or right) step\nsamps = sampleTrajectories(trials, steps, prob=probR)",
    "id": "c6c2c3f41355440a8c288473860c15b5",
    "idx": 5,
    "time": "2021-02-09T04:28:00.126Z",
    "type": "execution"
   },
   {
    "id": "c6c2c3f41355440a8c288473860c15b5",
    "time": "2021-02-09T04:28:02.003Z",
    "type": "completion"
   },
   {
    "code": "trials = 100000\nsteps = 300\nprobR = 0.25 #Probability of a +1 (or right) step\nsamps = sampleTrajectories(trials, steps, prob=probR)",
    "id": "c6c2c3f41355440a8c288473860c15b5",
    "idx": 5,
    "time": "2021-02-09T04:28:15.593Z",
    "type": "execution"
   },
   {
    "code": "fig, ax = plt.subplots()\n\nnum_bins = 50\nn, bins, patches = ax.hist(samps, num_bins)\nx = np.arange(np.min(samps), np.max(samps), 2)\nx_range = np.max(samps) -np.min(samps)\n#ax.plot(x, (x_range/(2*num_bins))*trials*st.binom.pmf((x+steps)/2, steps, probR, loc=0), 'r-', label='Binomial p.d.f.')\nax.set_ylabel(\"Counts\")\nax.set_xlabel(\"Net Displacement\")\n#ax.legend()\nplt.show()\nplt.close()",
    "id": "e4ed722ab85b407d963938656f3f3238",
    "idx": 7,
    "time": "2021-02-09T04:28:20.444Z",
    "type": "execution"
   },
   {
    "id": "c6c2c3f41355440a8c288473860c15b5",
    "time": "2021-02-09T04:28:30.446Z",
    "type": "completion"
   },
   {
    "id": "e4ed722ab85b407d963938656f3f3238",
    "time": "2021-02-09T04:28:30.756Z",
    "type": "completion"
   },
   {
    "code": "trials = 100000\nsteps = 300\nprobR = 0.5 #Probability of a +1 (or right) step\nsamps = sampleTrajectories(trials, steps, prob=probR)",
    "id": "c6c2c3f41355440a8c288473860c15b5",
    "idx": 5,
    "time": "2021-02-09T04:29:15.747Z",
    "type": "execution"
   },
   {
    "code": "fig, ax = plt.subplots()\n\nnum_bins = 50\nn, bins, patches = ax.hist(samps, num_bins)\nx = np.arange(np.min(samps), np.max(samps), 2)\nx_range = np.max(samps) -np.min(samps)\n#ax.plot(x, (x_range/(2*num_bins))*trials*st.binom.pmf((x+steps)/2, steps, probR, loc=0), 'r-', label='Binomial p.d.f.')\nax.set_ylabel(\"Counts\")\nax.set_xlabel(\"Net Displacement\")\n#ax.legend()\nplt.show()\nplt.close()",
    "id": "e4ed722ab85b407d963938656f3f3238",
    "idx": 7,
    "time": "2021-02-09T04:29:24.604Z",
    "type": "execution"
   },
   {
    "id": "c6c2c3f41355440a8c288473860c15b5",
    "time": "2021-02-09T04:29:30.392Z",
    "type": "completion"
   },
   {
    "id": "e4ed722ab85b407d963938656f3f3238",
    "time": "2021-02-09T04:29:30.695Z",
    "type": "completion"
   },
   {
    "code": "#Function that samples M number of trajectories, with N number of steps per trial\n#Inputs: Number of trials, number of steps per trial\n#Outputs: List of locations (integers) where the random walker stops at the end of all N steps of each trial\ndef sampleTrajectories(num_trials, num_steps, prob=0.5):\n    vals = np.zeros(num_trials, dtype=float)\n    for i in range(num_trials):\n        vals[i] = sum(np.random.choice([-1,1], p=[1-prob, prob], size=num_steps))\n    return vals",
    "id": "8bafbfe49d044c62877a5ae7b9df7451",
    "idx": 4,
    "time": "2021-02-09T04:31:42.593Z",
    "type": "execution"
   },
   {
    "id": "8bafbfe49d044c62877a5ae7b9df7451",
    "time": "2021-02-09T04:31:42.665Z",
    "type": "completion"
   },
   {
    "code": "trials = 100000\nsteps = 300\nprobR = 0.5 #Probability of a +1 (or right) step\nsamps = sampleTrajectories(trials, steps, prob=probR)",
    "id": "c6c2c3f41355440a8c288473860c15b5",
    "idx": 5,
    "time": "2021-02-09T04:31:44.245Z",
    "type": "execution"
   },
   {
    "code": "fig, ax = plt.subplots()\n\nnum_bins = 50\nn, bins, patches = ax.hist(samps, num_bins)\nx = np.arange(np.min(samps), np.max(samps), 2)\nx_range = np.max(samps) -np.min(samps)\n#ax.plot(x, (x_range/(2*num_bins))*trials*st.binom.pmf((x+steps)/2, steps, probR, loc=0), 'r-', label='Binomial p.d.f.')\nax.set_ylabel(\"Counts\")\nax.set_xlabel(\"Net Displacement\")\n#ax.legend()\nplt.show()\nplt.close()",
    "id": "e4ed722ab85b407d963938656f3f3238",
    "idx": 7,
    "time": "2021-02-09T04:31:45.818Z",
    "type": "execution"
   },
   {
    "id": "c6c2c3f41355440a8c288473860c15b5",
    "time": "2021-02-09T04:31:59.096Z",
    "type": "completion"
   },
   {
    "id": "e4ed722ab85b407d963938656f3f3238",
    "time": "2021-02-09T04:31:59.410Z",
    "type": "completion"
   },
   {
    "code": "#Function that samples M number of trajectories, with N number of steps per trial\n#Inputs: Number of trials, number of steps per trial\n#Outputs: List of locations (integers) where the random walker stops at the end of all N steps of each trial\ndef sampleTrajectories(num_trials, num_steps, prob=0.5):\n    vals = np.zeros(num_trials, dtype=int)\n    for i in range(num_trials):\n        vals[i] = sum(np.random.choice([-1,1], p=[1-prob, prob], size=num_steps))\n    return vals",
    "id": "8bafbfe49d044c62877a5ae7b9df7451",
    "idx": 4,
    "time": "2021-02-09T04:32:30.995Z",
    "type": "execution"
   },
   {
    "id": "8bafbfe49d044c62877a5ae7b9df7451",
    "time": "2021-02-09T04:32:31.058Z",
    "type": "completion"
   },
   {
    "code": "trials = 100000\nsteps = 300\nprobR = 0.5 #Probability of a +1 (or right) step\nsamps = sampleTrajectories(trials, steps, prob=probR)",
    "id": "c6c2c3f41355440a8c288473860c15b5",
    "idx": 5,
    "time": "2021-02-09T04:32:32.063Z",
    "type": "execution"
   },
   {
    "code": "fig, ax = plt.subplots()\n\nnum_bins = 50\nn, bins, patches = ax.hist(samps, num_bins)\nx = np.arange(np.min(samps), np.max(samps), 2)\nx_range = np.max(samps) -np.min(samps)\n#ax.plot(x, (x_range/(2*num_bins))*trials*st.binom.pmf((x+steps)/2, steps, probR, loc=0), 'r-', label='Binomial p.d.f.')\nax.set_ylabel(\"Counts\")\nax.set_xlabel(\"Net Displacement\")\n#ax.legend()\nplt.show()\nplt.close()",
    "id": "e4ed722ab85b407d963938656f3f3238",
    "idx": 7,
    "time": "2021-02-09T04:32:34.803Z",
    "type": "execution"
   },
   {
    "id": "c6c2c3f41355440a8c288473860c15b5",
    "time": "2021-02-09T04:32:46.187Z",
    "type": "completion"
   },
   {
    "id": "e4ed722ab85b407d963938656f3f3238",
    "time": "2021-02-09T04:32:46.519Z",
    "type": "completion"
   },
   {
    "code": "fig, ax = plt.subplots()\n\nnum_bins = 20\nn, bins, patches = ax.hist(samps, num_bins)\nx = np.arange(np.min(samps), np.max(samps), 2)\nx_range = np.max(samps) -np.min(samps)\n#ax.plot(x, (x_range/(2*num_bins))*trials*st.binom.pmf((x+steps)/2, steps, probR, loc=0), 'r-', label='Binomial p.d.f.')\nax.set_ylabel(\"Counts\")\nax.set_xlabel(\"Net Displacement\")\n#ax.legend()\nplt.show()\nplt.close()",
    "id": "e4ed722ab85b407d963938656f3f3238",
    "idx": 7,
    "time": "2021-02-09T04:33:35.106Z",
    "type": "execution"
   },
   {
    "id": "e4ed722ab85b407d963938656f3f3238",
    "time": "2021-02-09T04:33:35.444Z",
    "type": "completion"
   },
   {
    "code": "trials = 1000\nsteps = 1000\nprobR = 0.5 #Probability of a +1 (or right) step\nsamps = sampleTrajectories(trials, steps, prob=probR)",
    "id": "c6c2c3f41355440a8c288473860c15b5",
    "idx": 5,
    "time": "2021-02-09T04:33:53.989Z",
    "type": "execution"
   },
   {
    "id": "c6c2c3f41355440a8c288473860c15b5",
    "time": "2021-02-09T04:33:54.384Z",
    "type": "completion"
   },
   {
    "code": "fig, ax = plt.subplots()\n\nnum_bins = 20\nn, bins, patches = ax.hist(samps, num_bins)\nx = np.arange(np.min(samps), np.max(samps), 2)\nx_range = np.max(samps) -np.min(samps)\n#ax.plot(x, (x_range/(2*num_bins))*trials*st.binom.pmf((x+steps)/2, steps, probR, loc=0), 'r-', label='Binomial p.d.f.')\nax.set_ylabel(\"Counts\")\nax.set_xlabel(\"Net Displacement\")\n#ax.legend()\nplt.show()\nplt.close()",
    "id": "e4ed722ab85b407d963938656f3f3238",
    "idx": 7,
    "time": "2021-02-09T04:33:57.044Z",
    "type": "execution"
   },
   {
    "id": "e4ed722ab85b407d963938656f3f3238",
    "time": "2021-02-09T04:33:57.442Z",
    "type": "completion"
   },
   {
    "code": "#Function that samples M number of trajectories, with N number of steps per trial\n#Inputs: Number of trials, number of steps per trial\n#Outputs: List of locations (integers) where the random walker stops at the end of all N steps of each trial\ndef sampleTrajectories(num_trials, num_steps, prob=0.5):\n    vals = np.zeros(num_trials, dtype=int)\n    for i in range(num_trials):\n        vals[i] = sum(np.random.choice([-1,1], p=[1-prob, prob], size=num_steps))\n    return vals",
    "id": "8bafbfe49d044c62877a5ae7b9df7451",
    "idx": 4,
    "time": "2021-02-09T04:34:07.839Z",
    "type": "execution"
   },
   {
    "code": "trials = 1000\nsteps = 1000\nprobR = 0.5 #Probability of a +1 (or right) step\nsamps = sampleTrajectories(trials, steps, prob=probR)",
    "id": "c6c2c3f41355440a8c288473860c15b5",
    "idx": 5,
    "time": "2021-02-09T04:34:08.450Z",
    "type": "execution"
   },
   {
    "code": "fig, ax = plt.subplots()\n\nnum_bins = 20\nn, bins, patches = ax.hist(samps, num_bins)\nx = np.arange(np.min(samps), np.max(samps), 2)\nx_range = np.max(samps) -np.min(samps)\n#ax.plot(x, (x_range/(2*num_bins))*trials*st.binom.pmf((x+steps)/2, steps, probR, loc=0), 'r-', label='Binomial p.d.f.')\nax.set_ylabel(\"Counts\")\nax.set_xlabel(\"Net Displacement\")\n#ax.legend()\nplt.show()\nplt.close()",
    "id": "e4ed722ab85b407d963938656f3f3238",
    "idx": 7,
    "time": "2021-02-09T04:34:10.788Z",
    "type": "execution"
   },
   {
    "id": "8bafbfe49d044c62877a5ae7b9df7451",
    "time": "2021-02-09T04:34:12.294Z",
    "type": "completion"
   },
   {
    "id": "c6c2c3f41355440a8c288473860c15b5",
    "time": "2021-02-09T04:34:12.296Z",
    "type": "completion"
   },
   {
    "id": "e4ed722ab85b407d963938656f3f3238",
    "time": "2021-02-09T04:34:12.839Z",
    "type": "completion"
   },
   {
    "code": "trials = 5000\nsteps = 1000\nprobR = 0.5 #Probability of a +1 (or right) step\nsamps = sampleTrajectories(trials, steps, prob=probR)",
    "id": "c6c2c3f41355440a8c288473860c15b5",
    "idx": 5,
    "time": "2021-02-09T04:34:24.655Z",
    "type": "execution"
   },
   {
    "id": "c6c2c3f41355440a8c288473860c15b5",
    "time": "2021-02-09T04:34:26.291Z",
    "type": "completion"
   },
   {
    "code": "fig, ax = plt.subplots()\n\nnum_bins = 20\nn, bins, patches = ax.hist(samps, num_bins)\nx = np.arange(np.min(samps), np.max(samps), 2)\nx_range = np.max(samps) -np.min(samps)\n#ax.plot(x, (x_range/(2*num_bins))*trials*st.binom.pmf((x+steps)/2, steps, probR, loc=0), 'r-', label='Binomial p.d.f.')\nax.set_ylabel(\"Counts\")\nax.set_xlabel(\"Net Displacement\")\n#ax.legend()\nplt.show()\nplt.close()",
    "id": "e4ed722ab85b407d963938656f3f3238",
    "idx": 7,
    "time": "2021-02-09T04:34:26.775Z",
    "type": "execution"
   },
   {
    "id": "e4ed722ab85b407d963938656f3f3238",
    "time": "2021-02-09T04:34:27.133Z",
    "type": "completion"
   },
   {
    "code": "#Function that samples M number of trajectories, with N number of steps per trial\n#Inputs: Number of trials, number of steps per trial\n#Outputs: List of locations (integers) where the random walker stops at the end of all N steps of each trial\ndef sampleTrajectories(num_trials, num_steps, prob=0.5):\n    vals = np.zeros(num_trials, dtype=int)\n    for i in range(num_trials):\n        vals[i] = sum(np.random.choice([-1,1], p=[1-prob, prob], size=num_steps))\n    return vals",
    "id": "8bafbfe49d044c62877a5ae7b9df7451",
    "idx": 4,
    "time": "2021-02-09T04:34:35.895Z",
    "type": "execution"
   },
   {
    "id": "8bafbfe49d044c62877a5ae7b9df7451",
    "time": "2021-02-09T04:34:35.957Z",
    "type": "completion"
   },
   {
    "code": "trials = 5000\nsteps = 1000\nprobR = 0.5 #Probability of a +1 (or right) step\nsamps = sampleTrajectories(trials, steps, prob=probR)",
    "id": "c6c2c3f41355440a8c288473860c15b5",
    "idx": 5,
    "time": "2021-02-09T04:34:36.470Z",
    "type": "execution"
   },
   {
    "id": "c6c2c3f41355440a8c288473860c15b5",
    "time": "2021-02-09T04:34:38.159Z",
    "type": "completion"
   },
   {
    "code": "fig, ax = plt.subplots()\n\nnum_bins = 20\nn, bins, patches = ax.hist(samps, num_bins)\nx = np.arange(np.min(samps), np.max(samps), 2)\nx_range = np.max(samps) -np.min(samps)\n#ax.plot(x, (x_range/(2*num_bins))*trials*st.binom.pmf((x+steps)/2, steps, probR, loc=0), 'r-', label='Binomial p.d.f.')\nax.set_ylabel(\"Counts\")\nax.set_xlabel(\"Net Displacement\")\n#ax.legend()\nplt.show()\nplt.close()",
    "id": "e4ed722ab85b407d963938656f3f3238",
    "idx": 7,
    "time": "2021-02-09T04:34:38.178Z",
    "type": "execution"
   },
   {
    "id": "e4ed722ab85b407d963938656f3f3238",
    "time": "2021-02-09T04:34:38.467Z",
    "type": "completion"
   },
   {
    "code": "fig, ax = plt.subplots()\n\nnum_bins = 50\nn, bins, patches = ax.hist(samps, num_bins)\nx = np.arange(np.min(samps), np.max(samps), 2)\nx_range = np.max(samps) -np.min(samps)\n#ax.plot(x, (x_range/(2*num_bins))*trials*st.binom.pmf((x+steps)/2, steps, probR, loc=0), 'r-', label='Binomial p.d.f.')\nax.set_ylabel(\"Counts\")\nax.set_xlabel(\"Net Displacement\")\n#ax.legend()\nplt.show()\nplt.close()",
    "id": "e4ed722ab85b407d963938656f3f3238",
    "idx": 7,
    "time": "2021-02-09T04:34:47.024Z",
    "type": "execution"
   },
   {
    "id": "e4ed722ab85b407d963938656f3f3238",
    "time": "2021-02-09T04:34:47.409Z",
    "type": "completion"
   },
   {
    "code": "fig, ax = plt.subplots()\n\nnum_bins = 50\nn, bins, patches = ax.hist(samps, num_bins)\nx = np.arange(np.min(samps), np.max(samps), 1)\nx_range = np.max(samps) -np.min(samps)\n#ax.plot(x, (x_range/(2*num_bins))*trials*st.binom.pmf((x+steps)/2, steps, probR, loc=0), 'r-', label='Binomial p.d.f.')\nax.set_ylabel(\"Counts\")\nax.set_xlabel(\"Net Displacement\")\n#ax.legend()\nplt.show()\nplt.close()",
    "id": "e4ed722ab85b407d963938656f3f3238",
    "idx": 7,
    "time": "2021-02-09T04:34:59.197Z",
    "type": "execution"
   },
   {
    "id": "e4ed722ab85b407d963938656f3f3238",
    "time": "2021-02-09T04:34:59.682Z",
    "type": "completion"
   },
   {
    "code": "fig, ax = plt.subplots()\n\nnum_bins = 50\nn, bins, patches = ax.hist(samps, num_bins)\nx = np.arange(np.min(samps), np.max(samps), 5)\nx_range = np.max(samps) -np.min(samps)\n#ax.plot(x, (x_range/(2*num_bins))*trials*st.binom.pmf((x+steps)/2, steps, probR, loc=0), 'r-', label='Binomial p.d.f.')\nax.set_ylabel(\"Counts\")\nax.set_xlabel(\"Net Displacement\")\n#ax.legend()\nplt.show()\nplt.close()",
    "id": "e4ed722ab85b407d963938656f3f3238",
    "idx": 7,
    "time": "2021-02-09T04:35:05.508Z",
    "type": "execution"
   },
   {
    "id": "e4ed722ab85b407d963938656f3f3238",
    "time": "2021-02-09T04:35:05.849Z",
    "type": "completion"
   },
   {
    "code": "fig, ax = plt.subplots()\n\nnum_bins = 50\nn, bins, patches = ax.hist(samps, num_bins)\nx = np.arange(np.min(samps), np.max(samps), 10)\nx_range = np.max(samps) -np.min(samps)\n#ax.plot(x, (x_range/(2*num_bins))*trials*st.binom.pmf((x+steps)/2, steps, probR, loc=0), 'r-', label='Binomial p.d.f.')\nax.set_ylabel(\"Counts\")\nax.set_xlabel(\"Net Displacement\")\n#ax.legend()\nplt.show()\nplt.close()",
    "id": "e4ed722ab85b407d963938656f3f3238",
    "idx": 7,
    "time": "2021-02-09T04:35:11.259Z",
    "type": "execution"
   },
   {
    "id": "e4ed722ab85b407d963938656f3f3238",
    "time": "2021-02-09T04:35:11.647Z",
    "type": "completion"
   },
   {
    "code": "fig, ax = plt.subplots()\n\nnum_bins = 50\nn, bins, patches = ax.hist(samps, num_bins)\nx = np.arange(np.min(samps), np.max(samps), 2)\nx_range = np.max(samps) -np.min(samps)\n#ax.plot(x, (x_range/(2*num_bins))*trials*st.binom.pmf((x+steps)/2, steps, probR, loc=0), 'r-', label='Binomial p.d.f.')\nax.set_ylabel(\"Counts\")\nax.set_xlabel(\"Net Displacement\")\n#ax.legend()\nplt.show()\nplt.close()",
    "id": "e4ed722ab85b407d963938656f3f3238",
    "idx": 7,
    "time": "2021-02-09T04:35:19.714Z",
    "type": "execution"
   },
   {
    "id": "e4ed722ab85b407d963938656f3f3238",
    "time": "2021-02-09T04:35:20.084Z",
    "type": "completion"
   },
   {
    "code": "trials = 100\nsteps = 10000\nprobR = 0.5 #Probability of a +1 (or right) step\nsamps = sampleTrajectories(trials, steps, prob=probR)",
    "id": "c6c2c3f41355440a8c288473860c15b5",
    "idx": 5,
    "time": "2021-02-09T04:36:29.914Z",
    "type": "execution"
   },
   {
    "id": "c6c2c3f41355440a8c288473860c15b5",
    "time": "2021-02-09T04:36:30.303Z",
    "type": "completion"
   },
   {
    "code": "fig, ax = plt.subplots()\n\nnum_bins = 50\nn, bins, patches = ax.hist(samps, num_bins)\nx = np.arange(np.min(samps), np.max(samps), 2)\nx_range = np.max(samps) -np.min(samps)\n#ax.plot(x, (x_range/(2*num_bins))*trials*st.binom.pmf((x+steps)/2, steps, probR, loc=0), 'r-', label='Binomial p.d.f.')\nax.set_ylabel(\"Counts\")\nax.set_xlabel(\"Net Displacement\")\n#ax.legend()\nplt.show()\nplt.close()",
    "id": "e4ed722ab85b407d963938656f3f3238",
    "idx": 7,
    "time": "2021-02-09T04:36:31.762Z",
    "type": "execution"
   },
   {
    "id": "e4ed722ab85b407d963938656f3f3238",
    "time": "2021-02-09T04:36:32.141Z",
    "type": "completion"
   },
   {
    "code": "trials = 10000\nsteps = 10000\nprobR = 0.5 #Probability of a +1 (or right) step\nsamps = sampleTrajectories(trials, steps, prob=probR)",
    "id": "c6c2c3f41355440a8c288473860c15b5",
    "idx": 5,
    "time": "2021-02-09T04:36:56.082Z",
    "type": "execution"
   },
   {
    "code": "fig, ax = plt.subplots()\n\nnum_bins = 50\nn, bins, patches = ax.hist(samps, num_bins)\nx = np.arange(np.min(samps), np.max(samps), 2)\nx_range = np.max(samps) -np.min(samps)\n#ax.plot(x, (x_range/(2*num_bins))*trials*st.binom.pmf((x+steps)/2, steps, probR, loc=0), 'r-', label='Binomial p.d.f.')\nax.set_ylabel(\"Counts\")\nax.set_xlabel(\"Net Displacement\")\n#ax.legend()\nplt.show()\nplt.close()",
    "id": "e4ed722ab85b407d963938656f3f3238",
    "idx": 7,
    "time": "2021-02-09T04:37:00.987Z",
    "type": "execution"
   },
   {
    "id": "c6c2c3f41355440a8c288473860c15b5",
    "time": "2021-02-09T04:37:20.363Z",
    "type": "completion"
   },
   {
    "id": "e4ed722ab85b407d963938656f3f3238",
    "time": "2021-02-09T04:37:20.671Z",
    "type": "completion"
   },
   {
    "code": "trials = 1000\nsteps = 10000\nprobR = 0.5 #Probability of a +1 (or right) step\nsamps = sampleTrajectories(trials, steps, prob=probR)",
    "id": "c6c2c3f41355440a8c288473860c15b5",
    "idx": 5,
    "time": "2021-02-09T04:37:40.188Z",
    "type": "execution"
   },
   {
    "id": "c6c2c3f41355440a8c288473860c15b5",
    "time": "2021-02-09T04:37:42.614Z",
    "type": "completion"
   },
   {
    "code": "#Function that samples M number of trajectories, with N number of steps per trial\n#Inputs: Number of trials, number of steps per trial\n#Outputs: List of locations (integers) where the random walker stops at the end of all N steps of each trial\ndef sampleTrajectories(num_trials, num_steps, prob=0.5):\n    vals = np.zeros(num_trials, dtype=int)\n    for i in range(num_trials):\n        vals[i] = sum(np.random.choice([-1,1], p=[1-prob, prob], size=num_steps))\n    return vals",
    "id": "8bafbfe49d044c62877a5ae7b9df7451",
    "idx": 4,
    "time": "2021-02-09T04:37:57.205Z",
    "type": "execution"
   },
   {
    "id": "8bafbfe49d044c62877a5ae7b9df7451",
    "time": "2021-02-09T04:37:57.273Z",
    "type": "completion"
   },
   {
    "code": "trials = 1000\nsteps = 10000\nprobR = 0.5 #Probability of a +1 (or right) step\nsamps = sampleTrajectories(trials, steps, prob=probR)",
    "id": "c6c2c3f41355440a8c288473860c15b5",
    "idx": 5,
    "time": "2021-02-09T04:37:57.941Z",
    "type": "execution"
   },
   {
    "id": "c6c2c3f41355440a8c288473860c15b5",
    "time": "2021-02-09T04:38:00.354Z",
    "type": "completion"
   },
   {
    "code": "fig, ax = plt.subplots()\n\nnum_bins = 50\nn, bins, patches = ax.hist(samps, num_bins)\nx = np.arange(np.min(samps), np.max(samps), 2)\nx_range = np.max(samps) -np.min(samps)\n#ax.plot(x, (x_range/(2*num_bins))*trials*st.binom.pmf((x+steps)/2, steps, probR, loc=0), 'r-', label='Binomial p.d.f.')\nax.set_ylabel(\"Counts\")\nax.set_xlabel(\"Net Displacement\")\n#ax.legend()\nplt.show()\nplt.close()",
    "id": "e4ed722ab85b407d963938656f3f3238",
    "idx": 7,
    "time": "2021-02-09T04:38:00.540Z",
    "type": "execution"
   },
   {
    "id": "e4ed722ab85b407d963938656f3f3238",
    "time": "2021-02-09T04:38:01.052Z",
    "type": "completion"
   },
   {
    "code": "trials = 1000\nsteps = 3000\nprobR = 0.5 #Probability of a +1 (or right) step\nsamps = sampleTrajectories(trials, steps, prob=probR)",
    "id": "c6c2c3f41355440a8c288473860c15b5",
    "idx": 5,
    "time": "2021-02-09T04:39:15.804Z",
    "type": "execution"
   },
   {
    "id": "c6c2c3f41355440a8c288473860c15b5",
    "time": "2021-02-09T04:39:16.705Z",
    "type": "completion"
   },
   {
    "code": "fig, ax = plt.subplots()\n\nnum_bins = 50\nn, bins, patches = ax.hist(samps, num_bins)\nx = np.arange(np.min(samps), np.max(samps), 2)\nx_range = np.max(samps) -np.min(samps)\n#ax.plot(x, (x_range/(2*num_bins))*trials*st.binom.pmf((x+steps)/2, steps, probR, loc=0), 'r-', label='Binomial p.d.f.')\nax.set_ylabel(\"Counts\")\nax.set_xlabel(\"Net Displacement\")\n#ax.legend()\nplt.show()\nplt.close()",
    "id": "e4ed722ab85b407d963938656f3f3238",
    "idx": 7,
    "time": "2021-02-09T04:39:17.799Z",
    "type": "execution"
   },
   {
    "id": "e4ed722ab85b407d963938656f3f3238",
    "time": "2021-02-09T04:39:18.156Z",
    "type": "completion"
   },
   {
    "code": "#Function that samples M number of trajectories, with N number of steps per trial\n#Inputs: Number of trials, number of steps per trial\n#Outputs: List of locations (integers) where the random walker stops at the end of all N steps of each trial\ndef sampleTrajectories(num_trials, num_steps, prob=0.5):\n    vals = np.zeros(num_trials, dtype=int)\n    for i in range(num_trials):\n        vals[i] = sum(np.random.choice([-1,1], p=[1-prob, prob], size=num_steps))\n    return vals",
    "id": "8bafbfe49d044c62877a5ae7b9df7451",
    "idx": 4,
    "time": "2021-02-09T04:39:25.314Z",
    "type": "execution"
   },
   {
    "id": "8bafbfe49d044c62877a5ae7b9df7451",
    "time": "2021-02-09T04:39:25.374Z",
    "type": "completion"
   },
   {
    "code": "trials = 1000\nsteps = 3000\nprobR = 0.5 #Probability of a +1 (or right) step\nsamps = sampleTrajectories(trials, steps, prob=probR)",
    "id": "c6c2c3f41355440a8c288473860c15b5",
    "idx": 5,
    "time": "2021-02-09T04:39:25.839Z",
    "type": "execution"
   },
   {
    "id": "c6c2c3f41355440a8c288473860c15b5",
    "time": "2021-02-09T04:39:26.718Z",
    "type": "completion"
   },
   {
    "code": "fig, ax = plt.subplots()\n\nnum_bins = 50\nn, bins, patches = ax.hist(samps, num_bins)\nx = np.arange(np.min(samps), np.max(samps), 2)\nx_range = np.max(samps) -np.min(samps)\n#ax.plot(x, (x_range/(2*num_bins))*trials*st.binom.pmf((x+steps)/2, steps, probR, loc=0), 'r-', label='Binomial p.d.f.')\nax.set_ylabel(\"Counts\")\nax.set_xlabel(\"Net Displacement\")\n#ax.legend()\nplt.show()\nplt.close()",
    "id": "e4ed722ab85b407d963938656f3f3238",
    "idx": 7,
    "time": "2021-02-09T04:39:27.752Z",
    "type": "execution"
   },
   {
    "id": "e4ed722ab85b407d963938656f3f3238",
    "time": "2021-02-09T04:39:28.113Z",
    "type": "completion"
   },
   {
    "code": "np.random.choice([-1,1], size=7)",
    "id": "be02592aae674a9e8b2ad1c7fb67571a",
    "idx": 2,
    "time": "2021-02-09T04:41:11.531Z",
    "type": "execution"
   },
   {
    "id": "be02592aae674a9e8b2ad1c7fb67571a",
    "time": "2021-02-09T04:41:11.631Z",
    "type": "completion"
   },
   {
    "code": "import numpy as np\nimport scipy.stats as st\nimport matplotlib.pyplot as plt",
    "id": "f7e5311ff87248e3a891b84c9742bab7",
    "idx": 0,
    "time": "2021-02-09T04:41:18.329Z",
    "type": "execution"
   },
   {
    "id": "f7e5311ff87248e3a891b84c9742bab7",
    "time": "2021-02-09T04:41:18.388Z",
    "type": "completion"
   },
   {
    "code": "np.random.choice([-1,1], size=7)",
    "id": "be02592aae674a9e8b2ad1c7fb67571a",
    "idx": 2,
    "time": "2021-02-09T04:41:19.939Z",
    "type": "execution"
   },
   {
    "id": "be02592aae674a9e8b2ad1c7fb67571a",
    "time": "2021-02-09T04:41:20.098Z",
    "type": "completion"
   },
   {
    "code": "#Function that samples M number of trajectories, with N number of steps per trial\n#Inputs: Number of trials, number of steps per trial\n#Outputs: List of locations (integers) where the random walker stops at the end of all N steps of each trial\ndef sampleTrajectories(num_trials, num_steps, prob=0.5):\n    vals = np.zeros(num_trials, dtype=int)\n    for i in range(num_trials):\n        vals[i] = sum(np.random.choice([-1,1], p=[1-prob, prob], size=num_steps))\n    return vals",
    "id": "8bafbfe49d044c62877a5ae7b9df7451",
    "idx": 4,
    "time": "2021-02-09T04:41:21.560Z",
    "type": "execution"
   },
   {
    "id": "8bafbfe49d044c62877a5ae7b9df7451",
    "time": "2021-02-09T04:41:21.617Z",
    "type": "completion"
   },
   {
    "code": "trials = 1000\nsteps = 3000\nprobR = 0.5 #Probability of a +1 (or right) step\nsamps = sampleTrajectories(trials, steps, prob=probR)",
    "id": "c6c2c3f41355440a8c288473860c15b5",
    "idx": 5,
    "time": "2021-02-09T04:41:22.438Z",
    "type": "execution"
   },
   {
    "id": "c6c2c3f41355440a8c288473860c15b5",
    "time": "2021-02-09T04:41:23.329Z",
    "type": "completion"
   },
   {
    "code": "fig, ax = plt.subplots()\n\nnum_bins = 50\nn, bins, patches = ax.hist(samps, num_bins)\nx = np.arange(np.min(samps), np.max(samps), 2)\nx_range = np.max(samps) -np.min(samps)\n#ax.plot(x, (x_range/(2*num_bins))*trials*st.binom.pmf((x+steps)/2, steps, probR, loc=0), 'r-', label='Binomial p.d.f.')\nax.set_ylabel(\"Counts\")\nax.set_xlabel(\"Net Displacement\")\n#ax.legend()\nplt.show()\nplt.close()",
    "id": "e4ed722ab85b407d963938656f3f3238",
    "idx": 7,
    "time": "2021-02-09T04:41:24.638Z",
    "type": "execution"
   },
   {
    "id": "e4ed722ab85b407d963938656f3f3238",
    "time": "2021-02-09T04:41:25.015Z",
    "type": "completion"
   },
   {
    "code": "trials = 1000\nsteps = 10000\nprobR = 0.5 #Probability of a +1 (or right) step\nsamps = sampleTrajectories(trials, steps, prob=probR)",
    "id": "c6c2c3f41355440a8c288473860c15b5",
    "idx": 5,
    "time": "2021-02-09T04:42:41.271Z",
    "type": "execution"
   },
   {
    "id": "c6c2c3f41355440a8c288473860c15b5",
    "time": "2021-02-09T04:42:43.977Z",
    "type": "completion"
   },
   {
    "code": "fig, ax = plt.subplots()\n\nnum_bins = 50\nn, bins, patches = ax.hist(samps, num_bins)\nx = np.arange(np.min(samps), np.max(samps), 2)\nx_range = np.max(samps) -np.min(samps)\n#ax.plot(x, (x_range/(2*num_bins))*trials*st.binom.pmf((x+steps)/2, steps, probR, loc=0), 'r-', label='Binomial p.d.f.')\nax.set_ylabel(\"Counts\")\nax.set_xlabel(\"Net Displacement\")\n#ax.legend()\nplt.show()\nplt.close()",
    "id": "e4ed722ab85b407d963938656f3f3238",
    "idx": 7,
    "time": "2021-02-09T04:42:45.702Z",
    "type": "execution"
   },
   {
    "id": "e4ed722ab85b407d963938656f3f3238",
    "time": "2021-02-09T04:42:46.054Z",
    "type": "completion"
   },
   {
    "code": "#Function that samples M number of trajectories, with N number of steps per trial\n#Inputs: Number of trials, number of steps per trial\n#Outputs: List of locations (integers) where the random walker stops at the end of all N steps of each trial\ndef sampleTrajectories(num_trials, num_steps, prob=0.5):\n    vals = np.zeros(num_trials, dtype=int)\n    for i in range(num_trials):\n        vals[i] = sum(np.random.choice([-1,1], p=[1-prob, prob], size=num_steps))\n    return vals",
    "id": "8bafbfe49d044c62877a5ae7b9df7451",
    "idx": 4,
    "time": "2021-02-09T04:42:53.064Z",
    "type": "execution"
   },
   {
    "id": "8bafbfe49d044c62877a5ae7b9df7451",
    "time": "2021-02-09T04:42:53.127Z",
    "type": "completion"
   },
   {
    "code": "trials = 1000\nsteps = 10000\nprobR = 0.5 #Probability of a +1 (or right) step\nsamps = sampleTrajectories(trials, steps, prob=probR)",
    "id": "c6c2c3f41355440a8c288473860c15b5",
    "idx": 5,
    "time": "2021-02-09T04:42:53.724Z",
    "type": "execution"
   },
   {
    "code": "fig, ax = plt.subplots()\n\nnum_bins = 50\nn, bins, patches = ax.hist(samps, num_bins)\nx = np.arange(np.min(samps), np.max(samps), 2)\nx_range = np.max(samps) -np.min(samps)\n#ax.plot(x, (x_range/(2*num_bins))*trials*st.binom.pmf((x+steps)/2, steps, probR, loc=0), 'r-', label='Binomial p.d.f.')\nax.set_ylabel(\"Counts\")\nax.set_xlabel(\"Net Displacement\")\n#ax.legend()\nplt.show()\nplt.close()",
    "id": "e4ed722ab85b407d963938656f3f3238",
    "idx": 7,
    "time": "2021-02-09T04:42:55.324Z",
    "type": "execution"
   },
   {
    "id": "c6c2c3f41355440a8c288473860c15b5",
    "time": "2021-02-09T04:42:56.321Z",
    "type": "completion"
   },
   {
    "id": "e4ed722ab85b407d963938656f3f3238",
    "time": "2021-02-09T04:42:56.604Z",
    "type": "completion"
   },
   {
    "code": "#Function that samples M number of trajectories, with N number of steps per trial\n#Inputs: Number of trials, number of steps per trial\n#Outputs: List of locations (integers) where the random walker stops at the end of all N steps of each trial\ndef sampleTrajectories(num_trials, num_steps, prob=0.5):\n    vals = np.zeros(num_trials, dtype=int)\n    for i in range(num_trials):\n        vals[i] = sum(np.random.choice([-1,1], p=[1-prob, prob], size=num_steps))\n    return vals",
    "id": "8bafbfe49d044c62877a5ae7b9df7451",
    "idx": 4,
    "time": "2021-02-09T04:43:07.944Z",
    "type": "execution"
   },
   {
    "id": "8bafbfe49d044c62877a5ae7b9df7451",
    "time": "2021-02-09T04:43:08.304Z",
    "type": "completion"
   },
   {
    "code": "trials = 1000\nsteps = 10000\nprobR = 0.5 #Probability of a +1 (or right) step\nsamps = sampleTrajectories(trials, steps, prob=probR)",
    "id": "c6c2c3f41355440a8c288473860c15b5",
    "idx": 5,
    "time": "2021-02-09T04:43:08.531Z",
    "type": "execution"
   },
   {
    "code": "fig, ax = plt.subplots()\n\nnum_bins = 50\nn, bins, patches = ax.hist(samps, num_bins)\nx = np.arange(np.min(samps), np.max(samps), 2)\nx_range = np.max(samps) -np.min(samps)\n#ax.plot(x, (x_range/(2*num_bins))*trials*st.binom.pmf((x+steps)/2, steps, probR, loc=0), 'r-', label='Binomial p.d.f.')\nax.set_ylabel(\"Counts\")\nax.set_xlabel(\"Net Displacement\")\n#ax.legend()\nplt.show()\nplt.close()",
    "id": "e4ed722ab85b407d963938656f3f3238",
    "idx": 7,
    "time": "2021-02-09T04:43:09.822Z",
    "type": "execution"
   },
   {
    "id": "c6c2c3f41355440a8c288473860c15b5",
    "time": "2021-02-09T04:43:11.334Z",
    "type": "completion"
   },
   {
    "id": "e4ed722ab85b407d963938656f3f3238",
    "time": "2021-02-09T04:43:11.638Z",
    "type": "completion"
   },
   {
    "code": "fig, ax = plt.subplots()\n\nnum_bins = 50\nn, bins, patches = ax.hist(samps, num_bins)\nx = np.arange(np.min(samps), np.max(samps), 2)\nx_range = np.max(samps) -np.min(samps)\nax.plot(x, (x_range/(2*num_bins))*trials*st.binom.pmf((x+steps)/2, steps, probR, loc=0), 'r-', label='Binomial p.d.f.')\nax.set_ylabel(\"Counts\")\nax.set_xlabel(\"Net Displacement\")\nax.legend()\nplt.show()\nplt.close()",
    "id": "7f7f2d167de740518e6dce59e5738787",
    "idx": 14,
    "time": "2021-02-09T04:53:06.644Z",
    "type": "execution"
   },
   {
    "id": "7f7f2d167de740518e6dce59e5738787",
    "time": "2021-02-09T04:53:07.101Z",
    "type": "completion"
   },
   {
    "code": "trials = 1000\nsteps = 10000\nprobR = 0.25 #Probability of a +1 (or right) step\nsamps = sampleTrajectories(trials, steps, prob=probR)",
    "id": "c6c2c3f41355440a8c288473860c15b5",
    "idx": 5,
    "time": "2021-02-09T04:53:24.666Z",
    "type": "execution"
   },
   {
    "code": "fig, ax = plt.subplots()\n\nnum_bins = 50\nn, bins, patches = ax.hist(samps, num_bins)\nx = np.arange(np.min(samps), np.max(samps), 2)\nx_range = np.max(samps) -np.min(samps)\n#ax.plot(x, (x_range/(2*num_bins))*trials*st.binom.pmf((x+steps)/2, steps, probR, loc=0), 'r-', label='Binomial p.d.f.')\nax.set_ylabel(\"Counts\")\nax.set_xlabel(\"Net Displacement\")\n#ax.legend()\nplt.show()\nplt.close()",
    "id": "e4ed722ab85b407d963938656f3f3238",
    "idx": 7,
    "time": "2021-02-09T04:53:26.169Z",
    "type": "execution"
   },
   {
    "id": "c6c2c3f41355440a8c288473860c15b5",
    "time": "2021-02-09T04:53:27.072Z",
    "type": "completion"
   },
   {
    "id": "e4ed722ab85b407d963938656f3f3238",
    "time": "2021-02-09T04:53:27.380Z",
    "type": "completion"
   },
   {
    "code": "print(np.mean(samps))\nprint(np.var(samps))",
    "id": "abc9e4886268418e8bf43fcf55ececf0",
    "idx": 9,
    "time": "2021-02-09T04:53:31.910Z",
    "type": "execution"
   },
   {
    "id": "abc9e4886268418e8bf43fcf55ececf0",
    "time": "2021-02-09T04:53:31.985Z",
    "type": "completion"
   },
   {
    "code": "fig, ax = plt.subplots()\n\nnum_bins = 50\nn, bins, patches = ax.hist(samps, num_bins)\nx = np.arange(np.min(samps), np.max(samps), 2)\nx_range = np.max(samps) -np.min(samps)\nax.plot(x, (x_range/(2*num_bins))*trials*st.binom.pmf((x+steps)/2, steps, probR, loc=0), 'r-', label='Binomial p.d.f.')\nax.set_ylabel(\"Counts\")\nax.set_xlabel(\"Net Displacement\")\nax.legend()\nplt.show()\nplt.close()",
    "id": "7f7f2d167de740518e6dce59e5738787",
    "idx": 14,
    "time": "2021-02-09T04:53:36.977Z",
    "type": "execution"
   },
   {
    "id": "7f7f2d167de740518e6dce59e5738787",
    "time": "2021-02-09T04:53:37.425Z",
    "type": "completion"
   },
   {
    "code": "#Function that samples M number of trajectories, stopping when a walker reaches a distance z away from the origin\n#Inputs: Number of trials, distance to the edge\n#Outputs: List of integers for the number of steps taken until reaching a distance z\ndef sampleEscapeTraj(trials, z):\n    escSteps = np.zeros(trials)\n    for i in range(trials):\n        stepNum = 0\n        curPos = 0\n        while abs(curPos)< z:\n            curPos += np.random.choice([-1, 1])\n            stepNum += 1\n        escSteps[i] = stepNum\n    return escSteps",
    "id": "53db6e3d9f314a0e8fa9d65ce844edeb",
    "idx": 20,
    "time": "2021-02-09T08:17:17.483Z",
    "type": "execution"
   },
   {
    "id": "53db6e3d9f314a0e8fa9d65ce844edeb",
    "time": "2021-02-09T08:17:17.564Z",
    "type": "completion"
   },
   {
    "code": "trials = 5000\nz = 10\nescSamps = sampleEscapeTraj(trials, z)",
    "id": "3372238e94464d4b8057a17bfc1a108e",
    "idx": 21,
    "time": "2021-02-09T08:17:19.199Z",
    "type": "execution"
   },
   {
    "id": "3372238e94464d4b8057a17bfc1a108e",
    "time": "2021-02-09T08:17:19.333Z",
    "type": "completion"
   },
   {
    "code": "import numpy as np\nimport scipy.stats as st\nimport matplotlib.pyplot as plt",
    "id": "59bae4dd8acf44dd8f3fa3c3d741dce2",
    "idx": 0,
    "time": "2021-02-09T08:17:45.496Z",
    "type": "execution"
   },
   {
    "id": "59bae4dd8acf44dd8f3fa3c3d741dce2",
    "time": "2021-02-09T08:17:46.468Z",
    "type": "completion"
   },
   {
    "code": "np.random.choice([-1,1], size=7)",
    "id": "537ca72404d24357848ac36e13583f89",
    "idx": 2,
    "time": "2021-02-09T08:17:47.604Z",
    "type": "execution"
   },
   {
    "id": "537ca72404d24357848ac36e13583f89",
    "time": "2021-02-09T08:17:47.666Z",
    "type": "completion"
   },
   {
    "code": "trials = 1000\nsteps = 10000\nprobR = 0.25 #Probability of a +1 (or right) step\nsamps = sampleTrajectories(trials, steps, prob=probR)",
    "id": "ed8092b15fb8404585e9ec8af060dfcb",
    "idx": 4,
    "time": "2021-02-09T08:17:48.564Z",
    "type": "execution"
   },
   {
    "id": "ed8092b15fb8404585e9ec8af060dfcb",
    "time": "2021-02-09T08:17:48.686Z",
    "type": "completion"
   },
   {
    "code": "fig, ax = plt.subplots()\n\nnum_bins = 50\nn, bins, patches = ax.hist(samps, num_bins)\nx = np.arange(np.min(samps), np.max(samps), 2)\nx_range = np.max(samps) -np.min(samps)\n#ax.plot(x, (x_range/(2*num_bins))*trials*st.binom.pmf((x+steps)/2, steps, probR, loc=0), 'r-', label='Binomial p.d.f.')\nax.set_ylabel(\"Counts\")\nax.set_xlabel(\"Net Displacement\")\n#ax.legend()\nplt.show()\nplt.close()",
    "id": "b47d72975cb9413781407f809869b50f",
    "idx": 6,
    "time": "2021-02-09T08:17:49.896Z",
    "type": "execution"
   },
   {
    "id": "b47d72975cb9413781407f809869b50f",
    "time": "2021-02-09T08:17:50.156Z",
    "type": "completion"
   },
   {
    "code": "print(np.mean(samps))\nprint(np.var(samps))",
    "id": "1e9940b34254477085604ff785439bda",
    "idx": 8,
    "time": "2021-02-09T08:17:53.783Z",
    "type": "execution"
   },
   {
    "id": "1e9940b34254477085604ff785439bda",
    "time": "2021-02-09T08:17:53.849Z",
    "type": "completion"
   },
   {
    "code": "fig, ax = plt.subplots()\n\nnum_bins = 50\nn, bins, patches = ax.hist(samps, num_bins)\nx = np.arange(np.min(samps), np.max(samps), 2)\nx_range = np.max(samps) -np.min(samps)\nax.plot(x, (x_range/(2*num_bins))*trials*st.binom.pmf((x+steps)/2, steps, probR, loc=0), 'r-', label='Binomial p.d.f.')\nax.set_ylabel(\"Counts\")\nax.set_xlabel(\"Net Displacement\")\nax.legend()\nplt.show()\nplt.close()",
    "id": "a9eaafc3190a40458dca93b9c2f35dec",
    "idx": 13,
    "time": "2021-02-09T08:17:57.837Z",
    "type": "execution"
   },
   {
    "id": "a9eaafc3190a40458dca93b9c2f35dec",
    "time": "2021-02-09T08:17:58.056Z",
    "type": "completion"
   },
   {
    "code": "test_N = [250, 500, 750, 1000, 1250, 1500]\nvarns = np.zeros(len(test_N))\nfor i in range(len(test_N)):\n    varns[i] = np.var(sampleTrajectories(trials, test_N[i], probR))",
    "id": "16b8c75fb2aa4bf685e45f56cb889f72",
    "idx": 14,
    "time": "2021-02-09T08:18:01.562Z",
    "type": "execution"
   },
   {
    "id": "16b8c75fb2aa4bf685e45f56cb889f72",
    "time": "2021-02-09T08:18:01.640Z",
    "type": "completion"
   },
   {
    "code": "fig, ax = plt.subplots()\n\nax.plot(test_N, varns, 'ro', ms=8)\nax.set_ylabel(\"Variance\")\nax.set_xlabel(\"Steps\")\nplt.show()\nplt.close()",
    "id": "24a98592a1c54da9b8a63f37fc647761",
    "idx": 16,
    "time": "2021-02-09T08:18:03.763Z",
    "type": "execution"
   },
   {
    "id": "24a98592a1c54da9b8a63f37fc647761",
    "time": "2021-02-09T08:18:03.998Z",
    "type": "completion"
   },
   {
    "code": "coeffs = np.polyfit(test_N, varns, 1)\nfit = np.poly1d(coeffs)\nprint(fit)\n\nfig, ax = plt.subplots()\nax.plot(test_N, varns, 'ro', ms=8)\nax.plot(test_N, fit(test_N), 'b-')\nax.set_ylabel(\"Variance\")\nax.set_xlabel(\"Steps\")\nplt.show()\nplt.close()",
    "id": "d2948e47169347c289f472c33369633c",
    "idx": 18,
    "time": "2021-02-09T08:18:05.665Z",
    "type": "execution"
   },
   {
    "id": "d2948e47169347c289f472c33369633c",
    "time": "2021-02-09T08:18:05.905Z",
    "type": "completion"
   },
   {
    "code": "#Function that samples M number of trajectories, stopping when a walker reaches a distance z away from the origin\n#Inputs: Number of trials, distance to the edge\n#Outputs: List of integers for the number of steps taken until reaching a distance z\ndef sampleEscapeTraj(trials, z):\n    escSteps = np.zeros(trials)\n    for i in range(trials):\n        stepNum = 0\n        curPos = 0\n        while abs(curPos)< z:\n            curPos += np.random.choice([-1, 1])\n            stepNum += 1\n        escSteps[i] = stepNum\n    return escSteps",
    "id": "53db6e3d9f314a0e8fa9d65ce844edeb",
    "idx": 20,
    "time": "2021-02-09T08:18:10.017Z",
    "type": "execution"
   },
   {
    "id": "53db6e3d9f314a0e8fa9d65ce844edeb",
    "time": "2021-02-09T08:18:10.088Z",
    "type": "completion"
   },
   {
    "code": "trials = 5000\nz = 10\nescSamps = sampleEscapeTraj(trials, z)",
    "id": "3372238e94464d4b8057a17bfc1a108e",
    "idx": 21,
    "time": "2021-02-09T08:18:17.601Z",
    "type": "execution"
   },
   {
    "id": "3372238e94464d4b8057a17bfc1a108e",
    "time": "2021-02-09T08:18:21.047Z",
    "type": "completion"
   },
   {
    "code": "fig, ax = plt.subplots()\n\nnum_bins = 30\nn, bins, patches = ax.hist(escSamps, num_bins)\nax.set_ylabel(\"Counts\")\nax.set_xlabel(\"Steps to $z$\")\nplt.show()\nplt.close()",
    "id": "4c537daae505410ba5dfd2f98ef03e42",
    "idx": 23,
    "time": "2021-02-09T08:18:25.228Z",
    "type": "execution"
   },
   {
    "id": "4c537daae505410ba5dfd2f98ef03e42",
    "time": "2021-02-09T08:18:26.185Z",
    "type": "completion"
   },
   {
    "code": "print(np.mean(escSamps))\nprint(np.median(escSamps))",
    "id": "fa936e53df45424b9a54728ce67ca529",
    "idx": 25,
    "time": "2021-02-09T08:18:31.010Z",
    "type": "execution"
   },
   {
    "id": "fa936e53df45424b9a54728ce67ca529",
    "time": "2021-02-09T08:18:31.075Z",
    "type": "completion"
   },
   {
    "code": "print(np.mean(escSamps))",
    "id": "fa936e53df45424b9a54728ce67ca529",
    "idx": 25,
    "time": "2021-02-09T08:19:02.808Z",
    "type": "execution"
   },
   {
    "id": "fa936e53df45424b9a54728ce67ca529",
    "time": "2021-02-09T08:19:02.881Z",
    "type": "completion"
   },
   {
    "code": "trials = 1000\nr = 20\nrescSamps = sampleEscapeTraj(trials, r)",
    "id": "c84beea59a65424897911411aa0329a2",
    "idx": 33,
    "time": "2021-02-09T08:21:08.632Z",
    "type": "execution"
   },
   {
    "id": "c84beea59a65424897911411aa0329a2",
    "time": "2021-02-09T08:21:11.482Z",
    "type": "completion"
   },
   {
    "code": "fig, ax = plt.subplots()\n\nnum_bins = 30\nn, bins, patches = ax.hist(rescSamps, num_bins)\nax.set_ylabel(\"Counts\")\nax.set_xlabel(\"Steps to $r$\")\nplt.show()\nplt.close()",
    "id": "fb9d47f8dc4342e7bf557fbb3422f92c",
    "idx": 34,
    "time": "2021-02-09T08:21:11.999Z",
    "type": "execution"
   },
   {
    "id": "fb9d47f8dc4342e7bf557fbb3422f92c",
    "time": "2021-02-09T08:21:12.305Z",
    "type": "completion"
   },
   {
    "code": "print(np.mean(rescSamps))",
    "id": "1ba614c298ae47738000b06d51c43d86",
    "idx": 35,
    "time": "2021-02-09T08:21:18.711Z",
    "type": "execution"
   },
   {
    "id": "1ba614c298ae47738000b06d51c43d86",
    "time": "2021-02-09T08:21:18.775Z",
    "type": "completion"
   },
   {
    "code": "print(np.median(rescSamps))",
    "id": "90987220e18b40cea414c25b09f25345",
    "idx": 36,
    "time": "2021-02-09T08:21:20.060Z",
    "type": "execution"
   },
   {
    "id": "90987220e18b40cea414c25b09f25345",
    "time": "2021-02-09T08:21:20.132Z",
    "type": "completion"
   },
   {
    "code": "trials = 1000\nr = 30\nrescSamps = sampleEscapeTraj(trials, r)",
    "id": "c84beea59a65424897911411aa0329a2",
    "idx": 33,
    "time": "2021-02-09T08:21:34.134Z",
    "type": "execution"
   },
   {
    "code": "fig, ax = plt.subplots()\n\nnum_bins = 30\nn, bins, patches = ax.hist(rescSamps, num_bins)\nax.set_ylabel(\"Counts\")\nax.set_xlabel(\"Steps to $r$\")\nplt.show()\nplt.close()",
    "id": "fb9d47f8dc4342e7bf557fbb3422f92c",
    "idx": 34,
    "time": "2021-02-09T08:21:35.202Z",
    "type": "execution"
   },
   {
    "code": "print(np.mean(rescSamps))",
    "id": "1ba614c298ae47738000b06d51c43d86",
    "idx": 35,
    "time": "2021-02-09T08:21:36.244Z",
    "type": "execution"
   },
   {
    "id": "c84beea59a65424897911411aa0329a2",
    "time": "2021-02-09T08:21:40.448Z",
    "type": "completion"
   },
   {
    "id": "fb9d47f8dc4342e7bf557fbb3422f92c",
    "time": "2021-02-09T08:21:40.803Z",
    "type": "completion"
   },
   {
    "id": "1ba614c298ae47738000b06d51c43d86",
    "time": "2021-02-09T08:21:40.842Z",
    "type": "completion"
   },
   {
    "code": "print(np.median(rescSamps))",
    "id": "90987220e18b40cea414c25b09f25345",
    "idx": 36,
    "time": "2021-02-09T08:21:45.743Z",
    "type": "execution"
   },
   {
    "id": "90987220e18b40cea414c25b09f25345",
    "time": "2021-02-09T08:21:45.806Z",
    "type": "completion"
   },
   {
    "code": "#Function that samples M number of trajectories, stopping when a walker reaches a distance r away from the origin\n#Inputs: Number of trials, distance to the edge\n#Outputs: List of integers for the number of steps taken until reaching a distance r\n#In each time interval there is a random step of length 1/sqrt(3) in x,y,and z. \ndef sampleEscapeTraj3d(trials, r):\n    rescSteps = np.zeros(trials)\n    for i in range(trials):\n        stepNum = 0\n        x = 0\n        y = 0 \n        z = 0\n        while ((x**2+y**2+z**2) < r**2):\n            x += np.random.choice([-1, 1])/np.sqrt(3)\n            y += np.random.choice([-1, 1])/np.sqrt(3)\n            z += np.random.choice([-1, 1])/np.sqrt(3)\n            stepNum += 1\n        rescSteps[i] = stepNum\n    return rescSteps",
    "id": "0d83121284784bd581dd33717348f51c",
    "idx": 32,
    "time": "2021-02-09T08:22:59.287Z",
    "type": "execution"
   },
   {
    "id": "0d83121284784bd581dd33717348f51c",
    "time": "2021-02-09T08:22:59.352Z",
    "type": "completion"
   },
   {
    "code": "trials = 1000\nr = 30\nrescSamps = sampleEscapeTraj3d(trials, r)",
    "id": "c84beea59a65424897911411aa0329a2",
    "idx": 33,
    "time": "2021-02-09T08:23:01.318Z",
    "type": "execution"
   },
   {
    "code": "fig, ax = plt.subplots()\n\nnum_bins = 30\nn, bins, patches = ax.hist(rescSamps, num_bins)\nax.set_ylabel(\"Counts\")\nax.set_xlabel(\"Steps to $r$\")\nplt.show()\nplt.close()",
    "id": "fb9d47f8dc4342e7bf557fbb3422f92c",
    "idx": 34,
    "time": "2021-02-09T08:23:03.575Z",
    "type": "execution"
   },
   {
    "code": "print(np.mean(rescSamps))",
    "id": "1ba614c298ae47738000b06d51c43d86",
    "idx": 35,
    "time": "2021-02-09T08:23:05.512Z",
    "type": "execution"
   },
   {
    "code": "print(np.median(rescSamps))",
    "id": "90987220e18b40cea414c25b09f25345",
    "idx": 36,
    "time": "2021-02-09T08:23:10.600Z",
    "type": "execution"
   },
   {
    "id": "c84beea59a65424897911411aa0329a2",
    "time": "2021-02-09T08:23:36.812Z",
    "type": "completion"
   },
   {
    "id": "fb9d47f8dc4342e7bf557fbb3422f92c",
    "time": "2021-02-09T08:23:37.055Z",
    "type": "completion"
   },
   {
    "id": "1ba614c298ae47738000b06d51c43d86",
    "time": "2021-02-09T08:23:37.097Z",
    "type": "completion"
   },
   {
    "id": "90987220e18b40cea414c25b09f25345",
    "time": "2021-02-09T08:23:37.102Z",
    "type": "completion"
   },
   {
    "code": "import numpy as np\nimport scipy.stats as st\nimport matplotlib.pyplot as plt",
    "id": "c72e14851aa44594a23a7619cbbaa10f",
    "idx": 3,
    "time": "2021-02-09T22:23:33.787Z",
    "type": "execution"
   },
   {
    "id": "c72e14851aa44594a23a7619cbbaa10f",
    "time": "2021-02-09T22:23:34.912Z",
    "type": "completion"
   },
   {
    "code": "trials = 5000\nz = 20\nescSamps = sampleEscapeTraj(trials, z)",
    "id": "92aa8985989e47a3a4df906bb219d52b",
    "idx": 7,
    "time": "2021-02-09T23:07:35.810Z",
    "type": "execution"
   },
   {
    "id": "92aa8985989e47a3a4df906bb219d52b",
    "time": "2021-02-09T23:07:36.071Z",
    "type": "completion"
   },
   {
    "code": "import numpy as np\nimport scipy.stats as st\nimport matplotlib.pyplot as plt",
    "id": "c72e14851aa44594a23a7619cbbaa10f",
    "idx": 3,
    "time": "2021-02-09T23:07:43.486Z",
    "type": "execution"
   },
   {
    "id": "c72e14851aa44594a23a7619cbbaa10f",
    "time": "2021-02-09T23:07:43.549Z",
    "type": "completion"
   },
   {
    "code": "#Function that samples M number of trajectories, stopping when a walker reaches a distance z away from the origin\n#Inputs: Number of trials, distance to the edge\n#Outputs: List of integers for the number of steps taken until reaching a distance z\ndef sampleEscapeTraj(trials, z):\n    escSteps = np.zeros(trials)\n    for i in range(trials):\n        stepNum = 0\n        curPos = 0\n        while abs(curPos)< z:\n            curPos += np.random.choice([-1, 1])\n            stepNum += 1\n        escSteps[i] = stepNum\n    return escSteps",
    "id": "5bb717236b874eb380f65d63574bb56b",
    "idx": 6,
    "time": "2021-02-09T23:07:45.820Z",
    "type": "execution"
   },
   {
    "id": "5bb717236b874eb380f65d63574bb56b",
    "time": "2021-02-09T23:07:45.892Z",
    "type": "completion"
   },
   {
    "code": "trials = 5000\nz = 20\nescSamps = sampleEscapeTraj(trials, z)",
    "id": "92aa8985989e47a3a4df906bb219d52b",
    "idx": 7,
    "time": "2021-02-09T23:07:46.661Z",
    "type": "execution"
   },
   {
    "code": "fig, ax = plt.subplots()\n\nnum_bins = 30\nn, bins, patches = ax.hist(escSamps, num_bins)\nax.set_ylabel(\"Counts\")\nax.set_xlabel(\"Steps to $z$\")\nplt.show()\nplt.close()",
    "id": "00a1231a26624c4d85e8b095af58bd68",
    "idx": 9,
    "time": "2021-02-09T23:07:54.010Z",
    "type": "execution"
   },
   {
    "id": "92aa8985989e47a3a4df906bb219d52b",
    "time": "2021-02-09T23:08:01.982Z",
    "type": "completion"
   },
   {
    "id": "00a1231a26624c4d85e8b095af58bd68",
    "time": "2021-02-09T23:08:02.521Z",
    "type": "completion"
   },
   {
    "code": "#Function that samples M number of trajectories, stopping when a walker reaches a distance z away from the origin\n#Inputs: Number of trials, distance to the edge\n#Outputs: List of integers for the number of steps taken until reaching a distance z\ndef sampleEscapeTraj(trials, z_low, z_high):\n    escSteps = np.zeros(trials)\n    for i in range(trials):\n        stepNum = 0\n        curPos = 0\n        while ((curPos > z_low) and (curPos< z_high):\n            curPos += np.random.choice([-1, 1])\n            stepNum += 1\n        escSteps[i] = stepNum\n    return escSteps",
    "id": "5bb717236b874eb380f65d63574bb56b",
    "idx": 6,
    "time": "2021-02-09T23:11:15.685Z",
    "type": "execution"
   },
   {
    "id": "5bb717236b874eb380f65d63574bb56b",
    "time": "2021-02-09T23:11:15.765Z",
    "type": "completion"
   },
   {
    "code": "#Function that samples M number of trajectories, stopping when a walker reaches a distance z away from the origin\n#Inputs: Number of trials, distance to the edge\n#Outputs: List of integers for the number of steps taken until reaching a distance z\ndef sampleEscapeTraj(trials, z_low, z_high):\n    escSteps = np.zeros(trials)\n    for i in range(trials):\n        stepNum = 0\n        curPos = 0\n        while ((curPos > z_low) and (curPos< z_high)):\n            curPos += np.random.choice([-1, 1])\n            stepNum += 1\n        escSteps[i] = stepNum\n    return escSteps",
    "id": "5bb717236b874eb380f65d63574bb56b",
    "idx": 6,
    "time": "2021-02-09T23:11:32.667Z",
    "type": "execution"
   },
   {
    "id": "5bb717236b874eb380f65d63574bb56b",
    "time": "2021-02-09T23:11:32.728Z",
    "type": "completion"
   },
   {
    "code": "trials = 5000\nz_low = -20\nz_high = 20\nescSamps = sampleEscapeTraj(trials, z_low, z_high)",
    "id": "92aa8985989e47a3a4df906bb219d52b",
    "idx": 8,
    "time": "2021-02-09T23:11:38.406Z",
    "type": "execution"
   },
   {
    "id": "92aa8985989e47a3a4df906bb219d52b",
    "time": "2021-02-09T23:11:54.366Z",
    "type": "completion"
   },
   {
    "code": "fig, ax = plt.subplots()\n\nnum_bins = 30\nn, bins, patches = ax.hist(escSamps, num_bins)\nax.set_ylabel(\"Counts\")\nax.set_xlabel(\"Steps to $z$\")\nplt.show()\nplt.close()",
    "id": "00a1231a26624c4d85e8b095af58bd68",
    "idx": 10,
    "time": "2021-02-09T23:11:59.078Z",
    "type": "execution"
   },
   {
    "id": "00a1231a26624c4d85e8b095af58bd68",
    "time": "2021-02-09T23:11:59.446Z",
    "type": "completion"
   },
   {
    "code": "trials = 5000\nz_low = -200\nz_high = 20\nescSamps = sampleEscapeTraj(trials, z_low, z_high)",
    "id": "92aa8985989e47a3a4df906bb219d52b",
    "idx": 8,
    "time": "2021-02-09T23:12:12.585Z",
    "type": "execution"
   },
   {
    "code": "fig, ax = plt.subplots()\n\nnum_bins = 30\nn, bins, patches = ax.hist(escSamps, num_bins)\nax.set_ylabel(\"Counts\")\nax.set_xlabel(\"Steps to $z$\")\nplt.show()\nplt.close()",
    "id": "00a1231a26624c4d85e8b095af58bd68",
    "idx": 10,
    "time": "2021-02-09T23:12:14.920Z",
    "type": "execution"
   },
   {
    "code": "print(np.mean(escSamps))",
    "id": "57986fcbf5844f1484845404249b7d75",
    "idx": 12,
    "time": "2021-02-09T23:12:41.023Z",
    "type": "execution"
   },
   {
    "code": "trials = 5000\nz_low = -200\nz_high = 10\nescSamps = sampleEscapeTraj(trials, z_low, z_high)",
    "id": "92aa8985989e47a3a4df906bb219d52b",
    "idx": 8,
    "time": "2021-02-09T23:13:33.269Z",
    "type": "execution"
   },
   {
    "code": "fig, ax = plt.subplots()\n\nnum_bins = 30\nn, bins, patches = ax.hist(escSamps, num_bins)\nax.set_ylabel(\"Counts\")\nax.set_xlabel(\"Steps to $z$\")\nplt.show()\nplt.close()",
    "id": "00a1231a26624c4d85e8b095af58bd68",
    "idx": 10,
    "time": "2021-02-09T23:13:37.274Z",
    "type": "execution"
   },
   {
    "code": "trials = 5000\nz_low = -200\nz_high = 2\nescSamps = sampleEscapeTraj(trials, z_low, z_high)",
    "id": "92aa8985989e47a3a4df906bb219d52b",
    "idx": 8,
    "time": "2021-02-09T23:13:50.291Z",
    "type": "execution"
   },
   {
    "code": "fig, ax = plt.subplots()\n\nnum_bins = 30\nn, bins, patches = ax.hist(escSamps, num_bins)\nax.set_ylabel(\"Counts\")\nax.set_xlabel(\"Steps to $z$\")\nplt.show()\nplt.close()",
    "id": "00a1231a26624c4d85e8b095af58bd68",
    "idx": 10,
    "time": "2021-02-09T23:13:51.300Z",
    "type": "execution"
   },
   {
    "code": "trials = 5000\nz_low = -2\nz_high = 2\nescSamps = sampleEscapeTraj(trials, z_low, z_high)",
    "id": "92aa8985989e47a3a4df906bb219d52b",
    "idx": 8,
    "time": "2021-02-09T23:14:09.014Z",
    "type": "execution"
   },
   {
    "code": "fig, ax = plt.subplots()\n\nnum_bins = 30\nn, bins, patches = ax.hist(escSamps, num_bins)\nax.set_ylabel(\"Counts\")\nax.set_xlabel(\"Steps to $z$\")\nplt.show()\nplt.close()",
    "id": "00a1231a26624c4d85e8b095af58bd68",
    "idx": 10,
    "time": "2021-02-09T23:14:10.283Z",
    "type": "execution"
   },
   {
    "code": "#Function that samples M number of trajectories, stopping when a walker reaches a distance z away from the origin\n#Inputs: Number of trials, distance to the edge\n#Outputs: List of integers for the number of steps taken until reaching a distance z\ndef sampleEscapeTraj(trials, z_low, z_high):\n    escSteps = np.zeros(trials)\n    for i in range(trials):\n        stepNum = 0\n        curPos = 0\n        while ((curPos > z_low) and (curPos < z_high)):\n            curPos += np.random.choice([-1, 1])\n            stepNum += 1\n        escSteps[i] = stepNum\n    return escSteps",
    "id": "5bb717236b874eb380f65d63574bb56b",
    "idx": 6,
    "time": "2021-02-09T23:14:50.203Z",
    "type": "execution"
   },
   {
    "id": "57986fcbf5844f1484845404249b7d75",
    "time": "2021-02-09T23:14:50.644Z",
    "type": "completion"
   },
   {
    "code": "Run this ",
    "id": "9ea293e6ccc04fa390e334ac0c5e3d59",
    "idx": 7,
    "time": "2021-02-09T23:14:51.170Z",
    "type": "execution"
   },
   {
    "code": "trials = 5000\nz_low = -2\nz_high = 2\nescSamps = sampleEscapeTraj(trials, z_low, z_high)",
    "id": "92aa8985989e47a3a4df906bb219d52b",
    "idx": 8,
    "time": "2021-02-09T23:14:51.799Z",
    "type": "execution"
   },
   {
    "id": "00a1231a26624c4d85e8b095af58bd68",
    "time": "2021-02-09T23:16:28.372Z",
    "type": "completion"
   },
   {
    "id": "00a1231a26624c4d85e8b095af58bd68",
    "time": "2021-02-09T23:16:28.375Z",
    "type": "completion"
   },
   {
    "id": "00a1231a26624c4d85e8b095af58bd68",
    "time": "2021-02-09T23:16:28.375Z",
    "type": "completion"
   },
   {
    "id": "00a1231a26624c4d85e8b095af58bd68",
    "time": "2021-02-09T23:16:28.375Z",
    "type": "completion"
   },
   {
    "id": "5bb717236b874eb380f65d63574bb56b",
    "time": "2021-02-09T23:16:28.405Z",
    "type": "completion"
   },
   {
    "id": "9ea293e6ccc04fa390e334ac0c5e3d59",
    "time": "2021-02-09T23:16:28.410Z",
    "type": "completion"
   },
   {
    "id": "92aa8985989e47a3a4df906bb219d52b",
    "time": "2021-02-09T23:16:28.411Z",
    "type": "completion"
   },
   {
    "id": "92aa8985989e47a3a4df906bb219d52b",
    "time": "2021-02-09T23:16:28.411Z",
    "type": "completion"
   },
   {
    "id": "92aa8985989e47a3a4df906bb219d52b",
    "time": "2021-02-09T23:16:28.411Z",
    "type": "completion"
   },
   {
    "id": "92aa8985989e47a3a4df906bb219d52b",
    "time": "2021-02-09T23:16:28.411Z",
    "type": "completion"
   },
   {
    "id": "92aa8985989e47a3a4df906bb219d52b",
    "time": "2021-02-09T23:16:28.411Z",
    "type": "completion"
   },
   {
    "code": "trials = 5000\nz_low = -2\nz_high = 2\nescSamps = sampleEscapeTraj(trials, z_low, z_high)",
    "id": "92aa8985989e47a3a4df906bb219d52b",
    "idx": 8,
    "time": "2021-02-09T23:17:13.866Z",
    "type": "execution"
   },
   {
    "id": "92aa8985989e47a3a4df906bb219d52b",
    "time": "2021-02-09T23:17:14.104Z",
    "type": "completion"
   },
   {
    "code": "fig, ax = plt.subplots()\n\nnum_bins = 30\nn, bins, patches = ax.hist(escSamps, num_bins)\nax.set_ylabel(\"Counts\")\nax.set_xlabel(\"Steps to $z$\")\nplt.show()\nplt.close()",
    "id": "00a1231a26624c4d85e8b095af58bd68",
    "idx": 10,
    "time": "2021-02-09T23:17:16.546Z",
    "type": "execution"
   },
   {
    "id": "00a1231a26624c4d85e8b095af58bd68",
    "time": "2021-02-09T23:17:16.941Z",
    "type": "completion"
   },
   {
    "code": "trials = 5000\nz_low = -4\nz_high = 4\nescSamps = sampleEscapeTraj(trials, z_low, z_high)",
    "id": "92aa8985989e47a3a4df906bb219d52b",
    "idx": 8,
    "time": "2021-02-09T23:17:28.976Z",
    "type": "execution"
   },
   {
    "id": "92aa8985989e47a3a4df906bb219d52b",
    "time": "2021-02-09T23:17:29.655Z",
    "type": "completion"
   },
   {
    "code": "fig, ax = plt.subplots()\n\nnum_bins = 30\nn, bins, patches = ax.hist(escSamps, num_bins)\nax.set_ylabel(\"Counts\")\nax.set_xlabel(\"Steps to $z$\")\nplt.show()\nplt.close()",
    "id": "00a1231a26624c4d85e8b095af58bd68",
    "idx": 10,
    "time": "2021-02-09T23:17:30.729Z",
    "type": "execution"
   },
   {
    "id": "00a1231a26624c4d85e8b095af58bd68",
    "time": "2021-02-09T23:17:31.079Z",
    "type": "completion"
   },
   {
    "code": "trials = 5000\nz_low = 0\nz_high = 4\nescSamps = sampleEscapeTraj(trials, z_low, z_high)",
    "id": "92aa8985989e47a3a4df906bb219d52b",
    "idx": 8,
    "time": "2021-02-09T23:18:00.188Z",
    "type": "execution"
   },
   {
    "id": "92aa8985989e47a3a4df906bb219d52b",
    "time": "2021-02-09T23:18:00.248Z",
    "type": "completion"
   },
   {
    "code": "fig, ax = plt.subplots()\n\nnum_bins = 30\nn, bins, patches = ax.hist(escSamps, num_bins)\nax.set_ylabel(\"Counts\")\nax.set_xlabel(\"Steps to $z$\")\nplt.show()\nplt.close()",
    "id": "00a1231a26624c4d85e8b095af58bd68",
    "idx": 10,
    "time": "2021-02-09T23:18:02.077Z",
    "type": "execution"
   },
   {
    "id": "00a1231a26624c4d85e8b095af58bd68",
    "time": "2021-02-09T23:18:02.418Z",
    "type": "completion"
   },
   {
    "code": "trials = 5000\nz_low = -1\nz_high = 4\nescSamps = sampleEscapeTraj(trials, z_low, z_high)",
    "id": "92aa8985989e47a3a4df906bb219d52b",
    "idx": 8,
    "time": "2021-02-09T23:18:16.685Z",
    "type": "execution"
   },
   {
    "id": "92aa8985989e47a3a4df906bb219d52b",
    "time": "2021-02-09T23:18:16.907Z",
    "type": "completion"
   },
   {
    "code": "fig, ax = plt.subplots()\n\nnum_bins = 30\nn, bins, patches = ax.hist(escSamps, num_bins)\nax.set_ylabel(\"Counts\")\nax.set_xlabel(\"Steps to $z$\")\nplt.show()\nplt.close()",
    "id": "00a1231a26624c4d85e8b095af58bd68",
    "idx": 10,
    "time": "2021-02-09T23:18:18.056Z",
    "type": "execution"
   },
   {
    "id": "00a1231a26624c4d85e8b095af58bd68",
    "time": "2021-02-09T23:18:20.349Z",
    "type": "completion"
   },
   {
    "code": "trials = 5000\nz_low = 4\nz_high = 4\nescSamps = sampleEscapeTraj(trials, z_low, z_high)",
    "id": "92aa8985989e47a3a4df906bb219d52b",
    "idx": 8,
    "time": "2021-02-09T23:18:42.927Z",
    "type": "execution"
   },
   {
    "id": "92aa8985989e47a3a4df906bb219d52b",
    "time": "2021-02-09T23:18:42.994Z",
    "type": "completion"
   },
   {
    "code": "fig, ax = plt.subplots()\n\nnum_bins = 30\nn, bins, patches = ax.hist(escSamps, num_bins)\nax.set_ylabel(\"Counts\")\nax.set_xlabel(\"Steps to $z$\")\nplt.show()\nplt.close()",
    "id": "00a1231a26624c4d85e8b095af58bd68",
    "idx": 10,
    "time": "2021-02-09T23:18:44.919Z",
    "type": "execution"
   },
   {
    "id": "00a1231a26624c4d85e8b095af58bd68",
    "time": "2021-02-09T23:18:45.255Z",
    "type": "completion"
   },
   {
    "code": "trials = 5000\nz_low = -4\nz_high = 4\nescSamps = sampleEscapeTraj(trials, z_low, z_high)",
    "id": "92aa8985989e47a3a4df906bb219d52b",
    "idx": 8,
    "time": "2021-02-09T23:18:53.414Z",
    "type": "execution"
   },
   {
    "id": "92aa8985989e47a3a4df906bb219d52b",
    "time": "2021-02-09T23:18:54.112Z",
    "type": "completion"
   },
   {
    "code": "fig, ax = plt.subplots()\n\nnum_bins = 30\nn, bins, patches = ax.hist(escSamps, num_bins)\nax.set_ylabel(\"Counts\")\nax.set_xlabel(\"Steps to $z$\")\nplt.show()\nplt.close()",
    "id": "00a1231a26624c4d85e8b095af58bd68",
    "idx": 10,
    "time": "2021-02-09T23:18:54.904Z",
    "type": "execution"
   },
   {
    "id": "00a1231a26624c4d85e8b095af58bd68",
    "time": "2021-02-09T23:18:55.279Z",
    "type": "completion"
   },
   {
    "code": "trials = 5000\nz_low = -20\nz_high = 4\nescSamps = sampleEscapeTraj(trials, z_low, z_high)",
    "id": "92aa8985989e47a3a4df906bb219d52b",
    "idx": 8,
    "time": "2021-02-09T23:19:09.802Z",
    "type": "execution"
   },
   {
    "code": "fig, ax = plt.subplots()\n\nnum_bins = 30\nn, bins, patches = ax.hist(escSamps, num_bins)\nax.set_ylabel(\"Counts\")\nax.set_xlabel(\"Steps to $z$\")\nplt.show()\nplt.close()",
    "id": "00a1231a26624c4d85e8b095af58bd68",
    "idx": 10,
    "time": "2021-02-09T23:19:11.412Z",
    "type": "execution"
   },
   {
    "id": "92aa8985989e47a3a4df906bb219d52b",
    "time": "2021-02-09T23:19:12.987Z",
    "type": "completion"
   },
   {
    "id": "00a1231a26624c4d85e8b095af58bd68",
    "time": "2021-02-09T23:19:13.238Z",
    "type": "completion"
   },
   {
    "code": "#Function that samples M number of trajectories, stopping when a walker reaches a distance z away from the origin\n#Inputs: Number of trials, distance to the edge\n#Outputs: List of integers for the number of steps taken until reaching a distance z\ndef sampleEscapeTraj(trials, z_max):\n    escSteps = np.zeros(trials)\n    for i in range(trials):\n        stepNum = 0\n        curPos = 0\n        while (abs(curPos) < z_max):\n            curPos += np.random.choice([-1, 1])\n            stepNum += 1\n        escSteps[i] = stepNum\n    return escSteps",
    "id": "5bb717236b874eb380f65d63574bb56b",
    "idx": 6,
    "time": "2021-02-09T23:21:54.385Z",
    "type": "execution"
   },
   {
    "id": "5bb717236b874eb380f65d63574bb56b",
    "time": "2021-02-09T23:21:54.456Z",
    "type": "completion"
   },
   {
    "code": "trials = 5000\nz_low = -20\nz_high = 4\nescSamps = sampleEscapeTraj(trials, z_low, z_high)",
    "id": "92aa8985989e47a3a4df906bb219d52b",
    "idx": 8,
    "time": "2021-02-09T23:21:57.180Z",
    "type": "execution"
   },
   {
    "id": "92aa8985989e47a3a4df906bb219d52b",
    "time": "2021-02-09T23:21:57.266Z",
    "type": "completion"
   },
   {
    "code": "#Function that samples M number of trajectories, stopping when a walker reaches a distance z away from the origin\n#Inputs: Number of trials, distance to the edge\n#Outputs: List of integers for the number of steps taken until reaching a distance z\ndef sampleEscapeTraj(trials, z_max):\n    escSteps = np.zeros(trials)\n    for i in range(trials):\n        stepNum = 0\n        curPos = 0\n        while (abs(curPos) < z_max):\n            curPos += np.random.choice([-1, 1])\n            stepNum += 1\n        escSteps[i] = stepNum\n    return escSteps",
    "id": "5bb717236b874eb380f65d63574bb56b",
    "idx": 6,
    "time": "2021-02-09T23:22:26.604Z",
    "type": "execution"
   },
   {
    "id": "5bb717236b874eb380f65d63574bb56b",
    "time": "2021-02-09T23:22:26.665Z",
    "type": "completion"
   },
   {
    "code": "trials = 5000\nz_max = 10\nescSamps = sampleEscapeTraj(trials, z_max)",
    "id": "92aa8985989e47a3a4df906bb219d52b",
    "idx": 8,
    "time": "2021-02-09T23:22:28.121Z",
    "type": "execution"
   },
   {
    "code": "fig, ax = plt.subplots()\n\nnum_bins = 30\nn, bins, patches = ax.hist(escSamps, num_bins)\nax.set_ylabel(\"Counts\")\nax.set_xlabel(\"Steps to $z$\")\nplt.show()\nplt.close()",
    "id": "00a1231a26624c4d85e8b095af58bd68",
    "idx": 10,
    "time": "2021-02-09T23:22:31.207Z",
    "type": "execution"
   },
   {
    "id": "92aa8985989e47a3a4df906bb219d52b",
    "time": "2021-02-09T23:22:32.170Z",
    "type": "completion"
   },
   {
    "id": "00a1231a26624c4d85e8b095af58bd68",
    "time": "2021-02-09T23:22:32.438Z",
    "type": "completion"
   },
   {
    "code": "print(np.mean(escSamps))",
    "id": "57986fcbf5844f1484845404249b7d75",
    "idx": 12,
    "time": "2021-02-09T23:22:40.831Z",
    "type": "execution"
   },
   {
    "id": "57986fcbf5844f1484845404249b7d75",
    "time": "2021-02-09T23:22:40.889Z",
    "type": "completion"
   },
   {
    "code": "trials = 5000\nz_max = 20\nescSamps = sampleEscapeTraj(trials, z_max)",
    "id": "92aa8985989e47a3a4df906bb219d52b",
    "idx": 8,
    "time": "2021-02-09T23:22:54.998Z",
    "type": "execution"
   },
   {
    "code": "fig, ax = plt.subplots()\n\nnum_bins = 30\nn, bins, patches = ax.hist(escSamps, num_bins)\nax.set_ylabel(\"Counts\")\nax.set_xlabel(\"Steps to $z$\")\nplt.show()\nplt.close()",
    "id": "00a1231a26624c4d85e8b095af58bd68",
    "idx": 10,
    "time": "2021-02-09T23:22:56.349Z",
    "type": "execution"
   },
   {
    "id": "92aa8985989e47a3a4df906bb219d52b",
    "time": "2021-02-09T23:23:10.117Z",
    "type": "completion"
   },
   {
    "id": "00a1231a26624c4d85e8b095af58bd68",
    "time": "2021-02-09T23:23:10.402Z",
    "type": "completion"
   },
   {
    "code": "print(np.mean(escSamps))",
    "id": "57986fcbf5844f1484845404249b7d75",
    "idx": 12,
    "time": "2021-02-09T23:23:36.077Z",
    "type": "execution"
   },
   {
    "id": "57986fcbf5844f1484845404249b7d75",
    "time": "2021-02-09T23:23:36.147Z",
    "type": "completion"
   },
   {
    "code": "trials = 10000\nz_max = 20\nescSamps = sampleEscapeTraj(trials, z_max)",
    "id": "92aa8985989e47a3a4df906bb219d52b",
    "idx": 9,
    "time": "2021-02-09T23:34:17.095Z",
    "type": "execution"
   },
   {
    "code": "fig, ax = plt.subplots()\n\nnum_bins = 30\nn, bins, patches = ax.hist(escSamps, num_bins)\nax.set_ylabel(\"Counts\")\nax.set_xlabel(\"Steps to $z$\")\nplt.show()\nplt.close()",
    "id": "00a1231a26624c4d85e8b095af58bd68",
    "idx": 10,
    "time": "2021-02-09T23:34:18.026Z",
    "type": "execution"
   },
   {
    "id": "92aa8985989e47a3a4df906bb219d52b",
    "time": "2021-02-09T23:34:48.116Z",
    "type": "completion"
   },
   {
    "id": "00a1231a26624c4d85e8b095af58bd68",
    "time": "2021-02-09T23:34:48.336Z",
    "type": "completion"
   },
   {
    "code": "fig, ax = plt.subplots()\nnum_bins = 30\nn, bins, patches = ax.hist(escSamps, num_bins)\nax.set_ylabel(\"Counts\")\nax.set_xlabel(\"Steps to $z$\")\nplt.show()\nplt.close()",
    "id": "00a1231a26624c4d85e8b095af58bd68",
    "idx": 10,
    "time": "2021-02-09T23:35:51.539Z",
    "type": "execution"
   },
   {
    "id": "00a1231a26624c4d85e8b095af58bd68",
    "time": "2021-02-09T23:35:52.112Z",
    "type": "completion"
   },
   {
    "code": "fig, ax = plt.subplots()\nnum_bins = 30\nn, bins, patches = ax.hist(escSamps, num_bins)\nax.set_ylabel(\"Counts\")\nax.set_xlabel(\"Steps to $z$\")\nplt.show()\nplt.close()",
    "id": "00a1231a26624c4d85e8b095af58bd68",
    "idx": 10,
    "time": "2021-02-09T23:37:00.404Z",
    "type": "execution"
   },
   {
    "id": "00a1231a26624c4d85e8b095af58bd68",
    "time": "2021-02-09T23:37:00.789Z",
    "type": "completion"
   },
   {
    "code": "import numpy as np\nimport scipy.stats as st\nimport matplotlib.pyplot as plt",
    "id": "c72e14851aa44594a23a7619cbbaa10f",
    "idx": 3,
    "time": "2021-02-09T23:39:14.514Z",
    "type": "execution"
   },
   {
    "id": "c72e14851aa44594a23a7619cbbaa10f",
    "time": "2021-02-09T23:39:14.583Z",
    "type": "completion"
   },
   {
    "code": "#Function that samples M number of trajectories, stopping when a walker reaches a distance z away from the origin\n#Inputs: Number of trials, distance to the edge\n#Outputs: List of integers for the number of steps taken until reaching a distance z\ndef sampleEscapeTraj(trials, z_max):\n    escSteps = np.zeros(trials)\n    for i in range(trials):\n        stepNum = 0\n        curPos = 0\n        while (abs(curPos) < z_max):\n            curPos += np.random.choice([-1, 1])\n            stepNum += 1\n        escSteps[i] = stepNum\n    return escSteps",
    "id": "5bb717236b874eb380f65d63574bb56b",
    "idx": 6,
    "time": "2021-02-09T23:39:16.887Z",
    "type": "execution"
   },
   {
    "id": "5bb717236b874eb380f65d63574bb56b",
    "time": "2021-02-09T23:39:16.950Z",
    "type": "completion"
   },
   {
    "code": "trials = 10000\nz_max = 20\nescSamps = sampleEscapeTraj(trials, z_max)",
    "id": "92aa8985989e47a3a4df906bb219d52b",
    "idx": 9,
    "time": "2021-02-09T23:39:18.824Z",
    "type": "execution"
   },
   {
    "code": "fig, ax = plt.subplots()\nnum_bins = 30\nn, bins, patches = ax.hist(escSamps, num_bins)\nax.set_ylabel(\"Counts\")\nax.set_xlabel(\"Steps to $z$\")\nplt.show()\nplt.close()",
    "id": "00a1231a26624c4d85e8b095af58bd68",
    "idx": 10,
    "time": "2021-02-09T23:39:19.370Z",
    "type": "execution"
   },
   {
    "code": "print(np.mean(escSamps))",
    "id": "57986fcbf5844f1484845404249b7d75",
    "idx": 13,
    "time": "2021-02-09T23:39:21.075Z",
    "type": "execution"
   },
   {
    "code": "test_z = [2, 4, 6, 8, 10, 12, 14, 16, 18, 20]\nmeanEsc = np.zeros(len(test_z))\nfor i in range(len(test_z)):\n    meanEsc[i] = np.mean(sampleEscapeTraj(trials, test_z[i]))",
    "id": "7b771352a6cc4258a06315fd490613a3",
    "idx": 15,
    "time": "2021-02-09T23:39:22.283Z",
    "type": "execution"
   },
   {
    "code": "fig, ax = plt.subplots()\n\nax.loglog(test_z, meanEsc, 'ro', ms=8)\nax.set_ylabel(\"Mean steps\")\nax.set_xlabel(\"$z$\")\nplt.show()\nplt.close()",
    "id": "ca1d930c4f2f44ad8973e96bc6d5f58a",
    "idx": 16,
    "time": "2021-02-09T23:39:23.069Z",
    "type": "execution"
   },
   {
    "code": "coeffs = np.polyfit(np.log(test_z), np.log(meanEsc), 1)\n\nfig, ax = plt.subplots()\nax.plot(test_z, meanEsc, 'ro', ms=8)\nax.plot(test_z, np.exp(coeffs[1])*np.power(test_z, coeffs[0]), 'b-', label='{0:.3f} x^{1:.3f}'.format(np.exp(coeffs[1]), coeffs[0]))\nax.set_ylabel(\"Mean steps\")\nax.set_xlabel(\"$z$\")\nax.legend()\nplt.show()\nplt.close()",
    "id": "9ba77b9cf0a841848b282ac703588d3f",
    "idx": 18,
    "time": "2021-02-09T23:39:24.061Z",
    "type": "execution"
   },
   {
    "code": "No lets consider",
    "id": "5653c9ce3a5e4cf582f37ce0229c2907",
    "idx": 20,
    "time": "2021-02-09T23:39:25.029Z",
    "type": "execution"
   },
   {
    "code": "#Function that samples M number of trajectories, stopping when a walker reaches a distance r away from the origin\n#Inputs: Number of trials, distance to the edge\n#Outputs: List of integers for the number of steps taken until reaching a distance r\n#In each time interval there is a random step of length 1/sqrt(3) in x,y,and z. \ndef sampleEscapeTraj3d(trials, r):\n    rescSteps = np.zeros(trials)\n    for i in range(trials):\n        stepNum = 0\n        x = 0\n        y = 0 \n        z = 0\n        while ((x**2+y**2+z**2) < r**2):\n            x += np.random.choice([-1, 1])/np.sqrt(3)\n            y += np.random.choice([-1, 1])/np.sqrt(3)\n            z += np.random.choice([-1, 1])/np.sqrt(3)\n            stepNum += 1\n        rescSteps[i] = stepNum\n    return rescSteps",
    "id": "a5ebf59a482a4cfdbdbc02d2dc1b98d4",
    "idx": 21,
    "time": "2021-02-09T23:39:25.534Z",
    "type": "execution"
   },
   {
    "code": "trials = 1000\nr = 30\nrescSamps = sampleEscapeTraj3d(trials, r)",
    "id": "0f91e5ef03334d7b831cda5c3655956d",
    "idx": 22,
    "time": "2021-02-09T23:39:25.990Z",
    "type": "execution"
   },
   {
    "code": "fig, ax = plt.subplots()\n\nnum_bins = 30\nn, bins, patches = ax.hist(rescSamps, num_bins)\nax.set_ylabel(\"Counts\")\nax.set_xlabel(\"Steps to $r$\")\nplt.show()\nplt.close()",
    "id": "c7ee0c516b70486a9f7d8f540dfb5c84",
    "idx": 23,
    "time": "2021-02-09T23:39:26.478Z",
    "type": "execution"
   },
   {
    "code": "print(np.mean(rescSamps))",
    "id": "22d7d7810965484a9e4e8d1f2e5b2380",
    "idx": 24,
    "time": "2021-02-09T23:39:26.966Z",
    "type": "execution"
   },
   {
    "id": "92aa8985989e47a3a4df906bb219d52b",
    "time": "2021-02-09T23:39:51.956Z",
    "type": "completion"
   },
   {
    "id": "00a1231a26624c4d85e8b095af58bd68",
    "time": "2021-02-09T23:39:52.248Z",
    "type": "completion"
   },
   {
    "id": "57986fcbf5844f1484845404249b7d75",
    "time": "2021-02-09T23:39:52.286Z",
    "type": "completion"
   },
   {
    "code": "#Function that samples M number of trajectories, stopping when a walker reaches a distance z away from the origin\n#Inputs: Number of trials, distance to the edge\n#Outputs: List of integers for the number of steps taken until reaching a distance z\ndef Escape(trials, z_max):\n    escSteps = np.zeros(trials)\n    for i in range(trials):\n        stepNum = 0\n        curPos = 0\n        while (abs(curPos) < z_max):\n            curPos += np.random.choice([-1, 1])\n            stepNum += 1\n        escSteps[i] = stepNum\n    return escSteps",
    "id": "5bb717236b874eb380f65d63574bb56b",
    "idx": 6,
    "time": "2021-02-09T23:40:15.988Z",
    "type": "execution"
   },
   {
    "code": "trials = 10000\nz_max = 20\nescSamps = EscapeTraj(trials, z_max)",
    "id": "92aa8985989e47a3a4df906bb219d52b",
    "idx": 9,
    "time": "2021-02-09T23:40:31.092Z",
    "type": "execution"
   },
   {
    "code": "fig, ax = plt.subplots()\nnum_bins = 30\nn, bins, patches = ax.hist(escSamps, num_bins)\nax.set_ylabel(\"Counts\")\nax.set_xlabel(\"Steps to $z$\")\nplt.show()\nplt.close()",
    "id": "00a1231a26624c4d85e8b095af58bd68",
    "idx": 10,
    "time": "2021-02-09T23:40:32.936Z",
    "type": "execution"
   },
   {
    "id": "7b771352a6cc4258a06315fd490613a3",
    "time": "2021-02-09T23:41:54.222Z",
    "type": "completion"
   },
   {
    "id": "ca1d930c4f2f44ad8973e96bc6d5f58a",
    "time": "2021-02-09T23:41:54.812Z",
    "type": "completion"
   },
   {
    "id": "9ba77b9cf0a841848b282ac703588d3f",
    "time": "2021-02-09T23:41:55.128Z",
    "type": "completion"
   },
   {
    "id": "5653c9ce3a5e4cf582f37ce0229c2907",
    "time": "2021-02-09T23:41:55.142Z",
    "type": "completion"
   },
   {
    "id": "a5ebf59a482a4cfdbdbc02d2dc1b98d4",
    "time": "2021-02-09T23:41:55.144Z",
    "type": "completion"
   },
   {
    "id": "0f91e5ef03334d7b831cda5c3655956d",
    "time": "2021-02-09T23:41:55.145Z",
    "type": "completion"
   },
   {
    "id": "c7ee0c516b70486a9f7d8f540dfb5c84",
    "time": "2021-02-09T23:41:55.147Z",
    "type": "completion"
   },
   {
    "id": "22d7d7810965484a9e4e8d1f2e5b2380",
    "time": "2021-02-09T23:41:55.147Z",
    "type": "completion"
   },
   {
    "id": "5bb717236b874eb380f65d63574bb56b",
    "time": "2021-02-09T23:41:55.160Z",
    "type": "completion"
   },
   {
    "id": "92aa8985989e47a3a4df906bb219d52b",
    "time": "2021-02-09T23:41:55.161Z",
    "type": "completion"
   },
   {
    "id": "00a1231a26624c4d85e8b095af58bd68",
    "time": "2021-02-09T23:41:55.162Z",
    "type": "completion"
   },
   {
    "code": "fig, ax = plt.subplots()\nnum_bins = 30\nn, bins, patches = ax.hist(escSamps, num_bins)\nax.set_ylabel(\"Counts\")\nax.set_xlabel(\"Steps to $z$\")\nplt.show()\nplt.close()",
    "id": "00a1231a26624c4d85e8b095af58bd68",
    "idx": 10,
    "time": "2021-02-09T23:42:10.254Z",
    "type": "execution"
   },
   {
    "id": "00a1231a26624c4d85e8b095af58bd68",
    "time": "2021-02-09T23:42:10.569Z",
    "type": "completion"
   },
   {
    "code": "trials = 1000\nz_max = 20\nescSamps = EscapeTraj(trials, z_max)",
    "id": "92aa8985989e47a3a4df906bb219d52b",
    "idx": 9,
    "time": "2021-02-09T23:42:36.521Z",
    "type": "execution"
   },
   {
    "id": "92aa8985989e47a3a4df906bb219d52b",
    "time": "2021-02-09T23:42:36.589Z",
    "type": "completion"
   },
   {
    "code": "trials = 1000\nz_max = 20\nescSamps = Escape(trials, z_max)",
    "id": "92aa8985989e47a3a4df906bb219d52b",
    "idx": 9,
    "time": "2021-02-09T23:42:53.160Z",
    "type": "execution"
   },
   {
    "id": "92aa8985989e47a3a4df906bb219d52b",
    "time": "2021-02-09T23:42:54.158Z",
    "type": "completion"
   },
   {
    "code": "fig, ax = plt.subplots()\nnum_bins = 30\nn, bins, patches = ax.hist(escSamps, num_bins)\nax.set_ylabel(\"Counts\")\nax.set_xlabel(\"Steps to $z$\")\nplt.show()\nplt.close()",
    "id": "00a1231a26624c4d85e8b095af58bd68",
    "idx": 10,
    "time": "2021-02-09T23:42:54.367Z",
    "type": "execution"
   },
   {
    "id": "00a1231a26624c4d85e8b095af58bd68",
    "time": "2021-02-09T23:42:54.689Z",
    "type": "completion"
   },
   {
    "code": "#Function that samples M number of trajectories, stopping when a walker reaches a distance z away from the origin\n#Inputs: Number of trials, distance to the edge\n#Outputs: List of integers for the number of steps taken until reaching a distance z\ndef Escape(trials, z_max):\n    escSteps = np.zeros(trials)\n    for i in range(trials):\n        stepNum = 0\n        curPos = 0\n        while (abs(curPos) < z_max):\n            curPos += np.random.choice([-1, 1])\n            stepNum += 1\n        escSteps[i] = stepNum\n    return escSteps",
    "id": "5bb717236b874eb380f65d63574bb56b",
    "idx": 6,
    "time": "2021-02-09T23:43:07.786Z",
    "type": "execution"
   },
   {
    "id": "5bb717236b874eb380f65d63574bb56b",
    "time": "2021-02-09T23:43:07.847Z",
    "type": "completion"
   },
   {
    "code": "trials = 1000\nz_max = 20\nescSamps = Escape(trials, z_max)",
    "id": "92aa8985989e47a3a4df906bb219d52b",
    "idx": 9,
    "time": "2021-02-09T23:43:10.796Z",
    "type": "execution"
   },
   {
    "code": "fig, ax = plt.subplots()\nnum_bins = 30\nn, bins, patches = ax.hist(escSamps, num_bins)\nax.set_ylabel(\"Counts\")\nax.set_xlabel(\"Steps to $z$\")\nplt.show()\nplt.close()",
    "id": "00a1231a26624c4d85e8b095af58bd68",
    "idx": 10,
    "time": "2021-02-09T23:43:12.184Z",
    "type": "execution"
   },
   {
    "id": "92aa8985989e47a3a4df906bb219d52b",
    "time": "2021-02-09T23:43:13.919Z",
    "type": "completion"
   },
   {
    "id": "00a1231a26624c4d85e8b095af58bd68",
    "time": "2021-02-09T23:43:14.195Z",
    "type": "completion"
   },
   {
    "code": "print(np.mean(escSamps))",
    "id": "57986fcbf5844f1484845404249b7d75",
    "idx": 13,
    "time": "2021-02-09T23:43:27.768Z",
    "type": "execution"
   },
   {
    "id": "57986fcbf5844f1484845404249b7d75",
    "time": "2021-02-09T23:43:27.828Z",
    "type": "completion"
   },
   {
    "code": "trials = 10000\nz_max = 10\nescSamps = Escape(trials, z_max)",
    "id": "92aa8985989e47a3a4df906bb219d52b",
    "idx": 9,
    "time": "2021-02-09T23:43:45.439Z",
    "type": "execution"
   },
   {
    "code": "fig, ax = plt.subplots()\nnum_bins = 30\nn, bins, patches = ax.hist(escSamps, num_bins)\nax.set_ylabel(\"Counts\")\nax.set_xlabel(\"Steps to $z$\")\nplt.show()\nplt.close()",
    "id": "00a1231a26624c4d85e8b095af58bd68",
    "idx": 10,
    "time": "2021-02-09T23:43:46.476Z",
    "type": "execution"
   },
   {
    "id": "92aa8985989e47a3a4df906bb219d52b",
    "time": "2021-02-09T23:43:53.232Z",
    "type": "completion"
   },
   {
    "id": "00a1231a26624c4d85e8b095af58bd68",
    "time": "2021-02-09T23:43:53.505Z",
    "type": "completion"
   },
   {
    "code": "print(np.mean(escSamps))",
    "id": "57986fcbf5844f1484845404249b7d75",
    "idx": 13,
    "time": "2021-02-09T23:43:56.878Z",
    "type": "execution"
   },
   {
    "id": "57986fcbf5844f1484845404249b7d75",
    "time": "2021-02-09T23:43:56.950Z",
    "type": "completion"
   },
   {
    "code": "trials = 10000\nz_max = 5\nescSamps = Escape(trials, z_max)",
    "id": "92aa8985989e47a3a4df906bb219d52b",
    "idx": 9,
    "time": "2021-02-09T23:45:58.693Z",
    "type": "execution"
   },
   {
    "code": "fig, ax = plt.subplots()\nnum_bins = 30\nn, bins, patches = ax.hist(escSamps, num_bins)\nax.set_ylabel(\"Counts\")\nax.set_xlabel(\"Steps to $z$\")\nplt.show()\nplt.close()",
    "id": "00a1231a26624c4d85e8b095af58bd68",
    "idx": 10,
    "time": "2021-02-09T23:45:59.513Z",
    "type": "execution"
   },
   {
    "id": "92aa8985989e47a3a4df906bb219d52b",
    "time": "2021-02-09T23:46:00.755Z",
    "type": "completion"
   },
   {
    "id": "00a1231a26624c4d85e8b095af58bd68",
    "time": "2021-02-09T23:46:01.205Z",
    "type": "completion"
   },
   {
    "code": "print(np.mean(escSamps))",
    "id": "57986fcbf5844f1484845404249b7d75",
    "idx": 13,
    "time": "2021-02-09T23:46:05.449Z",
    "type": "execution"
   },
   {
    "id": "57986fcbf5844f1484845404249b7d75",
    "time": "2021-02-09T23:46:05.511Z",
    "type": "completion"
   },
   {
    "code": "r_max = [1, 2, 4, 5]\nmeanEsc = np.zeros(len(r_max))\nfor i in range(len(r_max)):\n    meanEsc[i] = np.mean(Escape3d(trials, r_max[i]))\n    \nprint(meanEsc)",
    "id": "8a1a7d10ecb3407b8273ba1f70c3574e",
    "idx": 29,
    "time": "2021-02-10T00:12:20.519Z",
    "type": "execution"
   },
   {
    "id": "8a1a7d10ecb3407b8273ba1f70c3574e",
    "time": "2021-02-10T00:12:20.604Z",
    "type": "completion"
   },
   {
    "code": "r_max = [1, 2, 4, 5]\nmeanEsc = np.zeros(len(r_max))\nfor i in range(len(r_max)):\n    meanEsc[i] = np.mean(Escape3d(trials, r_max[i]))\n    \nprint(meanEsc)",
    "id": "8a1a7d10ecb3407b8273ba1f70c3574e",
    "idx": 29,
    "time": "2021-02-10T00:12:23.640Z",
    "type": "execution"
   },
   {
    "id": "8a1a7d10ecb3407b8273ba1f70c3574e",
    "time": "2021-02-10T00:12:23.722Z",
    "type": "completion"
   },
   {
    "code": "#Function that samples M number of trajectories, stopping when a walker reaches a distance r away from the origin\n#Inputs: Number of trials, distance to the edge\n#Outputs: List of integers for the number of steps taken until reaching a distance r \ndef Escape3d(trials, r):\n    rescSteps = np.zeros(trials)\n    for i in range(trials):\n        stepNum = 0\n        x = 0\n        y = 0 \n        z = 0\n        while ((x**2+y**2+z**2) < r**2):\n            x += np.random.choice([-1, 1])/np.sqrt(3)\n            y += np.random.choice([-1, 1])/np.sqrt(3)\n            z += np.random.choice([-1, 1])/np.sqrt(3)\n            stepNum += 1\n        rescSteps[i] = stepNum\n    return rescSteps",
    "id": "a5ebf59a482a4cfdbdbc02d2dc1b98d4",
    "idx": 22,
    "time": "2021-02-10T00:12:38.347Z",
    "type": "execution"
   },
   {
    "id": "a5ebf59a482a4cfdbdbc02d2dc1b98d4",
    "time": "2021-02-10T00:12:38.406Z",
    "type": "completion"
   },
   {
    "code": "trials = 1000\nr = 30\nrescSamps = Escape3d(trials, r)",
    "id": "0f91e5ef03334d7b831cda5c3655956d",
    "idx": 25,
    "time": "2021-02-10T00:12:47.586Z",
    "type": "execution"
   },
   {
    "code": "fig, ax = plt.subplots()\n\nnum_bins = 30\nn, bins, patches = ax.hist(rescSamps, num_bins)\nax.set_ylabel(\"Counts\")\nax.set_xlabel(\"Steps to $r$\")\nplt.show()\nplt.close()",
    "id": "c7ee0c516b70486a9f7d8f540dfb5c84",
    "idx": 26,
    "time": "2021-02-10T00:12:49.387Z",
    "type": "execution"
   },
   {
    "id": "0f91e5ef03334d7b831cda5c3655956d",
    "time": "2021-02-10T00:13:25.936Z",
    "type": "completion"
   },
   {
    "id": "c7ee0c516b70486a9f7d8f540dfb5c84",
    "time": "2021-02-10T00:13:26.283Z",
    "type": "completion"
   },
   {
    "code": "r_max = [1, 2, 4, 5]\nmeanEsc = np.zeros(len(r_max))\nfor i in range(len(r_max)):\n    meanEsc[i] = np.mean(Escape3d(trials, r_max[i]))\n    \nprint(meanEsc)",
    "id": "8a1a7d10ecb3407b8273ba1f70c3574e",
    "idx": 29,
    "time": "2021-02-10T00:13:42.384Z",
    "type": "execution"
   },
   {
    "id": "8a1a7d10ecb3407b8273ba1f70c3574e",
    "time": "2021-02-10T00:13:44.722Z",
    "type": "completion"
   },
   {
    "code": "trials = 1000\nr = 5\nrescSamps = Escape3d(trials, r)\nprint(np.mean(rescSamps))",
    "id": "22d7d7810965484a9e4e8d1f2e5b2380",
    "idx": 28,
    "time": "2021-02-10T00:15:26.097Z",
    "type": "execution"
   },
   {
    "id": "22d7d7810965484a9e4e8d1f2e5b2380",
    "time": "2021-02-10T00:15:27.327Z",
    "type": "completion"
   },
   {
    "code": "trials = 1000\nr = 5\nrescSamps = Escape3d(trials, r)\nprint(np.mean(rescSamps))",
    "id": "22d7d7810965484a9e4e8d1f2e5b2380",
    "idx": 28,
    "time": "2021-02-10T00:15:32.943Z",
    "type": "execution"
   },
   {
    "id": "22d7d7810965484a9e4e8d1f2e5b2380",
    "time": "2021-02-10T00:15:34.177Z",
    "type": "completion"
   },
   {
    "code": "trials = 1000\nr = 5\nrescSamps = Escape3d(trials, r)\nprint(np.mean(rescSamps))",
    "id": "22d7d7810965484a9e4e8d1f2e5b2380",
    "idx": 28,
    "time": "2021-02-10T00:15:37.031Z",
    "type": "execution"
   },
   {
    "id": "22d7d7810965484a9e4e8d1f2e5b2380",
    "time": "2021-02-10T00:15:38.348Z",
    "type": "completion"
   },
   {
    "code": "trials = 1000\nr = 5\nrescSamps = Escape3d(trials, r)\nprint(np.mean(rescSamps))",
    "id": "22d7d7810965484a9e4e8d1f2e5b2380",
    "idx": 28,
    "time": "2021-02-10T00:15:41.057Z",
    "type": "execution"
   },
   {
    "id": "22d7d7810965484a9e4e8d1f2e5b2380",
    "time": "2021-02-10T00:15:42.277Z",
    "type": "completion"
   },
   {
    "code": "trials = 1000\nr = 5\nrescSamps = Escape3d(trials, r)\nprint(np.mean(rescSamps))",
    "id": "22d7d7810965484a9e4e8d1f2e5b2380",
    "idx": 28,
    "time": "2021-02-10T00:15:45.006Z",
    "type": "execution"
   },
   {
    "id": "22d7d7810965484a9e4e8d1f2e5b2380",
    "time": "2021-02-10T00:15:46.177Z",
    "type": "completion"
   },
   {
    "code": "#Function that samples M number of trajectories, stopping when a walker reaches a distance r away from the origin\n#Inputs: Number of trials, distance to the edge\n#Outputs: List of integers for the number of steps taken until reaching a distance r \ndef Escape3d(trials, r):\n    rescSteps = np.zeros(trials)\n    for i in range(trials):\n        stepNum = 0\n        x = 0\n        y = 0 \n        z = 0\n        while ((x**2+y**2+z**2) <= r**2):\n            x += np.random.choice([-1, 1])/np.sqrt(3)\n            y += np.random.choice([-1, 1])/np.sqrt(3)\n            z += np.random.choice([-1, 1])/np.sqrt(3)\n            stepNum += 1\n        rescSteps[i] = stepNum\n    return rescSteps",
    "id": "a5ebf59a482a4cfdbdbc02d2dc1b98d4",
    "idx": 22,
    "time": "2021-02-10T00:16:05.609Z",
    "type": "execution"
   },
   {
    "id": "a5ebf59a482a4cfdbdbc02d2dc1b98d4",
    "time": "2021-02-10T00:16:05.672Z",
    "type": "completion"
   },
   {
    "code": "trials = 1000\nr = 30\nrescSamps = Escape3d(trials, r)",
    "id": "0f91e5ef03334d7b831cda5c3655956d",
    "idx": 25,
    "time": "2021-02-10T00:16:09.009Z",
    "type": "execution"
   },
   {
    "code": "fig, ax = plt.subplots()\n\nnum_bins = 30\nn, bins, patches = ax.hist(rescSamps, num_bins)\nax.set_ylabel(\"Counts\")\nax.set_xlabel(\"Steps to $r$\")\nplt.show()\nplt.close()",
    "id": "c7ee0c516b70486a9f7d8f540dfb5c84",
    "idx": 26,
    "time": "2021-02-10T00:16:11.558Z",
    "type": "execution"
   },
   {
    "code": "trials = 1000\nr = 5\nrescSamps = Escape3d(trials, r)\nprint(np.mean(rescSamps))",
    "id": "22d7d7810965484a9e4e8d1f2e5b2380",
    "idx": 28,
    "time": "2021-02-10T00:16:15.416Z",
    "type": "execution"
   },
   {
    "code": "#Function that samples M number of trajectories, stopping when a walker reaches a distance z away from the origin\n#Inputs: Number of trials, distance to the edge\n#Outputs: List of integers for the number of steps taken until reaching a distance z\ndef Escape(trials, z_max):\n    escSteps = np.zeros(trials)\n    for i in range(trials):\n        stepNum = 0\n        curPos = 0\n        while (abs(curPos) <= z_max):\n            curPos += np.random.choice([-1, 1])\n            stepNum += 1\n        escSteps[i] = stepNum\n    return escSteps",
    "id": "5bb717236b874eb380f65d63574bb56b",
    "idx": 6,
    "time": "2021-02-10T00:16:35.705Z",
    "type": "execution"
   },
   {
    "code": "trials = 10000\nz_max = 5\nescSamps = Escape(trials, z_max)",
    "id": "92aa8985989e47a3a4df906bb219d52b",
    "idx": 9,
    "time": "2021-02-10T00:16:38.147Z",
    "type": "execution"
   },
   {
    "code": "fig, ax = plt.subplots()\nnum_bins = 30\nn, bins, patches = ax.hist(escSamps, num_bins)\nax.set_ylabel(\"Counts\")\nax.set_xlabel(\"Steps to $z$\")\nplt.show()\nplt.close()",
    "id": "00a1231a26624c4d85e8b095af58bd68",
    "idx": 10,
    "time": "2021-02-10T00:16:40.033Z",
    "type": "execution"
   },
   {
    "id": "0f91e5ef03334d7b831cda5c3655956d",
    "time": "2021-02-10T00:16:52.522Z",
    "type": "completion"
   },
   {
    "id": "c7ee0c516b70486a9f7d8f540dfb5c84",
    "time": "2021-02-10T00:16:52.538Z",
    "type": "completion"
   },
   {
    "id": "22d7d7810965484a9e4e8d1f2e5b2380",
    "time": "2021-02-10T00:16:52.579Z",
    "type": "completion"
   },
   {
    "id": "5bb717236b874eb380f65d63574bb56b",
    "time": "2021-02-10T00:16:52.582Z",
    "type": "completion"
   },
   {
    "id": "92aa8985989e47a3a4df906bb219d52b",
    "time": "2021-02-10T00:16:54.471Z",
    "type": "completion"
   },
   {
    "id": "00a1231a26624c4d85e8b095af58bd68",
    "time": "2021-02-10T00:16:54.754Z",
    "type": "completion"
   },
   {
    "code": "trials = 1000\nr = 5\nrescSamps = Escape3d(trials, r)\nprint(np.mean(rescSamps))",
    "id": "22d7d7810965484a9e4e8d1f2e5b2380",
    "idx": 28,
    "time": "2021-02-10T00:17:02.678Z",
    "type": "execution"
   },
   {
    "id": "22d7d7810965484a9e4e8d1f2e5b2380",
    "time": "2021-02-10T00:17:04.026Z",
    "type": "completion"
   },
   {
    "code": "r_max = [1, 2, 4, 5]\nmeanEsc = np.zeros(len(r_max))\nfor i in range(len(r_max)):\n    meanEsc[i] = np.mean(Escape3d(trials, r_max[i]))\n    \nprint(meanEsc)",
    "id": "8a1a7d10ecb3407b8273ba1f70c3574e",
    "idx": 29,
    "time": "2021-02-10T00:17:06.903Z",
    "type": "execution"
   },
   {
    "id": "8a1a7d10ecb3407b8273ba1f70c3574e",
    "time": "2021-02-10T00:17:09.239Z",
    "type": "completion"
   },
   {
    "code": "trials = 1000\nr = 5\nrescSamps = Escape3d(trials, r)\nprint(np.mean(rescSamps))",
    "id": "22d7d7810965484a9e4e8d1f2e5b2380",
    "idx": 28,
    "time": "2021-02-10T00:17:09.984Z",
    "type": "execution"
   },
   {
    "id": "22d7d7810965484a9e4e8d1f2e5b2380",
    "time": "2021-02-10T00:17:11.244Z",
    "type": "completion"
   },
   {
    "code": "trials = 1000\nr = 10\nrescSamps = Escape3d(trials, r)\nprint(np.mean(rescSamps))",
    "id": "22d7d7810965484a9e4e8d1f2e5b2380",
    "idx": 28,
    "time": "2021-02-10T00:17:20.433Z",
    "type": "execution"
   },
   {
    "id": "22d7d7810965484a9e4e8d1f2e5b2380",
    "time": "2021-02-10T00:17:24.877Z",
    "type": "completion"
   },
   {
    "code": "r_max = [1, 2, 4, 5]\nmeanEsc = np.zeros(len(r_max))\nfor i in range(len(r_max)):\n    meanEsc[i] = np.mean(Escape3d(trials, r_max[i]))\n    \nprint(meanEsc)",
    "id": "8a1a7d10ecb3407b8273ba1f70c3574e",
    "idx": 29,
    "time": "2021-02-10T00:17:27.220Z",
    "type": "execution"
   },
   {
    "id": "8a1a7d10ecb3407b8273ba1f70c3574e",
    "time": "2021-02-10T00:17:29.476Z",
    "type": "completion"
   },
   {
    "code": "trials = 1000\nr = 10\nrescSamps = Escape3d(trials, r)\nprint(np.mean(rescSamps))",
    "id": "22d7d7810965484a9e4e8d1f2e5b2380",
    "idx": 28,
    "time": "2021-02-10T00:17:30.685Z",
    "type": "execution"
   },
   {
    "id": "22d7d7810965484a9e4e8d1f2e5b2380",
    "time": "2021-02-10T00:17:35.262Z",
    "type": "completion"
   },
   {
    "code": "r_max = [1, 2, 4, 5]\nmeanEsc = np.zeros(len(r_max))\nfor i in range(len(r_max)):\n    meanEsc[i] = np.mean(Escape3d(trials, r_max[i]))\n    \nprint(meanEsc)",
    "id": "8a1a7d10ecb3407b8273ba1f70c3574e",
    "idx": 29,
    "time": "2021-02-10T00:17:37.074Z",
    "type": "execution"
   },
   {
    "id": "8a1a7d10ecb3407b8273ba1f70c3574e",
    "time": "2021-02-10T00:17:39.436Z",
    "type": "completion"
   },
   {
    "code": "trials = 1000\nr = 20\nrescSamps = Escape3d(trials, r)\nprint(np.mean(rescSamps))",
    "id": "22d7d7810965484a9e4e8d1f2e5b2380",
    "idx": 28,
    "time": "2021-02-10T00:17:44.388Z",
    "type": "execution"
   },
   {
    "id": "22d7d7810965484a9e4e8d1f2e5b2380",
    "time": "2021-02-10T00:18:01.846Z",
    "type": "completion"
   },
   {
    "code": "r_max = [3, 5, 10, 20]\nmeanEsc = np.zeros(len(r_max))\nfor i in range(len(r_max)):\n    meanEsc[i] = np.mean(Escape3d(trials, r_max[i]))\n    \nprint(meanEsc)",
    "id": "8a1a7d10ecb3407b8273ba1f70c3574e",
    "idx": 29,
    "time": "2021-02-10T00:18:29.441Z",
    "type": "execution"
   },
   {
    "id": "8a1a7d10ecb3407b8273ba1f70c3574e",
    "time": "2021-02-10T00:18:53.319Z",
    "type": "completion"
   },
   {
    "code": "r_max = [3, 5, 10, 20, 30]\nmeanEsc = np.zeros(len(r_max))\nfor i in range(len(r_max)):\n    meanEsc[i] = np.mean(Escape3d(trials, r_max[i]))\n    \nprint(meanEsc)",
    "id": "8a1a7d10ecb3407b8273ba1f70c3574e",
    "idx": 29,
    "time": "2021-02-10T00:19:38.463Z",
    "type": "execution"
   },
   {
    "id": "8a1a7d10ecb3407b8273ba1f70c3574e",
    "time": "2021-02-10T00:20:43.455Z",
    "type": "completion"
   },
   {
    "code": "#Function that samples M number of trajectories, stopping when a walker reaches a distance r away from the origin\n#Inputs: Number of trials, distance to the edge\n#Outputs: List of integers for the number of steps taken until reaching a distance r \ndef Escape3d(trials, r):\n    rescSteps = np.zeros(trials)\n    for i in range(trials):\n        stepNum = 0\n        x = 0.0\n        y = 0.0 \n        z = 0.0\n        while ((x**2+y**2+z**2) <= r**2):\n            x += np.random.choice([-1, 1])/np.sqrt(3)\n            y += np.random.choice([-1, 1])/np.sqrt(3)\n            z += np.random.choice([-1, 1])/np.sqrt(3)\n            stepNum += 1\n        rescSteps[i] = stepNum\n    return rescSteps",
    "id": "a5ebf59a482a4cfdbdbc02d2dc1b98d4",
    "idx": 22,
    "time": "2021-02-10T00:21:47.094Z",
    "type": "execution"
   },
   {
    "id": "a5ebf59a482a4cfdbdbc02d2dc1b98d4",
    "time": "2021-02-10T00:21:47.154Z",
    "type": "completion"
   },
   {
    "code": "trials = 1000\nr = 30\nrescSamps = Escape3d(trials, r)",
    "id": "0f91e5ef03334d7b831cda5c3655956d",
    "idx": 25,
    "time": "2021-02-10T00:22:00.922Z",
    "type": "execution"
   },
   {
    "code": "fig, ax = plt.subplots()\n\nnum_bins = 30\nn, bins, patches = ax.hist(rescSamps, num_bins)\nax.set_ylabel(\"Counts\")\nax.set_xlabel(\"Steps to $r$\")\nplt.show()\nplt.close()",
    "id": "c7ee0c516b70486a9f7d8f540dfb5c84",
    "idx": 26,
    "time": "2021-02-10T00:22:02.499Z",
    "type": "execution"
   },
   {
    "code": "trials = 1000\nr = 20\nrescSamps = Escape3d(trials, r)\nprint(np.mean(rescSamps))",
    "id": "22d7d7810965484a9e4e8d1f2e5b2380",
    "idx": 28,
    "time": "2021-02-10T00:22:04.313Z",
    "type": "execution"
   },
   {
    "code": "r_max = [3, 5, 10, 20, 30]\nmeanEsc = np.zeros(len(r_max))\nfor i in range(len(r_max)):\n    meanEsc[i] = np.mean(Escape3d(trials, r_max[i]))\n    \nprint(meanEsc)",
    "id": "8a1a7d10ecb3407b8273ba1f70c3574e",
    "idx": 29,
    "time": "2021-02-10T00:22:04.943Z",
    "type": "execution"
   },
   {
    "id": "0f91e5ef03334d7b831cda5c3655956d",
    "time": "2021-02-10T00:22:40.625Z",
    "type": "completion"
   },
   {
    "id": "c7ee0c516b70486a9f7d8f540dfb5c84",
    "time": "2021-02-10T00:22:40.889Z",
    "type": "completion"
   },
   {
    "id": "22d7d7810965484a9e4e8d1f2e5b2380",
    "time": "2021-02-10T00:22:58.496Z",
    "type": "completion"
   },
   {
    "id": "8a1a7d10ecb3407b8273ba1f70c3574e",
    "time": "2021-02-10T00:24:05.698Z",
    "type": "completion"
   },
   {
    "code": "z_max = [3, 5, 10, 20, 30]\nmeanEsc = np.zeros(len(z_max))\nfor i in range(len(z_max)):\n    meanEsc[i] = np.mean(Escape(trials, z_max[i]))\n    \nprint(meanEsc)",
    "id": "57986fcbf5844f1484845404249b7d75",
    "idx": 13,
    "time": "2021-02-10T00:25:28.813Z",
    "type": "execution"
   },
   {
    "id": "57986fcbf5844f1484845404249b7d75",
    "time": "2021-02-10T00:25:40.787Z",
    "type": "completion"
   },
   {
    "code": "print(Escape(1000,5))",
    "id": "da39fdd3f2634caf85997e4aacca45ca",
    "idx": 12,
    "time": "2021-02-10T00:27:19.140Z",
    "type": "execution"
   },
   {
    "id": "da39fdd3f2634caf85997e4aacca45ca",
    "time": "2021-02-10T00:27:19.493Z",
    "type": "completion"
   },
   {
    "code": "print(np.mean(Escape(1000,5)))",
    "id": "da39fdd3f2634caf85997e4aacca45ca",
    "idx": 12,
    "time": "2021-02-10T00:27:40.243Z",
    "type": "execution"
   },
   {
    "id": "da39fdd3f2634caf85997e4aacca45ca",
    "time": "2021-02-10T00:27:42.236Z",
    "type": "completion"
   },
   {
    "code": "import numpy as np\nimport scipy.stats as st\nimport matplotlib.pyplot as plt",
    "id": "c72e14851aa44594a23a7619cbbaa10f",
    "idx": 3,
    "time": "2021-02-10T00:27:53.502Z",
    "type": "execution"
   },
   {
    "id": "c72e14851aa44594a23a7619cbbaa10f",
    "time": "2021-02-10T00:27:53.561Z",
    "type": "completion"
   },
   {
    "code": "#Function that samples M number of trajectories, stopping when a walker reaches a distance z away from the origin\n#Inputs: Number of trials, distance to the edge\n#Outputs: List of integers for the number of steps taken until reaching a distance z\ndef Escape(trials, z_max):\n    escSteps = np.zeros(trials)\n    for i in range(trials):\n        stepNum = 0\n        curPos = 0\n        while (abs(curPos) < z_max):\n            curPos += np.random.choice([-1, 1])\n            stepNum += 1\n        escSteps[i] = stepNum\n    return escSteps",
    "id": "5bb717236b874eb380f65d63574bb56b",
    "idx": 6,
    "time": "2021-02-10T00:28:20.930Z",
    "type": "execution"
   },
   {
    "id": "5bb717236b874eb380f65d63574bb56b",
    "time": "2021-02-10T00:28:20.993Z",
    "type": "completion"
   },
   {
    "code": "trials = 10000\nz_max = 5\nescSamps = Escape(trials, z_max)",
    "id": "92aa8985989e47a3a4df906bb219d52b",
    "idx": 9,
    "time": "2021-02-10T00:28:24.993Z",
    "type": "execution"
   },
   {
    "code": "fig, ax = plt.subplots()\nnum_bins = 30\nn, bins, patches = ax.hist(escSamps, num_bins)\nax.set_ylabel(\"Counts\")\nax.set_xlabel(\"Steps to $z$\")\nplt.show()\nplt.close()",
    "id": "00a1231a26624c4d85e8b095af58bd68",
    "idx": 10,
    "time": "2021-02-10T00:28:26.723Z",
    "type": "execution"
   },
   {
    "id": "92aa8985989e47a3a4df906bb219d52b",
    "time": "2021-02-10T00:28:26.981Z",
    "type": "completion"
   },
   {
    "id": "00a1231a26624c4d85e8b095af58bd68",
    "time": "2021-02-10T00:28:27.290Z",
    "type": "completion"
   },
   {
    "code": "print(np.mean(Escape(1000,5)))",
    "id": "da39fdd3f2634caf85997e4aacca45ca",
    "idx": 12,
    "time": "2021-02-10T00:28:29.925Z",
    "type": "execution"
   },
   {
    "id": "da39fdd3f2634caf85997e4aacca45ca",
    "time": "2021-02-10T00:28:30.202Z",
    "type": "completion"
   },
   {
    "code": "#Function that samples M number of trajectories, stopping when a walker reaches a distance r away from the origin\n#Inputs: Number of trials, distance to the edge\n#Outputs: List of integers for the number of steps taken until reaching a distance r \ndef Escape3d(trials, r):\n    rescSteps = np.zeros(trials)\n    for i in range(trials):\n        stepNum = 0\n        x = 0.0\n        y = 0.0 \n        z = 0.0\n        while ((x**2+y**2+z**2) < r**2):\n            x += np.random.choice([-1, 1])/np.sqrt(3)\n            y += np.random.choice([-1, 1])/np.sqrt(3)\n            z += np.random.choice([-1, 1])/np.sqrt(3)\n            stepNum += 1\n        rescSteps[i] = stepNum\n    return rescSteps",
    "id": "a5ebf59a482a4cfdbdbc02d2dc1b98d4",
    "idx": 22,
    "time": "2021-02-10T00:28:46.906Z",
    "type": "execution"
   },
   {
    "id": "a5ebf59a482a4cfdbdbc02d2dc1b98d4",
    "time": "2021-02-10T00:28:46.968Z",
    "type": "completion"
   },
   {
    "code": "trials = 1000\nr = 30\nrescSamps = Escape3d(trials, r)",
    "id": "0f91e5ef03334d7b831cda5c3655956d",
    "idx": 25,
    "time": "2021-02-10T00:28:49.156Z",
    "type": "execution"
   },
   {
    "code": "fig, ax = plt.subplots()\n\nnum_bins = 30\nn, bins, patches = ax.hist(rescSamps, num_bins)\nax.set_ylabel(\"Counts\")\nax.set_xlabel(\"Steps to $r$\")\nplt.show()\nplt.close()",
    "id": "c7ee0c516b70486a9f7d8f540dfb5c84",
    "idx": 26,
    "time": "2021-02-10T00:28:49.992Z",
    "type": "execution"
   },
   {
    "code": "trials = 1000\nr = 20\nrescSamps = Escape3d(trials, r)\nprint(np.mean(rescSamps))",
    "id": "22d7d7810965484a9e4e8d1f2e5b2380",
    "idx": 29,
    "time": "2021-02-10T00:28:52.160Z",
    "type": "execution"
   },
   {
    "code": "r_max = [3, 5, 10, 20, 30]\nmeanEsc = np.zeros(len(r_max))\nfor i in range(len(r_max)):\n    meanEsc[i] = np.mean(Escape3d(trials, r_max[i]))\n    \nprint(meanEsc)",
    "id": "8a1a7d10ecb3407b8273ba1f70c3574e",
    "idx": 30,
    "time": "2021-02-10T00:28:53.037Z",
    "type": "execution"
   },
   {
    "id": "0f91e5ef03334d7b831cda5c3655956d",
    "time": "2021-02-10T00:29:27.162Z",
    "type": "completion"
   },
   {
    "id": "c7ee0c516b70486a9f7d8f540dfb5c84",
    "time": "2021-02-10T00:29:27.465Z",
    "type": "completion"
   },
   {
    "id": "22d7d7810965484a9e4e8d1f2e5b2380",
    "time": "2021-02-10T00:29:45.180Z",
    "type": "completion"
   },
   {
    "code": "print(np.mean(Escape(1000,5)))",
    "id": "da39fdd3f2634caf85997e4aacca45ca",
    "idx": 12,
    "time": "2021-02-10T00:29:59.094Z",
    "type": "execution"
   },
   {
    "id": "8a1a7d10ecb3407b8273ba1f70c3574e",
    "time": "2021-02-10T00:30:48.340Z",
    "type": "completion"
   },
   {
    "id": "da39fdd3f2634caf85997e4aacca45ca",
    "time": "2021-02-10T00:30:48.625Z",
    "type": "completion"
   },
   {
    "code": "z_max = [3, 5, 10, 20, 30]\nmeanEsc = np.zeros(len(z_max))\nfor i in range(len(z_max)):\n    meanEsc[i] = np.mean(Escape(trials, z_max[i]))\n    \nprint(meanEsc)",
    "id": "57986fcbf5844f1484845404249b7d75",
    "idx": 13,
    "time": "2021-02-10T00:31:24.507Z",
    "type": "execution"
   },
   {
    "id": "57986fcbf5844f1484845404249b7d75",
    "time": "2021-02-10T00:31:36.719Z",
    "type": "completion"
   },
   {
    "code": "print(np.mean(Escape(1000,5)))",
    "id": "da39fdd3f2634caf85997e4aacca45ca",
    "idx": 12,
    "time": "2021-02-10T00:32:06.219Z",
    "type": "execution"
   },
   {
    "id": "da39fdd3f2634caf85997e4aacca45ca",
    "time": "2021-02-10T00:32:06.494Z",
    "type": "completion"
   },
   {
    "code": "z_max = [3, 5, 10, 20, 30]\nmeanEsc = np.zeros(len(z_max))\nfor i in range(len(z_max)):\n    meanEsc[i] = np.mean(Escape(trials, z_max[i]))\n    \nprint(meanEsc)",
    "id": "57986fcbf5844f1484845404249b7d75",
    "idx": 13,
    "time": "2021-02-10T00:32:07.910Z",
    "type": "execution"
   },
   {
    "code": "print(np.mean(Escape(1000,5)))",
    "id": "da39fdd3f2634caf85997e4aacca45ca",
    "idx": 12,
    "time": "2021-02-10T00:32:11.440Z",
    "type": "execution"
   },
   {
    "id": "57986fcbf5844f1484845404249b7d75",
    "time": "2021-02-10T00:32:18.865Z",
    "type": "completion"
   },
   {
    "id": "da39fdd3f2634caf85997e4aacca45ca",
    "time": "2021-02-10T00:32:19.083Z",
    "type": "completion"
   },
   {
    "code": "trials = 1000\nz_max = 5\nescSamps = Escape(trials, z_max)",
    "id": "92aa8985989e47a3a4df906bb219d52b",
    "idx": 9,
    "time": "2021-02-10T00:32:34.994Z",
    "type": "execution"
   },
   {
    "id": "92aa8985989e47a3a4df906bb219d52b",
    "time": "2021-02-10T00:32:35.251Z",
    "type": "completion"
   },
   {
    "code": "fig, ax = plt.subplots()\nnum_bins = 30\nn, bins, patches = ax.hist(escSamps, num_bins)\nax.set_ylabel(\"Counts\")\nax.set_xlabel(\"Steps to $z$\")\nplt.show()\nplt.close()",
    "id": "00a1231a26624c4d85e8b095af58bd68",
    "idx": 10,
    "time": "2021-02-10T00:32:36.905Z",
    "type": "execution"
   },
   {
    "id": "00a1231a26624c4d85e8b095af58bd68",
    "time": "2021-02-10T00:32:37.269Z",
    "type": "completion"
   },
   {
    "code": "trials = 1000\nz_max = 10\nescSamps = Escape(trials, z_max)",
    "id": "92aa8985989e47a3a4df906bb219d52b",
    "idx": 9,
    "time": "2021-02-10T00:33:06.016Z",
    "type": "execution"
   },
   {
    "id": "92aa8985989e47a3a4df906bb219d52b",
    "time": "2021-02-10T00:33:06.825Z",
    "type": "completion"
   },
   {
    "code": "fig, ax = plt.subplots()\nnum_bins = 30\nn, bins, patches = ax.hist(escSamps, num_bins)\nax.set_ylabel(\"Counts\")\nax.set_xlabel(\"Steps to $z$\")\nplt.show()\nplt.close()",
    "id": "00a1231a26624c4d85e8b095af58bd68",
    "idx": 10,
    "time": "2021-02-10T00:33:08.898Z",
    "type": "execution"
   },
   {
    "id": "00a1231a26624c4d85e8b095af58bd68",
    "time": "2021-02-10T00:33:09.251Z",
    "type": "completion"
   },
   {
    "code": "print(np.mean(Escape(1000,10)))",
    "id": "da39fdd3f2634caf85997e4aacca45ca",
    "idx": 12,
    "time": "2021-02-10T00:33:15.484Z",
    "type": "execution"
   },
   {
    "id": "da39fdd3f2634caf85997e4aacca45ca",
    "time": "2021-02-10T00:33:16.344Z",
    "type": "completion"
   },
   {
    "code": "print(np.mean(Escape(trials,10)))",
    "id": "da39fdd3f2634caf85997e4aacca45ca",
    "idx": 12,
    "time": "2021-02-10T00:33:38.640Z",
    "type": "execution"
   },
   {
    "id": "da39fdd3f2634caf85997e4aacca45ca",
    "time": "2021-02-10T00:33:39.543Z",
    "type": "completion"
   },
   {
    "code": "z_max = [3, 5, 10, 20, 30]\nmeanEsc = np.zeros(len(z_max))\nfor i in range(len(z_max)):\n    meanEsc[i] = np.mean(Escape(trials, z_max[i]))\n    \nprint(meanEsc)",
    "id": "57986fcbf5844f1484845404249b7d75",
    "idx": 13,
    "time": "2021-02-10T00:33:45.201Z",
    "type": "execution"
   },
   {
    "id": "57986fcbf5844f1484845404249b7d75",
    "time": "2021-02-10T00:33:56.258Z",
    "type": "completion"
   },
   {
    "code": "r_max = [3, 5, 10, 20, 30]\nmeanEsc = np.zeros(len(r_max))\nfor i in range(len(r_max)):\n    meanEsc[i] = np.mean(Escape3d(trials, r_max[i]))\n    \nprint(meanEsc)",
    "id": "8a1a7d10ecb3407b8273ba1f70c3574e",
    "idx": 24,
    "time": "2021-02-10T00:45:26.082Z",
    "type": "execution"
   },
   {
    "id": "8a1a7d10ecb3407b8273ba1f70c3574e",
    "time": "2021-02-10T00:46:28.695Z",
    "type": "completion"
   },
   {
    "code": "#Solution\n#Function that samples M number of trajectories, stopping when a walker reaches a distance r away from the origin\n#Inputs: Number of trials, distance to the edge\n#Outputs: List of integers for the number of steps taken until reaching a distance r \ndef Escape3d(trials, r):\n    rescSteps = np.zeros(trials)\n    for i in range(trials):\n        stepNum = 0\n        x = 0.0\n        y = 0.0 \n        z = 0.0\n        while ((x**2+y**2+z**2) < r**2):\n            x += np.random.choice([-1, 1])/np.sqrt(3)\n            y += np.random.choice([-1, 1])/np.sqrt(3)\n            z += np.random.choice([-1, 1])/np.sqrt(3)\n            stepNum += 1\n        rescSteps[i] = stepNum\n    return rescSteps",
    "id": "a5ebf59a482a4cfdbdbc02d2dc1b98d4",
    "idx": 17,
    "time": "2021-02-10T00:47:14.675Z",
    "type": "execution"
   },
   {
    "id": "a5ebf59a482a4cfdbdbc02d2dc1b98d4",
    "time": "2021-02-10T00:47:14.735Z",
    "type": "completion"
   },
   {
    "code": "#Solution\ntrials = 1000\nr = 30\nrescSamps = Escape3d(trials, r)",
    "id": "0f91e5ef03334d7b831cda5c3655956d",
    "idx": 20,
    "time": "2021-02-10T00:47:17.137Z",
    "type": "execution"
   },
   {
    "code": "fig, ax = plt.subplots()\nnum_bins = 30\nn, bins, patches = ax.hist(rescSamps, num_bins)\nax.set_ylabel(\"Counts\")\nax.set_xlabel(\"Steps to $r$\")\nplt.show()\nplt.close()",
    "id": "c7ee0c516b70486a9f7d8f540dfb5c84",
    "idx": 21,
    "time": "2021-02-10T00:47:19.387Z",
    "type": "execution"
   },
   {
    "code": "r_max = [3, 5, 10, 20, 30]\nmeanEsc = np.zeros(len(r_max))\nfor i in range(len(r_max)):\n    meanEsc[i] = np.mean(Escape3d(trials, r_max[i]))\n    \nprint(meanEsc)",
    "id": "8a1a7d10ecb3407b8273ba1f70c3574e",
    "idx": 24,
    "time": "2021-02-10T00:47:22.044Z",
    "type": "execution"
   },
   {
    "id": "0f91e5ef03334d7b831cda5c3655956d",
    "time": "2021-02-10T00:47:54.452Z",
    "type": "completion"
   },
   {
    "id": "c7ee0c516b70486a9f7d8f540dfb5c84",
    "time": "2021-02-10T00:47:54.714Z",
    "type": "completion"
   },
   {
    "id": "8a1a7d10ecb3407b8273ba1f70c3574e",
    "time": "2021-02-10T00:48:57.753Z",
    "type": "completion"
   },
   {
    "code": "import numpy as np\nimport scipy.stats as st\nimport matplotlib.pyplot as plt",
    "id": "c72e14851aa44594a23a7619cbbaa10f",
    "idx": 3,
    "time": "2021-02-10T00:53:27.016Z",
    "type": "execution"
   },
   {
    "id": "c72e14851aa44594a23a7619cbbaa10f",
    "time": "2021-02-10T00:53:27.086Z",
    "type": "completion"
   },
   {
    "code": "#Solution\ntrials = 1000\nz_max = 10\nescSamps = Escape(trials, z_max)",
    "id": "92aa8985989e47a3a4df906bb219d52b",
    "idx": 9,
    "time": "2021-02-10T00:57:28.927Z",
    "type": "execution"
   },
   {
    "id": "92aa8985989e47a3a4df906bb219d52b",
    "time": "2021-02-10T00:57:29.818Z",
    "type": "completion"
   },
   {
    "code": "import numpy as np\nimport scipy.stats as st\nimport matplotlib.pyplot as plt",
    "id": "c72e14851aa44594a23a7619cbbaa10f",
    "idx": 3,
    "time": "2021-02-10T01:12:23.490Z",
    "type": "execution"
   },
   {
    "code": "#Solution\n#Function that samples M number of trajectories, stopping when a walker reaches a distance z away from the origin\n#Inputs: Number of trials, distance to the edge\n#Outputs: List of integers for the number of steps taken until reaching a distance z\ndef Escape(trials, z_max):\n    escSteps = np.zeros(trials)\n    for i in range(trials):\n        stepNum = 0\n        curPos = 0\n        while (abs(curPos) < z_max):\n            curPos += np.random.choice([-1, 1])\n            stepNum += 1\n        escSteps[i] = stepNum\n    return escSteps",
    "id": "5bb717236b874eb380f65d63574bb56b",
    "idx": 6,
    "time": "2021-02-10T01:12:25.240Z",
    "type": "execution"
   },
   {
    "code": "#Solution\ntrials = 1000\nz_max = 10\nescSamps = Escape(trials, z_max)",
    "id": "92aa8985989e47a3a4df906bb219d52b",
    "idx": 9,
    "time": "2021-02-10T01:12:26.779Z",
    "type": "execution"
   },
   {
    "code": "fig, ax = plt.subplots()\nnum_bins = 30\nn, bins, patches = ax.hist(escSamps, num_bins)\nax.set_ylabel(\"Counts\")\nax.set_xlabel(\"Steps to $z$\")\nplt.show()\nplt.close()",
    "id": "00a1231a26624c4d85e8b095af58bd68",
    "idx": 10,
    "time": "2021-02-10T01:12:27.160Z",
    "type": "execution"
   },
   {
    "code": "#Solution\nz_max = [3, 5, 10, 20, 30]\nmeanEsc = np.zeros(len(z_max))\nfor i in range(len(z_max)):\n    meanEsc[i] = np.mean(Escape(trials, z_max[i]))\n    \nprint(meanEsc)",
    "id": "57986fcbf5844f1484845404249b7d75",
    "idx": 13,
    "time": "2021-02-10T01:12:28.153Z",
    "type": "execution"
   },
   {
    "code": "#Solution\n#Function that samples M number of trajectories, stopping when a walker reaches a distance r away from the origin\n#Inputs: Number of trials, distance to the edge\n#Outputs: List of integers for the number of steps taken until reaching a distance r \ndef Escape3d(trials, r):\n    rescSteps = np.zeros(trials)\n    for i in range(trials):\n        stepNum = 0\n        x = 0.0\n        y = 0.0 \n        z = 0.0\n        while ((x**2+y**2+z**2) < r**2):\n            x += np.random.choice([-1, 1])/np.sqrt(3)\n            y += np.random.choice([-1, 1])/np.sqrt(3)\n            z += np.random.choice([-1, 1])/np.sqrt(3)\n            stepNum += 1\n        rescSteps[i] = stepNum\n    return rescSteps",
    "id": "a5ebf59a482a4cfdbdbc02d2dc1b98d4",
    "idx": 17,
    "time": "2021-02-10T01:12:29.328Z",
    "type": "execution"
   },
   {
    "code": "#Solution\ntrials = 1000\nr = 30\nrescSamps = Escape3d(trials, r)",
    "id": "0f91e5ef03334d7b831cda5c3655956d",
    "idx": 20,
    "time": "2021-02-10T01:12:30.081Z",
    "type": "execution"
   },
   {
    "code": "fig, ax = plt.subplots()\nnum_bins = 30\nn, bins, patches = ax.hist(rescSamps, num_bins)\nax.set_ylabel(\"Counts\")\nax.set_xlabel(\"Steps to $r$\")\nplt.show()\nplt.close()",
    "id": "c7ee0c516b70486a9f7d8f540dfb5c84",
    "idx": 21,
    "time": "2021-02-10T01:12:30.305Z",
    "type": "execution"
   },
   {
    "code": "#Solution\nr_max = [3, 5, 10, 20, 30]\nmeanEsc = np.zeros(len(r_max))\nfor i in range(len(r_max)):\n    meanEsc[i] = np.mean(Escape3d(trials, r_max[i]))\n    \nprint(meanEsc)",
    "id": "8a1a7d10ecb3407b8273ba1f70c3574e",
    "idx": 24,
    "time": "2021-02-10T01:12:31.268Z",
    "type": "execution"
   },
   {
    "id": "c72e14851aa44594a23a7619cbbaa10f",
    "time": "2021-02-10T01:14:54.052Z",
    "type": "completion"
   },
   {
    "id": "5bb717236b874eb380f65d63574bb56b",
    "time": "2021-02-10T01:14:54.078Z",
    "type": "completion"
   },
   {
    "id": "92aa8985989e47a3a4df906bb219d52b",
    "time": "2021-02-10T01:14:55.039Z",
    "type": "completion"
   },
   {
    "id": "00a1231a26624c4d85e8b095af58bd68",
    "time": "2021-02-10T01:14:55.314Z",
    "type": "completion"
   },
   {
    "id": "57986fcbf5844f1484845404249b7d75",
    "time": "2021-02-10T01:15:06.068Z",
    "type": "completion"
   },
   {
    "id": "a5ebf59a482a4cfdbdbc02d2dc1b98d4",
    "time": "2021-02-10T01:15:06.070Z",
    "type": "completion"
   },
   {
    "id": "0f91e5ef03334d7b831cda5c3655956d",
    "time": "2021-02-10T01:15:44.611Z",
    "type": "completion"
   },
   {
    "id": "c7ee0c516b70486a9f7d8f540dfb5c84",
    "time": "2021-02-10T01:15:44.886Z",
    "type": "completion"
   },
   {
    "id": "8a1a7d10ecb3407b8273ba1f70c3574e",
    "time": "2021-02-10T01:16:45.113Z",
    "type": "completion"
   },
   {
    "code": "import numpy as np\nimport scipy.stats as st\nimport matplotlib.pyplot as plt",
    "id": "99b27a87786e46219e0e60afb34d76f1",
    "idx": 3,
    "time": "2021-02-10T01:58:47.919Z",
    "type": "execution"
   },
   {
    "id": "99b27a87786e46219e0e60afb34d76f1",
    "time": "2021-02-10T01:58:48.174Z",
    "type": "completion"
   },
   {
    "code": "#a) Solution",
    "id": "5021b68d1278486a824079e194178367",
    "idx": 5,
    "time": "2021-02-10T01:58:50.776Z",
    "type": "execution"
   },
   {
    "id": "5021b68d1278486a824079e194178367",
    "time": "2021-02-10T01:58:50.836Z",
    "type": "completion"
   },
   {
    "code": "#a) Solution\n#Function that samples M number of trajectories, stopping when a walker reaches a distance z away from the origin\n#Inputs: Number of trials, distance to the edge\n#Outputs: List of integers for the number of steps taken until reaching a distance z\ndef Escape(trials, z_max):\n    escSteps = np.zeros(trials)\n    for i in range(trials):\n        stepNum = 0\n        curPos = 0\n        while (abs(curPos) < z_max):\n            curPos += np.random.choice([-1, 1])\n            stepNum += 1\n        escSteps[i] = stepNum\n    return escSteps",
    "id": "ef95ea7ec2b74669b9c420e6a73aaae6",
    "idx": 6,
    "time": "2021-02-10T01:58:52.887Z",
    "type": "execution"
   },
   {
    "id": "ef95ea7ec2b74669b9c420e6a73aaae6",
    "time": "2021-02-10T01:58:52.953Z",
    "type": "completion"
   },
   {
    "code": "#b) Solution",
    "id": "e952bb00a34a43e79de747d4810499d2",
    "idx": 8,
    "time": "2021-02-10T01:58:55.493Z",
    "type": "execution"
   },
   {
    "id": "e952bb00a34a43e79de747d4810499d2",
    "time": "2021-02-10T01:58:55.555Z",
    "type": "completion"
   },
   {
    "code": "#b) Solution\ntrials = 1000\nz_max = 10\nescSamps = Escape(trials, z_max)",
    "id": "20893c87f7824f85909495fb557e4167",
    "idx": 9,
    "time": "2021-02-10T01:58:56.081Z",
    "type": "execution"
   },
   {
    "code": "fig, ax = plt.subplots()\nnum_bins = 30\nn, bins, patches = ax.hist(escSamps, num_bins)\nax.set_ylabel(\"Counts\")\nax.set_xlabel(\"Steps to $z$\")\nplt.show()\nplt.close()",
    "id": "3b9f494287c1491f819d83a477cf841d",
    "idx": 10,
    "time": "2021-02-10T01:58:56.850Z",
    "type": "execution"
   },
   {
    "id": "20893c87f7824f85909495fb557e4167",
    "time": "2021-02-10T01:58:56.948Z",
    "type": "completion"
   },
   {
    "id": "3b9f494287c1491f819d83a477cf841d",
    "time": "2021-02-10T01:58:57.288Z",
    "type": "completion"
   },
   {
    "code": "#c) Solution",
    "id": "79b4f901089641b78f0ead6fdda7a07a",
    "idx": 12,
    "time": "2021-02-10T01:58:59.109Z",
    "type": "execution"
   },
   {
    "id": "79b4f901089641b78f0ead6fdda7a07a",
    "time": "2021-02-10T01:58:59.167Z",
    "type": "completion"
   },
   {
    "code": "#c) Solution\nz_max = [3, 5, 10, 20, 30]\nmeanEsc = np.zeros(len(z_max))\nfor i in range(len(z_max)):\n    meanEsc[i] = np.mean(Escape(trials, z_max[i]))\n    \nprint(meanEsc)",
    "id": "c1e02eb04fae461784f7a71147703638",
    "idx": 13,
    "time": "2021-02-10T01:59:00.657Z",
    "type": "execution"
   },
   {
    "id": "c1e02eb04fae461784f7a71147703638",
    "time": "2021-02-10T01:59:11.501Z",
    "type": "completion"
   },
   {
    "code": "#d) Solution",
    "id": "7c5c3e8f8d554d5ba475f38c38911f4f",
    "idx": 16,
    "time": "2021-02-10T01:59:30.688Z",
    "type": "execution"
   },
   {
    "id": "7c5c3e8f8d554d5ba475f38c38911f4f",
    "time": "2021-02-10T01:59:30.749Z",
    "type": "completion"
   },
   {
    "code": "#d) Solution\n#Function that samples M number of trajectories, stopping when a walker reaches a distance r away from the origin\n#Inputs: Number of trials, distance to the edge\n#Outputs: List of integers for the number of steps taken until reaching a distance r \ndef Escape3d(trials, r):\n    rescSteps = np.zeros(trials)\n    for i in range(trials):\n        stepNum = 0\n        x = 0.0\n        y = 0.0 \n        z = 0.0\n        while ((x**2+y**2+z**2) < r**2):\n            x += np.random.choice([-1, 1])/np.sqrt(3)\n            y += np.random.choice([-1, 1])/np.sqrt(3)\n            z += np.random.choice([-1, 1])/np.sqrt(3)\n            stepNum += 1\n        rescSteps[i] = stepNum\n    return rescSteps",
    "id": "01c4d1fa1aef4bf698747e15bbe64a80",
    "idx": 17,
    "time": "2021-02-10T01:59:39.095Z",
    "type": "execution"
   },
   {
    "id": "01c4d1fa1aef4bf698747e15bbe64a80",
    "time": "2021-02-10T01:59:39.156Z",
    "type": "completion"
   },
   {
    "code": "#e) Solution",
    "id": "89928895fb2f4f9d90e1fba720959dcf",
    "idx": 19,
    "time": "2021-02-10T01:59:44.178Z",
    "type": "execution"
   },
   {
    "id": "89928895fb2f4f9d90e1fba720959dcf",
    "time": "2021-02-10T01:59:44.241Z",
    "type": "completion"
   },
   {
    "code": "#e) Solution\ntrials = 1000\nr = 30\nrescSamps = Escape3d(trials, r)",
    "id": "9ff65f0974de481f85117e63170fc1ab",
    "idx": 20,
    "time": "2021-02-10T01:59:45.434Z",
    "type": "execution"
   },
   {
    "code": "fig, ax = plt.subplots()\nnum_bins = 30\nn, bins, patches = ax.hist(rescSamps, num_bins)\nax.set_ylabel(\"Counts\")\nax.set_xlabel(\"Steps to $r$\")\nplt.show()\nplt.close()",
    "id": "166bd755052f4e5dbf2c29df7e2b07f3",
    "idx": 21,
    "time": "2021-02-10T01:59:46.782Z",
    "type": "execution"
   },
   {
    "id": "9ff65f0974de481f85117e63170fc1ab",
    "time": "2021-02-10T02:00:22.860Z",
    "type": "completion"
   },
   {
    "id": "166bd755052f4e5dbf2c29df7e2b07f3",
    "time": "2021-02-10T02:00:23.141Z",
    "type": "completion"
   }
  ],
  "kernelspec": {
   "display_name": "Python 3",
   "language": "python",
   "name": "python3"
  },
  "language_info": {
   "codemirror_mode": {
    "name": "ipython",
    "version": 3
   },
   "file_extension": ".py",
   "mimetype": "text/x-python",
   "name": "python",
   "nbconvert_exporter": "python",
   "pygments_lexer": "ipython3",
   "version": "3.8.6"
  }
 },
 "nbformat": 4,
 "nbformat_minor": 2
}

{
 "cells": [
  {
   "cell_type": "markdown",
   "metadata": {},
   "source": [
    "### Physics 112: Spring 2021: Section 1: Professor Holzapfel \n",
    "### HW6 computational problem 1\n",
    "### Spectum of the Cosmic Microwave Background\n",
    "Copyright 2021 by the Regents of the University of California. All rights reserved."
   ]
  },
  {
   "cell_type": "markdown",
   "metadata": {},
   "source": [
    "The Universe is filled with the remnant radiation from the Big Bang. This radiation was emitted when the Universe was only approximately 380,000 years old. As the Universe has aged (now ~13.8 billion years) and expanded, this radiation has cooled to where it has the intensity and energy density of a nearly ideal blackbody with a temperature of $T_{CMB} = 2.726K$. You can find a pretty good introduction to the CMB on the Wikipedia page: https://en.wikipedia.org/wiki/Cosmic_microwave_background\n",
    "\n",
    "The COBE satellite was developed by NASA's Goddard Space Flight Center to measure the diffuse infrared and microwave radiation from the early universe to the limits set by our astrophysical environment. It was launched November 18, 1989 and carried three instruments, a Diffuse Infrared Background Experiment (DIRBE) to search for the cosmic infrared background radiation, a Differential Microwave Radiometer (DMR) to map the cosmic radiation sensitively, and a Far Infrared Absolute Spectrophotometer (FIRAS) to compare the spectrum of the cosmic microwave background radiation with a precise blackbody. Again, the Wikipedia page is a pretty good introduction: https://en.wikipedia.org/wiki/Cosmic_Background_Explorer. \n",
    "\n",
    "In this problem you will use data from the COBE FIRAS experiment to determine the temperature of the CMB. The main product of the FIRAS instrument is a measurement of the CMB Intensity as a function of frequency. A link to a text file with results from FIRAS can be found here: https://lambda.gsfc.nasa.gov/product/cobe/firas_monopole_get.cfm. The header of the file describes the data:\n",
    "\n",
    "COBE/FIRAS CMB monopole spectrum <br>\n",
    "Column 1 = frequency from Table 4 of Fixsen et al., units = cm^-1 <br>\n",
    "Column 2 = FIRAS monopole spectrum computed as the sum of a 2.725 K BB spectrum and the residual in column 3, units = MJy/sr <br>\n",
    "Column 3 = residual monopole spectrum from Table 4 of Fixsen et al., units = kJy/sr <br>\n",
    "Column 4 = spectrum uncertainty (1-sigma) from Table 4 of Fixsen et al., units = kJy/sr <br>\n",
    "Column 5 = modeled Galaxy spectrum at the Galactic poles from Table 4 of Fixsen et al., units = kJy/sr <br>\n",
    "\n",
    "The measured intensity and error reported in Columns 2 and 4 are in the units of a flux/solid angle with units MJy/sr ($10^6$Jy/sr) or kJy ($10^3$Jy/sr), respectively, where 1 Jansky/Steradian = Jy/sr = $10^{-26} \\frac{W}{m^2\\, Hz\\, sr}$. The frequency of the measurement is reported in Column 1 in units of $cm^{-1}$. Multiply these numbers by $30$ to get the frequency of the measurement in GHz."
   ]
  },
  {
   "cell_type": "markdown",
   "metadata": {},
   "source": [
    "a. Plot the CMB intensity (in units of MJy/sr) as a function of frequency in units of GHz. Add the uncertainties from column three to your plot as error bars. Leave the uncertainty in units of kJ/sr. This is essentially multiplying the uncertainty by X1000. If you don't do this, it is impossible to see the uncertainty on this ultra-precise measurement."
   ]
  },
  {
   "cell_type": "code",
   "execution_count": 3,
   "metadata": {},
   "outputs": [],
   "source": [
    "#a) Write answer here"
   ]
  },
  {
   "cell_type": "markdown",
   "metadata": {},
   "source": [
    "b) Determine the best value for the CMB temperature $T_{CMB}$ and associated uncertainty $\\sigma T_{CMB}$. There are many ways to do this, but you may find the \"scipy.optimize.curve_fit\" function useful. In this fitting, you will want to multiply your function of intensity by a free normalization parameter $\\alpha~1$ so that $I_{\\nu} = \\alpha I_{nu}(T_{CMB})$. In the measurement of the intensity, the experimenters divide the measured flux by the angle of beam produced by the detector and account for any loss in the signal path to normalize the result. This is difficult to do perfectly and we do not want our result for $T_{CMB}$ to depend on any slight mismeasurement of the instrument beam and overall gain. Instead, we want the temperature to be determined by the shape of the spectrum. Use the FIRAS measurement uncertainties as the uncertainty for each of the intensity data points when computing the uncertainty in the $T_{CMB}$. Report the best fit value and uncertainty for $T_{CMB}$. There will be some covariance between the value of $\\alpha$ and $T_{CMB}$ in the two parameter fit which we can ignore for the purposes of reporting results for $T_{CMB}$. The uncertainty in $T_{CMB}$ is square root of diagonal component of the covariance returned by the curve fitting routine."
   ]
  },
  {
   "cell_type": "code",
   "execution_count": 5,
   "metadata": {},
   "outputs": [],
   "source": [
    "# b) Write answer here"
   ]
  },
  {
   "cell_type": "markdown",
   "metadata": {},
   "source": [
    "c) Overplot the FIRAS intensity data as a function of frequency with your best fit model. If your fit was successful, these should look identical."
   ]
  },
  {
   "cell_type": "code",
   "execution_count": 25,
   "metadata": {},
   "outputs": [],
   "source": [
    "#c) Write answer here."
   ]
  },
  {
   "cell_type": "markdown",
   "metadata": {
    "scrolled": false
   },
   "source": [
    "d) Subtract the best fit model and plot the residuals. In this plot, use the measured uncertainties for the error bars and do not multiply them by X1000 as you did for previous plots."
   ]
  },
  {
   "cell_type": "code",
   "execution_count": 23,
   "metadata": {},
   "outputs": [],
   "source": [
    "#d) Write answer here"
   ]
  },
  {
   "cell_type": "markdown",
   "metadata": {},
   "source": [
    "e) From the residuals and uncertainties of the measurement determine the $\\chi^2=\\sum\\left(\\frac{data_i-model_i}{\\sigma_i}\\right)^2$ and reduced $\\chi^2$ $\\chi^2_r=\\frac{\\chi^2}{dof}$ of the model fit. In calculating the reduced $\\chi^2_r$, be sure to account for the two parameters in the fit."
   ]
  },
  {
   "cell_type": "code",
   "execution_count": 10,
   "metadata": {},
   "outputs": [],
   "source": [
    "# e) Write answer here"
   ]
  },
  {
   "cell_type": "markdown",
   "metadata": {},
   "source": [
    "f) Assuming that the model and uncertainties are perfectly correct, what is the probablility of getting a set of measurements that is more descrepant with the (assumed perfect) model than those studied here? What does this say about the description of the CMB as being a perfect blackbody?"
   ]
  },
  {
   "cell_type": "code",
   "execution_count": null,
   "metadata": {},
   "outputs": [],
   "source": [
    "# f) Write answer here"
   ]
  }
 ],
 "metadata": {
  "kernelspec": {
   "display_name": "Python 3",
   "language": "python",
   "name": "python3"
  },
  "language_info": {
   "codemirror_mode": {
    "name": "ipython",
    "version": 3
   },
   "file_extension": ".py",
   "mimetype": "text/x-python",
   "name": "python",
   "nbconvert_exporter": "python",
   "pygments_lexer": "ipython3",
   "version": "3.8.6"
  }
 },
 "nbformat": 4,
 "nbformat_minor": 2
}

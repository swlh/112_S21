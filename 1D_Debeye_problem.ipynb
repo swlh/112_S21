{
 "cells": [
  {
   "cell_type": "markdown",
   "metadata": {},
   "source": [
    "### Physics 112: Spring 2021: Section 1: Professor Holzapfel \n",
    "### HW7 computational problem 1\n",
    "### One Dimensional Debeye Model\n",
    "Copyright 2021 by the Regents of the University of California. All rights reserved."
   ]
  },
  {
   "cell_type": "markdown",
   "metadata": {},
   "source": [
    "In this exercise, we are going to explore the Debeye model in one dimension. In particular, we will calculate the internal energy $U(\\tau)$ and the Heat Capacity $C_V(\\tau)=\\frac{dU}{d\\tau}$ as a function of temperature. We will also explore the range of applicability of the assumptions that the the sum over states can be treated as an integral and that low frequency modes involving many particles produce the observed heat capacity at low temperatures missing in the Einstein model.\n",
    "\n",
    "We assume that the $N$ atoms in our system are arranged in a line of length $L$, with spacing between atoms of $a$. Waves travel in the line of atoms at a speed $c_s$. The system is in thermal equilibrium with a reservoir of temperature $\\tau$. As it is a 1D system, there is only one longitudinal polarization.\n",
    "\n",
    "The energy of this system is the phonon energy times the phonon occupation number summed over N total modes for the system $$U(\\tau) = \\sum_{n=1}^N \\frac{\\hbar \\omega_n}{\\exp\\left(\\frac{\\hbar \\omega_n}{\\tau}\\right) -1}$$\n",
    "where $\\hbar \\omega_n=\\frac{n\\pi \\hbar c_s}{L} = \\frac{n\\tau_D}{N}$ and $\\tau_D = \\frac{\\hbar c_s \\pi}{a}$.\n",
    "\n",
    "In the limit where the phonon energy quanta are small compared to the thermal energy, $\\hbar \\omega < \\tau$, we can express this sum as an integral\n",
    "$$U(\\tau) = \\int_0^{\\omega_D} \\frac{L}{\\pi c_s}\\frac{\\hbar \\omega_n}{\\exp\\left(\\frac{\\hbar \\omega_n}{\\tau}\\right) -1} d\\omega$$\n",
    "where $\\omega_D = \\frac{\\pi c_s}{a}$. \n",
    "In Lecture, we calculated an approximate result for the (three dimensional) heat capacity valid for low temperatures. We did this by taking $\\omega_D = \\infty$, performing the definite integral and then differentiating the result with respect to $\\tau$. This is fine for the low temperature limit of the heat capacity, but will not yield valid results over the whole temperature range. To do this correctly, we need to differentiate the expression for $U(\\tau)$ before summing or integrating over modes.\n",
    "\n",
    "Doing this, we can express the heat capacity as a sum over modes\n",
    "$$C_v = \\frac{dU}{d\\tau} = \\sum_{n=1}^N \\left(\\frac{n\\tau_D}{N\\tau}\\right)^2 \\frac{\\exp\\left(\\frac{n\\tau_D}{N\\tau}\\right)}{\\left[\\exp\\left(\\frac{n\\tau_D}{N\\tau}\\right) -1\\right]^2},$$ or as an approximate integral\n",
    "$$C_v = N \\left(\\frac{\\tau}{\\tau_D}\\right) \\int_0^{\\frac{\\tau}{\\tau_D}} \\frac{x^2 e^x}{(e^x-1)^2} dx.$$\n",
    "Although it will not be part of your homework submission, you should work through this problem to make sure that you can reproduce these results. Although we are specifically working with a 1D system in this problem, the calculation for the heat capacity for the 3D Debeye model proceeds similarly."
   ]
  },
  {
   "cell_type": "markdown",
   "metadata": {},
   "source": [
    "a) Numerically integrate the integral expressions for the energy and heat capacity to find $U(\\tau)$ and $C_v(\\tau)$. Plot $\\frac{U(\\tau)}{N\\tau}$ and $\\frac{C_v(\\tau)}{N}$ as a function of temperature over the range  $0.01 < \\frac{\\tau}{\\tau_D} < 10$ in steps of $0.01$. Do the maximum values of these functions agree with your expectations from equipartition? "
   ]
  },
  {
   "cell_type": "code",
   "execution_count": 91,
   "metadata": {},
   "outputs": [],
   "source": [
    "#a) Solution here"
   ]
  },
  {
   "cell_type": "markdown",
   "metadata": {},
   "source": [
    "b) To get a better look at the low temperature values, reproduce your plot from part a) on a log-log scale.  At approximately what values of $\\frac{\\tau}{\\tau_D}$ do $\\frac{U(\\tau)}{N\\tau}$ and $\\frac{C_V(\\tau)}{N}$ reach 50% and 90% of their maximum values? "
   ]
  },
  {
   "cell_type": "code",
   "execution_count": 93,
   "metadata": {},
   "outputs": [],
   "source": [
    "#b) Solution here"
   ]
  },
  {
   "cell_type": "markdown",
   "metadata": {},
   "source": [
    "c) In the 3D Debeye model, the heat capacity at low temperature scales as $\\tau^3$. Fit to the functions for $U(\\tau)$ and $C_v(\\tau)$ over the low temperature region $0.01 > \\frac{\\tau}{\\tau_D} < 0.1$ to power laws $U \\propto \\tau^{\\alpha}$ and $C_v \\propto \\tau^\\beta$ to determine $\\alpha$ and $\\beta$ for the low temperature scaling of the 1D energy and heat capacity with temperature. How do these results compare with your expectations based on the 3D results? Recreate your plot from part b) with these best fit power laws for $C_v/N$ and $U/N\\tau$ overplotted."
   ]
  },
  {
   "cell_type": "code",
   "execution_count": 95,
   "metadata": {},
   "outputs": [],
   "source": [
    "#c) Solution here"
   ]
  },
  {
   "cell_type": "markdown",
   "metadata": {},
   "source": [
    "d) Now return to the expression you wrote for heat capacity $\\frac{C_V}{N}$ in terms of a sum over modes. Instead of treating the sum as an integral, evaluate the sum exactly. In turning the sum into an integral we assumed that there are many modes with phonon energy less than the thermal energy. This will break down in the limit of small N and low temperature and this exact sum will be more accurate.  For N=1000, plot the value of $\\frac{C_V}{N}$ from the sum as a function of temperature over the range $0.01 < \\frac{\\tau}{\\tau_D} < 10$ in steps of $\\sim 0.01$. Plot your result on a log-log scale. Compare your result with the integral approximation by plotting overplotting the integral result for $\\frac{C_V}{N}$ on top of your result for the sum with $N=1000$. What does your plot tell you about the accuracy of the continuum appoximation for $N=1000$ particles over this temperature range? Repeat this plot for $N=10$ and comment on the differences."
   ]
  },
  {
   "cell_type": "code",
   "execution_count": 97,
   "metadata": {},
   "outputs": [],
   "source": [
    "#d) Solution here"
   ]
  },
  {
   "cell_type": "markdown",
   "metadata": {},
   "source": [
    "e) Find the ratio of $\\frac{C_V(N)}{N}$ (for $N=1,3,10,100$) to $\\frac{C_V(N)}{N}$ (for $N=1000$) as a function of $\\tau$. In this case, we are using the result for $N=1000$ as a reference where N is large enough that the particle number should not matter. Plot the heat capacity ratio as function of temperature for each of the values N=1,3,10,100.  Overplot the results on a log-log plot as a function of temperature over the range $0.01 < \\frac{\\tau}{\\tau_D} < 10$ in steps of $\\sim 0.01$. Where do these ratios differ significantly from 1? "
   ]
  },
  {
   "cell_type": "code",
   "execution_count": 100,
   "metadata": {},
   "outputs": [],
   "source": [
    "#e) Solution here"
   ]
  },
  {
   "cell_type": "markdown",
   "metadata": {},
   "source": [
    "f) Finally, we want to look in detail at the summation solution in low temperature regime where we fix $\\frac{\\tau}{\\tau_D} = 0.1$. Calculate the ratio of the heat capacity per particle for N particles $\\frac{C_V(N)}{N}$ over $\\frac{C_V(N)}{N}$ (for $N=1000$). In this case, we are choosing the result for $N=1000$  as a reference where the particle number is large enough to have no effect. Plot the ratio of the heat capacity as a function of N on a log-log plot over the range $N =1$ to $100$. Why does heat capacity depend on the number of particles in the system? Why is heat capacity in the low temperature regime particularly sensitive to N? Explain your results in terms of our original motivation for the Debeye model over the Einstein solid model."
   ]
  },
  {
   "cell_type": "code",
   "execution_count": 102,
   "metadata": {},
   "outputs": [],
   "source": [
    "#f) Solution here"
   ]
  }
 ],
 "metadata": {
  "anaconda-cloud": {},
  "kernelspec": {
   "display_name": "Python 3",
   "language": "python",
   "name": "python3"
  },
  "language_info": {
   "codemirror_mode": {
    "name": "ipython",
    "version": 3
   },
   "file_extension": ".py",
   "mimetype": "text/x-python",
   "name": "python",
   "nbconvert_exporter": "python",
   "pygments_lexer": "ipython3",
   "version": "3.8.6"
  }
 },
 "nbformat": 4,
 "nbformat_minor": 2
}

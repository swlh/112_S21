{
 "cells": [
  {
   "cell_type": "markdown",
   "metadata": {
    "colab_type": "text",
    "id": "Jnagp0AC8mny"
   },
   "source": [
    "## HW4c computational problem"
   ]
  },
  {
   "cell_type": "markdown",
   "metadata": {
    "colab_type": "text",
    "id": "KaAvEg8N8mnz"
   },
   "source": [
    "### Mixing and Phase Separation"
   ]
  },
  {
   "cell_type": "markdown",
   "metadata": {
    "colab_type": "text",
    "flags": [
     "problems",
     "solutions"
    ],
    "id": "4I4Zu1ZJ8mn1"
   },
   "source": [
    "Here we analyze a system consisting of two types of atoms on a regular lattice, as shown below. You could think of this as two crystals made of different materials.\n",
    "\n",
    "<div style=\"width: 500px;margin: auto\" align=\"center\">\n",
    "    <img src=\"lattice_atoms.PNG\">\n",
    "</div>\n",
    "\n",
    "Assume that there is an additional repulsive force when atoms of different materials are in proximity. The minimum energy state has the two types of atoms maximally separated as in figure (a) above.\n",
    "\n",
    "Let there be $N = N_A = N_B$ atoms of each type, and let $n$ be the number of atoms of each type that are mixed into the opposite material.\n",
    "\n",
    "We assume that the repulsive force $\\epsilon>0$ is the same for lone impurities in both materials. In this low density limit, the total energy due to the impurities is $U=2n\\epsilon$. However, as the density of impurities grows, we can no longer assume that the impurities are isolated. We model the energy as $U=2n\\epsilon\\left(\\frac{N-n}{N}\\right)$ so that the energy due to creating a new impurity declines with increasing impurity density. When the two materials are fully mixed ($n=\\frac{N}{2}$), the energy is a maximum.\n",
    "\n",
    "The entropy of the system is $\\sigma = \\ln\\left[\\begin{pmatrix} N_A\\\\n\\end{pmatrix}\\begin{pmatrix} N_B\\\\n\\end{pmatrix}\\right]$. Thus the free energy is: $$ F= U-\\tau\\sigma = 2n\\epsilon\\left(\\frac{N-n}{N}\\right)-2\\tau\\ln\\left(\\frac{N!}{n!(N-n)!}\\right).$$\n",
    "\n",
    " "
   ]
  },
  {
   "cell_type": "markdown",
   "metadata": {
    "colab_type": "text",
    "flags": [
     "problems",
     "solutions"
    ],
    "id": "XnUXsfqc8mn3"
   },
   "source": [
    "a) Set $N=1000$. Make a plot of the free energy F as a function of the number of mixed atoms $n$ for values of temperature $\\tau/\\epsilon = 0.1,0.35, 0.55$. In writing your expression for F, evaluate the factorials exactly (is the Stirling approximation guaranteed to be applicable?).  How does the shape of this function determine if there will be phase separation? What is the approximate fraction of mixed atoms, $x=n/N$ in the two distinct phases for $\\tau/\\epsilon=0.35$?.\n"
   ]
  },
  {
   "cell_type": "code",
   "execution_count": null,
   "metadata": {},
   "outputs": [],
   "source": []
  },
  {
   "cell_type": "markdown",
   "metadata": {},
   "source": [
    "b) Make a 3d plot of $F$, with  $0\\le \\frac{\\tau}{\\epsilon}\\le 1$ on the $x$-axis and $0 < n < \\frac{N}{2}$ on the $y$-axis. Comment on what the shape of his surface means for the mixing of the materials as a function of temperature.\n",
    "\n",
    "(Hint: see the [tutorial on numpy arrays](https://github.com/berkeley-physics/Python-Tutorials/blob/master/2%20-%20Intermediate/3%20-%20NumPy%20arrays.ipynb) for an example of a 3-d plot)"
   ]
  },
  {
   "cell_type": "code",
   "execution_count": 120,
   "metadata": {
    "colab": {},
    "colab_type": "code",
    "id": "ECfULsOW8mn4"
   },
   "outputs": [],
   "source": []
  },
  {
   "cell_type": "markdown",
   "metadata": {
    "colab_type": "text",
    "flags": [
     "problems",
     "solutions"
    ],
    "id": "gQI9SrcC8mn9"
   },
   "source": [
    "c) Make a 2d plot of the value of x (y-axis) that minimzes $F$ as a function of $\\tau/\\epsilon$ (x-axis). Identify on your plot the temperature regions where  phase separation results in a lower free energy."
   ]
  },
  {
   "cell_type": "code",
   "execution_count": null,
   "metadata": {},
   "outputs": [],
   "source": []
  },
  {
   "cell_type": "markdown",
   "metadata": {},
   "source": [
    "d) Assuming that $N, n>>1$, use the Stirling approximation to find an analystic expression for the the value of $n$ that minimizes the free energy as a function of $\\tau/\\epsilon$. Overplot this function on the result found in part (b) and comment on any descrepencies. In particular, comment on the validity of the Stirling approximation as compared to you exact solution by zooming in on low values of n."
   ]
  },
  {
   "cell_type": "code",
   "execution_count": null,
   "metadata": {},
   "outputs": [],
   "source": []
  },
  {
   "cell_type": "markdown",
   "metadata": {},
   "source": [
    "e) There is a critical value of $\\tau/\\epsilon$ above which phase seperation does not occur and the two materials will be completely mixed. Use your analytic expression for the value of $\\tau/\\epsilon$ evaluated as $n\\rightarrow 500$ (completely mixed) to find this value."
   ]
  },
  {
   "cell_type": "code",
   "execution_count": null,
   "metadata": {},
   "outputs": [],
   "source": []
  }
 ],
 "metadata": {
  "colab": {
   "name": "HW4c problems.ipynb",
   "provenance": []
  },
  "history": [
   {
    "code": "n = []\nfor i in range(int(N/3):\n    n.append(i)\nprint(f'n = {n}')",
    "id": "c4b9ecb5524a42b9815ff5a337a7cb27",
    "idx": 6,
    "time": "2021-02-16T01:21:18.075Z",
    "type": "execution"
   },
   {
    "id": "c4b9ecb5524a42b9815ff5a337a7cb27",
    "time": "2021-02-16T01:21:18.196Z",
    "type": "completion"
   },
   {
    "code": "n = []\nfor i in range(int(N//3):\n    n.append(i)\nprint(f'n = {n}')",
    "id": "c4b9ecb5524a42b9815ff5a337a7cb27",
    "idx": 6,
    "time": "2021-02-16T01:21:33.043Z",
    "type": "execution"
   },
   {
    "id": "c4b9ecb5524a42b9815ff5a337a7cb27",
    "time": "2021-02-16T01:21:33.131Z",
    "type": "completion"
   },
   {
    "code": "n = []\nfor i in range(int(N//3)):\n    n.append(i)\nprint(f'n = {n}')",
    "id": "c4b9ecb5524a42b9815ff5a337a7cb27",
    "idx": 6,
    "time": "2021-02-16T01:21:50.094Z",
    "type": "execution"
   },
   {
    "id": "c4b9ecb5524a42b9815ff5a337a7cb27",
    "time": "2021-02-16T01:21:50.433Z",
    "type": "completion"
   },
   {
    "code": "N = 1000\nn = []\nfor i in range(int(N//3)):\n    n.append(i)\nprint(f'n = {n}')",
    "id": "c4b9ecb5524a42b9815ff5a337a7cb27",
    "idx": 6,
    "time": "2021-02-16T01:22:12.452Z",
    "type": "execution"
   },
   {
    "id": "c4b9ecb5524a42b9815ff5a337a7cb27",
    "time": "2021-02-16T01:22:12.530Z",
    "type": "completion"
   },
   {
    "code": "N = 1000\nn = []\nfor i in range(int(N//3)):\n    n.append(i)\n#print(f'n = {n}')",
    "id": "c4b9ecb5524a42b9815ff5a337a7cb27",
    "idx": 6,
    "time": "2021-02-16T01:22:45.001Z",
    "type": "execution"
   },
   {
    "id": "c4b9ecb5524a42b9815ff5a337a7cb27",
    "time": "2021-02-16T01:22:45.080Z",
    "type": "completion"
   },
   {
    "code": "N = 1000\nn = []\nfor i in range(int(N/3)):\n    n.append(i)\nprint(f'n = {n}')",
    "id": "c4b9ecb5524a42b9815ff5a337a7cb27",
    "idx": 6,
    "time": "2021-02-16T01:22:54.742Z",
    "type": "execution"
   },
   {
    "id": "c4b9ecb5524a42b9815ff5a337a7cb27",
    "time": "2021-02-16T01:22:54.834Z",
    "type": "completion"
   },
   {
    "code": "N = 1000\nn = []\nfor i in range((N/3)):\n    n.append(i)\nprint(f'n = {n}')",
    "id": "c4b9ecb5524a42b9815ff5a337a7cb27",
    "idx": 6,
    "time": "2021-02-16T01:24:25.185Z",
    "type": "execution"
   },
   {
    "id": "c4b9ecb5524a42b9815ff5a337a7cb27",
    "time": "2021-02-16T01:24:25.304Z",
    "type": "completion"
   },
   {
    "code": "N = 1000\nn = []\nfor i in range((N//3)):\n    n.append(i)\nprint(f'n = {n}')",
    "id": "c4b9ecb5524a42b9815ff5a337a7cb27",
    "idx": 6,
    "time": "2021-02-16T01:24:32.068Z",
    "type": "execution"
   },
   {
    "id": "c4b9ecb5524a42b9815ff5a337a7cb27",
    "time": "2021-02-16T01:24:32.159Z",
    "type": "completion"
   },
   {
    "code": "N = 1000\nn = []\nfor i in range((N//3)):\n    n.append(i)\nprint(f'n = {n}')\ntau = []\nfor i in range((1000)):\n    tau.append(i/1000)\nprint(f'n = {n}')",
    "id": "c4b9ecb5524a42b9815ff5a337a7cb27",
    "idx": 6,
    "time": "2021-02-16T01:25:59.044Z",
    "type": "execution"
   },
   {
    "id": "c4b9ecb5524a42b9815ff5a337a7cb27",
    "time": "2021-02-16T01:25:59.188Z",
    "type": "completion"
   },
   {
    "code": "N = 1000\nn = []\nfor i in range((N//3)):\n    n.append(i)\nprint(f'n = {n}')\ntau = []\nfor i in range((1000)):\n    tau.append(i/1000)\nprint(f'tau = {tau}')",
    "id": "c4b9ecb5524a42b9815ff5a337a7cb27",
    "idx": 6,
    "time": "2021-02-16T01:26:22.411Z",
    "type": "execution"
   },
   {
    "id": "c4b9ecb5524a42b9815ff5a337a7cb27",
    "time": "2021-02-16T01:26:22.545Z",
    "type": "completion"
   },
   {
    "code": "N = 1000\nn = []\nfor i in range((N//3)):\n    n.append(i)\n#print(f'n = {n}')\ntau = []\nfor i in range((1000)):\n    tau.append(i/1000)\n#print(f'tau = {tau}')\ndef fact=math.factorial\nNA =1000\nNB =1000\nntest=10\nsigma=numpy.ln((fact(NA)/(fact(ntest)*fact(NA-ntest))*(factorial(NB)/(fact(ntest)*fact(NB-ntest))\nprint(sigma)                                                       ",
    "id": "c4b9ecb5524a42b9815ff5a337a7cb27",
    "idx": 6,
    "time": "2021-02-16T01:36:53.591Z",
    "type": "execution"
   },
   {
    "id": "c4b9ecb5524a42b9815ff5a337a7cb27",
    "time": "2021-02-16T01:36:53.662Z",
    "type": "completion"
   },
   {
    "code": "N = 1000\nn = []\nfor i in range((N//3)):\n    n.append(i)\n#print(f'n = {n}')\ntau = []\nfor i in range((1000)):\n    tau.append(i/1000)\n#print(f'tau = {tau}')\nfact= math.factorial\nNA =1000\nNB =1000\nntest=10\nsigma=numpy.ln((fact(NA)/(fact(ntest)*fact(NA-ntest))*(factorial(NB)/(fact(ntest)*fact(NB-ntest))\nprint(sigma)                                                       ",
    "id": "c4b9ecb5524a42b9815ff5a337a7cb27",
    "idx": 6,
    "time": "2021-02-16T01:42:56.467Z",
    "type": "execution"
   },
   {
    "id": "c4b9ecb5524a42b9815ff5a337a7cb27",
    "time": "2021-02-16T01:42:56.536Z",
    "type": "completion"
   },
   {
    "code": "import numpy as np\nimport math\nimport scipy.stats as st\nimport matplotlib.pyplot as plt\n\nN = 1000\nn = []\nfor i in range((N//3)):\n    n.append(i)\n#print(f'n = {n}')\ntau = []\nfor i in range((1000)):\n    tau.append(i/1000)\n#print(f'tau = {tau}')\nfact= math.factorial\nNA =1000\nNB =1000\nntest = 10\nsigma = numpy.ln((fact(NA)/(fact(ntest)*fact(NA-ntest))*(factorial(NB)/(fact(ntest)*fact(NB-ntest))\nprint(sigma)                                                       ",
    "id": "c4b9ecb5524a42b9815ff5a337a7cb27",
    "idx": 6,
    "time": "2021-02-16T01:46:20.671Z",
    "type": "execution"
   },
   {
    "id": "c4b9ecb5524a42b9815ff5a337a7cb27",
    "time": "2021-02-16T01:46:20.738Z",
    "type": "completion"
   },
   {
    "code": "import numpy as np\nimport math\nimport scipy.stats as st\nimport matplotlib.pyplot as plt\n\nN = 1000\nn = []\nfor i in range((N//3)):\n    n.append(i)\n#print(f'n = {n}')\ntau = []\nfor i in range((1000)):\n    tau.append(i/1000)\n#print(f'tau = {tau}')\nfact= math.factorial\nNA =1000\nNB =1000\nntest = 10\nsigma = numpy.ln((fact(NA)/(fact(ntest)*fact(NA-ntest))*(factorial(NB)/(fact(ntest)*fact(NB-ntest))\nprint(sigma)                                                       ",
    "id": "c4b9ecb5524a42b9815ff5a337a7cb27",
    "idx": 6,
    "time": "2021-02-16T01:46:24.352Z",
    "type": "execution"
   },
   {
    "id": "c4b9ecb5524a42b9815ff5a337a7cb27",
    "time": "2021-02-16T01:46:24.413Z",
    "type": "completion"
   },
   {
    "code": "import numpy as np\nimport math as macth\nimport scipy.stats as st\nimport matplotlib.pyplot as plt\n\nN = 1000\nn = []\nfor i in range((N//3)):\n    n.append(i)\n#print(f'n = {n}')\ntau = []\nfor i in range((1000)):\n    tau.append(i/1000)\n#print(f'tau = {tau}')\nfact= math.factorial\nNA =1000\nNB =1000\nntest = 10\nsigma = numpy.ln((fact(NA)/(fact(ntest)*fact(NA-ntest))*(factorial(NB)/(fact(ntest)*fact(NB-ntest))\nprint(sigma)                                                       ",
    "id": "c4b9ecb5524a42b9815ff5a337a7cb27",
    "idx": 6,
    "time": "2021-02-16T01:46:40.641Z",
    "type": "execution"
   },
   {
    "id": "c4b9ecb5524a42b9815ff5a337a7cb27",
    "time": "2021-02-16T01:46:40.704Z",
    "type": "completion"
   },
   {
    "code": "import numpy as np\nimport math as macth\nimport scipy.stats as st\nimport matplotlib.pyplot as plt\n\nN = 1000\nn = []\nfor i in range((N//3)):\n    n.append(i)\n#print(f'n = {n}')\ntau = []\nfor i in range((1000)):\n    tau.append(i/1000)\n#print(f'tau = {tau}')\nfact= math.factorial\nNA =1000\nNB =1000\nntest = 10\nsigma = numpy.ln((fact(NA)/(fact(ntest)*fact(NA-ntest))*(factorial(NB)/(fact(ntest)*fact(NB-ntest))\nprint(sigma)                                                       ",
    "id": "c4b9ecb5524a42b9815ff5a337a7cb27",
    "idx": 6,
    "time": "2021-02-16T01:46:45.845Z",
    "type": "execution"
   },
   {
    "id": "c4b9ecb5524a42b9815ff5a337a7cb27",
    "time": "2021-02-16T01:46:45.913Z",
    "type": "completion"
   },
   {
    "code": "import numpy as np\nimport math as macth\nimport scipy.stats as st\nimport matplotlib.pyplot as plt\n\nN = 1000\nn = []\nfor i in range((N//3)):\n    n.append(i)\n#print(f'n = {n}')\ntau = []\nfor i in range((1000)):\n    tau.append(i/1000)\n#print(f'tau = {tau}')\nfact= math.factorial\nNA =1000\nNB =1000\nntest = 10\nsigma = np.ln((fact(NA)/(fact(ntest)*fact(NA-ntest))*(factorial(NB)/(fact(ntest)*fact(NB-ntest))\nprint(sigma)                                                       ",
    "id": "c4b9ecb5524a42b9815ff5a337a7cb27",
    "idx": 6,
    "time": "2021-02-16T01:47:05.965Z",
    "type": "execution"
   },
   {
    "id": "c4b9ecb5524a42b9815ff5a337a7cb27",
    "time": "2021-02-16T01:47:06.056Z",
    "type": "completion"
   },
   {
    "code": "import numpy as np\nimport math as macth\nimport scipy.stats as st\nimport matplotlib.pyplot as plt\n\nN = 1000\nn = []\nfor i in range((N//3)):\n    n.append(i)\n#print(f'n = {n}')\ntau = []\nfor i in range((1000)):\n    tau.append(i/1000)\n#print(f'tau = {tau}')\nfact= math.factorial\nNA =1000\nNB =1000\nntest = 10\nsigma = np.log((fact(NA)/(fact(ntest)*fact(NA-ntest))*(factorial(NB)/(fact(ntest)*fact(NB-ntest))\nprint(sigma)                                                       ",
    "id": "c4b9ecb5524a42b9815ff5a337a7cb27",
    "idx": 6,
    "time": "2021-02-16T01:49:40.862Z",
    "type": "execution"
   },
   {
    "id": "c4b9ecb5524a42b9815ff5a337a7cb27",
    "time": "2021-02-16T01:49:40.931Z",
    "type": "completion"
   },
   {
    "code": "import numpy as np\nimport math as macth\nimport scipy.stats as st\nimport matplotlib.pyplot as plt\n\nN = 1000\nn = []\nfor i in range((N//3)):\n    n.append(i)\n#print(f'n = {n}')\ntau = []\nfor i in range((1000)):\n    tau.append(i/1000)\n#print(f'tau = {tau}')\nfact= math.factorial\nNA =1000\nNB =1000\nntest = 10\nsigma = np.log((fact(NA)/(fact(ntest)*fact(NA-ntest))*(factorial(NB)/(fact(ntest)*fact(NB-ntest))\nprint(sigma)                                                       ",
    "id": "c4b9ecb5524a42b9815ff5a337a7cb27",
    "idx": 6,
    "time": "2021-02-16T01:49:46.449Z",
    "type": "execution"
   },
   {
    "id": "c4b9ecb5524a42b9815ff5a337a7cb27",
    "time": "2021-02-16T01:49:46.509Z",
    "type": "completion"
   },
   {
    "code": "import numpy as np\nimport math as macth\nimport scipy.stats as st\nimport matplotlib.pyplot as plt\n\nN = 1000\nn = []\nfor i in range((N//3)):\n    n.append(i)\n#print(f'n = {n}')\ntau = []\nfor i in range((1000)):\n    tau.append(i/1000)\n#print(f'tau = {tau}')\nfact= math.factorial\nNA =1000\nNB =1000\nntest = 10\nprint(fact(10))\nsigma = np.log((fact(NA)/(fact(ntest)*fact(NA-ntest))*(factorial(NB)/(fact(ntest)*fact(NB-ntest))\nprint(sigma)                                                       ",
    "id": "c4b9ecb5524a42b9815ff5a337a7cb27",
    "idx": 6,
    "time": "2021-02-16T01:50:20.412Z",
    "type": "execution"
   },
   {
    "id": "c4b9ecb5524a42b9815ff5a337a7cb27",
    "time": "2021-02-16T01:50:20.479Z",
    "type": "completion"
   },
   {
    "code": "import numpy as np\nimport math as macth\nimport scipy.stats as st\nimport matplotlib.pyplot as plt\n\nN = 1000\nn = []\nfor i in range((N//3)):\n    n.append(i)\n#print(f'n = {n}')\ntau = []\nfor i in range((1000)):\n    tau.append(i/1000)\n#print(f'tau = {tau}')\nfact= math.factorial\nNA =1000\nNB =1000\nntest = 10\nprint(fact(10))\n#sigma = np.log((fact(NA)/(fact(ntest)*fact(NA-ntest))*(factorial(NB)/(fact(ntest)*fact(NB-ntest))\n#print(sigma)                                                       ",
    "id": "c4b9ecb5524a42b9815ff5a337a7cb27",
    "idx": 6,
    "time": "2021-02-16T01:50:43.558Z",
    "type": "execution"
   },
   {
    "id": "c4b9ecb5524a42b9815ff5a337a7cb27",
    "time": "2021-02-16T01:50:44.571Z",
    "type": "completion"
   },
   {
    "code": "import numpy as np\nimport math as math\nimport scipy.stats as st\nimport matplotlib.pyplot as plt\n\nN = 1000\nn = []\nfor i in range((N//3)):\n    n.append(i)\n#print(f'n = {n}')\ntau = []\nfor i in range((1000)):\n    tau.append(i/1000)\n#print(f'tau = {tau}')\nfact= math.factorial\nNA =1000\nNB =1000\nntest = 10\nprint(fact(10))\n#sigma = np.log((fact(NA)/(fact(ntest)*fact(NA-ntest))*(factorial(NB)/(fact(ntest)*fact(NB-ntest))\n#print(sigma)                                                       ",
    "id": "c4b9ecb5524a42b9815ff5a337a7cb27",
    "idx": 6,
    "time": "2021-02-16T01:51:04.135Z",
    "type": "execution"
   },
   {
    "id": "c4b9ecb5524a42b9815ff5a337a7cb27",
    "time": "2021-02-16T01:51:04.211Z",
    "type": "completion"
   },
   {
    "code": "import numpy as np\nimport math as math\nimport scipy.stats as st\nimport matplotlib.pyplot as plt\n\nN = 1000\nn = []\nfor i in range((N//3)):\n    n.append(i)\n#print(f'n = {n}')\ntau = []\nfor i in range((1000)):\n    tau.append(i/1000)\n#print(f'tau = {tau}')\nfact= math.factorial\nNA =1000\nNB =1000\nntest = 10\nsigma = np.log((fact(NA)/(fact(ntest)*fact(NA-ntest))*(factorial(NB)/(fact(ntest)*fact(NB-ntest))\n#print(sigma)                                                       ",
    "id": "c4b9ecb5524a42b9815ff5a337a7cb27",
    "idx": 6,
    "time": "2021-02-16T01:51:15.820Z",
    "type": "execution"
   },
   {
    "id": "c4b9ecb5524a42b9815ff5a337a7cb27",
    "time": "2021-02-16T01:51:15.883Z",
    "type": "completion"
   },
   {
    "code": "import numpy as np\nimport math as math\nimport scipy.stats as st\nimport matplotlib.pyplot as plt\n\nN = 1000\nn = []\nfor i in range((N//3)):\n    n.append(i)\n#print(f'n = {n}')\ntau = []\nfor i in range((1000)):\n    tau.append(i/1000)\n#print(f'tau = {tau}')\nfact= math.factorial\nNA =1000\nNB =1000\nntest = 10\nsigma = np.log((fact(NA)/(fact(ntest)*fact(NA-ntest))*(factorial(NB)/(fact(ntest)*fact(NB-ntest)))\n#print(sigma)                                                       ",
    "id": "c4b9ecb5524a42b9815ff5a337a7cb27",
    "idx": 6,
    "time": "2021-02-16T01:51:59.029Z",
    "type": "execution"
   },
   {
    "id": "c4b9ecb5524a42b9815ff5a337a7cb27",
    "time": "2021-02-16T01:51:59.098Z",
    "type": "completion"
   },
   {
    "code": "import numpy as np\nimport math as math\nimport scipy.stats as st\nimport matplotlib.pyplot as plt\n\nN = 1000\nn = []\nfor i in range((N//3)):\n    n.append(i)\n#print(f'n = {n}')\ntau = []\nfor i in range((1000)):\n    tau.append(i/1000)\n#print(f'tau = {tau}')\nfact= math.factorial\nNA =1000\nNB =1000\nntest = 10\nsigma = np.log((fact(NA)/(fact(ntest)*fact(NA-ntest))*(factorial(NB)/(fact(ntest)*fact(NB-ntest)))\n#print(sigma)                                                       ",
    "id": "c4b9ecb5524a42b9815ff5a337a7cb27",
    "idx": 6,
    "time": "2021-02-16T01:52:03.232Z",
    "type": "execution"
   },
   {
    "id": "c4b9ecb5524a42b9815ff5a337a7cb27",
    "time": "2021-02-16T01:52:03.293Z",
    "type": "completion"
   },
   {
    "code": "import numpy as np\nimport math as math\nimport scipy.stats as st\nimport matplotlib.pyplot as plt\n\nN = 1000\nn = []\nfor i in range((N//3)):\n    n.append(i)\n#print(f'n = {n}')\ntau = []\nfor i in range((1000)):\n    tau.append(i/1000)\n#print(f'tau = {tau}')\nfact= math.factorial\nNA =1000\nNB =1000\nntest = 10\nsigma = np.log(fact(NA)/(fact(ntest)*fact(NA-ntest)))\n#sigma = np.log((fact(NA)/(fact(ntest)*fact(NA-ntest))*(factorial(NB)/(fact(ntest)*fact(NB-ntest)))\n#print(sigma)                                                       ",
    "id": "c4b9ecb5524a42b9815ff5a337a7cb27",
    "idx": 6,
    "time": "2021-02-16T01:53:13.381Z",
    "type": "execution"
   },
   {
    "id": "c4b9ecb5524a42b9815ff5a337a7cb27",
    "time": "2021-02-16T01:53:13.453Z",
    "type": "completion"
   },
   {
    "code": "import numpy as np\nimport math as math\nimport scipy.stats as st\nimport matplotlib.pyplot as plt\n\nN = 1000\nn = []\nfor i in range((N//3)):\n    n.append(i)\n#print(f'n = {n}')\ntau = []\nfor i in range((1000)):\n    tau.append(i/1000)\n#print(f'tau = {tau}')\nfact= math.factorial\nNA =1000\nNB =1000\nntest = 10\nsigma = np.log(fact(NA)/(fact(ntest)*fact(NA-ntest)))\n#sigma = np.log((fact(NA)/(fact(ntest)*fact(NA-ntest))*(factorial(NB)/(fact(ntest)*fact(NB-ntest)))\n#print(sigma)                                                       ",
    "id": "c4b9ecb5524a42b9815ff5a337a7cb27",
    "idx": 6,
    "time": "2021-02-16T01:53:18.258Z",
    "type": "execution"
   },
   {
    "id": "c4b9ecb5524a42b9815ff5a337a7cb27",
    "time": "2021-02-16T01:53:18.322Z",
    "type": "completion"
   },
   {
    "code": "import numpy as np\nimport math as math\nimport scipy.stats as st\nimport matplotlib.pyplot as plt\n\nN = 1000\nn = []\nfor i in range((N//3)):\n    n.append(i)\n#print(f'n = {n}')\ntau = []\nfor i in range((1000)):\n    tau.append(i/1000)\n#print(f'tau = {tau}')\nfact= math.factorial\nNA =1000\nNB =1000\nntest = 10\nsigma = np.log(fact(NA)/(fact(ntest)*fact(NA-ntest)))\n#sigma = np.log((fact(NA)/(fact(ntest)*fact(NA-ntest))*(factorial(NB)/(fact(ntest)*fact(NB-ntest)))\nprint(sigma)                                                       ",
    "id": "c4b9ecb5524a42b9815ff5a337a7cb27",
    "idx": 6,
    "time": "2021-02-16T01:53:21.763Z",
    "type": "execution"
   },
   {
    "id": "c4b9ecb5524a42b9815ff5a337a7cb27",
    "time": "2021-02-16T01:53:21.822Z",
    "type": "completion"
   },
   {
    "code": "import numpy as np\nimport math as math\nimport scipy.stats as st\nimport matplotlib.pyplot as plt\n\nN = 1000\nn = []\nfor i in range((N//3)):\n    n.append(i)\n#print(f'n = {n}')\ntau = []\nfor i in range((1000)):\n    tau.append(i/1000)\n#print(f'tau = {tau}')\nfact= math.factorial\nNA =1000\nNB =1000\nntest = 10\nsigma = np.log(fact(NA)/(fact(ntest)*fact(NA-ntest)))\nsigma = np.log((fact(NA)/(fact(ntest)*fact(NA-ntest))*(factorial(NB)/(fact(ntest)*fact(NB-ntest))))\nprint(sigma)                                                       ",
    "id": "c4b9ecb5524a42b9815ff5a337a7cb27",
    "idx": 6,
    "time": "2021-02-16T01:53:52.820Z",
    "type": "execution"
   },
   {
    "id": "c4b9ecb5524a42b9815ff5a337a7cb27",
    "time": "2021-02-16T01:53:52.886Z",
    "type": "completion"
   },
   {
    "code": "import numpy as np\nimport math as math\nimport scipy.stats as st\nimport matplotlib.pyplot as plt\n\nN = 1000\nn = []\nfor i in range((N//3)):\n    n.append(i)\n#print(f'n = {n}')\ntau = []\nfor i in range((1000)):\n    tau.append(i/1000)\n#print(f'tau = {tau}')\nfact= math.factorial\nNA =1000\nNB =1000\nntest = 10\n#sigma = np.log(fact(NA)/(fact(ntest)*fact(NA-ntest)))\nsigma = np.log((fact(NA)/(fact(ntest)*fact(NA-ntest))*(factorial(NB)/(fact(ntest)*fact(NB-ntest))))\nprint(sigma)                                                       ",
    "id": "c4b9ecb5524a42b9815ff5a337a7cb27",
    "idx": 6,
    "time": "2021-02-16T01:53:59.518Z",
    "type": "execution"
   },
   {
    "id": "c4b9ecb5524a42b9815ff5a337a7cb27",
    "time": "2021-02-16T01:53:59.582Z",
    "type": "completion"
   },
   {
    "code": "import numpy as np\nimport math as math\nimport scipy.stats as st\nimport matplotlib.pyplot as plt\n\nN = 1000\nn = []\nfor i in range((N//3)):\n    n.append(i)\n#print(f'n = {n}')\ntau = []\nfor i in range((1000)):\n    tau.append(i/1000)\n#print(f'tau = {tau}')\nfact= math.factorial\nNA =1000\nNB =1000\nntest = 10\n#sigma = np.log(fact(NA)/(fact(ntest)*fact(NA-ntest)))\nsigma = np.log( (fact(NA)/(fact(ntest)*fact(NA-ntest)))*(fact(NB)/(fact(ntest)*fact(NB-ntest))))\nprint(sigma)                                                       ",
    "id": "c4b9ecb5524a42b9815ff5a337a7cb27",
    "idx": 6,
    "time": "2021-02-16T01:54:48.081Z",
    "type": "execution"
   },
   {
    "id": "c4b9ecb5524a42b9815ff5a337a7cb27",
    "time": "2021-02-16T01:54:48.147Z",
    "type": "completion"
   },
   {
    "code": "import numpy as np\nimport math as math\nimport scipy.stats as st\nimport matplotlib.pyplot as plt\n\nN = 1000\nn = []\nfor i in range((N//3)):\n    n.append(i)\n#print(f'n = {n}')\ntau = []\nfor i in range((1000)):\n    tau.append(i/1000)\n#print(f'tau = {tau}')\nfact= math.factorial\nNA =1000\nNB =1000\nntest = 10\n\nsigma = np.log( (fact(NA)/(fact(ntest)*fact(NA-ntest)))*(fact(NB)/(fact(ntest)*fact(NB-ntest))))\nprint(sigma)                                                       ",
    "id": "c4b9ecb5524a42b9815ff5a337a7cb27",
    "idx": 6,
    "time": "2021-02-16T01:55:23.785Z",
    "type": "execution"
   },
   {
    "id": "c4b9ecb5524a42b9815ff5a337a7cb27",
    "time": "2021-02-16T01:55:23.854Z",
    "type": "completion"
   },
   {
    "code": "import numpy as np\nimport math as math\nimport scipy.stats as st\nimport matplotlib.pyplot as plt\n\nN = 1000\nn = []\nfor i in range((N//3)):\n    n.append(i)\n#print(f'n = {n}')\ntau = []\nfor i in range((1000)):\n    tau.append(i/1000)\n#print(f'tau = {tau}')\nfact= math.factorial\nNA =1000\nNB =1000\nntest = 100\n\nsigma = np.log( (fact(NA)/(fact(ntest)*fact(NA-ntest)))*(fact(NB)/(fact(ntest)*fact(NB-ntest))))\nprint(sigma)                                                       ",
    "id": "c4b9ecb5524a42b9815ff5a337a7cb27",
    "idx": 6,
    "time": "2021-02-16T01:55:28.572Z",
    "type": "execution"
   },
   {
    "id": "c4b9ecb5524a42b9815ff5a337a7cb27",
    "time": "2021-02-16T01:55:28.637Z",
    "type": "completion"
   },
   {
    "code": "import numpy as np\nimport math as math\nimport scipy.stats as st\nimport matplotlib.pyplot as plt\n\nN = 1000\nn = []\nfor i in range((N//3)):\n    n.append(i)\n#print(f'n = {n}')\ntau = []\nfor i in range((1000)):\n    tau.append(i/1000)\n#print(f'tau = {tau}')\nfact= math.factorial\nNA =1000\nNB =1000\nntest = 500\n\nsigma = np.log( (fact(NA)/(fact(ntest)*fact(NA-ntest)))*(fact(NB)/(fact(ntest)*fact(NB-ntest))))\nprint(sigma)                                                       ",
    "id": "c4b9ecb5524a42b9815ff5a337a7cb27",
    "idx": 6,
    "time": "2021-02-16T01:55:40.032Z",
    "type": "execution"
   },
   {
    "id": "c4b9ecb5524a42b9815ff5a337a7cb27",
    "time": "2021-02-16T01:55:40.092Z",
    "type": "completion"
   },
   {
    "code": "import numpy as np\nimport math as math\nimport scipy.stats as st\nimport matplotlib.pyplot as plt\n\nN = 1000\nn = []\nfor i in range((N//3)):\n    n.append(i)\n#print(f'n = {n}')\ntau = []\nfor i in range((1000)):\n    tau.append(i/1000)\n#print(f'tau = {tau}')\nfact= math.factorial\nNA =500\nNB =500\nntest = 250\n\nsigma = np.log( (fact(NA)/(fact(ntest)*fact(NA-ntest)))*(fact(NB)/(fact(ntest)*fact(NB-ntest))))\nprint(sigma)                                                       ",
    "id": "c4b9ecb5524a42b9815ff5a337a7cb27",
    "idx": 6,
    "time": "2021-02-16T01:56:29.753Z",
    "type": "execution"
   },
   {
    "id": "c4b9ecb5524a42b9815ff5a337a7cb27",
    "time": "2021-02-16T01:56:29.828Z",
    "type": "completion"
   },
   {
    "code": "import numpy as np\nimport math as math\nimport scipy.stats as st\nimport matplotlib.pyplot as plt\n\nN = 1000\nn = []\nfor i in range((N//3)):\n    n.append(i)\n#print(f'n = {n}')\ntau = []\nfor i in range((1000)):\n    tau.append(i/1000)\n#print(f'tau = {tau}')\nfact= math.factorial\nNA =500\nNB =500\nntest = 255\n\nsigma = np.log( (fact(NA)/(fact(ntest)*fact(NA-ntest)))*(fact(NB)/(fact(ntest)*fact(NB-ntest))))\nprint(sigma)                                                       ",
    "id": "c4b9ecb5524a42b9815ff5a337a7cb27",
    "idx": 6,
    "time": "2021-02-16T01:56:38.084Z",
    "type": "execution"
   },
   {
    "id": "c4b9ecb5524a42b9815ff5a337a7cb27",
    "time": "2021-02-16T01:56:39.190Z",
    "type": "completion"
   },
   {
    "code": "import numpy as np\nimport math as math\nimport scipy.stats as st\nimport matplotlib.pyplot as plt\n\nN = 1000\nn = []\nfor i in range((N//3)):\n    n.append(i)\n#print(f'n = {n}')\ntau = []\nfor i in range((1000)):\n    tau.append(i/1000)\n#print(f'tau = {tau}')\nfact= math.factorial\nNA =500\nNB =500\nntest = 250\n\nsigma = np.log( (fact(NA)/(fact(ntest)*fact(NA-ntest)))*(fact(NB)/(fact(ntest)*fact(NB-ntest))))\nprint(sigma)                                                       ",
    "id": "c4b9ecb5524a42b9815ff5a337a7cb27",
    "idx": 6,
    "time": "2021-02-16T01:56:46.465Z",
    "type": "execution"
   },
   {
    "id": "c4b9ecb5524a42b9815ff5a337a7cb27",
    "time": "2021-02-16T01:56:46.525Z",
    "type": "completion"
   },
   {
    "code": "import numpy as np\nimport math as math\nimport scipy.stats as st\nimport matplotlib.pyplot as plt\n\nN = 1000\nn = []\nfor i in range((N//3)):\n    n.append(i)\n#print(f'n = {n}')\ntau = []\nfor i in range((1000)):\n    tau.append(i/1000)\n#print(f'tau = {tau}')\nfact= math.factorial\nNA =500\nNB =500\nntest = 245\n\nsigma = np.log( (fact(NA)/(fact(ntest)*fact(NA-ntest)))*(fact(NB)/(fact(ntest)*fact(NB-ntest))))\nprint(sigma)                                                       ",
    "id": "c4b9ecb5524a42b9815ff5a337a7cb27",
    "idx": 6,
    "time": "2021-02-16T01:56:55.221Z",
    "type": "execution"
   },
   {
    "id": "c4b9ecb5524a42b9815ff5a337a7cb27",
    "time": "2021-02-16T01:56:55.286Z",
    "type": "completion"
   },
   {
    "code": "import numpy as np\nimport math as math\nimport scipy.stats as st\nimport matplotlib.pyplot as plt\n\nN = 1000\nn = []\nfor i in range((N//3)):\n    n.append(i)\n#print(f'n = {n}')\ntau = []\nfor i in range((1000)):\n    tau.append(i/1000)\n#print(f'tau = {tau}')\nfact= math.factorial\nNA =500\nNB =500\nntest = 250\n\nsigma = np.log( (fact(NA)/(fact(ntest)*fact(NA-ntest)))*(fact(NB)/(fact(ntest)*fact(NB-ntest))))\nprint(sigma)                                                       ",
    "id": "c4b9ecb5524a42b9815ff5a337a7cb27",
    "idx": 6,
    "time": "2021-02-16T01:57:04.323Z",
    "type": "execution"
   },
   {
    "id": "c4b9ecb5524a42b9815ff5a337a7cb27",
    "time": "2021-02-16T01:57:04.389Z",
    "type": "completion"
   },
   {
    "code": "fact(1000)",
    "id": "ce12fcc2016a4f9095ec132f016f6fc9",
    "idx": 7,
    "time": "2021-02-16T01:58:14.031Z",
    "type": "execution"
   },
   {
    "id": "ce12fcc2016a4f9095ec132f016f6fc9",
    "time": "2021-02-16T01:58:14.115Z",
    "type": "completion"
   },
   {
    "code": "fact(1500)",
    "id": "ce12fcc2016a4f9095ec132f016f6fc9",
    "idx": 7,
    "time": "2021-02-16T01:58:30.193Z",
    "type": "execution"
   },
   {
    "id": "ce12fcc2016a4f9095ec132f016f6fc9",
    "time": "2021-02-16T01:58:30.253Z",
    "type": "completion"
   },
   {
    "code": "fact(2000)",
    "id": "ce12fcc2016a4f9095ec132f016f6fc9",
    "idx": 7,
    "time": "2021-02-16T01:58:43.016Z",
    "type": "execution"
   },
   {
    "id": "ce12fcc2016a4f9095ec132f016f6fc9",
    "time": "2021-02-16T01:58:43.078Z",
    "type": "completion"
   },
   {
    "code": "fact(5000)",
    "id": "ce12fcc2016a4f9095ec132f016f6fc9",
    "idx": 7,
    "time": "2021-02-16T01:58:51.399Z",
    "type": "execution"
   },
   {
    "id": "ce12fcc2016a4f9095ec132f016f6fc9",
    "time": "2021-02-16T01:58:51.523Z",
    "type": "completion"
   },
   {
    "code": "import numpy as np\nimport math as math\nimport scipy.stats as st\nimport matplotlib.pyplot as plt\n\nN = 1000\nn = []\nfor i in range((N//3)):\n    n.append(i)\n#print(f'n = {n}')\ntau = []\nfor i in range((1000)):\n    tau.append(i/1000)\n#print(f'tau = {tau}')\nfact= math.factorial\nNA =500\nNB =500\nntest = 500\nfa\nsigma = np.log( (fact(NA)/(fact(ntest)*fact(NA-ntest)))*(fact(NB)/(fact(ntest)*fact(NB-ntest))))\nprint(sigma)                                                       ",
    "id": "c4b9ecb5524a42b9815ff5a337a7cb27",
    "idx": 6,
    "time": "2021-02-16T02:00:01.748Z",
    "type": "execution"
   },
   {
    "id": "c4b9ecb5524a42b9815ff5a337a7cb27",
    "time": "2021-02-16T02:00:01.839Z",
    "type": "completion"
   },
   {
    "code": "import numpy as np\nimport math as math\nimport scipy.stats as st\nimport matplotlib.pyplot as plt\n\nN = 1000\nn = []\nfor i in range((N//3)):\n    n.append(i)\n#print(f'n = {n}')\ntau = []\nfor i in range((1000)):\n    tau.append(i/1000)\n#print(f'tau = {tau}')\nfact= math.factorial\nNA =500\nNB =500\nntest = 500\nsigma = np.log( (fact(NA)/(fact(ntest)*fact(NA-ntest)))*(fact(NB)/(fact(ntest)*fact(NB-ntest))))\nprint(sigma)                                                       ",
    "id": "c4b9ecb5524a42b9815ff5a337a7cb27",
    "idx": 6,
    "time": "2021-02-16T02:00:10.879Z",
    "type": "execution"
   },
   {
    "id": "c4b9ecb5524a42b9815ff5a337a7cb27",
    "time": "2021-02-16T02:00:10.945Z",
    "type": "completion"
   },
   {
    "code": "import numpy as np\nimport math as math\nimport scipy.stats as st\nimport matplotlib.pyplot as plt\n\nN = 1000\nn = []\nfor i in range((N//3)):\n    n.append(i)\n#print(f'n = {n}')\ntau = []\nfor i in range((1000)):\n    tau.append(i/1000)\n#print(f'tau = {tau}')\nfact= math.factorial\nNA =500\nNB =1000\nntest = 500\nsigma = np.log( (fact(NA)/(fact(ntest)*fact(NA-ntest)))*(fact(NB)/(fact(ntest)*fact(NB-ntest))))\nprint(sigma)                                                       ",
    "id": "c4b9ecb5524a42b9815ff5a337a7cb27",
    "idx": 6,
    "time": "2021-02-16T02:00:21.205Z",
    "type": "execution"
   },
   {
    "id": "c4b9ecb5524a42b9815ff5a337a7cb27",
    "time": "2021-02-16T02:00:21.266Z",
    "type": "completion"
   },
   {
    "code": "import numpy as np\nimport math as math\nimport scipy.stats as st\nimport matplotlib.pyplot as plt\n\nN = 1000\nn = []\nfor i in range((N//3)):\n    n.append(i)\n#print(f'n = {n}')\ntau = []\nfor i in range((1000)):\n    tau.append(i/1000)\n#print(f'tau = {tau}')\nfact= math.factorial\nNA =1000\nNB =1000\nntest = 500\nsigma = np.log( (fact(NA)/(fact(ntest)*fact(NA-ntest)))*(fact(NB)/(fact(ntest)*fact(NB-ntest))))\nprint(sigma)                                                       ",
    "id": "c4b9ecb5524a42b9815ff5a337a7cb27",
    "idx": 6,
    "time": "2021-02-16T02:00:35.954Z",
    "type": "execution"
   },
   {
    "id": "c4b9ecb5524a42b9815ff5a337a7cb27",
    "time": "2021-02-16T02:00:36.019Z",
    "type": "completion"
   },
   {
    "code": "import numpy as np\nimport math as math\nimport scipy.stats as st\nimport matplotlib.pyplot as plt\n\nN = 1000\nn = []\nfor i in range((N//3)):\n    n.append(i)\n#print(f'n = {n}')\ntau = []\nfor i in range((1000)):\n    tau.append(i/1000)\n#print(f'tau = {tau}')\nfact= math.factorial\nNA =1000\nNB =1000\nntest = 500\nsigma = np.log((fact(NA)/(fact(ntest)*fact(NA-ntest))) + np.log(fact(NB)/(fact(ntest)*fact(NB-ntest))))\nprint(sigma)                                                       ",
    "id": "c4b9ecb5524a42b9815ff5a337a7cb27",
    "idx": 6,
    "time": "2021-02-16T02:02:16.516Z",
    "type": "execution"
   },
   {
    "id": "c4b9ecb5524a42b9815ff5a337a7cb27",
    "time": "2021-02-16T02:02:16.588Z",
    "type": "completion"
   },
   {
    "code": "import numpy as np\nimport math as math\nimport scipy.stats as st\nimport matplotlib.pyplot as plt\n\nN = 1000\nn = []\nfor i in range((N//3)):\n    n.append(i)\n#print(f'n = {n}')\ntau = []\nfor i in range((1000)):\n    tau.append(i/1000)\n#print(f'tau = {tau}')\nfact= math.factorial\nNA =1000\nNB =1000\nntest = 400\nsigma = np.log((fact(NA)/(fact(ntest)*fact(NA-ntest))) + np.log(fact(NB)/(fact(ntest)*fact(NB-ntest))))\nprint(sigma)                                                       ",
    "id": "c4b9ecb5524a42b9815ff5a337a7cb27",
    "idx": 6,
    "time": "2021-02-16T02:03:03.544Z",
    "type": "execution"
   },
   {
    "id": "c4b9ecb5524a42b9815ff5a337a7cb27",
    "time": "2021-02-16T02:03:03.606Z",
    "type": "completion"
   },
   {
    "code": "import numpy as np\nimport math as math\nimport scipy.stats as st\nimport matplotlib.pyplot as plt\n\nN = 1000\nn = []\nfor i in range((N//3)):\n    n.append(i)\n#print(f'n = {n}')\ntau = []\nfor i in range((1000)):\n    tau.append(i/1000)\n#print(f'tau = {tau}')\nfact= math.factorial\nNA =1000\nNB =500\nntest = 500\nsigma = np.log((fact(NA)/(fact(ntest)*fact(NA-ntest))) + np.log(fact(NB)/(fact(ntest)*fact(NB-ntest))))\nprint(sigma)                                                       ",
    "id": "c4b9ecb5524a42b9815ff5a337a7cb27",
    "idx": 6,
    "time": "2021-02-16T02:03:29.489Z",
    "type": "execution"
   },
   {
    "id": "c4b9ecb5524a42b9815ff5a337a7cb27",
    "time": "2021-02-16T02:03:29.559Z",
    "type": "completion"
   },
   {
    "code": "import numpy as np\nimport math as math\nimport scipy.stats as st\nimport matplotlib.pyplot as plt\n\nN = 1000\nn = []\nfor i in range((N//3)):\n    n.append(i)\n#print(f'n = {n}')\ntau = []\nfor i in range((1000)):\n    tau.append(i/1000)\n#print(f'tau = {tau}')\nfact= math.factorial\nNA =1000\nNB =600\nntest = 500\nsigma = np.log((fact(NA)/(fact(ntest)*fact(NA-ntest))) + np.log(fact(NB)/(fact(ntest)*fact(NB-ntest))))\nprint(sigma)                                                       ",
    "id": "c4b9ecb5524a42b9815ff5a337a7cb27",
    "idx": 6,
    "time": "2021-02-16T02:03:41.434Z",
    "type": "execution"
   },
   {
    "id": "c4b9ecb5524a42b9815ff5a337a7cb27",
    "time": "2021-02-16T02:03:41.496Z",
    "type": "completion"
   },
   {
    "code": "import numpy as np\nimport math as math\nimport scipy.stats as st\nimport matplotlib.pyplot as plt\n\nN = 1000\nn = []\nfor i in range((N//3)):\n    n.append(i)\n#print(f'n = {n}')\ntau = []\nfor i in range((1000)):\n    tau.append(i/1000)\n#print(f'tau = {tau}')\nfact= math.factorial\nNA =1000\nNB =600\nntest = 500\nsigma = np.log((fact(NA)/(fact(ntest)*fact(NA-ntest))) + np.log((fact(NB)/(fact(ntest)*fact(NB-ntest)))\nprint(sigma)                                                       ",
    "id": "c4b9ecb5524a42b9815ff5a337a7cb27",
    "idx": 6,
    "time": "2021-02-16T02:04:57.411Z",
    "type": "execution"
   },
   {
    "id": "c4b9ecb5524a42b9815ff5a337a7cb27",
    "time": "2021-02-16T02:04:57.501Z",
    "type": "completion"
   },
   {
    "code": "import numpy as np\nimport math as math\nimport scipy.stats as st\nimport matplotlib.pyplot as plt\n\nN = 1000\nn = []\nfor i in range((N//3)):\n    n.append(i)\n#print(f'n = {n}')\ntau = []\nfor i in range((1000)):\n    tau.append(i/1000)\n#print(f'tau = {tau}')\nfact= math.factorial\nNA =1000\nNB =600\nntest = 500\nsigma1 = np.log((fact(NA)/(fact(ntest)*fact(NA-ntest))) \n#sigma1 = np.log((fact(NA)/(fact(ntest)*fact(NA-ntest))) + np.log((fact(NB)/(fact(ntest)*fact(NB-ntest)))\nprint(sigma1)                                                       ",
    "id": "c4b9ecb5524a42b9815ff5a337a7cb27",
    "idx": 6,
    "time": "2021-02-16T02:06:31.498Z",
    "type": "execution"
   },
   {
    "id": "c4b9ecb5524a42b9815ff5a337a7cb27",
    "time": "2021-02-16T02:06:31.564Z",
    "type": "completion"
   },
   {
    "code": "import numpy as np\nimport math as math\nimport scipy.stats as st\nimport matplotlib.pyplot as plt\n\nN = 1000\nn = []\nfor i in range((N//3)):\n    n.append(i)\n#print(f'n = {n}')\ntau = []\nfor i in range((1000)):\n    tau.append(i/1000)\n#print(f'tau = {tau}')\nfact= math.factorial\nNA = 1000\nNB = 600\nntest = 500\nsigma1 = np.log((fact(NA)/(fact(ntest)*fact(NA-ntest))) \n#sigma1 = np.log((fact(NA)/(fact(ntest)*fact(NA-ntest))) + np.log((fact(NB)/(fact(ntest)*fact(NB-ntest)))\nprint(sigma1)                                                       ",
    "id": "c4b9ecb5524a42b9815ff5a337a7cb27",
    "idx": 6,
    "time": "2021-02-16T02:07:21.544Z",
    "type": "execution"
   },
   {
    "id": "c4b9ecb5524a42b9815ff5a337a7cb27",
    "time": "2021-02-16T02:07:21.606Z",
    "type": "completion"
   },
   {
    "code": "import numpy as np\nimport math as math\nimport scipy.stats as st\nimport matplotlib.pyplot as plt\n\nN = 1000\nn = []\nfor i in range((N//3)):\n    n.append(i)\n#print(f'n = {n}')\ntau = []\nfor i in range((1000)):\n    tau.append(i/1000)\n#print(f'tau = {tau}')\nfact= math.factorial\nNA = 1000\nNB = 600\nntest = 500\nsigma1 = np.log(fact(NA)/(fact(ntest)*fact(NA-ntest))) \n#sigma1 = np.log((fact(NA)/(fact(ntest)*fact(NA-ntest))) + np.log((fact(NB)/(fact(ntest)*fact(NB-ntest)))\nprint(sigma1)                                                       ",
    "id": "c4b9ecb5524a42b9815ff5a337a7cb27",
    "idx": 6,
    "time": "2021-02-16T02:08:06.862Z",
    "type": "execution"
   },
   {
    "id": "c4b9ecb5524a42b9815ff5a337a7cb27",
    "time": "2021-02-16T02:08:06.932Z",
    "type": "completion"
   },
   {
    "code": "import numpy as np\nimport math as math\nimport scipy.stats as st\nimport matplotlib.pyplot as plt\n\nN = 1000\nn = []\nfor i in range((N//3)):\n    n.append(i)\n#print(f'n = {n}')\ntau = []\nfor i in range((1000)):\n    tau.append(i/1000)\n#print(f'tau = {tau}')\nfact= math.factorial\nNA = 1000\nNB = 600\nntest = 500\nsigma1 = np.log(fact(NA)/(fact(ntest)*fact(NA-ntest))) \n#sigma1 = np.log(fact(NA)/(fact(ntest)*fact(NA-ntest))) + np.log(fact(NB)/(fact(ntest)*fact(NB-ntest)))\nprint(sigma1)                                                       ",
    "id": "c4b9ecb5524a42b9815ff5a337a7cb27",
    "idx": 6,
    "time": "2021-02-16T02:08:35.885Z",
    "type": "execution"
   },
   {
    "id": "c4b9ecb5524a42b9815ff5a337a7cb27",
    "time": "2021-02-16T02:08:35.948Z",
    "type": "completion"
   },
   {
    "code": "import numpy as np\nimport math as math\nimport scipy.stats as st\nimport matplotlib.pyplot as plt\n\nN = 1000\nn = []\nfor i in range((N//3)):\n    n.append(i)\n#print(f'n = {n}')\ntau = []\nfor i in range((1000)):\n    tau.append(i/1000)\n#print(f'tau = {tau}')\nfact= math.factorial\nNA = 1000\nNB = 600\nntest = 500\n#sigma1 = np.log(fact(NA)/(fact(ntest)*fact(NA-ntest))) \nsigma1 = np.log(fact(NA)/(fact(ntest)*fact(NA-ntest))) + np.log(fact(NB)/(fact(ntest)*fact(NB-ntest)))\nprint(sigma1)                                                       ",
    "id": "c4b9ecb5524a42b9815ff5a337a7cb27",
    "idx": 6,
    "time": "2021-02-16T02:08:48.963Z",
    "type": "execution"
   },
   {
    "id": "c4b9ecb5524a42b9815ff5a337a7cb27",
    "time": "2021-02-16T02:08:49.025Z",
    "type": "completion"
   },
   {
    "code": "import numpy as np\nimport math as math\nimport scipy.stats as st\nimport matplotlib.pyplot as plt\n\nN = 1000\nn = []\nfor i in range((N//3)):\n    n.append(i)\n#print(f'n = {n}')\ntau = []\nfor i in range((1000)):\n    tau.append(i/1000)\n#print(f'tau = {tau}')\nfact= math.factorial\nNA = 1000\nNB = 100\nntest = 500\n#sigma1 = np.log(fact(NA)/(fact(ntest)*fact(NA-ntest))) \nsigma1 = np.log(fact(NA)/(fact(ntest)*fact(NA-ntest))) + np.log(fact(NB)/(fact(ntest)*fact(NB-ntest)))\nprint(sigma1)                                                       ",
    "id": "c4b9ecb5524a42b9815ff5a337a7cb27",
    "idx": 6,
    "time": "2021-02-16T02:08:58.762Z",
    "type": "execution"
   },
   {
    "id": "c4b9ecb5524a42b9815ff5a337a7cb27",
    "time": "2021-02-16T02:08:58.832Z",
    "type": "completion"
   },
   {
    "code": "import numpy as np\nimport math as math\nimport scipy.stats as st\nimport matplotlib.pyplot as plt\n\nN = 1000\nn = []\nfor i in range((N//3)):\n    n.append(i)\n#print(f'n = {n}')\ntau = []\nfor i in range((1000)):\n    tau.append(i/1000)\n#print(f'tau = {tau}')\nfact= math.factorial\nNA = 1000\nNB = 1000\nntest = 500\n#sigma1 = np.log(fact(NA)/(fact(ntest)*fact(NA-ntest))) \nsigma1 = np.log(fact(NA)/(fact(ntest)*fact(NA-ntest))) + np.log(fact(NB)/(fact(ntest)*fact(NB-ntest)))\nprint(sigma1)                                                       ",
    "id": "c4b9ecb5524a42b9815ff5a337a7cb27",
    "idx": 6,
    "time": "2021-02-16T02:09:11.886Z",
    "type": "execution"
   },
   {
    "id": "c4b9ecb5524a42b9815ff5a337a7cb27",
    "time": "2021-02-16T02:09:11.960Z",
    "type": "completion"
   },
   {
    "code": "import numpy as np\nimport math as math\nimport scipy.stats as st\nimport matplotlib.pyplot as plt\n\nN = 1000\nn = []\nfor i in range((N//3)):\n    n.append(i)\n#print(f'n = {n}')\ntau = []\nfor i in range((1000)):\n    tau.append(i/1000)\n#print(f'tau = {tau}')\nfact= math.factorial\nNA = 1000\nNB = 1000\nntest = 500\nsigma1 = np.log(fact(NA)/(fact(ntest)*fact(NA-ntest))) + np.log(fact(NB)/(fact(ntest)*fact(NB-ntest)))\nprint(sigma1)                                                       ",
    "id": "c4b9ecb5524a42b9815ff5a337a7cb27",
    "idx": 6,
    "time": "2021-02-16T02:12:39.969Z",
    "type": "execution"
   },
   {
    "id": "c4b9ecb5524a42b9815ff5a337a7cb27",
    "time": "2021-02-16T02:12:40.052Z",
    "type": "completion"
   },
   {
    "code": "def F(tau,n):\n    sigma = np.log(fact(NA)/(fact(ntest)*fact(NA-ntest))) + np.log(fact(NB)/(fact(ntest)*fact(NB-ntest)))\n    return 2*n -tau*sigma",
    "id": "ce12fcc2016a4f9095ec132f016f6fc9",
    "idx": 7,
    "time": "2021-02-16T02:16:17.983Z",
    "type": "execution"
   },
   {
    "id": "ce12fcc2016a4f9095ec132f016f6fc9",
    "time": "2021-02-16T02:16:18.042Z",
    "type": "completion"
   },
   {
    "code": "def F(tau,n):\n    sigma = np.log(fact(NA)/(fact(ntest)*fact(NA-ntest))) + np.log(fact(NB)/(fact(ntest)*fact(NB-ntest)))\n    return 2*n -tau*sigma",
    "id": "ce12fcc2016a4f9095ec132f016f6fc9",
    "idx": 7,
    "time": "2021-02-16T02:16:22.215Z",
    "type": "execution"
   },
   {
    "id": "ce12fcc2016a4f9095ec132f016f6fc9",
    "time": "2021-02-16T02:16:22.276Z",
    "type": "completion"
   },
   {
    "code": "print F(0.5, 500)",
    "id": "6a000563db5f43a7a4343ccae0a369c7",
    "idx": 8,
    "time": "2021-02-16T02:16:56.488Z",
    "type": "execution"
   },
   {
    "id": "6a000563db5f43a7a4343ccae0a369c7",
    "time": "2021-02-16T02:16:56.564Z",
    "type": "completion"
   },
   {
    "code": "print() F(0.5, 500))",
    "id": "6a000563db5f43a7a4343ccae0a369c7",
    "idx": 8,
    "time": "2021-02-16T02:17:12.261Z",
    "type": "execution"
   },
   {
    "id": "6a000563db5f43a7a4343ccae0a369c7",
    "time": "2021-02-16T02:17:12.321Z",
    "type": "completion"
   },
   {
    "code": "print() F(0.5, 500))",
    "id": "6a000563db5f43a7a4343ccae0a369c7",
    "idx": 8,
    "time": "2021-02-16T02:17:19.426Z",
    "type": "execution"
   },
   {
    "id": "6a000563db5f43a7a4343ccae0a369c7",
    "time": "2021-02-16T02:17:19.502Z",
    "type": "completion"
   },
   {
    "code": "print(F(0.5, 500))",
    "id": "6a000563db5f43a7a4343ccae0a369c7",
    "idx": 8,
    "time": "2021-02-16T02:17:48.270Z",
    "type": "execution"
   },
   {
    "id": "6a000563db5f43a7a4343ccae0a369c7",
    "time": "2021-02-16T02:17:48.328Z",
    "type": "completion"
   },
   {
    "code": "print(F(0.5, 100))",
    "id": "6a000563db5f43a7a4343ccae0a369c7",
    "idx": 8,
    "time": "2021-02-16T02:17:58.921Z",
    "type": "execution"
   },
   {
    "id": "6a000563db5f43a7a4343ccae0a369c7",
    "time": "2021-02-16T02:17:58.982Z",
    "type": "completion"
   },
   {
    "code": "print(F(0.5, 500))",
    "id": "6a000563db5f43a7a4343ccae0a369c7",
    "idx": 8,
    "time": "2021-02-16T02:18:05.272Z",
    "type": "execution"
   },
   {
    "id": "6a000563db5f43a7a4343ccae0a369c7",
    "time": "2021-02-16T02:18:05.331Z",
    "type": "completion"
   },
   {
    "code": "print(F(0.5, 600))",
    "id": "6a000563db5f43a7a4343ccae0a369c7",
    "idx": 8,
    "time": "2021-02-16T02:18:13.069Z",
    "type": "execution"
   },
   {
    "id": "6a000563db5f43a7a4343ccae0a369c7",
    "time": "2021-02-16T02:18:13.130Z",
    "type": "completion"
   },
   {
    "code": "print(F(0.5, 1000))",
    "id": "6a000563db5f43a7a4343ccae0a369c7",
    "idx": 8,
    "time": "2021-02-16T02:18:23.733Z",
    "type": "execution"
   },
   {
    "id": "6a000563db5f43a7a4343ccae0a369c7",
    "time": "2021-02-16T02:18:23.800Z",
    "type": "completion"
   },
   {
    "code": "print(F(0.5, 1100))",
    "id": "6a000563db5f43a7a4343ccae0a369c7",
    "idx": 8,
    "time": "2021-02-16T02:18:30.634Z",
    "type": "execution"
   },
   {
    "id": "6a000563db5f43a7a4343ccae0a369c7",
    "time": "2021-02-16T02:18:30.697Z",
    "type": "completion"
   },
   {
    "code": "print(F(0.5, 1000))",
    "id": "6a000563db5f43a7a4343ccae0a369c7",
    "idx": 8,
    "time": "2021-02-16T02:18:36.152Z",
    "type": "execution"
   },
   {
    "id": "6a000563db5f43a7a4343ccae0a369c7",
    "time": "2021-02-16T02:18:36.212Z",
    "type": "completion"
   },
   {
    "code": "def F(tau,n):\n    sigma = np.log(fact(NA)/(fact(ntest)*fact(NA-ntest))) + np.log(fact(NB)/(fact(ntest)*fact(NB-ntest)))\n    return 2*n -tau*sigma\nz2d=F(tau,N)",
    "id": "ce12fcc2016a4f9095ec132f016f6fc9",
    "idx": 7,
    "time": "2021-02-16T02:20:13.346Z",
    "type": "execution"
   },
   {
    "id": "ce12fcc2016a4f9095ec132f016f6fc9",
    "time": "2021-02-16T02:20:13.452Z",
    "type": "completion"
   },
   {
    "code": "def F(tau,n):\n    sigma = np.log(fact(NA)/(fact(ntest)*fact(NA-ntest))) + np.log(fact(NB)/(fact(ntest)*fact(NB-ntest)))\n    return 2*n -tau*sigma\nz = F(tau,N)",
    "id": "ce12fcc2016a4f9095ec132f016f6fc9",
    "idx": 7,
    "time": "2021-02-16T02:20:32.870Z",
    "type": "execution"
   },
   {
    "id": "ce12fcc2016a4f9095ec132f016f6fc9",
    "time": "2021-02-16T02:20:32.972Z",
    "type": "completion"
   },
   {
    "code": "def F(tau,n):\n    sigma = np.log(fact(NA)/(fact(ntest)*fact(NA-ntest))) + np.log(fact(NB)/(fact(ntest)*fact(NB-ntest)))\n    return 2*n -tau*sigma\nz = F(tau,n)",
    "id": "ce12fcc2016a4f9095ec132f016f6fc9",
    "idx": 7,
    "time": "2021-02-16T02:21:07.707Z",
    "type": "execution"
   },
   {
    "id": "ce12fcc2016a4f9095ec132f016f6fc9",
    "time": "2021-02-16T02:21:07.804Z",
    "type": "completion"
   },
   {
    "code": "print(F(0.5, 1000))",
    "id": "6a000563db5f43a7a4343ccae0a369c7",
    "idx": 8,
    "time": "2021-02-16T02:21:09.820Z",
    "type": "execution"
   },
   {
    "id": "6a000563db5f43a7a4343ccae0a369c7",
    "time": "2021-02-16T02:21:11.661Z",
    "type": "completion"
   },
   {
    "code": "def F(tau,n):\n    sigma = np.log(fact(NA)/(fact(ntest)*fact(NA-ntest))) + np.log(fact(NB)/(fact(ntest)*fact(NB-ntest)))\n    return 2*n -tau*sigma\nz = F(tau,ntest",
    "id": "ce12fcc2016a4f9095ec132f016f6fc9",
    "idx": 7,
    "time": "2021-02-16T02:21:22.698Z",
    "type": "execution"
   },
   {
    "id": "ce12fcc2016a4f9095ec132f016f6fc9",
    "time": "2021-02-16T02:21:22.767Z",
    "type": "completion"
   },
   {
    "code": "def F(tau,n):\n    sigma = np.log(fact(NA)/(fact(ntest)*fact(NA-ntest))) + np.log(fact(NB)/(fact(ntest)*fact(NB-ntest)))\n    return 2*n -tau*sigma\nz = F(tau,ntest",
    "id": "ce12fcc2016a4f9095ec132f016f6fc9",
    "idx": 7,
    "time": "2021-02-16T02:21:26.399Z",
    "type": "execution"
   },
   {
    "id": "ce12fcc2016a4f9095ec132f016f6fc9",
    "time": "2021-02-16T02:21:26.519Z",
    "type": "completion"
   },
   {
    "code": "def F(tau,n):\n    sigma = np.log(fact(NA)/(fact(ntest)*fact(NA-ntest))) + np.log(fact(NB)/(fact(ntest)*fact(NB-ntest)))\n    return 2*n -tau*sigma\nz = F(tau,ntest)",
    "id": "ce12fcc2016a4f9095ec132f016f6fc9",
    "idx": 7,
    "time": "2021-02-16T02:21:34.249Z",
    "type": "execution"
   },
   {
    "id": "ce12fcc2016a4f9095ec132f016f6fc9",
    "time": "2021-02-16T02:21:34.369Z",
    "type": "completion"
   },
   {
    "code": "def F(tau,n):\n    sigma = np.log(fact(NA)/(fact(ntest)*fact(NA-ntest))) + np.log(fact(NB)/(fact(ntest)*fact(NB-ntest)))\n    return 2*n - tau*sigma\nz = F(tau,ntest)",
    "id": "ce12fcc2016a4f9095ec132f016f6fc9",
    "idx": 7,
    "time": "2021-02-16T02:22:25.279Z",
    "type": "execution"
   },
   {
    "id": "ce12fcc2016a4f9095ec132f016f6fc9",
    "time": "2021-02-16T02:22:25.389Z",
    "type": "completion"
   },
   {
    "code": "def F(tau,n):\n    sigma = np.log(fact(NA)/(fact(ntest)*fact(NA-ntest))) + np.log(fact(NB)/(fact(ntest)*fact(NB-ntest)))\n    return 2*n - tau*sigma\nz = F(tau,n)",
    "id": "ce12fcc2016a4f9095ec132f016f6fc9",
    "idx": 7,
    "time": "2021-02-16T02:23:30.949Z",
    "type": "execution"
   },
   {
    "id": "ce12fcc2016a4f9095ec132f016f6fc9",
    "time": "2021-02-16T02:23:31.072Z",
    "type": "completion"
   },
   {
    "code": "def F(tautest,ntest):\n    sigma = np.log(fact(NA)/(fact(ntest)*fact(NA-ntest))) + np.log(fact(NB)/(fact(ntest)*fact(NB-ntest)))\n    return 2*ntest - tautest*sigma\nz = F(tau,n)",
    "id": "ce12fcc2016a4f9095ec132f016f6fc9",
    "idx": 7,
    "time": "2021-02-16T02:24:23.311Z",
    "type": "execution"
   },
   {
    "id": "ce12fcc2016a4f9095ec132f016f6fc9",
    "time": "2021-02-16T02:24:23.455Z",
    "type": "completion"
   },
   {
    "code": "import numpy as np\nimport math as math\nimport scipy.stats as st\nimport matplotlib.pyplot as plt\n\nN = 1000\nn = []\nfor i in range((N//3)):\n    n.append(i)\n#print(f'n = {n}')\ntau = []\nfor i in range((1000)):\n    tau.append(i/1000)\n#print(f'tau = {tau}')\nfact= math.factorial\nNA = 1000\nNB = 1000\nntest = 500\ndef sigma(ntest, NA, NB): \n    return np.log(fact(NA)/(fact(ntest)*fact(NA-ntest))) + np.log(fact(NB)/(fact(ntest)*fact(NB-ntest)))\nprint(sigma(500,1000,1000))                                                       ",
    "id": "c4b9ecb5524a42b9815ff5a337a7cb27",
    "idx": 6,
    "time": "2021-02-16T02:26:18.121Z",
    "type": "execution"
   },
   {
    "id": "c4b9ecb5524a42b9815ff5a337a7cb27",
    "time": "2021-02-16T02:26:18.202Z",
    "type": "completion"
   },
   {
    "code": "import numpy as np\nimport math as math\nimport scipy.stats as st\nimport matplotlib.pyplot as plt\n\nN = 1000\nn = []\nfor i in range((N//3)):\n    n.append(i)\n#print(f'n = {n}')\ntau = []\nfor i in range((1000)):\n    tau.append(i/1000)\n#print(f'tau = {tau}')\nfact= math.factorial\nNA = 1000\nNB = 1000\nntest = 500\ndef sigma(ntest, NA, NB): \n    return np.log(fact(NA)/(fact(ntest)*fact(NA-ntest))) + np.log(fact(NB)/(fact(ntest)*fact(NB-ntest)))\nprint(sigma(500,1000,1000))                                                       ",
    "id": "c4b9ecb5524a42b9815ff5a337a7cb27",
    "idx": 6,
    "time": "2021-02-16T02:26:22.617Z",
    "type": "execution"
   },
   {
    "id": "c4b9ecb5524a42b9815ff5a337a7cb27",
    "time": "2021-02-16T02:26:22.693Z",
    "type": "completion"
   },
   {
    "code": "def F(tautest,ntest, NA, NB):\n    return 2*ntest - tautest*sigma(ntest, NA,NB)\nprint F(0.5,500,1000,1000)",
    "id": "ce12fcc2016a4f9095ec132f016f6fc9",
    "idx": 7,
    "time": "2021-02-16T02:27:50.413Z",
    "type": "execution"
   },
   {
    "id": "ce12fcc2016a4f9095ec132f016f6fc9",
    "time": "2021-02-16T02:27:50.499Z",
    "type": "completion"
   },
   {
    "code": "def F(tautest,ntest, NA, NB):\n    return 2*ntest - tautest*sigma(ntest, NA,NB)\nprint F(0.5,500,1000,1000)",
    "id": "ce12fcc2016a4f9095ec132f016f6fc9",
    "idx": 7,
    "time": "2021-02-16T02:27:55.954Z",
    "type": "execution"
   },
   {
    "id": "ce12fcc2016a4f9095ec132f016f6fc9",
    "time": "2021-02-16T02:27:56.044Z",
    "type": "completion"
   },
   {
    "code": "def F(tautest,ntest, NA, NB):\n    return 2*ntest - tautest*sigma(ntest, NA,NB)\nprint( F(0.5,500,1000,1000))",
    "id": "ce12fcc2016a4f9095ec132f016f6fc9",
    "idx": 7,
    "time": "2021-02-16T02:28:16.958Z",
    "type": "execution"
   },
   {
    "id": "ce12fcc2016a4f9095ec132f016f6fc9",
    "time": "2021-02-16T02:28:17.031Z",
    "type": "completion"
   },
   {
    "code": "def F(tautest,ntest, NA, NB):\n    return 2*ntest - tautest*sigma(ntest, NA,NB)\nprint( F(0.4,500,1000,1000))",
    "id": "ce12fcc2016a4f9095ec132f016f6fc9",
    "idx": 7,
    "time": "2021-02-16T02:28:24.882Z",
    "type": "execution"
   },
   {
    "id": "ce12fcc2016a4f9095ec132f016f6fc9",
    "time": "2021-02-16T02:28:24.976Z",
    "type": "completion"
   },
   {
    "code": "def F(tautest,ntest, NA, NB):\n    return 2*ntest - tautest*sigma(ntest, NA,NB)\nprint( F(0.2,500,1000,1000))",
    "id": "ce12fcc2016a4f9095ec132f016f6fc9",
    "idx": 7,
    "time": "2021-02-16T02:28:29.977Z",
    "type": "execution"
   },
   {
    "id": "ce12fcc2016a4f9095ec132f016f6fc9",
    "time": "2021-02-16T02:28:30.083Z",
    "type": "completion"
   },
   {
    "code": "def F(tautest,ntest, NA, NB):\n    return 2*ntest - tautest*sigma(ntest, NA,NB)\nprint( F(0.5,500,1000,1000))",
    "id": "ce12fcc2016a4f9095ec132f016f6fc9",
    "idx": 7,
    "time": "2021-02-16T02:28:39.508Z",
    "type": "execution"
   },
   {
    "id": "ce12fcc2016a4f9095ec132f016f6fc9",
    "time": "2021-02-16T02:28:39.609Z",
    "type": "completion"
   },
   {
    "code": "from mpl_toolkits.mplot3d import Axes3D\n\nfig = plt.figure(figsize=(8,8)) #create figure object to hold the plot\nax = Axes3D(fig) #create Axes3D object to display the plot\nax.plot_surface(tau, n, F(tau,n,NA,NB))\nax.set_xlabel(\"$x$\")\nax.set_ylabel(\"$y$\")\nax.set_zlabel(\"$f(x,y)$\")",
    "id": "0a29fcccbc7e430381d529067f749476",
    "idx": 9,
    "time": "2021-02-16T02:30:53.557Z",
    "type": "execution"
   },
   {
    "id": "0a29fcccbc7e430381d529067f749476",
    "time": "2021-02-16T02:30:54.224Z",
    "type": "completion"
   },
   {
    "code": "def F(tautest,ntest, NA, NB):\n    return 2*ntest - tautest*sigma(ntest, NA,NB)\nprint( F(0.5,500,1000,1000))",
    "id": "ce12fcc2016a4f9095ec132f016f6fc9",
    "idx": 7,
    "time": "2021-02-16T02:32:17.456Z",
    "type": "execution"
   },
   {
    "id": "ce12fcc2016a4f9095ec132f016f6fc9",
    "time": "2021-02-16T02:32:17.586Z",
    "type": "completion"
   },
   {
    "code": "from mpl_toolkits.mplot3d import Axes3D\n\nfig = plt.figure(figsize=(8,8)) #create figure object to hold the plot\nax = Axes3D(fig) #create Axes3D object to display the plot\nax.plot_surface(tau, n, F(tau,n,NA,NB))\nax.set_xlabel(\"$x$\")\nax.set_ylabel(\"$y$\")\nax.set_zlabel(\"$f(x,y)$\")",
    "id": "0a29fcccbc7e430381d529067f749476",
    "idx": 9,
    "time": "2021-02-16T02:32:23.748Z",
    "type": "execution"
   },
   {
    "id": "0a29fcccbc7e430381d529067f749476",
    "time": "2021-02-16T02:32:24.993Z",
    "type": "completion"
   },
   {
    "code": "import numpy as np\nimport math as math\nimport scipy.stats as st\nimport matplotlib.pyplot as plt\n\nN = 1000\nn = []\nfor i in range((N//3)):\n    n.append(i)\n#print(f'n = {n}')\ntau = []\nfor i in range((1000)):\n    tau.append(i/1000)\n#print(f'tau = {tau}')\nfact= math.factorial\nNA = 1000\nNB = 1000\nntest = 500\ndef sigma(ntest, NA, NB): \n    return np.log(fact(NA)/(fact(ntest)*fact(NA-ntest))) + np.log(fact(NB)/(fact(ntest)*fact(NB-ntest)))\nprint(sigma(500,1000,1000))                                                       ",
    "id": "c4b9ecb5524a42b9815ff5a337a7cb27",
    "idx": 6,
    "time": "2021-02-16T02:32:30.443Z",
    "type": "execution"
   },
   {
    "id": "c4b9ecb5524a42b9815ff5a337a7cb27",
    "time": "2021-02-16T02:32:30.553Z",
    "type": "completion"
   },
   {
    "code": "def F(tautest,ntest, NA, NB):\n    return 2*ntest - tautest*sigma(ntest, NA,NB)\nprint( F(0.5,500,1000,1000))",
    "id": "ce12fcc2016a4f9095ec132f016f6fc9",
    "idx": 7,
    "time": "2021-02-16T02:32:31.514Z",
    "type": "execution"
   },
   {
    "id": "ce12fcc2016a4f9095ec132f016f6fc9",
    "time": "2021-02-16T02:32:31.603Z",
    "type": "completion"
   },
   {
    "code": "from mpl_toolkits.mplot3d import Axes3D\n\nfig = plt.figure(figsize=(8,8)) #create figure object to hold the plot\nax = Axes3D(fig) #create Axes3D object to display the plot\nax.plot_surface(tau, n, F(tau,n,NA,NB))\nax.set_xlabel(\"$x$\")\nax.set_ylabel(\"$y$\")\nax.set_zlabel(\"$f(x,y)$\")",
    "id": "0a29fcccbc7e430381d529067f749476",
    "idx": 9,
    "time": "2021-02-16T02:32:33.583Z",
    "type": "execution"
   },
   {
    "id": "0a29fcccbc7e430381d529067f749476",
    "time": "2021-02-16T02:32:34.970Z",
    "type": "completion"
   },
   {
    "code": "#x = np.linspace(0, 1, N_x)\n#y = np.linspace(-3, 1, N_y)\n\nx_2d, y_2d = np.meshgrid(tau,n)\nx_2d.shape, y_2d.shape",
    "id": "6a000563db5f43a7a4343ccae0a369c7",
    "idx": 8,
    "time": "2021-02-16T02:43:29.712Z",
    "type": "execution"
   },
   {
    "id": "6a000563db5f43a7a4343ccae0a369c7",
    "time": "2021-02-16T02:43:29.884Z",
    "type": "completion"
   },
   {
    "code": "#x = np.linspace(0, 1, N_x)\n#y = np.linspace(-3, 1, N_y)\n\nx_2d, y_2d = np.meshgrid(tau,n)\nz2d=F(x_2d,y_2d,NA,NB)\nshape(z2d)",
    "id": "6a000563db5f43a7a4343ccae0a369c7",
    "idx": 8,
    "time": "2021-02-16T02:45:47.182Z",
    "type": "execution"
   },
   {
    "id": "6a000563db5f43a7a4343ccae0a369c7",
    "time": "2021-02-16T02:45:47.460Z",
    "type": "completion"
   },
   {
    "code": "#x = np.linspace(0, 1, N_x)\n#y = np.linspace(-3, 1, N_y)\n\nx_2d, y_2d = np.meshgrid(tau,n)\nz2d=F(x_2d,y_2d,NA,NB)\nz2d.shape",
    "id": "6a000563db5f43a7a4343ccae0a369c7",
    "idx": 8,
    "time": "2021-02-16T02:46:48.908Z",
    "type": "execution"
   },
   {
    "id": "6a000563db5f43a7a4343ccae0a369c7",
    "time": "2021-02-16T02:46:49.185Z",
    "type": "completion"
   },
   {
    "code": "def F(tautest,ntest, NA, NB):\n    return 2*ntest - tautest*sigma(ntest, NA,NB)\nprint( F(0.5,500,1000,1000))",
    "id": "ce12fcc2016a4f9095ec132f016f6fc9",
    "idx": 7,
    "time": "2021-02-16T02:47:48.914Z",
    "type": "execution"
   },
   {
    "id": "ce12fcc2016a4f9095ec132f016f6fc9",
    "time": "2021-02-16T02:47:49.016Z",
    "type": "completion"
   },
   {
    "code": "#x = np.linspace(0, 1, N_x)\n#y = np.linspace(-3, 1, N_y)\n\nx_2d, y_2d = np.meshgrid(tau,n)\nz2d = F(x_2d,y_2d,NA,NB)\nz2d.shape",
    "id": "6a000563db5f43a7a4343ccae0a369c7",
    "idx": 8,
    "time": "2021-02-16T02:47:53.490Z",
    "type": "execution"
   },
   {
    "id": "6a000563db5f43a7a4343ccae0a369c7",
    "time": "2021-02-16T02:47:53.597Z",
    "type": "completion"
   },
   {
    "code": "import numpy as np\nimport math as math\nimport scipy.stats as st\nimport matplotlib.pyplot as plt\n\nN = 1000\nn = []\nfor i in range((N//3)):\n    n.append(i)\n#print(f'n = {n}')\ntau = []\nfor i in range((1000)):\n    tau.append(i/1000)\n#print(f'tau = {tau}')\nfact= math.factorial\nNA = 1000\nNB = 1000\nntest = 500\ndef sigma(ntest, NA, NB): \n    return np.log(fact(NA)/(fact(ntest)*fact(NA-ntest))) + np.log(fact(NB)/(fact(ntest)*fact(NB-ntest)))\nprint(sigma(500,1000,1000))                                                       ",
    "id": "c4b9ecb5524a42b9815ff5a337a7cb27",
    "idx": 6,
    "time": "2021-02-16T02:47:58.498Z",
    "type": "execution"
   },
   {
    "id": "c4b9ecb5524a42b9815ff5a337a7cb27",
    "time": "2021-02-16T02:47:58.608Z",
    "type": "completion"
   },
   {
    "code": "def F(tautest,ntest, NA, NB):\n    return 2*ntest - tautest*sigma(ntest, NA,NB)\nprint( F(0.5,500,1000,1000))",
    "id": "ce12fcc2016a4f9095ec132f016f6fc9",
    "idx": 7,
    "time": "2021-02-16T02:47:59.246Z",
    "type": "execution"
   },
   {
    "id": "ce12fcc2016a4f9095ec132f016f6fc9",
    "time": "2021-02-16T02:47:59.346Z",
    "type": "completion"
   },
   {
    "code": "#x = np.linspace(0, 1, N_x)\n#y = np.linspace(-3, 1, N_y)\n\nx_2d, y_2d = np.meshgrid(tau,n)\nz2d = F(x_2d,y_2d,NA,NB)\nz2d.shape",
    "id": "6a000563db5f43a7a4343ccae0a369c7",
    "idx": 8,
    "time": "2021-02-16T02:48:00.016Z",
    "type": "execution"
   },
   {
    "id": "6a000563db5f43a7a4343ccae0a369c7",
    "time": "2021-02-16T02:48:00.194Z",
    "type": "completion"
   },
   {
    "code": "#x = np.linspace(0, 1, N_x)\n#y = np.linspace(-3, 1, N_y)\n\nx_2d, y_2d = np.meshgrid(tau,n)\nx2d.shape\nz2d = F(x_2d,y_2d,NA,NB)\n\nz2d.shape",
    "id": "6a000563db5f43a7a4343ccae0a369c7",
    "idx": 8,
    "time": "2021-02-16T02:48:43.902Z",
    "type": "execution"
   },
   {
    "id": "6a000563db5f43a7a4343ccae0a369c7",
    "time": "2021-02-16T02:48:44.034Z",
    "type": "completion"
   },
   {
    "code": "#x = np.linspace(0, 1, N_x)\n#y = np.linspace(-3, 1, N_y)\n\nx_2d, y_2d = np.meshgrid(tau,n)\nx_2d.shape\nz2d = F(x_2d,y_2d,NA,NB)\n\nz2d.shape",
    "id": "6a000563db5f43a7a4343ccae0a369c7",
    "idx": 8,
    "time": "2021-02-16T02:49:07.412Z",
    "type": "execution"
   },
   {
    "id": "6a000563db5f43a7a4343ccae0a369c7",
    "time": "2021-02-16T02:49:07.790Z",
    "type": "completion"
   },
   {
    "code": "#x = np.linspace(0, 1, N_x)\n#y = np.linspace(-3, 1, N_y)\n\nx_2d, y_2d = np.meshgrid(tau,n)\nx_2d.shape\n#z2d = F(x_2d,y_2d,NA,NB)\nz_2d.shape",
    "id": "6a000563db5f43a7a4343ccae0a369c7",
    "idx": 8,
    "time": "2021-02-16T02:49:34.319Z",
    "type": "execution"
   },
   {
    "id": "6a000563db5f43a7a4343ccae0a369c7",
    "time": "2021-02-16T02:49:34.442Z",
    "type": "completion"
   },
   {
    "code": "#x = np.linspace(0, 1, N_x)\n#y = np.linspace(-3, 1, N_y)\n\nx_2d, y_2d = np.meshgrid(tau,n)\nx_2d.shape\n#z2d = F(x_2d,y_2d,NA,NB)\n#z_2d.shape",
    "id": "6a000563db5f43a7a4343ccae0a369c7",
    "idx": 8,
    "time": "2021-02-16T02:49:45.036Z",
    "type": "execution"
   },
   {
    "id": "6a000563db5f43a7a4343ccae0a369c7",
    "time": "2021-02-16T02:49:45.175Z",
    "type": "completion"
   },
   {
    "code": "#x = np.linspace(0, 1, N_x)\n#y = np.linspace(-3, 1, N_y)\n\nx_2d, y_2d = np.meshgrid(tau,n)\nx_2d.shape\nz_2d = F(x_2d,y_2d,NA,NB)\n#z_2d.shape",
    "id": "6a000563db5f43a7a4343ccae0a369c7",
    "idx": 8,
    "time": "2021-02-16T02:50:04.615Z",
    "type": "execution"
   },
   {
    "id": "6a000563db5f43a7a4343ccae0a369c7",
    "time": "2021-02-16T02:50:04.747Z",
    "type": "completion"
   },
   {
    "code": "#x = np.linspace(0, 1, N_x)\n#y = np.linspace(-3, 1, N_y)\n\nx_2d, y_2d = np.meshgrid(tau,n)\nx_2d.shape\n#z_2d = F(x_2d,y_2d,NA,NB)\n#z_2d.shape",
    "id": "6a000563db5f43a7a4343ccae0a369c7",
    "idx": 8,
    "time": "2021-02-16T02:54:33.257Z",
    "type": "execution"
   },
   {
    "id": "6a000563db5f43a7a4343ccae0a369c7",
    "time": "2021-02-16T02:54:33.360Z",
    "type": "completion"
   },
   {
    "code": "#x = np.linspace(0, 1, N_x)\n#y = np.linspace(-3, 1, N_y)\n\nx_2d, y_2d = np.meshgrid(tau,n)\nx_2d.shape\nprint(x_2d)\n#z_2d = F(x_2d,y_2d,NA,NB)\n#z_2d.shape",
    "id": "6a000563db5f43a7a4343ccae0a369c7",
    "idx": 8,
    "time": "2021-02-16T02:54:59.809Z",
    "type": "execution"
   },
   {
    "id": "6a000563db5f43a7a4343ccae0a369c7",
    "time": "2021-02-16T02:54:59.937Z",
    "type": "completion"
   },
   {
    "code": "#x = np.linspace(0, 1, N_x)\n#y = np.linspace(-3, 1, N_y)\n\nx_2d, y_2d = np.meshgrid(tau,n)\nx_2d.shape\nprint(x_2d)\nprint(y_2d)\n#z_2d = F(x_2d,y_2d,NA,NB)\n#z_2d.shape",
    "id": "6a000563db5f43a7a4343ccae0a369c7",
    "idx": 8,
    "time": "2021-02-16T02:55:38.578Z",
    "type": "execution"
   },
   {
    "id": "6a000563db5f43a7a4343ccae0a369c7",
    "time": "2021-02-16T02:55:38.661Z",
    "type": "completion"
   },
   {
    "code": "import numpy as np\nimport math as math\nimport scipy.stats as st\nimport matplotlib.pyplot as plt\n\nN = 1000\nn = []\nfor i in range((N//3)):\n    n.append(i/1.0)\n\ntau = []\nfor i in range((1000)):\n    tau.append(i/1000)\n#print(f'tau = {tau}')\nfact= math.factorial\nNA = 1000\nNB = 1000\nntest = 500\ndef sigma(ntest, NA, NB): \n    return np.log(fact(NA)/(fact(ntest)*fact(NA-ntest))) + np.log(fact(NB)/(fact(ntest)*fact(NB-ntest)))\nprint(sigma(500,1000,1000))                                                       ",
    "id": "c4b9ecb5524a42b9815ff5a337a7cb27",
    "idx": 6,
    "time": "2021-02-16T02:58:56.392Z",
    "type": "execution"
   },
   {
    "id": "c4b9ecb5524a42b9815ff5a337a7cb27",
    "time": "2021-02-16T02:58:56.521Z",
    "type": "completion"
   },
   {
    "code": "def F(tautest,ntest, NA, NB):\n    return 2*ntest - tautest*sigma(ntest, NA,NB)\nprint( F(0.5,500,1000,1000))",
    "id": "ce12fcc2016a4f9095ec132f016f6fc9",
    "idx": 7,
    "time": "2021-02-16T02:59:04.646Z",
    "type": "execution"
   },
   {
    "id": "ce12fcc2016a4f9095ec132f016f6fc9",
    "time": "2021-02-16T02:59:04.770Z",
    "type": "completion"
   },
   {
    "code": "#x = np.linspace(0, 1, N_x)\n#y = np.linspace(-3, 1, N_y)\n\nx_2d, y_2d = np.meshgrid(tau,n)\nx_2d.shape\nprint(x_2d)\nprint(y_2d)\n#z_2d = F(x_2d,y_2d,NA,NB)\n#z_2d.shape",
    "id": "6a000563db5f43a7a4343ccae0a369c7",
    "idx": 8,
    "time": "2021-02-16T02:59:07.037Z",
    "type": "execution"
   },
   {
    "id": "6a000563db5f43a7a4343ccae0a369c7",
    "time": "2021-02-16T02:59:07.180Z",
    "type": "completion"
   },
   {
    "code": "from mpl_toolkits.mplot3d import Axes3D\n\nfig = plt.figure(figsize=(8,8)) #create figure object to hold the plot\nax = Axes3D(fig) #create Axes3D object to display the plot\nax.plot_surface(tau, n, F(tau,n,NA,NB))\nax.set_xlabel(\"$x$\")\nax.set_ylabel(\"$y$\")\nax.set_zlabel(\"$f(x,y)$\")",
    "id": "0a29fcccbc7e430381d529067f749476",
    "idx": 9,
    "time": "2021-02-16T02:59:14.755Z",
    "type": "execution"
   },
   {
    "id": "0a29fcccbc7e430381d529067f749476",
    "time": "2021-02-16T02:59:15.379Z",
    "type": "completion"
   },
   {
    "code": "import numpy as np\nimport math as math\nimport scipy.stats as st\nimport matplotlib.pyplot as plt\n\nN = 1000\nn = []\nfor i in range((N//3)):\n    n.append(i/1.0)\n\ntau = []\nfor i in range((1000)):\n    tau.append(i/1000)\n\nfact= math.factorial\nNA = 1000\nNB = 1000\nntest = 500\ndef sigma(ntest, NA, NB): \n    return np.log(fact(NA)/(fact(ntest)*fact(NA-ntest))) + np.log(fact(NB)/(fact(ntest)*fact(NB-ntest)))\n                                                       ",
    "id": "c4b9ecb5524a42b9815ff5a337a7cb27",
    "idx": 6,
    "time": "2021-02-16T02:59:58.529Z",
    "type": "execution"
   },
   {
    "id": "c4b9ecb5524a42b9815ff5a337a7cb27",
    "time": "2021-02-16T02:59:58.647Z",
    "type": "completion"
   },
   {
    "code": "def F(tautest,ntest, NA, NB):\n    return 2*ntest - tautest*sigma(ntest, NA,NB)\nprint( F(0.5,500,1000,1000))",
    "id": "ce12fcc2016a4f9095ec132f016f6fc9",
    "idx": 7,
    "time": "2021-02-16T03:00:02.296Z",
    "type": "execution"
   },
   {
    "id": "ce12fcc2016a4f9095ec132f016f6fc9",
    "time": "2021-02-16T03:00:02.898Z",
    "type": "completion"
   },
   {
    "code": "#x = np.linspace(0, 1, N_x)\n#y = np.linspace(-3, 1, N_y)\n\nx_2d, y_2d = np.meshgrid(tau,n)\nx_2d.shape\nprint(x_2d)\nprint(y_2d)\nz_2d = F(x_2d,y_2d,NA,NB)\n#z_2d.shape",
    "id": "6a000563db5f43a7a4343ccae0a369c7",
    "idx": 8,
    "time": "2021-02-16T03:00:11.184Z",
    "type": "execution"
   },
   {
    "id": "6a000563db5f43a7a4343ccae0a369c7",
    "time": "2021-02-16T03:00:11.407Z",
    "type": "completion"
   },
   {
    "code": "#x = np.linspace(0, 1, N_x)\n#y = np.linspace(-3, 1, N_y)\n\nx_2d, y_2d = np.meshgrid(tau,n)\nx_2d.shape\n#print(x_2d)\n#print(y_2d)\nz_2d = F(x_2d,y_2d,NA,NB)\n#z_2d.shape",
    "id": "6a000563db5f43a7a4343ccae0a369c7",
    "idx": 8,
    "time": "2021-02-16T03:00:32.152Z",
    "type": "execution"
   },
   {
    "id": "6a000563db5f43a7a4343ccae0a369c7",
    "time": "2021-02-16T03:00:32.349Z",
    "type": "completion"
   },
   {
    "code": "def F(tautest,ntest, NA, NB):\n    return 2*ntest - tautest*sigma(ntest, NA,NB)\n#print( F(0.5,500,1000,1000))",
    "id": "ce12fcc2016a4f9095ec132f016f6fc9",
    "idx": 7,
    "time": "2021-02-16T03:01:21.909Z",
    "type": "execution"
   },
   {
    "id": "ce12fcc2016a4f9095ec132f016f6fc9",
    "time": "2021-02-16T03:01:21.993Z",
    "type": "completion"
   },
   {
    "code": "#x = np.linspace(0, 1, N_x)\n#y = np.linspace(-3, 1, N_y)\n\nx_2d, y_2d = np.meshgrid(tau,n)\nx_2d.shape\n#print(x_2d)\n#print(y_2d)\nz_2d = F(x_2d,y_2d,NA,NB)\n#z_2d.shape",
    "id": "6a000563db5f43a7a4343ccae0a369c7",
    "idx": 8,
    "time": "2021-02-16T03:01:22.868Z",
    "type": "execution"
   },
   {
    "id": "6a000563db5f43a7a4343ccae0a369c7",
    "time": "2021-02-16T03:01:22.968Z",
    "type": "completion"
   },
   {
    "code": "#x = np.linspace(0, 1, N_x)\n#y = np.linspace(-3, 1, N_y)\n\nx_2d, y_2d = np.meshgrid(tau,n)\nx_2d.shape\n#print(x_2d)\n#print(y_2d)\nz_2d = F(x_2d,y_2d,NA,NB)\n#z_2d.shape",
    "id": "6a000563db5f43a7a4343ccae0a369c7",
    "idx": 8,
    "time": "2021-02-16T03:03:39.322Z",
    "type": "execution"
   },
   {
    "id": "6a000563db5f43a7a4343ccae0a369c7",
    "time": "2021-02-16T03:03:39.650Z",
    "type": "completion"
   },
   {
    "code": "#x = np.linspace(0, 1, N_x)\n#y = np.linspace(-3, 1, N_y)\n\nx_2d, y_2d = np.meshgrid(tau,n)\nx_2d.shape\nprint(x_2d[0,0])\n#print(y_2d)\n#z_2d = F(x_2d,y_2d,NA,NB)\n#z_2d.shape",
    "id": "6a000563db5f43a7a4343ccae0a369c7",
    "idx": 8,
    "time": "2021-02-16T03:06:16.640Z",
    "type": "execution"
   },
   {
    "id": "6a000563db5f43a7a4343ccae0a369c7",
    "time": "2021-02-16T03:06:16.790Z",
    "type": "completion"
   },
   {
    "code": "#x = np.linspace(0, 1, N_x)\n#y = np.linspace(-3, 1, N_y)\n\nx_2d, y_2d = np.meshgrid(tau,n)\nx_2d.shape\nprint(x_2d[0,0])\n#print(y_2d)\nz_2d = F(x_2d[0,0],y_2d[0,0],NA,NB)\n#z_2d.shape",
    "id": "6a000563db5f43a7a4343ccae0a369c7",
    "idx": 8,
    "time": "2021-02-16T03:06:50.754Z",
    "type": "execution"
   },
   {
    "id": "6a000563db5f43a7a4343ccae0a369c7",
    "time": "2021-02-16T03:06:50.827Z",
    "type": "completion"
   },
   {
    "code": "#x = np.linspace(0, 1, N_x)\n#y = np.linspace(-3, 1, N_y)\n\nx_2d, y_2d = np.meshgrid(tau,n)\nx_2d.shape\n#print(x_2d[0,0])\n#print(y_2d)\nz_2d = F(x_2d[0,0],y_2d[0,0],NA,NB)\nz_2d.shape\nprint(z_2d)",
    "id": "6a000563db5f43a7a4343ccae0a369c7",
    "idx": 8,
    "time": "2021-02-16T03:07:22.513Z",
    "type": "execution"
   },
   {
    "id": "6a000563db5f43a7a4343ccae0a369c7",
    "time": "2021-02-16T03:07:22.612Z",
    "type": "completion"
   },
   {
    "code": "#x = np.linspace(0, 1, N_x)\n#y = np.linspace(-3, 1, N_y)\n\nx_2d, y_2d = np.meshgrid(tau,n)\nx_2d.shape\n#print(x_2d[0,0])\n#print(y_2d)\nz_2d = F(x_2d[0,0],y_2d[0,0],NA,NB)\n#z_2d.shape\nprint(z_2d)",
    "id": "6a000563db5f43a7a4343ccae0a369c7",
    "idx": 8,
    "time": "2021-02-16T03:07:36.237Z",
    "type": "execution"
   },
   {
    "id": "6a000563db5f43a7a4343ccae0a369c7",
    "time": "2021-02-16T03:07:36.356Z",
    "type": "completion"
   },
   {
    "code": "#x = np.linspace(0, 1, N_x)\n#y = np.linspace(-3, 1, N_y)\n\nx_2d, y_2d = np.meshgrid(tau,n)\nx_2d.shape\n#print(x_2d[0,0])\n#print(y_2d)\nz_2d = F(x_2d[500,500],y_2d[500,500],NA,NB)\n#z_2d.shape\nprint(z_2d)",
    "id": "6a000563db5f43a7a4343ccae0a369c7",
    "idx": 8,
    "time": "2021-02-16T03:07:56.228Z",
    "type": "execution"
   },
   {
    "id": "6a000563db5f43a7a4343ccae0a369c7",
    "time": "2021-02-16T03:07:56.391Z",
    "type": "completion"
   },
   {
    "code": "y = np.linspace(0, N/3, 1000)\nx = np.linspace(0, 1, 1000)\n\nx_2d, y_2d = np.meshgrid(x,y)\nx_2d.shape\n#print(x_2d[0,0])\n#print(y_2d)\nz_2d = F(x_2d[500,500],y_2d[500,500],NA,NB)\n#z_2d.shape\nprint(z_2d)",
    "id": "6a000563db5f43a7a4343ccae0a369c7",
    "idx": 8,
    "time": "2021-02-16T03:09:59.468Z",
    "type": "execution"
   },
   {
    "id": "6a000563db5f43a7a4343ccae0a369c7",
    "time": "2021-02-16T03:09:59.793Z",
    "type": "completion"
   },
   {
    "code": "y = np.linspace(0, N/3, 1000)\nx = np.linspace(0, 1, 1000)\n\nx_2d, y_2d = np.meshgrid(x,y)\nx_2d.shape\n#print(x_2d[0,0])\n#print(y_2d)\n#z_2d = F(x_2d[500,500],y_2d[500,500],NA,NB)\n#z_2d.shape\nprint(z_2d)",
    "id": "6a000563db5f43a7a4343ccae0a369c7",
    "idx": 8,
    "time": "2021-02-16T03:10:14.815Z",
    "type": "execution"
   },
   {
    "id": "6a000563db5f43a7a4343ccae0a369c7",
    "time": "2021-02-16T03:10:14.946Z",
    "type": "completion"
   },
   {
    "code": "y = np.linspace(0, N/3, 1000)\nx = np.linspace(0, 1, 1000)\n\nx_2d, y_2d = np.meshgrid(x,y)\nx_2d.shape\n#print(x_2d[0,0])\n#print(y_2d)\n#z_2d = F(x_2d[500,500],y_2d[500,500],NA,NB)\n#z_2d.shape\n#print(z_2d)",
    "id": "6a000563db5f43a7a4343ccae0a369c7",
    "idx": 8,
    "time": "2021-02-16T03:10:54.972Z",
    "type": "execution"
   },
   {
    "id": "6a000563db5f43a7a4343ccae0a369c7",
    "time": "2021-02-16T03:10:55.141Z",
    "type": "completion"
   },
   {
    "code": "y = np.linspace(0, N/3, 1000)\nx = np.linspace(0, 1, 1000)\n\nx_2d, y_2d = np.meshgrid(x,y)\nx_2d.shape\n#print(x_2d[0,0])\n#print(y_2d)\nz_2d = F(x_2d[500,500],y_2d[500,500],NA,NB)\n#z_2d.shape\nprint(z_2d)",
    "id": "6a000563db5f43a7a4343ccae0a369c7",
    "idx": 8,
    "time": "2021-02-16T03:11:22.512Z",
    "type": "execution"
   },
   {
    "id": "6a000563db5f43a7a4343ccae0a369c7",
    "time": "2021-02-16T03:11:22.844Z",
    "type": "completion"
   },
   {
    "code": "def F(tautest,ntest, NA, NB):\n    itest=int(ntest)\n    return 2*ntest - tautest*sigma(itest, NA,NB)\n#print( F(0.5,500,1000,1000))",
    "id": "ce12fcc2016a4f9095ec132f016f6fc9",
    "idx": 7,
    "time": "2021-02-16T03:13:18.102Z",
    "type": "execution"
   },
   {
    "id": "ce12fcc2016a4f9095ec132f016f6fc9",
    "time": "2021-02-16T03:13:18.197Z",
    "type": "completion"
   },
   {
    "code": "y = np.linspace(0, N/3, 1000)\nx = np.linspace(0, 1, 1000)\n\nx_2d, y_2d = np.meshgrid(x,y)\nx_2d.shape\n#print(x_2d[0,0])\n#print(y_2d)\nz_2d = F(x_2d[500,500],y_2d[500,500],NA,NB)\n#z_2d.shape\nprint(z_2d)",
    "id": "6a000563db5f43a7a4343ccae0a369c7",
    "idx": 8,
    "time": "2021-02-16T03:13:19.655Z",
    "type": "execution"
   },
   {
    "id": "6a000563db5f43a7a4343ccae0a369c7",
    "time": "2021-02-16T03:13:19.764Z",
    "type": "completion"
   },
   {
    "code": "y = np.linspace(0, N/3, 1000)\nx = np.linspace(0, 1, 1000)\n\nx_2d, y_2d = np.meshgrid(x,y)\nx_2d.shape\n#print(x_2d[0,0])\n#print(y_2d)\nz_2d = F(x_2d,y_2d,NA,NB)\n#z_2d.shape\nprint(z_2d)",
    "id": "6a000563db5f43a7a4343ccae0a369c7",
    "idx": 8,
    "time": "2021-02-16T03:13:52.988Z",
    "type": "execution"
   },
   {
    "id": "6a000563db5f43a7a4343ccae0a369c7",
    "time": "2021-02-16T03:13:53.155Z",
    "type": "completion"
   },
   {
    "code": "y = np.linspace(0, N/3, 1000)\nx = np.linspace(0, 1, 1000)\n\nx_2d, y_2d = np.meshgrid(x,y)\nx_2d.shape\nprint(x_2d)\nprint(y_2d)\n#z_2d = F(x_2d,y_2d,NA,NB)\n#z_2d.shape\nprint(z_2d)",
    "id": "6a000563db5f43a7a4343ccae0a369c7",
    "idx": 8,
    "time": "2021-02-16T03:15:55.785Z",
    "type": "execution"
   },
   {
    "id": "6a000563db5f43a7a4343ccae0a369c7",
    "time": "2021-02-16T03:15:55.927Z",
    "type": "completion"
   },
   {
    "code": "y = np.linspace(0, N/3, 1000)\nx = np.linspace(0, 1, 1000)\n\nx_2d, y_2d = np.meshgrid(x,y)\nx_2d.shape\nprint(x_2d)\nprint(y_2d)\n#z_2d = F(x_2d,y_2d,NA,NB)\n#z_2d.shape\n#print(z_2d)",
    "id": "6a000563db5f43a7a4343ccae0a369c7",
    "idx": 8,
    "time": "2021-02-16T03:16:24.856Z",
    "type": "execution"
   },
   {
    "id": "6a000563db5f43a7a4343ccae0a369c7",
    "time": "2021-02-16T03:16:24.953Z",
    "type": "completion"
   },
   {
    "code": "y = np.linspace(0, N/3, 1000)\nx = np.linspace(0, 1, 1000)\n\nx_2d, y_2d = np.meshgrid(x,y)\nx_2d.shape\nprint(x_2d)\nprint(y_2d)\nz_2d=x_2d**2+y_2d**2\n#z_2d = F(x_2d,y_2d,NA,NB)\n#z_2d.shape\nprint(z_2d)",
    "id": "6a000563db5f43a7a4343ccae0a369c7",
    "idx": 8,
    "time": "2021-02-16T03:18:08.534Z",
    "type": "execution"
   },
   {
    "id": "6a000563db5f43a7a4343ccae0a369c7",
    "time": "2021-02-16T03:18:08.626Z",
    "type": "completion"
   },
   {
    "code": "y = np.linspace(-1, 1, 10)\nx = np.linspace(-1, 1, 10)\n\nx_2d, y_2d = np.meshgrid(x,y)\nx_2d.shape\nprint(x_2d)\nprint(y_2d)\nz_2d=x_2d**2+y_2d**2\n#z_2d = F(x_2d,y_2d,NA,NB)\n#z_2d.shape\nprint(z_2d)",
    "id": "6a000563db5f43a7a4343ccae0a369c7",
    "idx": 8,
    "time": "2021-02-16T03:19:00.535Z",
    "type": "execution"
   },
   {
    "id": "6a000563db5f43a7a4343ccae0a369c7",
    "time": "2021-02-16T03:19:00.603Z",
    "type": "completion"
   },
   {
    "code": "from mpl_toolkits.mplot3d import Axes3D\n\nfig = plt.figure(figsize=(8,8)) #create figure object to hold the plot\nax = Axes3D(fig) #create Axes3D object to display the plot\nax.plot_surface(x_2d, y_2d, z_2d)\nax.set_xlabel(\"$x$\")\nax.set_ylabel(\"$y$\")\nax.set_zlabel(\"$f(x,y)$\")",
    "id": "0a29fcccbc7e430381d529067f749476",
    "idx": 9,
    "time": "2021-02-16T03:20:24.516Z",
    "type": "execution"
   },
   {
    "id": "0a29fcccbc7e430381d529067f749476",
    "time": "2021-02-16T03:20:25.450Z",
    "type": "completion"
   },
   {
    "code": "from mpl_toolkits.mplot3d import Axes3D\n\nfig = plt.figure(figsize=(8,8)) #create figure object to hold the plot\nax = Axes3D(fig) #create Axes3D object to display the plot\nax.plot_surface(x_2d, y_2d, z_2d)\nax.set_xlabel(\"$x$\")\nax.set_ylabel(\"$y$\")\nax.set_zlabel(\"$F(x,y)$\")",
    "id": "0a29fcccbc7e430381d529067f749476",
    "idx": 9,
    "time": "2021-02-16T03:20:45.032Z",
    "type": "execution"
   },
   {
    "id": "0a29fcccbc7e430381d529067f749476",
    "time": "2021-02-16T03:20:45.686Z",
    "type": "completion"
   },
   {
    "code": "y = np.linspace(-1, 1, 10)\nx = np.linspace(-1, 1, 10)\n\nx_2d, y_2d = np.meshgrid(x,y)\nx_2d.shape\nprint(x_2d)\nprint(y_2d)\nz_2d=x_2d**2+y_2d**2\nz_2d = sigma(x_2d,NA,NB)\n#z_2d.shape\nprint(z_2d)",
    "id": "6a000563db5f43a7a4343ccae0a369c7",
    "idx": 8,
    "time": "2021-02-16T03:22:40.874Z",
    "type": "execution"
   },
   {
    "id": "6a000563db5f43a7a4343ccae0a369c7",
    "time": "2021-02-16T03:22:41.021Z",
    "type": "completion"
   },
   {
    "code": "y = np.linspace(-1, 1, 10)\nx = np.linspace(-1, 1, 10)\n\nx_2d, y_2d = np.meshgrid(x,y)\nx_2d.shape\n#print(x_2d)\n#print(y_2d)\nz_2d=x_2d**2+y_2d**2\nz_2d = sigma(x_2d,NA,NB)\n#z_2d.shape\nprint(z_2d)",
    "id": "6a000563db5f43a7a4343ccae0a369c7",
    "idx": 8,
    "time": "2021-02-16T03:22:54.973Z",
    "type": "execution"
   },
   {
    "id": "6a000563db5f43a7a4343ccae0a369c7",
    "time": "2021-02-16T03:22:55.050Z",
    "type": "completion"
   },
   {
    "code": "import numpy as np\nimport math as math\nimport scipy.stats as st\nimport matplotlib.pyplot as plt\n\nN = 1000\nn = []\nfor i in range((N//3)):\n    n.append(i/1.0)\n\ntau = []\nfor i in range((1000)):\n    tau.append(i/1000)\n\nfact= math.factorial\nNA = 1000\nNB = 1000\nntest = 500\ndef sigma(ntest, NA, NB): \n    return np.log(fact(NA)/(fact(ntest)*fact(NA-ntest))) + np.log(fact(NB)/(fact(ntest)*fact(NB-ntest)))\n                                                       ",
    "id": "c4b9ecb5524a42b9815ff5a337a7cb27",
    "idx": 6,
    "time": "2021-02-16T03:23:50.163Z",
    "type": "execution"
   },
   {
    "id": "c4b9ecb5524a42b9815ff5a337a7cb27",
    "time": "2021-02-16T03:23:50.227Z",
    "type": "completion"
   },
   {
    "code": "def F(tautest,ntest, NA, NB):\n    itest=int(ntest)\n    return 2*ntest - tautest*sigma(itest, NA,NB)",
    "id": "ce12fcc2016a4f9095ec132f016f6fc9",
    "idx": 7,
    "time": "2021-02-16T03:23:51.478Z",
    "type": "execution"
   },
   {
    "id": "ce12fcc2016a4f9095ec132f016f6fc9",
    "time": "2021-02-16T03:23:51.535Z",
    "type": "completion"
   },
   {
    "code": "y = np.linspace(-1, 1, 10)\nx = np.linspace(-1, 1, 10)\n\nx_2d, y_2d = np.meshgrid(x,y)\nx_2d.shape\n#print(x_2d)\n#print(y_2d)\nz_2d=x_2d**2+y_2d**2\nz_2d = sigma(x_2d,NA,NB)\n#z_2d.shape\nprint(z_2d)",
    "id": "6a000563db5f43a7a4343ccae0a369c7",
    "idx": 8,
    "time": "2021-02-16T03:23:52.492Z",
    "type": "execution"
   },
   {
    "id": "6a000563db5f43a7a4343ccae0a369c7",
    "time": "2021-02-16T03:23:52.560Z",
    "type": "completion"
   },
   {
    "code": "from mpl_toolkits.mplot3d import Axes3D\n\nfig = plt.figure(figsize=(8,8)) #create figure object to hold the plot\nax = Axes3D(fig) #create Axes3D object to display the plot\nax.plot_surface(x_2d, y_2d, z_2d)\nax.set_xlabel(\"$x$\")\nax.set_ylabel(\"$y$\")\nax.set_zlabel(\"$F(x,y)$\")",
    "id": "0a29fcccbc7e430381d529067f749476",
    "idx": 9,
    "time": "2021-02-16T03:23:53.522Z",
    "type": "execution"
   },
   {
    "id": "0a29fcccbc7e430381d529067f749476",
    "time": "2021-02-16T03:23:54.148Z",
    "type": "completion"
   },
   {
    "code": "y = np.linspace(-1, 1, 10)\nx = np.linspace(-1, 1, 10)\n\nx_2d, y_2d = np.meshgrid(x,y)\nx_2d.shape\nprint(x_2d)\nprint(y_2d)\nz_2d=x_2d**2+y_2d**2\nz_2d = sigma(x_2d, NA, NB)\n#z_2d.shape\nprint(z_2d)",
    "id": "6a000563db5f43a7a4343ccae0a369c7",
    "idx": 8,
    "time": "2021-02-16T03:24:53.191Z",
    "type": "execution"
   },
   {
    "id": "6a000563db5f43a7a4343ccae0a369c7",
    "time": "2021-02-16T03:24:53.297Z",
    "type": "completion"
   },
   {
    "code": "y = np.linspace(0, 10, 11)\nx = np.linspace(0, 10, 11)\n\nx_2d, y_2d = np.meshgrid(x,y)\nx_2d.shape\nprint(x_2d)\nprint(y_2d)\nz_2d=x_2d**2+y_2d**2\nz_2d = sigma(x_2d, NA, NB)\n#z_2d.shape\nprint(z_2d)",
    "id": "6a000563db5f43a7a4343ccae0a369c7",
    "idx": 8,
    "time": "2021-02-16T03:26:00.338Z",
    "type": "execution"
   },
   {
    "id": "6a000563db5f43a7a4343ccae0a369c7",
    "time": "2021-02-16T03:26:00.453Z",
    "type": "completion"
   },
   {
    "code": "import numpy as np\nimport math as math\nimport scipy.stats as st\nimport matplotlib.pyplot as plt\n\nN = 1000\nn = []\nfor i in range((N//3)):\n    n.append(i/1.0)\n\ntau = []\nfor i in range((1000)):\n    tau.append(i/1000)\n\nfact= math.factorial\nNA = 1000\nNB = 1000\n#ntest = 500\ndef sigma(ntest, NA, NB): \n    itest = int(ntest)\n    return np.log(fact(NA)/(fact(ntest)*fact(NA-ntest))) + np.log(fact(NB)/(fact(ntest)*fact(NB-ntest)))\n                                                       ",
    "id": "c4b9ecb5524a42b9815ff5a337a7cb27",
    "idx": 6,
    "time": "2021-02-16T03:27:48.989Z",
    "type": "execution"
   },
   {
    "id": "c4b9ecb5524a42b9815ff5a337a7cb27",
    "time": "2021-02-16T03:27:49.065Z",
    "type": "completion"
   },
   {
    "code": "def F(tautest,ntest, NA, NB):\n    itest=int(ntest)\n    return 2*ntest - tautest*sigma(itest, NA,NB)",
    "id": "ce12fcc2016a4f9095ec132f016f6fc9",
    "idx": 7,
    "time": "2021-02-16T03:27:51.694Z",
    "type": "execution"
   },
   {
    "id": "ce12fcc2016a4f9095ec132f016f6fc9",
    "time": "2021-02-16T03:27:51.754Z",
    "type": "completion"
   },
   {
    "code": "y = np.linspace(0, 10, 11)\nx = np.linspace(0, 10, 11)\n\nx_2d, y_2d = np.meshgrid(x,y)\nx_2d.shape\nprint(x_2d)\nprint(y_2d)\nz_2d=x_2d**2+y_2d**2\nz_2d = sigma(x_2d, NA, NB)\n#z_2d.shape\nprint(z_2d)",
    "id": "6a000563db5f43a7a4343ccae0a369c7",
    "idx": 8,
    "time": "2021-02-16T03:27:53.689Z",
    "type": "execution"
   },
   {
    "id": "6a000563db5f43a7a4343ccae0a369c7",
    "time": "2021-02-16T03:27:53.843Z",
    "type": "completion"
   },
   {
    "code": "y = np.linspace(0, 10, 11)\nx = np.linspace(0, 10, 11)\n\nx_2d, y_2d = np.meshgrid(x,y)\nx_2d.shape\nprint(x_2d)\nprint(y_2d)\nz_2d=fact(z_2d)\n#z_2d = sigma(x_2d, NA, NB)\n#z_2d.shape\nprint(z_2d)",
    "id": "6a000563db5f43a7a4343ccae0a369c7",
    "idx": 8,
    "time": "2021-02-16T03:34:00.136Z",
    "type": "execution"
   },
   {
    "id": "6a000563db5f43a7a4343ccae0a369c7",
    "time": "2021-02-16T03:34:00.308Z",
    "type": "completion"
   },
   {
    "code": "y = np.linspace(0, 10, 11)\nx = np.linspace(0, 10, 11)\n\nx_2d, y_2d = np.meshgrid(x,y)\nx_2d.shape\nprint(x_2d)\nprint(y_2d)\nz_2d=fact(int(z_2d))\n#z_2d = sigma(x_2d, NA, NB)\n#z_2d.shape\nprint(z_2d)",
    "id": "6a000563db5f43a7a4343ccae0a369c7",
    "idx": 8,
    "time": "2021-02-16T03:34:29.255Z",
    "type": "execution"
   },
   {
    "id": "6a000563db5f43a7a4343ccae0a369c7",
    "time": "2021-02-16T03:34:29.364Z",
    "type": "completion"
   },
   {
    "code": "y = np.linspace(0, 10, 11)\nx = np.linspace(0, 10, 11)\n\nx_2d, y_2d = np.meshgrid(x,y)\nx_2d.shape\nprint(x_2d)\nprint(y_2d)\nz_2d=fact(np.int(z_2d))\n#z_2d = sigma(x_2d, NA, NB)\n#z_2d.shape\nprint(z_2d)",
    "id": "6a000563db5f43a7a4343ccae0a369c7",
    "idx": 8,
    "time": "2021-02-16T03:37:37.848Z",
    "type": "execution"
   },
   {
    "id": "6a000563db5f43a7a4343ccae0a369c7",
    "time": "2021-02-16T03:37:37.969Z",
    "type": "completion"
   },
   {
    "code": "y = np.linspace(0, 10, 11)\nx = np.linspace(0, 10, 11)\n\nx_2d, y_2d = np.meshgrid(x,y)\nx_2d.shape\nprint(x_2d)\nprint(y_2d)\nz_2d=np.int(z_2d)\n#z_2d = sigma(x_2d, NA, NB)\n#z_2d.shape\nprint(z_2d)",
    "id": "6a000563db5f43a7a4343ccae0a369c7",
    "idx": 8,
    "time": "2021-02-16T03:38:40.933Z",
    "type": "execution"
   },
   {
    "id": "6a000563db5f43a7a4343ccae0a369c7",
    "time": "2021-02-16T03:38:41.009Z",
    "type": "completion"
   },
   {
    "code": "y = np.linspace(0, 10, 11)\nx = np.linspace(0, 10, 11)\n\nx_2d, y_2d = np.meshgrid(x,y)\nx_2d.shape\n#print(x_2d)\n#print(y_2d)\nz_2d=np.int(z_2d)\n#z_2d = sigma(x_2d, NA, NB)\n#z_2d.shape\nprint(z_2d)",
    "id": "6a000563db5f43a7a4343ccae0a369c7",
    "idx": 8,
    "time": "2021-02-16T03:39:01.943Z",
    "type": "execution"
   },
   {
    "id": "6a000563db5f43a7a4343ccae0a369c7",
    "time": "2021-02-16T03:39:02.052Z",
    "type": "completion"
   },
   {
    "code": "y = np.linspace(0, 10, 11)\nx = np.linspace(0, 10, 11)\n\nx_2d, y_2d = np.meshgrid(x,y)\nx_2d.shape\nz_2d=x_2d+y_2d\n#print(x_2d)\n#print(y_2d)\nz_2d=np.int(z_2d)\n#z_2d = sigma(x_2d, NA, NB)\n#z_2d.shape\nprint(z_2d)",
    "id": "6a000563db5f43a7a4343ccae0a369c7",
    "idx": 8,
    "time": "2021-02-16T03:40:02.564Z",
    "type": "execution"
   },
   {
    "id": "6a000563db5f43a7a4343ccae0a369c7",
    "time": "2021-02-16T03:40:02.700Z",
    "type": "completion"
   },
   {
    "code": "y = np.linspace(0, 10, 11)\nx = np.linspace(0, 10, 11)\n\nx_2d, y_2d = np.meshgrid(x,y)\nx_2d.shape\nz_2d=x_2d+y_2d\n#print(x_2d)\nprint(z_2d)\nz_2d=np.int(z_2d)\n#z_2d = sigma(x_2d, NA, NB)\n#z_2d.shape\nprint(z_2d)",
    "id": "6a000563db5f43a7a4343ccae0a369c7",
    "idx": 8,
    "time": "2021-02-16T03:40:20.255Z",
    "type": "execution"
   },
   {
    "id": "6a000563db5f43a7a4343ccae0a369c7",
    "time": "2021-02-16T03:40:20.405Z",
    "type": "completion"
   },
   {
    "code": "y = np.linspace(0, 10, 11)\nx = np.linspace(0, 10, 11)\n\nx_2d, y_2d = np.meshgrid(x,y)\nx_2d.shape\nz_2d=x_2d+y_2d\n#print(x_2d)\nprint(z_2d)\niz_2d=np.int(z_2d)\n#z_2d = sigma(x_2d, NA, NB)\n#z_2d.shape\nprint(z_2d)",
    "id": "6a000563db5f43a7a4343ccae0a369c7",
    "idx": 8,
    "time": "2021-02-16T03:40:47.083Z",
    "type": "execution"
   },
   {
    "id": "6a000563db5f43a7a4343ccae0a369c7",
    "time": "2021-02-16T03:40:47.216Z",
    "type": "completion"
   },
   {
    "code": "y = np.linspace(0, 10, 11)\nx = np.linspace(0, 10, 11)\n\nx_2d, y_2d = np.meshgrid(x,y)\nx_2d.shape\nz_2d=x_2d+y_2d\n#print(x_2d)\nprint(z_2d)\niz_2d=np.int(z_2d)\n#z_2d = sigma(x_2d, NA, NB)\n#z_2d.shape\n#print(z_2d)\nz_2d",
    "id": "6a000563db5f43a7a4343ccae0a369c7",
    "idx": 8,
    "time": "2021-02-16T03:42:02.085Z",
    "type": "execution"
   },
   {
    "id": "6a000563db5f43a7a4343ccae0a369c7",
    "time": "2021-02-16T03:42:02.222Z",
    "type": "completion"
   },
   {
    "code": "y = np.linspace(0, 10, 11)\nx = np.linspace(0, 10, 11)\n\nx_2d, y_2d = np.meshgrid(x,y)\nx_2d.shape\nz_2d=x_2d+y_2d\n#print(x_2d)\n#print(z_2d)\n#iz_2d=np.int(z_2d)\n#z_2d = sigma(x_2d, NA, NB)\n#z_2d.shape\n#print(z_2d)\nz_2d",
    "id": "6a000563db5f43a7a4343ccae0a369c7",
    "idx": 8,
    "time": "2021-02-16T03:42:19.414Z",
    "type": "execution"
   },
   {
    "id": "6a000563db5f43a7a4343ccae0a369c7",
    "time": "2021-02-16T03:42:19.527Z",
    "type": "completion"
   },
   {
    "code": "y = np.linspace(0, 10, 11)\nx = np.linspace(0, 10, 11)\n\nx_2d, y_2d = np.meshgrid(x,y)\nx_2d.shape\nz_2d=x_2d+y_2d\n#print(x_2d)\n#print(z_2d)\niz_2d=np.int(z_2d)\n#z_2d = sigma(x_2d, NA, NB)\n#z_2d.shape\n\niz_2d",
    "id": "6a000563db5f43a7a4343ccae0a369c7",
    "idx": 8,
    "time": "2021-02-16T03:42:45.459Z",
    "type": "execution"
   },
   {
    "id": "6a000563db5f43a7a4343ccae0a369c7",
    "time": "2021-02-16T03:42:45.572Z",
    "type": "completion"
   },
   {
    "code": "y = np.linspace(0, 10, 11)\nx = np.linspace(0, 10, 11)\n\nx_2d, y_2d = np.meshgrid(x,y)\nx_2d.shape\nz_2d=x_2d+y_2d\n#print(x_2d)\n#print(z_2d)\nz_2d = z_2d.astype(int)\n#z_2d = sigma(x_2d, NA, NB)\n#z_2d.shape\n",
    "id": "6a000563db5f43a7a4343ccae0a369c7",
    "idx": 8,
    "time": "2021-02-16T03:44:27.930Z",
    "type": "execution"
   },
   {
    "id": "6a000563db5f43a7a4343ccae0a369c7",
    "time": "2021-02-16T03:44:28.025Z",
    "type": "completion"
   },
   {
    "code": "y = np.linspace(0, 10, 11)\nx = np.linspace(0, 10, 11)\n\nx_2d, y_2d = np.meshgrid(x,y)\nx_2d.shape\nz_2d=x_2d+y_2d\n#print(x_2d)\n#print(z_2d)\nz_2d = z_2d.astype(int)\n#z_2d = sigma(x_2d, NA, NB)\nz_2d.shape\nz_2d",
    "id": "6a000563db5f43a7a4343ccae0a369c7",
    "idx": 8,
    "time": "2021-02-16T03:44:42.158Z",
    "type": "execution"
   },
   {
    "id": "6a000563db5f43a7a4343ccae0a369c7",
    "time": "2021-02-16T03:44:42.223Z",
    "type": "completion"
   },
   {
    "code": "y = np.linspace(0, 10, 11)\nx = np.linspace(0, 10, 11)\n\nx_2d, y_2d = np.meshgrid(x,y)\nx_2d.shape\nz_2d=x_2d+y_2d\n#print(x_2d)\n#print(z_2d)\nx_2d = x_2d.astype(int)\nz_2d = sigma(x_2d, NA, NB)\nz_2d.shape\nz_2d",
    "id": "6a000563db5f43a7a4343ccae0a369c7",
    "idx": 8,
    "time": "2021-02-16T03:45:31.517Z",
    "type": "execution"
   },
   {
    "id": "6a000563db5f43a7a4343ccae0a369c7",
    "time": "2021-02-16T03:45:31.608Z",
    "type": "completion"
   },
   {
    "code": "import numpy as np\nimport math as math\nimport scipy.stats as st\nimport matplotlib.pyplot as plt\n\nN = 1000\nn = []\nfor i in range((N//3)):\n    n.append(i/1.0)\n\ntau = []\nfor i in range((1000)):\n    tau.append(i/1000)\n\nfact= math.factorial\nNA = 1000\nNB = 1000\n#ntest = 500\ndef sigma(ntest, NA, NB): \n    return np.log(fact(NA)/(fact(ntest)*fact(NA-ntest))) + np.log(fact(NB)/(fact(ntest)*fact(NB-ntest)))\n                                                       ",
    "id": "c4b9ecb5524a42b9815ff5a337a7cb27",
    "idx": 6,
    "time": "2021-02-16T03:45:54.817Z",
    "type": "execution"
   },
   {
    "id": "c4b9ecb5524a42b9815ff5a337a7cb27",
    "time": "2021-02-16T03:45:54.904Z",
    "type": "completion"
   },
   {
    "code": "def F(tautest,ntest, NA, NB):\n    itest=int(ntest)\n    return 2*ntest - tautest*sigma(itest, NA,NB)",
    "id": "ce12fcc2016a4f9095ec132f016f6fc9",
    "idx": 7,
    "time": "2021-02-16T03:45:55.777Z",
    "type": "execution"
   },
   {
    "id": "ce12fcc2016a4f9095ec132f016f6fc9",
    "time": "2021-02-16T03:45:55.852Z",
    "type": "completion"
   },
   {
    "code": "y = np.linspace(0, 10, 11)\nx = np.linspace(0, 10, 11)\n\nx_2d, y_2d = np.meshgrid(x,y)\nx_2d.shape\nz_2d=x_2d+y_2d\n#print(x_2d)\n#print(z_2d)\nx_2d = x_2d.astype(int)\nz_2d = sigma(x_2d, NA, NB)\nz_2d.shape\nz_2d",
    "id": "6a000563db5f43a7a4343ccae0a369c7",
    "idx": 8,
    "time": "2021-02-16T03:45:56.630Z",
    "type": "execution"
   },
   {
    "id": "6a000563db5f43a7a4343ccae0a369c7",
    "time": "2021-02-16T03:45:56.776Z",
    "type": "completion"
   },
   {
    "code": "y = np.linspace(0, 10, 11)\nx = np.linspace(0, 10, 11)\n\nx_2d, y_2d = np.meshgrid(x,y)\n#print(x_2d)\n#print(z_2d)\nx_2d = x_2d.astype(int)\nz_2d = sigma(x_2d, NA, NB)\nz_2d.shape\nz_2d",
    "id": "6a000563db5f43a7a4343ccae0a369c7",
    "idx": 8,
    "time": "2021-02-16T03:47:24.125Z",
    "type": "execution"
   },
   {
    "id": "6a000563db5f43a7a4343ccae0a369c7",
    "time": "2021-02-16T03:47:24.286Z",
    "type": "completion"
   },
   {
    "code": "y = np.linspace(0, 10, 11)\nx = np.linspace(0, 10, 11)\n\nx_2d, y_2d = np.meshgrid(x,y)\n#print(x_2d)\n#print(z_2d)\nx_2d = x_2d.astype(int)\nz_2d = square(x_2d, y_2d)\nz_2d.shape\nz_2d",
    "id": "6a000563db5f43a7a4343ccae0a369c7",
    "idx": 9,
    "time": "2021-02-16T03:48:57.455Z",
    "type": "execution"
   },
   {
    "id": "6a000563db5f43a7a4343ccae0a369c7",
    "time": "2021-02-16T03:48:57.605Z",
    "type": "completion"
   },
   {
    "code": "def squre(x,y):\n    return x**2+y**2",
    "id": "1b0303ae62f74bebbd3a8b29fcf8f345",
    "idx": 8,
    "time": "2021-02-16T03:49:07.813Z",
    "type": "execution"
   },
   {
    "id": "1b0303ae62f74bebbd3a8b29fcf8f345",
    "time": "2021-02-16T03:49:07.892Z",
    "type": "completion"
   },
   {
    "code": "y = np.linspace(0, 10, 11)\nx = np.linspace(0, 10, 11)\n\nx_2d, y_2d = np.meshgrid(x,y)\n#print(x_2d)\n#print(z_2d)\nx_2d = x_2d.astype(int)\nz_2d = square(x_2d, y_2d)\nz_2d.shape\nz_2d",
    "id": "6a000563db5f43a7a4343ccae0a369c7",
    "idx": 9,
    "time": "2021-02-16T03:49:09.856Z",
    "type": "execution"
   },
   {
    "id": "6a000563db5f43a7a4343ccae0a369c7",
    "time": "2021-02-16T03:49:09.968Z",
    "type": "completion"
   },
   {
    "code": "def square(x,y):\n    return x**2+y**2",
    "id": "1b0303ae62f74bebbd3a8b29fcf8f345",
    "idx": 8,
    "time": "2021-02-16T03:49:22.616Z",
    "type": "execution"
   },
   {
    "id": "1b0303ae62f74bebbd3a8b29fcf8f345",
    "time": "2021-02-16T03:49:22.704Z",
    "type": "completion"
   },
   {
    "code": "y = np.linspace(0, 10, 11)\nx = np.linspace(0, 10, 11)\n\nx_2d, y_2d = np.meshgrid(x,y)\n#print(x_2d)\n#print(z_2d)\nx_2d = x_2d.astype(int)\nz_2d = square(x_2d, y_2d)\nz_2d.shape\nz_2d",
    "id": "6a000563db5f43a7a4343ccae0a369c7",
    "idx": 9,
    "time": "2021-02-16T03:49:24.445Z",
    "type": "execution"
   },
   {
    "id": "6a000563db5f43a7a4343ccae0a369c7",
    "time": "2021-02-16T03:49:24.519Z",
    "type": "completion"
   },
   {
    "code": "def square(x,y):\n    return fact(x**2)+y**2",
    "id": "1b0303ae62f74bebbd3a8b29fcf8f345",
    "idx": 8,
    "time": "2021-02-16T03:50:41.949Z",
    "type": "execution"
   },
   {
    "id": "1b0303ae62f74bebbd3a8b29fcf8f345",
    "time": "2021-02-16T03:50:43.321Z",
    "type": "completion"
   },
   {
    "code": "y = np.linspace(0, 10, 11)\nx = np.linspace(0, 10, 11)\n\nx_2d, y_2d = np.meshgrid(x,y)\n#print(x_2d)\n#print(z_2d)\nx_2d = x_2d.astype(int)\nz_2d = square(x_2d, y_2d)\nz_2d.shape\nz_2d",
    "id": "6a000563db5f43a7a4343ccae0a369c7",
    "idx": 9,
    "time": "2021-02-16T03:50:44.514Z",
    "type": "execution"
   },
   {
    "id": "6a000563db5f43a7a4343ccae0a369c7",
    "time": "2021-02-16T03:50:44.638Z",
    "type": "completion"
   },
   {
    "code": "def square(x,y):\n    return math.factorial(x**2)+y**2",
    "id": "1b0303ae62f74bebbd3a8b29fcf8f345",
    "idx": 8,
    "time": "2021-02-16T03:51:18.712Z",
    "type": "execution"
   },
   {
    "id": "1b0303ae62f74bebbd3a8b29fcf8f345",
    "time": "2021-02-16T03:51:18.785Z",
    "type": "completion"
   },
   {
    "code": "y = np.linspace(0, 10, 11)\nx = np.linspace(0, 10, 11)\n\nx_2d, y_2d = np.meshgrid(x,y)\n#print(x_2d)\n#print(z_2d)\nx_2d = x_2d.astype(int)\nz_2d = square(x_2d, y_2d)\nz_2d.shape\nz_2d",
    "id": "6a000563db5f43a7a4343ccae0a369c7",
    "idx": 9,
    "time": "2021-02-16T03:51:20.105Z",
    "type": "execution"
   },
   {
    "id": "6a000563db5f43a7a4343ccae0a369c7",
    "time": "2021-02-16T03:51:20.183Z",
    "type": "completion"
   },
   {
    "code": "import numpy as np\nimport math as math\nimport scipy.stats as st\nimport scipy.special  \nimport matplotlib.pyplot as plt\n\nN = 1000\nn = []\nfor i in range((N//3)):\n    n.append(i/1.0)\n\ntau = []\nfor i in range((1000)):\n    tau.append(i/1000)\n\nfact= scipy.special.factorial\nNA = 1000\nNB = 1000\n#ntest = 500\ndef sigma(ntest, NA, NB): \n    return np.log(fact(NA)/(fact(ntest)*fact(NA-ntest))) + np.log(fact(NB)/(fact(ntest)*fact(NB-ntest)))\n                                                       ",
    "id": "c4b9ecb5524a42b9815ff5a337a7cb27",
    "idx": 6,
    "time": "2021-02-16T03:56:13.933Z",
    "type": "execution"
   },
   {
    "id": "c4b9ecb5524a42b9815ff5a337a7cb27",
    "time": "2021-02-16T03:56:14.040Z",
    "type": "completion"
   },
   {
    "code": "def F(tautest,ntest, NA, NB):\n    itest=int(ntest)\n    return 2*ntest - tautest*sigma(itest, NA,NB)",
    "id": "ce12fcc2016a4f9095ec132f016f6fc9",
    "idx": 7,
    "time": "2021-02-16T03:56:14.705Z",
    "type": "execution"
   },
   {
    "id": "ce12fcc2016a4f9095ec132f016f6fc9",
    "time": "2021-02-16T03:56:14.773Z",
    "type": "completion"
   },
   {
    "code": "def square(x,y):\n    return math.factorial(x**2)+y**2",
    "id": "1b0303ae62f74bebbd3a8b29fcf8f345",
    "idx": 8,
    "time": "2021-02-16T03:56:15.348Z",
    "type": "execution"
   },
   {
    "id": "1b0303ae62f74bebbd3a8b29fcf8f345",
    "time": "2021-02-16T03:56:15.436Z",
    "type": "completion"
   },
   {
    "code": "y = np.linspace(0, 10, 11)\nx = np.linspace(0, 10, 11)\n\nx_2d, y_2d = np.meshgrid(x,y)\n#print(x_2d)\n#print(z_2d)\nx_2d = x_2d.astype(int)\nz_2d = square(x_2d, y_2d)\nz_2d.shape\nz_2d",
    "id": "6a000563db5f43a7a4343ccae0a369c7",
    "idx": 9,
    "time": "2021-02-16T03:56:16.216Z",
    "type": "execution"
   },
   {
    "id": "6a000563db5f43a7a4343ccae0a369c7",
    "time": "2021-02-16T03:56:16.392Z",
    "type": "completion"
   },
   {
    "code": "def square(x,y):\n    return fact(x**2)+y**2",
    "id": "1b0303ae62f74bebbd3a8b29fcf8f345",
    "idx": 8,
    "time": "2021-02-16T03:56:37.713Z",
    "type": "execution"
   },
   {
    "id": "1b0303ae62f74bebbd3a8b29fcf8f345",
    "time": "2021-02-16T03:56:37.795Z",
    "type": "completion"
   },
   {
    "code": "y = np.linspace(0, 10, 11)\nx = np.linspace(0, 10, 11)\n\nx_2d, y_2d = np.meshgrid(x,y)\n#print(x_2d)\n#print(z_2d)\nx_2d = x_2d.astype(int)\nz_2d = square(x_2d, y_2d)\nz_2d.shape\nz_2d",
    "id": "6a000563db5f43a7a4343ccae0a369c7",
    "idx": 9,
    "time": "2021-02-16T03:56:40.007Z",
    "type": "execution"
   },
   {
    "id": "6a000563db5f43a7a4343ccae0a369c7",
    "time": "2021-02-16T03:56:40.086Z",
    "type": "completion"
   },
   {
    "code": "y = np.linspace(0, 10, 11)\nx = np.linspace(0, 10, 11)\n\nx_2d, y_2d = np.meshgrid(x,y)\n#print(x_2d)\n#print(z_2d)\nx_2d = x_2d.astype(int)\nz_2d = F(x_2d, y_2d, NA, NB)\nz_2d.shape\nz_2d",
    "id": "6a000563db5f43a7a4343ccae0a369c7",
    "idx": 9,
    "time": "2021-02-16T03:58:07.409Z",
    "type": "execution"
   },
   {
    "id": "6a000563db5f43a7a4343ccae0a369c7",
    "time": "2021-02-16T03:58:07.565Z",
    "type": "completion"
   },
   {
    "code": "import numpy as np\nimport math as math\nimport scipy.stats as st\nimport scipy.special  \nimport matplotlib.pyplot as plt\n\nN = 1000\nn = []\nfor i in range((N//3)):\n    n.append(i/1.0)\n\ntau = []\nfor i in range((1000)):\n    tau.append(i/1000)\n\nfact = scipy.special.factorial\nNA = 1000\nNB = 1000\n#ntest = 500\ndef sigma(ntest, NA, NB): \n    return np.log(fact(NA)/(fact(ntest)*fact(NA-ntest))) + np.log(fact(NB)/(fact(ntest)*fact(NB-ntest)))\n                                                       ",
    "id": "c4b9ecb5524a42b9815ff5a337a7cb27",
    "idx": 6,
    "time": "2021-02-16T03:58:40.057Z",
    "type": "execution"
   },
   {
    "id": "c4b9ecb5524a42b9815ff5a337a7cb27",
    "time": "2021-02-16T03:58:40.149Z",
    "type": "completion"
   },
   {
    "code": "def F(tautest,ntest, NA, NB):\n    itest=int(ntest)\n    return 2*ntest - tautest*sigma(itest, NA,NB)",
    "id": "ce12fcc2016a4f9095ec132f016f6fc9",
    "idx": 7,
    "time": "2021-02-16T03:58:42.258Z",
    "type": "execution"
   },
   {
    "id": "ce12fcc2016a4f9095ec132f016f6fc9",
    "time": "2021-02-16T03:58:42.340Z",
    "type": "completion"
   },
   {
    "code": "y = np.linspace(0, 10, 11)\nx = np.linspace(0, 10, 11)\n\nx_2d, y_2d = np.meshgrid(x,y)\n#print(x_2d)\n#print(z_2d)\nx_2d = x_2d.astype(int)\nz_2d=sigma(x_2d, NA, NB)\n#z_2d = F(x_2d, y_2d, NA, NB)\nz_2d.shape\nz_2d",
    "id": "6a000563db5f43a7a4343ccae0a369c7",
    "idx": 9,
    "time": "2021-02-16T03:59:37.567Z",
    "type": "execution"
   },
   {
    "id": "6a000563db5f43a7a4343ccae0a369c7",
    "time": "2021-02-16T03:59:37.676Z",
    "type": "completion"
   },
   {
    "code": "import numpy as np\nimport math as math\nimport scipy.stats as st\nimport scipy.special  \nimport matplotlib.pyplot as plt\n\nN = 1000\nn = []\nfor i in range((N//3)):\n    n.append(i/1.0)\n\ntau = []\nfor i in range((1000)):\n    tau.append(i/1000)\n\nfact = scipy.special.factorial\nNA = 100\nNB = 100\n#ntest = 500\ndef sigma(ntest, NA, NB): \n    return np.log(fact(NA)/(fact(ntest)*fact(NA-ntest))) + np.log(fact(NB)/(fact(ntest)*fact(NB-ntest)))\n                                                       ",
    "id": "c4b9ecb5524a42b9815ff5a337a7cb27",
    "idx": 6,
    "time": "2021-02-16T04:00:12.961Z",
    "type": "execution"
   },
   {
    "id": "c4b9ecb5524a42b9815ff5a337a7cb27",
    "time": "2021-02-16T04:00:13.051Z",
    "type": "completion"
   },
   {
    "code": "def F(tautest,ntest, NA, NB):\n    itest=int(ntest)\n    return 2*ntest - tautest*sigma(itest, NA,NB)",
    "id": "ce12fcc2016a4f9095ec132f016f6fc9",
    "idx": 7,
    "time": "2021-02-16T04:00:13.545Z",
    "type": "execution"
   },
   {
    "id": "ce12fcc2016a4f9095ec132f016f6fc9",
    "time": "2021-02-16T04:00:13.629Z",
    "type": "completion"
   },
   {
    "code": "def square(x,y):\n    return fact(x**2)+y**2",
    "id": "1b0303ae62f74bebbd3a8b29fcf8f345",
    "idx": 8,
    "time": "2021-02-16T04:00:14.025Z",
    "type": "execution"
   },
   {
    "id": "1b0303ae62f74bebbd3a8b29fcf8f345",
    "time": "2021-02-16T04:00:14.104Z",
    "type": "completion"
   },
   {
    "code": "y = np.linspace(0, 10, 11)\nx = np.linspace(0, 10, 11)\n\nx_2d, y_2d = np.meshgrid(x,y)\n#print(x_2d)\n#print(z_2d)\nx_2d = x_2d.astype(int)\nz_2d=sigma(x_2d, NA, NB)\n#z_2d = F(x_2d, y_2d, NA, NB)\nz_2d.shape\nz_2d",
    "id": "6a000563db5f43a7a4343ccae0a369c7",
    "idx": 9,
    "time": "2021-02-16T04:00:14.638Z",
    "type": "execution"
   },
   {
    "id": "6a000563db5f43a7a4343ccae0a369c7",
    "time": "2021-02-16T04:00:14.750Z",
    "type": "completion"
   },
   {
    "code": "import numpy as np\nimport math as math\nimport scipy.stats as st\nimport scipy.special  \nimport matplotlib.pyplot as plt\n\nN = 1000\nn = []\nfor i in range((N//3)):\n    n.append(i/1.0)\n\ntau = []\nfor i in range((1000)):\n    tau.append(i/1000)\n\nfact = scipy.special.factorial\nNA = 500\nNB = 500\n#ntest = 500\ndef sigma(ntest, NA, NB): \n    return np.log(fact(NA)/(fact(ntest)*fact(NA-ntest))) + np.log(fact(NB)/(fact(ntest)*fact(NB-ntest)))\n                                                       ",
    "id": "c4b9ecb5524a42b9815ff5a337a7cb27",
    "idx": 6,
    "time": "2021-02-16T04:00:50.937Z",
    "type": "execution"
   },
   {
    "id": "c4b9ecb5524a42b9815ff5a337a7cb27",
    "time": "2021-02-16T04:00:51.042Z",
    "type": "completion"
   },
   {
    "code": "def F(tautest,ntest, NA, NB):\n    itest=int(ntest)\n    return 2*ntest - tautest*sigma(itest, NA,NB)",
    "id": "ce12fcc2016a4f9095ec132f016f6fc9",
    "idx": 7,
    "time": "2021-02-16T04:00:51.510Z",
    "type": "execution"
   },
   {
    "id": "ce12fcc2016a4f9095ec132f016f6fc9",
    "time": "2021-02-16T04:00:51.599Z",
    "type": "completion"
   },
   {
    "code": "def square(x,y):\n    return fact(x**2)+y**2",
    "id": "1b0303ae62f74bebbd3a8b29fcf8f345",
    "idx": 8,
    "time": "2021-02-16T04:00:52.031Z",
    "type": "execution"
   },
   {
    "id": "1b0303ae62f74bebbd3a8b29fcf8f345",
    "time": "2021-02-16T04:00:52.124Z",
    "type": "completion"
   },
   {
    "code": "y = np.linspace(0, 10, 11)\nx = np.linspace(0, 10, 11)\n\nx_2d, y_2d = np.meshgrid(x,y)\n#print(x_2d)\n#print(z_2d)\nx_2d = x_2d.astype(int)\nz_2d=sigma(x_2d, NA, NB)\n#z_2d = F(x_2d, y_2d, NA, NB)\nz_2d.shape\nz_2d",
    "id": "6a000563db5f43a7a4343ccae0a369c7",
    "idx": 9,
    "time": "2021-02-16T04:00:52.643Z",
    "type": "execution"
   },
   {
    "id": "6a000563db5f43a7a4343ccae0a369c7",
    "time": "2021-02-16T04:00:52.723Z",
    "type": "completion"
   },
   {
    "code": "y = np.linspace(0, 10, 11)\nx = np.linspace(0, 10, 11)\n\nx_2d, y_2d = np.meshgrid(x,y)\n#print(x_2d)\n#print(z_2d)\nx_2d = x_2d.astype(int)\nx_2d\nz_2d=sigma(x_2d, NA, NB)\n#z_2d = F(x_2d, y_2d, NA, NB)\nz_2d.shape\nz_2d",
    "id": "6a000563db5f43a7a4343ccae0a369c7",
    "idx": 9,
    "time": "2021-02-16T04:01:22.801Z",
    "type": "execution"
   },
   {
    "id": "6a000563db5f43a7a4343ccae0a369c7",
    "time": "2021-02-16T04:01:22.910Z",
    "type": "completion"
   },
   {
    "code": "y = np.linspace(0, 10, 11)\nx = np.linspace(0, 10, 11)\n\nx_2d, y_2d = np.meshgrid(x,y)\n#print(x_2d)\n#print(z_2d)\nx_2d = x_2d.astype(int)\nx_2d\n#z_2d=sigma(x_2d, NA, NB)\n#z_2d = F(x_2d, y_2d, NA, NB)\nz_2d.shape\nz_2d",
    "id": "6a000563db5f43a7a4343ccae0a369c7",
    "idx": 9,
    "time": "2021-02-16T04:01:32.551Z",
    "type": "execution"
   },
   {
    "id": "6a000563db5f43a7a4343ccae0a369c7",
    "time": "2021-02-16T04:01:32.617Z",
    "type": "completion"
   },
   {
    "code": "y = np.linspace(0, 10, 11)\nx = np.linspace(0, 10, 11)\n\nx_2d, y_2d = np.meshgrid(x,y)\nprint(x_2d)\n#print(z_2d)\nx_2d = x_2d.astype(int)\nx_2d\n#z_2d=sigma(x_2d, NA, NB)\n#z_2d = F(x_2d, y_2d, NA, NB)\nz_2d.shape\nz_2d",
    "id": "6a000563db5f43a7a4343ccae0a369c7",
    "idx": 9,
    "time": "2021-02-16T04:01:57.889Z",
    "type": "execution"
   },
   {
    "id": "6a000563db5f43a7a4343ccae0a369c7",
    "time": "2021-02-16T04:01:58.002Z",
    "type": "completion"
   },
   {
    "code": "y = np.linspace(0, 10, 11)\nx = np.linspace(0, 10, 11)\n\nx_2d, y_2d = np.meshgrid(x,y)\nprint(x_2d)\n#print(z_2d)\nx_2d = x_2d.astype(int)\nx_2d\n#z_2d=sigma(x_2d, NA, NB)\n#z_2d = F(x_2d, y_2d, NA, NB)\n#z_2d.shape\n#z_2d",
    "id": "6a000563db5f43a7a4343ccae0a369c7",
    "idx": 9,
    "time": "2021-02-16T04:02:10.120Z",
    "type": "execution"
   },
   {
    "id": "6a000563db5f43a7a4343ccae0a369c7",
    "time": "2021-02-16T04:02:10.238Z",
    "type": "completion"
   },
   {
    "code": "y = np.linspace(0, 10, 11)\nx = np.linspace(0, 10, 11)\n\nx_2d, y_2d = np.meshgrid(x,y)\nprint(x_2d)\n#print(z_2d)\nx_2d = x_2d.astype(int)\nx_2d\n#z_2d=sigma(x_2d, NA, NB)\n#z_2d = F(x_2d, y_2d, NA, NB)\n#z_2d.shape\n#z_2d",
    "id": "6a000563db5f43a7a4343ccae0a369c7",
    "idx": 9,
    "time": "2021-02-16T04:02:49.994Z",
    "type": "execution"
   },
   {
    "id": "6a000563db5f43a7a4343ccae0a369c7",
    "time": "2021-02-16T04:02:50.100Z",
    "type": "completion"
   },
   {
    "code": "y = np.linspace(0, 10, 11)\nx = np.linspace(0, 10, 11)\n\nx_2d, y_2d = np.meshgrid(x,y)\nprint(x_2d)\n#print(z_2d)\nx_2d = x_2d.astype(int)\nx_2d\nz_2d=sigma(x_2d, NA, NB)\n#z_2d = F(x_2d, y_2d, NA, NB)\n#z_2d.shape\n#z_2d",
    "id": "6a000563db5f43a7a4343ccae0a369c7",
    "idx": 9,
    "time": "2021-02-16T04:03:02.858Z",
    "type": "execution"
   },
   {
    "id": "6a000563db5f43a7a4343ccae0a369c7",
    "time": "2021-02-16T04:03:02.973Z",
    "type": "completion"
   },
   {
    "code": "def square(x,y):\n    return np.log(fact(x**2)+y**2)",
    "id": "1b0303ae62f74bebbd3a8b29fcf8f345",
    "idx": 8,
    "time": "2021-02-16T04:04:28.144Z",
    "type": "execution"
   },
   {
    "id": "1b0303ae62f74bebbd3a8b29fcf8f345",
    "time": "2021-02-16T04:04:28.238Z",
    "type": "completion"
   },
   {
    "code": "y = np.linspace(0, 10, 11)\nx = np.linspace(0, 10, 11)\n\nx_2d, y_2d = np.meshgrid(x,y)\nprint(x_2d)\n#print(z_2d)\nx_2d = x_2d.astype(int)\nz_2d=square(x_2d)\n#z_2d = F(x_2d, y_2d, NA, NB)\n#z_2d.shape\n#z_2d",
    "id": "6a000563db5f43a7a4343ccae0a369c7",
    "idx": 9,
    "time": "2021-02-16T04:04:29.076Z",
    "type": "execution"
   },
   {
    "id": "6a000563db5f43a7a4343ccae0a369c7",
    "time": "2021-02-16T04:04:29.195Z",
    "type": "completion"
   },
   {
    "code": "y = np.linspace(0, 10, 11)\nx = np.linspace(0, 10, 11)\n\nx_2d, y_2d = np.meshgrid(x,y)\nprint(x_2d)\n#print(z_2d)\nx_2d = x_2d.astype(int)\nz_2d=square(x_2d,10)\n#z_2d = F(x_2d, y_2d, NA, NB)\n#z_2d.shape\n#z_2d",
    "id": "6a000563db5f43a7a4343ccae0a369c7",
    "idx": 9,
    "time": "2021-02-16T04:04:44.640Z",
    "type": "execution"
   },
   {
    "id": "6a000563db5f43a7a4343ccae0a369c7",
    "time": "2021-02-16T04:04:44.737Z",
    "type": "completion"
   },
   {
    "code": "y = np.linspace(0, 10, 11)\nx = np.linspace(0, 10, 11)\n\nx_2d, y_2d = np.meshgrid(x,y)\n#print(x_2d)\n#print(z_2d)\nx_2d = x_2d.astype(int)\nz_2d=square(x_2d,10)\n#z_2d = F(x_2d, y_2d, NA, NB)\n#z_2d.shape\nz_2d",
    "id": "6a000563db5f43a7a4343ccae0a369c7",
    "idx": 9,
    "time": "2021-02-16T04:05:03.668Z",
    "type": "execution"
   },
   {
    "id": "6a000563db5f43a7a4343ccae0a369c7",
    "time": "2021-02-16T04:05:03.770Z",
    "type": "completion"
   },
   {
    "code": "y = np.linspace(0, 10, 11)\nx = np.linspace(0, 10, 11)\n\nx_2d, y_2d = np.meshgrid(x,y)\n#print(x_2d)\n#print(z_2d)\nx_2d = x_2d.astype(int)\n#z_2d=square(x_2d,10)\nz_2d=sigma(x_2d, 100,100)\n#z_2d = F(x_2d, y_2d, NA, NB)\n#z_2d.shape\nz_2d",
    "id": "6a000563db5f43a7a4343ccae0a369c7",
    "idx": 9,
    "time": "2021-02-16T04:06:12.701Z",
    "type": "execution"
   },
   {
    "id": "6a000563db5f43a7a4343ccae0a369c7",
    "time": "2021-02-16T04:06:12.849Z",
    "type": "completion"
   },
   {
    "code": "y = np.linspace(0, 10, 11)\nx = np.linspace(0, 10, 11)\n\nx_2d, y_2d = np.meshgrid(x,y)\n#print(x_2d)\n#print(z_2d)\nx_2d = x_2d.astype(int)\n#z_2d=square(x_2d,10)\nz_2d=sigma(x_2d, NA,100)\n#z_2d = F(x_2d, y_2d, NA, NB)\n#z_2d.shape\nz_2d",
    "id": "6a000563db5f43a7a4343ccae0a369c7",
    "idx": 9,
    "time": "2021-02-16T04:06:28.530Z",
    "type": "execution"
   },
   {
    "id": "6a000563db5f43a7a4343ccae0a369c7",
    "time": "2021-02-16T04:06:28.595Z",
    "type": "completion"
   },
   {
    "code": "y = np.linspace(0, 10, 11)\nx = np.linspace(0, 10, 11)\n\nx_2d, y_2d = np.meshgrid(x,y)\n#print(x_2d)\n#print(z_2d)\nx_2d = x_2d.astype(int)\n#z_2d=square(x_2d,10)\nz_2d=sigma(x_2d, 100,100)\n#z_2d = F(x_2d, y_2d, NA, NB)\n#z_2d.shape\nz_2d",
    "id": "6a000563db5f43a7a4343ccae0a369c7",
    "idx": 9,
    "time": "2021-02-16T04:07:04.507Z",
    "type": "execution"
   },
   {
    "id": "6a000563db5f43a7a4343ccae0a369c7",
    "time": "2021-02-16T04:07:04.974Z",
    "type": "completion"
   },
   {
    "code": "y = np.linspace(0, 10, 11)\nx = np.linspace(0, 10, 11)\n\nx_2d, y_2d = np.meshgrid(x,y)\n#print(x_2d)\n#print(z_2d)\nx_2d = x_2d.astype(int)\n#z_2d=square(x_2d,10)\nz_2d=sigma(x_2d, 1000,1000)\n#z_2d = F(x_2d, y_2d, NA, NB)\n#z_2d.shape\nz_2d",
    "id": "6a000563db5f43a7a4343ccae0a369c7",
    "idx": 9,
    "time": "2021-02-16T04:07:16.213Z",
    "type": "execution"
   },
   {
    "id": "6a000563db5f43a7a4343ccae0a369c7",
    "time": "2021-02-16T04:07:16.351Z",
    "type": "completion"
   },
   {
    "code": "y = np.linspace(0, 10, 11)\nx = np.linspace(0, 10, 11)\n\nx_2d, y_2d = np.meshgrid(x,y)\n#print(x_2d)\n#print(z_2d)\nx_2d = x_2d.astype(int)\n#z_2d=square(x_2d,10)\nz_2d=sigma(x_2d, 100,100)\n#z_2d = F(x_2d, y_2d, NA, NB)\n#z_2d.shape\nz_2d",
    "id": "6a000563db5f43a7a4343ccae0a369c7",
    "idx": 9,
    "time": "2021-02-16T04:07:40.235Z",
    "type": "execution"
   },
   {
    "id": "6a000563db5f43a7a4343ccae0a369c7",
    "time": "2021-02-16T04:07:40.351Z",
    "type": "completion"
   },
   {
    "code": "import numpy as np\nimport math as math\nimport scipy.stats as st\nimport scipy.special  \nimport matplotlib.pyplot as plt\n\nN = 1000\nn = []\nfor i in range((N//3)):\n    n.append(i/1.0)\n\ntau = []\nfor i in range((1000)):\n    tau.append(i/1000)\n\nfact = scipy.special.factorial\nNA = 500\nNB = 500\n#ntest = 500\ndef sigma(ntest): \n    NA=1000\n    NB=1000\n    return np.log(fact(NA)/(fact(ntest)*fact(NA-ntest))) + np.log(fact(NB)/(fact(ntest)*fact(NB-ntest)))\n                                                       ",
    "id": "c1570dcaadb349c585c0a8d626b617d0",
    "idx": 6,
    "time": "2021-02-16T05:23:22.142Z",
    "type": "execution"
   },
   {
    "id": "c1570dcaadb349c585c0a8d626b617d0",
    "time": "2021-02-16T05:23:23.173Z",
    "type": "completion"
   },
   {
    "code": "def F(tautest,ntest):\n    itest=int(ntest)\n    return 2*ntest - tautest*sigma(itest, NA,NB)",
    "id": "42da82d19b624f108c8925748ba855df",
    "idx": 7,
    "time": "2021-02-16T05:23:24.001Z",
    "type": "execution"
   },
   {
    "id": "42da82d19b624f108c8925748ba855df",
    "time": "2021-02-16T05:23:24.061Z",
    "type": "completion"
   },
   {
    "code": "def square(x,y):\n    return np.log(fact(x**2)+y**2)",
    "id": "a0275565515c41ca800c9243e5fcdc19",
    "idx": 8,
    "time": "2021-02-16T05:23:24.571Z",
    "type": "execution"
   },
   {
    "id": "a0275565515c41ca800c9243e5fcdc19",
    "time": "2021-02-16T05:23:24.632Z",
    "type": "completion"
   },
   {
    "code": "y = np.linspace(0, 10, 11)\nx = np.linspace(0, 10, 11)\n\nx_2d, y_2d = np.meshgrid(x,y)\n#print(x_2d)\n#print(z_2d)\nx_2d = x_2d.astype(int)\n#z_2d=square(x_2d,10)\nz_2d=sigma(x_2d)\n#z_2d = F(x_2d, y_2d, NA, NB)\n#z_2d.shape\nz_2d",
    "id": "9cdd8b47c0424735be15ebdf7177ecdb",
    "idx": 9,
    "time": "2021-02-16T05:23:25.478Z",
    "type": "execution"
   },
   {
    "id": "9cdd8b47c0424735be15ebdf7177ecdb",
    "time": "2021-02-16T05:23:25.550Z",
    "type": "completion"
   },
   {
    "code": "y = np.linspace(500, 510, 11)\nx = np.linspace(0, 10, 11)\n\nx_2d, y_2d = np.meshgrid(x,y)\n#print(x_2d)\n#print(z_2d)\nx_2d = x_2d.astype(int)\n#z_2d=square(x_2d,10)\nz_2d=sigma(x_2d)\n#z_2d = F(x_2d, y_2d, NA, NB)\n#z_2d.shape\nz_2d",
    "id": "9cdd8b47c0424735be15ebdf7177ecdb",
    "idx": 9,
    "time": "2021-02-16T05:24:04.705Z",
    "type": "execution"
   },
   {
    "id": "9cdd8b47c0424735be15ebdf7177ecdb",
    "time": "2021-02-16T05:24:04.778Z",
    "type": "completion"
   },
   {
    "code": "import numpy as np\nimport math as math\nimport scipy.stats as st\nimport scipy.special  \nimport matplotlib.pyplot as plt\n\nN = 1000\nn = []\nfor i in range((N//3)):\n    n.append(i/1.0)\n\ntau = []\nfor i in range((1000)):\n    tau.append(i/1000)\n\nfact = scipy.special.factorial\nNA = 500\nNB = 500\n#ntest = 500\ndef sigma(ntest): \n    NA=1000\n    NB=1000\n    return np.log(fact(NA)/(fact(ntest)*fact(NA-ntest))) + np.log(fact(NB)/(fact(ntest)*fact(NB-ntest)))\n\nsigma(1)\nsigma(100)\nsigma(500)\n                                                       ",
    "id": "c1570dcaadb349c585c0a8d626b617d0",
    "idx": 6,
    "time": "2021-02-16T05:25:01.500Z",
    "type": "execution"
   },
   {
    "id": "c1570dcaadb349c585c0a8d626b617d0",
    "time": "2021-02-16T05:25:01.591Z",
    "type": "completion"
   },
   {
    "code": "import numpy as np\nimport math as math\nimport scipy.stats as st\nimport scipy.special  \nimport matplotlib.pyplot as plt\n\nN = 1000\nn = []\nfor i in range((N//3)):\n    n.append(i/1.0)\n\ntau = []\nfor i in range((1000)):\n    tau.append(i/1000)\n\nfact = scipy.special.factorial\nNA = 1000\nNB = 1000\n#ntest = 500\ndef sigma(ntest): \n    NA=1000\n    NB=1000\n    return np.log(fact(NA)/(fact(ntest)*fact(NA-ntest))) + np.log(fact(NB)/(fact(ntest)*fact(NB-ntest)))\n\nsigma(1)\nsigma(100)\nsigma(500)\n                                                       ",
    "id": "c1570dcaadb349c585c0a8d626b617d0",
    "idx": 6,
    "time": "2021-02-16T05:25:46.743Z",
    "type": "execution"
   },
   {
    "id": "c1570dcaadb349c585c0a8d626b617d0",
    "time": "2021-02-16T05:25:46.818Z",
    "type": "completion"
   },
   {
    "code": "import numpy as np\nimport math as math\nimport scipy.stats as st\nimport scipy.special  \nimport matplotlib.pyplot as plt\n\nN = 1000\nn = []\nfor i in range((N//3)):\n    n.append(i/1.0)\n\ntau = []\nfor i in range((1000)):\n    tau.append(i/1000)\n\nfact = scipy.special.factorial\nNA = 1000\nNB = 1000\n#ntest = 500\ndef sigma(ntest): \n    NA=1000\n    NB=1000\n    return np.log(fact(NA)/(fact(ntest)*fact(NA-ntest))) + np.log(fact(NB)/(fact(ntest)*fact(NB-ntest)))\n\nsigma(1)\nsigma(100)\nsigma(500)\n                                                       ",
    "id": "c1570dcaadb349c585c0a8d626b617d0",
    "idx": 6,
    "time": "2021-02-16T05:25:53.885Z",
    "type": "execution"
   },
   {
    "id": "c1570dcaadb349c585c0a8d626b617d0",
    "time": "2021-02-16T05:25:53.956Z",
    "type": "completion"
   },
   {
    "code": "import numpy as np\nimport math as math\nimport scipy.stats as st\nimport scipy.special  \nimport matplotlib.pyplot as plt\n\nN = 1000\nn = []\nfor i in range((N//3)):\n    n.append(i/1.0)\n\ntau = []\nfor i in range((1000)):\n    tau.append(i/1000)\n\nfact = scipy.special.factorial\nNA = 1000\nNB = 1000\n#ntest = 500\ndef sigma(ntest): \n    NA=1000\n    NB=1000\n    return fact(NA)/(fact(ntest)*fact(NA-ntest)) \n    #return np.log(fact(NA)/(fact(ntest)*fact(NA-ntest))) + np.log(fact(NB)/(fact(ntest)*fact(NB-ntest)))\n\nsigma(1)\nsigma(100)\nsigma(500)\n                                                       ",
    "id": "c1570dcaadb349c585c0a8d626b617d0",
    "idx": 6,
    "time": "2021-02-16T05:27:07.968Z",
    "type": "execution"
   },
   {
    "id": "c1570dcaadb349c585c0a8d626b617d0",
    "time": "2021-02-16T05:27:08.054Z",
    "type": "completion"
   },
   {
    "code": "def F(tautest,ntest):\n    itest=int(ntest)\n    return 2*ntest - tautest*sigma(itest, NA,NB)",
    "id": "42da82d19b624f108c8925748ba855df",
    "idx": 7,
    "time": "2021-02-16T05:27:09.193Z",
    "type": "execution"
   },
   {
    "id": "42da82d19b624f108c8925748ba855df",
    "time": "2021-02-16T05:27:09.252Z",
    "type": "completion"
   },
   {
    "code": "import numpy as np\nimport math as math\nimport scipy.stats as st\nimport scipy.special  \nimport matplotlib.pyplot as plt\n\nN = 1000\nn = []\nfor i in range((N//3)):\n    n.append(i/1.0)\n\ntau = []\nfor i in range((1000)):\n    tau.append(i/1000)\n\nfact = scipy.special.factorial\nNA = 1000\nNB = 1000\n#ntest = 500\ndef sigma(ntest): \n    NA=1000\n    NB=1000\n    return fact(NA)/(fact(ntest)*fact(NA-ntest)) \n    #return np.log(fact(NA)/(fact(ntest)*fact(NA-ntest))) + np.log(fact(NB)/(fact(ntest)*fact(NB-ntest)))\n\nsigma(1)\nsigma(100)\nsigma(500)\n                                                       ",
    "id": "c1570dcaadb349c585c0a8d626b617d0",
    "idx": 6,
    "time": "2021-02-16T05:27:14.739Z",
    "type": "execution"
   },
   {
    "id": "c1570dcaadb349c585c0a8d626b617d0",
    "time": "2021-02-16T05:27:14.804Z",
    "type": "completion"
   },
   {
    "code": "import numpy as np\nimport math as math\nimport scipy.stats as st\nimport scipy.special  \nimport matplotlib.pyplot as plt\n\nN = 1000\nn = []\nfor i in range((N//3)):\n    n.append(i/1.0)\n\ntau = []\nfor i in range((1000)):\n    tau.append(i/1000)\n\nfact = scipy.special.factorial\nNA = 1000\nNB = 1000\n#ntest = 500\ndef sigma(ntest): \n    NA=1000\n    NB=1000\n    # return fact(NA)/(fact(ntest)*fact(NA-ntest)) \n    return fact(NA)\n    #return np.log(fact(NA)/(fact(ntest)*fact(NA-ntest))) + np.log(fact(NB)/(fact(ntest)*fact(NB-ntest)))\n\nsigma(1)\nsigma(100)\nsigma(500)\n                                                       ",
    "id": "c1570dcaadb349c585c0a8d626b617d0",
    "idx": 6,
    "time": "2021-02-16T05:28:17.242Z",
    "type": "execution"
   },
   {
    "id": "c1570dcaadb349c585c0a8d626b617d0",
    "time": "2021-02-16T05:28:17.312Z",
    "type": "completion"
   },
   {
    "code": "import numpy as np\nimport math as math\nimport scipy.stats as st\nimport scipy.special  \nimport matplotlib.pyplot as plt\n\nN = 1000\nn = []\nfor i in range((N//3)):\n    n.append(i/1.0)\n\ntau = []\nfor i in range((1000)):\n    tau.append(i/1000)\n\nfact = scipy.special.factorial\nNA = 100\nNB = 100\n#ntest = 500\ndef sigma(ntest): \n    NA=1000\n    NB=1000\n    # return fact(NA)/(fact(ntest)*fact(NA-ntest)) \n    return fact(NA)\n    #return np.log(fact(NA)/(fact(ntest)*fact(NA-ntest))) + np.log(fact(NB)/(fact(ntest)*fact(NB-ntest)))\n\nsigma(1)\nsigma(100)\nsigma(500)\n                                                       ",
    "id": "c1570dcaadb349c585c0a8d626b617d0",
    "idx": 6,
    "time": "2021-02-16T05:28:25.416Z",
    "type": "execution"
   },
   {
    "id": "c1570dcaadb349c585c0a8d626b617d0",
    "time": "2021-02-16T05:28:25.481Z",
    "type": "completion"
   },
   {
    "code": "def F(tautest,ntest):\n    itest=int(ntest)\n    return 2*ntest - tautest*sigma(itest, NA,NB)",
    "id": "42da82d19b624f108c8925748ba855df",
    "idx": 7,
    "time": "2021-02-16T05:28:27.130Z",
    "type": "execution"
   },
   {
    "id": "42da82d19b624f108c8925748ba855df",
    "time": "2021-02-16T05:28:27.187Z",
    "type": "completion"
   },
   {
    "code": "import numpy as np\nimport math as math\nimport scipy.stats as st\nimport scipy.special  \nimport matplotlib.pyplot as plt\n\nN = 1000\nn = []\nfor i in range((N//3)):\n    n.append(i/1.0)\n\ntau = []\nfor i in range((1000)):\n    tau.append(i/1000)\n\nfact = scipy.special.factorial\nNA = 100\nNB = 100\n#ntest = 500\ndef sigma(ntest): \n    NA=100\n    NB=100\n    # return fact(NA)/(fact(ntest)*fact(NA-ntest)) \n    return fact(NA)\n    #return np.log(fact(NA)/(fact(ntest)*fact(NA-ntest))) + np.log(fact(NB)/(fact(ntest)*fact(NB-ntest)))\n\nsigma(1)\nsigma(100)\nsigma(500)\n                                                       ",
    "id": "c1570dcaadb349c585c0a8d626b617d0",
    "idx": 6,
    "time": "2021-02-16T05:28:48.785Z",
    "type": "execution"
   },
   {
    "id": "c1570dcaadb349c585c0a8d626b617d0",
    "time": "2021-02-16T05:28:48.856Z",
    "type": "completion"
   },
   {
    "code": "import numpy as np\nimport math as math\nimport scipy.stats as st\nimport scipy.special  \nimport matplotlib.pyplot as plt\n\nN = 1000\nn = []\nfor i in range((N//3)):\n    n.append(i/1.0)\n\ntau = []\nfor i in range((1000)):\n    tau.append(i/1000)\n\nfact = scipy.special.factorial\nNA = 100\nNB = 100\n#ntest = 500\ndef sigma(ntest): \n    NA=500\n    NB=500\n    # return fact(NA)/(fact(ntest)*fact(NA-ntest)) \n    return fact(NA)\n    #return np.log(fact(NA)/(fact(ntest)*fact(NA-ntest))) + np.log(fact(NB)/(fact(ntest)*fact(NB-ntest)))\n\nsigma(1)\nsigma(100)\nsigma(500)\n                                                       ",
    "id": "c1570dcaadb349c585c0a8d626b617d0",
    "idx": 6,
    "time": "2021-02-16T05:29:07.819Z",
    "type": "execution"
   },
   {
    "id": "c1570dcaadb349c585c0a8d626b617d0",
    "time": "2021-02-16T05:29:07.881Z",
    "type": "completion"
   },
   {
    "code": "import numpy as np\nimport math as math\nimport scipy.stats as st\nimport scipy.special  \nimport matplotlib.pyplot as plt\n\nN = 1000\nn = []\nfor i in range((N//3)):\n    n.append(i/1.0)\n\ntau = []\nfor i in range((1000)):\n    tau.append(i/1000)\n\nfact = scipy.special.factorial\nNA = 100\nNB = 100\n#ntest = 500\ndef sigma(ntest): \n    NA=400\n    NB=500\n    # return fact(NA)/(fact(ntest)*fact(NA-ntest)) \n    return fact(NA)\n    #return np.log(fact(NA)/(fact(ntest)*fact(NA-ntest))) + np.log(fact(NB)/(fact(ntest)*fact(NB-ntest)))\n\nsigma(1)\nsigma(100)\nsigma(500)\n                                                       ",
    "id": "c1570dcaadb349c585c0a8d626b617d0",
    "idx": 6,
    "time": "2021-02-16T05:29:13.063Z",
    "type": "execution"
   },
   {
    "id": "c1570dcaadb349c585c0a8d626b617d0",
    "time": "2021-02-16T05:29:13.146Z",
    "type": "completion"
   },
   {
    "code": "import numpy as np\nimport math as math\nimport scipy.stats as st\nimport scipy.special  \nimport matplotlib.pyplot as plt\n\nN = 1000\nn = []\nfor i in range((N//3)):\n    n.append(i/1.0)\n\ntau = []\nfor i in range((1000)):\n    tau.append(i/1000)\n\nfact = scipy.special.factorial\nNA = 100\nNB = 100\n#ntest = 500\ndef sigma(ntest): \n    NA=400\n    NB=400\n    # return fact(NA)/(fact(ntest)*fact(NA-ntest)) \n    return fact(NA)\n    #return np.log(fact(NA)/(fact(ntest)*fact(NA-ntest))) + np.log(fact(NB)/(fact(ntest)*fact(NB-ntest)))\n\nsigma(1)\nsigma(100)\nsigma(500)\n                                                       ",
    "id": "c1570dcaadb349c585c0a8d626b617d0",
    "idx": 6,
    "time": "2021-02-16T05:29:19.438Z",
    "type": "execution"
   },
   {
    "id": "c1570dcaadb349c585c0a8d626b617d0",
    "time": "2021-02-16T05:29:19.504Z",
    "type": "completion"
   },
   {
    "code": "import numpy as np\nimport math as math\nimport scipy.stats as st\nimport scipy.special  \nimport matplotlib.pyplot as plt\n\nN = 1000\nn = []\nfor i in range((N//3)):\n    n.append(i/1.0)\n\ntau = []\nfor i in range((1000)):\n    tau.append(i/1000)\n\nfact = scipy.special.factorial\nNA = 100\nNB = 100\n#ntest = 500\ndef sigma(ntest): \n    NA=400\n    NB=400\n    # return fact(NA)/(fact(ntest)*fact(NA-ntest)) \n    return fact(NA)\n    #return np.log(fact(NA)/(fact(ntest)*fact(NA-ntest))) + np.log(fact(NB)/(fact(ntest)*fact(NB-ntest)))\n\nsigma(1)\nsigma(100)\nsigma(500)\nfact(500)\n                                                       ",
    "id": "c1570dcaadb349c585c0a8d626b617d0",
    "idx": 6,
    "time": "2021-02-16T05:30:01.553Z",
    "type": "execution"
   },
   {
    "id": "c1570dcaadb349c585c0a8d626b617d0",
    "time": "2021-02-16T05:30:01.620Z",
    "type": "completion"
   },
   {
    "code": "import numpy as np\nimport math as math\nimport scipy.stats as st\nimport scipy.special  \nimport matplotlib.pyplot as plt\n\nN = 1000\nn = []\nfor i in range((N//3)):\n    n.append(i/1.0)\n\ntau = []\nfor i in range((1000)):\n    tau.append(i/1000)\n\nfact = scipy.special.factorial\nNA = 100\nNB = 100\n#ntest = 500\ndef sigma(ntest): \n    NA=400\n    NB=400\n    # return fact(NA)/(fact(ntest)*fact(NA-ntest)) \n    return fact(NA)\n    #return np.log(fact(NA)/(fact(ntest)*fact(NA-ntest))) + np.log(fact(NB)/(fact(ntest)*fact(NB-ntest)))\n\n#sigma(1)\n#sigma(100)\n#sigma(500)\nfact(500)\n                                                       ",
    "id": "c1570dcaadb349c585c0a8d626b617d0",
    "idx": 6,
    "time": "2021-02-16T05:30:15.435Z",
    "type": "execution"
   },
   {
    "id": "c1570dcaadb349c585c0a8d626b617d0",
    "time": "2021-02-16T05:30:17.201Z",
    "type": "completion"
   },
   {
    "code": "import numpy as np\nimport math as math\nimport scipy.stats as st\nimport scipy.special  \nimport matplotlib.pyplot as plt\n\nN = 1000\nn = []\nfor i in range((N//3)):\n    n.append(i/1.0)\n\ntau = []\nfor i in range((1000)):\n    tau.append(i/1000)\n\nfact = scipy.special.factorial\nNA = 100\nNB = 100\n#ntest = 500\ndef sigma(ntest): \n    NA=400\n    NB=400\n    # return fact(NA)/(fact(ntest)*fact(NA-ntest)) \n    return fact(NA)\n    #return np.log(fact(NA)/(fact(ntest)*fact(NA-ntest))) + np.log(fact(NB)/(fact(ntest)*fact(NB-ntest)))\n\n#sigma(1)\n#sigma(100)\n#sigma(500)\nfact(500)\n                                                       ",
    "id": "c1570dcaadb349c585c0a8d626b617d0",
    "idx": 6,
    "time": "2021-02-16T05:30:18.589Z",
    "type": "execution"
   },
   {
    "id": "c1570dcaadb349c585c0a8d626b617d0",
    "time": "2021-02-16T05:30:18.651Z",
    "type": "completion"
   },
   {
    "code": "import numpy as np\nimport math as math\nimport scipy.stats as st\nimport scipy.special  \nimport matplotlib.pyplot as plt\n\nN = 1000\nn = []\nfor i in range((N//3)):\n    n.append(i/1.0)\n\ntau = []\nfor i in range((1000)):\n    tau.append(i/1000)\n\nfact = scipy.special.factorial\nNA = 100\nNB = 100\n#ntest = 500\ndef sigma(ntest): \n    NA=400\n    NB=400\n    # return fact(NA)/(fact(ntest)*fact(NA-ntest)) \n    return fact(NA)\n    #return np.log(fact(NA)/(fact(ntest)*fact(NA-ntest))) + np.log(fact(NB)/(fact(ntest)*fact(NB-ntest)))\n\n#sigma(1)\n#sigma(100)\n#sigma(500)\n#fact(500)\n                                                       ",
    "id": "c1570dcaadb349c585c0a8d626b617d0",
    "idx": 6,
    "time": "2021-02-16T05:30:39.042Z",
    "type": "execution"
   },
   {
    "id": "c1570dcaadb349c585c0a8d626b617d0",
    "time": "2021-02-16T05:30:39.116Z",
    "type": "completion"
   },
   {
    "code": "import numpy as np\nimport math as math\nimport scipy.stats as st\nimport scipy.special  \nimport matplotlib.pyplot as plt\n\nN = 1000\nn = []\nfor i in range((N//3)):\n    n.append(i/1.0)\n\ntau = []\nfor i in range((1000)):\n    tau.append(i/1000)\n\nfact = scipy.special.factorial\nNA = 100\nNB = 100\n#ntest = 500\ndef sigma(ntest): \n    NA=400\n    NB=400\n    # return fact(NA)/(fact(ntest)*fact(NA-ntest)) \n    return fact(NA)\n    #return np.log(fact(NA)/(fact(ntest)*fact(NA-ntest))) + np.log(fact(NB)/(fact(ntest)*fact(NB-ntest)))\n\n#sigma(1)\n#sigma(100)\n#sigma(500)\n#fact(500)\nmath.factorial(500)\n                                                       ",
    "id": "c1570dcaadb349c585c0a8d626b617d0",
    "idx": 6,
    "time": "2021-02-16T05:31:03.296Z",
    "type": "execution"
   },
   {
    "id": "c1570dcaadb349c585c0a8d626b617d0",
    "time": "2021-02-16T05:31:03.361Z",
    "type": "completion"
   },
   {
    "code": "import numpy as np\nimport math as math\nimport scipy.stats as st\nimport scipy.special  \nimport matplotlib.pyplot as plt\n\nN = 1000\nn = []\nfor i in range((N//3)):\n    n.append(i/1.0)\n\ntau = []\nfor i in range((1000)):\n    tau.append(i/1000)\n\nfact = scipy.special.factorial\nNA = 100\nNB = 100\n#ntest = 500\ndef sigma(ntest): \n    NA=400\n    NB=400\n    # return fact(NA)/(fact(ntest)*fact(NA-ntest)) \n    return fact(NA)\n    #return np.log(fact(NA)/(fact(ntest)*fact(NA-ntest))) + np.log(fact(NB)/(fact(ntest)*fact(NB-ntest)))\n\n#sigma(1)\n#sigma(100)\n#sigma(500)\n#fact(500)\nmath.factorial(500)\nfact(500)\n                                                       ",
    "id": "c1570dcaadb349c585c0a8d626b617d0",
    "idx": 6,
    "time": "2021-02-16T05:31:33.767Z",
    "type": "execution"
   },
   {
    "id": "c1570dcaadb349c585c0a8d626b617d0",
    "time": "2021-02-16T05:31:33.828Z",
    "type": "completion"
   },
   {
    "code": "import numpy as np\nimport math as math\nimport scipy.stats as st\nimport scipy.special  \nimport matplotlib.pyplot as plt\n\nN = 1000\nn = []\nfor i in range((N//3)):\n    n.append(i/1.0)\n\ntau = []\nfor i in range((1000)):\n    tau.append(i/1000)\n\nfact = scipy.special.factorial\nNA = 100\nNB = 100\n#ntest = 500\ndef sigma(ntest): \n    NA=400\n    NB=400\n    # return fact(NA)/(fact(ntest)*fact(NA-ntest)) \n    return fact(NA)\n    #return np.log(fact(NA)/(fact(ntest)*fact(NA-ntest))) + np.log(fact(NB)/(fact(ntest)*fact(NB-ntest)))\n\n#sigma(1)\n#sigma(100)\n#sigma(500)\n#fact(500)\n#math.factorial(500)\nfact(500)\n                                                       ",
    "id": "c1570dcaadb349c585c0a8d626b617d0",
    "idx": 6,
    "time": "2021-02-16T05:31:42.838Z",
    "type": "execution"
   },
   {
    "id": "c1570dcaadb349c585c0a8d626b617d0",
    "time": "2021-02-16T05:31:42.905Z",
    "type": "completion"
   },
   {
    "code": "import numpy as np\nimport math as math\nimport scipy.stats as st\nimport scipy.special  \nimport matplotlib.pyplot as plt\n\nN = 1000\nn = []\nfor i in range((N//3)):\n    n.append(i/1.0)\n\ntau = []\nfor i in range((1000)):\n    tau.append(i/1000)\n\nfact = scipy.special.factorial\nNA = 100\nNB = 100\n#ntest = 500\ndef sigma(ntest): \n    NA=400\n    NB=400\n    # return fact(NA)/(fact(ntest)*fact(NA-ntest)) \n    return fact(NA)\n    #return np.log(fact(NA)/(fact(ntest)*fact(NA-ntest))) + np.log(fact(NB)/(fact(ntest)*fact(NB-ntest)))\n\n#sigma(1)\n#sigma(100)\n#sigma(500)\n#fact(500)\nmath.factorial(500)\n#fact(500)\n                                                       ",
    "id": "c1570dcaadb349c585c0a8d626b617d0",
    "idx": 6,
    "time": "2021-02-16T05:31:50.952Z",
    "type": "execution"
   },
   {
    "id": "c1570dcaadb349c585c0a8d626b617d0",
    "time": "2021-02-16T05:31:51.016Z",
    "type": "completion"
   },
   {
    "code": "import numpy as np\nimport math as math\nimport scipy.stats as st\nimport scipy.special  \nimport matplotlib.pyplot as plt\n\nN = 1000\nn = []\nfor i in range((N//3)):\n    n.append(i/1.0)\n\ntau = []\nfor i in range((1000)):\n    tau.append(i/1000)\n\nfact(x) = scipy.special.factorial(x, exact=True)\nNA = 100\nNB = 100\n#ntest = 500\ndef sigma(ntest): \n    NA=400\n    NB=400\n    # return fact(NA)/(fact(ntest)*fact(NA-ntest)) \n    return fact(NA)\n    #return np.log(fact(NA)/(fact(ntest)*fact(NA-ntest))) + np.log(fact(NB)/(fact(ntest)*fact(NB-ntest)))\n\n#sigma(1)\n#sigma(100)\n#sigma(500)\n#fact(500)\nmath.factorial(500)\n#fact(500)\n                                                       ",
    "id": "c1570dcaadb349c585c0a8d626b617d0",
    "idx": 6,
    "time": "2021-02-16T05:33:50.553Z",
    "type": "execution"
   },
   {
    "id": "c1570dcaadb349c585c0a8d626b617d0",
    "time": "2021-02-16T05:33:50.661Z",
    "type": "completion"
   },
   {
    "code": "import numpy as np\nimport math as math\nimport scipy.stats as st\nimport scipy.special  \nimport matplotlib.pyplot as plt\n\nN = 1000\nn = []\nfor i in range((N//3)):\n    n.append(i/1.0)\n\ntau = []\nfor i in range((1000)):\n    tau.append(i/1000)\n\ndef fact(x):\n    return scipy.special.factorial(x, exact=True)\n\nNA = 100\nNB = 100\n#ntest = 500\ndef sigma(ntest): \n    NA=400\n    NB=400\n    # return fact(NA)/(fact(ntest)*fact(NA-ntest)) \n    return fact(NA)\n    #return np.log(fact(NA)/(fact(ntest)*fact(NA-ntest))) + np.log(fact(NB)/(fact(ntest)*fact(NB-ntest)))\n\n#sigma(1)\n#sigma(100)\n#sigma(500)\n#fact(500)\nmath.factorial(500)\n#fact(500)\n                                                       ",
    "id": "c1570dcaadb349c585c0a8d626b617d0",
    "idx": 6,
    "time": "2021-02-16T05:34:32.511Z",
    "type": "execution"
   },
   {
    "id": "c1570dcaadb349c585c0a8d626b617d0",
    "time": "2021-02-16T05:34:32.577Z",
    "type": "completion"
   },
   {
    "code": "import numpy as np\nimport math as math\nimport scipy.stats as st\nimport scipy.special  \nimport matplotlib.pyplot as plt\n\nN = 1000\nn = []\nfor i in range((N//3)):\n    n.append(i/1.0)\n\ntau = []\nfor i in range((1000)):\n    tau.append(i/1000)\n\ndef fact(x):\n    return scipy.special.factorial(x, exact=True)\n\nNA = 100\nNB = 100\n#ntest = 500\ndef sigma(ntest): \n    NA=400\n    NB=400\n    # return fact(NA)/(fact(ntest)*fact(NA-ntest)) \n    return fact(NA)\n    #return np.log(fact(NA)/(fact(ntest)*fact(NA-ntest))) + np.log(fact(NB)/(fact(ntest)*fact(NB-ntest)))\n\n#sigma(1)\n#sigma(100)\n#sigma(500)\n#fact(500)\nmath.factorial(500)\nfact(500)\n                                                       ",
    "id": "c1570dcaadb349c585c0a8d626b617d0",
    "idx": 6,
    "time": "2021-02-16T05:34:38.302Z",
    "type": "execution"
   },
   {
    "id": "c1570dcaadb349c585c0a8d626b617d0",
    "time": "2021-02-16T05:34:38.370Z",
    "type": "completion"
   },
   {
    "code": "def F(tautest,ntest):\n    itest=int(ntest)\n    return 2*ntest - tautest*sigma(itest, NA,NB)",
    "id": "42da82d19b624f108c8925748ba855df",
    "idx": 7,
    "time": "2021-02-16T05:34:40.503Z",
    "type": "execution"
   },
   {
    "id": "42da82d19b624f108c8925748ba855df",
    "time": "2021-02-16T05:34:40.563Z",
    "type": "completion"
   },
   {
    "code": "import numpy as np\nimport math as math\nimport scipy.stats as st\nimport scipy.special  \nimport matplotlib.pyplot as plt\n\nN = 1000\nn = []\nfor i in range((N//3)):\n    n.append(i/1.0)\n\ntau = []\nfor i in range((1000)):\n    tau.append(i/1000)\n\ndef fact(x):\n    return scipy.special.factorial(x, exact=True)\n\nNA = 100\nNB = 100\n#ntest = 500\ndef sigma(ntest): \n    NA=400\n    NB=400\n    # return fact(NA)/(fact(ntest)*fact(NA-ntest)) \n    return fact(NA)\n    #return np.log(fact(NA)/(fact(ntest)*fact(NA-ntest))) + np.log(fact(NB)/(fact(ntest)*fact(NB-ntest)))\n\n#sigma(1)\n#sigma(100)\n#sigma(500)\n#fact(500)\nmath.factorial(500)\nfact(500)\n                                                       ",
    "id": "c1570dcaadb349c585c0a8d626b617d0",
    "idx": 6,
    "time": "2021-02-16T05:34:43.931Z",
    "type": "execution"
   },
   {
    "id": "c1570dcaadb349c585c0a8d626b617d0",
    "time": "2021-02-16T05:34:44.011Z",
    "type": "completion"
   },
   {
    "code": "import numpy as np\nimport math as math\nimport scipy.stats as st\nimport scipy.special  \nimport matplotlib.pyplot as plt\n\nN = 1000\nn = []\nfor i in range((N//3)):\n    n.append(i/1.0)\n\ntau = []\nfor i in range((1000)):\n    tau.append(i/1000)\n\ndef fact(x):\n    return scipy.special.factorial(x, exact=True)\n\nNA = 100\nNB = 100\n#ntest = 500\ndef sigma(ntest): \n    NA=400\n    NB=400\n    # return fact(NA)/(fact(ntest)*fact(NA-ntest)) \n    return fact(NA)\n    #return np.log(fact(NA)/(fact(ntest)*fact(NA-ntest))) + np.log(fact(NB)/(fact(ntest)*fact(NB-ntest)))\n\n#sigma(1)\n#sigma(100)\n#sigma(500)\n#fact(500)\n#math.factorial(500)\nfact(500)\n                                                       ",
    "id": "c1570dcaadb349c585c0a8d626b617d0",
    "idx": 6,
    "time": "2021-02-16T05:34:51.475Z",
    "type": "execution"
   },
   {
    "id": "c1570dcaadb349c585c0a8d626b617d0",
    "time": "2021-02-16T05:34:51.558Z",
    "type": "completion"
   },
   {
    "code": "def F(tautest,ntest):\n    itest=int(ntest)\n    return 2*ntest - tautest*sigma(itest, NA,NB)",
    "id": "42da82d19b624f108c8925748ba855df",
    "idx": 7,
    "time": "2021-02-16T05:34:54.843Z",
    "type": "execution"
   },
   {
    "id": "42da82d19b624f108c8925748ba855df",
    "time": "2021-02-16T05:34:54.899Z",
    "type": "completion"
   },
   {
    "code": "def square(x,y):\n    return np.log(fact(x**2)+y**2)",
    "id": "a0275565515c41ca800c9243e5fcdc19",
    "idx": 8,
    "time": "2021-02-16T05:34:56.334Z",
    "type": "execution"
   },
   {
    "id": "a0275565515c41ca800c9243e5fcdc19",
    "time": "2021-02-16T05:34:56.395Z",
    "type": "completion"
   },
   {
    "code": "y = np.linspace(500, 510, 11)\nx = np.linspace(0, 10, 11)\n\nx_2d, y_2d = np.meshgrid(x,y)\n#print(x_2d)\n#print(z_2d)\nx_2d = x_2d.astype(int)\n#z_2d=square(x_2d,10)\nz_2d=sigma(x_2d)\n#z_2d = F(x_2d, y_2d, NA, NB)\n#z_2d.shape\nz_2d",
    "id": "9cdd8b47c0424735be15ebdf7177ecdb",
    "idx": 9,
    "time": "2021-02-16T05:34:58.261Z",
    "type": "execution"
   },
   {
    "id": "9cdd8b47c0424735be15ebdf7177ecdb",
    "time": "2021-02-16T05:34:58.327Z",
    "type": "completion"
   },
   {
    "code": "y = np.linspace(500, 510, 11)\nx = np.linspace(0, 10, 11)\n\nx_2d, y_2d = np.meshgrid(x,y)\n#print(x_2d)\n#print(z_2d)\nx_2d = x_2d.astype(int)\n#z_2d=square(x_2d,10)\nz_2d=sigma(x_2d)\n#z_2d = F(x_2d, y_2d, NA, NB)\n#z_2d.shape\nz_2d",
    "id": "9cdd8b47c0424735be15ebdf7177ecdb",
    "idx": 9,
    "time": "2021-02-16T05:35:01.492Z",
    "type": "execution"
   },
   {
    "id": "9cdd8b47c0424735be15ebdf7177ecdb",
    "time": "2021-02-16T05:35:01.556Z",
    "type": "completion"
   },
   {
    "code": "import numpy as np\nimport math as math\nimport scipy.stats as st\nimport scipy.special  \nimport matplotlib.pyplot as plt\n\nN = 1000\nn = []\nfor i in range((N//3)):\n    n.append(i/1.0)\n\ntau = []\nfor i in range((1000)):\n    tau.append(i/1000)\n\ndef fact(x):\n    return scipy.special.factorial(x, exact=True)\n\nNA = 100\nNB = 100\n#ntest = 500\ndef sigma(ntest): \n    NA=400\n    NB=400\n    # return fact(NA)/(fact(ntest)*fact(NA-ntest)) \n    return fact(NA)\n    #return np.log(fact(NA)/(fact(ntest)*fact(NA-ntest))) + np.log(fact(NB)/(fact(ntest)*fact(NB-ntest)))\n\n#sigma(1)\n#sigma(100)\n#sigma(500)\n#fact(500)\n#math.factorial(500)\nfact(500)\n                                                       ",
    "id": "c1570dcaadb349c585c0a8d626b617d0",
    "idx": 6,
    "time": "2021-02-16T05:35:12.418Z",
    "type": "execution"
   },
   {
    "id": "c1570dcaadb349c585c0a8d626b617d0",
    "time": "2021-02-16T05:35:12.487Z",
    "type": "completion"
   },
   {
    "code": "import numpy as np\nimport math as math\nimport scipy.stats as st\nimport scipy.special  \nimport matplotlib.pyplot as plt\n\nN = 1000\nn = []\nfor i in range((N//3)):\n    n.append(i/1.0)\n\ntau = []\nfor i in range((1000)):\n    tau.append(i/1000)\n\ndef fact(x):\n    return scipy.special.factorial(x, exact=True)\n\nNA = 100\nNB = 100\n#ntest = 500\ndef sigma(ntest): \n    NA=400\n    NB=400\n    # return fact(NA)/(fact(ntest)*fact(NA-ntest)) \n    return fact(NA)\n    #return np.log(fact(NA)/(fact(ntest)*fact(NA-ntest))) + np.log(fact(NB)/(fact(ntest)*fact(NB-ntest)))\n\n#sigma(1)\n#sigma(100)\n#sigma(500)\n#fact(500)\n#math.factorial(500)\n#fact(500)\n                                                       ",
    "id": "c1570dcaadb349c585c0a8d626b617d0",
    "idx": 6,
    "time": "2021-02-16T05:35:20.535Z",
    "type": "execution"
   },
   {
    "id": "c1570dcaadb349c585c0a8d626b617d0",
    "time": "2021-02-16T05:35:20.607Z",
    "type": "completion"
   },
   {
    "code": "import numpy as np\nimport math as math\nimport scipy.stats as st\nimport scipy.special  \nimport matplotlib.pyplot as plt\n\nN = 1000\nn = []\nfor i in range((N//3)):\n    n.append(i/1.0)\n\ntau = []\nfor i in range((1000)):\n    tau.append(i/1000)\n\ndef fact(x):\n    return scipy.special.factorial(x, exact=True)\n\nNA = 100\nNB = 100\n#ntest = 500\ndef sigma(ntest): \n    NA=400\n    NB=400\n    # return fact(NA)/(fact(ntest)*fact(NA-ntest)) \n    return fact(NA)\n    #return np.log(fact(NA)/(fact(ntest)*fact(NA-ntest))) + np.log(fact(NB)/(fact(ntest)*fact(NB-ntest)))\n\n#sigma(1)\n#sigma(100)\n#sigma(500)\n#fact(500)\nmath.factorial(500)\n#fact(500)\n                                                       ",
    "id": "c1570dcaadb349c585c0a8d626b617d0",
    "idx": 6,
    "time": "2021-02-16T05:35:25.059Z",
    "type": "execution"
   },
   {
    "id": "c1570dcaadb349c585c0a8d626b617d0",
    "time": "2021-02-16T05:35:25.127Z",
    "type": "completion"
   },
   {
    "code": "import numpy as np\nimport math as math\nimport scipy.stats as st\nimport scipy.special  \nimport matplotlib.pyplot as plt\n\nN = 1000\nn = []\nfor i in range((N//3)):\n    n.append(i/1.0)\n\ntau = []\nfor i in range((1000)):\n    tau.append(i/1000)\n\ndef fact(x):\n    return scipy.special.factorial(x, exact=True)\n\nNA = 100\nNB = 100\n#ntest = 500\ndef sigma(ntest): \n    NA=400\n    NB=400\n    # return fact(NA)/(fact(ntest)*fact(NA-ntest)) \n    return fact(NA)\n    #return np.log(fact(NA)/(fact(ntest)*fact(NA-ntest))) + np.log(fact(NB)/(fact(ntest)*fact(NB-ntest)))\n\n#sigma(1)\n#sigma(100)\n#sigma(500)\n#fact(500)\nmath.factorial(500)\nfact(500)\n                                                       ",
    "id": "c1570dcaadb349c585c0a8d626b617d0",
    "idx": 6,
    "time": "2021-02-16T05:35:29.945Z",
    "type": "execution"
   },
   {
    "id": "c1570dcaadb349c585c0a8d626b617d0",
    "time": "2021-02-16T05:35:30.016Z",
    "type": "completion"
   },
   {
    "code": "import numpy as np\nimport math as math\nimport scipy.stats as st\nimport scipy.special  \nimport matplotlib.pyplot as plt\n\nN = 1000\nn = []\nfor i in range((N//3)):\n    n.append(i/1.0)\n\ntau = []\nfor i in range((1000)):\n    tau.append(i/1000)\n\ndef fact(x):\n    return scipy.special.factorial(x, exact=True)\n\nNA = 100\nNB = 100\n#ntest = 500\ndef sigma(ntest): \n    NA=400\n    NB=400\n    # return fact(NA)/(fact(ntest)*fact(NA-ntest)) \n    return fact(NA)\n    #return np.log(fact(NA)/(fact(ntest)*fact(NA-ntest))) + np.log(fact(NB)/(fact(ntest)*fact(NB-ntest)))\n\n#sigma(1)\n#sigma(100)\n#sigma(500)\n#fact(500)\n#math.factorial(500)\nfact(500)\n                                                       ",
    "id": "c1570dcaadb349c585c0a8d626b617d0",
    "idx": 6,
    "time": "2021-02-16T05:35:36.693Z",
    "type": "execution"
   },
   {
    "id": "c1570dcaadb349c585c0a8d626b617d0",
    "time": "2021-02-16T05:35:36.760Z",
    "type": "completion"
   },
   {
    "code": "import numpy as np\nimport math as math\nimport scipy.stats as st\nimport scipy.special  \nimport matplotlib.pyplot as plt\n\nN = 1000\nn = []\nfor i in range((N//3)):\n    n.append(i/1.0)\n\ntau = []\nfor i in range((1000)):\n    tau.append(i/1000)\n\ndef fact(x):\n    return scipy.special.factorial(x, exact=True)\n\nNA = 100\nNB = 100\n#ntest = 500\ndef sigma(ntest): \n    NA=1000\n    NB=1000\n    # return fact(NA)/(fact(ntest)*fact(NA-ntest)) \n    return fact(NA)\n    #return np.log(fact(NA)/(fact(ntest)*fact(NA-ntest))) + np.log(fact(NB)/(fact(ntest)*fact(NB-ntest)))\n\n#sigma(1)\n#sigma(100)\n#sigma(500)\n#fact(500)\n#math.factorial(500)\nfact(500)\n                                                       ",
    "id": "c1570dcaadb349c585c0a8d626b617d0",
    "idx": 6,
    "time": "2021-02-16T05:35:55.401Z",
    "type": "execution"
   },
   {
    "id": "c1570dcaadb349c585c0a8d626b617d0",
    "time": "2021-02-16T05:35:55.478Z",
    "type": "completion"
   },
   {
    "code": "y = np.linspace(500, 510, 11)\nx = np.linspace(0, 10, 11)\n\nx_2d, y_2d = np.meshgrid(x,y)\n#print(x_2d)\n#print(z_2d)\nx_2d = x_2d.astype(int)\n#z_2d=square(x_2d,10)\nz_2d=sigma(x_2d)\n#z_2d = F(x_2d, y_2d, NA, NB)\n#z_2d.shape\nz_2d",
    "id": "9cdd8b47c0424735be15ebdf7177ecdb",
    "idx": 9,
    "time": "2021-02-16T05:36:37.632Z",
    "type": "execution"
   },
   {
    "id": "9cdd8b47c0424735be15ebdf7177ecdb",
    "time": "2021-02-16T05:36:37.715Z",
    "type": "completion"
   },
   {
    "code": "y = np.linspace(500, 510, 11)\nx = np.linspace(0, 10, 11)\n\nx_2d, y_2d = np.meshgrid(x,y)\n#print(x_2d)\n#print(z_2d)\nx_2d = x_2d.astype(int)\n#z_2d=square(x_2d,10)\n#z_2d=sigma(x_2d)\n#z_2d = F(x_2d, y_2d, NA, NB)\n#z_2d.shape\n#z_2d",
    "id": "9cdd8b47c0424735be15ebdf7177ecdb",
    "idx": 9,
    "time": "2021-02-16T05:37:21.416Z",
    "type": "execution"
   },
   {
    "id": "9cdd8b47c0424735be15ebdf7177ecdb",
    "time": "2021-02-16T05:37:21.507Z",
    "type": "completion"
   },
   {
    "code": "import numpy as np\nimport math as math\nimport scipy.stats as st\nimport scipy.special  \nimport matplotlib.pyplot as plt\n\nN = 1000\nn = []\nfor i in range((N//3)):\n    n.append(i/1.0)\n\ntau = []\nfor i in range((1000)):\n    tau.append(i/1000)\n\ndef fact(x):\n    return scipy.special.factorial(x, exact=True)\n\nNA = 100\nNB = 100\n#ntest = 500\ndef sigma(ntest): \n    NA=1000\n    NB=1000\n    # return fact(NA)/(fact(ntest)*fact(NA-ntest)) \n    return fact(NA)\n    #return np.log(fact(NA)/(fact(ntest)*fact(NA-ntest))) + np.log(fact(NB)/(fact(ntest)*fact(NB-ntest)))\n\n#sigma(1)\n#sigma(100)\n#sigma(500)\n#fact(500)\n#math.factorial(500)\n#fact(500)\n                                                       ",
    "id": "c1570dcaadb349c585c0a8d626b617d0",
    "idx": 6,
    "time": "2021-02-16T05:38:01.755Z",
    "type": "execution"
   },
   {
    "id": "c1570dcaadb349c585c0a8d626b617d0",
    "time": "2021-02-16T05:38:01.821Z",
    "type": "completion"
   },
   {
    "code": "import numpy as np\nimport math as math\nimport scipy.stats as st\nimport scipy.special  \nimport matplotlib.pyplot as plt\n\nN = 1000\nn = []\nfor i in range((N//3)):\n    n.append(i/1.0)\n\ntau = []\nfor i in range((1000)):\n    tau.append(i/1000)\n\ndef fact(x):\n    return scipy.special.factorial(x, exact=True)\n\nNA = 100\nNB = 100\n#ntest = 500\ndef sigma(ntest): \n    NA=1000\n    NB=1000\n    # return fact(NA)/(fact(ntest)*fact(NA-ntest)) \n    return fact(NA)\n    #return np.log(fact(NA)/(fact(ntest)*fact(NA-ntest))) + np.log(fact(NB)/(fact(ntest)*fact(NB-ntest)))\n\n#sigma(1)\n#sigma(100)\n#sigma(500)\n#fact(500)\n#math.factorial(500)\nsigma(500)\n                                                       ",
    "id": "c1570dcaadb349c585c0a8d626b617d0",
    "idx": 6,
    "time": "2021-02-16T05:38:10.078Z",
    "type": "execution"
   },
   {
    "id": "c1570dcaadb349c585c0a8d626b617d0",
    "time": "2021-02-16T05:38:10.142Z",
    "type": "completion"
   },
   {
    "code": "import numpy as np\nimport math as math\nimport scipy.stats as st\nimport scipy.special  \nimport matplotlib.pyplot as plt\n\nN = 1000\nn = []\nfor i in range((N//3)):\n    n.append(i/1.0)\n\ntau = []\nfor i in range((1000)):\n    tau.append(i/1000)\n\ndef fact(x):\n    return scipy.special.factorial(x, exact=True)\n\nNA = 100\nNB = 100\n#ntest = 500\ndef sigma(ntest): \n    NA=1000\n    NB=1000\n    # return fact(NA)/(fact(ntest)*fact(NA-ntest)) \n    #return fact(NA)\n    return np.log(fact(NA)/(fact(ntest)*fact(NA-ntest))) + np.log(fact(NB)/(fact(ntest)*fact(NB-ntest)))\n\n#sigma(1)\n#sigma(100)\n#sigma(500)\n#fact(500)\n#math.factorial(500)\nsigma(500)\n                                                       ",
    "id": "c1570dcaadb349c585c0a8d626b617d0",
    "idx": 6,
    "time": "2021-02-16T05:38:28.866Z",
    "type": "execution"
   },
   {
    "id": "c1570dcaadb349c585c0a8d626b617d0",
    "time": "2021-02-16T05:38:28.958Z",
    "type": "completion"
   },
   {
    "code": "import numpy as np\nimport math as math\nimport scipy.stats as st\nimport scipy.special  \nimport matplotlib.pyplot as plt\n\nN = 1000\nn = []\nfor i in range((N//3)):\n    n.append(i/1.0)\n\ntau = []\nfor i in range((1000)):\n    tau.append(i/1000)\n\ndef fact(x):\n    return scipy.special.factorial(x, exact=True)\n\nNA = 100\nNB = 100\n#ntest = 500\ndef sigma(ntest): \n    NA=1000\n    NB=1000\n    # return fact(NA)/(fact(ntest)*fact(NA-ntest)) \n    #return fact(NA)\n    return np.log(fact(NA)/(fact(ntest)*fact(NA-ntest))) + np.log(fact(NB)/(fact(ntest)*fact(NB-ntest)))\n\n#sigma(1)\n#sigma(100)\n#sigma(500)\n#fact(500)\n#math.factorial(500)\nsigma(100)\n                                                       ",
    "id": "c1570dcaadb349c585c0a8d626b617d0",
    "idx": 6,
    "time": "2021-02-16T05:38:41.689Z",
    "type": "execution"
   },
   {
    "id": "c1570dcaadb349c585c0a8d626b617d0",
    "time": "2021-02-16T05:38:41.759Z",
    "type": "completion"
   },
   {
    "code": "import numpy as np\nimport math as math\nimport scipy.stats as st\nimport scipy.special  \nimport matplotlib.pyplot as plt\n\nN = 1000\nn = []\nfor i in range((N//3)):\n    n.append(i/1.0)\n\ntau = []\nfor i in range((1000)):\n    tau.append(i/1000)\n\ndef fact(x):\n    return scipy.special.factorial(x, exact=True)\n\nNA = 1000\nNB = 1000\n#ntest = 500\ndef sigma(ntest): \n    NA=1000\n    NB=1000\n    # return fact(NA)/(fact(ntest)*fact(NA-ntest)) \n    #return fact(NA)\n    return np.log(fact(NA)/(fact(ntest)*fact(NA-ntest))) + np.log(fact(NB)/(fact(ntest)*fact(NB-ntest)))\n\n#sigma(1)\n#sigma(100)\n#sigma(500)\n#fact(500)\n#math.factorial(500)\nsigma(100)\n                                                       ",
    "id": "c1570dcaadb349c585c0a8d626b617d0",
    "idx": 6,
    "time": "2021-02-16T05:38:55.016Z",
    "type": "execution"
   },
   {
    "id": "c1570dcaadb349c585c0a8d626b617d0",
    "time": "2021-02-16T05:38:55.081Z",
    "type": "completion"
   },
   {
    "code": "import numpy as np\nimport math as math\nimport scipy.stats as st\nimport scipy.special  \nimport matplotlib.pyplot as plt\n\nN = 1000\nn = []\nfor i in range((N//3)):\n    n.append(i/1.0)\n\ntau = []\nfor i in range((1000)):\n    tau.append(i/1000)\n\ndef fact(x):\n    return scipy.special.factorial(x, exact=True)\n\nNA = 5000\nNB = 1000\n#ntest = 500\ndef sigma(ntest): \n    NA=1000\n    NB=1000\n    # return fact(NA)/(fact(ntest)*fact(NA-ntest)) \n    #return fact(NA)\n    return np.log(fact(NA)/(fact(ntest)*fact(NA-ntest))) + np.log(fact(NB)/(fact(ntest)*fact(NB-ntest)))\n\n#sigma(1)\n#sigma(100)\n#sigma(500)\n#fact(500)\n#math.factorial(500)\nsigma(100)\n                                                       ",
    "id": "c1570dcaadb349c585c0a8d626b617d0",
    "idx": 6,
    "time": "2021-02-16T05:39:01.969Z",
    "type": "execution"
   },
   {
    "id": "c1570dcaadb349c585c0a8d626b617d0",
    "time": "2021-02-16T05:39:02.038Z",
    "type": "completion"
   },
   {
    "code": "import numpy as np\nimport math as math\nimport scipy.stats as st\nimport scipy.special  \nimport matplotlib.pyplot as plt\n\nN = 1000\nn = []\nfor i in range((N//3)):\n    n.append(i/1.0)\n\ntau = []\nfor i in range((1000)):\n    tau.append(i/1000)\n\ndef fact(x):\n    return scipy.special.factorial(x, exact=True)\n\nNA = 5000\nNB = 5000\n#ntest = 500\ndef sigma(ntest): \n    NA=1000\n    NB=1000\n    # return fact(NA)/(fact(ntest)*fact(NA-ntest)) \n    #return fact(NA)\n    return np.log(fact(NA)/(fact(ntest)*fact(NA-ntest))) + np.log(fact(NB)/(fact(ntest)*fact(NB-ntest)))\n\n#sigma(1)\n#sigma(100)\n#sigma(500)\n#fact(500)\n#math.factorial(500)\nsigma(100)\n                                                       ",
    "id": "c1570dcaadb349c585c0a8d626b617d0",
    "idx": 6,
    "time": "2021-02-16T05:39:06.457Z",
    "type": "execution"
   },
   {
    "id": "c1570dcaadb349c585c0a8d626b617d0",
    "time": "2021-02-16T05:39:06.526Z",
    "type": "completion"
   },
   {
    "code": "import numpy as np\nimport math as math\nimport scipy.stats as st\nimport scipy.special  \nimport matplotlib.pyplot as plt\n\nN = 1000\nn = []\nfor i in range((N//3)):\n    n.append(i/1.0)\n\ntau = []\nfor i in range((1000)):\n    tau.append(i/1000)\n\ndef fact(x):\n    return scipy.special.factorial(x, exact=True)\n\nNA = 5000\nNB = 5000\n#ntest = 500\ndef sigma(ntest): \n    NA=2000\n    NB=2000\n    # return fact(NA)/(fact(ntest)*fact(NA-ntest)) \n    #return fact(NA)\n    return np.log(fact(NA)/(fact(ntest)*fact(NA-ntest))) + np.log(fact(NB)/(fact(ntest)*fact(NB-ntest)))\n\n#sigma(1)\n#sigma(100)\n#sigma(500)\n#fact(500)\n#math.factorial(500)\nsigma(100)\n                                                       ",
    "id": "c1570dcaadb349c585c0a8d626b617d0",
    "idx": 6,
    "time": "2021-02-16T05:39:16.046Z",
    "type": "execution"
   },
   {
    "id": "c1570dcaadb349c585c0a8d626b617d0",
    "time": "2021-02-16T05:39:16.128Z",
    "type": "completion"
   },
   {
    "code": "import numpy as np\nimport math as math\nimport scipy.stats as st\nimport scipy.special  \nimport matplotlib.pyplot as plt\n\nN = 1000\nn = []\nfor i in range((N//3)):\n    n.append(i/1.0)\n\ntau = []\nfor i in range((1000)):\n    tau.append(i/1000)\n\ndef fact(x):\n    return scipy.special.factorial(x, exact=True)\n\nNA = 5000\nNB = 5000\n#ntest = 500\ndef sigma(ntest): \n    NA=5000\n    NB=5000\n    # return fact(NA)/(fact(ntest)*fact(NA-ntest)) \n    #return fact(NA)\n    return np.log(fact(NA)/(fact(ntest)*fact(NA-ntest))) + np.log(fact(NB)/(fact(ntest)*fact(NB-ntest)))\n\n#sigma(1)\n#sigma(100)\n#sigma(500)\n#fact(500)\n#math.factorial(500)\nsigma(100)\n                                                       ",
    "id": "c1570dcaadb349c585c0a8d626b617d0",
    "idx": 6,
    "time": "2021-02-16T05:39:23.978Z",
    "type": "execution"
   },
   {
    "id": "c1570dcaadb349c585c0a8d626b617d0",
    "time": "2021-02-16T05:39:24.052Z",
    "type": "completion"
   },
   {
    "code": "import numpy as np\nimport math as math\nimport scipy.stats as st\nimport scipy.special  \nimport matplotlib.pyplot as plt\n\nN = 1000\nn = []\nfor i in range((N//3)):\n    n.append(i/1.0)\n\ntau = []\nfor i in range((1000)):\n    tau.append(i/1000)\n\ndef fact(x):\n    return scipy.special.factorial(x, exact=True)\n\nNA = 5000\nNB = 5000\n#ntest = 500\ndef sigma(ntest): \n    NA=10000\n    NB=10000\n    # return fact(NA)/(fact(ntest)*fact(NA-ntest)) \n    #return fact(NA)\n    return np.log(fact(NA)/(fact(ntest)*fact(NA-ntest))) + np.log(fact(NB)/(fact(ntest)*fact(NB-ntest)))\n\n#sigma(1)\n#sigma(100)\n#sigma(500)\n#fact(500)\n#math.factorial(500)\nsigma(100)\n                                                       ",
    "id": "c1570dcaadb349c585c0a8d626b617d0",
    "idx": 6,
    "time": "2021-02-16T05:39:31.774Z",
    "type": "execution"
   },
   {
    "id": "c1570dcaadb349c585c0a8d626b617d0",
    "time": "2021-02-16T05:39:31.850Z",
    "type": "completion"
   },
   {
    "code": "import numpy as np\nimport math as math\nimport scipy.stats as st\nimport scipy.special  \nimport matplotlib.pyplot as plt\n\nN = 1000\nn = []\nfor i in range((N//3)):\n    n.append(i/1.0)\n\ntau = []\nfor i in range((1000)):\n    tau.append(i/1000)\n\ndef fact(x):\n    return scipy.special.factorial(x, exact=True)\n\nNA = 5000\nNB = 5000\n#ntest = 500\ndef sigma(ntest): \n    NA=10000\n    NB=10000\n    # return fact(NA)/(fact(ntest)*fact(NA-ntest)) \n    #return fact(NA)\n    return np.log(fact(NA)/(fact(ntest)*fact(NA-ntest))) + np.log(fact(NB)/(fact(ntest)*fact(NB-ntest)))\n\n#sigma(1)\n#sigma(100)\n#sigma(500)\n#fact(500)\n#math.factorial(500)\nsigma(5000)\n                                                       ",
    "id": "c1570dcaadb349c585c0a8d626b617d0",
    "idx": 6,
    "time": "2021-02-16T05:39:49.929Z",
    "type": "execution"
   },
   {
    "id": "c1570dcaadb349c585c0a8d626b617d0",
    "time": "2021-02-16T05:39:50.174Z",
    "type": "completion"
   },
   {
    "code": "import numpy as np\nimport math as math\nimport scipy.stats as st\nimport scipy.special  \nimport matplotlib.pyplot as plt\n\nN = 1000\nn = []\nfor i in range((N//3)):\n    n.append(i/1.0)\n\ntau = []\nfor i in range((1000)):\n    tau.append(i/1000)\n\ndef fact(x):\n    return scipy.special.factorial(x, exact=True)\n\nNA = 5000\nNB = 5000\n#ntest = 500\ndef sigma(ntest): \n    NA=5000\n    NB=5000\n    # return fact(NA)/(fact(ntest)*fact(NA-ntest)) \n    #return fact(NA)\n    return np.log(fact(NA)/(fact(ntest)*fact(NA-ntest))) + np.log(fact(NB)/(fact(ntest)*fact(NB-ntest)))\n\n#sigma(1)\n#sigma(100)\n#sigma(500)\n#fact(500)\n#math.factorial(500)\nsigma(2500)\n                                                       ",
    "id": "c1570dcaadb349c585c0a8d626b617d0",
    "idx": 6,
    "time": "2021-02-16T05:40:23.825Z",
    "type": "execution"
   },
   {
    "id": "c1570dcaadb349c585c0a8d626b617d0",
    "time": "2021-02-16T05:40:23.904Z",
    "type": "completion"
   },
   {
    "code": "# import numpy as np\nimport math as math\nimport scipy.stats as st\nimport scipy.special  \nimport matplotlib.pyplot as plt\n\nN = 1000\nn = []\nfor i in range((N//3)):\n    n.append(i/1.0)\n\ntau = []\nfor i in range((1000)):\n    tau.append(i/1000)\n\ndef fact(x):\n    return scipy.special.factorial(x, exact=True)\n\nNA = 5000\nNB = 5000\n#ntest = 500\ndef sigma(ntest): \n    NA=2000\n    NB=2000\n    # return fact(NA)/(fact(ntest)*fact(NA-ntest)) \n    #return fact(NA)\n    return np.log(fact(NA)/(fact(ntest)*fact(NA-ntest))) + np.log(fact(NB)/(fact(ntest)*fact(NB-ntest)))\n\n#sigma(1)\n#sigma(100)\n#sigma(500)\n#fact(500)\n#math.factorial(500)\nsigma(1000)\n                                                       ",
    "id": "d932be83395c4d95aa21942186351cb8",
    "idx": 6,
    "time": "2021-02-16T05:42:36.476Z",
    "type": "execution"
   },
   {
    "id": "d932be83395c4d95aa21942186351cb8",
    "time": "2021-02-16T05:42:36.562Z",
    "type": "completion"
   },
   {
    "code": "# import numpy as np\nimport math as math\nimport scipy.stats as st\nimport scipy.special  \nimport matplotlib.pyplot as plt\n\nN = 1000\nn = []\nfor i in range((N//3)):\n    n.append(i/1.0)\n\ntau = []\nfor i in range((1000)):\n    tau.append(i/1000)\n\ndef fact(x):\n    return scipy.special.factorial(x, exact=True)\n\nNA = 5000\nNB = 5000\n#ntest = 500\ndef sigma(ntest): \n    NA=1000\n    NB=1000\n    # return fact(NA)/(fact(ntest)*fact(NA-ntest)) \n    #return fact(NA)\n    return np.log(fact(NA)/(fact(ntest)*fact(NA-ntest))) + np.log(fact(NB)/(fact(ntest)*fact(NB-ntest)))\n\n#sigma(1)\n#sigma(100)\n#sigma(500)\n#fact(500)\n#math.factorial(500)\nsigma(500)\n                                                       ",
    "id": "d932be83395c4d95aa21942186351cb8",
    "idx": 6,
    "time": "2021-02-16T05:42:53.744Z",
    "type": "execution"
   },
   {
    "id": "d932be83395c4d95aa21942186351cb8",
    "time": "2021-02-16T05:42:53.824Z",
    "type": "completion"
   },
   {
    "code": "y = np.linspace(500, 510, 11)\nx = np.linspace(0, 10, 11)\n\nx_2d, y_2d = np.meshgrid(x,y)\n#print(x_2d)\n#print(z_2d)\nx_2d = x_2d.astype(int)\n#z_2d=square(x_2d,10)\nz_2d=sigma(x_2d)\n#z_2d = F(x_2d, y_2d, NA, NB)\n#z_2d.shape\nz_2d",
    "id": "9cdd8b47c0424735be15ebdf7177ecdb",
    "idx": 9,
    "time": "2021-02-16T05:43:25.145Z",
    "type": "execution"
   },
   {
    "id": "9cdd8b47c0424735be15ebdf7177ecdb",
    "time": "2021-02-16T05:43:25.229Z",
    "type": "completion"
   },
   {
    "code": "y = np.linspace(500, 510, 11)\nx = np.linspace(1, 10, 11)\n\nx_2d, y_2d = np.meshgrid(x,y)\n#print(x_2d)\n#print(z_2d)\nx_2d = x_2d.astype(int)\n#z_2d=square(x_2d,10)\nz_2d=sigma(x_2d)\n#z_2d = F(x_2d, y_2d, NA, NB)\n#z_2d.shape\nz_2d",
    "id": "9cdd8b47c0424735be15ebdf7177ecdb",
    "idx": 9,
    "time": "2021-02-16T05:44:06.383Z",
    "type": "execution"
   },
   {
    "id": "9cdd8b47c0424735be15ebdf7177ecdb",
    "time": "2021-02-16T05:44:06.479Z",
    "type": "completion"
   },
   {
    "code": "# import numpy as np\nimport math as math\nimport scipy.stats as st\nimport scipy.special  \nimport matplotlib.pyplot as plt\n\nN = 1000\nn = []\nfor i in range((N//3)):\n    n.append(i/1.0)\n\ntau = []\nfor i in range((1000)):\n    tau.append(i/1000)\n\ndef fact(x):\n    return scipy.special.factorial(x, exact=True)\n\nNA = 5000\nNB = 5000\n#ntest = 500\ndef sigma(ntest): \n    NA=1000\n    NB=1000\n    # return fact(NA)/(fact(ntest)*fact(NA-ntest)) \n    #return fact(NA)\n    return (np.log(fact(NA)/(fact(ntest)*fact(NA-ntest))) + np.log(fact(NB)/(fact(ntest)*fact(NB-ntest))))\n\n#sigma(1)\n#sigma(100)\n#sigma(500)\n#fact(500)\n#math.factorial(500)\nsigma(500)\n                                                       ",
    "id": "d932be83395c4d95aa21942186351cb8",
    "idx": 6,
    "time": "2021-02-16T05:48:15.436Z",
    "type": "execution"
   },
   {
    "id": "d932be83395c4d95aa21942186351cb8",
    "time": "2021-02-16T05:48:15.506Z",
    "type": "completion"
   },
   {
    "code": "# import numpy as np\nimport math as math\nimport scipy.stats as st\nimport scipy.special  \nimport matplotlib.pyplot as plt\n\nN = 1000\nn = []\nfor i in range((N//3)):\n    n.append(i/1.0)\n\ntau = []\nfor i in range((1000)):\n    tau.append(i/1000)\n\ndef fact(x):\n    return scipy.special.factorial(x, exact=True)\n\nNA = 5000\nNB = 5000\nntest = [500,600,700]\ndef sigma(ntest): \n    NA=1000\n    NB=1000\n    # return fact(NA)/(fact(ntest)*fact(NA-ntest)) \n    #return fact(NA)\n    return (np.log(fact(NA)/(fact(ntest)*fact(NA-ntest))) + np.log(fact(NB)/(fact(ntest)*fact(NB-ntest))))\n\n#sigma(1)\n#sigma(100)\n#sigma(500)\n#fact(500)\n#math.factorial(500)\nsigma(ntest)\n                                                       ",
    "id": "d932be83395c4d95aa21942186351cb8",
    "idx": 6,
    "time": "2021-02-16T05:48:47.140Z",
    "type": "execution"
   },
   {
    "id": "d932be83395c4d95aa21942186351cb8",
    "time": "2021-02-16T05:48:47.226Z",
    "type": "completion"
   },
   {
    "code": "# import numpy as np\nimport math as math\nimport scipy.stats as st\nimport scipy.special  \nimport matplotlib.pyplot as plt\n\nN = 1000\nn = []\nfor i in range((N//3)):\n    n.append(i/1.0)\n\ntau = []\nfor i in range((1000)):\n    tau.append(i/1000)\n\ndef fact(x):\n    return scipy.special.factorial(x, exact=True)\n\nNA = 5000\nNB = 5000\nntest = [500,600,700]\ndef sigma(ntest): \n    NA=1000\n    NB=1000\n    # return fact(NA)/(fact(ntest)*fact(NA-ntest)) \n    #return fact(NA)\n    return (np.log(fact(NA)/(fact(ntest)*fact(NA-ntest))) + np.log(fact(NB)/(fact(ntest)*fact(NB-ntest))))\n\n#sigma(1)\n#sigma(100)\n#sigma(500)\n#fact(500)\n#math.factorial(500)\nntest\n#sigma(ntest)\n                                                       ",
    "id": "d932be83395c4d95aa21942186351cb8",
    "idx": 6,
    "time": "2021-02-16T05:49:07.165Z",
    "type": "execution"
   },
   {
    "id": "d932be83395c4d95aa21942186351cb8",
    "time": "2021-02-16T05:49:07.231Z",
    "type": "completion"
   },
   {
    "code": "# import numpy as np\nimport math as math\nimport scipy.stats as st\nimport scipy.special  \nimport matplotlib.pyplot as plt\n\nN = 1000\nn = []\nfor i in range((N//3)):\n    n.append(i/1.0)\n\ntau = []\nfor i in range((1000)):\n    tau.append(i/1000)\n\ndef fact(x):\n    return scipy.special.factorial(x, exact=True)\n\nNA = 5000\nNB = 5000\nntest = [500,600,700]\ndef sigma(ntest): \n    NA=1000\n    NB=1000\n    # return fact(NA)/(fact(ntest)*fact(NA-ntest)) \n    #return fact(NA)\n    return (np.log(fact(NA)/(fact(ntest)*fact(NA-ntest))) + np.log(fact(NB)/(fact(ntest)*fact(NB-ntest))))\n\n#sigma(1)\n#sigma(100)\n#sigma(500)\n#fact(500)\n#math.factorial(500)\nntest\nprint(sigma(ntest))\n                                                       ",
    "id": "d932be83395c4d95aa21942186351cb8",
    "idx": 6,
    "time": "2021-02-16T05:49:22.246Z",
    "type": "execution"
   },
   {
    "id": "d932be83395c4d95aa21942186351cb8",
    "time": "2021-02-16T05:49:22.331Z",
    "type": "completion"
   },
   {
    "code": "# import numpy as np\nimport math as math\nimport scipy.stats as st\nimport scipy.special  \nimport matplotlib.pyplot as plt\n\nN = 1000\nn = []\nfor i in range((N//3)):\n    n.append(i/1.0)\n\ntau = []\nfor i in range((1000)):\n    tau.append(i/1000)\n\ndef fact(x):\n    return scipy.special.factorial(x, exact=True)\n\nNA = 5000\nNB = 5000\nntest = [500,600,700]\ndef sigma(ntest): \n    NA=1000\n    NB=1000\n    # return fact(NA)/(fact(ntest)*fact(NA-ntest)) \n    #return fact(NA)\n    return (np.log(fact(NA)/(fact(ntest)*fact(NA-ntest))) + np.log(fact(NB)/(fact(ntest)*fact(NB-ntest))))\n\n#sigma(1)\n#sigma(100)\n#sigma(500)\n#fact(500)\n#math.factorial(500)\nntest\nprint(sigma(500,600))\n                                                       ",
    "id": "d932be83395c4d95aa21942186351cb8",
    "idx": 6,
    "time": "2021-02-16T05:50:15.529Z",
    "type": "execution"
   },
   {
    "id": "d932be83395c4d95aa21942186351cb8",
    "time": "2021-02-16T05:50:15.610Z",
    "type": "completion"
   },
   {
    "code": "# import numpy as np\nimport math as math\nimport scipy.stats as st\nimport scipy.special  \nimport matplotlib.pyplot as plt\n\nN = 1000\nn = []\nfor i in range((N//3)):\n    n.append(i/1.0)\n\ntau = []\nfor i in range((1000)):\n    tau.append(i/1000)\n\ndef fact(x):\n    return scipy.special.factorial(x, exact=True)\n\nNA = 5000\nNB = 5000\nntest = [500,600,700]\ndef sigma(ntest): \n    NA=1000\n    NB=1000\n    # return fact(NA)/(fact(ntest)*fact(NA-ntest)) \n    #return fact(NA)\n    return (np.log(fact(NA)/(fact(ntest)*fact(NA-ntest))) + np.log(fact(NB)/(fact(ntest)*fact(NB-ntest))))\n\n#sigma(1)\n#sigma(100)\n#sigma(500)\n#fact(500)\n#math.factorial(500)\nntest\nprint(sigma(500))\n                                                       ",
    "id": "d932be83395c4d95aa21942186351cb8",
    "idx": 6,
    "time": "2021-02-16T05:50:20.681Z",
    "type": "execution"
   },
   {
    "id": "d932be83395c4d95aa21942186351cb8",
    "time": "2021-02-16T05:50:20.769Z",
    "type": "completion"
   },
   {
    "code": "# import numpy as np\nimport math as math\nimport scipy.stats as st\nimport scipy.special  \nimport matplotlib.pyplot as plt\n\nN = 1000\nn = []\nfor i in range((N//3)):\n    n.append(i/1.0)\n\ntau = []\nfor i in range((1000)):\n    tau.append(i/1000)\n\ndef fact(x):\n    return scipy.special.factorial(x, exact=True)\n\nNA = 5000\nNB = 5000\nntest = [500,600,700]\ndef sigma(ntest): \n    NA=1000\n    NB=1000\n    # return fact(NA)/(fact(ntest)*fact(NA-ntest)) \n    #return fact(NA)\n    return (np.log(fact(NA)/(fact(ntest)*fact(NA-ntest))) + np.log(fact(NB)/(fact(ntest)*fact(NB-ntest))))\n\n#sigma(1)\n#sigma(100)\n#sigma(500)\n#fact(500)\n#math.factorial(500)\nprints(ntest)\nprint(sigma(ntest))\n                                                       ",
    "id": "d932be83395c4d95aa21942186351cb8",
    "idx": 6,
    "time": "2021-02-16T05:50:41.804Z",
    "type": "execution"
   },
   {
    "id": "d932be83395c4d95aa21942186351cb8",
    "time": "2021-02-16T05:50:41.879Z",
    "type": "completion"
   },
   {
    "code": "# import numpy as np\nimport math as math\nimport scipy.stats as st\nimport scipy.special  \nimport matplotlib.pyplot as plt\n\nN = 1000\nn = []\nfor i in range((N//3)):\n    n.append(i/1.0)\n\ntau = []\nfor i in range((1000)):\n    tau.append(i/1000)\n\ndef fact(x):\n    return scipy.special.factorial(x, exact=True)\n\nNA = 5000\nNB = 5000\nntest = [500,600,700]\ndef sigma(ntest): \n    NA=1000\n    NB=1000\n    # return fact(NA)/(fact(ntest)*fact(NA-ntest)) \n    #return fact(NA)\n    return (np.log(fact(NA)/(fact(ntest)*fact(NA-ntest))) + np.log(fact(NB)/(fact(ntest)*fact(NB-ntest))))\n\n#sigma(1)\n#sigma(100)\n#sigma(500)\n#fact(500)\n#math.factorial(500)\nprint(ntest)\nprint(sigma(ntest))\n                                                       ",
    "id": "d932be83395c4d95aa21942186351cb8",
    "idx": 6,
    "time": "2021-02-16T05:50:50.690Z",
    "type": "execution"
   },
   {
    "id": "d932be83395c4d95aa21942186351cb8",
    "time": "2021-02-16T05:50:50.773Z",
    "type": "completion"
   },
   {
    "code": "# import numpy as np\nimport math as math\nimport scipy.stats as st\nimport scipy.special  \nimport matplotlib.pyplot as plt\n\nN = 1000\nn = []\nfor i in range((N//3)):\n    n.append(i/1.0)\n\ntau = []\nfor i in range((1000)):\n    tau.append(i/1000)\n\ndef fact(x):\n    return scipy.special.factorial(x, exact=True)\n\nNA = 5000\nNB = 5000\nntest = [500,600,700]\ndef sigma(ntest): \n    NA=1000\n    NB=1000\n    # return fact(NA)/(fact(ntest)*fact(NA-ntest)) \n    #return fact(NA)\n    ntest = ntest.astype(int)\n    return (np.log(fact(NA)/(fact(ntest)*fact(NA-ntest))) + np.log(fact(NB)/(fact(ntest)*fact(NB-ntest))))\n\n#sigma(1)\n#sigma(100)\n#sigma(500)\n#fact(500)\n#math.factorial(500)\nprint(ntest)\nprint(sigma(ntest))\n                                                       ",
    "id": "d932be83395c4d95aa21942186351cb8",
    "idx": 6,
    "time": "2021-02-16T05:52:23.644Z",
    "type": "execution"
   },
   {
    "id": "d932be83395c4d95aa21942186351cb8",
    "time": "2021-02-16T05:52:23.753Z",
    "type": "completion"
   },
   {
    "code": "# import numpy as np\nimport math as math\nimport scipy.stats as st\nimport scipy.special  \nimport matplotlib.pyplot as plt\n\nN = 1000\nn = []\nfor i in range((N//3)):\n    n.append(i/1.0)\n\ntau = []\nfor i in range((1000)):\n    tau.append(i/1000)\n\ndef fact(x):\n    return scipy.special.factorial(x, exact=True)\n\nNA = 5000\nNB = 5000\nntest = [500,600,700]\ndef sigma(ntest): \n    NA=1000\n    NB=1000\n    # return fact(NA)/(fact(ntest)*fact(NA-ntest)) \n    #return fact(NA)\n    ntest = ntest.astype(int)\n    return (np.log(fact(NA)/(fact(ntest)*fact(NA-ntest))) + np.log(fact(NB)/(fact(ntest)*fact(NB-ntest))))\n\n#sigma(1)\n#sigma(100)\nsigma(500)\n#fact(500)\n#math.factorial(500)\nprint(sigma(600))\nprint(ntest)\nprint(sigma(ntest))\n                                                       ",
    "id": "d932be83395c4d95aa21942186351cb8",
    "idx": 6,
    "time": "2021-02-16T05:55:02.874Z",
    "type": "execution"
   },
   {
    "id": "d932be83395c4d95aa21942186351cb8",
    "time": "2021-02-16T05:55:02.976Z",
    "type": "completion"
   },
   {
    "code": "# import numpy as np\nimport math as math\nimport scipy.stats as st\nimport scipy.special  \nimport matplotlib.pyplot as plt\n\nN = 1000\nn = []\nfor i in range((N//3)):\n    n.append(i/1.0)\n\ntau = []\nfor i in range((1000)):\n    tau.append(i/1000)\n\ndef fact(x):\n    return scipy.special.factorial(x, exact=True)\n\nNA = 5000\nNB = 5000\nntest = [500,600,700]\ndef sigma(ntest): \n    NA=1000\n    NB=1000\n    # return fact(NA)/(fact(ntest)*fact(NA-ntest)) \n    #return fact(NA)\n    #ntest = ntest.astype(int)\n    return (np.log(fact(NA)/(fact(ntest)*fact(NA-ntest))) + np.log(fact(NB)/(fact(ntest)*fact(NB-ntest))))\n\n#sigma(1)\n#sigma(100)\nsigma(500)\n#fact(500)\n#math.factorial(500)\nprint(sigma(600))\nprint(ntest)\nprint(sigma(ntest))\n                                                       ",
    "id": "d932be83395c4d95aa21942186351cb8",
    "idx": 6,
    "time": "2021-02-16T05:55:16.161Z",
    "type": "execution"
   },
   {
    "id": "d932be83395c4d95aa21942186351cb8",
    "time": "2021-02-16T05:55:16.265Z",
    "type": "completion"
   },
   {
    "code": "# import numpy as np\nimport math as math\nimport scipy.stats as st\nimport scipy.special  \nimport matplotlib.pyplot as plt\n\nN = 1000\nn = []\nfor i in range((N//3)):\n    n.append(i/1.0)\n\ntau = []\nfor i in range((1000)):\n    tau.append(i/1000)\n\ndef fact(x):\n    return scipy.special.factorial(x, exact=False)\n\nNA = 5000\nNB = 5000\nntest = [500,600,700]\ndef sigma(ntest): \n    NA=1000\n    NB=1000\n    # return fact(NA)/(fact(ntest)*fact(NA-ntest)) \n    #return fact(NA)\n    #ntest = ntest.astype(int)\n    return (np.log(fact(NA)/(fact(ntest)*fact(NA-ntest))) + np.log(fact(NB)/(fact(ntest)*fact(NB-ntest))))\n\n#sigma(1)\n#sigma(100)\nsigma(500)\n#fact(500)\n#math.factorial(500)\nprint(sigma(600))\nprint(ntest)\nprint(sigma(ntest))\n                                                       ",
    "id": "d932be83395c4d95aa21942186351cb8",
    "idx": 6,
    "time": "2021-02-16T05:56:01.657Z",
    "type": "execution"
   },
   {
    "id": "d932be83395c4d95aa21942186351cb8",
    "time": "2021-02-16T05:56:01.759Z",
    "type": "completion"
   },
   {
    "code": "# import numpy as np\nimport math as math\nimport scipy.stats as st\nimport scipy.special  \nimport matplotlib.pyplot as plt\n\nN = 1000\nn = []\nfor i in range((N//3)):\n    n.append(i/1.0)\n\ntau = []\nfor i in range((1000)):\n    tau.append(i/1000)\n\ndef fact(x):\n    return scipy.special.factorial(x, exact=True)\n\nNA = 5000\nNB = 5000\nntest = [500,600,700]\ndef sigma(ntest): \n    NA=1000\n    NB=1000\n    # return fact(NA)/(fact(ntest)*fact(NA-ntest)) \n    #return fact(NA)\n    #ntest = ntest.astype(int)\n    return (np.log(fact(NA)/(fact(ntest)*fact(NA-ntest))) + np.log(fact(NB)/(fact(ntest)*fact(NB-ntest))))\n\n#sigma(1)\n#sigma(100)\nsigma(500)\n#fact(500)\n#math.factorial(500)\nprint(sigma(600))\nprint(ntest)\nprint(sigma(ntest))\n                                                       ",
    "id": "d932be83395c4d95aa21942186351cb8",
    "idx": 6,
    "time": "2021-02-16T05:56:18.282Z",
    "type": "execution"
   },
   {
    "id": "d932be83395c4d95aa21942186351cb8",
    "time": "2021-02-16T05:56:18.372Z",
    "type": "completion"
   },
   {
    "code": "y = np.linspace(500, 510, 11)\nx = np.linspace(1, 10, 11)\n\nx_2d, y_2d = np.meshgrid(x,y)\n#print(x_2d)\n#print(z_2d)\nx_2d = x_2d.astype(int)\n#z_2d=square(x_2d,10)\nz_2d=sigma(x_2d)\n#z_2d = F(x_2d, y_2d, NA, NB)\n#z_2d.shape\nz_2d",
    "id": "9cdd8b47c0424735be15ebdf7177ecdb",
    "idx": 9,
    "time": "2021-02-16T05:56:44.283Z",
    "type": "execution"
   },
   {
    "id": "9cdd8b47c0424735be15ebdf7177ecdb",
    "time": "2021-02-16T05:56:44.358Z",
    "type": "completion"
   },
   {
    "code": "# import numpy as np\nimport math as math\nimport scipy.stats as st\nimport scipy.special  \nimport matplotlib.pyplot as plt\n\nN = 1000\nn = []\nfor i in range((N//3)):\n    n.append(i/1.0)\n\ntau = []\nfor i in range((1000)):\n    tau.append(i/1000)\n\ndef fact(x):\n    return scipy.special.factorial(x, exact=True)\n\nNA = 5000\nNB = 5000\nntest = [500,600,700]\ndef square(ntest):\n    return ntest**2\ndef sigma(ntest): \n    NA=1000\n    NB=1000\n    # return fact(NA)/(fact(ntest)*fact(NA-ntest)) \n    #return fact(NA)\n    #ntest = ntest.astype(int)\n    return (np.log(fact(NA)/(fact(ntest)*fact(NA-ntest))) + np.log(fact(NB)/(fact(ntest)*fact(NB-ntest))))\n\n#sigma(1)\n#sigma(100)\nsigma(500)\n#fact(500)\n#math.factorial(500)\nprint(sigma(600))\nprint(square(ntest))\nprint(ntest)\nprint(sigma(ntest))\n                                                       ",
    "id": "d932be83395c4d95aa21942186351cb8",
    "idx": 6,
    "time": "2021-02-16T05:59:00.203Z",
    "type": "execution"
   },
   {
    "id": "d932be83395c4d95aa21942186351cb8",
    "time": "2021-02-16T05:59:00.311Z",
    "type": "completion"
   },
   {
    "code": "# import numpy as np\nimport math as math\nimport scipy.stats as st\nimport scipy.special  \nimport matplotlib.pyplot as plt\n\nN = 1000\nn = []\nfor i in range((N//3)):\n    n.append(i/1.0)\n\ntau = []\nfor i in range((1000)):\n    tau.append(i/1000)\n\ndef fact(x):\n    return scipy.special.factorial(x, exact=True)\n\nNA = 5000\nNB = 5000\nntest = [500,600,700]\ndef square(ntest):\n    return ntest\ndef sigma(ntest): \n    NA=1000\n    NB=1000\n    # return fact(NA)/(fact(ntest)*fact(NA-ntest)) \n    #return fact(NA)\n    #ntest = ntest.astype(int)\n    return (np.log(fact(NA)/(fact(ntest)*fact(NA-ntest))) + np.log(fact(NB)/(fact(ntest)*fact(NB-ntest))))\n\n#sigma(1)\n#sigma(100)\nsigma(500)\n#fact(500)\n#math.factorial(500)\nprint(sigma(600))\nprint(square(ntest))\nprint(ntest)\nprint(sigma(ntest))\n                                                       ",
    "id": "d932be83395c4d95aa21942186351cb8",
    "idx": 6,
    "time": "2021-02-16T05:59:55.114Z",
    "type": "execution"
   },
   {
    "id": "d932be83395c4d95aa21942186351cb8",
    "time": "2021-02-16T05:59:55.227Z",
    "type": "completion"
   },
   {
    "code": "# import numpy as np\nimport math as math\nimport scipy.stats as st\nimport scipy.special  \nimport matplotlib.pyplot as plt\n\nN = 1000\nn = []\nfor i in range((N//3)):\n    n.append(i/1.0)\n\ntau = []\nfor i in range((1000)):\n    tau.append(i/1000)\n\ndef fact(x):\n    return scipy.special.factorial(x, exact=True)\n\nNA = 5000\nNB = 5000\nntest = [500,600,700]\ndef square(ntest):\n    return ntest-1\ndef sigma(ntest): \n    NA=1000\n    NB=1000\n    # return fact(NA)/(fact(ntest)*fact(NA-ntest)) \n    #return fact(NA)\n    #ntest = ntest.astype(int)\n    return (np.log(fact(NA)/(fact(ntest)*fact(NA-ntest))) + np.log(fact(NB)/(fact(ntest)*fact(NB-ntest))))\n\n#sigma(1)\n#sigma(100)\nsigma(500)\n#fact(500)\n#math.factorial(500)\nprint(sigma(600))\nprint(square(ntest))\nprint(ntest)\nprint(sigma(ntest))\n                                                       ",
    "id": "d932be83395c4d95aa21942186351cb8",
    "idx": 6,
    "time": "2021-02-16T06:00:11.623Z",
    "type": "execution"
   },
   {
    "id": "d932be83395c4d95aa21942186351cb8",
    "time": "2021-02-16T06:00:11.731Z",
    "type": "completion"
   },
   {
    "code": "y = np.linspace(500, 510, 11)\nx = np.linspace(1, 10, 11)\nprint x\n\nx_2d, y_2d = np.meshgrid(x,y)\n#print(x_2d)\n#print(z_2d)\nx_2d = x_2d.astype(int)\n#z_2d=square(x_2d,10)\nz_2d=sigma(x_2d)\n#z_2d = F(x_2d, y_2d, NA, NB)\n#z_2d.shape\nz_2d",
    "id": "9cdd8b47c0424735be15ebdf7177ecdb",
    "idx": 9,
    "time": "2021-02-16T06:00:52.783Z",
    "type": "execution"
   },
   {
    "id": "9cdd8b47c0424735be15ebdf7177ecdb",
    "time": "2021-02-16T06:00:53.250Z",
    "type": "completion"
   },
   {
    "code": "y = np.linspace(500, 510, 11)\nx = np.linspace(1, 10, 11)\nprint(x)\n\nx_2d, y_2d = np.meshgrid(x,y)\n#print(x_2d)\n#print(z_2d)\nx_2d = x_2d.astype(int)\n#z_2d=square(x_2d,10)\nz_2d=sigma(x_2d)\n#z_2d = F(x_2d, y_2d, NA, NB)\n#z_2d.shape\nz_2d",
    "id": "9cdd8b47c0424735be15ebdf7177ecdb",
    "idx": 9,
    "time": "2021-02-16T06:01:10.143Z",
    "type": "execution"
   },
   {
    "id": "9cdd8b47c0424735be15ebdf7177ecdb",
    "time": "2021-02-16T06:01:10.246Z",
    "type": "completion"
   },
   {
    "code": "y = np.linspace(500, 510, 11)\nx = np.linspace(1, 10, 11)\nprint(square(x))\n\nx_2d, y_2d = np.meshgrid(x,y)\n#print(x_2d)\n#print(z_2d)\nx_2d = x_2d.astype(int)\n#z_2d=square(x_2d,10)\nz_2d=sigma(x_2d)\n#z_2d = F(x_2d, y_2d, NA, NB)\n#z_2d.shape\nz_2d",
    "id": "9cdd8b47c0424735be15ebdf7177ecdb",
    "idx": 9,
    "time": "2021-02-16T06:01:38.890Z",
    "type": "execution"
   },
   {
    "id": "9cdd8b47c0424735be15ebdf7177ecdb",
    "time": "2021-02-16T06:01:38.995Z",
    "type": "completion"
   },
   {
    "code": "y = np.linspace(500, 510, 11)\nx = np.linspace(1, 10, 11)\nprint(x)\nprint(square(x))\n\nx_2d, y_2d = np.meshgrid(x,y)\n#print(x_2d)\n#print(z_2d)\nx_2d = x_2d.astype(int)\n#z_2d=square(x_2d,10)\nz_2d=sigma(x_2d)\n#z_2d = F(x_2d, y_2d, NA, NB)\n#z_2d.shape\nz_2d",
    "id": "9cdd8b47c0424735be15ebdf7177ecdb",
    "idx": 9,
    "time": "2021-02-16T06:02:13.677Z",
    "type": "execution"
   },
   {
    "id": "9cdd8b47c0424735be15ebdf7177ecdb",
    "time": "2021-02-16T06:02:13.783Z",
    "type": "completion"
   },
   {
    "code": "# import numpy as np\nimport math as math\nimport scipy.stats as st\nimport scipy.special  \nimport matplotlib.pyplot as plt\n\nN = 1000\nn = []\nfor i in range((N//3)):\n    n.append(i/1.0)\n\ntau = []\nfor i in range((1000)):\n    tau.append(i/1000)\n\ndef fact(x):\n    return scipy.special.factorial(x, exact=True)\n\nNA = 5000\nNB = 5000\nntest = [500,600,700]\ndef square(ntest):\n    return ntest**2\ndef sigma(ntest): \n    NA=1000\n    NB=1000\n    # return fact(NA)/(fact(ntest)*fact(NA-ntest)) \n    #return fact(NA)\n    #ntest = ntest.astype(int)\n    return (np.log(fact(NA)/(fact(ntest)*fact(NA-ntest))) + np.log(fact(NB)/(fact(ntest)*fact(NB-ntest))))\n\n#sigma(1)\n#sigma(100)\nsigma(500)\n#fact(500)\n#math.factorial(500)\nprint(sigma(600))\nprint(square(ntest))\nprint(ntest)\nprint(sigma(ntest))\n                                                       ",
    "id": "d932be83395c4d95aa21942186351cb8",
    "idx": 6,
    "time": "2021-02-16T06:02:55.660Z",
    "type": "execution"
   },
   {
    "id": "d932be83395c4d95aa21942186351cb8",
    "time": "2021-02-16T06:02:55.762Z",
    "type": "completion"
   },
   {
    "code": "def F(tautest,ntest):\n    itest=int(ntest)\n    return 2*ntest - tautest*sigma(itest, NA,NB)",
    "id": "42da82d19b624f108c8925748ba855df",
    "idx": 7,
    "time": "2021-02-16T06:03:02.138Z",
    "type": "execution"
   },
   {
    "id": "42da82d19b624f108c8925748ba855df",
    "time": "2021-02-16T06:03:02.194Z",
    "type": "completion"
   },
   {
    "code": "def square(x,y):\n    return np.log(fact(x**2)+y**2)",
    "id": "a0275565515c41ca800c9243e5fcdc19",
    "idx": 8,
    "time": "2021-02-16T06:03:02.648Z",
    "type": "execution"
   },
   {
    "id": "a0275565515c41ca800c9243e5fcdc19",
    "time": "2021-02-16T06:03:02.707Z",
    "type": "completion"
   },
   {
    "code": "y = np.linspace(500, 510, 11)\nx = np.linspace(1, 10, 11)\nprint(x)\nprint(square(x))\n\nx_2d, y_2d = np.meshgrid(x,y)\n#print(x_2d)\n#print(z_2d)\nx_2d = x_2d.astype(int)\n#z_2d=square(x_2d,10)\nz_2d=sigma(x_2d)\n#z_2d = F(x_2d, y_2d, NA, NB)\n#z_2d.shape\nz_2d",
    "id": "9cdd8b47c0424735be15ebdf7177ecdb",
    "idx": 9,
    "time": "2021-02-16T06:03:03.607Z",
    "type": "execution"
   },
   {
    "id": "9cdd8b47c0424735be15ebdf7177ecdb",
    "time": "2021-02-16T06:03:03.682Z",
    "type": "completion"
   },
   {
    "code": "y = np.linspace(500, 510, 11)\nx = np.linspace(1, 10, 11)\nprint(x)\nprint(square(x))\n\nx_2d, y_2d = np.meshgrid(x,y)\n#print(x_2d)\n#print(z_2d)\nx_2d = x_2d.astype(int)\n#z_2d=square(x_2d,10)\nz_2d=sigma(x_2d)\n#z_2d = F(x_2d, y_2d, NA, NB)\n#z_2d.shape\nz_2d",
    "id": "9cdd8b47c0424735be15ebdf7177ecdb",
    "idx": 9,
    "time": "2021-02-16T06:03:13.272Z",
    "type": "execution"
   },
   {
    "id": "9cdd8b47c0424735be15ebdf7177ecdb",
    "time": "2021-02-16T06:03:13.340Z",
    "type": "completion"
   },
   {
    "code": "# import numpy as np\nimport math as math\nimport scipy.stats as st\nimport scipy.special  \nimport matplotlib.pyplot as plt\n\nN = 1000\nn = []\nfor i in range((N//3)):\n    n.append(i/1.0)\n\ntau = []\nfor i in range((1000)):\n    tau.append(i/1000)\n\ndef fact(x):\n    return scipy.special.factorial(x, exact=True)\n\nNA = 5000\nNB = 5000\nntest = [500,600,700]\ndef square(ntest):\n    return ntest-1\ndef sigma(ntest): \n    NA=1000\n    NB=1000\n    # return fact(NA)/(fact(ntest)*fact(NA-ntest)) \n    #return fact(NA)\n    #ntest = ntest.astype(int)\n    return (np.log(fact(NA)/(fact(ntest)*fact(NA-ntest))) + np.log(fact(NB)/(fact(ntest)*fact(NB-ntest))))\n\n#sigma(1)\n#sigma(100)\nsigma(500)\n#fact(500)\n#math.factorial(500)\nprint(sigma(600))\nprint(square(ntest))\nprint(ntest)\nprint(sigma(ntest))\n                                                       ",
    "id": "d932be83395c4d95aa21942186351cb8",
    "idx": 6,
    "time": "2021-02-16T06:03:56.946Z",
    "type": "execution"
   },
   {
    "id": "d932be83395c4d95aa21942186351cb8",
    "time": "2021-02-16T06:03:57.055Z",
    "type": "completion"
   },
   {
    "code": "def F(tautest,ntest):\n    itest=int(ntest)\n    return 2*ntest - tautest*sigma(itest, NA,NB)",
    "id": "42da82d19b624f108c8925748ba855df",
    "idx": 7,
    "time": "2021-02-16T06:03:58.121Z",
    "type": "execution"
   },
   {
    "id": "42da82d19b624f108c8925748ba855df",
    "time": "2021-02-16T06:03:58.177Z",
    "type": "completion"
   },
   {
    "code": "def square(x,y):\n    return np.log(fact(x**2)+y**2)",
    "id": "a0275565515c41ca800c9243e5fcdc19",
    "idx": 8,
    "time": "2021-02-16T06:03:58.841Z",
    "type": "execution"
   },
   {
    "id": "a0275565515c41ca800c9243e5fcdc19",
    "time": "2021-02-16T06:03:58.897Z",
    "type": "completion"
   },
   {
    "code": "y = np.linspace(500, 510, 11)\nx = np.linspace(1, 10, 11)\nprint(x)\nprint(square(x))\n\nx_2d, y_2d = np.meshgrid(x,y)\n#print(x_2d)\n#print(z_2d)\nx_2d = x_2d.astype(int)\n#z_2d=square(x_2d,10)\nz_2d=sigma(x_2d)\n#z_2d = F(x_2d, y_2d, NA, NB)\n#z_2d.shape\nz_2d",
    "id": "9cdd8b47c0424735be15ebdf7177ecdb",
    "idx": 9,
    "time": "2021-02-16T06:03:59.536Z",
    "type": "execution"
   },
   {
    "id": "9cdd8b47c0424735be15ebdf7177ecdb",
    "time": "2021-02-16T06:03:59.607Z",
    "type": "completion"
   },
   {
    "code": "# import numpy as np\nimport math as math\nimport scipy.stats as st\nimport scipy.special  \nimport matplotlib.pyplot as plt\n\nN = 1000\nn = []\nfor i in range((N//3)):\n    n.append(i/1.0)\n\ntau = []\nfor i in range((1000)):\n    tau.append(i/1000)\n\ndef fact(x):\n    return scipy.special.factorial(x, exact=True)\n\nNA = 5000\nNB = 5000\nntest = [500,600,700]\ndef square(ntest):\n    return ntest-1\ndef sigma(ntest): \n    NA=1000\n    NB=1000\n    # return fact(NA)/(fact(ntest)*fact(NA-ntest)) \n    #return fact(NA)\n    #ntest = ntest.astype(int)\n    return (np.log(fact(NA)/(fact(ntest)*fact(NA-ntest))) + np.log(fact(NB)/(fact(ntest)*fact(NB-ntest))))\n\n#sigma(1)\n#sigma(100)\nsigma(500)\n#fact(500)\n#math.factorial(500)\n#print(sigma(600))\n#print(square(ntest))\n#print(ntest)\n#print(sigma(ntest))\n                                                       ",
    "id": "d932be83395c4d95aa21942186351cb8",
    "idx": 6,
    "time": "2021-02-16T06:04:52.233Z",
    "type": "execution"
   },
   {
    "id": "d932be83395c4d95aa21942186351cb8",
    "time": "2021-02-16T06:04:52.317Z",
    "type": "completion"
   },
   {
    "code": "def F(tautest,ntest):\n    itest=int(ntest)\n    return 2*ntest - tautest*sigma(itest, NA,NB)",
    "id": "42da82d19b624f108c8925748ba855df",
    "idx": 7,
    "time": "2021-02-16T06:04:53.166Z",
    "type": "execution"
   },
   {
    "id": "42da82d19b624f108c8925748ba855df",
    "time": "2021-02-16T06:04:53.224Z",
    "type": "completion"
   },
   {
    "code": "def square(x,y):\n    return np.log(fact(x**2)+y**2)",
    "id": "a0275565515c41ca800c9243e5fcdc19",
    "idx": 8,
    "time": "2021-02-16T06:04:53.835Z",
    "type": "execution"
   },
   {
    "id": "a0275565515c41ca800c9243e5fcdc19",
    "time": "2021-02-16T06:04:53.922Z",
    "type": "completion"
   },
   {
    "code": "y = np.linspace(500, 510, 11)\nx = np.linspace(1, 10, 11)\nprint(x)\nprint(square(x))\n\nx_2d, y_2d = np.meshgrid(x,y)\n#print(x_2d)\n#print(z_2d)\nx_2d = x_2d.astype(int)\n#z_2d=square(x_2d,10)\nz_2d=sigma(x_2d)\n#z_2d = F(x_2d, y_2d, NA, NB)\n#z_2d.shape\nz_2d",
    "id": "9cdd8b47c0424735be15ebdf7177ecdb",
    "idx": 9,
    "time": "2021-02-16T06:04:54.621Z",
    "type": "execution"
   },
   {
    "id": "9cdd8b47c0424735be15ebdf7177ecdb",
    "time": "2021-02-16T06:04:54.696Z",
    "type": "completion"
   },
   {
    "code": "# import numpy as np\nimport math as math\nimport scipy.stats as st\nimport scipy.special  \nimport matplotlib.pyplot as plt\n\nN = 1000\nn = []\nfor i in range((N//3)):\n    n.append(i/1.0)\n\ntau = []\nfor i in range((1000)):\n    tau.append(i/1000)\n\ndef fact(x):\n    return scipy.special.factorial(x, exact=True)\n\nNA = 5000\nNB = 5000\nntest = [500,600,700]\ndef square(ntest):\n    return ntest-1\ndef sigma(ntest): \n    NA=1000\n    NB=1000\n    # return fact(NA)/(fact(ntest)*fact(NA-ntest)) \n    #return fact(NA)\n    #ntest = ntest.astype(int)\n    return (np.log(fact(NA)/(fact(ntest)*fact(NA-ntest))) + np.log(fact(NB)/(fact(ntest)*fact(NB-ntest))))\n\n#sigma(1)\n#sigma(100)\n#sigma(500)\n#fact(500)\n#math.factorial(500)\n#print(sigma(600))\n#print(square(ntest))\n#print(ntest)\n#print(sigma(ntest))\n                                                       ",
    "id": "d932be83395c4d95aa21942186351cb8",
    "idx": 6,
    "time": "2021-02-16T06:05:16.674Z",
    "type": "execution"
   },
   {
    "id": "d932be83395c4d95aa21942186351cb8",
    "time": "2021-02-16T06:05:16.744Z",
    "type": "completion"
   },
   {
    "code": "def F(tautest,ntest):\n    itest=int(ntest)\n    return 2*ntest - tautest*sigma(itest, NA,NB)",
    "id": "42da82d19b624f108c8925748ba855df",
    "idx": 7,
    "time": "2021-02-16T06:05:17.583Z",
    "type": "execution"
   },
   {
    "id": "42da82d19b624f108c8925748ba855df",
    "time": "2021-02-16T06:05:17.647Z",
    "type": "completion"
   },
   {
    "code": "def square(x,y):\n    return np.log(fact(x**2)+y**2)",
    "id": "a0275565515c41ca800c9243e5fcdc19",
    "idx": 8,
    "time": "2021-02-16T06:05:18.147Z",
    "type": "execution"
   },
   {
    "id": "a0275565515c41ca800c9243e5fcdc19",
    "time": "2021-02-16T06:05:18.207Z",
    "type": "completion"
   },
   {
    "code": "y = np.linspace(500, 510, 11)\nx = np.linspace(1, 10, 11)\nprint(x)\nprint(square(x))\n\nx_2d, y_2d = np.meshgrid(x,y)\n#print(x_2d)\n#print(z_2d)\nx_2d = x_2d.astype(int)\n#z_2d=square(x_2d,10)\nz_2d=sigma(x_2d)\n#z_2d = F(x_2d, y_2d, NA, NB)\n#z_2d.shape\nz_2d",
    "id": "9cdd8b47c0424735be15ebdf7177ecdb",
    "idx": 9,
    "time": "2021-02-16T06:05:18.994Z",
    "type": "execution"
   },
   {
    "id": "9cdd8b47c0424735be15ebdf7177ecdb",
    "time": "2021-02-16T06:05:19.073Z",
    "type": "completion"
   },
   {
    "code": "from mpl_toolkits.mplot3d import Axes3D\n\nfig = plt.figure(figsize=(8,8)) #create figure object to hold the plot\nax = Axes3D(fig) #create Axes3D object to display the plot\nax.plot_surface(x_2d, y_2d, z_2d)\nax.set_xlabel(\"$x$\")\nax.set_ylabel(\"$y$\")\nax.set_zlabel(\"$F(x,y)$\")",
    "id": "090aa9120e2d4cea89fa1f9ee3c39777",
    "idx": 10,
    "time": "2021-02-16T06:05:22.456Z",
    "type": "execution"
   },
   {
    "id": "090aa9120e2d4cea89fa1f9ee3c39777",
    "time": "2021-02-16T06:05:22.955Z",
    "type": "completion"
   },
   {
    "code": "y = np.linspace(500, 510, 11)\nx = np.linspace(1, 10, 11)\nprint(x)\nprint(square(x))\n\n#x_2d, y_2d = np.meshgrid(x,y)\n#print(x_2d)\n#print(z_2d)\n#x_2d = x_2d.astype(int)\n#z_2d=square(x_2d,10)\n#z_2d=sigma(x_2d)\n#z_2d = F(x_2d, y_2d, NA, NB)\n#z_2d.shape\n#z_2d",
    "id": "9cdd8b47c0424735be15ebdf7177ecdb",
    "idx": 9,
    "time": "2021-02-16T06:05:43.696Z",
    "type": "execution"
   },
   {
    "id": "9cdd8b47c0424735be15ebdf7177ecdb",
    "time": "2021-02-16T06:05:43.763Z",
    "type": "completion"
   },
   {
    "code": "# import numpy as np\nimport math as math\nimport scipy.stats as st\nimport scipy.special  \nimport matplotlib.pyplot as plt\n\nN = 1000\nn = []\nfor i in range((N//3)):\n    n.append(i/1.0)\n\ntau = []\nfor i in range((1000)):\n    tau.append(i/1000)\n\ndef fact(x):\n    return scipy.special.factorial(x, exact=True)\n\nNA = 5000\nNB = 5000\nntest = [500,600,700]\ndef square(ntest):\n    return ntest-1\ndef sigma(ntest): \n    NA=1000\n    NB=1000\n    # return fact(NA)/(fact(ntest)*fact(NA-ntest)) \n    #return fact(NA)\n    #ntest = ntest.astype(int)\n    return (np.log(fact(NA)/(fact(ntest)*fact(NA-ntest))) + np.log(fact(NB)/(fact(ntest)*fact(NB-ntest))))\n\n#sigma(1)\n#sigma(100)\n#sigma(500)\n#fact(500)\n#math.factorial(500)\n#print(sigma(600))\nprint(square(100))\n#print(ntest)\n#print(sigma(ntest))\n                                                       ",
    "id": "d932be83395c4d95aa21942186351cb8",
    "idx": 6,
    "time": "2021-02-16T06:06:17.971Z",
    "type": "execution"
   },
   {
    "id": "d932be83395c4d95aa21942186351cb8",
    "time": "2021-02-16T06:06:18.046Z",
    "type": "completion"
   },
   {
    "code": "# import numpy as np\nimport math as math\nimport scipy.stats as st\nimport scipy.special  \nimport matplotlib.pyplot as plt\n\nN = 1000\nn = []\nfor i in range((N//3)):\n    n.append(i/1.0)\n\ntau = []\nfor i in range((1000)):\n    tau.append(i/1000)\n\ndef fact(x):\n    return scipy.special.factorial(x, exact=True)\n\nNA = 5000\nNB = 5000\nntest = [500,600,700]\ndef square(ntest):\n    return ntest**2\ndef sigma(ntest): \n    NA=1000\n    NB=1000\n    # return fact(NA)/(fact(ntest)*fact(NA-ntest)) \n    #return fact(NA)\n    #ntest = ntest.astype(int)\n    return (np.log(fact(NA)/(fact(ntest)*fact(NA-ntest))) + np.log(fact(NB)/(fact(ntest)*fact(NB-ntest))))\n\n#sigma(1)\n#sigma(100)\n#sigma(500)\n#fact(500)\n#math.factorial(500)\n#print(sigma(600))\nprint(square(100))\n#print(ntest)\n#print(sigma(ntest))\n                                                       ",
    "id": "d932be83395c4d95aa21942186351cb8",
    "idx": 6,
    "time": "2021-02-16T06:06:33.250Z",
    "type": "execution"
   },
   {
    "id": "d932be83395c4d95aa21942186351cb8",
    "time": "2021-02-16T06:06:33.318Z",
    "type": "completion"
   },
   {
    "code": "y = np.linspace(500, 510, 11)\nx = np.linspace(1, 10, 11)\nprint(x)\nz= square(x)\n\n#x_2d, y_2d = np.meshgrid(x,y)\n#print(x_2d)\n#print(z_2d)\n#x_2d = x_2d.astype(int)\n#z_2d=square(x_2d,10)\n#z_2d=sigma(x_2d)\n#z_2d = F(x_2d, y_2d, NA, NB)\n#z_2d.shape\n#z_2d",
    "id": "9cdd8b47c0424735be15ebdf7177ecdb",
    "idx": 9,
    "time": "2021-02-16T06:07:32.335Z",
    "type": "execution"
   },
   {
    "id": "9cdd8b47c0424735be15ebdf7177ecdb",
    "time": "2021-02-16T06:07:32.407Z",
    "type": "completion"
   },
   {
    "code": "y = np.linspace(500, 510, 11)\nx = np.linspace(1, 10, 11)\nprint(x)\nz= square(x)\nprint(z)\n#x_2d, y_2d = np.meshgrid(x,y)\n#print(x_2d)\n#print(z_2d)\n#x_2d = x_2d.astype(int)\n#z_2d=square(x_2d,10)\n#z_2d=sigma(x_2d)\n#z_2d = F(x_2d, y_2d, NA, NB)\n#z_2d.shape\n#z_2d",
    "id": "9cdd8b47c0424735be15ebdf7177ecdb",
    "idx": 9,
    "time": "2021-02-16T06:07:51.307Z",
    "type": "execution"
   },
   {
    "id": "9cdd8b47c0424735be15ebdf7177ecdb",
    "time": "2021-02-16T06:07:51.378Z",
    "type": "completion"
   },
   {
    "code": "y = np.linspace(500, 510, 11)\nx = np.linspace(1, 10, 11)\nprint(x)\nprint(square(x))\nz= square(x)\nprint(z)\n#x_2d, y_2d = np.meshgrid(x,y)\n#print(x_2d)\n#print(z_2d)\n#x_2d = x_2d.astype(int)\n#z_2d=square(x_2d,10)\n#z_2d=sigma(x_2d)\n#z_2d = F(x_2d, y_2d, NA, NB)\n#z_2d.shape\n#z_2d",
    "id": "9cdd8b47c0424735be15ebdf7177ecdb",
    "idx": 9,
    "time": "2021-02-16T06:08:16.794Z",
    "type": "execution"
   },
   {
    "id": "9cdd8b47c0424735be15ebdf7177ecdb",
    "time": "2021-02-16T06:08:16.864Z",
    "type": "completion"
   },
   {
    "code": "y = np.linspace(500, 510, 11)\nx = np.linspace(1, 10, 11)\nprint(x)\nprint(square(x))\nprint(z)\n#x_2d, y_2d = np.meshgrid(x,y)\n#print(x_2d)\n#print(z_2d)\n#x_2d = x_2d.astype(int)\n#z_2d=square(x_2d,10)\n#z_2d=sigma(x_2d)\n#z_2d = F(x_2d, y_2d, NA, NB)\n#z_2d.shape\n#z_2d",
    "id": "9cdd8b47c0424735be15ebdf7177ecdb",
    "idx": 9,
    "time": "2021-02-16T06:08:31.454Z",
    "type": "execution"
   },
   {
    "id": "9cdd8b47c0424735be15ebdf7177ecdb",
    "time": "2021-02-16T06:08:31.515Z",
    "type": "completion"
   },
   {
    "code": "# import numpy as np\nimport math as math\nimport scipy.stats as st\nimport scipy.special  \nimport matplotlib.pyplot as plt\n\nN = 1000\nn = []\nfor i in range((N//3)):\n    n.append(i/1.0)\n\ntau = []\nfor i in range((1000)):\n    tau.append(i/1000)\n\ndef fact(x):\n    return scipy.special.factorial(x, exact=True)\n\nNA = 5000\nNB = 5000\nntest = [500,600,700]\ndef square(ntest):\n    return ntest**2\ndef sigma(ntest): \n    NA=1000\n    NB=1000\n    # return fact(NA)/(fact(ntest)*fact(NA-ntest)) \n    #return fact(NA)\n    #ntest = ntest.astype(int)\n    return (np.log(fact(NA)/(fact(ntest)*fact(NA-ntest))) + np.log(fact(NB)/(fact(ntest)*fact(NB-ntest))))\n\n#sigma(1)\n#sigma(100)\n#sigma(500)\n#fact(500)\n#math.factorial(500)\n#print(sigma(600))\nprint(square(ntest))\n#print(ntest)\n#print(sigma(ntest))\n                                                       ",
    "id": "d932be83395c4d95aa21942186351cb8",
    "idx": 6,
    "time": "2021-02-16T06:09:08.835Z",
    "type": "execution"
   },
   {
    "id": "d932be83395c4d95aa21942186351cb8",
    "time": "2021-02-16T06:09:08.926Z",
    "type": "completion"
   },
   {
    "code": "y = np.linspace(500, 510, 11)\nx = np.linspace(1, 10, 11)\nprint(x)\nprint(sigma(x))\nprint(z)\n#x_2d, y_2d = np.meshgrid(x,y)\n#print(x_2d)\n#print(z_2d)\n#x_2d = x_2d.astype(int)\n#z_2d=square(x_2d,10)\n#z_2d=sigma(x_2d)\n#z_2d = F(x_2d, y_2d, NA, NB)\n#z_2d.shape\n#z_2d",
    "id": "9cdd8b47c0424735be15ebdf7177ecdb",
    "idx": 9,
    "time": "2021-02-16T06:09:41.369Z",
    "type": "execution"
   },
   {
    "id": "9cdd8b47c0424735be15ebdf7177ecdb",
    "time": "2021-02-16T06:09:41.486Z",
    "type": "completion"
   },
   {
    "code": "# import numpy as np\nimport math as math\nimport scipy.stats as st\nimport scipy.special  \nimport matplotlib.pyplot as plt\n\nN = 1000\nn = []\nfor i in range((N//3)):\n    n.append(i/1.0)\n\ntau = []\nfor i in range((1000)):\n    tau.append(i/1000)\n\ndef fact(x):\n    return scipy.special.factorial(x, exact=True)\n\nNA = 5000\nNB = 5000\nntest = [500,600,700]\ndef square(ntest):\n    return ntest**2\ndef sigma(ntest): \n    NA=1000\n    NB=1000\n    # return fact(NA)/(fact(ntest)*fact(NA-ntest)) \n    #return fact(NA)\n    ntest = ntest.astype(int)\n    return (np.log(fact(NA)/(fact(ntest)*fact(NA-ntest))) + np.log(fact(NB)/(fact(ntest)*fact(NB-ntest))))\n\n#sigma(1)\n#sigma(100)\n#sigma(500)\n#fact(500)\n#math.factorial(500)\n#print(sigma(600))\nprint(square(ntest))\n#print(ntest)\n#print(sigma(ntest))\n                                                       ",
    "id": "d932be83395c4d95aa21942186351cb8",
    "idx": 6,
    "time": "2021-02-16T06:10:15.303Z",
    "type": "execution"
   },
   {
    "id": "d932be83395c4d95aa21942186351cb8",
    "time": "2021-02-16T06:10:15.390Z",
    "type": "completion"
   },
   {
    "code": "y = np.linspace(500, 510, 11)\nx = np.linspace(1, 10, 11)\nprint(x)\nprint(sigma(x))\nprint(z)\n#x_2d, y_2d = np.meshgrid(x,y)\n#print(x_2d)\n#print(z_2d)\n#x_2d = x_2d.astype(int)\n#z_2d=square(x_2d,10)\n#z_2d=sigma(x_2d)\n#z_2d = F(x_2d, y_2d, NA, NB)\n#z_2d.shape\n#z_2d",
    "id": "9cdd8b47c0424735be15ebdf7177ecdb",
    "idx": 9,
    "time": "2021-02-16T06:10:32.107Z",
    "type": "execution"
   },
   {
    "id": "9cdd8b47c0424735be15ebdf7177ecdb",
    "time": "2021-02-16T06:10:32.214Z",
    "type": "completion"
   },
   {
    "code": "# import numpy as np\nimport math as math\nimport scipy.stats as st\nimport scipy.special  \nimport matplotlib.pyplot as plt\n\nN = 1000\nn = []\nfor i in range((N//3)):\n    n.append(i/1.0)\n\ntau = []\nfor i in range((1000)):\n    tau.append(i/1000)\n\ndef fact(x):\n    return scipy.special.factorial(x, exact=True)\n\nNA = 5000\nNB = 5000\nntest = [500,600,700]\ndef square(ntest):\n    return ntest**2\ndef sigma(ntest): \n    NA=1000\n    NB=1000\n    # return fact(NA)/(fact(ntest)*fact(NA-ntest)) \n    #return fact(NA)\n    ntest = ntest.astype(int)\n    return (np.log(fact(NA)/(fact(ntest)*fact(NA-ntest))) + np.log(fact(NB)/(fact(ntest)*fact(NB-ntest))))\n\n#sigma(1)\nsigma(100)\n#sigma(500)\n#fact(500)\n#math.factorial(500)\n#print(sigma(600))\n#print(square(ntest))\n#print(ntest)\n#print(sigma(ntest))\n                                                       ",
    "id": "d932be83395c4d95aa21942186351cb8",
    "idx": 6,
    "time": "2021-02-16T06:11:01.183Z",
    "type": "execution"
   },
   {
    "id": "d932be83395c4d95aa21942186351cb8",
    "time": "2021-02-16T06:11:01.267Z",
    "type": "completion"
   },
   {
    "code": "# import numpy as np\nimport math as math\nimport scipy.stats as st\nimport scipy.special  \nimport matplotlib.pyplot as plt\n\nN = 1000\nn = []\nfor i in range((N//3)):\n    n.append(i/1.0)\n\ntau = []\nfor i in range((1000)):\n    tau.append(i/1000)\n\ndef fact(x):\n    return scipy.special.factorial(x, exact=True)\n\nNA = 5000\nNB = 5000\nntest = [500,600,700]\ndef square(ntest):\n    return ntest**2\ndef sigma(ntest): \n    NA=1000\n    NB=1000\n    # return fact(NA)/(fact(ntest)*fact(NA-ntest)) \n    #return fact(NA)\n    itest = ntest.astype(int)\n    return (np.log(fact(NA)/(fact(itest)*fact(NA-itest))) + np.log(fact(NB)/(fact(itest)*fact(NB-itest))))\n\n#sigma(1)\nsigma(100)\n#sigma(500)\n#fact(500)\n#math.factorial(500)\n#print(sigma(600))\n#print(square(ntest))\n#print(ntest)\n#print(sigma(ntest))\n                                                       ",
    "id": "d932be83395c4d95aa21942186351cb8",
    "idx": 6,
    "time": "2021-02-16T06:12:04.329Z",
    "type": "execution"
   },
   {
    "id": "d932be83395c4d95aa21942186351cb8",
    "time": "2021-02-16T06:12:04.423Z",
    "type": "completion"
   },
   {
    "code": "# import numpy as np\nimport math as math\nimport scipy.stats as st\nimport scipy.special  \nimport matplotlib.pyplot as plt\n\nN = 1000\nn = []\nfor i in range((N//3)):\n    n.append(i/1.0)\n\ntau = []\nfor i in range((1000)):\n    tau.append(i/1000)\n\ndef fact(x):\n    return scipy.special.factorial(x, exact=True)\n\ndef sigma(ntest): \n    NA=1000\n    NB=1000\n    # return fact(NA)/(fact(ntest)*fact(NA-ntest)) \n    #return fact(NA)\n    itest = ntest.astype(int)\n    return (np.log(fact(NA)/(fact(itest)*fact(NA-itest))) + np.log(fact(NB)/(fact(itest)*fact(NB-itest))))\n\n#sigma(1)\nsigma(100)\n#sigma(500)\n#fact(500)\n#math.factorial(500)\n#print(sigma(600))\n#print(square(ntest))\n#print(ntest)\n#print(sigma(ntest))\n                                                       ",
    "id": "d932be83395c4d95aa21942186351cb8",
    "idx": 6,
    "time": "2021-02-16T06:12:52.212Z",
    "type": "execution"
   },
   {
    "id": "d932be83395c4d95aa21942186351cb8",
    "time": "2021-02-16T06:12:52.293Z",
    "type": "completion"
   },
   {
    "code": "# import numpy as np\nimport math as math\nimport scipy.stats as st\nimport scipy.special  \nimport matplotlib.pyplot as plt\n\nN = 1000\nn = []\nfor i in range((N//3)):\n    n.append(i/1.0)\n\ntau = []\nfor i in range((1000)):\n    tau.append(i/1000)\n\ndef fact(x):\n    return scipy.special.factorial(x, exact=True)\n\ndef sigma(ntest): \n    NA=1000\n    NB=1000\n    # return fact(NA)/(fact(ntest)*fact(NA-ntest)) \n    #return fact(NA)\n    itest = int(ntest)\n    return (np.log(fact(NA)/(fact(itest)*fact(NA-itest))) + np.log(fact(NB)/(fact(itest)*fact(NB-itest))))\n\n#sigma(1)\nsigma(100)\n#sigma(500)\n#fact(500)\n#math.factorial(500)\n#print(sigma(600))\n#print(square(ntest))\n#print(ntest)\n#print(sigma(ntest))\n                                                       ",
    "id": "d932be83395c4d95aa21942186351cb8",
    "idx": 6,
    "time": "2021-02-16T06:14:09.820Z",
    "type": "execution"
   },
   {
    "id": "d932be83395c4d95aa21942186351cb8",
    "time": "2021-02-16T06:14:09.926Z",
    "type": "completion"
   },
   {
    "code": "# import numpy as np\nimport math as math\nimport scipy.stats as st\nimport scipy.special  \nimport matplotlib.pyplot as plt\n\nN = 1000\nn = []\nfor i in range((N//3)):\n    n.append(i/1.0)\n\ntau = []\nfor i in range((1000)):\n    tau.append(i/1000)\n\ndef fact(x):\n    return scipy.special.factorial(x, exact=True)\n\ndef sigma(ntest): \n    NA=1000\n    NB=1000\n    # return fact(NA)/(fact(ntest)*fact(NA-ntest)) \n    #return fact(NA)\n    itest = int(ntest)\n    return (np.log(fact(NA)/(fact(itest)*fact(NA-itest))) + np.log(fact(NB)/(fact(itest)*fact(NB-itest))))\n\n#sigma(1)\nsigma(500)\n#sigma(500)\n#fact(500)\n#math.factorial(500)\n#print(sigma(600))\n#print(square(ntest))\n#print(ntest)\n#print(sigma(ntest))\n                                                       ",
    "id": "d932be83395c4d95aa21942186351cb8",
    "idx": 6,
    "time": "2021-02-16T06:14:23.808Z",
    "type": "execution"
   },
   {
    "id": "d932be83395c4d95aa21942186351cb8",
    "time": "2021-02-16T06:14:23.884Z",
    "type": "completion"
   },
   {
    "code": "# import numpy as np\nimport math as math\nimport scipy.stats as st\nimport scipy.special  \nimport matplotlib.pyplot as plt\n\nN = 1000\nn = []\nfor i in range((N//3)):\n    n.append(i/1.0)\n\ntau = []\nfor i in range((1000)):\n    tau.append(i/1000)\n\ndef fact(x):\n    return scipy.special.factorial(x, exact=True)\n\ndef sigma(ntest): \n    NA=1000\n    NB=1000\n    # return fact(NA)/(fact(ntest)*fact(NA-ntest)) \n    #return fact(NA)\n    itest = int(ntest)\n    return (np.log(fact(NA)/(fact(itest)*fact(NA-itest))) + np.log(fact(NB)/(fact(itest)*fact(NB-itest))))\n\n#sigma(1)\n#sigma(500)\n#sigma(500)\n#fact(500)\n#math.factorial(500)\n#print(sigma(600))\n#print(square(ntest))\n#print(ntest)\n#print(sigma(ntest))\n                                                       ",
    "id": "d932be83395c4d95aa21942186351cb8",
    "idx": 6,
    "time": "2021-02-16T06:14:43.663Z",
    "type": "execution"
   },
   {
    "id": "d932be83395c4d95aa21942186351cb8",
    "time": "2021-02-16T06:14:43.731Z",
    "type": "completion"
   },
   {
    "code": "def F(tautest,ntest):\n    return 2*ntest - tautest*sigma(ntest)",
    "id": "42da82d19b624f108c8925748ba855df",
    "idx": 7,
    "time": "2021-02-16T06:15:12.557Z",
    "type": "execution"
   },
   {
    "id": "42da82d19b624f108c8925748ba855df",
    "time": "2021-02-16T06:15:12.628Z",
    "type": "completion"
   },
   {
    "code": "def square(x,y):\n    return np.log(fact(x**2)+y**2)",
    "id": "a0275565515c41ca800c9243e5fcdc19",
    "idx": 8,
    "time": "2021-02-16T06:15:26.079Z",
    "type": "execution"
   },
   {
    "id": "a0275565515c41ca800c9243e5fcdc19",
    "time": "2021-02-16T06:15:26.138Z",
    "type": "completion"
   },
   {
    "code": "y = np.linspace(500, 510, 11)\nx = np.linspace(1, 10, 11)\nprint(x)\nprint(sigma(x))\nprint(z)\n#x_2d, y_2d = np.meshgrid(x,y)\n#print(x_2d)\n#print(z_2d)\n#x_2d = x_2d.astype(int)\n#z_2d=square(x_2d,10)\n#z_2d=sigma(x_2d)\n#z_2d = F(x_2d, y_2d, NA, NB)\n#z_2d.shape\n#z_2d",
    "id": "9cdd8b47c0424735be15ebdf7177ecdb",
    "idx": 9,
    "time": "2021-02-16T06:15:32.143Z",
    "type": "execution"
   },
   {
    "id": "9cdd8b47c0424735be15ebdf7177ecdb",
    "time": "2021-02-16T06:15:32.243Z",
    "type": "completion"
   },
   {
    "code": "y = np.linspace(500, 510, 11)\nx = np.linspace(1, 10, 11)\nprint(x)\nz=sigma(x)\nprint(z)\n#x_2d, y_2d = np.meshgrid(x,y)\n#print(x_2d)\n#print(z_2d)\n#x_2d = x_2d.astype(int)\n#z_2d=square(x_2d,10)\n#z_2d=sigma(x_2d)\n#z_2d = F(x_2d, y_2d, NA, NB)\n#z_2d.shape\n#z_2d",
    "id": "9cdd8b47c0424735be15ebdf7177ecdb",
    "idx": 9,
    "time": "2021-02-16T06:16:23.705Z",
    "type": "execution"
   },
   {
    "id": "9cdd8b47c0424735be15ebdf7177ecdb",
    "time": "2021-02-16T06:16:23.808Z",
    "type": "completion"
   },
   {
    "code": "y = np.linspace(500, 510, 11)\nx = np.linspace(1, 10, 11)\nprint(x)\nprint (int(x))\nz=sigma(x)\nprint(z)\n#x_2d, y_2d = np.meshgrid(x,y)\n#print(x_2d)\n#print(z_2d)\n#x_2d = x_2d.astype(int)\n#z_2d=square(x_2d,10)\n#z_2d=sigma(x_2d)\n#z_2d = F(x_2d, y_2d, NA, NB)\n#z_2d.shape\n#z_2d",
    "id": "9cdd8b47c0424735be15ebdf7177ecdb",
    "idx": 9,
    "time": "2021-02-16T06:17:29.955Z",
    "type": "execution"
   },
   {
    "id": "9cdd8b47c0424735be15ebdf7177ecdb",
    "time": "2021-02-16T06:17:30.046Z",
    "type": "completion"
   },
   {
    "code": "y = np.linspace(500, 510, 11)\nx = np.linspace(1, 10, 11)\nprint(x)\nprint (int(x))\nz = sigma(x)\nprint(z)\n#x_2d, y_2d = np.meshgrid(x,y)\n#print(x_2d)\n#print(z_2d)\n#x_2d = x_2d.astype(int)\n#z_2d=square(x_2d,10)\n#z_2d=sigma(x_2d)\n#z_2d = F(x_2d, y_2d, NA, NB)\n#z_2d.shape\n#z_2d",
    "id": "9cdd8b47c0424735be15ebdf7177ecdb",
    "idx": 9,
    "time": "2021-02-16T06:18:03.793Z",
    "type": "execution"
   },
   {
    "id": "9cdd8b47c0424735be15ebdf7177ecdb",
    "time": "2021-02-16T06:18:03.862Z",
    "type": "completion"
   },
   {
    "code": "y = np.linspace(500, 510, 11)\nx = np.linspace(1, 10, 11)\nprint(x)\nz= int(x)\nprint (z)\nprint(z)\n#x_2d, y_2d = np.meshgrid(x,y)\n#print(x_2d)\n#print(z_2d)\n#x_2d = x_2d.astype(int)\n#z_2d=square(x_2d,10)\n#z_2d=sigma(x_2d)\n#z_2d = F(x_2d, y_2d, NA, NB)\n#z_2d.shape\n#z_2d",
    "id": "9cdd8b47c0424735be15ebdf7177ecdb",
    "idx": 9,
    "time": "2021-02-16T06:18:34.329Z",
    "type": "execution"
   },
   {
    "id": "9cdd8b47c0424735be15ebdf7177ecdb",
    "time": "2021-02-16T06:18:34.481Z",
    "type": "completion"
   },
   {
    "code": "y = np.linspace(500, 510, 11)\nx = np.linspace(1, 10, 11)\nprint(x)\nz = np.mod(x)\nprint (z)\nprint(z)\n#x_2d, y_2d = np.meshgrid(x,y)\n#print(x_2d)\n#print(z_2d)\n#x_2d = x_2d.astype(int)\n#z_2d=square(x_2d,10)\n#z_2d=sigma(x_2d)\n#z_2d = F(x_2d, y_2d, NA, NB)\n#z_2d.shape\n#z_2d",
    "id": "9cdd8b47c0424735be15ebdf7177ecdb",
    "idx": 9,
    "time": "2021-02-16T06:19:09.163Z",
    "type": "execution"
   },
   {
    "id": "9cdd8b47c0424735be15ebdf7177ecdb",
    "time": "2021-02-16T06:19:09.240Z",
    "type": "completion"
   },
   {
    "code": "y = np.linspace(500, 510, 11)\nx = np.linspace(1, 10, 11)\nprint(x)\nz = math.floor(x)\nprint (z)\nprint(z)\n#x_2d, y_2d = np.meshgrid(x,y)\n#print(x_2d)\n#print(z_2d)\n#x_2d = x_2d.astype(int)\n#z_2d=square(x_2d,10)\n#z_2d=sigma(x_2d)\n#z_2d = F(x_2d, y_2d, NA, NB)\n#z_2d.shape\n#z_2d",
    "id": "9cdd8b47c0424735be15ebdf7177ecdb",
    "idx": 9,
    "time": "2021-02-16T06:20:30.916Z",
    "type": "execution"
   },
   {
    "id": "9cdd8b47c0424735be15ebdf7177ecdb",
    "time": "2021-02-16T06:20:31.014Z",
    "type": "completion"
   },
   {
    "code": "y = np.linspace(500, 510, 11)\nx = np.linspace(1, 10, 11)\nprint(x)\nz = x.astype(int)\nprint (z)\n#x_2d, y_2d = np.meshgrid(x,y)\n#print(x_2d)\n#print(z_2d)\n#x_2d = x_2d.astype(int)\n#z_2d=square(x_2d,10)\n#z_2d=sigma(x_2d)\n#z_2d = F(x_2d, y_2d, NA, NB)\n#z_2d.shape\n#z_2d",
    "id": "9cdd8b47c0424735be15ebdf7177ecdb",
    "idx": 9,
    "time": "2021-02-16T06:22:42.204Z",
    "type": "execution"
   },
   {
    "id": "9cdd8b47c0424735be15ebdf7177ecdb",
    "time": "2021-02-16T06:22:42.290Z",
    "type": "completion"
   },
   {
    "code": "y = np.linspace(500, 510, 11)\nx = np.linspace(1, 10, 11)\nprint(x)\nx = x.astype(int)\nprint (z)\n#x_2d, y_2d = np.meshgrid(x,y)\n#print(x_2d)\n#print(z_2d)\n#x_2d = x_2d.astype(int)\n#z_2d=square(x_2d,10)\n#z_2d=sigma(x_2d)\n#z_2d = F(x_2d, y_2d, NA, NB)\n#z_2d.shape\n#z_2d",
    "id": "9cdd8b47c0424735be15ebdf7177ecdb",
    "idx": 9,
    "time": "2021-02-16T06:23:15.897Z",
    "type": "execution"
   },
   {
    "id": "9cdd8b47c0424735be15ebdf7177ecdb",
    "time": "2021-02-16T06:23:15.957Z",
    "type": "completion"
   },
   {
    "code": "y = np.linspace(500, 510, 11)\nx = np.linspace(1, 10, 11)\nprint(x)\nx = x.astype(int)\nz=sigma(x)\nprint(z)\nprint (z)\n#x_2d, y_2d = np.meshgrid(x,y)\n#print(x_2d)\n#print(z_2d)\n#x_2d = x_2d.astype(int)\n#z_2d=square(x_2d,10)\n#z_2d=sigma(x_2d)\n#z_2d = F(x_2d, y_2d, NA, NB)\n#z_2d.shape\n#z_2d",
    "id": "9cdd8b47c0424735be15ebdf7177ecdb",
    "idx": 9,
    "time": "2021-02-16T06:23:58.549Z",
    "type": "execution"
   },
   {
    "id": "9cdd8b47c0424735be15ebdf7177ecdb",
    "time": "2021-02-16T06:23:58.652Z",
    "type": "completion"
   },
   {
    "code": "y = np.linspace(500, 510, 11)\nx = np.linspace(1, 10, 11)\nprint(x)\nx = x.astype(int)\nprint(x)\nz=sigma(x)\nprint(z)\nprint (z)\n#x_2d, y_2d = np.meshgrid(x,y)\n#print(x_2d)\n#print(z_2d)\n#x_2d = x_2d.astype(int)\n#z_2d=square(x_2d,10)\n#z_2d=sigma(x_2d)\n#z_2d = F(x_2d, y_2d, NA, NB)\n#z_2d.shape\n#z_2d",
    "id": "9cdd8b47c0424735be15ebdf7177ecdb",
    "idx": 9,
    "time": "2021-02-16T06:24:24.816Z",
    "type": "execution"
   },
   {
    "id": "9cdd8b47c0424735be15ebdf7177ecdb",
    "time": "2021-02-16T06:24:24.913Z",
    "type": "completion"
   },
   {
    "code": "# import numpy as np\nimport math as math\nimport scipy.stats as st\nimport scipy.special  \nimport matplotlib.pyplot as plt\n\nN = 1000\nn = []\nfor i in range((N//3)):\n    n.append(i/1.0)\n\ntau = []\nfor i in range((1000)):\n    tau.append(i/1000)\n\ndef fact(x):\n    return scipy.special.factorial(x, exact=True)\n\ndef sigma(ntest): \n    NA=1000\n    NB=1000\n    # return fact(NA)/(fact(ntest)*fact(NA-ntest)) \n    #return fact(NA)\n    return (np.log(fact(NA)/(fact(itest)*fact(NA-itest))) + np.log(fact(NB)/(fact(itest)*fact(NB-itest))))\n\n#sigma(1)\n#sigma(500)\n#sigma(500)\n#fact(500)\n#math.factorial(500)\n#print(sigma(600))\n#print(square(ntest))\n#print(ntest)\n#print(sigma(ntest))\n                                                       ",
    "id": "d932be83395c4d95aa21942186351cb8",
    "idx": 6,
    "time": "2021-02-16T06:24:52.640Z",
    "type": "execution"
   },
   {
    "id": "d932be83395c4d95aa21942186351cb8",
    "time": "2021-02-16T06:24:52.702Z",
    "type": "completion"
   },
   {
    "code": "def F(tautest,ntest):\n    return 2*ntest - tautest*sigma(ntest)",
    "id": "42da82d19b624f108c8925748ba855df",
    "idx": 7,
    "time": "2021-02-16T06:24:55.817Z",
    "type": "execution"
   },
   {
    "id": "42da82d19b624f108c8925748ba855df",
    "time": "2021-02-16T06:24:55.873Z",
    "type": "completion"
   },
   {
    "code": "def square(x,y):\n    return np.log(fact(x**2)+y**2)",
    "id": "a0275565515c41ca800c9243e5fcdc19",
    "idx": 8,
    "time": "2021-02-16T06:24:56.809Z",
    "type": "execution"
   },
   {
    "id": "a0275565515c41ca800c9243e5fcdc19",
    "time": "2021-02-16T06:24:56.866Z",
    "type": "completion"
   },
   {
    "code": "y = np.linspace(500, 510, 11)\nx = np.linspace(1, 10, 11)\nprint(x)\nx = x.astype(int)\nprint(x)\nz=sigma(x)\nprint(z)\nprint (z)\n#x_2d, y_2d = np.meshgrid(x,y)\n#print(x_2d)\n#print(z_2d)\n#x_2d = x_2d.astype(int)\n#z_2d=square(x_2d,10)\n#z_2d=sigma(x_2d)\n#z_2d = F(x_2d, y_2d, NA, NB)\n#z_2d.shape\n#z_2d",
    "id": "9cdd8b47c0424735be15ebdf7177ecdb",
    "idx": 9,
    "time": "2021-02-16T06:24:57.878Z",
    "type": "execution"
   },
   {
    "id": "9cdd8b47c0424735be15ebdf7177ecdb",
    "time": "2021-02-16T06:24:57.949Z",
    "type": "completion"
   },
   {
    "code": "y = np.linspace(500, 510, 11)\nx = np.linspace(1, 10, 11)\nprint(x)\nx = x.astype(int)\nprint(x)\nz=fact(x)\nprint(z)\nprint (z)\n#x_2d, y_2d = np.meshgrid(x,y)\n#print(x_2d)\n#print(z_2d)\n#x_2d = x_2d.astype(int)\n#z_2d=square(x_2d,10)\n#z_2d=sigma(x_2d)\n#z_2d = F(x_2d, y_2d, NA, NB)\n#z_2d.shape\n#z_2d",
    "id": "9cdd8b47c0424735be15ebdf7177ecdb",
    "idx": 9,
    "time": "2021-02-16T06:25:21.939Z",
    "type": "execution"
   },
   {
    "id": "9cdd8b47c0424735be15ebdf7177ecdb",
    "time": "2021-02-16T06:25:23.484Z",
    "type": "completion"
   },
   {
    "code": "y = np.linspace(500, 510, 11)\nx = np.linspace(1, 10, 11)\nprint(x)\nx = x.astype(int)\nprint(x)\nz=np.log(fact(x))\nprint(z)\nprint (z)\n#x_2d, y_2d = np.meshgrid(x,y)\n#print(x_2d)\n#print(z_2d)\n#x_2d = x_2d.astype(int)\n#z_2d=square(x_2d,10)\n#z_2d=sigma(x_2d)\n#z_2d = F(x_2d, y_2d, NA, NB)\n#z_2d.shape\n#z_2d",
    "id": "9cdd8b47c0424735be15ebdf7177ecdb",
    "idx": 9,
    "time": "2021-02-16T06:25:46.826Z",
    "type": "execution"
   },
   {
    "id": "9cdd8b47c0424735be15ebdf7177ecdb",
    "time": "2021-02-16T06:25:46.890Z",
    "type": "completion"
   },
   {
    "code": "# import numpy as np\nimport math as math\nimport scipy.stats as st\nimport scipy.special  \nimport matplotlib.pyplot as plt\n\nN = 1000\nn = []\nfor i in range((N//3)):\n    n.append(i/1.0)\n\ntau = []\nfor i in range((1000)):\n    tau.append(i/1000)\n\ndef fact(x):\n    return scipy.special.factorial(x, exact=True)\n\ndef sigma(ntest): \n    NA=1000\n    NB=1000\n    return fact(ntest)\n    #return (np.log(fact(NA)/(fact(itest)*fact(NA-itest))) + np.log(fact(NB)/(fact(itest)*fact(NB-itest))))\n\n#sigma(1)\n#sigma(500)\n#sigma(500)\n#fact(500)\n#math.factorial(500)\n#print(sigma(600))\n#print(square(ntest))\n#print(ntest)\n#print(sigma(ntest))\n                                                       ",
    "id": "d932be83395c4d95aa21942186351cb8",
    "idx": 6,
    "time": "2021-02-16T06:26:47.024Z",
    "type": "execution"
   },
   {
    "id": "d932be83395c4d95aa21942186351cb8",
    "time": "2021-02-16T06:26:47.096Z",
    "type": "completion"
   },
   {
    "code": "def F(tautest,ntest):\n    return 2*ntest - tautest*sigma(ntest)",
    "id": "42da82d19b624f108c8925748ba855df",
    "idx": 7,
    "time": "2021-02-16T06:26:50.701Z",
    "type": "execution"
   },
   {
    "id": "42da82d19b624f108c8925748ba855df",
    "time": "2021-02-16T06:26:50.759Z",
    "type": "completion"
   },
   {
    "code": "def square(x,y):\n    return np.log(fact(x**2)+y**2)",
    "id": "a0275565515c41ca800c9243e5fcdc19",
    "idx": 8,
    "time": "2021-02-16T06:26:51.238Z",
    "type": "execution"
   },
   {
    "id": "a0275565515c41ca800c9243e5fcdc19",
    "time": "2021-02-16T06:26:51.298Z",
    "type": "completion"
   },
   {
    "code": "y = np.linspace(500, 510, 11)\nx = np.linspace(1, 10, 11)\nprint(x)\nx = x.astype(int)\nprint(x)\nz=np.log(fact(x))\nprint(z)\n#x_2d, y_2d = np.meshgrid(x,y)\n#print(x_2d)\n#print(z_2d)\n#x_2d = x_2d.astype(int)\n#z_2d=square(x_2d,10)\n#z_2d=sigma(x_2d)\n#z_2d = F(x_2d, y_2d, NA, NB)\n#z_2d.shape\n#z_2d",
    "id": "9cdd8b47c0424735be15ebdf7177ecdb",
    "idx": 9,
    "time": "2021-02-16T06:26:52.106Z",
    "type": "execution"
   },
   {
    "id": "9cdd8b47c0424735be15ebdf7177ecdb",
    "time": "2021-02-16T06:26:52.186Z",
    "type": "completion"
   },
   {
    "code": "y = np.linspace(500, 510, 11)\nx = np.linspace(1, 10, 11)\nprint(x)\nx = x.astype(int)\nprint(x)\nz=np.log(fact(x))\nprint(z)\nz1=sigma(x)\nprint(z1)\n#x_2d, y_2d = np.meshgrid(x,y)\n#print(x_2d)\n#print(z_2d)\n#x_2d = x_2d.astype(int)\n#z_2d=square(x_2d,10)\n#z_2d=sigma(x_2d)\n#z_2d = F(x_2d, y_2d, NA, NB)\n#z_2d.shape\n#z_2d",
    "id": "9cdd8b47c0424735be15ebdf7177ecdb",
    "idx": 9,
    "time": "2021-02-16T06:28:04.308Z",
    "type": "execution"
   },
   {
    "id": "9cdd8b47c0424735be15ebdf7177ecdb",
    "time": "2021-02-16T06:28:04.387Z",
    "type": "completion"
   },
   {
    "code": "# import numpy as np\nimport math as math\nimport scipy.stats as st\nimport scipy.special  \nimport matplotlib.pyplot as plt\n\nN = 1000\nn = []\nfor i in range((N//3)):\n    n.append(i/1.0)\n\ntau = []\nfor i in range((1000)):\n    tau.append(i/1000)\n\ndef fact(x):\n    return scipy.special.factorial(x, exact=True)\n\ndef sigma(ntest): \n    NA=1000\n    NB=1000\n    return np.log(fact(ntest))\n    #return (np.log(fact(NA)/(fact(itest)*fact(NA-itest))) + np.log(fact(NB)/(fact(itest)*fact(NB-itest))))\n\n#sigma(1)\n#sigma(500)\n#sigma(500)\n#fact(500)\n#math.factorial(500)\n#print(sigma(600))\n#print(square(ntest))\n#print(ntest)\n#print(sigma(ntest))\n                                                       ",
    "id": "d932be83395c4d95aa21942186351cb8",
    "idx": 6,
    "time": "2021-02-16T06:28:25.979Z",
    "type": "execution"
   },
   {
    "id": "d932be83395c4d95aa21942186351cb8",
    "time": "2021-02-16T06:28:26.044Z",
    "type": "completion"
   },
   {
    "code": "def F(tautest,ntest):\n    return 2*ntest - tautest*sigma(ntest)",
    "id": "42da82d19b624f108c8925748ba855df",
    "idx": 7,
    "time": "2021-02-16T06:28:27.146Z",
    "type": "execution"
   },
   {
    "id": "42da82d19b624f108c8925748ba855df",
    "time": "2021-02-16T06:28:27.211Z",
    "type": "completion"
   },
   {
    "code": "def square(x,y):\n    return np.log(fact(x**2)+y**2)",
    "id": "a0275565515c41ca800c9243e5fcdc19",
    "idx": 8,
    "time": "2021-02-16T06:28:27.866Z",
    "type": "execution"
   },
   {
    "id": "a0275565515c41ca800c9243e5fcdc19",
    "time": "2021-02-16T06:28:27.924Z",
    "type": "completion"
   },
   {
    "code": "y = np.linspace(500, 510, 11)\nx = np.linspace(1, 10, 11)\nprint(x)\nx = x.astype(int)\nprint(x)\nz=np.log(fact(x))\nprint(z)\nz1=sigma(x)\nprint(z1)\n#x_2d, y_2d = np.meshgrid(x,y)\n#print(x_2d)\n#print(z_2d)\n#x_2d = x_2d.astype(int)\n#z_2d=square(x_2d,10)\n#z_2d=sigma(x_2d)\n#z_2d = F(x_2d, y_2d, NA, NB)\n#z_2d.shape\n#z_2d",
    "id": "9cdd8b47c0424735be15ebdf7177ecdb",
    "idx": 9,
    "time": "2021-02-16T06:28:28.685Z",
    "type": "execution"
   },
   {
    "id": "9cdd8b47c0424735be15ebdf7177ecdb",
    "time": "2021-02-16T06:28:28.751Z",
    "type": "completion"
   },
   {
    "code": "# import numpy as np\nimport math as math\nimport scipy.stats as st\nimport scipy.special  \nimport matplotlib.pyplot as plt\n\nN = 1000\nn = []\nfor i in range((N//3)):\n    n.append(i/1.0)\n\ntau = []\nfor i in range((1000)):\n    tau.append(i/1000)\n\ndef fact(x):\n    return scipy.special.factorial(x, exact=True)\n\ndef sigma(ntest): \n    NA=1000\n    NB=1000\n    #return np.log(fact(ntest))\n    return (np.log(fact(NA)/(fact(ntest)*fact(NA-ntest))) + np.log(fact(NB)/(fact(ntest)*fact(NB-ntest))))\n\n#sigma(1)\n#sigma(500)\n#sigma(500)\n#fact(500)\n#math.factorial(500)\n#print(sigma(600))\n#print(square(ntest))\n#print(ntest)\n#print(sigma(ntest))\n                                                       ",
    "id": "d932be83395c4d95aa21942186351cb8",
    "idx": 6,
    "time": "2021-02-16T06:29:07.445Z",
    "type": "execution"
   },
   {
    "id": "d932be83395c4d95aa21942186351cb8",
    "time": "2021-02-16T06:29:07.514Z",
    "type": "completion"
   },
   {
    "code": "def F(tautest,ntest):\n    return 2*ntest - tautest*sigma(ntest)",
    "id": "42da82d19b624f108c8925748ba855df",
    "idx": 7,
    "time": "2021-02-16T06:29:08.042Z",
    "type": "execution"
   },
   {
    "id": "42da82d19b624f108c8925748ba855df",
    "time": "2021-02-16T06:29:08.112Z",
    "type": "completion"
   },
   {
    "code": "def square(x,y):\n    return np.log(fact(x**2)+y**2)",
    "id": "a0275565515c41ca800c9243e5fcdc19",
    "idx": 8,
    "time": "2021-02-16T06:29:08.492Z",
    "type": "execution"
   },
   {
    "id": "a0275565515c41ca800c9243e5fcdc19",
    "time": "2021-02-16T06:29:08.551Z",
    "type": "completion"
   },
   {
    "code": "y = np.linspace(500, 510, 11)\nx = np.linspace(1, 10, 11)\nprint(x)\nx = x.astype(int)\nprint(x)\nz=np.log(fact(x))\nprint(z)\nz1=sigma(x)\nprint(z1)\n#x_2d, y_2d = np.meshgrid(x,y)\n#print(x_2d)\n#print(z_2d)\n#x_2d = x_2d.astype(int)\n#z_2d=square(x_2d,10)\n#z_2d=sigma(x_2d)\n#z_2d = F(x_2d, y_2d, NA, NB)\n#z_2d.shape\n#z_2d",
    "id": "9cdd8b47c0424735be15ebdf7177ecdb",
    "idx": 9,
    "time": "2021-02-16T06:29:09.295Z",
    "type": "execution"
   },
   {
    "id": "9cdd8b47c0424735be15ebdf7177ecdb",
    "time": "2021-02-16T06:29:09.405Z",
    "type": "completion"
   },
   {
    "code": "y = np.linspace(500, 510, 11)\nx = np.linspace(500, 510, 11)\nprint(x)\nx = x.astype(int)\nprint(x)\nz=np.log(fact(x))\nprint(z)\nz1=sigma(x)\nprint(z1)\n#x_2d, y_2d = np.meshgrid(x,y)\n#print(x_2d)\n#print(z_2d)\n#x_2d = x_2d.astype(int)\n#z_2d=square(x_2d,10)\n#z_2d=sigma(x_2d)\n#z_2d = F(x_2d, y_2d, NA, NB)\n#z_2d.shape\n#z_2d",
    "id": "9cdd8b47c0424735be15ebdf7177ecdb",
    "idx": 9,
    "time": "2021-02-16T06:31:47.143Z",
    "type": "execution"
   },
   {
    "id": "9cdd8b47c0424735be15ebdf7177ecdb",
    "time": "2021-02-16T06:31:47.234Z",
    "type": "completion"
   },
   {
    "code": "# import numpy as np\nimport math as math\nimport scipy.stats as st\nimport scipy.special  \nimport matplotlib.pyplot as plt\n\nN = 1000\nn = []\nfor i in range((N//3)):\n    n.append(i/1.0)\n\ntau = []\nfor i in range((1000)):\n    tau.append(i/1000)\n\ndef fact(x):\n    return scipy.special.factorial(x, exact=True)\n\ndef sigma(ntest): \n    NA=1000\n    NB=1000\n    #return np.log(fact(ntest))\n    return (np.log(fact(NA)//(fact(ntest)*fact(NA-ntest))) + np.log(fact(NB)//(fact(ntest)*fact(NB-ntest))))\n\n#sigma(1)\n#sigma(500)\n#sigma(500)\n#fact(500)\n#math.factorial(500)\n#print(sigma(600))\n#print(square(ntest))\n#print(ntest)\n#print(sigma(ntest))\n                                                       ",
    "id": "d932be83395c4d95aa21942186351cb8",
    "idx": 6,
    "time": "2021-02-16T06:32:24.705Z",
    "type": "execution"
   },
   {
    "id": "d932be83395c4d95aa21942186351cb8",
    "time": "2021-02-16T06:32:24.771Z",
    "type": "completion"
   },
   {
    "code": "def F(tautest,ntest):\n    return 2*ntest - tautest*sigma(ntest)",
    "id": "42da82d19b624f108c8925748ba855df",
    "idx": 7,
    "time": "2021-02-16T06:32:25.241Z",
    "type": "execution"
   },
   {
    "id": "42da82d19b624f108c8925748ba855df",
    "time": "2021-02-16T06:32:25.306Z",
    "type": "completion"
   },
   {
    "code": "def square(x,y):\n    return np.log(fact(x**2)+y**2)",
    "id": "a0275565515c41ca800c9243e5fcdc19",
    "idx": 8,
    "time": "2021-02-16T06:32:25.751Z",
    "type": "execution"
   },
   {
    "id": "a0275565515c41ca800c9243e5fcdc19",
    "time": "2021-02-16T06:32:25.817Z",
    "type": "completion"
   },
   {
    "code": "y = np.linspace(500, 510, 11)\nx = np.linspace(500, 510, 11)\nprint(x)\nx = x.astype(int)\nprint(x)\nz=np.log(fact(x))\nprint(z)\nz1=sigma(x)\nprint(z1)\n#x_2d, y_2d = np.meshgrid(x,y)\n#print(x_2d)\n#print(z_2d)\n#x_2d = x_2d.astype(int)\n#z_2d=square(x_2d,10)\n#z_2d=sigma(x_2d)\n#z_2d = F(x_2d, y_2d, NA, NB)\n#z_2d.shape\n#z_2d",
    "id": "9cdd8b47c0424735be15ebdf7177ecdb",
    "idx": 9,
    "time": "2021-02-16T06:32:26.412Z",
    "type": "execution"
   },
   {
    "id": "9cdd8b47c0424735be15ebdf7177ecdb",
    "time": "2021-02-16T06:32:26.489Z",
    "type": "completion"
   },
   {
    "code": "# import numpy as np\nimport math as math\nimport scipy.stats as st\nimport scipy.special  \nimport matplotlib.pyplot as plt\n\nN = 1000\nn = []\nfor i in range((N//3)):\n    n.append(i/1.0)\n\ntau = []\nfor i in range((1000)):\n    tau.append(i/1000)\n\ndef fact(x):\n    return scipy.special.factorial(x, exact=True)\n\ndef sigma(ntest): \n    NA=1000\n    NB=1000\n    return np.log(fact(ntest))\n    #return (np.log(fact(NA)//(fact(ntest)*fact(NA-ntest))) + np.log(fact(NB)//(fact(ntest)*fact(NB-ntest))))\n\n#sigma(1)\n#sigma(500)\n#sigma(500)\n#fact(500)\n#math.factorial(500)\n#print(sigma(600))\n#print(square(ntest))\n#print(ntest)\n#print(sigma(ntest))\n                                                       ",
    "id": "d932be83395c4d95aa21942186351cb8",
    "idx": 6,
    "time": "2021-02-16T06:33:13.362Z",
    "type": "execution"
   },
   {
    "id": "d932be83395c4d95aa21942186351cb8",
    "time": "2021-02-16T06:33:13.434Z",
    "type": "completion"
   },
   {
    "code": "def F(tautest,ntest):\n    return 2*ntest - tautest*sigma(ntest)",
    "id": "42da82d19b624f108c8925748ba855df",
    "idx": 7,
    "time": "2021-02-16T06:33:13.816Z",
    "type": "execution"
   },
   {
    "id": "42da82d19b624f108c8925748ba855df",
    "time": "2021-02-16T06:33:13.877Z",
    "type": "completion"
   },
   {
    "code": "def square(x,y):\n    return np.log(fact(x**2)+y**2)",
    "id": "a0275565515c41ca800c9243e5fcdc19",
    "idx": 8,
    "time": "2021-02-16T06:33:14.304Z",
    "type": "execution"
   },
   {
    "id": "a0275565515c41ca800c9243e5fcdc19",
    "time": "2021-02-16T06:33:14.363Z",
    "type": "completion"
   },
   {
    "code": "y = np.linspace(500, 510, 11)\nx = np.linspace(500, 510, 11)\nprint(x)\nx = x.astype(int)\nprint(x)\nz=np.log(fact(x))\nprint(z)\nz1=sigma(x)\nprint(z1)\n#x_2d, y_2d = np.meshgrid(x,y)\n#print(x_2d)\n#print(z_2d)\n#x_2d = x_2d.astype(int)\n#z_2d=square(x_2d,10)\n#z_2d=sigma(x_2d)\n#z_2d = F(x_2d, y_2d, NA, NB)\n#z_2d.shape\n#z_2d",
    "id": "9cdd8b47c0424735be15ebdf7177ecdb",
    "idx": 9,
    "time": "2021-02-16T06:33:15.876Z",
    "type": "execution"
   },
   {
    "id": "9cdd8b47c0424735be15ebdf7177ecdb",
    "time": "2021-02-16T06:33:15.957Z",
    "type": "completion"
   },
   {
    "code": "y = np.linspace(500, 510, 11)\nx = np.linspace(500, 510, 11)\nprint(x)\n#x = x.astype(int)\nprint(x)\nz=np.log(fact(x))\nprint(z)\nz1=sigma(x)\nprint(z1)\n#x_2d, y_2d = np.meshgrid(x,y)\n#print(x_2d)\n#print(z_2d)\n#x_2d = x_2d.astype(int)\n#z_2d=square(x_2d,10)\n#z_2d=sigma(x_2d)\n#z_2d = F(x_2d, y_2d, NA, NB)\n#z_2d.shape\n#z_2d",
    "id": "9cdd8b47c0424735be15ebdf7177ecdb",
    "idx": 9,
    "time": "2021-02-16T06:34:04.221Z",
    "type": "execution"
   },
   {
    "id": "9cdd8b47c0424735be15ebdf7177ecdb",
    "time": "2021-02-16T06:34:04.330Z",
    "type": "completion"
   },
   {
    "code": "from mpl_toolkits.mplot3d import Axes3D\n\nfig = plt.figure(figsize=(8,8)) #create figure object to hold the plot\nax = Axes3D(fig) #create Axes3D object to display the plot\nax.plot_surface(x_2d, y_2d, z_2d)\nax.set_xlabel(\"$x$\")\nax.set_ylabel(\"$y$\")\nax.set_zlabel(\"$F(x,y)$\")",
    "id": "090aa9120e2d4cea89fa1f9ee3c39777",
    "idx": 10,
    "time": "2021-02-16T06:34:05.284Z",
    "type": "execution"
   },
   {
    "id": "090aa9120e2d4cea89fa1f9ee3c39777",
    "time": "2021-02-16T06:34:05.779Z",
    "type": "completion"
   },
   {
    "code": "y = np.linspace(500, 510, 11)\nx = np.linspace(500, 510, 11)\nprint(x)\n#x = x.astype(int)\nprint(x)\nz=np.log(fact(x))\nprint(z)\nz1=sigma(x)\nprint(z1)\n#x_2d, y_2d = np.meshgrid(x,y)\n#print(x_2d)\n#print(z_2d)\n#x_2d = x_2d.astype(int)\n#z_2d=square(x_2d,10)\n#z_2d=sigma(x_2d)\n#z_2d = F(x_2d, y_2d, NA, NB)\n#z_2d.shape\n#z_2d",
    "id": "9cdd8b47c0424735be15ebdf7177ecdb",
    "idx": 9,
    "time": "2021-02-16T06:34:14.394Z",
    "type": "execution"
   },
   {
    "id": "9cdd8b47c0424735be15ebdf7177ecdb",
    "time": "2021-02-16T06:34:14.493Z",
    "type": "completion"
   },
   {
    "code": "y = np.linspace(500, 510, 11)\nx = np.linspace(500, 510, 11)\nprint(x)\nx = x.astype(int)\nprint(x)\nz=np.log(fact(x))\nprint(z)\nz1=sigma(x)\nprint(z1)\n#x_2d, y_2d = np.meshgrid(x,y)\n#print(x_2d)\n#print(z_2d)\n#x_2d = x_2d.astype(int)\n#z_2d=square(x_2d,10)\n#z_2d=sigma(x_2d)\n#z_2d = F(x_2d, y_2d, NA, NB)\n#z_2d.shape\n#z_2d",
    "id": "9cdd8b47c0424735be15ebdf7177ecdb",
    "idx": 9,
    "time": "2021-02-16T06:34:34.155Z",
    "type": "execution"
   },
   {
    "id": "9cdd8b47c0424735be15ebdf7177ecdb",
    "time": "2021-02-16T06:34:34.232Z",
    "type": "completion"
   },
   {
    "code": "from mpl_toolkits.mplot3d import Axes3D\n\nfig = plt.figure(figsize=(8,8)) #create figure object to hold the plot\nax = Axes3D(fig) #create Axes3D object to display the plot\nax.plot_surface(x_2d, y_2d, z_2d)\nax.set_xlabel(\"$x$\")\nax.set_ylabel(\"$y$\")\nax.set_zlabel(\"$F(x,y)$\")",
    "id": "090aa9120e2d4cea89fa1f9ee3c39777",
    "idx": 10,
    "time": "2021-02-16T06:34:35.440Z",
    "type": "execution"
   },
   {
    "id": "090aa9120e2d4cea89fa1f9ee3c39777",
    "time": "2021-02-16T06:34:35.923Z",
    "type": "completion"
   },
   {
    "code": "y = np.linspace(500, 510, 11)\nx = np.linspace(500, 510, 11)\nprint(x)\nx = x.astype(int)\nprint(x)\nz=np.log(fact(x))\nprint(z)\n#z1=sigma(x)\nprint(z1)\n#x_2d, y_2d = np.meshgrid(x,y)\n#print(x_2d)\n#print(z_2d)\n#x_2d = x_2d.astype(int)\n#z_2d=square(x_2d,10)\n#z_2d=sigma(x_2d)\n#z_2d = F(x_2d, y_2d, NA, NB)\n#z_2d.shape\n#z_2d",
    "id": "9cdd8b47c0424735be15ebdf7177ecdb",
    "idx": 9,
    "time": "2021-02-16T06:35:00.747Z",
    "type": "execution"
   },
   {
    "id": "9cdd8b47c0424735be15ebdf7177ecdb",
    "time": "2021-02-16T06:35:01.098Z",
    "type": "completion"
   },
   {
    "code": "from mpl_toolkits.mplot3d import Axes3D\n\nfig = plt.figure(figsize=(8,8)) #create figure object to hold the plot\nax = Axes3D(fig) #create Axes3D object to display the plot\nax.plot_surface(x_2d, y_2d, z_2d)\nax.set_xlabel(\"$x$\")\nax.set_ylabel(\"$y$\")\nax.set_zlabel(\"$F(x,y)$\")",
    "id": "090aa9120e2d4cea89fa1f9ee3c39777",
    "idx": 10,
    "time": "2021-02-16T06:35:01.556Z",
    "type": "execution"
   },
   {
    "id": "090aa9120e2d4cea89fa1f9ee3c39777",
    "time": "2021-02-16T06:35:02.067Z",
    "type": "completion"
   },
   {
    "code": "y = np.linspace(500, 510, 11)\nx = np.linspace(500, 510, 11)\nprint(x)\nx = x.astype(int)\nprint(x)\nz=fact(x)\nprint(z)\n#z1=sigma(x)\nprint(z1)\n#x_2d, y_2d = np.meshgrid(x,y)\n#print(x_2d)\n#print(z_2d)\n#x_2d = x_2d.astype(int)\n#z_2d=square(x_2d,10)\n#z_2d=sigma(x_2d)\n#z_2d = F(x_2d, y_2d, NA, NB)\n#z_2d.shape\n#z_2d",
    "id": "9cdd8b47c0424735be15ebdf7177ecdb",
    "idx": 9,
    "time": "2021-02-16T06:35:14.950Z",
    "type": "execution"
   },
   {
    "id": "9cdd8b47c0424735be15ebdf7177ecdb",
    "time": "2021-02-16T06:35:15.073Z",
    "type": "completion"
   },
   {
    "code": "y = np.linspace(500, 510, 11)\nx = np.linspace(500, 510, 11)\nprint(x)\nx = x.astype(int)\nprint(x)\nz=math.log(fact(x))\nprint(z)\n#z1=sigma(x)\nprint(z1)\n#x_2d, y_2d = np.meshgrid(x,y)\n#print(x_2d)\n#print(z_2d)\n#x_2d = x_2d.astype(int)\n#z_2d=square(x_2d,10)\n#z_2d=sigma(x_2d)\n#z_2d = F(x_2d, y_2d, NA, NB)\n#z_2d.shape\n#z_2d",
    "id": "9cdd8b47c0424735be15ebdf7177ecdb",
    "idx": 9,
    "time": "2021-02-16T06:35:42.301Z",
    "type": "execution"
   },
   {
    "id": "9cdd8b47c0424735be15ebdf7177ecdb",
    "time": "2021-02-16T06:35:42.375Z",
    "type": "completion"
   },
   {
    "code": "from mpl_toolkits.mplot3d import Axes3D\n\nfig = plt.figure(figsize=(8,8)) #create figure object to hold the plot\nax = Axes3D(fig) #create Axes3D object to display the plot\nax.plot_surface(x_2d, y_2d, z_2d)\nax.set_xlabel(\"$x$\")\nax.set_ylabel(\"$y$\")\nax.set_zlabel(\"$F(x,y)$\")",
    "id": "090aa9120e2d4cea89fa1f9ee3c39777",
    "idx": 10,
    "time": "2021-02-16T06:35:43.034Z",
    "type": "execution"
   },
   {
    "id": "090aa9120e2d4cea89fa1f9ee3c39777",
    "time": "2021-02-16T06:35:43.518Z",
    "type": "completion"
   },
   {
    "code": "y = np.linspace(500, 510, 11)\nx = np.linspace(500, 510, 11)\nprint(x)\nx = x.astype(int)\nprint(x)\nz=np.log(x)\nprint(z)\n#z1=sigma(x)\nprint(z1)\n#x_2d, y_2d = np.meshgrid(x,y)\n#print(x_2d)\n#print(z_2d)\n#x_2d = x_2d.astype(int)\n#z_2d=square(x_2d,10)\n#z_2d=sigma(x_2d)\n#z_2d = F(x_2d, y_2d, NA, NB)\n#z_2d.shape\n#z_2d",
    "id": "9cdd8b47c0424735be15ebdf7177ecdb",
    "idx": 9,
    "time": "2021-02-16T06:37:04.573Z",
    "type": "execution"
   },
   {
    "id": "9cdd8b47c0424735be15ebdf7177ecdb",
    "time": "2021-02-16T06:37:04.659Z",
    "type": "completion"
   },
   {
    "code": "y = np.linspace(500, 510, 11)\nx = np.linspace(500, 510, 11)\nprint(x)\nx = x.astype(int)\nprint(x)\nz = np.log(fact(x))\nprint(z)\n#z1=sigma(x)\nprint(z1)\n#x_2d, y_2d = np.meshgrid(x,y)\n#print(x_2d)\n#print(z_2d)\n#x_2d = x_2d.astype(int)\n#z_2d=square(x_2d,10)\n#z_2d=sigma(x_2d)\n#z_2d = F(x_2d, y_2d, NA, NB)\n#z_2d.shape\n#z_2d",
    "id": "9cdd8b47c0424735be15ebdf7177ecdb",
    "idx": 9,
    "time": "2021-02-16T06:37:36.328Z",
    "type": "execution"
   },
   {
    "id": "9cdd8b47c0424735be15ebdf7177ecdb",
    "time": "2021-02-16T06:37:36.648Z",
    "type": "completion"
   },
   {
    "code": "y = np.linspace(500, 510, 11)\nx = np.linspace(500, 510, 11)\nprint(x)\nx = x.astype(int)\nprint(x)\nz = fact(x)\nz1=np.log(z)\nprint(z)\n#z1=sigma(x)\nprint(z1)\n#x_2d, y_2d = np.meshgrid(x,y)\n#print(x_2d)\n#print(z_2d)\n#x_2d = x_2d.astype(int)\n#z_2d=square(x_2d,10)\n#z_2d=sigma(x_2d)\n#z_2d = F(x_2d, y_2d, NA, NB)\n#z_2d.shape\n#z_2d",
    "id": "9cdd8b47c0424735be15ebdf7177ecdb",
    "idx": 9,
    "time": "2021-02-16T06:38:25.233Z",
    "type": "execution"
   },
   {
    "id": "9cdd8b47c0424735be15ebdf7177ecdb",
    "time": "2021-02-16T06:38:25.313Z",
    "type": "completion"
   },
   {
    "code": "y = np.linspace(500, 510, 11)\nx = np.linspace(500, 510, 11)\nprint(x)\nx = x.astype(int)\nprint(x)\nz = fact(x)\nprint(z)\nz1=np.log(z)\n\n#z1=sigma(x)\nprint(z1)\n#x_2d, y_2d = np.meshgrid(x,y)\n#print(x_2d)\n#print(z_2d)\n#x_2d = x_2d.astype(int)\n#z_2d=square(x_2d,10)\n#z_2d=sigma(x_2d)\n#z_2d = F(x_2d, y_2d, NA, NB)\n#z_2d.shape\n#z_2d",
    "id": "9cdd8b47c0424735be15ebdf7177ecdb",
    "idx": 9,
    "time": "2021-02-16T06:38:55.955Z",
    "type": "execution"
   },
   {
    "id": "9cdd8b47c0424735be15ebdf7177ecdb",
    "time": "2021-02-16T06:38:56.091Z",
    "type": "completion"
   },
   {
    "code": "y = np.linspace(500, 510, 11)\nx = np.linspace(500, 510, 11)\nprint(x)\nx = x.astype(int)\nprint(x)\nz = fact(x)\nprint(z)\nz1 = np.log(z)\n\n#z1=sigma(x)\nprint(z1)\n#x_2d, y_2d = np.meshgrid(x,y)\n#print(x_2d)\n#print(z_2d)\n#x_2d = x_2d.astype(int)\n#z_2d=square(x_2d,10)\n#z_2d=sigma(x_2d)\n#z_2d = F(x_2d, y_2d, NA, NB)\n#z_2d.shape\n#z_2d",
    "id": "9cdd8b47c0424735be15ebdf7177ecdb",
    "idx": 9,
    "time": "2021-02-16T06:39:36.959Z",
    "type": "execution"
   },
   {
    "id": "9cdd8b47c0424735be15ebdf7177ecdb",
    "time": "2021-02-16T06:39:37.091Z",
    "type": "completion"
   },
   {
    "code": "y = np.linspace(500, 510, 11)\nx = np.linspace(1, 10, 11)\nprint(x)\nx = x.astype(int)\nprint(x)\nz = fact(x)\nprint(z)\nz1 = np.log(z)\n\n#z1=sigma(x)\nprint(z1)\n#x_2d, y_2d = np.meshgrid(x,y)\n#print(x_2d)\n#print(z_2d)\n#x_2d = x_2d.astype(int)\n#z_2d=square(x_2d,10)\n#z_2d=sigma(x_2d)\n#z_2d = F(x_2d, y_2d, NA, NB)\n#z_2d.shape\n#z_2d",
    "id": "9cdd8b47c0424735be15ebdf7177ecdb",
    "idx": 9,
    "time": "2021-02-16T06:40:02.033Z",
    "type": "execution"
   },
   {
    "id": "9cdd8b47c0424735be15ebdf7177ecdb",
    "time": "2021-02-16T06:40:02.108Z",
    "type": "completion"
   },
   {
    "code": "y = np.linspace(500, 510, 11)\nx = np.linspace(10, 20, 11)\nprint(x)\nx = x.astype(int)\nprint(x)\nz = fact(x)\nprint(z)\nz1 = np.log(z)\n\n#z1=sigma(x)\nprint(z1)\n#x_2d, y_2d = np.meshgrid(x,y)\n#print(x_2d)\n#print(z_2d)\n#x_2d = x_2d.astype(int)\n#z_2d=square(x_2d,10)\n#z_2d=sigma(x_2d)\n#z_2d = F(x_2d, y_2d, NA, NB)\n#z_2d.shape\n#z_2d",
    "id": "9cdd8b47c0424735be15ebdf7177ecdb",
    "idx": 9,
    "time": "2021-02-16T06:40:37.006Z",
    "type": "execution"
   },
   {
    "id": "9cdd8b47c0424735be15ebdf7177ecdb",
    "time": "2021-02-16T06:40:37.086Z",
    "type": "completion"
   },
   {
    "code": "y = np.linspace(500, 510, 11)\nx = np.linspace(100, 120, 11)\nprint(x)\nx = x.astype(int)\nprint(x)\n#z = fact(x)\nprint(z)\nz1 = np.log(z)\n\n#z1=sigma(x)\nprint(z1)\n#x_2d, y_2d = np.meshgrid(x,y)\n#print(x_2d)\n#print(z_2d)\n#x_2d = x_2d.astype(int)\n#z_2d=square(x_2d,10)\n#z_2d=sigma(x_2d)\n#z_2d = F(x_2d, y_2d, NA, NB)\n#z_2d.shape\n#z_2d",
    "id": "9cdd8b47c0424735be15ebdf7177ecdb",
    "idx": 9,
    "time": "2021-02-16T06:41:14.961Z",
    "type": "execution"
   },
   {
    "id": "9cdd8b47c0424735be15ebdf7177ecdb",
    "time": "2021-02-16T06:41:15.026Z",
    "type": "completion"
   },
   {
    "code": "y = np.linspace(500, 510, 11)\nx = np.linspace(100, 120, 11)\nprint(x)\nx = x.astype(int)\nprint(x)\nz = fact(x)\n#print(z)\nz1 = np.log(z)\n\n#z1=sigma(x)\nprint(z1)\n#x_2d, y_2d = np.meshgrid(x,y)\n#print(x_2d)\n#print(z_2d)\n#x_2d = x_2d.astype(int)\n#z_2d=square(x_2d,10)\n#z_2d=sigma(x_2d)\n#z_2d = F(x_2d, y_2d, NA, NB)\n#z_2d.shape\n#z_2d",
    "id": "9cdd8b47c0424735be15ebdf7177ecdb",
    "idx": 9,
    "time": "2021-02-16T06:41:39.491Z",
    "type": "execution"
   },
   {
    "id": "9cdd8b47c0424735be15ebdf7177ecdb",
    "time": "2021-02-16T06:41:39.576Z",
    "type": "completion"
   },
   {
    "code": "y = np.linspace(500, 510, 11)\nx = np.linspace(10, 20, 11)\nprint(x)\nx = x.astype(int)\nprint(x)\nz = fact(x)\n#print(z)\nz1 = np.log(z)\n\n#z1=sigma(x)\nprint(z1)\n#x_2d, y_2d = np.meshgrid(x,y)\n#print(x_2d)\n#print(z_2d)\n#x_2d = x_2d.astype(int)\n#z_2d=square(x_2d,10)\n#z_2d=sigma(x_2d)\n#z_2d = F(x_2d, y_2d, NA, NB)\n#z_2d.shape\n#z_2d",
    "id": "9cdd8b47c0424735be15ebdf7177ecdb",
    "idx": 9,
    "time": "2021-02-16T06:42:17.347Z",
    "type": "execution"
   },
   {
    "id": "9cdd8b47c0424735be15ebdf7177ecdb",
    "time": "2021-02-16T06:42:17.409Z",
    "type": "completion"
   },
   {
    "code": "y = np.linspace(500, 510, 11)\nx = np.linspace(10, 20, 11)\nprint(x)\nx = x.astype(int)\nprint(x)\nz = fact(x)\n#print(z)\nz = z.astype(np.float128)\nz1 = np.log(z)\n\n#z1=sigma(x)\nprint(z1)\n#x_2d, y_2d = np.meshgrid(x,y)\n#print(x_2d)\n#print(z_2d)\n#x_2d = x_2d.astype(int)\n#z_2d=square(x_2d,10)\n#z_2d=sigma(x_2d)\n#z_2d = F(x_2d, y_2d, NA, NB)\n#z_2d.shape\n#z_2d",
    "id": "9cdd8b47c0424735be15ebdf7177ecdb",
    "idx": 9,
    "time": "2021-02-16T06:45:02.769Z",
    "type": "execution"
   },
   {
    "id": "9cdd8b47c0424735be15ebdf7177ecdb",
    "time": "2021-02-16T06:45:02.843Z",
    "type": "completion"
   },
   {
    "code": "y = np.linspace(500, 510, 11)\nx = np.linspace(100, 200, 11)\nprint(x)\nx = x.astype(int)\nprint(x)\nz = fact(x)\n#print(z)\nz = z.astype(np.float128)\nz1 = np.log(z)\n\n#z1=sigma(x)\nprint(z1)\n#x_2d, y_2d = np.meshgrid(x,y)\n#print(x_2d)\n#print(z_2d)\n#x_2d = x_2d.astype(int)\n#z_2d=square(x_2d,10)\n#z_2d=sigma(x_2d)\n#z_2d = F(x_2d, y_2d, NA, NB)\n#z_2d.shape\n#z_2d",
    "id": "9cdd8b47c0424735be15ebdf7177ecdb",
    "idx": 9,
    "time": "2021-02-16T06:45:23.023Z",
    "type": "execution"
   },
   {
    "id": "9cdd8b47c0424735be15ebdf7177ecdb",
    "time": "2021-02-16T06:45:23.090Z",
    "type": "completion"
   },
   {
    "code": "y = np.linspace(500, 510, 11)\nx = np.linspace(500, 510, 11)\nprint(x)\nx = x.astype(int)\nprint(x)\nz = fact(x)\n#print(z)\nz = z.astype(np.float128)\nz1 = np.log(z)\n\n#z1=sigma(x)\nprint(z1)\n#x_2d, y_2d = np.meshgrid(x,y)\n#print(x_2d)\n#print(z_2d)\n#x_2d = x_2d.astype(int)\n#z_2d=square(x_2d,10)\n#z_2d=sigma(x_2d)\n#z_2d = F(x_2d, y_2d, NA, NB)\n#z_2d.shape\n#z_2d",
    "id": "9cdd8b47c0424735be15ebdf7177ecdb",
    "idx": 9,
    "time": "2021-02-16T06:46:07.828Z",
    "type": "execution"
   },
   {
    "id": "9cdd8b47c0424735be15ebdf7177ecdb",
    "time": "2021-02-16T06:46:07.920Z",
    "type": "completion"
   },
   {
    "code": "y = np.linspace(500, 510, 11)\nx = np.linspace(500, 510, 11)\nprint(x)\nx = x.astype(int)\nprint(x)\nz = fact(x)\n#print(z)\nz = z.astype(np.float128)\nz1 = np.log(z)\nprint (sigma(x))\n\n#z1=sigma(x)\nprint(z1)\n#x_2d, y_2d = np.meshgrid(x,y)\n#print(x_2d)\n#print(z_2d)\n#x_2d = x_2d.astype(int)\n#z_2d=square(x_2d,10)\n#z_2d=sigma(x_2d)\n#z_2d = F(x_2d, y_2d, NA, NB)\n#z_2d.shape\n#z_2d",
    "id": "9cdd8b47c0424735be15ebdf7177ecdb",
    "idx": 9,
    "time": "2021-02-16T06:48:14.470Z",
    "type": "execution"
   },
   {
    "id": "9cdd8b47c0424735be15ebdf7177ecdb",
    "time": "2021-02-16T06:48:14.563Z",
    "type": "completion"
   },
   {
    "code": "from mpl_toolkits.mplot3d import Axes3D\n\nfig = plt.figure(figsize=(8,8)) #create figure object to hold the plot\nax = Axes3D(fig) #create Axes3D object to display the plot\nax.plot_surface(x_2d, y_2d, z_2d)\nax.set_xlabel(\"$x$\")\nax.set_ylabel(\"$y$\")\nax.set_zlabel(\"$F(x,y)$\")",
    "id": "090aa9120e2d4cea89fa1f9ee3c39777",
    "idx": 10,
    "time": "2021-02-16T06:48:15.206Z",
    "type": "execution"
   },
   {
    "id": "090aa9120e2d4cea89fa1f9ee3c39777",
    "time": "2021-02-16T06:48:15.794Z",
    "type": "completion"
   },
   {
    "code": "y = np.linspace(500, 510, 11)\nx = np.linspace(500, 510, 11)\nprint(x)\nx = x.astype(int)\nprint(x)\nz = fact(x)\n#print(z)\nz = z.astype(np.float128)\nz1 = np.log(z)\n#print (sigma(x))\n\n#z1=sigma(x)\nprint(z1)\n#x_2d, y_2d = np.meshgrid(x,y)\n#print(x_2d)\n#print(z_2d)\n#x_2d = x_2d.astype(int)\n#z_2d=square(x_2d,10)\n#z_2d=sigma(x_2d)\n#z_2d = F(x_2d, y_2d, NA, NB)\n#z_2d.shape\n#z_2d",
    "id": "9cdd8b47c0424735be15ebdf7177ecdb",
    "idx": 9,
    "time": "2021-02-16T06:48:27.524Z",
    "type": "execution"
   },
   {
    "id": "9cdd8b47c0424735be15ebdf7177ecdb",
    "time": "2021-02-16T06:48:27.593Z",
    "type": "completion"
   },
   {
    "code": "from mpl_toolkits.mplot3d import Axes3D\n\nfig = plt.figure(figsize=(8,8)) #create figure object to hold the plot\nax = Axes3D(fig) #create Axes3D object to display the plot\nax.plot_surface(x_2d, y_2d, z_2d)\nax.set_xlabel(\"$x$\")\nax.set_ylabel(\"$y$\")\nax.set_zlabel(\"$F(x,y)$\")",
    "id": "090aa9120e2d4cea89fa1f9ee3c39777",
    "idx": 10,
    "time": "2021-02-16T06:48:28.286Z",
    "type": "execution"
   },
   {
    "id": "090aa9120e2d4cea89fa1f9ee3c39777",
    "time": "2021-02-16T06:48:28.703Z",
    "type": "completion"
   },
   {
    "code": "# import numpy as np\nimport math as math\nimport scipy.stats as st\nimport scipy.special  \nimport matplotlib.pyplot as plt\n\nN = 1000\nn = []\nfor i in range((N//3)):\n    n.append(i/1.0)\n\ntau = []\nfor i in range((1000)):\n    tau.append(i/1000)\n\ndef fact(x):\n    return scipy.special.factorial(x, exact=True)\n\ndef sigma(ntest): \n    NA=1000\n    NB=1000\n    f= fact(ntest)\n    f=f.astype(np.float128)\n    return np.log(f))\n    #return (np.log(fact(NA)//(fact(ntest)*fact(NA-ntest))) + np.log(fact(NB)//(fact(ntest)*fact(NB-ntest))))\n\n#sigma(1)\n#sigma(500)\n#sigma(500)\n#fact(500)\n#math.factorial(500)\n#print(sigma(600))\n#print(square(ntest))\n#print(ntest)\n#print(sigma(ntest))\n                                                       ",
    "id": "d932be83395c4d95aa21942186351cb8",
    "idx": 6,
    "time": "2021-02-16T06:49:53.169Z",
    "type": "execution"
   },
   {
    "id": "d932be83395c4d95aa21942186351cb8",
    "time": "2021-02-16T06:49:54.322Z",
    "type": "completion"
   },
   {
    "code": "def F(tautest,ntest):\n    return 2*ntest - tautest*sigma(ntest)",
    "id": "42da82d19b624f108c8925748ba855df",
    "idx": 7,
    "time": "2021-02-16T06:49:54.420Z",
    "type": "execution"
   },
   {
    "id": "42da82d19b624f108c8925748ba855df",
    "time": "2021-02-16T06:49:54.558Z",
    "type": "completion"
   },
   {
    "code": "def square(x,y):\n    return np.log(fact(x**2)+y**2)",
    "id": "a0275565515c41ca800c9243e5fcdc19",
    "idx": 8,
    "time": "2021-02-16T06:49:55.346Z",
    "type": "execution"
   },
   {
    "id": "a0275565515c41ca800c9243e5fcdc19",
    "time": "2021-02-16T06:49:55.402Z",
    "type": "completion"
   },
   {
    "code": "y = np.linspace(500, 510, 11)\nx = np.linspace(500, 510, 11)\nprint(x)\nx = x.astype(int)\nprint(x)\nz = fact(x)\n#print(z)\nz = z.astype(np.float128)\nz1 = np.log(z)\n#print (sigma(x))\n\n#z1=sigma(x)\nprint(z1)\n#x_2d, y_2d = np.meshgrid(x,y)\n#print(x_2d)\n#print(z_2d)\n#x_2d = x_2d.astype(int)\n#z_2d=square(x_2d,10)\n#z_2d=sigma(x_2d)\n#z_2d = F(x_2d, y_2d, NA, NB)\n#z_2d.shape\n#z_2d",
    "id": "9cdd8b47c0424735be15ebdf7177ecdb",
    "idx": 9,
    "time": "2021-02-16T06:49:56.101Z",
    "type": "execution"
   },
   {
    "id": "9cdd8b47c0424735be15ebdf7177ecdb",
    "time": "2021-02-16T06:49:56.165Z",
    "type": "completion"
   },
   {
    "code": "y = np.linspace(500, 510, 11)\nx = np.linspace(500, 510, 11)\nprint(x)\nx = x.astype(int)\nprint(x)\nz = fact(x)\n#print(z)\nz = z.astype(np.float128)\nz1 = np.log(z)\nprint (sigma(x))\n\n#z1=sigma(x)\nprint(z1)\n#x_2d, y_2d = np.meshgrid(x,y)\n#print(x_2d)\n#print(z_2d)\n#x_2d = x_2d.astype(int)\n#z_2d=square(x_2d,10)\n#z_2d=sigma(x_2d)\n#z_2d = F(x_2d, y_2d, NA, NB)\n#z_2d.shape\n#z_2d",
    "id": "9cdd8b47c0424735be15ebdf7177ecdb",
    "idx": 9,
    "time": "2021-02-16T06:50:06.650Z",
    "type": "execution"
   },
   {
    "id": "9cdd8b47c0424735be15ebdf7177ecdb",
    "time": "2021-02-16T06:50:06.737Z",
    "type": "completion"
   },
   {
    "code": "y = np.linspace(500, 510, 11)\nx = np.linspace(500, 510, 11)\nprint(x)\nx = x.astype(int)\nprint(x)\nz = fact(x)\n#print(z)\nz = z.astype(np.float128)\nz1 = np.log(z)\nprint(sigma(x))\n\n#z1=sigma(x)\nprint(z1)\n#x_2d, y_2d = np.meshgrid(x,y)\n#print(x_2d)\n#print(z_2d)\n#x_2d = x_2d.astype(int)\n#z_2d=square(x_2d,10)\n#z_2d=sigma(x_2d)\n#z_2d = F(x_2d, y_2d, NA, NB)\n#z_2d.shape\n#z_2d",
    "id": "9cdd8b47c0424735be15ebdf7177ecdb",
    "idx": 9,
    "time": "2021-02-16T06:50:23.397Z",
    "type": "execution"
   },
   {
    "id": "9cdd8b47c0424735be15ebdf7177ecdb",
    "time": "2021-02-16T06:50:23.489Z",
    "type": "completion"
   },
   {
    "code": "y = np.linspace(500, 510, 11)\nx = np.linspace(500, 510, 11)\nprint(x)\nx = x.astype(int)\nprint(x)\nz = fact(x)\nz = z.astype(np.float128)\nz1 = np.log(z\n            \nz2=sigma(x)\nprint(z2)\n\n#z1=sigma(x)\nprint(z1)\n#x_2d, y_2d = np.meshgrid(x,y)\n#print(x_2d)\n#print(z_2d)\n#x_2d = x_2d.astype(int)\n#z_2d=square(x_2d,10)\n#z_2d=sigma(x_2d)\n#z_2d = F(x_2d, y_2d, NA, NB)\n#z_2d.shape\n#z_2d",
    "id": "9cdd8b47c0424735be15ebdf7177ecdb",
    "idx": 9,
    "time": "2021-02-16T06:51:29.680Z",
    "type": "execution"
   },
   {
    "id": "9cdd8b47c0424735be15ebdf7177ecdb",
    "time": "2021-02-16T06:51:29.745Z",
    "type": "completion"
   },
   {
    "code": "y = np.linspace(500, 510, 11)\nx = np.linspace(500, 510, 11)\nprint(x)\nx = x.astype(int)\nprint(x)\nz = fact(x)\nz = z.astype(np.float128)\nz1 = np.log(z\n            \nz2 = sigma(x)\nprint(z2)\n\n#z1=sigma(x)\nprint(z1)\n#x_2d, y_2d = np.meshgrid(x,y)\n#print(x_2d)\n#print(z_2d)\n#x_2d = x_2d.astype(int)\n#z_2d=square(x_2d,10)\n#z_2d=sigma(x_2d)\n#z_2d = F(x_2d, y_2d, NA, NB)\n#z_2d.shape\n#z_2d",
    "id": "9cdd8b47c0424735be15ebdf7177ecdb",
    "idx": 9,
    "time": "2021-02-16T06:51:59.403Z",
    "type": "execution"
   },
   {
    "id": "9cdd8b47c0424735be15ebdf7177ecdb",
    "time": "2021-02-16T06:51:59.466Z",
    "type": "completion"
   },
   {
    "code": "# import numpy as np\nimport math as math\nimport scipy.stats as st\nimport scipy.special  \nimport matplotlib.pyplot as plt\n\nN = 1000\nn = []\nfor i in range((N//3)):\n    n.append(i/1.0)\n\ntau = []\nfor i in range((1000)):\n    tau.append(i/1000)\n\ndef fact(x):\n    return scipy.special.factorial(x, exact=True)\n\ndef sigma(ntest): \n    NA=1000\n    NB=1000\n    f= fact(ntest)\n    f=f.astype(np.float128)\n    return np.log(f))\n    #return (np.log(fact(NA)//(fact(ntest)*fact(NA-ntest))) + np.log(fact(NB)//(fact(ntest)*fact(NB-ntest))))\n\n#sigma(1)\n#sigma(500)\n#sigma(500)\n#fact(500)\n#math.factorial(500)\n#print(sigma(600))\n#print(square(ntest))\n#print(ntest)\n#print(sigma(ntest))\n                                                       ",
    "id": "d932be83395c4d95aa21942186351cb8",
    "idx": 6,
    "time": "2021-02-16T06:52:11.922Z",
    "type": "execution"
   },
   {
    "id": "d932be83395c4d95aa21942186351cb8",
    "time": "2021-02-16T06:52:11.983Z",
    "type": "completion"
   },
   {
    "code": "def F(tautest,ntest):\n    return 2*ntest - tautest*sigma(ntest)",
    "id": "42da82d19b624f108c8925748ba855df",
    "idx": 7,
    "time": "2021-02-16T06:52:12.745Z",
    "type": "execution"
   },
   {
    "id": "42da82d19b624f108c8925748ba855df",
    "time": "2021-02-16T06:52:12.802Z",
    "type": "completion"
   },
   {
    "code": "def square(x,y):\n    return np.log(fact(x**2)+y**2)",
    "id": "a0275565515c41ca800c9243e5fcdc19",
    "idx": 8,
    "time": "2021-02-16T06:52:14.857Z",
    "type": "execution"
   },
   {
    "id": "a0275565515c41ca800c9243e5fcdc19",
    "time": "2021-02-16T06:52:14.918Z",
    "type": "completion"
   },
   {
    "code": "y = np.linspace(500, 510, 11)\nx = np.linspace(500, 510, 11)\nprint(x)\nx = x.astype(int)\nprint(x)\nz = fact(x)\nz = z.astype(np.float128)\nz1 = np.log(z\n            \nz2 = sigma(x)\nprint(z2)\n\n#z1=sigma(x)\nprint(z1)\n#x_2d, y_2d = np.meshgrid(x,y)\n#print(x_2d)\n#print(z_2d)\n#x_2d = x_2d.astype(int)\n#z_2d=square(x_2d,10)\n#z_2d=sigma(x_2d)\n#z_2d = F(x_2d, y_2d, NA, NB)\n#z_2d.shape\n#z_2d",
    "id": "9cdd8b47c0424735be15ebdf7177ecdb",
    "idx": 9,
    "time": "2021-02-16T06:52:16.447Z",
    "type": "execution"
   },
   {
    "id": "9cdd8b47c0424735be15ebdf7177ecdb",
    "time": "2021-02-16T06:52:16.515Z",
    "type": "completion"
   },
   {
    "code": "y = np.linspace(500, 510, 11)\nx = np.linspace(500, 510, 11)\nprint(x)\nx = x.astype(int)\nprint(x)\nz = fact(x)\nz = z.astype(np.float128)\nz_1 = np.log(z\n            \nz_2 = sigma(x)\nprint(z_2)\n\n#z1=sigma(x)\nprint(z1)\n#x_2d, y_2d = np.meshgrid(x,y)\n#print(x_2d)\n#print(z_2d)\n#x_2d = x_2d.astype(int)\n#z_2d=square(x_2d,10)\n#z_2d=sigma(x_2d)\n#z_2d = F(x_2d, y_2d, NA, NB)\n#z_2d.shape\n#z_2d",
    "id": "9cdd8b47c0424735be15ebdf7177ecdb",
    "idx": 9,
    "time": "2021-02-16T06:52:35.104Z",
    "type": "execution"
   },
   {
    "id": "9cdd8b47c0424735be15ebdf7177ecdb",
    "time": "2021-02-16T06:52:35.194Z",
    "type": "completion"
   },
   {
    "code": "y = np.linspace(500, 510, 11)\nx = np.linspace(500, 510, 11)\nprint(x)\nx = x.astype(int)\nprint(x)\nz = fact(x)\nz = z.astype(np.float128)\nprint(z)\nz_1 = np.log(z\n            \nz_2 = sigma(x)\nprint(z_2)\n\n#z1=sigma(x)\nprint(z1)\n#x_2d, y_2d = np.meshgrid(x,y)\n#print(x_2d)\n#print(z_2d)\n#x_2d = x_2d.astype(int)\n#z_2d=square(x_2d,10)\n#z_2d=sigma(x_2d)\n#z_2d = F(x_2d, y_2d, NA, NB)\n#z_2d.shape\n#z_2d",
    "id": "9cdd8b47c0424735be15ebdf7177ecdb",
    "idx": 9,
    "time": "2021-02-16T06:53:54.358Z",
    "type": "execution"
   },
   {
    "id": "9cdd8b47c0424735be15ebdf7177ecdb",
    "time": "2021-02-16T06:53:54.435Z",
    "type": "completion"
   },
   {
    "code": "y = np.linspace(500, 510, 11)\nx = np.linspace(500, 510, 11)\nprint(x)\nx = x.astype(int)\nprint(x)\nz = fact(x)\nz = z.astype(np.float128)\nprint(z)\nz_1 = np.log(z\n            \n#z_2 = sigma(x)\n#print(z_2)\n\n#z1=sigma(x)\nprint(z1)\n#x_2d, y_2d = np.meshgrid(x,y)\n#print(x_2d)\n#print(z_2d)\n#x_2d = x_2d.astype(int)\n#z_2d=square(x_2d,10)\n#z_2d=sigma(x_2d)\n#z_2d = F(x_2d, y_2d, NA, NB)\n#z_2d.shape\n#z_2d",
    "id": "9cdd8b47c0424735be15ebdf7177ecdb",
    "idx": 9,
    "time": "2021-02-16T06:54:09.197Z",
    "type": "execution"
   },
   {
    "id": "9cdd8b47c0424735be15ebdf7177ecdb",
    "time": "2021-02-16T06:54:09.264Z",
    "type": "completion"
   },
   {
    "code": "y = np.linspace(500, 510, 11)\nx = np.linspace(500, 510, 11)\nprint(x)\nx = x.astype(int)\nprint(x)\nz = fact(x)\nz = z.astype(np.float128)\nprint(z)\n#z_1 = np.log(z\n            \n#z_2 = sigma(x)\n#print(z_2)\n\n#z1=sigma(x)\nprint(z1)\n#x_2d, y_2d = np.meshgrid(x,y)\n#print(x_2d)\n#print(z_2d)\n#x_2d = x_2d.astype(int)\n#z_2d=square(x_2d,10)\n#z_2d=sigma(x_2d)\n#z_2d = F(x_2d, y_2d, NA, NB)\n#z_2d.shape\n#z_2d",
    "id": "9cdd8b47c0424735be15ebdf7177ecdb",
    "idx": 9,
    "time": "2021-02-16T06:54:25.643Z",
    "type": "execution"
   },
   {
    "id": "9cdd8b47c0424735be15ebdf7177ecdb",
    "time": "2021-02-16T06:54:25.708Z",
    "type": "completion"
   },
   {
    "code": "y = np.linspace(500, 510, 11)\nx = np.linspace(500, 510, 11)\nprint(x)\nx = x.astype(int)\nprint(x)\nz = fact(x)\nz = z.astype(np.float128)\nprint(z)\nza = np.log(z)\nprint(za)         \n#z_2 = sigma(x)\n#print(z_2)\n\n#z1=sigma(x)\n#print(z1)\n#x_2d, y_2d = np.meshgrid(x,y)\n#print(x_2d)\n#print(z_2d)\n#x_2d = x_2d.astype(int)\n#z_2d=square(x_2d,10)\n#z_2d=sigma(x_2d)\n#z_2d = F(x_2d, y_2d, NA, NB)\n#z_2d.shape\n#z_2d",
    "id": "9cdd8b47c0424735be15ebdf7177ecdb",
    "idx": 9,
    "time": "2021-02-16T06:55:37.853Z",
    "type": "execution"
   },
   {
    "id": "9cdd8b47c0424735be15ebdf7177ecdb",
    "time": "2021-02-16T06:55:37.926Z",
    "type": "completion"
   },
   {
    "code": "y = np.linspace(500, 510, 11)\nx = np.linspace(500, 510, 11)\nprint(x)\nx = x.astype(int)\nprint(x)\nz = fact(x)\nz = z.astype(np.float128)\nprint(z)\nz1 = np.log(z)\nprint(z1)         \n#z_2 = sigma(x)\n#print(z_2)\n\n#z1=sigma(x)\n#print(z1)\n#x_2d, y_2d = np.meshgrid(x,y)\n#print(x_2d)\n#print(z_2d)\n#x_2d = x_2d.astype(int)\n#z_2d=square(x_2d,10)\n#z_2d=sigma(x_2d)\n#z_2d = F(x_2d, y_2d, NA, NB)\n#z_2d.shape\n#z_2d",
    "id": "9cdd8b47c0424735be15ebdf7177ecdb",
    "idx": 9,
    "time": "2021-02-16T06:56:18.382Z",
    "type": "execution"
   },
   {
    "id": "9cdd8b47c0424735be15ebdf7177ecdb",
    "time": "2021-02-16T06:56:18.447Z",
    "type": "completion"
   },
   {
    "code": "y = np.linspace(500, 510, 11)\nx = np.linspace(500, 510, 11)\nprint(x)\nx = x.astype(int)\nprint(x)\nz = fact(x)\nz = z.astype(np.float128)\nprint(z)\nz1 = np.log(z)\nprint(z1)         \nz2 = sigma(x)\nprint(z2)\n\n#z1=sigma(x)\n#print(z1)\n#x_2d, y_2d = np.meshgrid(x,y)\n#print(x_2d)\n#print(z_2d)\n#x_2d = x_2d.astype(int)\n#z_2d=square(x_2d,10)\n#z_2d=sigma(x_2d)\n#z_2d = F(x_2d, y_2d, NA, NB)\n#z_2d.shape\n#z_2d",
    "id": "9cdd8b47c0424735be15ebdf7177ecdb",
    "idx": 9,
    "time": "2021-02-16T06:56:46.964Z",
    "type": "execution"
   },
   {
    "id": "9cdd8b47c0424735be15ebdf7177ecdb",
    "time": "2021-02-16T06:56:47.058Z",
    "type": "completion"
   },
   {
    "code": "# import numpy as np\nimport math as math\nimport scipy.stats as st\nimport scipy.special  \nimport matplotlib.pyplot as plt\n\nN = 1000\nn = []\nfor i in range((N//3)):\n    n.append(i/1.0)\n\ntau = []\nfor i in range((1000)):\n    tau.append(i/1000)\n\ndef fact(x):\n    return scipy.special.factorial(x, exact=True)\n\ndef sigma(ntest): \n    NA=1000\n    NB=1000\n    f= fact(ntest)\n    f=f.astype(np.float128)\n    return np.log(f)\n    #return (np.log(fact(NA)//(fact(ntest)*fact(NA-ntest))) + np.log(fact(NB)//(fact(ntest)*fact(NB-ntest))))\n\n#sigma(1)\n#sigma(500)\n#sigma(500)\n#fact(500)\n#math.factorial(500)\n#print(sigma(600))\n#print(square(ntest))\n#print(ntest)\n#print(sigma(ntest))\n                                                       ",
    "id": "d932be83395c4d95aa21942186351cb8",
    "idx": 6,
    "time": "2021-02-16T06:57:15.622Z",
    "type": "execution"
   },
   {
    "id": "d932be83395c4d95aa21942186351cb8",
    "time": "2021-02-16T06:57:15.688Z",
    "type": "completion"
   },
   {
    "code": "def F(tautest,ntest):\n    return 2*ntest - tautest*sigma(ntest)",
    "id": "42da82d19b624f108c8925748ba855df",
    "idx": 7,
    "time": "2021-02-16T06:57:16.421Z",
    "type": "execution"
   },
   {
    "id": "42da82d19b624f108c8925748ba855df",
    "time": "2021-02-16T06:57:16.476Z",
    "type": "completion"
   },
   {
    "code": "def square(x,y):\n    return np.log(fact(x**2)+y**2)",
    "id": "a0275565515c41ca800c9243e5fcdc19",
    "idx": 8,
    "time": "2021-02-16T06:57:16.909Z",
    "type": "execution"
   },
   {
    "id": "a0275565515c41ca800c9243e5fcdc19",
    "time": "2021-02-16T06:57:16.967Z",
    "type": "completion"
   },
   {
    "code": "y = np.linspace(500, 510, 11)\nx = np.linspace(500, 510, 11)\nprint(x)\nx = x.astype(int)\nprint(x)\nz = fact(x)\nz = z.astype(np.float128)\nprint(z)\nz1 = np.log(z)\nprint(z1)         \nz2 = sigma(x)\nprint(z2)\n\n#z1=sigma(x)\n#print(z1)\n#x_2d, y_2d = np.meshgrid(x,y)\n#print(x_2d)\n#print(z_2d)\n#x_2d = x_2d.astype(int)\n#z_2d=square(x_2d,10)\n#z_2d=sigma(x_2d)\n#z_2d = F(x_2d, y_2d, NA, NB)\n#z_2d.shape\n#z_2d",
    "id": "9cdd8b47c0424735be15ebdf7177ecdb",
    "idx": 9,
    "time": "2021-02-16T06:57:17.695Z",
    "type": "execution"
   },
   {
    "id": "9cdd8b47c0424735be15ebdf7177ecdb",
    "time": "2021-02-16T06:57:17.758Z",
    "type": "completion"
   },
   {
    "code": "# import numpy as np\nimport math as math\nimport scipy.stats as st\nimport scipy.special  \nimport matplotlib.pyplot as plt\n\nN = 1000\nn = []\nfor i in range((N//3)):\n    n.append(i/1.0)\n\ntau = []\nfor i in range((1000)):\n    tau.append(i/1000)\n\ndef fact(x):\n    return scipy.special.factorial(x, exact=True)\n\ndef sigma(ntest): \n    NA=1000\n    NB=1000\n    #f= fact(ntest)\n    #f=f.astype(np.float128)\n    #return np.log(f)\n    return (np.log(fact(NA)/(fact(ntest)*fact(NA-ntest))) + np.log(fact(NB)/(fact(ntest)*fact(NB-ntest))))\n\n#sigma(1)\n#sigma(500)\n#sigma(500)\n#fact(500)\n#math.factorial(500)\n#print(sigma(600))\n#print(square(ntest))\n#print(ntest)\n#print(sigma(ntest))\n                                                       ",
    "id": "d932be83395c4d95aa21942186351cb8",
    "idx": 6,
    "time": "2021-02-16T06:58:34.778Z",
    "type": "execution"
   },
   {
    "id": "d932be83395c4d95aa21942186351cb8",
    "time": "2021-02-16T06:58:34.853Z",
    "type": "completion"
   },
   {
    "code": "def F(tautest,ntest):\n    return 2*ntest - tautest*sigma(ntest)",
    "id": "42da82d19b624f108c8925748ba855df",
    "idx": 7,
    "time": "2021-02-16T06:58:35.377Z",
    "type": "execution"
   },
   {
    "id": "42da82d19b624f108c8925748ba855df",
    "time": "2021-02-16T06:58:35.438Z",
    "type": "completion"
   },
   {
    "code": "def square(x,y):\n    return np.log(fact(x**2)+y**2)",
    "id": "a0275565515c41ca800c9243e5fcdc19",
    "idx": 8,
    "time": "2021-02-16T06:58:35.920Z",
    "type": "execution"
   },
   {
    "id": "a0275565515c41ca800c9243e5fcdc19",
    "time": "2021-02-16T06:58:35.989Z",
    "type": "completion"
   },
   {
    "code": "y = np.linspace(500, 510, 11)\nx = np.linspace(500, 510, 11)\nprint(x)\nx = x.astype(int)\nprint(x)\nz = fact(x)\nz = z.astype(np.float128)\nprint(z)\nz1 = np.log(z)\nprint(z1)         \nz2 = sigma(x)\nprint(z2)\n\n#z1=sigma(x)\n#print(z1)\n#x_2d, y_2d = np.meshgrid(x,y)\n#print(x_2d)\n#print(z_2d)\n#x_2d = x_2d.astype(int)\n#z_2d=square(x_2d,10)\n#z_2d=sigma(x_2d)\n#z_2d = F(x_2d, y_2d, NA, NB)\n#z_2d.shape\n#z_2d",
    "id": "9cdd8b47c0424735be15ebdf7177ecdb",
    "idx": 9,
    "time": "2021-02-16T06:58:36.474Z",
    "type": "execution"
   },
   {
    "id": "9cdd8b47c0424735be15ebdf7177ecdb",
    "time": "2021-02-16T06:58:36.577Z",
    "type": "completion"
   },
   {
    "code": "y = np.linspace(500, 510, 11)\nx = np.linspace(500, 510, 11)\nprint(x)\nx = x.astype(int)\nprint(x)\nz = fact(x)\nz = z.astype(np.float128)\nprint(z)\nz1 = np.log(z)\nprint(z1)  \nprint(sigma(500))\n#z2 = sigma(x)\n#print(z2)\n\n#z1=sigma(x)\n#print(z1)\n#x_2d, y_2d = np.meshgrid(x,y)\n#print(x_2d)\n#print(z_2d)\n#x_2d = x_2d.astype(int)\n#z_2d=square(x_2d,10)\n#z_2d=sigma(x_2d)\n#z_2d = F(x_2d, y_2d, NA, NB)\n#z_2d.shape\n#z_2d",
    "id": "9cdd8b47c0424735be15ebdf7177ecdb",
    "idx": 9,
    "time": "2021-02-16T07:00:04.987Z",
    "type": "execution"
   },
   {
    "id": "9cdd8b47c0424735be15ebdf7177ecdb",
    "time": "2021-02-16T07:00:06.857Z",
    "type": "completion"
   },
   {
    "code": "y = np.linspace(500, 510, 11)\nx = np.linspace(500, 510, 11)\nprint(x)\nx = x.astype(int)\nprint(x)\nz = fact(x)\nz = z.astype(np.float128)\nprint(z)\nz1 = np.log(z)\nprint(z1)  \nprint(sigma([500,400]))\n#z2 = sigma(x)\n#print(z2)\n\n#z1=sigma(x)\n#print(z1)\n#x_2d, y_2d = np.meshgrid(x,y)\n#print(x_2d)\n#print(z_2d)\n#x_2d = x_2d.astype(int)\n#z_2d=square(x_2d,10)\n#z_2d=sigma(x_2d)\n#z_2d = F(x_2d, y_2d, NA, NB)\n#z_2d.shape\n#z_2d",
    "id": "9cdd8b47c0424735be15ebdf7177ecdb",
    "idx": 9,
    "time": "2021-02-16T07:00:32.367Z",
    "type": "execution"
   },
   {
    "id": "9cdd8b47c0424735be15ebdf7177ecdb",
    "time": "2021-02-16T07:00:32.453Z",
    "type": "completion"
   },
   {
    "code": "# import numpy as np\nimport math as math\nimport scipy.stats as st\nimport scipy.special  \nimport matplotlib.pyplot as plt\n\nN = 1000\nn = []\nfor i in range((N//3)):\n    n.append(i/1.0)\n\ntau = []\nfor i in range((1000)):\n    tau.append(i/1000)\n\ndef fact(x):\n    return scipy.special.factorial(x, exact=True)\n\ndef sigma(ntest): \n    NA=1000\n    NB=1000\n    #f= fact(ntest)\n    #f=f.astype(np.float128)\n    #return np.log(f)\n    #return (np.log(fact(NA)/(fact(ntest)*fact(NA-ntest))) + np.log(fact(NB)/(fact(ntest)*fact(NB-ntest))))\n    return np.log(fact(NA)/(fact(ntest)*fact(NA-ntest)))\n\n#sigma(1)\n#sigma(500)\n#sigma(500)\n#fact(500)\n#math.factorial(500)\n#print(sigma(600))\n#print(square(ntest))\n#print(ntest)\n#print(sigma(ntest))\n                                                       ",
    "id": "d932be83395c4d95aa21942186351cb8",
    "idx": 6,
    "time": "2021-02-16T07:05:28.038Z",
    "type": "execution"
   },
   {
    "id": "d932be83395c4d95aa21942186351cb8",
    "time": "2021-02-16T07:05:28.110Z",
    "type": "completion"
   },
   {
    "code": "def F(tautest,ntest):\n    return 2*ntest - tautest*sigma(ntest)",
    "id": "42da82d19b624f108c8925748ba855df",
    "idx": 7,
    "time": "2021-02-16T07:05:30.616Z",
    "type": "execution"
   },
   {
    "id": "42da82d19b624f108c8925748ba855df",
    "time": "2021-02-16T07:05:30.675Z",
    "type": "completion"
   },
   {
    "code": "def square(x,y):\n    return np.log(fact(x**2)+y**2)",
    "id": "a0275565515c41ca800c9243e5fcdc19",
    "idx": 8,
    "time": "2021-02-16T07:05:31.287Z",
    "type": "execution"
   },
   {
    "id": "a0275565515c41ca800c9243e5fcdc19",
    "time": "2021-02-16T07:05:31.346Z",
    "type": "completion"
   },
   {
    "code": "y = np.linspace(500, 510, 11)\nx = np.linspace(500, 510, 11)\nprint(x)\nx = x.astype(int)\nprint(x)\nz = fact(x)\nz = z.astype(np.float128)\nprint(z)\nz1 = np.log(z)\nprint(z1)  \nprint(sigma([500,400]))\n#z2 = sigma(x)\n#print(z2)\n\n#z1=sigma(x)\n#print(z1)\n#x_2d, y_2d = np.meshgrid(x,y)\n#print(x_2d)\n#print(z_2d)\n#x_2d = x_2d.astype(int)\n#z_2d=square(x_2d,10)\n#z_2d=sigma(x_2d)\n#z_2d = F(x_2d, y_2d, NA, NB)\n#z_2d.shape\n#z_2d",
    "id": "9cdd8b47c0424735be15ebdf7177ecdb",
    "idx": 9,
    "time": "2021-02-16T07:05:32.767Z",
    "type": "execution"
   },
   {
    "id": "9cdd8b47c0424735be15ebdf7177ecdb",
    "time": "2021-02-16T07:05:32.849Z",
    "type": "completion"
   },
   {
    "code": "y = np.linspace(500, 510, 11)\nx = np.linspace(500, 510, 11)\nprint(x)\nx = x.astype(int)\nprint(x)\nz = fact(x)\nz = z.astype(np.float128)\nprint(z)\nz1 = np.log(z)\nprint(z1)  \nz2 = sigma(x)\nprint(z2)\n\n#z1=sigma(x)\n#print(z1)\n#x_2d, y_2d = np.meshgrid(x,y)\n#print(x_2d)\n#print(z_2d)\n#x_2d = x_2d.astype(int)\n#z_2d=square(x_2d,10)\n#z_2d=sigma(x_2d)\n#z_2d = F(x_2d, y_2d, NA, NB)\n#z_2d.shape\n#z_2d",
    "id": "9cdd8b47c0424735be15ebdf7177ecdb",
    "idx": 9,
    "time": "2021-02-16T07:06:11.924Z",
    "type": "execution"
   },
   {
    "id": "9cdd8b47c0424735be15ebdf7177ecdb",
    "time": "2021-02-16T07:06:12.002Z",
    "type": "completion"
   },
   {
    "code": "# import numpy as np\nimport math as math\nimport scipy.stats as st\nimport scipy.special  \nimport matplotlib.pyplot as plt\n\nN = 1000\nn = []\nfor i in range((N//3)):\n    n.append(i/1.0)\n\ntau = []\nfor i in range((1000)):\n    tau.append(i/1000)\n\ndef fact(x):\n    return scipy.special.factorial(x, exact=True)\n\ndef sigma(ntest): \n    NA=1000\n    NB=1000\n    #f= fact(ntest)\n    #f=f.astype(np.float128)\n    #return np.log(f)\n    #return (np.log(fact(NA)/(fact(ntest)*fact(NA-ntest))) + np.log(fact(NB)/(fact(ntest)*fact(NB-ntest))))\n    return np.log(fact(NA)/(fact(ntest)*fact(NA-ntest)))\n    return fact(NA)/(fact(ntest)*fact(NA-ntest))\n\n#sigma(1)\n#sigma(500)\n#sigma(500)\n#fact(500)\n#math.factorial(500)\n#print(sigma(600))\n#print(square(ntest))\n#print(ntest)\n#print(sigma(ntest))\n                                                       ",
    "id": "d932be83395c4d95aa21942186351cb8",
    "idx": 6,
    "time": "2021-02-16T07:07:48.603Z",
    "type": "execution"
   },
   {
    "id": "d932be83395c4d95aa21942186351cb8",
    "time": "2021-02-16T07:07:48.679Z",
    "type": "completion"
   },
   {
    "code": "def F(tautest,ntest):\n    return 2*ntest - tautest*sigma(ntest)",
    "id": "42da82d19b624f108c8925748ba855df",
    "idx": 7,
    "time": "2021-02-16T07:07:49.585Z",
    "type": "execution"
   },
   {
    "id": "42da82d19b624f108c8925748ba855df",
    "time": "2021-02-16T07:07:49.643Z",
    "type": "completion"
   },
   {
    "code": "def square(x,y):\n    return np.log(fact(x**2)+y**2)",
    "id": "a0275565515c41ca800c9243e5fcdc19",
    "idx": 8,
    "time": "2021-02-16T07:07:50.092Z",
    "type": "execution"
   },
   {
    "id": "a0275565515c41ca800c9243e5fcdc19",
    "time": "2021-02-16T07:07:50.151Z",
    "type": "completion"
   },
   {
    "code": "y = np.linspace(500, 510, 11)\nx = np.linspace(500, 510, 11)\nprint(x)\nx = x.astype(int)\nprint(x)\nz = fact(x)\nz = z.astype(np.float128)\nprint(z)\nz1 = np.log(z)\nprint(z1)  \nz2 = sigma(x)\nprint(z2)\n\n#z1=sigma(x)\n#print(z1)\n#x_2d, y_2d = np.meshgrid(x,y)\n#print(x_2d)\n#print(z_2d)\n#x_2d = x_2d.astype(int)\n#z_2d=square(x_2d,10)\n#z_2d=sigma(x_2d)\n#z_2d = F(x_2d, y_2d, NA, NB)\n#z_2d.shape\n#z_2d",
    "id": "9cdd8b47c0424735be15ebdf7177ecdb",
    "idx": 9,
    "time": "2021-02-16T07:07:50.997Z",
    "type": "execution"
   },
   {
    "id": "9cdd8b47c0424735be15ebdf7177ecdb",
    "time": "2021-02-16T07:07:52.851Z",
    "type": "completion"
   },
   {
    "code": "# import numpy as np\nimport math as math\nimport scipy.stats as st\nimport scipy.special  \nimport matplotlib.pyplot as plt\n\nN = 1000\nn = []\nfor i in range((N//3)):\n    n.append(i/1.0)\n\ntau = []\nfor i in range((1000)):\n    tau.append(i/1000)\n\ndef fact(x):\n    return scipy.special.factorial(x, exact=True)\n\ndef sigma(ntest): \n    NA=1000\n    NB=1000\n    #f= fact(ntest)\n    #f=f.astype(np.float128)\n    #return np.log(f)\n    #return (np.log(fact(NA)/(fact(ntest)*fact(NA-ntest))) + np.log(fact(NB)/(fact(ntest)*fact(NB-ntest))))\n    #return np.log(fact(NA)/(fact(ntest)*fact(NA-ntest)))\n    return fact(NA)/(fact(ntest)*fact(NA-ntest))\n\n#sigma(1)\n#sigma(500)\n#sigma(500)\n#fact(500)\n#math.factorial(500)\n#print(sigma(600))\n#print(square(ntest))\n#print(ntest)\n#print(sigma(ntest))\n                                                       ",
    "id": "d932be83395c4d95aa21942186351cb8",
    "idx": 6,
    "time": "2021-02-16T07:08:12.660Z",
    "type": "execution"
   },
   {
    "id": "d932be83395c4d95aa21942186351cb8",
    "time": "2021-02-16T07:08:12.721Z",
    "type": "completion"
   },
   {
    "code": "def F(tautest,ntest):\n    return 2*ntest - tautest*sigma(ntest)",
    "id": "42da82d19b624f108c8925748ba855df",
    "idx": 7,
    "time": "2021-02-16T07:08:13.133Z",
    "type": "execution"
   },
   {
    "id": "42da82d19b624f108c8925748ba855df",
    "time": "2021-02-16T07:08:13.191Z",
    "type": "completion"
   },
   {
    "code": "def square(x,y):\n    return np.log(fact(x**2)+y**2)",
    "id": "a0275565515c41ca800c9243e5fcdc19",
    "idx": 8,
    "time": "2021-02-16T07:08:13.569Z",
    "type": "execution"
   },
   {
    "id": "a0275565515c41ca800c9243e5fcdc19",
    "time": "2021-02-16T07:08:13.631Z",
    "type": "completion"
   },
   {
    "code": "y = np.linspace(500, 510, 11)\nx = np.linspace(500, 510, 11)\nprint(x)\nx = x.astype(int)\nprint(x)\nz = fact(x)\nz = z.astype(np.float128)\nprint(z)\nz1 = np.log(z)\nprint(z1)  \nz2 = sigma(x)\nprint(z2)\n\n#z1=sigma(x)\n#print(z1)\n#x_2d, y_2d = np.meshgrid(x,y)\n#print(x_2d)\n#print(z_2d)\n#x_2d = x_2d.astype(int)\n#z_2d=square(x_2d,10)\n#z_2d=sigma(x_2d)\n#z_2d = F(x_2d, y_2d, NA, NB)\n#z_2d.shape\n#z_2d",
    "id": "9cdd8b47c0424735be15ebdf7177ecdb",
    "idx": 9,
    "time": "2021-02-16T07:08:13.917Z",
    "type": "execution"
   },
   {
    "id": "9cdd8b47c0424735be15ebdf7177ecdb",
    "time": "2021-02-16T07:08:13.985Z",
    "type": "completion"
   },
   {
    "code": "from mpl_toolkits.mplot3d import Axes3D\n\nfig = plt.figure(figsize=(8,8)) #create figure object to hold the plot\nax = Axes3D(fig) #create Axes3D object to display the plot\nax.plot_surface(x_2d, y_2d, z_2d)\nax.set_xlabel(\"$x$\")\nax.set_ylabel(\"$y$\")\nax.set_zlabel(\"$F(x,y)$\")",
    "id": "090aa9120e2d4cea89fa1f9ee3c39777",
    "idx": 10,
    "time": "2021-02-16T07:08:14.760Z",
    "type": "execution"
   },
   {
    "id": "090aa9120e2d4cea89fa1f9ee3c39777",
    "time": "2021-02-16T07:08:15.247Z",
    "type": "completion"
   },
   {
    "code": "y = np.linspace(500, 510, 11)\nx = np.linspace(500, 510, 11)\nprint(x)\nx = x.astype(int)\nprint(x)\nz = fact(x)\nz = z.astype(np.float128)\nprint(z)\nz1 = np.log(z)\nprint(z1)  \nz2 = sigma(x)\nz2 = np.log(z2)\nprint(z2)\n\n#z1=sigma(x)\n#print(z1)\n#x_2d, y_2d = np.meshgrid(x,y)\n#print(x_2d)\n#print(z_2d)\n#x_2d = x_2d.astype(int)\n#z_2d=square(x_2d,10)\n#z_2d=sigma(x_2d)\n#z_2d = F(x_2d, y_2d, NA, NB)\n#z_2d.shape\n#z_2d",
    "id": "9cdd8b47c0424735be15ebdf7177ecdb",
    "idx": 9,
    "time": "2021-02-16T07:09:04.123Z",
    "type": "execution"
   },
   {
    "id": "9cdd8b47c0424735be15ebdf7177ecdb",
    "time": "2021-02-16T07:09:04.218Z",
    "type": "completion"
   },
   {
    "code": "from mpl_toolkits.mplot3d import Axes3D\n\nfig = plt.figure(figsize=(8,8)) #create figure object to hold the plot\nax = Axes3D(fig) #create Axes3D object to display the plot\nax.plot_surface(x_2d, y_2d, z_2d)\nax.set_xlabel(\"$x$\")\nax.set_ylabel(\"$y$\")\nax.set_zlabel(\"$F(x,y)$\")",
    "id": "090aa9120e2d4cea89fa1f9ee3c39777",
    "idx": 10,
    "time": "2021-02-16T07:09:05.592Z",
    "type": "execution"
   },
   {
    "id": "090aa9120e2d4cea89fa1f9ee3c39777",
    "time": "2021-02-16T07:09:06.016Z",
    "type": "completion"
   },
   {
    "code": "y = np.linspace(500, 510, 11)\nx = np.linspace(500, 510, 11)\nprint(x)\nx = x.astype(int)\nprint(x)\nz = fact(x)\nz = z.astype(np.float128)\nprint(z)\nz1 = np.log(z)\nprint(z1)  \nz2 = sigma(x)\nz2 = z2.astype(np.float128)\nz2 = np.log(z2)\nprint(z2)\n\n#z1=sigma(x)\n#print(z1)\n#x_2d, y_2d = np.meshgrid(x,y)\n#print(x_2d)\n#print(z_2d)\n#x_2d = x_2d.astype(int)\n#z_2d=square(x_2d,10)\n#z_2d=sigma(x_2d)\n#z_2d = F(x_2d, y_2d, NA, NB)\n#z_2d.shape\n#z_2d",
    "id": "9cdd8b47c0424735be15ebdf7177ecdb",
    "idx": 9,
    "time": "2021-02-16T07:09:56.769Z",
    "type": "execution"
   },
   {
    "id": "9cdd8b47c0424735be15ebdf7177ecdb",
    "time": "2021-02-16T07:09:56.841Z",
    "type": "completion"
   },
   {
    "code": "# import numpy as np\nimport math as math\nimport scipy.stats as st\nimport scipy.special  \nimport matplotlib.pyplot as plt\n\nN = 1000\nn = []\nfor i in range((N//3)):\n    n.append(i/1.0)\n\ntau = []\nfor i in range((1000)):\n    tau.append(i/1000)\n\ndef fact(x):\n    return scipy.special.factorial(x, exact=True)\n\ndef sigma(ntest): \n    NA=1000\n    NB=1000\n    #f= fact(ntest)\n    #f=f.astype(np.float128)\n    #return np.log(f)\n    #return (np.log(fact(NA)/(fact(ntest)*fact(NA-ntest))) + np.log(fact(NB)/(fact(ntest)*fact(NB-ntest))))\n    z=fact(NA)/(fact(ntest)*fact(NA-ntest))\n    z=z.astype(float128)\n    z=np.log(z)\n    return z\n#sigma(1)\n#sigma(500)\n#sigma(500)\n#fact(500)\n#math.factorial(500)\n#print(sigma(600))\n#print(square(ntest))\n#print(ntest)\n#print(sigma(ntest))\n                                                       ",
    "id": "d932be83395c4d95aa21942186351cb8",
    "idx": 6,
    "time": "2021-02-16T07:12:55.424Z",
    "type": "execution"
   },
   {
    "id": "d932be83395c4d95aa21942186351cb8",
    "time": "2021-02-16T07:12:55.507Z",
    "type": "completion"
   },
   {
    "code": "y = np.linspace(500, 510, 11)\nx = np.linspace(500, 510, 11)\nprint(x)\nx = x.astype(int)\nprint(x)\nz = fact(x)\nz = z.astype(np.float128)\nprint(z)\nz1 = np.log(z)\nprint(z1)  \nz2 = sigma(x)\nz2 = z2.astype(np.float128)\nz2 = np.log(z2)\nprint(z2)\n\n#z1=sigma(x)\n#print(z1)\n#x_2d, y_2d = np.meshgrid(x,y)\n#print(x_2d)\n#print(z_2d)\n#x_2d = x_2d.astype(int)\n#z_2d=square(x_2d,10)\n#z_2d=sigma(x_2d)\n#z_2d = F(x_2d, y_2d, NA, NB)\n#z_2d.shape\n#z_2d",
    "id": "9cdd8b47c0424735be15ebdf7177ecdb",
    "idx": 9,
    "time": "2021-02-16T07:13:03.475Z",
    "type": "execution"
   },
   {
    "id": "9cdd8b47c0424735be15ebdf7177ecdb",
    "time": "2021-02-16T07:13:03.568Z",
    "type": "completion"
   },
   {
    "code": "# import numpy as np\nimport math as math\nimport scipy.stats as st\nimport scipy.special  \nimport matplotlib.pyplot as plt\n\nN = 1000\nn = []\nfor i in range((N//3)):\n    n.append(i/1.0)\n\ntau = []\nfor i in range((1000)):\n    tau.append(i/1000)\n\ndef fact(x):\n    return scipy.special.factorial(x, exact=True)\n\ndef sigma(ntest): \n    NA=1000\n    NB=1000\n    #f= fact(ntest)\n    #f=f.astype(np.float128)\n    #return np.log(f)\n    #return (np.log(fact(NA)/(fact(ntest)*fact(NA-ntest))) + np.log(fact(NB)/(fact(ntest)*fact(NB-ntest))))\n    z=fact(NA)/(fact(ntest)*fact(NA-ntest))\n    z=z.astype(np.float128)\n    z=np.log(z)\n    return z\n#sigma(1)\n#sigma(500)\n#sigma(500)\n#fact(500)\n#math.factorial(500)\n#print(sigma(600))\n#print(square(ntest))\n#print(ntest)\n#print(sigma(ntest))\n                                                       ",
    "id": "d932be83395c4d95aa21942186351cb8",
    "idx": 6,
    "time": "2021-02-16T07:13:46.279Z",
    "type": "execution"
   },
   {
    "id": "d932be83395c4d95aa21942186351cb8",
    "time": "2021-02-16T07:13:46.339Z",
    "type": "completion"
   },
   {
    "code": "def F(tautest,ntest):\n    return 2*ntest - tautest*sigma(ntest)",
    "id": "42da82d19b624f108c8925748ba855df",
    "idx": 7,
    "time": "2021-02-16T07:13:46.977Z",
    "type": "execution"
   },
   {
    "id": "42da82d19b624f108c8925748ba855df",
    "time": "2021-02-16T07:13:47.037Z",
    "type": "completion"
   },
   {
    "code": "def square(x,y):\n    return np.log(fact(x**2)+y**2)",
    "id": "a0275565515c41ca800c9243e5fcdc19",
    "idx": 8,
    "time": "2021-02-16T07:13:47.587Z",
    "type": "execution"
   },
   {
    "id": "a0275565515c41ca800c9243e5fcdc19",
    "time": "2021-02-16T07:13:47.644Z",
    "type": "completion"
   },
   {
    "code": "y = np.linspace(500, 510, 11)\nx = np.linspace(500, 510, 11)\nprint(x)\nx = x.astype(int)\nprint(x)\nz = fact(x)\nz = z.astype(np.float128)\nprint(z)\nz1 = np.log(z)\nprint(z1)  \nz2 = sigma(x)\nz2 = z2.astype(np.float128)\nz2 = np.log(z2)\nprint(z2)\n\n#z1=sigma(x)\n#print(z1)\n#x_2d, y_2d = np.meshgrid(x,y)\n#print(x_2d)\n#print(z_2d)\n#x_2d = x_2d.astype(int)\n#z_2d=square(x_2d,10)\n#z_2d=sigma(x_2d)\n#z_2d = F(x_2d, y_2d, NA, NB)\n#z_2d.shape\n#z_2d",
    "id": "9cdd8b47c0424735be15ebdf7177ecdb",
    "idx": 9,
    "time": "2021-02-16T07:13:48.333Z",
    "type": "execution"
   },
   {
    "id": "9cdd8b47c0424735be15ebdf7177ecdb",
    "time": "2021-02-16T07:13:48.399Z",
    "type": "completion"
   },
   {
    "code": "# import numpy as np\nimport math as math\nimport scipy.stats as st\nimport scipy.special  \nimport matplotlib.pyplot as plt\n\nN = 1000\nn = []\nfor i in range((N//3)):\n    n.append(i/1.0)\n\ntau = []\nfor i in range((1000)):\n    tau.append(i/1000)\n\ndef fact(x):\n    return scipy.special.factorial(x, exact=True)\n\ndef sigma(ntest): \n    NA=1000\n    NB=1000\n    #f= fact(ntest)\n    #f=f.astype(np.float128)\n    #return np.log(f)\n    #return (np.log(fact(NA)/(fact(ntest)*fact(NA-ntest))) + np.log(fact(NB)/(fact(ntest)*fact(NB-ntest))))\n    z1=fact(NA)/(fact(ntest)*fact(NA-ntest))\n    z1=z1.astype(np.float128)\n    z1=np.log(z1)\n    z2=fact(NB)/(fact(ntest)*fact(NB-ntest))\n    z2=z2.astype(np.float128)\n    z2=np.log(z2)\n    return z1+z2\n#sigma(1)\n#sigma(500)\n#sigma(500)\n#fact(500)\n#math.factorial(500)\n#print(sigma(600))\n#print(square(ntest))\n#print(ntest)\n#print(sigma(ntest))\n                                                       ",
    "id": "d932be83395c4d95aa21942186351cb8",
    "idx": 6,
    "time": "2021-02-16T07:16:09.164Z",
    "type": "execution"
   },
   {
    "id": "d932be83395c4d95aa21942186351cb8",
    "time": "2021-02-16T07:16:09.227Z",
    "type": "completion"
   },
   {
    "code": "def F(tautest,ntest):\n    return 2*ntest - tautest*sigma(ntest)",
    "id": "42da82d19b624f108c8925748ba855df",
    "idx": 7,
    "time": "2021-02-16T07:16:09.987Z",
    "type": "execution"
   },
   {
    "id": "42da82d19b624f108c8925748ba855df",
    "time": "2021-02-16T07:16:10.046Z",
    "type": "completion"
   },
   {
    "code": "def square(x,y):\n    return np.log(fact(x**2)+y**2)",
    "id": "a0275565515c41ca800c9243e5fcdc19",
    "idx": 8,
    "time": "2021-02-16T07:16:10.528Z",
    "type": "execution"
   },
   {
    "id": "a0275565515c41ca800c9243e5fcdc19",
    "time": "2021-02-16T07:16:10.586Z",
    "type": "completion"
   },
   {
    "code": "y = np.linspace(500, 510, 11)\nx = np.linspace(500, 510, 11)\nprint(x)\nx = x.astype(int)\nprint(x)\nz = fact(x)\nz = z.astype(np.float128)\nprint(z)\nz1 = np.log(z)\nprint(z1)  \nz2 = sigma(x)\nz2 = z2.astype(np.float128)\nz2 = np.log(z2)\nprint(z2)\n\n#z1=sigma(x)\n#print(z1)\n#x_2d, y_2d = np.meshgrid(x,y)\n#print(x_2d)\n#print(z_2d)\n#x_2d = x_2d.astype(int)\n#z_2d=square(x_2d,10)\n#z_2d=sigma(x_2d)\n#z_2d = F(x_2d, y_2d, NA, NB)\n#z_2d.shape\n#z_2d",
    "id": "9cdd8b47c0424735be15ebdf7177ecdb",
    "idx": 9,
    "time": "2021-02-16T07:16:13.375Z",
    "type": "execution"
   },
   {
    "id": "9cdd8b47c0424735be15ebdf7177ecdb",
    "time": "2021-02-16T07:16:13.446Z",
    "type": "completion"
   },
   {
    "code": "y = np.linspace(500, 510, 11)\nx = np.linspace(500, 510, 11)\nprint(x)\nx = x.astype(int)\nprint(x)\nz = fact(x)\nz = z.astype(np.float128)\nprint(z)\nz1 = np.log(z)\nprint(z1)  \nz2 = sigma(x)\n#z2 = z2.astype(np.float128)\n#z2 = np.log(z2)\nprint(z2)\n\n#z1=sigma(x)\n#print(z1)\n#x_2d, y_2d = np.meshgrid(x,y)\n#print(x_2d)\n#print(z_2d)\n#x_2d = x_2d.astype(int)\n#z_2d=square(x_2d,10)\n#z_2d=sigma(x_2d)\n#z_2d = F(x_2d, y_2d, NA, NB)\n#z_2d.shape\n#z_2d",
    "id": "9cdd8b47c0424735be15ebdf7177ecdb",
    "idx": 9,
    "time": "2021-02-16T07:17:01.119Z",
    "type": "execution"
   },
   {
    "id": "9cdd8b47c0424735be15ebdf7177ecdb",
    "time": "2021-02-16T07:17:01.193Z",
    "type": "completion"
   },
   {
    "code": "y = np.linspace(500, 510, 11)\nx = np.linspace(500, 510, 11)\nprint(x)\nx = x.astype(int)\nprint(x)\n#z = fact(x)\n#z = z.astype(np.float128)\n#print(z)\n#z1 = np.log(z)\n#print(z1)  \nz2 = sigma(x)\n#z2 = z2.astype(np.float128)\n#z2 = np.log(z2)\nprint(z2)\n\n#z1=sigma(x)\n#print(z1)\n#x_2d, y_2d = np.meshgrid(x,y)\n#print(x_2d)\n#print(z_2d)\n#x_2d = x_2d.astype(int)\n#z_2d=square(x_2d,10)\n#z_2d=sigma(x_2d)\n#z_2d = F(x_2d, y_2d, NA, NB)\n#z_2d.shape\n#z_2d",
    "id": "9cdd8b47c0424735be15ebdf7177ecdb",
    "idx": 9,
    "time": "2021-02-16T07:17:48.166Z",
    "type": "execution"
   },
   {
    "id": "9cdd8b47c0424735be15ebdf7177ecdb",
    "time": "2021-02-16T07:17:48.243Z",
    "type": "completion"
   },
   {
    "code": "y = np.linspace(500, 510, 11)\nx = np.linspace(400, 600, 11)\nprint(x)\nx = x.astype(int)\nprint(x)\n#z = fact(x)\n#z = z.astype(np.float128)\n#print(z)\n#z1 = np.log(z)\n#print(z1)  \nz2 = sigma(x)\n#z2 = z2.astype(np.float128)\n#z2 = np.log(z2)\nprint(z2)\n\n#z1=sigma(x)\n#print(z1)\n#x_2d, y_2d = np.meshgrid(x,y)\n#print(x_2d)\n#print(z_2d)\n#x_2d = x_2d.astype(int)\n#z_2d=square(x_2d,10)\n#z_2d=sigma(x_2d)\n#z_2d = F(x_2d, y_2d, NA, NB)\n#z_2d.shape\n#z_2d",
    "id": "9cdd8b47c0424735be15ebdf7177ecdb",
    "idx": 9,
    "time": "2021-02-16T07:18:15.374Z",
    "type": "execution"
   },
   {
    "id": "9cdd8b47c0424735be15ebdf7177ecdb",
    "time": "2021-02-16T07:18:15.452Z",
    "type": "completion"
   },
   {
    "code": "y = np.linspace(0, 1, 11)\nx = np.linspace(0, 500, 11)\nprint(x)\nx = x.astype(int)\nprint(x)\n#z = fact(x)\n#z = z.astype(np.float128)\n#print(z)\n#z1 = np.log(z)\n#print(z1)  \nz2 = sigma(x)\n#z2 = z2.astype(np.float128)\n#z2 = np.log(z2)\nprint(z2)\n\n\nx_2d, y_2d = np.meshgrid(x,y)\n#print(x_2d)\n#print(z_2d)\n#x_2d = x_2d.astype(int)\n#z_2d=square(x_2d,10)\n#z_2d=sigma(x_2d)\n#z_2d = F(x_2d, y_2d)\n#z_2d.shape\n#z_2d",
    "id": "9cdd8b47c0424735be15ebdf7177ecdb",
    "idx": 9,
    "time": "2021-02-16T07:20:28.535Z",
    "type": "execution"
   },
   {
    "id": "9cdd8b47c0424735be15ebdf7177ecdb",
    "time": "2021-02-16T07:20:28.615Z",
    "type": "completion"
   },
   {
    "code": "y = np.linspace(0, 1, 11)\nx = np.linspace(0, 500, 11)\nprint(x)\nx = x.astype(int)\nprint(x)\n#z = fact(x)\n#z = z.astype(np.float128)\n#print(z)\n#z1 = np.log(z)\n#print(z1)  \nz2 = sigma(x)\n#z2 = z2.astype(np.float128)\n#z2 = np.log(z2)\nprint(z2)\n\n\nx_2d, y_2d = np.meshgrid(x,y)\nprint(x_2d)\nprint(y_2d)\n#x_2d = x_2d.astype(int)\n#z_2d=square(x_2d,10)\n#z_2d=sigma(x_2d)\n#z_2d = F(x_2d, y_2d)\n#z_2d.shape\n#z_2d",
    "id": "9cdd8b47c0424735be15ebdf7177ecdb",
    "idx": 9,
    "time": "2021-02-16T07:21:12.558Z",
    "type": "execution"
   },
   {
    "id": "9cdd8b47c0424735be15ebdf7177ecdb",
    "time": "2021-02-16T07:21:12.631Z",
    "type": "completion"
   },
   {
    "code": "y = np.linspace(0, 1, 11)\nx = np.linspace(0, 500, 11)\nprint(x)\nx = x.astype(int)\nprint(x)\n#z = fact(x)\n#z = z.astype(np.float128)\n#print(z)\n#z1 = np.log(z)\n#print(z1)  \nz2 = sigma(x)\n#z2 = z2.astype(np.float128)\n#z2 = np.log(z2)\nprint(z2)\n\n\nx_2d, y_2d = np.meshgrid(x,y)\nprint(x_2d)\nprint(y_2d)\nz_2d = F(x_2d, y_2d)\nprint(z_2d)",
    "id": "9cdd8b47c0424735be15ebdf7177ecdb",
    "idx": 9,
    "time": "2021-02-16T07:21:54.894Z",
    "type": "execution"
   },
   {
    "id": "9cdd8b47c0424735be15ebdf7177ecdb",
    "time": "2021-02-16T07:21:55.073Z",
    "type": "completion"
   },
   {
    "code": "y = np.linspace(0, 500, 11)\nx = np.linspace(0, 1, 11)\nprint(x)\nx = x.astype(int)\nprint(x)\n#z = fact(x)\n#z = z.astype(np.float128)\n#print(z)\n#z1 = np.log(z)\n#print(z1)  \nz2 = sigma(x)\n#z2 = z2.astype(np.float128)\n#z2 = np.log(z2)\nprint(z2)\n\n\nx_2d, y_2d = np.meshgrid(x,y)\nprint(x_2d)\nprint(y_2d)\nz_2d = F(x_2d, y_2d)\nprint(z_2d)",
    "id": "9cdd8b47c0424735be15ebdf7177ecdb",
    "idx": 9,
    "time": "2021-02-16T07:24:09.209Z",
    "type": "execution"
   },
   {
    "code": "from mpl_toolkits.mplot3d import Axes3D\n\nfig = plt.figure(figsize=(8,8)) #create figure object to hold the plot\nax = Axes3D(fig) #create Axes3D object to display the plot\nax.plot_surface(x_2d, y_2d, z_2d)\nax.set_xlabel(\"$x$\")\nax.set_ylabel(\"$y$\")\nax.set_zlabel(\"$F(x,y)$\")",
    "id": "090aa9120e2d4cea89fa1f9ee3c39777",
    "idx": 10,
    "time": "2021-02-16T07:24:09.998Z",
    "type": "execution"
   },
   {
    "id": "9cdd8b47c0424735be15ebdf7177ecdb",
    "time": "2021-02-16T07:24:11.423Z",
    "type": "completion"
   },
   {
    "id": "090aa9120e2d4cea89fa1f9ee3c39777",
    "time": "2021-02-16T07:24:11.534Z",
    "type": "completion"
   },
   {
    "code": "y = np.linspace(0, 500, 11)\nx = np.linspace(0, 1, 11)\nprint(x)\nx = x.astype(int)\nprint(x)\n#z = fact(x)\n#z = z.astype(np.float128)\n#print(z)\n#z1 = np.log(z)\n#print(z1)  \nz2 = sigma(x)\n#z2 = z2.astype(np.float128)\n#z2 = np.log(z2)\nprint(z2)\n\n\nx_2d, y_2d = np.meshgrid(x,y)\nprint(x_2d)\nprint(y_2d)\nz_2d = F(x_2d, y_2d)\nprint(z_2d)",
    "id": "9cdd8b47c0424735be15ebdf7177ecdb",
    "idx": 9,
    "time": "2021-02-16T07:24:28.081Z",
    "type": "execution"
   },
   {
    "id": "9cdd8b47c0424735be15ebdf7177ecdb",
    "time": "2021-02-16T07:24:28.215Z",
    "type": "completion"
   },
   {
    "code": "y = np.linspace(0, 500, 11)\nx = np.linspace(0, 1, 11)\n#z = fact(x)\n#z = z.astype(np.float128)\n#print(z)\n#z1 = np.log(z)\n#print(z1)  \nz2 = sigma(y)\n#z2 = z2.astype(np.float128)\n#z2 = np.log(z2)\nprint(z2)\n\n\nx_2d, y_2d = np.meshgrid(x,y)\nprint(x_2d)\nprint(y_2d)\nz_2d = F(x_2d, y_2d)\nprint(z_2d)",
    "id": "9cdd8b47c0424735be15ebdf7177ecdb",
    "idx": 9,
    "time": "2021-02-16T07:25:26.334Z",
    "type": "execution"
   },
   {
    "id": "9cdd8b47c0424735be15ebdf7177ecdb",
    "time": "2021-02-16T07:25:26.443Z",
    "type": "completion"
   },
   {
    "code": "y = np.linspace(1, 500, 11)\nx = np.linspace(0, 1, 11)\n#z = fact(x)\n#z = z.astype(np.float128)\n#print(z)\n#z1 = np.log(z)\n#print(z1)  \nz2 = sigma(y)\n#z2 = z2.astype(np.float128)\n#z2 = np.log(z2)\nprint(z2)\n\n\nx_2d, y_2d = np.meshgrid(x,y)\nprint(x_2d)\nprint(y_2d)\nz_2d = F(x_2d, y_2d)\nprint(z_2d)",
    "id": "9cdd8b47c0424735be15ebdf7177ecdb",
    "idx": 9,
    "time": "2021-02-16T07:26:06.790Z",
    "type": "execution"
   },
   {
    "id": "9cdd8b47c0424735be15ebdf7177ecdb",
    "time": "2021-02-16T07:26:06.898Z",
    "type": "completion"
   },
   {
    "code": "y = np.linspace(1, 500, 11)\nx = np.linspace(0, 1, 11)\n#z = fact(x)\n#z = z.astype(np.float128)\n#print(z)\n#z1 = np.log(z)\n#print(z1)  \n#z2 = sigma(y)\n#z2 = z2.astype(np.float128)\n#z2 = np.log(z2)\n#print(z2)\n\n\nx_2d, y_2d = np.meshgrid(x,y)\nprint(x_2d)\nprint(y_2d)\nz_2d = F(x_2d, y_2d)\nprint(z_2d)",
    "id": "9cdd8b47c0424735be15ebdf7177ecdb",
    "idx": 9,
    "time": "2021-02-16T07:26:49.131Z",
    "type": "execution"
   },
   {
    "id": "9cdd8b47c0424735be15ebdf7177ecdb",
    "time": "2021-02-16T07:26:49.256Z",
    "type": "completion"
   },
   {
    "code": "# import numpy as np\nimport math as math\nimport scipy.stats as st\nimport scipy.special  \nimport matplotlib.pyplot as plt\n\nN = 1000\nn = []\nfor i in range((N//3)):\n    n.append(i/1.0)\n\ntau = []\nfor i in range((1000)):\n    tau.append(i/1000)\n\ndef fact(x):\n    return scipy.special.factorial(x, exact=True)\n\ndef sigma(ntest): \n    NA=1000\n    NB=1000\n    ntest=ntest.astype(int)\n    z1=fact(NA)/(fact(ntest)*fact(NA-ntest))\n    z1=z1.astype(np.float128)\n    z1=np.log(z1)\n    z2=fact(NB)/(fact(ntest)*fact(NB-ntest))\n    z2=z2.astype(np.float128)\n    z2=np.log(z2)\n    return z1+z2\n#sigma(1)\n#sigma(500)\n#sigma(500)\n#fact(500)\n#math.factorial(500)\n#print(sigma(600))\n#print(square(ntest))\n#print(ntest)\n#print(sigma(ntest))\n                                                       ",
    "id": "d932be83395c4d95aa21942186351cb8",
    "idx": 6,
    "time": "2021-02-16T07:29:27.727Z",
    "type": "execution"
   },
   {
    "id": "d932be83395c4d95aa21942186351cb8",
    "time": "2021-02-16T07:29:27.806Z",
    "type": "completion"
   },
   {
    "code": "def F(tautest,ntest):\n    return (2.0*ntest - tautest*sigma(ntest))",
    "id": "42da82d19b624f108c8925748ba855df",
    "idx": 7,
    "time": "2021-02-16T07:29:28.661Z",
    "type": "execution"
   },
   {
    "id": "42da82d19b624f108c8925748ba855df",
    "time": "2021-02-16T07:29:28.721Z",
    "type": "completion"
   },
   {
    "code": "def square(x,y):\n    return np.log(fact(x**2)+y**2)",
    "id": "a0275565515c41ca800c9243e5fcdc19",
    "idx": 8,
    "time": "2021-02-16T07:29:29.397Z",
    "type": "execution"
   },
   {
    "id": "a0275565515c41ca800c9243e5fcdc19",
    "time": "2021-02-16T07:29:29.463Z",
    "type": "completion"
   },
   {
    "code": "y = np.linspace(1, 500, 11)\nx = np.linspace(0, 1, 11)\n#z = fact(x)\n#z = z.astype(np.float128)\n#print(z)\n#z1 = np.log(z)\n#print(z1)  \n#z2 = sigma(y)\n#z2 = z2.astype(np.float128)\n#z2 = np.log(z2)\n#print(z2)\n\n\nx_2d, y_2d = np.meshgrid(x,y)\nprint(x_2d)\nprint(y_2d)\nz_2d = F(x_2d, y_2d)\nprint(z_2d)",
    "id": "9cdd8b47c0424735be15ebdf7177ecdb",
    "idx": 9,
    "time": "2021-02-16T07:29:30.291Z",
    "type": "execution"
   },
   {
    "id": "9cdd8b47c0424735be15ebdf7177ecdb",
    "time": "2021-02-16T07:29:30.366Z",
    "type": "completion"
   },
   {
    "code": "y = np.linspace(100, 500, 5)\nx = np.linspace(0, 1, 5)\n#z = fact(x)\n#z = z.astype(np.float128)\n#print(z)\n#z1 = np.log(z)\n#print(z1)  \n#z2 = sigma(y)\n#z2 = z2.astype(np.float128)\n#z2 = np.log(z2)\n#print(z2)\n\n\nx_2d, y_2d = np.meshgrid(x,y)\nprint(x_2d)\nprint(y_2d)\nz_2d = F(x_2d, y_2d)\nprint(z_2d)",
    "id": "9cdd8b47c0424735be15ebdf7177ecdb",
    "idx": 9,
    "time": "2021-02-16T07:32:14.602Z",
    "type": "execution"
   },
   {
    "id": "9cdd8b47c0424735be15ebdf7177ecdb",
    "time": "2021-02-16T07:32:14.675Z",
    "type": "completion"
   },
   {
    "code": "from mpl_toolkits.mplot3d import Axes3D\n\nfig = plt.figure(figsize=(8,8)) #create figure object to hold the plot\nax = Axes3D(fig) #create Axes3D object to display the plot\nax.plot_surface(x_2d, y_2d, z_2d)\nax.set_xlabel(\"$x$\")\nax.set_ylabel(\"$y$\")\nax.set_zlabel(\"$F(x,y)$\")",
    "id": "090aa9120e2d4cea89fa1f9ee3c39777",
    "idx": 10,
    "time": "2021-02-16T07:32:15.463Z",
    "type": "execution"
   },
   {
    "id": "090aa9120e2d4cea89fa1f9ee3c39777",
    "time": "2021-02-16T07:32:16.232Z",
    "type": "completion"
   },
   {
    "code": "y = np.linspace(100, 500, 10)\nx = np.linspace(0, 1, 10)\n#z = fact(x)\n#z = z.astype(np.float128)\n#print(z)\n#z1 = np.log(z)\n#print(z1)  \n#z2 = sigma(y)\n#z2 = z2.astype(np.float128)\n#z2 = np.log(z2)\n#print(z2)\n\n\nx_2d, y_2d = np.meshgrid(x,y)\nprint(x_2d)\nprint(y_2d)\nz_2d = F(x_2d, y_2d)\nprint(z_2d)",
    "id": "9cdd8b47c0424735be15ebdf7177ecdb",
    "idx": 9,
    "time": "2021-02-16T07:33:02.356Z",
    "type": "execution"
   },
   {
    "id": "9cdd8b47c0424735be15ebdf7177ecdb",
    "time": "2021-02-16T07:33:02.429Z",
    "type": "completion"
   },
   {
    "code": "from mpl_toolkits.mplot3d import Axes3D\n\nfig = plt.figure(figsize=(8,8)) #create figure object to hold the plot\nax = Axes3D(fig) #create Axes3D object to display the plot\nax.plot_surface(x_2d, y_2d, z_2d)\nax.set_xlabel(\"$x$\")\nax.set_ylabel(\"$y$\")\nax.set_zlabel(\"$F(x,y)$\")",
    "id": "090aa9120e2d4cea89fa1f9ee3c39777",
    "idx": 10,
    "time": "2021-02-16T07:33:05.424Z",
    "type": "execution"
   },
   {
    "id": "090aa9120e2d4cea89fa1f9ee3c39777",
    "time": "2021-02-16T07:33:06.001Z",
    "type": "completion"
   },
   {
    "code": "y = np.linspace(100, 500, 10)\nx = np.linspace(0, 2, 10)\n#z = fact(x)\n#z = z.astype(np.float128)\n#print(z)\n#z1 = np.log(z)\n#print(z1)  \n#z2 = sigma(y)\n#z2 = z2.astype(np.float128)\n#z2 = np.log(z2)\n#print(z2)\n\n\nx_2d, y_2d = np.meshgrid(x,y)\nprint(x_2d)\nprint(y_2d)\nz_2d = F(x_2d, y_2d)\nprint(z_2d)",
    "id": "9cdd8b47c0424735be15ebdf7177ecdb",
    "idx": 9,
    "time": "2021-02-16T07:33:56.248Z",
    "type": "execution"
   },
   {
    "id": "9cdd8b47c0424735be15ebdf7177ecdb",
    "time": "2021-02-16T07:33:56.328Z",
    "type": "completion"
   },
   {
    "code": "from mpl_toolkits.mplot3d import Axes3D\n\nfig = plt.figure(figsize=(8,8)) #create figure object to hold the plot\nax = Axes3D(fig) #create Axes3D object to display the plot\nax.plot_surface(x_2d, y_2d, z_2d)\nax.set_xlabel(\"$x$\")\nax.set_ylabel(\"$y$\")\nax.set_zlabel(\"$F(x,y)$\")",
    "id": "090aa9120e2d4cea89fa1f9ee3c39777",
    "idx": 10,
    "time": "2021-02-16T07:33:58.991Z",
    "type": "execution"
   },
   {
    "id": "090aa9120e2d4cea89fa1f9ee3c39777",
    "time": "2021-02-16T07:34:00.050Z",
    "type": "completion"
   },
   {
    "code": "y = np.linspace(0, 30, 10)\nx = np.linspace(0, 2, 10)\n#z = fact(x)\n#z = z.astype(np.float128)\n#print(z)\n#z1 = np.log(z)\n#print(z1)  \n#z2 = sigma(y)\n#z2 = z2.astype(np.float128)\n#z2 = np.log(z2)\n#print(z2)\n\n\nx_2d, y_2d = np.meshgrid(x,y)\nprint(x_2d)\nprint(y_2d)\nz_2d = F(x_2d, y_2d)\nprint(z_2d)",
    "id": "9cdd8b47c0424735be15ebdf7177ecdb",
    "idx": 9,
    "time": "2021-02-16T07:37:20.728Z",
    "type": "execution"
   },
   {
    "id": "9cdd8b47c0424735be15ebdf7177ecdb",
    "time": "2021-02-16T07:37:20.807Z",
    "type": "completion"
   },
   {
    "code": "y = np.linspace(0, 30, 10)\nx = np.linspace(0, 2, 10)\n#z = fact(x)\n#z = z.astype(np.float128)\n#print(z)\n#z1 = np.log(z)\n#print(z1)  \n#z2 = sigma(y)\n#z2 = z2.astype(np.float128)\n#z2 = np.log(z2)\n#print(z2)\n\n\nx_2d, y_2d = np.meshgrid(x,y)\nprint(x_2d)\nprint(y_2d)\nz_2d = F(x_2d, y_2d)\nprint(z_2d)\ns_2d = sigma(y_2d)\nprint(z_2d)",
    "id": "9cdd8b47c0424735be15ebdf7177ecdb",
    "idx": 9,
    "time": "2021-02-16T07:40:32.266Z",
    "type": "execution"
   },
   {
    "id": "9cdd8b47c0424735be15ebdf7177ecdb",
    "time": "2021-02-16T07:40:32.369Z",
    "type": "completion"
   },
   {
    "code": "y = np.linspace(0, 30, 10)\nx = np.linspace(0, 2, 10)\n#z = fact(x)\n#z = z.astype(np.float128)\n#print(z)\n#z1 = np.log(z)\n#print(z1)  \n#z2 = sigma(y)\n#z2 = z2.astype(np.float128)\n#z2 = np.log(z2)\n#print(z2)\n\n\nx_2d, y_2d = np.meshgrid(x,y)\nprint(x_2d)\nprint(y_2d)\nz_2d = F(x_2d, y_2d)\nprint(z_2d)\ns_2d = sigma(y_2d)\nprint(s_2d)",
    "id": "9cdd8b47c0424735be15ebdf7177ecdb",
    "idx": 9,
    "time": "2021-02-16T07:40:59.362Z",
    "type": "execution"
   },
   {
    "id": "9cdd8b47c0424735be15ebdf7177ecdb",
    "time": "2021-02-16T07:40:59.456Z",
    "type": "completion"
   },
   {
    "code": "y = np.linspace(0, 300, 10)\nx = np.linspace(0, 1, 10)\n#z = fact(x)\n#z = z.astype(np.float128)\n#print(z)\n#z1 = np.log(z)\n#print(z1)  \n#z2 = sigma(y)\n#z2 = z2.astype(np.float128)\n#z2 = np.log(z2)\n#print(z2)\n\n\nx_2d, y_2d = np.meshgrid(x,y)\nprint(x_2d)\nprint(y_2d)\nz_2d = F(x_2d, y_2d)\nprint(z_2d)\ns_2d = sigma(y_2d)\nprint(s_2d)",
    "id": "9cdd8b47c0424735be15ebdf7177ecdb",
    "idx": 9,
    "time": "2021-02-16T07:43:02.794Z",
    "type": "execution"
   },
   {
    "id": "9cdd8b47c0424735be15ebdf7177ecdb",
    "time": "2021-02-16T07:43:02.888Z",
    "type": "completion"
   },
   {
    "code": "from mpl_toolkits.mplot3d import Axes3D\n\nfig = plt.figure(figsize=(8,8)) #create figure object to hold the plot\nax = Axes3D(fig) #create Axes3D object to display the plot\nax.plot_surface(x_2d, y_2d, z_2d)\nax.set_xlabel(\"$x$\")\nax.set_ylabel(\"$y$\")\nax.set_zlabel(\"$F(x,y)$\")",
    "id": "090aa9120e2d4cea89fa1f9ee3c39777",
    "idx": 10,
    "time": "2021-02-16T07:43:05.166Z",
    "type": "execution"
   },
   {
    "id": "090aa9120e2d4cea89fa1f9ee3c39777",
    "time": "2021-02-16T07:43:05.723Z",
    "type": "completion"
   },
   {
    "code": "y = np.linspace(0, 300, 100)\nx = np.linspace(0, 1, 100)\n#z = fact(x)\n#z = z.astype(np.float128)\n#print(z)\n#z1 = np.log(z)\n#print(z1)  \n#z2 = sigma(y)\n#z2 = z2.astype(np.float128)\n#z2 = np.log(z2)\n#print(z2)\n\n\nx_2d, y_2d = np.meshgrid(x,y)\nprint(x_2d)\nprint(y_2d)\nz_2d = F(x_2d, y_2d)\nprint(z_2d)\ns_2d = sigma(y_2d)\nprint(s_2d)",
    "id": "9cdd8b47c0424735be15ebdf7177ecdb",
    "idx": 9,
    "time": "2021-02-16T07:51:36.186Z",
    "type": "execution"
   },
   {
    "id": "9cdd8b47c0424735be15ebdf7177ecdb",
    "time": "2021-02-16T07:51:36.762Z",
    "type": "completion"
   },
   {
    "code": "from mpl_toolkits.mplot3d import Axes3D\n\nfig = plt.figure(figsize=(8,8)) #create figure object to hold the plot\nax = Axes3D(fig) #create Axes3D object to display the plot\nax.plot_surface(x_2d, y_2d, z_2d)\nax.set_xlabel(\"$x$\")\nax.set_ylabel(\"$y$\")\nax.set_zlabel(\"$F(x,y)$\")",
    "id": "090aa9120e2d4cea89fa1f9ee3c39777",
    "idx": 10,
    "time": "2021-02-16T07:51:40.482Z",
    "type": "execution"
   },
   {
    "id": "090aa9120e2d4cea89fa1f9ee3c39777",
    "time": "2021-02-16T07:51:41.388Z",
    "type": "completion"
   },
   {
    "code": "y = np.linspace(0, 300, 100)\nx = np.linspace(0, 2, 100)\n#z = fact(x)\n#z = z.astype(np.float128)\n#print(z)\n#z1 = np.log(z)\n#print(z1)  \n#z2 = sigma(y)\n#z2 = z2.astype(np.float128)\n#z2 = np.log(z2)\n#print(z2)\n\n\nx_2d, y_2d = np.meshgrid(x,y)\nprint(x_2d)\nprint(y_2d)\nz_2d = F(x_2d, y_2d)\nprint(z_2d)\ns_2d = sigma(y_2d)\nprint(s_2d)",
    "id": "9cdd8b47c0424735be15ebdf7177ecdb",
    "idx": 9,
    "time": "2021-02-16T07:52:20.855Z",
    "type": "execution"
   },
   {
    "id": "9cdd8b47c0424735be15ebdf7177ecdb",
    "time": "2021-02-16T07:52:21.534Z",
    "type": "completion"
   },
   {
    "code": "from mpl_toolkits.mplot3d import Axes3D\n\nfig = plt.figure(figsize=(8,8)) #create figure object to hold the plot\nax = Axes3D(fig) #create Axes3D object to display the plot\nax.plot_surface(x_2d, y_2d, z_2d)\nax.set_xlabel(\"$x$\")\nax.set_ylabel(\"$y$\")\nax.set_zlabel(\"$F(x,y)$\")",
    "id": "090aa9120e2d4cea89fa1f9ee3c39777",
    "idx": 10,
    "time": "2021-02-16T07:52:25.064Z",
    "type": "execution"
   },
   {
    "id": "090aa9120e2d4cea89fa1f9ee3c39777",
    "time": "2021-02-16T07:52:26.126Z",
    "type": "completion"
   },
   {
    "code": "y = np.linspace(0, 300, 100)\nx = np.linspace(0, 0.2, 100)\n#z = fact(x)\n#z = z.astype(np.float128)\n#print(z)\n#z1 = np.log(z)\n#print(z1)  \n#z2 = sigma(y)\n#z2 = z2.astype(np.float128)\n#z2 = np.log(z2)\n#print(z2)\n\n\nx_2d, y_2d = np.meshgrid(x,y)\nprint(x_2d)\nprint(y_2d)\nz_2d = F(x_2d, y_2d)\nprint(z_2d)\ns_2d = sigma(y_2d)\nprint(s_2d)",
    "id": "9cdd8b47c0424735be15ebdf7177ecdb",
    "idx": 9,
    "time": "2021-02-16T08:23:54.841Z",
    "type": "execution"
   },
   {
    "id": "9cdd8b47c0424735be15ebdf7177ecdb",
    "time": "2021-02-16T08:23:55.804Z",
    "type": "completion"
   },
   {
    "code": "from mpl_toolkits.mplot3d import Axes3D\n\nfig = plt.figure(figsize=(8,8)) #create figure object to hold the plot\nax = Axes3D(fig) #create Axes3D object to display the plot\nax.plot_surface(x_2d, y_2d, z_2d)\nax.set_xlabel(\"$x$\")\nax.set_ylabel(\"$y$\")\nax.set_zlabel(\"$F(x,y)$\")",
    "id": "090aa9120e2d4cea89fa1f9ee3c39777",
    "idx": 10,
    "time": "2021-02-16T08:23:58.031Z",
    "type": "execution"
   },
   {
    "id": "090aa9120e2d4cea89fa1f9ee3c39777",
    "time": "2021-02-16T08:23:59.730Z",
    "type": "completion"
   },
   {
    "code": "y = np.linspace(0, 100, 100)\nx = np.linspace(0, 0.2, 100)\n#z = fact(x)\n#z = z.astype(np.float128)\n#print(z)\n#z1 = np.log(z)\n#print(z1)  \n#z2 = sigma(y)\n#z2 = z2.astype(np.float128)\n#z2 = np.log(z2)\n#print(z2)\n\n\nx_2d, y_2d = np.meshgrid(x,y)\nprint(x_2d)\nprint(y_2d)\nz_2d = F(x_2d, y_2d)\nprint(z_2d)\ns_2d = sigma(y_2d)\nprint(s_2d)",
    "id": "9cdd8b47c0424735be15ebdf7177ecdb",
    "idx": 9,
    "time": "2021-02-16T08:24:36.101Z",
    "type": "execution"
   },
   {
    "id": "9cdd8b47c0424735be15ebdf7177ecdb",
    "time": "2021-02-16T08:24:36.523Z",
    "type": "completion"
   },
   {
    "code": "from mpl_toolkits.mplot3d import Axes3D\n\nfig = plt.figure(figsize=(8,8)) #create figure object to hold the plot\nax = Axes3D(fig) #create Axes3D object to display the plot\nax.plot_surface(x_2d, y_2d, z_2d)\nax.set_xlabel(\"$x$\")\nax.set_ylabel(\"$y$\")\nax.set_zlabel(\"$F(x,y)$\")",
    "id": "090aa9120e2d4cea89fa1f9ee3c39777",
    "idx": 10,
    "time": "2021-02-16T08:24:40.747Z",
    "type": "execution"
   },
   {
    "id": "090aa9120e2d4cea89fa1f9ee3c39777",
    "time": "2021-02-16T08:24:42.022Z",
    "type": "completion"
   },
   {
    "code": "y = np.linspace(1, 100, 100)\nx = np.linspace(0, 0.2, 100)\n#z = fact(x)\n#z = z.astype(np.float128)\n#print(z)\n#z1 = np.log(z)\n#print(z1)  \n#z2 = sigma(y)\n#z2 = z2.astype(np.float128)\n#z2 = np.log(z2)\n#print(z2)\n\n\nx_2d, y_2d = np.meshgrid(x,y)\nprint(x_2d)\nprint(y_2d)\nz_2d = F(x_2d, y_2d)\nprint(z_2d)\ns_2d = sigma(y_2d)\nprint(s_2d)",
    "id": "9cdd8b47c0424735be15ebdf7177ecdb",
    "idx": 9,
    "time": "2021-02-16T08:25:17.289Z",
    "type": "execution"
   },
   {
    "id": "9cdd8b47c0424735be15ebdf7177ecdb",
    "time": "2021-02-16T08:25:17.738Z",
    "type": "completion"
   },
   {
    "code": "from mpl_toolkits.mplot3d import Axes3D\n\nfig = plt.figure(figsize=(8,8)) #create figure object to hold the plot\nax = Axes3D(fig) #create Axes3D object to display the plot\nax.plot_surface(x_2d, y_2d, z_2d)\nax.set_xlabel(\"$x$\")\nax.set_ylabel(\"$y$\")\nax.set_zlabel(\"$F(x,y)$\")",
    "id": "090aa9120e2d4cea89fa1f9ee3c39777",
    "idx": 10,
    "time": "2021-02-16T08:25:18.987Z",
    "type": "execution"
   },
   {
    "id": "090aa9120e2d4cea89fa1f9ee3c39777",
    "time": "2021-02-16T08:25:20.210Z",
    "type": "completion"
   },
   {
    "code": "y = np.linspace(1, 20, 100)\nx = np.linspace(0, 0.2, 100)\n#z = fact(x)\n#z = z.astype(np.float128)\n#print(z)\n#z1 = np.log(z)\n#print(z1)  \n#z2 = sigma(y)\n#z2 = z2.astype(np.float128)\n#z2 = np.log(z2)\n#print(z2)\n\n\nx_2d, y_2d = np.meshgrid(x,y)\nprint(x_2d)\nprint(y_2d)\nz_2d = F(x_2d, y_2d)\nprint(z_2d)\ns_2d = sigma(y_2d)\nprint(s_2d)",
    "id": "9cdd8b47c0424735be15ebdf7177ecdb",
    "idx": 9,
    "time": "2021-02-16T08:25:51.629Z",
    "type": "execution"
   },
   {
    "id": "9cdd8b47c0424735be15ebdf7177ecdb",
    "time": "2021-02-16T08:25:51.963Z",
    "type": "completion"
   },
   {
    "code": "y = np.linspace(1, 20, 100)\nx = np.linspace(0, 0.2, 100)\n#z = fact(x)\n#z = z.astype(np.float128)\n#print(z)\n#z1 = np.log(z)\n#print(z1)  \n#z2 = sigma(y)\n#z2 = z2.astype(np.float128)\n#z2 = np.log(z2)\n#print(z2)\n\n\nx_2d, y_2d = np.meshgrid(x,y)\nprint(x_2d)\nprint(y_2d)\nz_2d = F(x_2d, y_2d)\nprint(z_2d)\ns_2d = sigma(y_2d)\nprint(s_2d)",
    "id": "9cdd8b47c0424735be15ebdf7177ecdb",
    "idx": 9,
    "time": "2021-02-16T08:26:15.646Z",
    "type": "execution"
   },
   {
    "id": "9cdd8b47c0424735be15ebdf7177ecdb",
    "time": "2021-02-16T08:26:15.996Z",
    "type": "completion"
   },
   {
    "code": "from mpl_toolkits.mplot3d import Axes3D\n\nfig = plt.figure(figsize=(8,8)) #create figure object to hold the plot\nax = Axes3D(fig) #create Axes3D object to display the plot\nax.plot_surface(x_2d, y_2d, z_2d)\nax.set_xlabel(\"$x$\")\nax.set_ylabel(\"$y$\")\nax.set_zlabel(\"$F(x,y)$\")",
    "id": "090aa9120e2d4cea89fa1f9ee3c39777",
    "idx": 10,
    "time": "2021-02-16T08:26:17.251Z",
    "type": "execution"
   },
   {
    "id": "090aa9120e2d4cea89fa1f9ee3c39777",
    "time": "2021-02-16T08:26:18.381Z",
    "type": "completion"
   },
   {
    "code": "# import numpy as np\nimport math as math\nimport scipy.stats as st\nimport scipy.special  \nimport matplotlib.pyplot as plt\n\nN = 1000\nn = []\nfor i in range((N//3)):\n    n.append(i/1.0)\n\ntau = []\nfor i in range((1000)):\n    tau.append(i/1000)\n\ndef fact(x):\n    return scipy.special.factorial(x, exact=True)\n\ndef sigma(ntest): \n    NA=500\n    NB=500\n    ntest=ntest.astype(int)\n    z1=fact(NA)/(fact(ntest)*fact(NA-ntest))\n    z1=z1.astype(np.float128)\n    z1=np.log(z1)\n    z2=fact(NB)/(fact(ntest)*fact(NB-ntest))\n    z2=z2.astype(np.float128)\n    z2=np.log(z2)\n    return z1+z2\n#sigma(1)\n#sigma(500)\n#sigma(500)\n#fact(500)\n#math.factorial(500)\n#print(sigma(600))\n#print(square(ntest))\n#print(ntest)\n#print(sigma(ntest))\n                                                       ",
    "id": "d932be83395c4d95aa21942186351cb8",
    "idx": 6,
    "time": "2021-02-16T08:27:11.434Z",
    "type": "execution"
   },
   {
    "id": "d932be83395c4d95aa21942186351cb8",
    "time": "2021-02-16T08:27:11.502Z",
    "type": "completion"
   },
   {
    "code": "def F(tautest,ntest):\n    return (2.0*ntest - tautest*sigma(ntest))",
    "id": "42da82d19b624f108c8925748ba855df",
    "idx": 7,
    "time": "2021-02-16T08:27:12.241Z",
    "type": "execution"
   },
   {
    "id": "42da82d19b624f108c8925748ba855df",
    "time": "2021-02-16T08:27:12.302Z",
    "type": "completion"
   },
   {
    "code": "def square(x,y):\n    return np.log(fact(x**2)+y**2)",
    "id": "a0275565515c41ca800c9243e5fcdc19",
    "idx": 8,
    "time": "2021-02-16T08:27:12.782Z",
    "type": "execution"
   },
   {
    "id": "a0275565515c41ca800c9243e5fcdc19",
    "time": "2021-02-16T08:27:12.839Z",
    "type": "completion"
   },
   {
    "code": "y = np.linspace(1, 20, 100)\nx = np.linspace(0, 0.2, 100)\n#z = fact(x)\n#z = z.astype(np.float128)\n#print(z)\n#z1 = np.log(z)\n#print(z1)  \n#z2 = sigma(y)\n#z2 = z2.astype(np.float128)\n#z2 = np.log(z2)\n#print(z2)\n\n\nx_2d, y_2d = np.meshgrid(x,y)\nprint(x_2d)\nprint(y_2d)\nz_2d = F(x_2d, y_2d)\nprint(z_2d)\ns_2d = sigma(y_2d)\nprint(s_2d)",
    "id": "9cdd8b47c0424735be15ebdf7177ecdb",
    "idx": 9,
    "time": "2021-02-16T08:27:13.396Z",
    "type": "execution"
   },
   {
    "id": "9cdd8b47c0424735be15ebdf7177ecdb",
    "time": "2021-02-16T08:27:13.609Z",
    "type": "completion"
   },
   {
    "code": "from mpl_toolkits.mplot3d import Axes3D\n\nfig = plt.figure(figsize=(8,8)) #create figure object to hold the plot\nax = Axes3D(fig) #create Axes3D object to display the plot\nax.plot_surface(x_2d, y_2d, z_2d)\nax.set_xlabel(\"$x$\")\nax.set_ylabel(\"$y$\")\nax.set_zlabel(\"$F(x,y)$\")",
    "id": "090aa9120e2d4cea89fa1f9ee3c39777",
    "idx": 10,
    "time": "2021-02-16T08:27:14.620Z",
    "type": "execution"
   },
   {
    "id": "090aa9120e2d4cea89fa1f9ee3c39777",
    "time": "2021-02-16T08:27:15.783Z",
    "type": "completion"
   },
   {
    "code": "y = np.linspace(1, 20, 100)\nx = np.linspace(0, 0.4, 100)\n#z = fact(x)\n#z = z.astype(np.float128)\n#print(z)\n#z1 = np.log(z)\n#print(z1)  \n#z2 = sigma(y)\n#z2 = z2.astype(np.float128)\n#z2 = np.log(z2)\n#print(z2)\n\n\nx_2d, y_2d = np.meshgrid(x,y)\nprint(x_2d)\nprint(y_2d)\nz_2d = F(x_2d, y_2d)\nprint(z_2d)\ns_2d = sigma(y_2d)\nprint(s_2d)",
    "id": "9cdd8b47c0424735be15ebdf7177ecdb",
    "idx": 9,
    "time": "2021-02-16T08:27:56.213Z",
    "type": "execution"
   },
   {
    "id": "9cdd8b47c0424735be15ebdf7177ecdb",
    "time": "2021-02-16T08:27:56.430Z",
    "type": "completion"
   },
   {
    "code": "from mpl_toolkits.mplot3d import Axes3D\n\nfig = plt.figure(figsize=(8,8)) #create figure object to hold the plot\nax = Axes3D(fig) #create Axes3D object to display the plot\nax.plot_surface(x_2d, y_2d, z_2d)\nax.set_xlabel(\"$x$\")\nax.set_ylabel(\"$y$\")\nax.set_zlabel(\"$F(x,y)$\")",
    "id": "090aa9120e2d4cea89fa1f9ee3c39777",
    "idx": 10,
    "time": "2021-02-16T08:27:58.230Z",
    "type": "execution"
   },
   {
    "id": "090aa9120e2d4cea89fa1f9ee3c39777",
    "time": "2021-02-16T08:27:59.382Z",
    "type": "completion"
   },
   {
    "code": "y = np.linspace(1, 20, 100)\nx = np.linspace(0, 1, 100)\n#z = fact(x)\n#z = z.astype(np.float128)\n#print(z)\n#z1 = np.log(z)\n#print(z1)  \n#z2 = sigma(y)\n#z2 = z2.astype(np.float128)\n#z2 = np.log(z2)\n#print(z2)\n\n\nx_2d, y_2d = np.meshgrid(x,y)\nprint(x_2d)\nprint(y_2d)\nz_2d = F(x_2d, y_2d)\nprint(z_2d)\ns_2d = sigma(y_2d)\nprint(s_2d)",
    "id": "9cdd8b47c0424735be15ebdf7177ecdb",
    "idx": 9,
    "time": "2021-02-16T08:29:13.099Z",
    "type": "execution"
   },
   {
    "id": "9cdd8b47c0424735be15ebdf7177ecdb",
    "time": "2021-02-16T08:29:13.294Z",
    "type": "completion"
   },
   {
    "code": "from mpl_toolkits.mplot3d import Axes3D\n\nfig = plt.figure(figsize=(8,8)) #create figure object to hold the plot\nax = Axes3D(fig) #create Axes3D object to display the plot\nax.plot_surface(x_2d, y_2d, z_2d)\nax.set_xlabel(\"$x$\")\nax.set_ylabel(\"$y$\")\nax.set_zlabel(\"$F(x,y)$\")",
    "id": "090aa9120e2d4cea89fa1f9ee3c39777",
    "idx": 10,
    "time": "2021-02-16T08:29:13.646Z",
    "type": "execution"
   },
   {
    "id": "090aa9120e2d4cea89fa1f9ee3c39777",
    "time": "2021-02-16T08:29:14.687Z",
    "type": "completion"
   },
   {
    "code": "y = np.linspace(1, 100, 100)\nx = np.linspace(0, 1, 100)\n#z = fact(x)\n#z = z.astype(np.float128)\n#print(z)\n#z1 = np.log(z)\n#print(z1)  \n#z2 = sigma(y)\n#z2 = z2.astype(np.float128)\n#z2 = np.log(z2)\n#print(z2)\n\n\nx_2d, y_2d = np.meshgrid(x,y)\nprint(x_2d)\nprint(y_2d)\nz_2d = F(x_2d, y_2d)\nprint(z_2d)\ns_2d = sigma(y_2d)\nprint(s_2d)",
    "id": "9cdd8b47c0424735be15ebdf7177ecdb",
    "idx": 9,
    "time": "2021-02-16T08:29:46.158Z",
    "type": "execution"
   },
   {
    "id": "9cdd8b47c0424735be15ebdf7177ecdb",
    "time": "2021-02-16T08:29:46.451Z",
    "type": "completion"
   },
   {
    "code": "from mpl_toolkits.mplot3d import Axes3D\n\nfig = plt.figure(figsize=(8,8)) #create figure object to hold the plot\nax = Axes3D(fig) #create Axes3D object to display the plot\nax.plot_surface(x_2d, y_2d, z_2d)\nax.set_xlabel(\"$x$\")\nax.set_ylabel(\"$y$\")\nax.set_zlabel(\"$F(x,y)$\")",
    "id": "090aa9120e2d4cea89fa1f9ee3c39777",
    "idx": 10,
    "time": "2021-02-16T08:29:48.185Z",
    "type": "execution"
   },
   {
    "id": "090aa9120e2d4cea89fa1f9ee3c39777",
    "time": "2021-02-16T08:29:49.134Z",
    "type": "completion"
   },
   {
    "code": "result = numpy.where(z2 == numpy.amin(z2))",
    "id": "43ad28b6b87f42989fd8b077a4479b02",
    "idx": 13,
    "time": "2021-02-16T09:27:28.484Z",
    "type": "execution"
   },
   {
    "id": "43ad28b6b87f42989fd8b077a4479b02",
    "time": "2021-02-16T09:27:28.579Z",
    "type": "completion"
   },
   {
    "code": "result = np.where(z2 == numpy.amin(z2))",
    "id": "43ad28b6b87f42989fd8b077a4479b02",
    "idx": 13,
    "time": "2021-02-16T09:27:46.391Z",
    "type": "execution"
   },
   {
    "id": "43ad28b6b87f42989fd8b077a4479b02",
    "time": "2021-02-16T09:27:46.453Z",
    "type": "completion"
   },
   {
    "code": "result = np.where(z2 == np.amin(z2))",
    "id": "43ad28b6b87f42989fd8b077a4479b02",
    "idx": 13,
    "time": "2021-02-16T09:27:56.434Z",
    "type": "execution"
   },
   {
    "id": "43ad28b6b87f42989fd8b077a4479b02",
    "time": "2021-02-16T09:27:56.493Z",
    "type": "completion"
   },
   {
    "code": "result = np.where(z2 == np.amin(z2))\nresult",
    "id": "43ad28b6b87f42989fd8b077a4479b02",
    "idx": 13,
    "time": "2021-02-16T09:28:08.645Z",
    "type": "execution"
   },
   {
    "id": "43ad28b6b87f42989fd8b077a4479b02",
    "time": "2021-02-16T09:28:08.722Z",
    "type": "completion"
   },
   {
    "code": "result = np.where(z_2d == np.amin(z_2d))\nresult",
    "id": "43ad28b6b87f42989fd8b077a4479b02",
    "idx": 13,
    "time": "2021-02-16T09:29:10.911Z",
    "type": "execution"
   },
   {
    "id": "43ad28b6b87f42989fd8b077a4479b02",
    "time": "2021-02-16T09:29:11.003Z",
    "type": "completion"
   },
   {
    "code": "result = np.where(z_2d == np.amax(z_2d))\nresult",
    "id": "43ad28b6b87f42989fd8b077a4479b02",
    "idx": 13,
    "time": "2021-02-16T09:29:40.410Z",
    "type": "execution"
   },
   {
    "id": "43ad28b6b87f42989fd8b077a4479b02",
    "time": "2021-02-16T09:29:40.472Z",
    "type": "completion"
   },
   {
    "code": "minInRows = np.amin(z_2d, axis=2)\nminInRows",
    "id": "c42c3ab8dd6944ad8a98135330743341",
    "idx": 14,
    "time": "2021-02-16T09:31:47.467Z",
    "type": "execution"
   },
   {
    "id": "c42c3ab8dd6944ad8a98135330743341",
    "time": "2021-02-16T09:31:48.571Z",
    "type": "completion"
   },
   {
    "code": "minInRows = np.amin(z_2d, axis=1)\nminInRows",
    "id": "c42c3ab8dd6944ad8a98135330743341",
    "idx": 14,
    "time": "2021-02-16T09:32:04.914Z",
    "type": "execution"
   },
   {
    "id": "c42c3ab8dd6944ad8a98135330743341",
    "time": "2021-02-16T09:32:04.977Z",
    "type": "completion"
   },
   {
    "code": "minInRows = np.where(z_2d == np.amin(z_2d, axis=1))\nminInRows",
    "id": "c42c3ab8dd6944ad8a98135330743341",
    "idx": 14,
    "time": "2021-02-16T09:34:05.409Z",
    "type": "execution"
   },
   {
    "id": "c42c3ab8dd6944ad8a98135330743341",
    "time": "2021-02-16T09:34:05.499Z",
    "type": "completion"
   },
   {
    "code": "minInRows = np.where(z_2d == np.amin(z_2d, axis=1))\nresult = numpy.where(z_2d == np.amin(arr2D),axiz=1)\nresult",
    "id": "c42c3ab8dd6944ad8a98135330743341",
    "idx": 14,
    "time": "2021-02-16T09:43:53.856Z",
    "type": "execution"
   },
   {
    "id": "c42c3ab8dd6944ad8a98135330743341",
    "time": "2021-02-16T09:43:53.952Z",
    "type": "completion"
   },
   {
    "code": "minInRows = np.where(z_2d == np.amin(z_2d, axis=1))\nresult = np.where(z_2d == np.amin(arr2D),axiz=1)\nresult",
    "id": "c42c3ab8dd6944ad8a98135330743341",
    "idx": 14,
    "time": "2021-02-16T09:44:06.074Z",
    "type": "execution"
   },
   {
    "id": "c42c3ab8dd6944ad8a98135330743341",
    "time": "2021-02-16T09:44:06.146Z",
    "type": "completion"
   },
   {
    "code": "minInRows = np.where(z_2d == np.amin(z_2d, axis=1))\nresult = np.where(z_2d == np.amin(z_2d),axiz=1)\nresult",
    "id": "c42c3ab8dd6944ad8a98135330743341",
    "idx": 14,
    "time": "2021-02-16T09:44:24.137Z",
    "type": "execution"
   },
   {
    "id": "c42c3ab8dd6944ad8a98135330743341",
    "time": "2021-02-16T09:44:24.215Z",
    "type": "completion"
   },
   {
    "code": "minInRows = np.where(z_2d == np.amin(z_2d, axis=1))\nresult = np.where(z_2d == np.amin(z_2d),axis=1)\nresult",
    "id": "c42c3ab8dd6944ad8a98135330743341",
    "idx": 14,
    "time": "2021-02-16T09:44:39.587Z",
    "type": "execution"
   },
   {
    "id": "c42c3ab8dd6944ad8a98135330743341",
    "time": "2021-02-16T09:44:39.663Z",
    "type": "completion"
   },
   {
    "code": "minInRows = np.where(z_2d == np.amin(z_2d, axis=1))\nresult = np.where(z_2d == np.amin(z_2d,axis=1)\nresult",
    "id": "c42c3ab8dd6944ad8a98135330743341",
    "idx": 14,
    "time": "2021-02-16T09:44:59.905Z",
    "type": "execution"
   },
   {
    "id": "c42c3ab8dd6944ad8a98135330743341",
    "time": "2021-02-16T09:44:59.976Z",
    "type": "completion"
   },
   {
    "code": "minInRows = np.where(z_2d == np.amin(z_2d, axis=1))\nresult = np.where(z_2d == np.amin(z_2d,axis=1)\nprint(result)",
    "id": "c42c3ab8dd6944ad8a98135330743341",
    "idx": 14,
    "time": "2021-02-16T09:45:21.467Z",
    "type": "execution"
   },
   {
    "id": "c42c3ab8dd6944ad8a98135330743341",
    "time": "2021-02-16T09:45:21.527Z",
    "type": "completion"
   },
   {
    "code": "minInRows = np.where(z_2d == np.amin(z_2d, axis=1))\nresult = np.where(z_2d == np.amin(z_2d),axis=1)\nprint(result)",
    "id": "c42c3ab8dd6944ad8a98135330743341",
    "idx": 14,
    "time": "2021-02-16T09:46:48.491Z",
    "type": "execution"
   },
   {
    "id": "c42c3ab8dd6944ad8a98135330743341",
    "time": "2021-02-16T09:46:48.589Z",
    "type": "completion"
   },
   {
    "code": "minInRows = np.where(z_2d == np.amin(z_2d, axis=1))\nresult = np.where(z_2d == np.amin(z_2d), axis=1)\nprint(minInRows)",
    "id": "c42c3ab8dd6944ad8a98135330743341",
    "idx": 14,
    "time": "2021-02-16T09:48:59.420Z",
    "type": "execution"
   },
   {
    "id": "c42c3ab8dd6944ad8a98135330743341",
    "time": "2021-02-16T09:48:59.518Z",
    "type": "completion"
   },
   {
    "code": "minInRows = np.where(z_2d == np.amin(z_2d, axis=1))\n#result = np.where(z_2d == np.amin(z_2d), axis=1)\nprint(minInRows)",
    "id": "c42c3ab8dd6944ad8a98135330743341",
    "idx": 14,
    "time": "2021-02-16T09:49:08.802Z",
    "type": "execution"
   },
   {
    "id": "c42c3ab8dd6944ad8a98135330743341",
    "time": "2021-02-16T09:49:08.869Z",
    "type": "completion"
   },
   {
    "code": "\nprint(Z_2d)\nresult = np.where(z_2d == np.amax(z_2d))\nresult",
    "id": "43ad28b6b87f42989fd8b077a4479b02",
    "idx": 13,
    "time": "2021-02-16T09:50:52.068Z",
    "type": "execution"
   },
   {
    "id": "43ad28b6b87f42989fd8b077a4479b02",
    "time": "2021-02-16T09:50:52.150Z",
    "type": "completion"
   },
   {
    "code": "\nprint(z_2d)\nresult = np.where(z_2d == np.amax(z_2d))\nresult",
    "id": "43ad28b6b87f42989fd8b077a4479b02",
    "idx": 13,
    "time": "2021-02-16T09:50:59.175Z",
    "type": "execution"
   },
   {
    "id": "43ad28b6b87f42989fd8b077a4479b02",
    "time": "2021-02-16T09:50:59.255Z",
    "type": "completion"
   },
   {
    "code": "minInRows = np.where(z_2d == np.amin(z_2d, axis=1))\n#result = np.where(z_2d == np.amin(z_2d), axis=1)\nprint(minInRows)",
    "id": "c42c3ab8dd6944ad8a98135330743341",
    "idx": 14,
    "time": "2021-02-16T09:52:29.742Z",
    "type": "execution"
   },
   {
    "id": "c42c3ab8dd6944ad8a98135330743341",
    "time": "2021-02-16T09:52:29.803Z",
    "type": "completion"
   },
   {
    "code": "minInRows = np.where(z_2d == np.amin(z_2d))\n#result = np.where(z_2d == np.amin(z_2d), axis=1)\nprint(minInRows)",
    "id": "c42c3ab8dd6944ad8a98135330743341",
    "idx": 14,
    "time": "2021-02-16T09:52:48.129Z",
    "type": "execution"
   },
   {
    "id": "c42c3ab8dd6944ad8a98135330743341",
    "time": "2021-02-16T09:52:48.190Z",
    "type": "completion"
   },
   {
    "code": "result = numpy.where(arr2D == numpy.amin(arr2D))",
    "id": "a17c7d83990f4219bc01649f18a63aca",
    "idx": 15,
    "time": "2021-02-16T09:52:49.037Z",
    "type": "execution"
   },
   {
    "id": "a17c7d83990f4219bc01649f18a63aca",
    "time": "2021-02-16T09:52:49.109Z",
    "type": "completion"
   },
   {
    "code": "minInRows = np.where(z_2d == np.amin(z_2d, axis=1))\n#result = np.where(z_2d == np.amin(z_2d), axis=1)\nprint(minInRows)",
    "id": "c42c3ab8dd6944ad8a98135330743341",
    "idx": 14,
    "time": "2021-02-16T09:53:27.867Z",
    "type": "execution"
   },
   {
    "id": "c42c3ab8dd6944ad8a98135330743341",
    "time": "2021-02-16T09:53:27.928Z",
    "type": "completion"
   },
   {
    "code": "minInRows = np.where(z_2d == np.amin(z_2d, axis=0))\n#result = np.where(z_2d == np.amin(z_2d), axis=1)\nprint(minInRows)",
    "id": "c42c3ab8dd6944ad8a98135330743341",
    "idx": 14,
    "time": "2021-02-16T09:54:55.674Z",
    "type": "execution"
   },
   {
    "id": "c42c3ab8dd6944ad8a98135330743341",
    "time": "2021-02-16T09:54:55.766Z",
    "type": "completion"
   },
   {
    "code": "minInRows = np.where(z_2d == np.amin(z_2d, axis=0))\n#result = np.where(z_2d == np.amin(z_2d), axis=1)\n",
    "id": "c42c3ab8dd6944ad8a98135330743341",
    "idx": 14,
    "time": "2021-02-16T09:55:52.838Z",
    "type": "execution"
   },
   {
    "id": "c42c3ab8dd6944ad8a98135330743341",
    "time": "2021-02-16T09:55:52.894Z",
    "type": "completion"
   },
   {
    "code": "result = numpy.where(arr2D == numpy.amin(arr2D))",
    "id": "a17c7d83990f4219bc01649f18a63aca",
    "idx": 15,
    "time": "2021-02-16T09:55:54.120Z",
    "type": "execution"
   },
   {
    "id": "a17c7d83990f4219bc01649f18a63aca",
    "time": "2021-02-16T09:55:54.189Z",
    "type": "completion"
   },
   {
    "code": "minInRows = np.where(z_2d == np.amin(z_2d, axis=0))\n#result = np.where(z_2d == np.amin(z_2d), axis=1)\nprint(minInRows)\n",
    "id": "c42c3ab8dd6944ad8a98135330743341",
    "idx": 14,
    "time": "2021-02-16T09:56:18.761Z",
    "type": "execution"
   },
   {
    "id": "c42c3ab8dd6944ad8a98135330743341",
    "time": "2021-02-16T09:56:18.823Z",
    "type": "completion"
   },
   {
    "code": "minInRows = np.where(z_2d == np.amin(z_2d, axis=1))\n#result = np.where(z_2d == np.amin(z_2d), axis=1)\nprint(minInRows)\n",
    "id": "c42c3ab8dd6944ad8a98135330743341",
    "idx": 14,
    "time": "2021-02-16T09:56:41.732Z",
    "type": "execution"
   },
   {
    "id": "c42c3ab8dd6944ad8a98135330743341",
    "time": "2021-02-16T09:56:41.797Z",
    "type": "completion"
   },
   {
    "code": "minInRows = np.where(z_2d == np.amin(z_2d, axis=2))\n#result = np.where(z_2d == np.amin(z_2d), axis=1)\nprint(minInRows)\n",
    "id": "c42c3ab8dd6944ad8a98135330743341",
    "idx": 14,
    "time": "2021-02-16T09:56:49.363Z",
    "type": "execution"
   },
   {
    "id": "c42c3ab8dd6944ad8a98135330743341",
    "time": "2021-02-16T09:56:49.453Z",
    "type": "completion"
   },
   {
    "code": "minInRows = np.where(z_2d == np.amin(z_2d, axis=0))\n#result = np.where(z_2d == np.amin(z_2d), axis=1)\nprint(minInRows)\n",
    "id": "c42c3ab8dd6944ad8a98135330743341",
    "idx": 14,
    "time": "2021-02-16T09:56:55.139Z",
    "type": "execution"
   },
   {
    "id": "c42c3ab8dd6944ad8a98135330743341",
    "time": "2021-02-16T09:56:55.200Z",
    "type": "completion"
   },
   {
    "code": "minInRows = np.where(z_2d == np.amin(z_2d, axis=0))\n#result = np.where(z_2d == np.amin(z_2d), axis=1)\nprint(minInRows)\n",
    "id": "c42c3ab8dd6944ad8a98135330743341",
    "idx": 14,
    "time": "2021-02-16T09:58:27.887Z",
    "type": "execution"
   },
   {
    "id": "c42c3ab8dd6944ad8a98135330743341",
    "time": "2021-02-16T09:58:27.978Z",
    "type": "completion"
   },
   {
    "code": "minInRows = np.where(z_2d == np.amin(z_2d, axis=0))\n#result = np.where(z_2d == np.amin(z_2d), axis=1)\nprint(minInRows(0))\n",
    "id": "c42c3ab8dd6944ad8a98135330743341",
    "idx": 14,
    "time": "2021-02-16T09:59:29.528Z",
    "type": "execution"
   },
   {
    "id": "c42c3ab8dd6944ad8a98135330743341",
    "time": "2021-02-16T09:59:29.623Z",
    "type": "completion"
   },
   {
    "code": "result = numpy.where(arr2D == numpy.amin(arr2D))",
    "id": "a17c7d83990f4219bc01649f18a63aca",
    "idx": 15,
    "time": "2021-02-16T09:59:30.948Z",
    "type": "execution"
   },
   {
    "id": "a17c7d83990f4219bc01649f18a63aca",
    "time": "2021-02-16T09:59:31.018Z",
    "type": "completion"
   },
   {
    "code": "minInRows = np.where(z_2d == np.amin(z_2d, axis=0))\n#result = np.where(z_2d == np.amin(z_2d), axis=1)\nprint(minInRows[0])\n",
    "id": "c42c3ab8dd6944ad8a98135330743341",
    "idx": 14,
    "time": "2021-02-16T09:59:44.770Z",
    "type": "execution"
   },
   {
    "id": "c42c3ab8dd6944ad8a98135330743341",
    "time": "2021-02-16T09:59:44.828Z",
    "type": "completion"
   },
   {
    "code": "plt.plot(minInROws[0]\n        , minInRows[1]\n        , 'r-'  # plot with the color red, as line\n        )",
    "id": "1f278a39cc0c4f668a4fd2ff2fa6b479",
    "idx": 16,
    "time": "2021-02-16T10:04:05.180Z",
    "type": "execution"
   },
   {
    "id": "1f278a39cc0c4f668a4fd2ff2fa6b479",
    "time": "2021-02-16T10:04:05.268Z",
    "type": "completion"
   },
   {
    "code": "minInRows = np.where(z_2d == np.amin(z_2d, axis=0))\n#result = np.where(z_2d == np.amin(z_2d), axis=1)\nprint(minInRows[0])\n",
    "id": "c42c3ab8dd6944ad8a98135330743341",
    "idx": 14,
    "time": "2021-02-16T10:04:21.166Z",
    "type": "execution"
   },
   {
    "id": "c42c3ab8dd6944ad8a98135330743341",
    "time": "2021-02-16T10:04:21.225Z",
    "type": "completion"
   },
   {
    "code": "plt.plot(minInRows[0]\n        , minInRows[1]\n        , 'r-'  # plot with the color red, as line\n        )",
    "id": "1f278a39cc0c4f668a4fd2ff2fa6b479",
    "idx": 16,
    "time": "2021-02-16T10:04:35.860Z",
    "type": "execution"
   },
   {
    "id": "1f278a39cc0c4f668a4fd2ff2fa6b479",
    "time": "2021-02-16T10:04:36.115Z",
    "type": "completion"
   },
   {
    "code": "plt.plot(minInRows[1]\n        , minInRows[0]\n        , 'r-'  # plot with the color red, as line\n        )",
    "id": "1f278a39cc0c4f668a4fd2ff2fa6b479",
    "idx": 16,
    "time": "2021-02-16T10:05:12.252Z",
    "type": "execution"
   },
   {
    "id": "1f278a39cc0c4f668a4fd2ff2fa6b479",
    "time": "2021-02-16T10:05:12.591Z",
    "type": "completion"
   },
   {
    "code": "y = np.linspace(1, 300, 100)\nx = np.linspace(0, 1, 100)\n#z = fact(x)\n#z = z.astype(np.float128)\n#print(z)\n#z1 = np.log(z)\n#print(z1)  \n#z2 = sigma(y)\n#z2 = z2.astype(np.float128)\n#z2 = np.log(z2)\n#print(z2)\n\n\nx_2d, y_2d = np.meshgrid(x,y)\nprint(x_2d)\nprint(y_2d)\nz_2d = F(x_2d, y_2d)\nprint(z_2d)\ns_2d = sigma(y_2d)\nprint(s_2d)",
    "id": "9cdd8b47c0424735be15ebdf7177ecdb",
    "idx": 9,
    "time": "2021-02-16T10:05:43.226Z",
    "type": "execution"
   },
   {
    "id": "9cdd8b47c0424735be15ebdf7177ecdb",
    "time": "2021-02-16T10:05:43.572Z",
    "type": "completion"
   },
   {
    "code": "from mpl_toolkits.mplot3d import Axes3D\n\nfig = plt.figure(figsize=(8,8)) #create figure object to hold the plot\nax = Axes3D(fig) #create Axes3D object to display the plot\nax.plot_surface(x_2d, y_2d, z_2d)\nax.set_xlabel(\"$x$\")\nax.set_ylabel(\"$y$\")\nax.set_zlabel(\"$F(x,y)$\")",
    "id": "090aa9120e2d4cea89fa1f9ee3c39777",
    "idx": 10,
    "time": "2021-02-16T10:05:44.822Z",
    "type": "execution"
   },
   {
    "id": "090aa9120e2d4cea89fa1f9ee3c39777",
    "time": "2021-02-16T10:05:45.953Z",
    "type": "completion"
   },
   {
    "code": "\nprint(z_2d)\nresult = np.where(z_2d == np.amax(z_2d))\nresult",
    "id": "43ad28b6b87f42989fd8b077a4479b02",
    "idx": 13,
    "time": "2021-02-16T10:05:47.983Z",
    "type": "execution"
   },
   {
    "id": "43ad28b6b87f42989fd8b077a4479b02",
    "time": "2021-02-16T10:05:48.044Z",
    "type": "completion"
   },
   {
    "code": "minInRows = np.where(z_2d == np.amin(z_2d, axis=0))\n#result = np.where(z_2d == np.amin(z_2d), axis=1)\nprint(minInRows[0])\n",
    "id": "c42c3ab8dd6944ad8a98135330743341",
    "idx": 14,
    "time": "2021-02-16T10:05:48.852Z",
    "type": "execution"
   },
   {
    "id": "c42c3ab8dd6944ad8a98135330743341",
    "time": "2021-02-16T10:05:49.099Z",
    "type": "completion"
   },
   {
    "code": "plt.plot(minInRows[1]\n        , minInRows[0]\n        , 'r-'  # plot with the color red, as line\n        )",
    "id": "1f278a39cc0c4f668a4fd2ff2fa6b479",
    "idx": 16,
    "time": "2021-02-16T10:05:51.541Z",
    "type": "execution"
   },
   {
    "id": "1f278a39cc0c4f668a4fd2ff2fa6b479",
    "time": "2021-02-16T10:05:51.757Z",
    "type": "completion"
   },
   {
    "code": "y = np.linspace(1, 500, 100)\nx = np.linspace(0, 2, 100)\n#z = fact(x)\n#z = z.astype(np.float128)\n#print(z)\n#z1 = np.log(z)\n#print(z1)  \n#z2 = sigma(y)\n#z2 = z2.astype(np.float128)\n#z2 = np.log(z2)\n#print(z2)\n\n\nx_2d, y_2d = np.meshgrid(x,y)\nprint(x_2d)\nprint(y_2d)\nz_2d = F(x_2d, y_2d)\nprint(z_2d)\ns_2d = sigma(y_2d)\nprint(s_2d)",
    "id": "9cdd8b47c0424735be15ebdf7177ecdb",
    "idx": 9,
    "time": "2021-02-16T10:06:31.553Z",
    "type": "execution"
   },
   {
    "id": "9cdd8b47c0424735be15ebdf7177ecdb",
    "time": "2021-02-16T10:06:31.905Z",
    "type": "completion"
   },
   {
    "code": "from mpl_toolkits.mplot3d import Axes3D\n\nfig = plt.figure(figsize=(8,8)) #create figure object to hold the plot\nax = Axes3D(fig) #create Axes3D object to display the plot\nax.plot_surface(x_2d, y_2d, z_2d)\nax.set_xlabel(\"$x$\")\nax.set_ylabel(\"$y$\")\nax.set_zlabel(\"$F(x,y)$\")",
    "id": "090aa9120e2d4cea89fa1f9ee3c39777",
    "idx": 10,
    "time": "2021-02-16T10:06:32.735Z",
    "type": "execution"
   },
   {
    "id": "090aa9120e2d4cea89fa1f9ee3c39777",
    "time": "2021-02-16T10:06:33.703Z",
    "type": "completion"
   },
   {
    "code": "\nprint(z_2d)\nresult = np.where(z_2d == np.amax(z_2d))\nresult",
    "id": "43ad28b6b87f42989fd8b077a4479b02",
    "idx": 13,
    "time": "2021-02-16T10:06:36.177Z",
    "type": "execution"
   },
   {
    "id": "43ad28b6b87f42989fd8b077a4479b02",
    "time": "2021-02-16T10:06:36.241Z",
    "type": "completion"
   },
   {
    "code": "minInRows = np.where(z_2d == np.amin(z_2d, axis=0))\n#result = np.where(z_2d == np.amin(z_2d), axis=1)\nprint(minInRows[0])\n",
    "id": "c42c3ab8dd6944ad8a98135330743341",
    "idx": 14,
    "time": "2021-02-16T10:06:37.244Z",
    "type": "execution"
   },
   {
    "id": "c42c3ab8dd6944ad8a98135330743341",
    "time": "2021-02-16T10:06:37.310Z",
    "type": "completion"
   },
   {
    "code": "plt.plot(minInRows[1]\n        , minInRows[0]\n        , 'r-'  # plot with the color red, as line\n        )",
    "id": "1f278a39cc0c4f668a4fd2ff2fa6b479",
    "idx": 16,
    "time": "2021-02-16T10:06:40.389Z",
    "type": "execution"
   },
   {
    "id": "1f278a39cc0c4f668a4fd2ff2fa6b479",
    "time": "2021-02-16T10:06:40.614Z",
    "type": "completion"
   },
   {
    "code": "y = np.linspace(1, 500, 100)\nx = np.linspace(0, 3, 100)\n#z = fact(x)\n#z = z.astype(np.float128)\n#print(z)\n#z1 = np.log(z)\n#print(z1)  \n#z2 = sigma(y)\n#z2 = z2.astype(np.float128)\n#z2 = np.log(z2)\n#print(z2)\n\n\nx_2d, y_2d = np.meshgrid(x,y)\nprint(x_2d)\nprint(y_2d)\nz_2d = F(x_2d, y_2d)\nprint(z_2d)\ns_2d = sigma(y_2d)\nprint(s_2d)",
    "id": "9cdd8b47c0424735be15ebdf7177ecdb",
    "idx": 9,
    "time": "2021-02-16T10:07:10.769Z",
    "type": "execution"
   },
   {
    "id": "9cdd8b47c0424735be15ebdf7177ecdb",
    "time": "2021-02-16T10:07:11.082Z",
    "type": "completion"
   },
   {
    "code": "from mpl_toolkits.mplot3d import Axes3D\n\nfig = plt.figure(figsize=(8,8)) #create figure object to hold the plot\nax = Axes3D(fig) #create Axes3D object to display the plot\nax.plot_surface(x_2d, y_2d, z_2d)\nax.set_xlabel(\"$x$\")\nax.set_ylabel(\"$y$\")\nax.set_zlabel(\"$F(x,y)$\")",
    "id": "090aa9120e2d4cea89fa1f9ee3c39777",
    "idx": 10,
    "time": "2021-02-16T10:07:22.144Z",
    "type": "execution"
   },
   {
    "id": "090aa9120e2d4cea89fa1f9ee3c39777",
    "time": "2021-02-16T10:07:23.066Z",
    "type": "completion"
   },
   {
    "code": "\nprint(z_2d)\nresult = np.where(z_2d == np.amax(z_2d))\nresult",
    "id": "43ad28b6b87f42989fd8b077a4479b02",
    "idx": 13,
    "time": "2021-02-16T10:07:47.871Z",
    "type": "execution"
   },
   {
    "id": "43ad28b6b87f42989fd8b077a4479b02",
    "time": "2021-02-16T10:07:47.964Z",
    "type": "completion"
   },
   {
    "code": "minInRows = np.where(z_2d == np.amin(z_2d, axis=0))\n#result = np.where(z_2d == np.amin(z_2d), axis=1)\nprint(minInRows[0])\n",
    "id": "c42c3ab8dd6944ad8a98135330743341",
    "idx": 14,
    "time": "2021-02-16T10:07:49.179Z",
    "type": "execution"
   },
   {
    "id": "c42c3ab8dd6944ad8a98135330743341",
    "time": "2021-02-16T10:07:49.237Z",
    "type": "completion"
   },
   {
    "code": "plt.plot(minInRows[1]\n        , minInRows[0]\n        , 'r-'  # plot with the color red, as line\n        )",
    "id": "1f278a39cc0c4f668a4fd2ff2fa6b479",
    "idx": 16,
    "time": "2021-02-16T10:07:51.892Z",
    "type": "execution"
   },
   {
    "id": "1f278a39cc0c4f668a4fd2ff2fa6b479",
    "time": "2021-02-16T10:07:52.105Z",
    "type": "completion"
   },
   {
    "code": "y = np.linspace(1, 500, 300)\nx = np.linspace(0, 3, 300)\n#z = fact(x)\n#z = z.astype(np.float128)\n#print(z)\n#z1 = np.log(z)\n#print(z1)  \n#z2 = sigma(y)\n#z2 = z2.astype(np.float128)\n#z2 = np.log(z2)\n#print(z2)\n\n\nx_2d, y_2d = np.meshgrid(x,y)\nprint(x_2d)\nprint(y_2d)\nz_2d = F(x_2d, y_2d)\nprint(z_2d)\ns_2d = sigma(y_2d)\nprint(s_2d)",
    "id": "9cdd8b47c0424735be15ebdf7177ecdb",
    "idx": 9,
    "time": "2021-02-16T10:08:35.262Z",
    "type": "execution"
   },
   {
    "code": "from mpl_toolkits.mplot3d import Axes3D\n\nfig = plt.figure(figsize=(8,8)) #create figure object to hold the plot\nax = Axes3D(fig) #create Axes3D object to display the plot\nax.plot_surface(x_2d, y_2d, z_2d)\nax.set_xlabel(\"$x$\")\nax.set_ylabel(\"$y$\")\nax.set_zlabel(\"$F(x,y)$\")",
    "id": "090aa9120e2d4cea89fa1f9ee3c39777",
    "idx": 10,
    "time": "2021-02-16T10:08:36.514Z",
    "type": "execution"
   },
   {
    "id": "9cdd8b47c0424735be15ebdf7177ecdb",
    "time": "2021-02-16T10:08:37.509Z",
    "type": "completion"
   },
   {
    "id": "090aa9120e2d4cea89fa1f9ee3c39777",
    "time": "2021-02-16T10:08:38.445Z",
    "type": "completion"
   },
   {
    "code": "\nprint(z_2d)\nresult = np.where(z_2d == np.amax(z_2d))\nresult",
    "id": "43ad28b6b87f42989fd8b077a4479b02",
    "idx": 13,
    "time": "2021-02-16T10:08:47.112Z",
    "type": "execution"
   },
   {
    "id": "43ad28b6b87f42989fd8b077a4479b02",
    "time": "2021-02-16T10:08:47.177Z",
    "type": "completion"
   },
   {
    "code": "minInRows = np.where(z_2d == np.amin(z_2d, axis=0))\n#result = np.where(z_2d == np.amin(z_2d), axis=1)\nprint(minInRows[0])\n",
    "id": "c42c3ab8dd6944ad8a98135330743341",
    "idx": 14,
    "time": "2021-02-16T10:08:48.875Z",
    "type": "execution"
   },
   {
    "id": "c42c3ab8dd6944ad8a98135330743341",
    "time": "2021-02-16T10:08:48.952Z",
    "type": "completion"
   },
   {
    "code": "plt.plot(minInRows[1]\n        , minInRows[0]\n        , 'r-'  # plot with the color red, as line\n        )",
    "id": "1f278a39cc0c4f668a4fd2ff2fa6b479",
    "idx": 16,
    "time": "2021-02-16T10:08:51.442Z",
    "type": "execution"
   },
   {
    "id": "1f278a39cc0c4f668a4fd2ff2fa6b479",
    "time": "2021-02-16T10:08:51.671Z",
    "type": "completion"
   },
   {
    "code": "# import numpy as np\nimport math as math\nimport scipy.stats as st\nimport scipy.special  \nimport matplotlib.pyplot as plt\n\nN = 1000\nn = []\nfor i in range((N//3)):\n    n.append(i/1.0)\n\ntau = []\nfor i in range((1000)):\n    tau.append(i/1000)\n\ndef fact(x):\n    return scipy.special.factorial(x, exact=True)\n\ndef sigma(ntest): \n    NA=1000\n    NB=1000\n    ntest=ntest.astype(int)\n    z1=fact(NA)/(fact(ntest)*fact(NA-ntest))\n    z1=z1.astype(np.float128)\n    z1=np.log(z1)\n    z2=fact(NB)/(fact(ntest)*fact(NB-ntest))\n    z2=z2.astype(np.float128)\n    z2=np.log(z2)\n    return z1+z2\n#sigma(1)\n#sigma(500)\n#sigma(500)\n#fact(500)\n#math.factorial(500)\n#print(sigma(600))\n#print(square(ntest))\n#print(ntest)\n#print(sigma(ntest))\n                                                       ",
    "id": "d932be83395c4d95aa21942186351cb8",
    "idx": 6,
    "time": "2021-02-16T10:10:02.951Z",
    "type": "execution"
   },
   {
    "id": "d932be83395c4d95aa21942186351cb8",
    "time": "2021-02-16T10:10:03.025Z",
    "type": "completion"
   },
   {
    "code": "def F(tautest,ntest):\n    return (2.0*ntest - tautest*sigma(ntest))",
    "id": "42da82d19b624f108c8925748ba855df",
    "idx": 7,
    "time": "2021-02-16T10:10:04.235Z",
    "type": "execution"
   },
   {
    "id": "42da82d19b624f108c8925748ba855df",
    "time": "2021-02-16T10:10:04.292Z",
    "type": "completion"
   },
   {
    "code": "def square(x,y):\n    return np.log(fact(x**2)+y**2)",
    "id": "a0275565515c41ca800c9243e5fcdc19",
    "idx": 8,
    "time": "2021-02-16T10:10:05.379Z",
    "type": "execution"
   },
   {
    "id": "a0275565515c41ca800c9243e5fcdc19",
    "time": "2021-02-16T10:10:05.440Z",
    "type": "completion"
   },
   {
    "code": "y = np.linspace(1, 500, 300)\nx = np.linspace(0, 3, 300)\n#z = fact(x)\n#z = z.astype(np.float128)\n#print(z)\n#z1 = np.log(z)\n#print(z1)  \n#z2 = sigma(y)\n#z2 = z2.astype(np.float128)\n#z2 = np.log(z2)\n#print(z2)\n\n\nx_2d, y_2d = np.meshgrid(x,y)\nprint(x_2d)\nprint(y_2d)\nz_2d = F(x_2d, y_2d)\nprint(z_2d)\ns_2d = sigma(y_2d)\nprint(s_2d)",
    "id": "9cdd8b47c0424735be15ebdf7177ecdb",
    "idx": 9,
    "time": "2021-02-16T10:10:06.420Z",
    "type": "execution"
   },
   {
    "code": "from mpl_toolkits.mplot3d import Axes3D\n\nfig = plt.figure(figsize=(8,8)) #create figure object to hold the plot\nax = Axes3D(fig) #create Axes3D object to display the plot\nax.plot_surface(x_2d, y_2d, z_2d)\nax.set_xlabel(\"$x$\")\nax.set_ylabel(\"$y$\")\nax.set_zlabel(\"$F(x,y)$\")",
    "id": "090aa9120e2d4cea89fa1f9ee3c39777",
    "idx": 10,
    "time": "2021-02-16T10:10:07.440Z",
    "type": "execution"
   },
   {
    "code": "\nprint(z_2d)\nresult = np.where(z_2d == np.amax(z_2d))\nresult",
    "id": "43ad28b6b87f42989fd8b077a4479b02",
    "idx": 13,
    "time": "2021-02-16T10:10:10.839Z",
    "type": "execution"
   },
   {
    "code": "minInRows = np.where(z_2d == np.amin(z_2d, axis=0))\n#result = np.where(z_2d == np.amin(z_2d), axis=1)\nprint(minInRows[0])\n",
    "id": "c42c3ab8dd6944ad8a98135330743341",
    "idx": 14,
    "time": "2021-02-16T10:10:11.651Z",
    "type": "execution"
   },
   {
    "id": "9cdd8b47c0424735be15ebdf7177ecdb",
    "time": "2021-02-16T10:10:12.827Z",
    "type": "completion"
   },
   {
    "id": "090aa9120e2d4cea89fa1f9ee3c39777",
    "time": "2021-02-16T10:10:13.865Z",
    "type": "completion"
   },
   {
    "id": "43ad28b6b87f42989fd8b077a4479b02",
    "time": "2021-02-16T10:10:13.871Z",
    "type": "completion"
   },
   {
    "id": "c42c3ab8dd6944ad8a98135330743341",
    "time": "2021-02-16T10:10:13.874Z",
    "type": "completion"
   },
   {
    "code": "plt.plot(minInRows[1]\n        , minInRows[0]\n        , 'r-'  # plot with the color red, as line\n        )",
    "id": "1f278a39cc0c4f668a4fd2ff2fa6b479",
    "idx": 16,
    "time": "2021-02-16T10:10:16.102Z",
    "type": "execution"
   },
   {
    "id": "1f278a39cc0c4f668a4fd2ff2fa6b479",
    "time": "2021-02-16T10:10:16.351Z",
    "type": "completion"
   },
   {
    "code": "plt.plot(y_2d[minInRows[1]]\n        , x_2d[minInRows[0]]\n        , 'r-'  # plot with the color red, as line\n        )",
    "id": "1f278a39cc0c4f668a4fd2ff2fa6b479",
    "idx": 16,
    "time": "2021-02-16T10:11:22.855Z",
    "type": "execution"
   },
   {
    "id": "1f278a39cc0c4f668a4fd2ff2fa6b479",
    "time": "2021-02-16T10:11:23.499Z",
    "type": "completion"
   },
   {
    "code": "plt.plot(minInRows[1]\n        , minInRows[0]\n        , 'r-'  # plot with the color red, as line\n        )",
    "id": "1f278a39cc0c4f668a4fd2ff2fa6b479",
    "idx": 16,
    "time": "2021-02-16T10:12:58.293Z",
    "type": "execution"
   },
   {
    "id": "1f278a39cc0c4f668a4fd2ff2fa6b479",
    "time": "2021-02-16T10:12:58.521Z",
    "type": "completion"
   },
   {
    "code": "y = np.linspace(1, 500, 300)\nx = np.linspace(0,.2, 300)\n#z = fact(x)\n#z = z.astype(np.float128)\n#print(z)\n#z1 = np.log(z)\n#print(z1)  \n#z2 = sigma(y)\n#z2 = z2.astype(np.float128)\n#z2 = np.log(z2)\n#print(z2)\n\n\nx_2d, y_2d = np.meshgrid(x,y)\nprint(x_2d)\nprint(y_2d)\nz_2d = F(x_2d, y_2d)\nprint(z_2d)\ns_2d = sigma(y_2d)\nprint(s_2d)",
    "id": "40924196a69a46c58b9bacc36d26e7aa",
    "idx": 9,
    "time": "2021-02-16T10:18:59.323Z",
    "type": "execution"
   },
   {
    "code": "from mpl_toolkits.mplot3d import Axes3D\n\nfig = plt.figure(figsize=(8,8)) #create figure object to hold the plot\nax = Axes3D(fig) #create Axes3D object to display the plot\nax.plot_surface(x_2d, y_2d, z_2d)\nax.set_xlabel(\"$x$\")\nax.set_ylabel(\"$y$\")\nax.set_zlabel(\"$F(x,y)$\")",
    "id": "a5db86831dce49f8aba942bf93746c9e",
    "idx": 10,
    "time": "2021-02-16T10:19:00.798Z",
    "type": "execution"
   },
   {
    "id": "40924196a69a46c58b9bacc36d26e7aa",
    "time": "2021-02-16T10:19:05.569Z",
    "type": "completion"
   },
   {
    "id": "a5db86831dce49f8aba942bf93746c9e",
    "time": "2021-02-16T10:19:06.889Z",
    "type": "completion"
   },
   {
    "code": "\nprint(z_2d)\nresult = np.where(z_2d == np.amax(z_2d))\nresult",
    "id": "df68d21739424d358803e385aba1c568",
    "idx": 13,
    "time": "2021-02-16T10:19:06.979Z",
    "type": "execution"
   },
   {
    "id": "df68d21739424d358803e385aba1c568",
    "time": "2021-02-16T10:19:07.049Z",
    "type": "completion"
   },
   {
    "code": "minInRows = np.where(z_2d == np.amin(z_2d, axis=0))\n#result = np.where(z_2d == np.amin(z_2d), axis=1)\nprint(minInRows[0])\n",
    "id": "07eb30c22f4f434f888a5cc42f7500b6",
    "idx": 14,
    "time": "2021-02-16T10:19:08.031Z",
    "type": "execution"
   },
   {
    "id": "07eb30c22f4f434f888a5cc42f7500b6",
    "time": "2021-02-16T10:19:08.091Z",
    "type": "completion"
   },
   {
    "code": "plt.plot(minInRows[1]\n        , minInRows[0]\n        , 'r-'  # plot with the color red, as line\n        )",
    "id": "cd66e53c088f4cf187abc785f0c0362a",
    "idx": 16,
    "time": "2021-02-16T10:19:10.142Z",
    "type": "execution"
   },
   {
    "id": "cd66e53c088f4cf187abc785f0c0362a",
    "time": "2021-02-16T10:19:10.375Z",
    "type": "completion"
   },
   {
    "code": "y = np.linspace(1, 100, 300)\nx = np.linspace(0,.2, 300)\n#z = fact(x)\n#z = z.astype(np.float128)\n#print(z)\n#z1 = np.log(z)\n#print(z1)  \n#z2 = sigma(y)\n#z2 = z2.astype(np.float128)\n#z2 = np.log(z2)\n#print(z2)\n\n\nx_2d, y_2d = np.meshgrid(x,y)\nprint(x_2d)\nprint(y_2d)\nz_2d = F(x_2d, y_2d)\nprint(z_2d)\ns_2d = sigma(y_2d)\nprint(s_2d)",
    "id": "40924196a69a46c58b9bacc36d26e7aa",
    "idx": 9,
    "time": "2021-02-16T10:20:01.710Z",
    "type": "execution"
   },
   {
    "code": "from mpl_toolkits.mplot3d import Axes3D\n\nfig = plt.figure(figsize=(8,8)) #create figure object to hold the plot\nax = Axes3D(fig) #create Axes3D object to display the plot\nax.plot_surface(x_2d, y_2d, z_2d)\nax.set_xlabel(\"$x$\")\nax.set_ylabel(\"$y$\")\nax.set_zlabel(\"$F(x,y)$\")",
    "id": "a5db86831dce49f8aba942bf93746c9e",
    "idx": 10,
    "time": "2021-02-16T10:20:03.564Z",
    "type": "execution"
   },
   {
    "id": "40924196a69a46c58b9bacc36d26e7aa",
    "time": "2021-02-16T10:20:05.356Z",
    "type": "completion"
   },
   {
    "id": "a5db86831dce49f8aba942bf93746c9e",
    "time": "2021-02-16T10:20:06.789Z",
    "type": "completion"
   },
   {
    "code": "\nprint(z_2d)\nresult = np.where(z_2d == np.amax(z_2d))\nresult",
    "id": "df68d21739424d358803e385aba1c568",
    "idx": 13,
    "time": "2021-02-16T10:20:10.043Z",
    "type": "execution"
   },
   {
    "id": "df68d21739424d358803e385aba1c568",
    "time": "2021-02-16T10:20:10.109Z",
    "type": "completion"
   },
   {
    "code": "minInRows = np.where(z_2d == np.amin(z_2d, axis=0))\n#result = np.where(z_2d == np.amin(z_2d), axis=1)\nprint(minInRows[0])\n",
    "id": "07eb30c22f4f434f888a5cc42f7500b6",
    "idx": 14,
    "time": "2021-02-16T10:20:11.268Z",
    "type": "execution"
   },
   {
    "id": "07eb30c22f4f434f888a5cc42f7500b6",
    "time": "2021-02-16T10:20:11.326Z",
    "type": "completion"
   },
   {
    "code": "plt.plot(minInRows[1]\n        , minInRows[0]\n        , 'r-'  # plot with the color red, as line\n        )",
    "id": "cd66e53c088f4cf187abc785f0c0362a",
    "idx": 16,
    "time": "2021-02-16T10:20:13.313Z",
    "type": "execution"
   },
   {
    "id": "cd66e53c088f4cf187abc785f0c0362a",
    "time": "2021-02-16T10:20:13.552Z",
    "type": "completion"
   },
   {
    "code": "y = np.linspace(1, 100, 300)\nx = np.linspace(0,.4, 300)\n#z = fact(x)\n#z = z.astype(np.float128)\n#print(z)\n#z1 = np.log(z)\n#print(z1)  \n#z2 = sigma(y)\n#z2 = z2.astype(np.float128)\n#z2 = np.log(z2)\n#print(z2)\n\n\nx_2d, y_2d = np.meshgrid(x,y)\nprint(x_2d)\nprint(y_2d)\nz_2d = F(x_2d, y_2d)\nprint(z_2d)\ns_2d = sigma(y_2d)\nprint(s_2d)",
    "id": "40924196a69a46c58b9bacc36d26e7aa",
    "idx": 9,
    "time": "2021-02-16T10:20:47.766Z",
    "type": "execution"
   },
   {
    "code": "from mpl_toolkits.mplot3d import Axes3D\n\nfig = plt.figure(figsize=(8,8)) #create figure object to hold the plot\nax = Axes3D(fig) #create Axes3D object to display the plot\nax.plot_surface(x_2d, y_2d, z_2d)\nax.set_xlabel(\"$x$\")\nax.set_ylabel(\"$y$\")\nax.set_zlabel(\"$F(x,y)$\")",
    "id": "a5db86831dce49f8aba942bf93746c9e",
    "idx": 10,
    "time": "2021-02-16T10:20:48.517Z",
    "type": "execution"
   },
   {
    "code": "\nprint(z_2d)\nresult = np.where(z_2d == np.amax(z_2d))\nresult",
    "id": "df68d21739424d358803e385aba1c568",
    "idx": 13,
    "time": "2021-02-16T10:20:50.856Z",
    "type": "execution"
   },
   {
    "id": "40924196a69a46c58b9bacc36d26e7aa",
    "time": "2021-02-16T10:20:51.086Z",
    "type": "completion"
   },
   {
    "code": "minInRows = np.where(z_2d == np.amin(z_2d, axis=0))\n#result = np.where(z_2d == np.amin(z_2d), axis=1)\nprint(minInRows[0])\n",
    "id": "07eb30c22f4f434f888a5cc42f7500b6",
    "idx": 14,
    "time": "2021-02-16T10:20:51.608Z",
    "type": "execution"
   },
   {
    "id": "a5db86831dce49f8aba942bf93746c9e",
    "time": "2021-02-16T10:20:52.203Z",
    "type": "completion"
   },
   {
    "id": "df68d21739424d358803e385aba1c568",
    "time": "2021-02-16T10:20:52.209Z",
    "type": "completion"
   },
   {
    "id": "07eb30c22f4f434f888a5cc42f7500b6",
    "time": "2021-02-16T10:20:52.213Z",
    "type": "completion"
   },
   {
    "code": "plt.plot(minInRows[1]\n        , minInRows[0]\n        , 'r-'  # plot with the color red, as line\n        )",
    "id": "cd66e53c088f4cf187abc785f0c0362a",
    "idx": 16,
    "time": "2021-02-16T10:20:53.478Z",
    "type": "execution"
   },
   {
    "id": "cd66e53c088f4cf187abc785f0c0362a",
    "time": "2021-02-16T10:20:53.703Z",
    "type": "completion"
   },
   {
    "code": "y = np.linspace(1, 100, 300)\nx = np.linspace(0,.4, 300)\n#z = fact(x)\n#z = z.astype(np.float128)\n#print(z)\n#z1 = np.log(z)\n#print(z1)  \n#z2 = sigma(y)\n#z2 = z2.astype(np.float128)\n#z2 = np.log(z2)\n#print(z2)\n\n\nx_2d, y_2d = np.meshgrid(x,y)\nprint(x_2d)\nprint(y_2d)\nz_2d = F(x_2d, y_2d)\nprint(z_2d)\ns_2d = sigma(y_2d)\nprint(s_2d)",
    "id": "40924196a69a46c58b9bacc36d26e7aa",
    "idx": 9,
    "time": "2021-02-16T10:21:30.171Z",
    "type": "execution"
   },
   {
    "code": "from mpl_toolkits.mplot3d import Axes3D\n\nfig = plt.figure(figsize=(8,8)) #create figure object to hold the plot\nax = Axes3D(fig) #create Axes3D object to display the plot\nax.plot_surface(x_2d, y_2d, z_2d)\nax.set_xlabel(\"$x$\")\nax.set_ylabel(\"$y$\")\nax.set_zlabel(\"$F(x,y)$\")",
    "id": "a5db86831dce49f8aba942bf93746c9e",
    "idx": 10,
    "time": "2021-02-16T10:21:30.880Z",
    "type": "execution"
   },
   {
    "code": "\nprint(z_2d)\nresult = np.where(z_2d == np.amax(z_2d))\nresult",
    "id": "df68d21739424d358803e385aba1c568",
    "idx": 13,
    "time": "2021-02-16T10:21:32.941Z",
    "type": "execution"
   },
   {
    "id": "40924196a69a46c58b9bacc36d26e7aa",
    "time": "2021-02-16T10:21:33.542Z",
    "type": "completion"
   },
   {
    "code": "minInRows = np.where(z_2d == np.amin(z_2d, axis=0))\n#result = np.where(z_2d == np.amin(z_2d), axis=1)\nprint(minInRows[0])\n",
    "id": "07eb30c22f4f434f888a5cc42f7500b6",
    "idx": 14,
    "time": "2021-02-16T10:21:33.724Z",
    "type": "execution"
   },
   {
    "id": "a5db86831dce49f8aba942bf93746c9e",
    "time": "2021-02-16T10:21:34.578Z",
    "type": "completion"
   },
   {
    "id": "df68d21739424d358803e385aba1c568",
    "time": "2021-02-16T10:21:34.584Z",
    "type": "completion"
   },
   {
    "id": "07eb30c22f4f434f888a5cc42f7500b6",
    "time": "2021-02-16T10:21:34.588Z",
    "type": "completion"
   },
   {
    "code": "plt.plot(minInRows[1]\n        , minInRows[0]\n        , 'r-'  # plot with the color red, as line\n        )",
    "id": "cd66e53c088f4cf187abc785f0c0362a",
    "idx": 16,
    "time": "2021-02-16T10:21:35.606Z",
    "type": "execution"
   },
   {
    "id": "cd66e53c088f4cf187abc785f0c0362a",
    "time": "2021-02-16T10:21:35.836Z",
    "type": "completion"
   },
   {
    "code": "y = np.linspace(1, 100, 500)\nx = np.linspace(0,.4, 500)\n#z = fact(x)\n#z = z.astype(np.float128)\n#print(z)\n#z1 = np.log(z)\n#print(z1)  \n#z2 = sigma(y)\n#z2 = z2.astype(np.float128)\n#z2 = np.log(z2)\n#print(z2)\n\n\nx_2d, y_2d = np.meshgrid(x,y)\nprint(x_2d)\nprint(y_2d)\nz_2d = F(x_2d, y_2d)\nprint(z_2d)\ns_2d = sigma(y_2d)\nprint(s_2d)",
    "id": "40924196a69a46c58b9bacc36d26e7aa",
    "idx": 9,
    "time": "2021-02-16T10:22:00.141Z",
    "type": "execution"
   },
   {
    "code": "from mpl_toolkits.mplot3d import Axes3D\n\nfig = plt.figure(figsize=(8,8)) #create figure object to hold the plot\nax = Axes3D(fig) #create Axes3D object to display the plot\nax.plot_surface(x_2d, y_2d, z_2d)\nax.set_xlabel(\"$x$\")\nax.set_ylabel(\"$y$\")\nax.set_zlabel(\"$F(x,y)$\")",
    "id": "a5db86831dce49f8aba942bf93746c9e",
    "idx": 10,
    "time": "2021-02-16T10:22:00.813Z",
    "type": "execution"
   },
   {
    "code": "\nprint(z_2d)\nresult = np.where(z_2d == np.amax(z_2d))\nresult",
    "id": "df68d21739424d358803e385aba1c568",
    "idx": 13,
    "time": "2021-02-16T10:22:03.088Z",
    "type": "execution"
   },
   {
    "code": "minInRows = np.where(z_2d == np.amin(z_2d, axis=0))\n#result = np.where(z_2d == np.amin(z_2d), axis=1)\nprint(minInRows[0])\n",
    "id": "07eb30c22f4f434f888a5cc42f7500b6",
    "idx": 14,
    "time": "2021-02-16T10:22:03.857Z",
    "type": "execution"
   },
   {
    "code": "plt.plot(minInRows[1]\n        , minInRows[0]\n        , 'r-'  # plot with the color red, as line\n        )",
    "id": "cd66e53c088f4cf187abc785f0c0362a",
    "idx": 16,
    "time": "2021-02-16T10:22:06.011Z",
    "type": "execution"
   },
   {
    "id": "40924196a69a46c58b9bacc36d26e7aa",
    "time": "2021-02-16T10:22:09.427Z",
    "type": "completion"
   },
   {
    "id": "a5db86831dce49f8aba942bf93746c9e",
    "time": "2021-02-16T10:22:10.525Z",
    "type": "completion"
   },
   {
    "id": "df68d21739424d358803e385aba1c568",
    "time": "2021-02-16T10:22:10.530Z",
    "type": "completion"
   },
   {
    "id": "07eb30c22f4f434f888a5cc42f7500b6",
    "time": "2021-02-16T10:22:10.533Z",
    "type": "completion"
   },
   {
    "id": "cd66e53c088f4cf187abc785f0c0362a",
    "time": "2021-02-16T10:22:10.537Z",
    "type": "completion"
   },
   {
    "code": "y = np.linspace(1, 10, 500)\nx = np.linspace(.1,.4, 500)\n#z = fact(x)\n#z = z.astype(np.float128)\n#print(z)\n#z1 = np.log(z)\n#print(z1)  \n#z2 = sigma(y)\n#z2 = z2.astype(np.float128)\n#z2 = np.log(z2)\n#print(z2)\n\n\nx_2d, y_2d = np.meshgrid(x,y)\nprint(x_2d)\nprint(y_2d)\nz_2d = F(x_2d, y_2d)\nprint(z_2d)\ns_2d = sigma(y_2d)\nprint(s_2d)",
    "id": "40924196a69a46c58b9bacc36d26e7aa",
    "idx": 9,
    "time": "2021-02-16T10:23:16.002Z",
    "type": "execution"
   },
   {
    "code": "from mpl_toolkits.mplot3d import Axes3D\n\nfig = plt.figure(figsize=(8,8)) #create figure object to hold the plot\nax = Axes3D(fig) #create Axes3D object to display the plot\nax.plot_surface(x_2d, y_2d, z_2d)\nax.set_xlabel(\"$x$\")\nax.set_ylabel(\"$y$\")\nax.set_zlabel(\"$F(x,y)$\")",
    "id": "a5db86831dce49f8aba942bf93746c9e",
    "idx": 10,
    "time": "2021-02-16T10:23:16.835Z",
    "type": "execution"
   },
   {
    "code": "\nprint(z_2d)\nresult = np.where(z_2d == np.amax(z_2d))\nresult",
    "id": "df68d21739424d358803e385aba1c568",
    "idx": 13,
    "time": "2021-02-16T10:23:18.755Z",
    "type": "execution"
   },
   {
    "code": "minInRows = np.where(z_2d == np.amin(z_2d, axis=0))\n#result = np.where(z_2d == np.amin(z_2d), axis=1)\nprint(minInRows[0])\n",
    "id": "07eb30c22f4f434f888a5cc42f7500b6",
    "idx": 14,
    "time": "2021-02-16T10:23:19.309Z",
    "type": "execution"
   },
   {
    "code": "plt.plot(minInRows[1]\n        , minInRows[0]\n        , 'r-'  # plot with the color red, as line\n        )",
    "id": "cd66e53c088f4cf187abc785f0c0362a",
    "idx": 16,
    "time": "2021-02-16T10:23:20.444Z",
    "type": "execution"
   },
   {
    "id": "40924196a69a46c58b9bacc36d26e7aa",
    "time": "2021-02-16T10:23:23.051Z",
    "type": "completion"
   },
   {
    "id": "a5db86831dce49f8aba942bf93746c9e",
    "time": "2021-02-16T10:23:23.966Z",
    "type": "completion"
   },
   {
    "id": "df68d21739424d358803e385aba1c568",
    "time": "2021-02-16T10:23:23.969Z",
    "type": "completion"
   },
   {
    "id": "07eb30c22f4f434f888a5cc42f7500b6",
    "time": "2021-02-16T10:23:23.991Z",
    "type": "completion"
   },
   {
    "id": "cd66e53c088f4cf187abc785f0c0362a",
    "time": "2021-02-16T10:23:24.009Z",
    "type": "completion"
   },
   {
    "code": "# import numpy as np\nimport math as math\nimport scipy.stats as st\nimport scipy.special  \nimport matplotlib.pyplot as plt\n\nN = 1000\nn = []\nfor i in range((N//3)):\n    n.append(i/1.0)\n\ntau = []\nfor i in range((1000)):\n    tau.append(i/1000)\n\ndef fact(x):\n    return scipy.special.factorial(x, exact=True)\n\ndef sigma(ntest): \n    NA=1000\n    NB=1000\n    ntest=ntest.astype(int)\n    z1=fact(NA)/(fact(ntest)*fact(NA-ntest))\n    z1=z1.astype(np.float128)\n    z1=np.log(z1)\n    z2=fact(NB)/(fact(ntest)*fact(NB-ntest))\n    z2=z2.astype(np.float128)\n    z2=np.log(z2)\n    return z1+z2\n#sigma(1)\n#sigma(500)\n#sigma(500)\n#fact(500)\n#math.factorial(500)\n#print(sigma(600))\n#print(square(ntest))\n#print(ntest)\n#print(sigma(ntest))\n                                                       ",
    "id": "84895652a93f40f1856ee1cbc80ce41e",
    "idx": 6,
    "time": "2021-02-16T19:22:30.882Z",
    "type": "execution"
   },
   {
    "code": "def F(tautest,ntest):\n    return (2.0*ntest - tautest*sigma(ntest))",
    "id": "db78bdd7fd7b4621bdf91bf9900e6349",
    "idx": 7,
    "time": "2021-02-16T19:22:31.785Z",
    "type": "execution"
   },
   {
    "id": "84895652a93f40f1856ee1cbc80ce41e",
    "time": "2021-02-16T19:22:32.227Z",
    "type": "completion"
   },
   {
    "id": "db78bdd7fd7b4621bdf91bf9900e6349",
    "time": "2021-02-16T19:22:32.231Z",
    "type": "completion"
   },
   {
    "code": "def square(x,y):\n    return np.log(fact(x**2)+y**2)",
    "id": "260dd1a6691749ad84ae2dacfa5f2a96",
    "idx": 8,
    "time": "2021-02-16T19:22:32.411Z",
    "type": "execution"
   },
   {
    "id": "260dd1a6691749ad84ae2dacfa5f2a96",
    "time": "2021-02-16T19:22:32.474Z",
    "type": "completion"
   },
   {
    "code": "y = np.linspace(1, 10, 500)\nx = np.linspace(.1,.4, 500)\n#z = fact(x)\n#z = z.astype(np.float128)\n#print(z)\n#z1 = np.log(z)\n#print(z1)  \n#z2 = sigma(y)\n#z2 = z2.astype(np.float128)\n#z2 = np.log(z2)\n#print(z2)\n\n\nx_2d, y_2d = np.meshgrid(x,y)\nprint(x_2d)\nprint(y_2d)\nz_2d = F(x_2d, y_2d)\nprint(z_2d)\ns_2d = sigma(y_2d)\nprint(s_2d)",
    "id": "3db2899b5eae4a4d941fc55ec4afde52",
    "idx": 9,
    "time": "2021-02-16T19:22:33.089Z",
    "type": "execution"
   },
   {
    "id": "3db2899b5eae4a4d941fc55ec4afde52",
    "time": "2021-02-16T19:22:33.294Z",
    "type": "completion"
   },
   {
    "code": "from mpl_toolkits.mplot3d import Axes3D\n\nfig = plt.figure(figsize=(8,8)) #create figure object to hold the plot\nax = Axes3D(fig) #create Axes3D object to display the plot\nax.plot_surface(x_2d, y_2d, z_2d)\nax.set_xlabel(\"$x$\")\nax.set_ylabel(\"$y$\")\nax.set_zlabel(\"$F(x,y)$\")",
    "id": "950663c93f4e4522875c90b09192aac5",
    "idx": 10,
    "time": "2021-02-16T19:22:34.646Z",
    "type": "execution"
   },
   {
    "id": "950663c93f4e4522875c90b09192aac5",
    "time": "2021-02-16T19:22:35.273Z",
    "type": "completion"
   },
   {
    "code": "\nprint(z_2d)\nresult = np.where(z_2d == np.amax(z_2d))\nresult",
    "id": "cbd13a2e6edf467c877157d79751d16d",
    "idx": 13,
    "time": "2021-02-16T19:22:38.361Z",
    "type": "execution"
   },
   {
    "id": "cbd13a2e6edf467c877157d79751d16d",
    "time": "2021-02-16T19:22:38.429Z",
    "type": "completion"
   },
   {
    "code": "minInRows = np.where(z_2d == np.amin(z_2d, axis=0))\n#result = np.where(z_2d == np.amin(z_2d), axis=1)\nprint(minInRows[0])\n",
    "id": "e85faedd9c8243eb8df3422900b8bfc8",
    "idx": 14,
    "time": "2021-02-16T19:22:39.204Z",
    "type": "execution"
   },
   {
    "id": "e85faedd9c8243eb8df3422900b8bfc8",
    "time": "2021-02-16T19:22:39.271Z",
    "type": "completion"
   },
   {
    "code": "plt.plot(minInRows[1]\n        , minInRows[0]\n        , 'r-'  # plot with the color red, as line\n        )",
    "id": "438a2dd91fa044e98956b104d4fbc059",
    "idx": 16,
    "time": "2021-02-16T19:22:41.017Z",
    "type": "execution"
   },
   {
    "id": "438a2dd91fa044e98956b104d4fbc059",
    "time": "2021-02-16T19:22:41.090Z",
    "type": "completion"
   },
   {
    "code": "import numpy as np\nimport math as math\nimport scipy.stats as st\nimport scipy.special  \nimport matplotlib.pyplot as plt\n\nN = 1000\nn = []\nfor i in range((N//3)):\n    n.append(i/1.0)\n\ntau = []\nfor i in range((1000)):\n    tau.append(i/1000)\n\ndef fact(x):\n    return scipy.special.factorial(x, exact=True)\n\ndef sigma(ntest): \n    NA=1000\n    NB=1000\n    ntest=ntest.astype(int)\n    z1=fact(NA)/(fact(ntest)*fact(NA-ntest))\n    z1=z1.astype(np.float128)\n    z1=np.log(z1)\n    z2=fact(NB)/(fact(ntest)*fact(NB-ntest))\n    z2=z2.astype(np.float128)\n    z2=np.log(z2)\n    return z1+z2\n#sigma(1)\n#sigma(500)\n#sigma(500)\n#fact(500)\n#math.factorial(500)\n#print(sigma(600))\n#print(square(ntest))\n#print(ntest)\n#print(sigma(ntest))\n                                                       ",
    "id": "84895652a93f40f1856ee1cbc80ce41e",
    "idx": 6,
    "time": "2021-02-16T19:23:07.635Z",
    "type": "execution"
   },
   {
    "id": "84895652a93f40f1856ee1cbc80ce41e",
    "time": "2021-02-16T19:23:07.709Z",
    "type": "completion"
   },
   {
    "code": "def F(tautest,ntest):\n    return (2.0*ntest - tautest*sigma(ntest))",
    "id": "db78bdd7fd7b4621bdf91bf9900e6349",
    "idx": 7,
    "time": "2021-02-16T19:23:08.725Z",
    "type": "execution"
   },
   {
    "id": "db78bdd7fd7b4621bdf91bf9900e6349",
    "time": "2021-02-16T19:23:08.787Z",
    "type": "completion"
   },
   {
    "code": "def square(x,y):\n    return np.log(fact(x**2)+y**2)",
    "id": "260dd1a6691749ad84ae2dacfa5f2a96",
    "idx": 8,
    "time": "2021-02-16T19:23:09.351Z",
    "type": "execution"
   },
   {
    "id": "260dd1a6691749ad84ae2dacfa5f2a96",
    "time": "2021-02-16T19:23:09.411Z",
    "type": "completion"
   },
   {
    "code": "y = np.linspace(1, 10, 500)\nx = np.linspace(.1,.4, 500)\n#z = fact(x)\n#z = z.astype(np.float128)\n#print(z)\n#z1 = np.log(z)\n#print(z1)  \n#z2 = sigma(y)\n#z2 = z2.astype(np.float128)\n#z2 = np.log(z2)\n#print(z2)\n\n\nx_2d, y_2d = np.meshgrid(x,y)\nprint(x_2d)\nprint(y_2d)\nz_2d = F(x_2d, y_2d)\nprint(z_2d)\ns_2d = sigma(y_2d)\nprint(s_2d)",
    "id": "3db2899b5eae4a4d941fc55ec4afde52",
    "idx": 9,
    "time": "2021-02-16T19:23:10.405Z",
    "type": "execution"
   },
   {
    "code": "from mpl_toolkits.mplot3d import Axes3D\n\nfig = plt.figure(figsize=(8,8)) #create figure object to hold the plot\nax = Axes3D(fig) #create Axes3D object to display the plot\nax.plot_surface(x_2d, y_2d, z_2d)\nax.set_xlabel(\"$x$\")\nax.set_ylabel(\"$y$\")\nax.set_zlabel(\"$F(x,y)$\")",
    "id": "950663c93f4e4522875c90b09192aac5",
    "idx": 10,
    "time": "2021-02-16T19:23:12.066Z",
    "type": "execution"
   },
   {
    "id": "3db2899b5eae4a4d941fc55ec4afde52",
    "time": "2021-02-16T19:23:17.233Z",
    "type": "completion"
   },
   {
    "id": "950663c93f4e4522875c90b09192aac5",
    "time": "2021-02-16T19:23:18.634Z",
    "type": "completion"
   },
   {
    "code": "\nprint(z_2d)\nresult = np.where(z_2d == np.amax(z_2d))\nresult",
    "id": "cbd13a2e6edf467c877157d79751d16d",
    "idx": 13,
    "time": "2021-02-16T19:23:21.186Z",
    "type": "execution"
   },
   {
    "id": "cbd13a2e6edf467c877157d79751d16d",
    "time": "2021-02-16T19:23:22.340Z",
    "type": "completion"
   },
   {
    "code": "minInRows = np.where(z_2d == np.amin(z_2d, axis=0))\n#result = np.where(z_2d == np.amin(z_2d), axis=1)\nprint(minInRows[0])\n",
    "id": "e85faedd9c8243eb8df3422900b8bfc8",
    "idx": 14,
    "time": "2021-02-16T19:23:23.106Z",
    "type": "execution"
   },
   {
    "id": "e85faedd9c8243eb8df3422900b8bfc8",
    "time": "2021-02-16T19:23:23.173Z",
    "type": "completion"
   },
   {
    "code": "plt.plot(minInRows[1]\n        , minInRows[0]\n        , 'r-'  # plot with the color red, as line\n        )",
    "id": "438a2dd91fa044e98956b104d4fbc059",
    "idx": 16,
    "time": "2021-02-16T19:23:24.802Z",
    "type": "execution"
   },
   {
    "id": "438a2dd91fa044e98956b104d4fbc059",
    "time": "2021-02-16T19:23:25.102Z",
    "type": "completion"
   },
   {
    "code": "def square(x,y):\n    return np.log(fact(x**2)+y**2)",
    "id": "260dd1a6691749ad84ae2dacfa5f2a96",
    "idx": 8,
    "time": "2021-02-16T19:23:44.259Z",
    "type": "execution"
   },
   {
    "id": "260dd1a6691749ad84ae2dacfa5f2a96",
    "time": "2021-02-16T19:23:44.353Z",
    "type": "completion"
   },
   {
    "code": "y = np.linspace(1, 100, 500)\nx = np.linspace(.1,.4, 500)\n#z = fact(x)\n#z = z.astype(np.float128)\n#print(z)\n#z1 = np.log(z)\n#print(z1)  \n#z2 = sigma(y)\n#z2 = z2.astype(np.float128)\n#z2 = np.log(z2)\n#print(z2)\n\n\nx_2d, y_2d = np.meshgrid(x,y)\nprint(x_2d)\nprint(y_2d)\nz_2d = F(x_2d, y_2d)\nprint(z_2d)\ns_2d = sigma(y_2d)\nprint(s_2d)",
    "id": "3db2899b5eae4a4d941fc55ec4afde52",
    "idx": 9,
    "time": "2021-02-16T19:23:45.680Z",
    "type": "execution"
   },
   {
    "code": "from mpl_toolkits.mplot3d import Axes3D\n\nfig = plt.figure(figsize=(8,8)) #create figure object to hold the plot\nax = Axes3D(fig) #create Axes3D object to display the plot\nax.plot_surface(x_2d, y_2d, z_2d)\nax.set_xlabel(\"$x$\")\nax.set_ylabel(\"$y$\")\nax.set_zlabel(\"$F(x,y)$\")",
    "id": "950663c93f4e4522875c90b09192aac5",
    "idx": 10,
    "time": "2021-02-16T19:23:50.199Z",
    "type": "execution"
   },
   {
    "id": "3db2899b5eae4a4d941fc55ec4afde52",
    "time": "2021-02-16T19:23:57.273Z",
    "type": "completion"
   },
   {
    "id": "950663c93f4e4522875c90b09192aac5",
    "time": "2021-02-16T19:23:58.630Z",
    "type": "completion"
   },
   {
    "code": "\nprint(z_2d)\nresult = np.where(z_2d == np.amax(z_2d))\nresult",
    "id": "cbd13a2e6edf467c877157d79751d16d",
    "idx": 13,
    "time": "2021-02-16T19:24:09.571Z",
    "type": "execution"
   },
   {
    "id": "cbd13a2e6edf467c877157d79751d16d",
    "time": "2021-02-16T19:24:09.643Z",
    "type": "completion"
   },
   {
    "code": "minInRows = np.where(z_2d == np.amin(z_2d, axis=0))\n#result = np.where(z_2d == np.amin(z_2d), axis=1)\nprint(minInRows[0])\n",
    "id": "e85faedd9c8243eb8df3422900b8bfc8",
    "idx": 14,
    "time": "2021-02-16T19:24:10.779Z",
    "type": "execution"
   },
   {
    "id": "e85faedd9c8243eb8df3422900b8bfc8",
    "time": "2021-02-16T19:24:10.861Z",
    "type": "completion"
   },
   {
    "code": "plt.plot(minInRows[1]\n        , minInRows[0]\n        , 'r-'  # plot with the color red, as line\n        )",
    "id": "438a2dd91fa044e98956b104d4fbc059",
    "idx": 16,
    "time": "2021-02-16T19:24:16.861Z",
    "type": "execution"
   },
   {
    "id": "438a2dd91fa044e98956b104d4fbc059",
    "time": "2021-02-16T19:24:17.215Z",
    "type": "completion"
   },
   {
    "code": "y = np.linspace(1, 100, 500)\nx = np.linspace(.1,.4, 1000)\n#z = fact(x)\n#z = z.astype(np.float128)\n#print(z)\n#z1 = np.log(z)\n#print(z1)  \n#z2 = sigma(y)\n#z2 = z2.astype(np.float128)\n#z2 = np.log(z2)\n#print(z2)\n\n\nx_2d, y_2d = np.meshgrid(x,y)\nprint(x_2d)\nprint(y_2d)\nz_2d = F(x_2d, y_2d)\nprint(z_2d)\ns_2d = sigma(y_2d)\nprint(s_2d)",
    "id": "3db2899b5eae4a4d941fc55ec4afde52",
    "idx": 9,
    "time": "2021-02-16T19:24:45.981Z",
    "type": "execution"
   },
   {
    "code": "from mpl_toolkits.mplot3d import Axes3D\n\nfig = plt.figure(figsize=(8,8)) #create figure object to hold the plot\nax = Axes3D(fig) #create Axes3D object to display the plot\nax.plot_surface(x_2d, y_2d, z_2d)\nax.set_xlabel(\"$x$\")\nax.set_ylabel(\"$y$\")\nax.set_zlabel(\"$F(x,y)$\")",
    "id": "950663c93f4e4522875c90b09192aac5",
    "idx": 10,
    "time": "2021-02-16T19:24:48.480Z",
    "type": "execution"
   },
   {
    "code": "\nprint(z_2d)\nresult = np.where(z_2d == np.amax(z_2d))\nresult",
    "id": "cbd13a2e6edf467c877157d79751d16d",
    "idx": 13,
    "time": "2021-02-16T19:24:53.321Z",
    "type": "execution"
   },
   {
    "code": "minInRows = np.where(z_2d == np.amin(z_2d, axis=0))\n#result = np.where(z_2d == np.amin(z_2d), axis=1)\nprint(minInRows[0])\n",
    "id": "e85faedd9c8243eb8df3422900b8bfc8",
    "idx": 14,
    "time": "2021-02-16T19:24:54.156Z",
    "type": "execution"
   },
   {
    "code": "plt.plot(minInRows[1]\n        , minInRows[0]\n        , 'r-'  # plot with the color red, as line\n        )",
    "id": "438a2dd91fa044e98956b104d4fbc059",
    "idx": 16,
    "time": "2021-02-16T19:24:56.119Z",
    "type": "execution"
   },
   {
    "id": "3db2899b5eae4a4d941fc55ec4afde52",
    "time": "2021-02-16T19:25:05.876Z",
    "type": "completion"
   },
   {
    "id": "950663c93f4e4522875c90b09192aac5",
    "time": "2021-02-16T19:25:07.286Z",
    "type": "completion"
   },
   {
    "id": "cbd13a2e6edf467c877157d79751d16d",
    "time": "2021-02-16T19:25:07.295Z",
    "type": "completion"
   },
   {
    "id": "e85faedd9c8243eb8df3422900b8bfc8",
    "time": "2021-02-16T19:25:07.300Z",
    "type": "completion"
   },
   {
    "id": "438a2dd91fa044e98956b104d4fbc059",
    "time": "2021-02-16T19:25:07.327Z",
    "type": "completion"
   },
   {
    "code": "y = np.linspace(1, 100, 1000)\nx = np.linspace(.1,.4, 1000)\n#z = fact(x)\n#z = z.astype(np.float128)\n#print(z)\n#z1 = np.log(z)\n#print(z1)  \n#z2 = sigma(y)\n#z2 = z2.astype(np.float128)\n#z2 = np.log(z2)\n#print(z2)\n\n\nx_2d, y_2d = np.meshgrid(x,y)\nprint(x_2d)\nprint(y_2d)\nz_2d = F(x_2d, y_2d)\nprint(z_2d)\ns_2d = sigma(y_2d)\nprint(s_2d)",
    "id": "3db2899b5eae4a4d941fc55ec4afde52",
    "idx": 9,
    "time": "2021-02-16T19:25:27.191Z",
    "type": "execution"
   },
   {
    "code": "from mpl_toolkits.mplot3d import Axes3D\n\nfig = plt.figure(figsize=(8,8)) #create figure object to hold the plot\nax = Axes3D(fig) #create Axes3D object to display the plot\nax.plot_surface(x_2d, y_2d, z_2d)\nax.set_xlabel(\"$x$\")\nax.set_ylabel(\"$y$\")\nax.set_zlabel(\"$F(x,y)$\")",
    "id": "950663c93f4e4522875c90b09192aac5",
    "idx": 10,
    "time": "2021-02-16T19:25:29.878Z",
    "type": "execution"
   },
   {
    "code": "import numpy as np\nimport math as math\nimport scipy.stats as st\nimport scipy.special  \nimport matplotlib.pyplot as plt\n\nN = 1000\nn = []\nfor i in range((N//3)):\n    n.append(i/1.0)\n\ntau = []\nfor i in range((1000)):\n    tau.append(i/1000)\n\ndef fact(x):\n    return scipy.special.factorial(x, exact=True)\n\ndef sigma(ntest): \n    NA=1000\n    NB=1000\n    ntest=ntest.astype(int)\n    z1=fact(NA)/(fact(ntest)*fact(NA-ntest))\n    z1=z1.astype(np.float128)\n    z1=np.log(z1)\n    z2=fact(NB)/(fact(ntest)*fact(NB-ntest))\n    z2=z2.astype(np.float128)\n    z2=np.log(z2)\n    return z1+z2\n#sigma(1)\n#sigma(500)\n#sigma(500)\n#fact(500)\n#math.factorial(500)\n#print(sigma(600))\n#print(square(ntest))\n#print(ntest)\n#print(sigma(ntest))\n                                                       ",
    "id": "84895652a93f40f1856ee1cbc80ce41e",
    "idx": 6,
    "time": "2021-02-16T19:25:46.496Z",
    "type": "execution"
   },
   {
    "code": "def F(tautest,ntest):\n    return (2.0*ntest - tautest*sigma(ntest))",
    "id": "db78bdd7fd7b4621bdf91bf9900e6349",
    "idx": 7,
    "time": "2021-02-16T19:25:47.553Z",
    "type": "execution"
   },
   {
    "id": "84895652a93f40f1856ee1cbc80ce41e",
    "time": "2021-02-16T19:25:47.867Z",
    "type": "completion"
   },
   {
    "id": "db78bdd7fd7b4621bdf91bf9900e6349",
    "time": "2021-02-16T19:25:47.870Z",
    "type": "completion"
   },
   {
    "code": "def square(x,y):\n    return np.log(fact(x**2)+y**2)",
    "id": "260dd1a6691749ad84ae2dacfa5f2a96",
    "idx": 8,
    "time": "2021-02-16T19:25:48.414Z",
    "type": "execution"
   },
   {
    "id": "260dd1a6691749ad84ae2dacfa5f2a96",
    "time": "2021-02-16T19:25:48.482Z",
    "type": "completion"
   },
   {
    "code": "y = np.linspace(1, 100, 1000)\nx = np.linspace(.1,.4, 1000)\n#z = fact(x)\n#z = z.astype(np.float128)\n#print(z)\n#z1 = np.log(z)\n#print(z1)  \n#z2 = sigma(y)\n#z2 = z2.astype(np.float128)\n#z2 = np.log(z2)\n#print(z2)\n\n\nx_2d, y_2d = np.meshgrid(x,y)\nprint(x_2d)\nprint(y_2d)\nz_2d = F(x_2d, y_2d)\nprint(z_2d)\ns_2d = sigma(y_2d)\nprint(s_2d)",
    "id": "3db2899b5eae4a4d941fc55ec4afde52",
    "idx": 9,
    "time": "2021-02-16T19:25:49.426Z",
    "type": "execution"
   },
   {
    "code": "from mpl_toolkits.mplot3d import Axes3D\n\nfig = plt.figure(figsize=(8,8)) #create figure object to hold the plot\nax = Axes3D(fig) #create Axes3D object to display the plot\nax.plot_surface(x_2d, y_2d, z_2d)\nax.set_xlabel(\"$x$\")\nax.set_ylabel(\"$y$\")\nax.set_zlabel(\"$F(x,y)$\")",
    "id": "950663c93f4e4522875c90b09192aac5",
    "idx": 10,
    "time": "2021-02-16T19:25:51.261Z",
    "type": "execution"
   },
   {
    "code": "y = np.linspace(1, 100, 500)\nx = np.linspace(.1,.3, 500)\n#z = fact(x)\n#z = z.astype(np.float128)\n#print(z)\n#z1 = np.log(z)\n#print(z1)  \n#z2 = sigma(y)\n#z2 = z2.astype(np.float128)\n#z2 = np.log(z2)\n#print(z2)\n\n\nx_2d, y_2d = np.meshgrid(x,y)\nprint(x_2d)\nprint(y_2d)\nz_2d = F(x_2d, y_2d)\nprint(z_2d)\ns_2d = sigma(y_2d)\nprint(s_2d)",
    "id": "3db2899b5eae4a4d941fc55ec4afde52",
    "idx": 9,
    "time": "2021-02-16T19:26:28.210Z",
    "type": "execution"
   },
   {
    "id": "3db2899b5eae4a4d941fc55ec4afde52",
    "time": "2021-02-16T19:26:28.396Z",
    "type": "completion"
   },
   {
    "id": "3db2899b5eae4a4d941fc55ec4afde52",
    "time": "2021-02-16T19:26:28.396Z",
    "type": "completion"
   },
   {
    "id": "3db2899b5eae4a4d941fc55ec4afde52",
    "time": "2021-02-16T19:26:28.396Z",
    "type": "completion"
   },
   {
    "code": "import numpy as np\nimport math as math\nimport scipy.stats as st\nimport scipy.special  \nimport matplotlib.pyplot as plt\n\nN = 1000\nn = []\nfor i in range((N//3)):\n    n.append(i/1.0)\n\ntau = []\nfor i in range((1000)):\n    tau.append(i/1000)\n\ndef fact(x):\n    return scipy.special.factorial(x, exact=True)\n\ndef sigma(ntest): \n    NA=1000\n    NB=1000\n    ntest=ntest.astype(int)\n    z1=fact(NA)/(fact(ntest)*fact(NA-ntest))\n    z1=z1.astype(np.float128)\n    z1=np.log(z1)\n    z2=fact(NB)/(fact(ntest)*fact(NB-ntest))\n    z2=z2.astype(np.float128)\n    z2=np.log(z2)\n    return z1+z2\n#sigma(1)\n#sigma(500)\n#sigma(500)\n#fact(500)\n#math.factorial(500)\n#print(sigma(600))\n#print(square(ntest))\n#print(ntest)\n#print(sigma(ntest))\n                                                       ",
    "id": "84895652a93f40f1856ee1cbc80ce41e",
    "idx": 6,
    "time": "2021-02-16T19:26:36.554Z",
    "type": "execution"
   },
   {
    "code": "def F(tautest,ntest):\n    return (2.0*ntest - tautest*sigma(ntest))",
    "id": "db78bdd7fd7b4621bdf91bf9900e6349",
    "idx": 7,
    "time": "2021-02-16T19:26:37.502Z",
    "type": "execution"
   },
   {
    "id": "84895652a93f40f1856ee1cbc80ce41e",
    "time": "2021-02-16T19:26:37.715Z",
    "type": "completion"
   },
   {
    "id": "db78bdd7fd7b4621bdf91bf9900e6349",
    "time": "2021-02-16T19:26:37.721Z",
    "type": "completion"
   },
   {
    "code": "def square(x,y):\n    return np.log(fact(x**2)+y**2)",
    "id": "260dd1a6691749ad84ae2dacfa5f2a96",
    "idx": 8,
    "time": "2021-02-16T19:26:38.239Z",
    "type": "execution"
   },
   {
    "id": "260dd1a6691749ad84ae2dacfa5f2a96",
    "time": "2021-02-16T19:26:38.311Z",
    "type": "completion"
   },
   {
    "code": "y = np.linspace(1, 100, 500)\nx = np.linspace(.1,.3, 500)\n#z = fact(x)\n#z = z.astype(np.float128)\n#print(z)\n#z1 = np.log(z)\n#print(z1)  \n#z2 = sigma(y)\n#z2 = z2.astype(np.float128)\n#z2 = np.log(z2)\n#print(z2)\n\n\nx_2d, y_2d = np.meshgrid(x,y)\nprint(x_2d)\nprint(y_2d)\nz_2d = F(x_2d, y_2d)\nprint(z_2d)\ns_2d = sigma(y_2d)\nprint(s_2d)",
    "id": "3db2899b5eae4a4d941fc55ec4afde52",
    "idx": 9,
    "time": "2021-02-16T19:26:39.441Z",
    "type": "execution"
   },
   {
    "code": "from mpl_toolkits.mplot3d import Axes3D\n\nfig = plt.figure(figsize=(8,8)) #create figure object to hold the plot\nax = Axes3D(fig) #create Axes3D object to display the plot\nax.plot_surface(x_2d, y_2d, z_2d)\nax.set_xlabel(\"$x$\")\nax.set_ylabel(\"$y$\")\nax.set_zlabel(\"$F(x,y)$\")",
    "id": "950663c93f4e4522875c90b09192aac5",
    "idx": 10,
    "time": "2021-02-16T19:26:40.680Z",
    "type": "execution"
   },
   {
    "code": "\nprint(z_2d)\nresult = np.where(z_2d == np.amax(z_2d))\nresult",
    "id": "cbd13a2e6edf467c877157d79751d16d",
    "idx": 13,
    "time": "2021-02-16T19:26:44.768Z",
    "type": "execution"
   },
   {
    "code": "minInRows = np.where(z_2d == np.amin(z_2d, axis=0))\n#result = np.where(z_2d == np.amin(z_2d), axis=1)\nprint(minInRows[0])\n",
    "id": "e85faedd9c8243eb8df3422900b8bfc8",
    "idx": 14,
    "time": "2021-02-16T19:26:45.894Z",
    "type": "execution"
   },
   {
    "code": "plt.plot(minInRows[1]\n        , minInRows[0]\n        , 'r-'  # plot with the color red, as line\n        )",
    "id": "438a2dd91fa044e98956b104d4fbc059",
    "idx": 16,
    "time": "2021-02-16T19:26:48.385Z",
    "type": "execution"
   },
   {
    "id": "3db2899b5eae4a4d941fc55ec4afde52",
    "time": "2021-02-16T19:26:48.620Z",
    "type": "completion"
   },
   {
    "id": "950663c93f4e4522875c90b09192aac5",
    "time": "2021-02-16T19:26:51.048Z",
    "type": "completion"
   },
   {
    "id": "950663c93f4e4522875c90b09192aac5",
    "time": "2021-02-16T19:26:51.048Z",
    "type": "completion"
   },
   {
    "id": "950663c93f4e4522875c90b09192aac5",
    "time": "2021-02-16T19:26:51.049Z",
    "type": "completion"
   },
   {
    "id": "cbd13a2e6edf467c877157d79751d16d",
    "time": "2021-02-16T19:26:51.055Z",
    "type": "completion"
   },
   {
    "id": "e85faedd9c8243eb8df3422900b8bfc8",
    "time": "2021-02-16T19:26:51.058Z",
    "type": "completion"
   },
   {
    "id": "438a2dd91fa044e98956b104d4fbc059",
    "time": "2021-02-16T19:26:51.192Z",
    "type": "completion"
   },
   {
    "code": "y = np.linspace(1, 100, 500)\nx = np.linspace(.1,.3, 500)\n#z = fact(x)\n#z = z.astype(np.float128)\n#print(z)\n#z1 = np.log(z)\n#print(z1)  \n#z2 = sigma(y)\n#z2 = z2.astype(np.float128)\n#z2 = np.log(z2)\n#print(z2)\n\n\nx_2d, y_2d = np.meshgrid(x,y)\n#print(x_2d)\n#print(y_2d)\nz_2d = F(x_2d, y_2d)\n#print(z_2d)\ns_2d = sigma(y_2d)\n#print(s_2d)",
    "id": "3db2899b5eae4a4d941fc55ec4afde52",
    "idx": 9,
    "time": "2021-02-16T19:28:03.843Z",
    "type": "execution"
   },
   {
    "code": "from mpl_toolkits.mplot3d import Axes3D\n\nfig = plt.figure(figsize=(8,8)) #create figure object to hold the plot\nax = Axes3D(fig) #create Axes3D object to display the plot\nax.plot_surface(x_2d, y_2d, z_2d)\nax.set_xlabel(\"$x$\")\nax.set_ylabel(\"$y$\")\nax.set_zlabel(\"$F(x,y)$\")",
    "id": "950663c93f4e4522875c90b09192aac5",
    "idx": 10,
    "time": "2021-02-16T19:28:06.565Z",
    "type": "execution"
   },
   {
    "id": "3db2899b5eae4a4d941fc55ec4afde52",
    "time": "2021-02-16T19:28:15.228Z",
    "type": "completion"
   },
   {
    "id": "950663c93f4e4522875c90b09192aac5",
    "time": "2021-02-16T19:28:16.762Z",
    "type": "completion"
   },
   {
    "code": "y = np.linspace(1, 100, 10)\nx = np.linspace(.1,.3, 10)\n#z = fact(x)\n#z = z.astype(np.float128)\n#print(z)\n#z1 = np.log(z)\n#print(z1)  \n#z2 = sigma(y)\n#z2 = z2.astype(np.float128)\n#z2 = np.log(z2)\n#print(z2)\n\n\nx_2d, y_2d = np.meshgrid(x,y)\n#print(x_2d)\n#print(y_2d)\nz_2d = F(x_2d, y_2d)\n#print(z_2d)\ns_2d = sigma(y_2d)\n#print(s_2d)",
    "id": "3db2899b5eae4a4d941fc55ec4afde52",
    "idx": 9,
    "time": "2021-02-16T19:29:01.905Z",
    "type": "execution"
   },
   {
    "id": "3db2899b5eae4a4d941fc55ec4afde52",
    "time": "2021-02-16T19:29:01.972Z",
    "type": "completion"
   },
   {
    "code": "from mpl_toolkits.mplot3d import Axes3D\n\nfig = plt.figure(figsize=(8,8)) #create figure object to hold the plot\nax = Axes3D(fig) #create Axes3D object to display the plot\nax.plot_surface(x_2d, y_2d, z_2d)\nax.set_xlabel(\"$x$\")\nax.set_ylabel(\"$y$\")\nax.set_zlabel(\"$F(x,y)$\")",
    "id": "950663c93f4e4522875c90b09192aac5",
    "idx": 10,
    "time": "2021-02-16T19:29:03.231Z",
    "type": "execution"
   },
   {
    "id": "950663c93f4e4522875c90b09192aac5",
    "time": "2021-02-16T19:29:03.801Z",
    "type": "completion"
   },
   {
    "code": "\nprint(z_2d)\nresult = np.where(z_2d == np.amax(z_2d))\nresult",
    "id": "cbd13a2e6edf467c877157d79751d16d",
    "idx": 13,
    "time": "2021-02-16T19:29:15.836Z",
    "type": "execution"
   },
   {
    "id": "cbd13a2e6edf467c877157d79751d16d",
    "time": "2021-02-16T19:29:15.912Z",
    "type": "completion"
   },
   {
    "code": "minInRows = np.where(z_2d == np.amin(z_2d, axis=0))\n#result = np.where(z_2d == np.amin(z_2d), axis=1)\nprint(minInRows[0])\n",
    "id": "e85faedd9c8243eb8df3422900b8bfc8",
    "idx": 14,
    "time": "2021-02-16T19:29:26.700Z",
    "type": "execution"
   },
   {
    "id": "e85faedd9c8243eb8df3422900b8bfc8",
    "time": "2021-02-16T19:29:28.109Z",
    "type": "completion"
   },
   {
    "code": "plt.plot(minInRows[1]\n        , minInRows[0]\n        , 'r-'  # plot with the color red, as line\n        )",
    "id": "438a2dd91fa044e98956b104d4fbc059",
    "idx": 16,
    "time": "2021-02-16T19:29:28.892Z",
    "type": "execution"
   },
   {
    "id": "438a2dd91fa044e98956b104d4fbc059",
    "time": "2021-02-16T19:29:29.140Z",
    "type": "completion"
   },
   {
    "code": "minInRows = np.where(z_2d == np.amin(z_2d, axis=0))\n#result = np.where(z_2d == np.amin(z_2d), axis=1)\nprint(minInRows[0])\nprint(minInRows[1])\n",
    "id": "e85faedd9c8243eb8df3422900b8bfc8",
    "idx": 14,
    "time": "2021-02-16T19:30:11.697Z",
    "type": "execution"
   },
   {
    "id": "e85faedd9c8243eb8df3422900b8bfc8",
    "time": "2021-02-16T19:30:11.770Z",
    "type": "completion"
   },
   {
    "code": "plt.plot(x_2d[minInRows[0], minInRows[1], y_2d[minInRows[0], minInRows[1])\n        , 'r-'  # plot with the color red, as line\n        )",
    "id": "438a2dd91fa044e98956b104d4fbc059",
    "idx": 16,
    "time": "2021-02-16T19:32:00.167Z",
    "type": "execution"
   },
   {
    "id": "438a2dd91fa044e98956b104d4fbc059",
    "time": "2021-02-16T19:32:00.257Z",
    "type": "completion"
   },
   {
    "code": "plt.plot(x_2d[minInRows[0], minInRows[1]], y_2d[minInRows[0], minInRows[1]]\n        , 'r-'  # plot with the color red, as line\n        )",
    "id": "438a2dd91fa044e98956b104d4fbc059",
    "idx": 16,
    "time": "2021-02-16T19:32:35.878Z",
    "type": "execution"
   },
   {
    "id": "438a2dd91fa044e98956b104d4fbc059",
    "time": "2021-02-16T19:32:36.177Z",
    "type": "completion"
   },
   {
    "code": "import numpy as np\nimport math as math\nimport scipy.stats as st\nimport scipy.special  \nimport matplotlib.pyplot as plt\n\nN = 1000\nn = []\nfor i in range((N//3)):\n    n.append(i/1.0)\n\ntau = []\nfor i in range((1000)):\n    tau.append(i/1000)\n\ndef fact(x):\n    return scipy.special.factorial(x, exact=True)\n\ndef sigma(ntest): \n    NA=1000\n    NB=1000\n    ntest=ntest.astype(int)\n    z1=fact(NA)/(fact(ntest)*fact(NA-ntest))\n    z1=z1.astype(np.float128)\n    z1=np.log(z1)\n    z2=fact(NB)/(fact(ntest)*fact(NB-ntest))\n    z2=z2.astype(np.float128)\n    z2=np.log(z2)\n    return z1+z2\n#sigma(1)\n#sigma(500)\n#sigma(500)\n#fact(500)\n#math.factorial(500)\n#print(sigma(600))\n#print(square(ntest))\n#print(ntest)\n#print(sigma(ntest))\n                                                       ",
    "id": "84895652a93f40f1856ee1cbc80ce41e",
    "idx": 6,
    "time": "2021-02-16T19:33:38.856Z",
    "type": "execution"
   },
   {
    "id": "84895652a93f40f1856ee1cbc80ce41e",
    "time": "2021-02-16T19:33:38.934Z",
    "type": "completion"
   },
   {
    "code": "def F(tautest,ntest):\n    return (2.0*ntest - tautest*sigma(ntest))",
    "id": "db78bdd7fd7b4621bdf91bf9900e6349",
    "idx": 7,
    "time": "2021-02-16T19:33:39.984Z",
    "type": "execution"
   },
   {
    "id": "db78bdd7fd7b4621bdf91bf9900e6349",
    "time": "2021-02-16T19:33:40.043Z",
    "type": "completion"
   },
   {
    "code": "def square(x,y):\n    return np.log(fact(x**2)+y**2)",
    "id": "260dd1a6691749ad84ae2dacfa5f2a96",
    "idx": 8,
    "time": "2021-02-16T19:33:41.458Z",
    "type": "execution"
   },
   {
    "id": "260dd1a6691749ad84ae2dacfa5f2a96",
    "time": "2021-02-16T19:33:41.518Z",
    "type": "completion"
   },
   {
    "code": "y = np.linspace(1, 10, 500)\nx = np.linspace(.15,.3, 500)\n#z = fact(x)\n#z = z.astype(np.float128)\n#print(z)\n#z1 = np.log(z)\n#print(z1)  \n#z2 = sigma(y)\n#z2 = z2.astype(np.float128)\n#z2 = np.log(z2)\n#print(z2)\n\n\nx_2d, y_2d = np.meshgrid(x,y)\n#print(x_2d)\n#print(y_2d)\nz_2d = F(x_2d, y_2d)\n#print(z_2d)\ns_2d = sigma(y_2d)\n#print(s_2d)",
    "id": "3db2899b5eae4a4d941fc55ec4afde52",
    "idx": 9,
    "time": "2021-02-16T19:33:42.972Z",
    "type": "execution"
   },
   {
    "code": "from mpl_toolkits.mplot3d import Axes3D\n\nfig = plt.figure(figsize=(8,8)) #create figure object to hold the plot\nax = Axes3D(fig) #create Axes3D object to display the plot\nax.plot_surface(x_2d, y_2d, z_2d)\nax.set_xlabel(\"$x$\")\nax.set_ylabel(\"$y$\")\nax.set_zlabel(\"$F(x,y)$\")",
    "id": "950663c93f4e4522875c90b09192aac5",
    "idx": 10,
    "time": "2021-02-16T19:33:44.354Z",
    "type": "execution"
   },
   {
    "id": "3db2899b5eae4a4d941fc55ec4afde52",
    "time": "2021-02-16T19:33:49.796Z",
    "type": "completion"
   },
   {
    "code": "\nprint(z_2d)\nresult = np.where(z_2d == np.amax(z_2d))\nresult",
    "id": "cbd13a2e6edf467c877157d79751d16d",
    "idx": 13,
    "time": "2021-02-16T19:33:50.539Z",
    "type": "execution"
   },
   {
    "id": "950663c93f4e4522875c90b09192aac5",
    "time": "2021-02-16T19:33:50.854Z",
    "type": "completion"
   },
   {
    "id": "cbd13a2e6edf467c877157d79751d16d",
    "time": "2021-02-16T19:33:50.861Z",
    "type": "completion"
   },
   {
    "code": "minInRows = np.where(z_2d == np.amin(z_2d, axis=0))\n#result = np.where(z_2d == np.amin(z_2d), axis=1)\nprint(minInRows[0])\nprint(minInRows[1])\n",
    "id": "e85faedd9c8243eb8df3422900b8bfc8",
    "idx": 14,
    "time": "2021-02-16T19:33:52.125Z",
    "type": "execution"
   },
   {
    "id": "e85faedd9c8243eb8df3422900b8bfc8",
    "time": "2021-02-16T19:33:52.198Z",
    "type": "completion"
   },
   {
    "code": "plt.plot(x_2d[minInRows[0], minInRows[1]], y_2d[minInRows[0], minInRows[1]]\n        , 'r-'  # plot with the color red, as line\n        )",
    "id": "438a2dd91fa044e98956b104d4fbc059",
    "idx": 16,
    "time": "2021-02-16T19:33:54.904Z",
    "type": "execution"
   },
   {
    "id": "438a2dd91fa044e98956b104d4fbc059",
    "time": "2021-02-16T19:33:55.149Z",
    "type": "completion"
   },
   {
    "code": "y = np.linspace(1, 10, 500)\nx = np.linspace(.125,.3, 500)\n#z = fact(x)\n#z = z.astype(np.float128)\n#print(z)\n#z1 = np.log(z)\n#print(z1)  \n#z2 = sigma(y)\n#z2 = z2.astype(np.float128)\n#z2 = np.log(z2)\n#print(z2)\n\n\nx_2d, y_2d = np.meshgrid(x,y)\n#print(x_2d)\n#print(y_2d)\nz_2d = F(x_2d, y_2d)\n#print(z_2d)\ns_2d = sigma(y_2d)\n#print(s_2d)",
    "id": "3db2899b5eae4a4d941fc55ec4afde52",
    "idx": 9,
    "time": "2021-02-16T19:34:35.859Z",
    "type": "execution"
   },
   {
    "code": "from mpl_toolkits.mplot3d import Axes3D\n\nfig = plt.figure(figsize=(8,8)) #create figure object to hold the plot\nax = Axes3D(fig) #create Axes3D object to display the plot\nax.plot_surface(x_2d, y_2d, z_2d)\nax.set_xlabel(\"$x$\")\nax.set_ylabel(\"$y$\")\nax.set_zlabel(\"$F(x,y)$\")",
    "id": "950663c93f4e4522875c90b09192aac5",
    "idx": 10,
    "time": "2021-02-16T19:34:36.605Z",
    "type": "execution"
   },
   {
    "code": "\nprint(z_2d)\nresult = np.where(z_2d == np.amax(z_2d))\nresult",
    "id": "cbd13a2e6edf467c877157d79751d16d",
    "idx": 13,
    "time": "2021-02-16T19:34:38.508Z",
    "type": "execution"
   },
   {
    "code": "minInRows = np.where(z_2d == np.amin(z_2d, axis=0))\n#result = np.where(z_2d == np.amin(z_2d), axis=1)\nprint(minInRows[0])\nprint(minInRows[1])\n",
    "id": "e85faedd9c8243eb8df3422900b8bfc8",
    "idx": 14,
    "time": "2021-02-16T19:34:39.086Z",
    "type": "execution"
   },
   {
    "code": "plt.plot(x_2d[minInRows[0], minInRows[1]], y_2d[minInRows[0], minInRows[1]]\n        , 'r-'  # plot with the color red, as line\n        )",
    "id": "438a2dd91fa044e98956b104d4fbc059",
    "idx": 16,
    "time": "2021-02-16T19:34:40.295Z",
    "type": "execution"
   },
   {
    "id": "3db2899b5eae4a4d941fc55ec4afde52",
    "time": "2021-02-16T19:34:43.718Z",
    "type": "completion"
   },
   {
    "id": "950663c93f4e4522875c90b09192aac5",
    "time": "2021-02-16T19:34:44.849Z",
    "type": "completion"
   },
   {
    "id": "cbd13a2e6edf467c877157d79751d16d",
    "time": "2021-02-16T19:34:44.856Z",
    "type": "completion"
   },
   {
    "id": "e85faedd9c8243eb8df3422900b8bfc8",
    "time": "2021-02-16T19:34:44.858Z",
    "type": "completion"
   },
   {
    "id": "438a2dd91fa044e98956b104d4fbc059",
    "time": "2021-02-16T19:34:44.920Z",
    "type": "completion"
   },
   {
    "code": "y = np.linspace(1, 10, 500)\nx = np.linspace(.05,.3, 500)\n#z = fact(x)\n#z = z.astype(np.float128)\n#print(z)\n#z1 = np.log(z)\n#print(z1)  \n#z2 = sigma(y)\n#z2 = z2.astype(np.float128)\n#z2 = np.log(z2)\n#print(z2)\n\n\nx_2d, y_2d = np.meshgrid(x,y)\n#print(x_2d)\n#print(y_2d)\nz_2d = F(x_2d, y_2d)\n#print(z_2d)\ns_2d = sigma(y_2d)\n#print(s_2d)",
    "id": "3db2899b5eae4a4d941fc55ec4afde52",
    "idx": 9,
    "time": "2021-02-16T19:35:58.317Z",
    "type": "execution"
   },
   {
    "code": "from mpl_toolkits.mplot3d import Axes3D\n\nfig = plt.figure(figsize=(8,8)) #create figure object to hold the plot\nax = Axes3D(fig) #create Axes3D object to display the plot\nax.plot_surface(x_2d, y_2d, z_2d)\nax.set_xlabel(\"$x$\")\nax.set_ylabel(\"$y$\")\nax.set_zlabel(\"$F(x,y)$\")",
    "id": "950663c93f4e4522875c90b09192aac5",
    "idx": 10,
    "time": "2021-02-16T19:35:59.348Z",
    "type": "execution"
   },
   {
    "code": "\nprint(z_2d)\nresult = np.where(z_2d == np.amax(z_2d))\nresult",
    "id": "cbd13a2e6edf467c877157d79751d16d",
    "idx": 13,
    "time": "2021-02-16T19:36:01.838Z",
    "type": "execution"
   },
   {
    "code": "minInRows = np.where(z_2d == np.amin(z_2d, axis=0))\n#result = np.where(z_2d == np.amin(z_2d), axis=1)\nprint(minInRows[0])\nprint(minInRows[1])\n",
    "id": "e85faedd9c8243eb8df3422900b8bfc8",
    "idx": 14,
    "time": "2021-02-16T19:36:02.468Z",
    "type": "execution"
   },
   {
    "code": "plt.plot(x_2d[minInRows[0], minInRows[1]], y_2d[minInRows[0], minInRows[1]]\n        , 'r-'  # plot with the color red, as line\n        )",
    "id": "438a2dd91fa044e98956b104d4fbc059",
    "idx": 16,
    "time": "2021-02-16T19:36:04.006Z",
    "type": "execution"
   },
   {
    "id": "3db2899b5eae4a4d941fc55ec4afde52",
    "time": "2021-02-16T19:36:04.736Z",
    "type": "completion"
   },
   {
    "id": "950663c93f4e4522875c90b09192aac5",
    "time": "2021-02-16T19:36:05.757Z",
    "type": "completion"
   },
   {
    "id": "cbd13a2e6edf467c877157d79751d16d",
    "time": "2021-02-16T19:36:05.763Z",
    "type": "completion"
   },
   {
    "id": "e85faedd9c8243eb8df3422900b8bfc8",
    "time": "2021-02-16T19:36:05.765Z",
    "type": "completion"
   },
   {
    "id": "438a2dd91fa044e98956b104d4fbc059",
    "time": "2021-02-16T19:36:05.769Z",
    "type": "completion"
   },
   {
    "code": "fact0)\n",
    "id": "d31159d0f97540a1843c3c7d51afe850",
    "idx": 17,
    "time": "2021-02-16T19:37:35.084Z",
    "type": "execution"
   },
   {
    "id": "d31159d0f97540a1843c3c7d51afe850",
    "time": "2021-02-16T19:37:36.355Z",
    "type": "completion"
   },
   {
    "code": "fact(0)\n",
    "id": "d31159d0f97540a1843c3c7d51afe850",
    "idx": 17,
    "time": "2021-02-16T19:37:45.977Z",
    "type": "execution"
   },
   {
    "id": "d31159d0f97540a1843c3c7d51afe850",
    "time": "2021-02-16T19:37:46.040Z",
    "type": "completion"
   },
   {
    "code": "import numpy as np\nimport math as math\nimport scipy.stats as st\nimport scipy.special  \nimport matplotlib.pyplot as plt\n\ndef fact(x):\n    return scipy.special.factorial(x, exact=True)\n\ndef sigma(ntest): \n    NA=100\n    NB=100\n    ntest=ntest.astype(int)\n    z1=fact(NA)/(fact(ntest)*fact(NA-ntest))\n    z1=z1.astype(np.float128)\n    z1=np.log(z1)\n    z2=fact(NB)/(fact(ntest)*fact(NB-ntest))\n    z2=z2.astype(np.float128)\n    z2=np.log(z2)\n    return z1+z2\n#sigma(1)\n#sigma(500)\n#sigma(500)\n#fact(500)\n#math.factorial(500)\n#print(sigma(600))\n#print(square(ntest))\n#print(ntest)\n#print(sigma(ntest))\n                                                       ",
    "id": "84895652a93f40f1856ee1cbc80ce41e",
    "idx": 6,
    "time": "2021-02-16T19:39:06.924Z",
    "type": "execution"
   },
   {
    "id": "84895652a93f40f1856ee1cbc80ce41e",
    "time": "2021-02-16T19:39:07.007Z",
    "type": "completion"
   },
   {
    "code": "def F(tautest,ntest):\n    return (2.0*ntest - tautest*sigma(ntest))",
    "id": "db78bdd7fd7b4621bdf91bf9900e6349",
    "idx": 7,
    "time": "2021-02-16T19:39:07.817Z",
    "type": "execution"
   },
   {
    "id": "db78bdd7fd7b4621bdf91bf9900e6349",
    "time": "2021-02-16T19:39:07.919Z",
    "type": "completion"
   },
   {
    "code": "def square(x,y):\n    return np.log(fact(x**2)+y**2)",
    "id": "260dd1a6691749ad84ae2dacfa5f2a96",
    "idx": 8,
    "time": "2021-02-16T19:39:08.958Z",
    "type": "execution"
   },
   {
    "id": "260dd1a6691749ad84ae2dacfa5f2a96",
    "time": "2021-02-16T19:39:09.016Z",
    "type": "completion"
   },
   {
    "code": "y = np.linspace(1, 10, 500)\nx = np.linspace(.05,.3, 500)\n#z = fact(x)\n#z = z.astype(np.float128)\n#print(z)\n#z1 = np.log(z)\n#print(z1)  \n#z2 = sigma(y)\n#z2 = z2.astype(np.float128)\n#z2 = np.log(z2)\n#print(z2)\n\n\nx_2d, y_2d = np.meshgrid(x,y)\n#print(x_2d)\n#print(y_2d)\nz_2d = F(x_2d, y_2d)\n#print(z_2d)\ns_2d = sigma(y_2d)\n#print(s_2d)",
    "id": "3db2899b5eae4a4d941fc55ec4afde52",
    "idx": 9,
    "time": "2021-02-16T19:39:09.911Z",
    "type": "execution"
   },
   {
    "code": "from mpl_toolkits.mplot3d import Axes3D\n\nfig = plt.figure(figsize=(8,8)) #create figure object to hold the plot\nax = Axes3D(fig) #create Axes3D object to display the plot\nax.plot_surface(x_2d, y_2d, z_2d)\nax.set_xlabel(\"$x$\")\nax.set_ylabel(\"$y$\")\nax.set_zlabel(\"$F(x,y)$\")",
    "id": "950663c93f4e4522875c90b09192aac5",
    "idx": 10,
    "time": "2021-02-16T19:39:10.777Z",
    "type": "execution"
   },
   {
    "id": "3db2899b5eae4a4d941fc55ec4afde52",
    "time": "2021-02-16T19:39:11.214Z",
    "type": "completion"
   },
   {
    "id": "950663c93f4e4522875c90b09192aac5",
    "time": "2021-02-16T19:39:12.242Z",
    "type": "completion"
   },
   {
    "code": "\nprint(z_2d)\nresult = np.where(z_2d == np.amax(z_2d))\nresult",
    "id": "cbd13a2e6edf467c877157d79751d16d",
    "idx": 13,
    "time": "2021-02-16T19:39:19.516Z",
    "type": "execution"
   },
   {
    "id": "cbd13a2e6edf467c877157d79751d16d",
    "time": "2021-02-16T19:39:19.598Z",
    "type": "completion"
   },
   {
    "code": "minInRows = np.where(z_2d == np.amin(z_2d, axis=0))\n#result = np.where(z_2d == np.amin(z_2d), axis=1)\nprint(minInRows[0])\nprint(minInRows[1])\n",
    "id": "e85faedd9c8243eb8df3422900b8bfc8",
    "idx": 14,
    "time": "2021-02-16T19:39:20.477Z",
    "type": "execution"
   },
   {
    "id": "e85faedd9c8243eb8df3422900b8bfc8",
    "time": "2021-02-16T19:39:20.553Z",
    "type": "completion"
   },
   {
    "code": "plt.plot(x_2d[minInRows[0], minInRows[1]], y_2d[minInRows[0], minInRows[1]]\n        , 'r-'  # plot with the color red, as line\n        )",
    "id": "438a2dd91fa044e98956b104d4fbc059",
    "idx": 16,
    "time": "2021-02-16T19:39:22.447Z",
    "type": "execution"
   },
   {
    "id": "438a2dd91fa044e98956b104d4fbc059",
    "time": "2021-02-16T19:39:22.726Z",
    "type": "completion"
   },
   {
    "code": "y = np.linspace(1, 10, 500)\nx = np.linspace(.0,.3, 500)\n#z = fact(x)\n#z = z.astype(np.float128)\n#print(z)\n#z1 = np.log(z)\n#print(z1)  \n#z2 = sigma(y)\n#z2 = z2.astype(np.float128)\n#z2 = np.log(z2)\n#print(z2)\n\n\nx_2d, y_2d = np.meshgrid(x,y)\n#print(x_2d)\n#print(y_2d)\nz_2d = F(x_2d, y_2d)\n#print(z_2d)\ns_2d = sigma(y_2d)\n#print(s_2d)",
    "id": "3db2899b5eae4a4d941fc55ec4afde52",
    "idx": 9,
    "time": "2021-02-16T19:39:46.114Z",
    "type": "execution"
   },
   {
    "code": "from mpl_toolkits.mplot3d import Axes3D\n\nfig = plt.figure(figsize=(8,8)) #create figure object to hold the plot\nax = Axes3D(fig) #create Axes3D object to display the plot\nax.plot_surface(x_2d, y_2d, z_2d)\nax.set_xlabel(\"$x$\")\nax.set_ylabel(\"$y$\")\nax.set_zlabel(\"$F(x,y)$\")",
    "id": "950663c93f4e4522875c90b09192aac5",
    "idx": 10,
    "time": "2021-02-16T19:39:46.947Z",
    "type": "execution"
   },
   {
    "id": "3db2899b5eae4a4d941fc55ec4afde52",
    "time": "2021-02-16T19:39:47.822Z",
    "type": "completion"
   },
   {
    "code": "\nprint(z_2d)\nresult = np.where(z_2d == np.amax(z_2d))\nresult",
    "id": "cbd13a2e6edf467c877157d79751d16d",
    "idx": 13,
    "time": "2021-02-16T19:39:49.374Z",
    "type": "execution"
   },
   {
    "id": "950663c93f4e4522875c90b09192aac5",
    "time": "2021-02-16T19:39:49.655Z",
    "type": "completion"
   },
   {
    "id": "cbd13a2e6edf467c877157d79751d16d",
    "time": "2021-02-16T19:39:49.669Z",
    "type": "completion"
   },
   {
    "code": "minInRows = np.where(z_2d == np.amin(z_2d, axis=0))\n#result = np.where(z_2d == np.amin(z_2d), axis=1)\nprint(minInRows[0])\nprint(minInRows[1])\n",
    "id": "e85faedd9c8243eb8df3422900b8bfc8",
    "idx": 14,
    "time": "2021-02-16T19:39:50.136Z",
    "type": "execution"
   },
   {
    "id": "e85faedd9c8243eb8df3422900b8bfc8",
    "time": "2021-02-16T19:39:50.217Z",
    "type": "completion"
   },
   {
    "code": "plt.plot(x_2d[minInRows[0], minInRows[1]], y_2d[minInRows[0], minInRows[1]]\n        , 'r-'  # plot with the color red, as line\n        )",
    "id": "438a2dd91fa044e98956b104d4fbc059",
    "idx": 16,
    "time": "2021-02-16T19:39:52.038Z",
    "type": "execution"
   },
   {
    "id": "438a2dd91fa044e98956b104d4fbc059",
    "time": "2021-02-16T19:39:52.442Z",
    "type": "completion"
   },
   {
    "code": "import numpy as np\nimport math as math\nimport scipy.stats as st\nimport scipy.special  \nimport matplotlib.pyplot as plt\n\ndef fact(x):\n    #return scipy.special.factorial(x, exact=True)\n    return math.factorial(x)\n\ndef sigma(ntest): \n    NA=100\n    NB=100\n    ntest=ntest.astype(int)\n    z1=fact(NA)/(fact(ntest)*fact(NA-ntest))\n    z1=z1.astype(np.float128)\n    z1=np.log(z1)\n    z2=fact(NB)/(fact(ntest)*fact(NB-ntest))\n    z2=z2.astype(np.float128)\n    z2=np.log(z2)\n    return z1+z2\n#sigma(1)\n#sigma(500)\n#sigma(500)\n#fact(500)\n#math.factorial(500)\n#print(sigma(600))\n#print(square(ntest))\n#print(ntest)\n#print(sigma(ntest))\n                                                       ",
    "id": "84895652a93f40f1856ee1cbc80ce41e",
    "idx": 6,
    "time": "2021-02-16T19:41:41.707Z",
    "type": "execution"
   },
   {
    "id": "84895652a93f40f1856ee1cbc80ce41e",
    "time": "2021-02-16T19:41:41.785Z",
    "type": "completion"
   },
   {
    "code": "def F(tautest,ntest):\n    return (2.0*ntest - tautest*sigma(ntest))",
    "id": "db78bdd7fd7b4621bdf91bf9900e6349",
    "idx": 7,
    "time": "2021-02-16T19:41:42.727Z",
    "type": "execution"
   },
   {
    "id": "db78bdd7fd7b4621bdf91bf9900e6349",
    "time": "2021-02-16T19:41:42.785Z",
    "type": "completion"
   },
   {
    "code": "def square(x,y):\n    return np.log(fact(x**2)+y**2)",
    "id": "260dd1a6691749ad84ae2dacfa5f2a96",
    "idx": 8,
    "time": "2021-02-16T19:41:43.356Z",
    "type": "execution"
   },
   {
    "id": "260dd1a6691749ad84ae2dacfa5f2a96",
    "time": "2021-02-16T19:41:43.415Z",
    "type": "completion"
   },
   {
    "code": "y = np.linspace(1, 10, 500)\nx = np.linspace(.0,.3, 500)\n#z = fact(x)\n#z = z.astype(np.float128)\n#print(z)\n#z1 = np.log(z)\n#print(z1)  \n#z2 = sigma(y)\n#z2 = z2.astype(np.float128)\n#z2 = np.log(z2)\n#print(z2)\n\n\nx_2d, y_2d = np.meshgrid(x,y)\n#print(x_2d)\n#print(y_2d)\nz_2d = F(x_2d, y_2d)\n#print(z_2d)\ns_2d = sigma(y_2d)\n#print(s_2d)",
    "id": "3db2899b5eae4a4d941fc55ec4afde52",
    "idx": 9,
    "time": "2021-02-16T19:41:44.142Z",
    "type": "execution"
   },
   {
    "id": "3db2899b5eae4a4d941fc55ec4afde52",
    "time": "2021-02-16T19:41:44.284Z",
    "type": "completion"
   },
   {
    "code": "from mpl_toolkits.mplot3d import Axes3D\n\nfig = plt.figure(figsize=(8,8)) #create figure object to hold the plot\nax = Axes3D(fig) #create Axes3D object to display the plot\nax.plot_surface(x_2d, y_2d, z_2d)\nax.set_xlabel(\"$x$\")\nax.set_ylabel(\"$y$\")\nax.set_zlabel(\"$F(x,y)$\")",
    "id": "950663c93f4e4522875c90b09192aac5",
    "idx": 10,
    "time": "2021-02-16T19:41:45.226Z",
    "type": "execution"
   },
   {
    "id": "950663c93f4e4522875c90b09192aac5",
    "time": "2021-02-16T19:41:46.404Z",
    "type": "completion"
   },
   {
    "code": "\nprint(z_2d)\nresult = np.where(z_2d == np.amax(z_2d))\nresult",
    "id": "cbd13a2e6edf467c877157d79751d16d",
    "idx": 13,
    "time": "2021-02-16T19:41:55.959Z",
    "type": "execution"
   },
   {
    "id": "cbd13a2e6edf467c877157d79751d16d",
    "time": "2021-02-16T19:41:56.023Z",
    "type": "completion"
   },
   {
    "code": "minInRows = np.where(z_2d == np.amin(z_2d, axis=0))\n#result = np.where(z_2d == np.amin(z_2d), axis=1)\nprint(minInRows[0])\nprint(minInRows[1])\n",
    "id": "e85faedd9c8243eb8df3422900b8bfc8",
    "idx": 14,
    "time": "2021-02-16T19:41:57.093Z",
    "type": "execution"
   },
   {
    "id": "e85faedd9c8243eb8df3422900b8bfc8",
    "time": "2021-02-16T19:41:57.178Z",
    "type": "completion"
   },
   {
    "code": "plt.plot(x_2d[minInRows[0], minInRows[1]], y_2d[minInRows[0], minInRows[1]]\n        , 'r-'  # plot with the color red, as line\n        )",
    "id": "438a2dd91fa044e98956b104d4fbc059",
    "idx": 16,
    "time": "2021-02-16T19:41:59.394Z",
    "type": "execution"
   },
   {
    "id": "438a2dd91fa044e98956b104d4fbc059",
    "time": "2021-02-16T19:41:59.660Z",
    "type": "completion"
   },
   {
    "code": "import numpy as np\nimport math as math\nimport scipy.stats as st\nimport scipy.special  \nimport matplotlib.pyplot as plt\n\ndef fact(x):\n    return scipy.special.factorial(x, exact=True)\n    #return math.factorial(x)\n\ndef sigma(ntest): \n    NA=100\n    NB=100\n    ntest=ntest.astype(int)\n    z1=fact(NA)/(fact(ntest)*fact(NA-ntest))\n    z1=z1.astype(np.float128)\n    z1=np.log(z1)\n    z2=fact(NB)/(fact(ntest)*fact(NB-ntest))\n    z2=z2.astype(np.float128)\n    z2=np.log(z2)\n    return z1+z2\n#sigma(1)\n#sigma(500)\n#sigma(500)\n#fact(500)\n#math.factorial(500)\n#print(sigma(600))\n#print(square(ntest))\n#print(ntest)\n#print(sigma(ntest))\n                                                       ",
    "id": "84895652a93f40f1856ee1cbc80ce41e",
    "idx": 6,
    "time": "2021-02-16T19:42:40.732Z",
    "type": "execution"
   },
   {
    "id": "84895652a93f40f1856ee1cbc80ce41e",
    "time": "2021-02-16T19:42:40.797Z",
    "type": "completion"
   },
   {
    "code": "def F(tautest,ntest):\n    return (2.0*ntest - tautest*sigma(ntest))",
    "id": "db78bdd7fd7b4621bdf91bf9900e6349",
    "idx": 7,
    "time": "2021-02-16T19:42:41.746Z",
    "type": "execution"
   },
   {
    "id": "db78bdd7fd7b4621bdf91bf9900e6349",
    "time": "2021-02-16T19:42:41.807Z",
    "type": "completion"
   },
   {
    "code": "def square(x,y):\n    return np.log(fact(x**2)+y**2)",
    "id": "260dd1a6691749ad84ae2dacfa5f2a96",
    "idx": 8,
    "time": "2021-02-16T19:42:42.532Z",
    "type": "execution"
   },
   {
    "id": "260dd1a6691749ad84ae2dacfa5f2a96",
    "time": "2021-02-16T19:42:42.591Z",
    "type": "completion"
   },
   {
    "code": "y = np.linspace(1, 10, 500)\nx = np.linspace(.0,.3, 500)\n#z = fact(x)\n#z = z.astype(np.float128)\n#print(z)\n#z1 = np.log(z)\n#print(z1)  \n#z2 = sigma(y)\n#z2 = z2.astype(np.float128)\n#z2 = np.log(z2)\n#print(z2)\n\n\nx_2d, y_2d = np.meshgrid(x,y)\n#print(x_2d)\n#print(y_2d)\nz_2d = F(x_2d, y_2d)\n#print(z_2d)\ns_2d = sigma(y_2d)\n#print(s_2d)",
    "id": "3db2899b5eae4a4d941fc55ec4afde52",
    "idx": 9,
    "time": "2021-02-16T19:42:43.401Z",
    "type": "execution"
   },
   {
    "id": "3db2899b5eae4a4d941fc55ec4afde52",
    "time": "2021-02-16T19:42:44.692Z",
    "type": "completion"
   },
   {
    "code": "from mpl_toolkits.mplot3d import Axes3D\n\nfig = plt.figure(figsize=(8,8)) #create figure object to hold the plot\nax = Axes3D(fig) #create Axes3D object to display the plot\nax.plot_surface(x_2d, y_2d, z_2d)\nax.set_xlabel(\"$x$\")\nax.set_ylabel(\"$y$\")\nax.set_zlabel(\"$F(x,y)$\")",
    "id": "950663c93f4e4522875c90b09192aac5",
    "idx": 10,
    "time": "2021-02-16T19:42:47.357Z",
    "type": "execution"
   },
   {
    "id": "950663c93f4e4522875c90b09192aac5",
    "time": "2021-02-16T19:42:48.386Z",
    "type": "completion"
   },
   {
    "code": "\nprint(z_2d)\nresult = np.where(z_2d == np.amax(z_2d))\nresult",
    "id": "cbd13a2e6edf467c877157d79751d16d",
    "idx": 13,
    "time": "2021-02-16T19:42:50.791Z",
    "type": "execution"
   },
   {
    "id": "cbd13a2e6edf467c877157d79751d16d",
    "time": "2021-02-16T19:42:50.858Z",
    "type": "completion"
   },
   {
    "code": "minInRows = np.where(z_2d == np.amin(z_2d, axis=0))\n#result = np.where(z_2d == np.amin(z_2d), axis=1)\nprint(minInRows[0])\nprint(minInRows[1])\n",
    "id": "e85faedd9c8243eb8df3422900b8bfc8",
    "idx": 14,
    "time": "2021-02-16T19:42:51.825Z",
    "type": "execution"
   },
   {
    "id": "e85faedd9c8243eb8df3422900b8bfc8",
    "time": "2021-02-16T19:42:51.897Z",
    "type": "completion"
   },
   {
    "code": "plt.plot(x_2d[minInRows[0], minInRows[1]], y_2d[minInRows[0], minInRows[1]]\n        , 'r-'  # plot with the color red, as line\n        )",
    "id": "438a2dd91fa044e98956b104d4fbc059",
    "idx": 16,
    "time": "2021-02-16T19:42:54.092Z",
    "type": "execution"
   },
   {
    "id": "438a2dd91fa044e98956b104d4fbc059",
    "time": "2021-02-16T19:42:54.373Z",
    "type": "completion"
   },
   {
    "code": "y = np.linspace(1, 10, 10)\nx = np.linspace(.0,.3, 10)\nx_2d, y_2d = np.meshgrid(x,y)\nz_2d = F(x_2d, y_2d)",
    "id": "3db2899b5eae4a4d941fc55ec4afde52",
    "idx": 8,
    "time": "2021-02-16T19:48:55.937Z",
    "type": "execution"
   },
   {
    "id": "3db2899b5eae4a4d941fc55ec4afde52",
    "time": "2021-02-16T19:48:56.026Z",
    "type": "completion"
   },
   {
    "code": "from mpl_toolkits.mplot3d import Axes3D\nfig = plt.figure(figsize=(8,8)) #create figure object to hold the plot\nax = Axes3D(fig) #create Axes3D object to display the plot\nax.plot_surface(x_2d, y_2d, z_2d)\nax.set_xlabel(\"$x$\")\nax.set_ylabel(\"$y$\")\nax.set_zlabel(\"$F(x,y)$\")",
    "id": "950663c93f4e4522875c90b09192aac5",
    "idx": 9,
    "time": "2021-02-16T19:48:56.631Z",
    "type": "execution"
   },
   {
    "id": "950663c93f4e4522875c90b09192aac5",
    "time": "2021-02-16T19:48:57.240Z",
    "type": "completion"
   },
   {
    "code": "\nprint(z_2d)\nresult = np.where(z_2d == np.amax(z_2d))\nresult",
    "id": "cbd13a2e6edf467c877157d79751d16d",
    "idx": 12,
    "time": "2021-02-16T19:48:58.987Z",
    "type": "execution"
   },
   {
    "id": "cbd13a2e6edf467c877157d79751d16d",
    "time": "2021-02-16T19:48:59.055Z",
    "type": "completion"
   },
   {
    "code": "minInRows = np.where(z_2d == np.amin(z_2d, axis=0))\n#result = np.where(z_2d == np.amin(z_2d), axis=1)\nprint(minInRows[0])\nprint(minInRows[1])\n",
    "id": "e85faedd9c8243eb8df3422900b8bfc8",
    "idx": 13,
    "time": "2021-02-16T19:49:00.105Z",
    "type": "execution"
   },
   {
    "id": "e85faedd9c8243eb8df3422900b8bfc8",
    "time": "2021-02-16T19:49:00.177Z",
    "type": "completion"
   },
   {
    "code": "plt.plot(x_2d[minInRows[0], minInRows[1]], y_2d[minInRows[0], minInRows[1]]\n        , 'r-'  # plot with the color red, as line\n        )",
    "id": "438a2dd91fa044e98956b104d4fbc059",
    "idx": 15,
    "time": "2021-02-16T19:49:01.717Z",
    "type": "execution"
   },
   {
    "id": "438a2dd91fa044e98956b104d4fbc059",
    "time": "2021-02-16T19:49:02.009Z",
    "type": "completion"
   },
   {
    "code": "y = np.linspace(0, 10, 100)\nx = np.linspace(.0,.5, 100)\nx_2d, y_2d = np.meshgrid(x,y)\nz_2d = F(x_2d, y_2d)",
    "id": "3db2899b5eae4a4d941fc55ec4afde52",
    "idx": 8,
    "time": "2021-02-16T19:49:42.316Z",
    "type": "execution"
   },
   {
    "id": "3db2899b5eae4a4d941fc55ec4afde52",
    "time": "2021-02-16T19:49:42.408Z",
    "type": "completion"
   },
   {
    "code": "from mpl_toolkits.mplot3d import Axes3D\nfig = plt.figure(figsize=(8,8)) #create figure object to hold the plot\nax = Axes3D(fig) #create Axes3D object to display the plot\nax.plot_surface(x_2d, y_2d, z_2d)\nax.set_xlabel(\"$x$\")\nax.set_ylabel(\"$y$\")\nax.set_zlabel(\"$F(x,y)$\")",
    "id": "950663c93f4e4522875c90b09192aac5",
    "idx": 9,
    "time": "2021-02-16T19:49:43.122Z",
    "type": "execution"
   },
   {
    "id": "950663c93f4e4522875c90b09192aac5",
    "time": "2021-02-16T19:49:44.226Z",
    "type": "completion"
   },
   {
    "code": "\nprint(z_2d)\nresult = np.where(z_2d == np.amax(z_2d))\nresult",
    "id": "cbd13a2e6edf467c877157d79751d16d",
    "idx": 12,
    "time": "2021-02-16T19:49:46.121Z",
    "type": "execution"
   },
   {
    "id": "cbd13a2e6edf467c877157d79751d16d",
    "time": "2021-02-16T19:49:46.201Z",
    "type": "completion"
   },
   {
    "code": "minInRows = np.where(z_2d == np.amin(z_2d, axis=0))\n#result = np.where(z_2d == np.amin(z_2d), axis=1)\nprint(minInRows[0])\nprint(minInRows[1])\n",
    "id": "e85faedd9c8243eb8df3422900b8bfc8",
    "idx": 13,
    "time": "2021-02-16T19:49:46.890Z",
    "type": "execution"
   },
   {
    "id": "e85faedd9c8243eb8df3422900b8bfc8",
    "time": "2021-02-16T19:49:46.953Z",
    "type": "completion"
   },
   {
    "code": "plt.plot(x_2d[minInRows[0], minInRows[1]], y_2d[minInRows[0], minInRows[1]]\n        , 'r-'  # plot with the color red, as line\n        )",
    "id": "438a2dd91fa044e98956b104d4fbc059",
    "idx": 15,
    "time": "2021-02-16T19:49:48.496Z",
    "type": "execution"
   },
   {
    "id": "438a2dd91fa044e98956b104d4fbc059",
    "time": "2021-02-16T19:49:48.741Z",
    "type": "completion"
   },
   {
    "code": "def Stirling(tau):\n    N=1000\n    return N*np.exp(-tau)/(1+np.exp(-tau))",
    "id": "c6eb5ceb74a745c68e9b3ec81d8b91db",
    "idx": 14,
    "time": "2021-02-16T20:02:41.981Z",
    "type": "execution"
   },
   {
    "id": "c6eb5ceb74a745c68e9b3ec81d8b91db",
    "time": "2021-02-16T20:02:42.113Z",
    "type": "completion"
   },
   {
    "code": "Stirling(.3)\n",
    "id": "27574747975348018c9d1b3161fec8f1",
    "idx": 15,
    "time": "2021-02-16T20:03:10.747Z",
    "type": "execution"
   },
   {
    "id": "27574747975348018c9d1b3161fec8f1",
    "time": "2021-02-16T20:03:10.823Z",
    "type": "completion"
   },
   {
    "code": "#print(z_2d)\nresult = np.where(z_2d == np.amax(z_2d))",
    "id": "cbd13a2e6edf467c877157d79751d16d",
    "idx": 12,
    "time": "2021-02-16T20:03:52.312Z",
    "type": "execution"
   },
   {
    "id": "cbd13a2e6edf467c877157d79751d16d",
    "time": "2021-02-16T20:03:52.387Z",
    "type": "completion"
   },
   {
    "code": "import numpy as np\nimport math as math\nimport scipy.stats as st\nimport scipy.special  \nimport matplotlib.pyplot as plt\n\ndef fact(x):\n    return scipy.special.factorial(x, exact=True)\n    #return math.factorial(x)\n\ndef sigma(ntest): \n    NA=1000\n    NB=1000\n    ntest=ntest.astype(int)\n    z1=fact(NA)/(fact(ntest)*fact(NA-ntest))\n    z1=z1.astype(np.float128)\n    z1=np.log(z1)\n    z2=fact(NB)/(fact(ntest)*fact(NB-ntest))\n    z2=z2.astype(np.float128)\n    z2=np.log(z2)\n    return z1+z2                                                 ",
    "id": "84895652a93f40f1856ee1cbc80ce41e",
    "idx": 6,
    "time": "2021-02-16T20:04:23.883Z",
    "type": "execution"
   },
   {
    "id": "84895652a93f40f1856ee1cbc80ce41e",
    "time": "2021-02-16T20:04:23.956Z",
    "type": "completion"
   },
   {
    "code": "def F(tautest,ntest):\n    return (2.0*ntest - tautest*sigma(ntest))",
    "id": "db78bdd7fd7b4621bdf91bf9900e6349",
    "idx": 7,
    "time": "2021-02-16T20:04:24.625Z",
    "type": "execution"
   },
   {
    "id": "db78bdd7fd7b4621bdf91bf9900e6349",
    "time": "2021-02-16T20:04:24.682Z",
    "type": "completion"
   },
   {
    "code": "y = np.linspace(0, 10, 100)\nx = np.linspace(.0,.5, 100)\nx_2d, y_2d = np.meshgrid(x,y)\nz_2d = F(x_2d, y_2d)",
    "id": "3db2899b5eae4a4d941fc55ec4afde52",
    "idx": 8,
    "time": "2021-02-16T20:04:25.448Z",
    "type": "execution"
   },
   {
    "id": "3db2899b5eae4a4d941fc55ec4afde52",
    "time": "2021-02-16T20:04:25.616Z",
    "type": "completion"
   },
   {
    "code": "from mpl_toolkits.mplot3d import Axes3D\nfig = plt.figure(figsize=(8,8)) #create figure object to hold the plot\nax = Axes3D(fig) #create Axes3D object to display the plot\nax.plot_surface(x_2d, y_2d, z_2d)\nax.set_xlabel(\"$x$\")\nax.set_ylabel(\"$y$\")\nax.set_zlabel(\"$F(x,y)$\")",
    "id": "950663c93f4e4522875c90b09192aac5",
    "idx": 9,
    "time": "2021-02-16T20:04:26.365Z",
    "type": "execution"
   },
   {
    "id": "950663c93f4e4522875c90b09192aac5",
    "time": "2021-02-16T20:04:27.527Z",
    "type": "completion"
   },
   {
    "code": "#print(z_2d)\nresult = np.where(z_2d == np.amax(z_2d))",
    "id": "cbd13a2e6edf467c877157d79751d16d",
    "idx": 12,
    "time": "2021-02-16T20:04:29.931Z",
    "type": "execution"
   },
   {
    "id": "cbd13a2e6edf467c877157d79751d16d",
    "time": "2021-02-16T20:04:29.993Z",
    "type": "completion"
   },
   {
    "code": "minInRows = np.where(z_2d == np.amin(z_2d, axis=0))\n#result = np.where(z_2d == np.amin(z_2d), axis=1)\n#print(minInRows[0])\n#print(minInRows[1])\n",
    "id": "e85faedd9c8243eb8df3422900b8bfc8",
    "idx": 13,
    "time": "2021-02-16T20:04:30.544Z",
    "type": "execution"
   },
   {
    "id": "e85faedd9c8243eb8df3422900b8bfc8",
    "time": "2021-02-16T20:04:30.605Z",
    "type": "completion"
   },
   {
    "code": "def Stirling(tau):\n    N=1000\n    return N*np.exp(-tau)/(1+np.exp(-tau))",
    "id": "c6eb5ceb74a745c68e9b3ec81d8b91db",
    "idx": 14,
    "time": "2021-02-16T20:04:31.661Z",
    "type": "execution"
   },
   {
    "id": "c6eb5ceb74a745c68e9b3ec81d8b91db",
    "time": "2021-02-16T20:04:31.720Z",
    "type": "completion"
   },
   {
    "code": "Stirling(.3)\n",
    "id": "27574747975348018c9d1b3161fec8f1",
    "idx": 15,
    "time": "2021-02-16T20:04:32.481Z",
    "type": "execution"
   },
   {
    "id": "27574747975348018c9d1b3161fec8f1",
    "time": "2021-02-16T20:04:32.552Z",
    "type": "completion"
   },
   {
    "code": "plt.plot(x_2d[minInRows[0], minInRows[1]], y_2d[minInRows[0], minInRows[1]]\n        , 'r-'  # plot with the color red, as line\n        )",
    "id": "438a2dd91fa044e98956b104d4fbc059",
    "idx": 16,
    "time": "2021-02-16T20:04:34.507Z",
    "type": "execution"
   },
   {
    "id": "438a2dd91fa044e98956b104d4fbc059",
    "time": "2021-02-16T20:04:34.840Z",
    "type": "completion"
   },
   {
    "code": "y = np.linspace(0, 100, 300)\nx = np.linspace(.0,.5, 100)\nx_2d, y_2d = np.meshgrid(x,y)\nz_2d = F(x_2d, y_2d)",
    "id": "3db2899b5eae4a4d941fc55ec4afde52",
    "idx": 8,
    "time": "2021-02-16T20:05:05.050Z",
    "type": "execution"
   },
   {
    "code": "from mpl_toolkits.mplot3d import Axes3D\nfig = plt.figure(figsize=(8,8)) #create figure object to hold the plot\nax = Axes3D(fig) #create Axes3D object to display the plot\nax.plot_surface(x_2d, y_2d, z_2d)\nax.set_xlabel(\"$x$\")\nax.set_ylabel(\"$y$\")\nax.set_zlabel(\"$F(x,y)$\")",
    "id": "950663c93f4e4522875c90b09192aac5",
    "idx": 9,
    "time": "2021-02-16T20:05:05.697Z",
    "type": "execution"
   },
   {
    "id": "3db2899b5eae4a4d941fc55ec4afde52",
    "time": "2021-02-16T20:05:05.904Z",
    "type": "completion"
   },
   {
    "id": "950663c93f4e4522875c90b09192aac5",
    "time": "2021-02-16T20:05:07.399Z",
    "type": "completion"
   },
   {
    "code": "#print(z_2d)\nresult = np.where(z_2d == np.amax(z_2d))",
    "id": "cbd13a2e6edf467c877157d79751d16d",
    "idx": 12,
    "time": "2021-02-16T20:05:07.600Z",
    "type": "execution"
   },
   {
    "id": "cbd13a2e6edf467c877157d79751d16d",
    "time": "2021-02-16T20:05:07.658Z",
    "type": "completion"
   },
   {
    "code": "minInRows = np.where(z_2d == np.amin(z_2d, axis=0))\n#result = np.where(z_2d == np.amin(z_2d), axis=1)\n#print(minInRows[0])\n#print(minInRows[1])\n",
    "id": "e85faedd9c8243eb8df3422900b8bfc8",
    "idx": 13,
    "time": "2021-02-16T20:05:08.439Z",
    "type": "execution"
   },
   {
    "id": "e85faedd9c8243eb8df3422900b8bfc8",
    "time": "2021-02-16T20:05:08.499Z",
    "type": "completion"
   },
   {
    "code": "def Stirling(tau):\n    N=1000\n    return N*np.exp(-tau)/(1+np.exp(-tau))",
    "id": "c6eb5ceb74a745c68e9b3ec81d8b91db",
    "idx": 14,
    "time": "2021-02-16T20:05:08.998Z",
    "type": "execution"
   },
   {
    "id": "c6eb5ceb74a745c68e9b3ec81d8b91db",
    "time": "2021-02-16T20:05:09.058Z",
    "type": "completion"
   },
   {
    "code": "Stirling(.3)\n",
    "id": "27574747975348018c9d1b3161fec8f1",
    "idx": 15,
    "time": "2021-02-16T20:05:09.520Z",
    "type": "execution"
   },
   {
    "id": "27574747975348018c9d1b3161fec8f1",
    "time": "2021-02-16T20:05:09.591Z",
    "type": "completion"
   },
   {
    "code": "plt.plot(x_2d[minInRows[0], minInRows[1]], y_2d[minInRows[0], minInRows[1]]\n        , 'r-'  # plot with the color red, as line\n        )",
    "id": "438a2dd91fa044e98956b104d4fbc059",
    "idx": 16,
    "time": "2021-02-16T20:05:10.149Z",
    "type": "execution"
   },
   {
    "id": "438a2dd91fa044e98956b104d4fbc059",
    "time": "2021-02-16T20:05:10.473Z",
    "type": "completion"
   },
   {
    "code": "y = np.linspace(0, 100, 300)\nx = np.linspace(.0,2, 100)\nx_2d, y_2d = np.meshgrid(x,y)\nz_2d = F(x_2d, y_2d)",
    "id": "3db2899b5eae4a4d941fc55ec4afde52",
    "idx": 8,
    "time": "2021-02-16T20:05:48.074Z",
    "type": "execution"
   },
   {
    "code": "from mpl_toolkits.mplot3d import Axes3D\nfig = plt.figure(figsize=(8,8)) #create figure object to hold the plot\nax = Axes3D(fig) #create Axes3D object to display the plot\nax.plot_surface(x_2d, y_2d, z_2d)\nax.set_xlabel(\"$x$\")\nax.set_ylabel(\"$y$\")\nax.set_zlabel(\"$F(x,y)$\")",
    "id": "950663c93f4e4522875c90b09192aac5",
    "idx": 9,
    "time": "2021-02-16T20:05:48.605Z",
    "type": "execution"
   },
   {
    "id": "3db2899b5eae4a4d941fc55ec4afde52",
    "time": "2021-02-16T20:05:48.916Z",
    "type": "completion"
   },
   {
    "code": "#print(z_2d)\nresult = np.where(z_2d == np.amax(z_2d))",
    "id": "cbd13a2e6edf467c877157d79751d16d",
    "idx": 12,
    "time": "2021-02-16T20:05:50.224Z",
    "type": "execution"
   },
   {
    "id": "950663c93f4e4522875c90b09192aac5",
    "time": "2021-02-16T20:05:50.454Z",
    "type": "completion"
   },
   {
    "id": "cbd13a2e6edf467c877157d79751d16d",
    "time": "2021-02-16T20:05:50.457Z",
    "type": "completion"
   },
   {
    "code": "minInRows = np.where(z_2d == np.amin(z_2d, axis=0))\n#result = np.where(z_2d == np.amin(z_2d), axis=1)\n#print(minInRows[0])\n#print(minInRows[1])\n",
    "id": "e85faedd9c8243eb8df3422900b8bfc8",
    "idx": 13,
    "time": "2021-02-16T20:05:50.763Z",
    "type": "execution"
   },
   {
    "id": "e85faedd9c8243eb8df3422900b8bfc8",
    "time": "2021-02-16T20:05:50.824Z",
    "type": "completion"
   },
   {
    "code": "def Stirling(tau):\n    N=1000\n    return N*np.exp(-tau)/(1+np.exp(-tau))",
    "id": "c6eb5ceb74a745c68e9b3ec81d8b91db",
    "idx": 14,
    "time": "2021-02-16T20:05:51.532Z",
    "type": "execution"
   },
   {
    "id": "c6eb5ceb74a745c68e9b3ec81d8b91db",
    "time": "2021-02-16T20:05:51.591Z",
    "type": "completion"
   },
   {
    "code": "Stirling(.3)\n",
    "id": "27574747975348018c9d1b3161fec8f1",
    "idx": 15,
    "time": "2021-02-16T20:05:52.095Z",
    "type": "execution"
   },
   {
    "id": "27574747975348018c9d1b3161fec8f1",
    "time": "2021-02-16T20:05:52.165Z",
    "type": "completion"
   },
   {
    "code": "plt.plot(x_2d[minInRows[0], minInRows[1]], y_2d[minInRows[0], minInRows[1]]\n        , 'r-'  # plot with the color red, as line\n        )",
    "id": "438a2dd91fa044e98956b104d4fbc059",
    "idx": 16,
    "time": "2021-02-16T20:05:52.724Z",
    "type": "execution"
   },
   {
    "id": "438a2dd91fa044e98956b104d4fbc059",
    "time": "2021-02-16T20:05:53.145Z",
    "type": "completion"
   },
   {
    "code": "y = np.linspace(0, 300, 100)\nx = np.linspace(.0,2, 100)\nx_2d, y_2d = np.meshgrid(x,y)\nz_2d = F(x_2d, y_2d)",
    "id": "3db2899b5eae4a4d941fc55ec4afde52",
    "idx": 8,
    "time": "2021-02-16T20:06:27.901Z",
    "type": "execution"
   },
   {
    "id": "3db2899b5eae4a4d941fc55ec4afde52",
    "time": "2021-02-16T20:06:28.374Z",
    "type": "completion"
   },
   {
    "code": "from mpl_toolkits.mplot3d import Axes3D\nfig = plt.figure(figsize=(8,8)) #create figure object to hold the plot\nax = Axes3D(fig) #create Axes3D object to display the plot\nax.plot_surface(x_2d, y_2d, z_2d)\nax.set_xlabel(\"$x$\")\nax.set_ylabel(\"$y$\")\nax.set_zlabel(\"$F(x,y)$\")",
    "id": "950663c93f4e4522875c90b09192aac5",
    "idx": 9,
    "time": "2021-02-16T20:06:28.497Z",
    "type": "execution"
   },
   {
    "id": "950663c93f4e4522875c90b09192aac5",
    "time": "2021-02-16T20:06:30.025Z",
    "type": "completion"
   },
   {
    "code": "#print(z_2d)\nresult = np.where(z_2d == np.amax(z_2d))",
    "id": "cbd13a2e6edf467c877157d79751d16d",
    "idx": 12,
    "time": "2021-02-16T20:06:30.226Z",
    "type": "execution"
   },
   {
    "id": "cbd13a2e6edf467c877157d79751d16d",
    "time": "2021-02-16T20:06:30.291Z",
    "type": "completion"
   },
   {
    "code": "minInRows = np.where(z_2d == np.amin(z_2d, axis=0))\n#result = np.where(z_2d == np.amin(z_2d), axis=1)\n#print(minInRows[0])\n#print(minInRows[1])\n",
    "id": "e85faedd9c8243eb8df3422900b8bfc8",
    "idx": 13,
    "time": "2021-02-16T20:06:30.839Z",
    "type": "execution"
   },
   {
    "id": "e85faedd9c8243eb8df3422900b8bfc8",
    "time": "2021-02-16T20:06:30.903Z",
    "type": "completion"
   },
   {
    "code": "def Stirling(tau):\n    N=1000\n    return N*np.exp(-tau)/(1+np.exp(-tau))",
    "id": "c6eb5ceb74a745c68e9b3ec81d8b91db",
    "idx": 14,
    "time": "2021-02-16T20:06:31.368Z",
    "type": "execution"
   },
   {
    "id": "c6eb5ceb74a745c68e9b3ec81d8b91db",
    "time": "2021-02-16T20:06:31.429Z",
    "type": "completion"
   },
   {
    "code": "Stirling(.3)\n",
    "id": "27574747975348018c9d1b3161fec8f1",
    "idx": 15,
    "time": "2021-02-16T20:06:31.922Z",
    "type": "execution"
   },
   {
    "id": "27574747975348018c9d1b3161fec8f1",
    "time": "2021-02-16T20:06:31.990Z",
    "type": "completion"
   },
   {
    "code": "plt.plot(x_2d[minInRows[0], minInRows[1]], y_2d[minInRows[0], minInRows[1]]\n        , 'r-'  # plot with the color red, as line\n        )",
    "id": "438a2dd91fa044e98956b104d4fbc059",
    "idx": 16,
    "time": "2021-02-16T20:06:32.535Z",
    "type": "execution"
   },
   {
    "id": "438a2dd91fa044e98956b104d4fbc059",
    "time": "2021-02-16T20:06:32.936Z",
    "type": "completion"
   },
   {
    "code": "Stirling(5)\n",
    "id": "27574747975348018c9d1b3161fec8f1",
    "idx": 15,
    "time": "2021-02-16T20:08:47.035Z",
    "type": "execution"
   },
   {
    "id": "27574747975348018c9d1b3161fec8f1",
    "time": "2021-02-16T20:08:47.111Z",
    "type": "completion"
   },
   {
    "code": "Stirling(1)\n",
    "id": "27574747975348018c9d1b3161fec8f1",
    "idx": 15,
    "time": "2021-02-16T20:09:01.539Z",
    "type": "execution"
   },
   {
    "id": "27574747975348018c9d1b3161fec8f1",
    "time": "2021-02-16T20:09:01.610Z",
    "type": "completion"
   },
   {
    "code": "Stirling(0.5)\n",
    "id": "27574747975348018c9d1b3161fec8f1",
    "idx": 15,
    "time": "2021-02-16T20:09:10.714Z",
    "type": "execution"
   },
   {
    "id": "27574747975348018c9d1b3161fec8f1",
    "time": "2021-02-16T20:09:10.784Z",
    "type": "completion"
   },
   {
    "code": "def Stirling(tau):\n    N=1000\n    return N*np.exp(-1/tau)/(1+np.exp(-1/tau))",
    "id": "c6eb5ceb74a745c68e9b3ec81d8b91db",
    "idx": 14,
    "time": "2021-02-16T20:09:44.657Z",
    "type": "execution"
   },
   {
    "id": "c6eb5ceb74a745c68e9b3ec81d8b91db",
    "time": "2021-02-16T20:09:44.746Z",
    "type": "completion"
   },
   {
    "code": "Stirling(0.5)\n",
    "id": "27574747975348018c9d1b3161fec8f1",
    "idx": 15,
    "time": "2021-02-16T20:09:45.925Z",
    "type": "execution"
   },
   {
    "id": "27574747975348018c9d1b3161fec8f1",
    "time": "2021-02-16T20:09:46.002Z",
    "type": "completion"
   },
   {
    "code": "Stirling(1)\n",
    "id": "27574747975348018c9d1b3161fec8f1",
    "idx": 15,
    "time": "2021-02-16T20:10:04.733Z",
    "type": "execution"
   },
   {
    "id": "27574747975348018c9d1b3161fec8f1",
    "time": "2021-02-16T20:10:04.810Z",
    "type": "completion"
   },
   {
    "code": "Stirling(0.2)\n",
    "id": "27574747975348018c9d1b3161fec8f1",
    "idx": 15,
    "time": "2021-02-16T20:10:32.208Z",
    "type": "execution"
   },
   {
    "id": "27574747975348018c9d1b3161fec8f1",
    "time": "2021-02-16T20:10:32.272Z",
    "type": "completion"
   },
   {
    "code": "y = np.linspace(0, 100, 100)\nx = np.linspace(.0,0.3, 100)\nx_2d, y_2d = np.meshgrid(x,y)\nz_2d = F(x_2d, y_2d)",
    "id": "3db2899b5eae4a4d941fc55ec4afde52",
    "idx": 8,
    "time": "2021-02-16T20:10:58.964Z",
    "type": "execution"
   },
   {
    "id": "3db2899b5eae4a4d941fc55ec4afde52",
    "time": "2021-02-16T20:10:59.167Z",
    "type": "completion"
   },
   {
    "code": "from mpl_toolkits.mplot3d import Axes3D\nfig = plt.figure(figsize=(8,8)) #create figure object to hold the plot\nax = Axes3D(fig) #create Axes3D object to display the plot\nax.plot_surface(x_2d, y_2d, z_2d)\nax.set_xlabel(\"$x$\")\nax.set_ylabel(\"$y$\")\nax.set_zlabel(\"$F(x,y)$\")",
    "id": "950663c93f4e4522875c90b09192aac5",
    "idx": 9,
    "time": "2021-02-16T20:10:59.574Z",
    "type": "execution"
   },
   {
    "id": "950663c93f4e4522875c90b09192aac5",
    "time": "2021-02-16T20:11:00.487Z",
    "type": "completion"
   },
   {
    "code": "#print(z_2d)\nresult = np.where(z_2d == np.amax(z_2d))",
    "id": "cbd13a2e6edf467c877157d79751d16d",
    "idx": 12,
    "time": "2021-02-16T20:11:01.775Z",
    "type": "execution"
   },
   {
    "id": "cbd13a2e6edf467c877157d79751d16d",
    "time": "2021-02-16T20:11:01.838Z",
    "type": "completion"
   },
   {
    "code": "minInRows = np.where(z_2d == np.amin(z_2d, axis=0))\n#result = np.where(z_2d == np.amin(z_2d), axis=1)\n#print(minInRows[0])\n#print(minInRows[1])\n",
    "id": "e85faedd9c8243eb8df3422900b8bfc8",
    "idx": 13,
    "time": "2021-02-16T20:11:02.404Z",
    "type": "execution"
   },
   {
    "id": "e85faedd9c8243eb8df3422900b8bfc8",
    "time": "2021-02-16T20:11:02.471Z",
    "type": "completion"
   },
   {
    "code": "def Stirling(tau):\n    N=1000\n    return N*np.exp(-1/tau)/(1+np.exp(-1/tau))",
    "id": "c6eb5ceb74a745c68e9b3ec81d8b91db",
    "idx": 14,
    "time": "2021-02-16T20:11:03.058Z",
    "type": "execution"
   },
   {
    "id": "c6eb5ceb74a745c68e9b3ec81d8b91db",
    "time": "2021-02-16T20:11:03.120Z",
    "type": "completion"
   },
   {
    "code": "Stirling(0.2)\n",
    "id": "27574747975348018c9d1b3161fec8f1",
    "idx": 15,
    "time": "2021-02-16T20:11:04.068Z",
    "type": "execution"
   },
   {
    "id": "27574747975348018c9d1b3161fec8f1",
    "time": "2021-02-16T20:11:04.145Z",
    "type": "completion"
   },
   {
    "code": "plt.plot(x_2d[minInRows[0], minInRows[1]], y_2d[minInRows[0], minInRows[1]]\n        , 'r-'  # plot with the color red, as line\n        )",
    "id": "438a2dd91fa044e98956b104d4fbc059",
    "idx": 16,
    "time": "2021-02-16T20:11:06.351Z",
    "type": "execution"
   },
   {
    "id": "438a2dd91fa044e98956b104d4fbc059",
    "time": "2021-02-16T20:11:06.628Z",
    "type": "completion"
   },
   {
    "code": "plt.plot(x_2d[minInRows[0], minInRows[1]], y_2d[minInRows[0], minInRows[1]]\n        , 'r-'  # plot with the color red, as line\n        )\nplt.plot(x_2d[minInRows[0], Stirling(x_2d[minInRows[0], 'b-')",
    "id": "438a2dd91fa044e98956b104d4fbc059",
    "idx": 16,
    "time": "2021-02-16T20:18:44.421Z",
    "type": "execution"
   },
   {
    "id": "438a2dd91fa044e98956b104d4fbc059",
    "time": "2021-02-16T20:18:44.519Z",
    "type": "completion"
   },
   {
    "code": "plt.plot(x_2d[minInRows[0], minInRows[1]], y_2d[minInRows[0], minInRows[1]]\n        , 'r-'  # plot with the color red, as line\n        )\nplt.plot(x_2d[minInRows[0], minInRows[1]] Stirling(x_2d[minInRows[0], minInRows[1]], 'b-')",
    "id": "438a2dd91fa044e98956b104d4fbc059",
    "idx": 16,
    "time": "2021-02-16T20:19:34.039Z",
    "type": "execution"
   },
   {
    "id": "438a2dd91fa044e98956b104d4fbc059",
    "time": "2021-02-16T20:19:34.104Z",
    "type": "completion"
   },
   {
    "code": "plt.plot(x_2d[minInRows[0], minInRows[1]], y_2d[minInRows[0], minInRows[1]]\n        , 'r-'  # plot with the color red, as line\n        )\nplt.plot(x_2d[minInRows[0], minInRows[1]], Stirling(x_2d[minInRows[0], minInRows[1]], 'b-')",
    "id": "438a2dd91fa044e98956b104d4fbc059",
    "idx": 16,
    "time": "2021-02-16T20:19:46.835Z",
    "type": "execution"
   },
   {
    "id": "438a2dd91fa044e98956b104d4fbc059",
    "time": "2021-02-16T20:19:46.917Z",
    "type": "completion"
   },
   {
    "code": "plt.plot(x_2d[minInRows[0], minInRows[1]], y_2d[minInRows[0], minInRows[1]]\n        , 'r-'  # plot with the color red, as line\n        )\nplt.plot(x_2d[minInRows[0], minInRows[1]], Stirling(x_2d[minInRows[0], minInRows[1]]), 'b-')",
    "id": "438a2dd91fa044e98956b104d4fbc059",
    "idx": 16,
    "time": "2021-02-16T20:20:03.552Z",
    "type": "execution"
   },
   {
    "id": "438a2dd91fa044e98956b104d4fbc059",
    "time": "2021-02-16T20:20:04.017Z",
    "type": "completion"
   },
   {
    "code": "y = np.linspace(0, 100, 100)\nx = np.linspace(.01,0.3, 100)\nx_2d, y_2d = np.meshgrid(x,y)\nz_2d = F(x_2d, y_2d)",
    "id": "3db2899b5eae4a4d941fc55ec4afde52",
    "idx": 8,
    "time": "2021-02-16T20:21:06.750Z",
    "type": "execution"
   },
   {
    "id": "3db2899b5eae4a4d941fc55ec4afde52",
    "time": "2021-02-16T20:21:07.012Z",
    "type": "completion"
   },
   {
    "code": "from mpl_toolkits.mplot3d import Axes3D\nfig = plt.figure(figsize=(8,8)) #create figure object to hold the plot\nax = Axes3D(fig) #create Axes3D object to display the plot\nax.plot_surface(x_2d, y_2d, z_2d)\nax.set_xlabel(\"$x$\")\nax.set_ylabel(\"$y$\")\nax.set_zlabel(\"$F(x,y)$\")",
    "id": "950663c93f4e4522875c90b09192aac5",
    "idx": 9,
    "time": "2021-02-16T20:21:07.446Z",
    "type": "execution"
   },
   {
    "id": "950663c93f4e4522875c90b09192aac5",
    "time": "2021-02-16T20:21:08.417Z",
    "type": "completion"
   },
   {
    "code": "#print(z_2d)\nresult = np.where(z_2d == np.amax(z_2d))",
    "id": "cbd13a2e6edf467c877157d79751d16d",
    "idx": 12,
    "time": "2021-02-16T20:21:09.858Z",
    "type": "execution"
   },
   {
    "id": "cbd13a2e6edf467c877157d79751d16d",
    "time": "2021-02-16T20:21:09.917Z",
    "type": "completion"
   },
   {
    "code": "minInRows = np.where(z_2d == np.amin(z_2d, axis=0))\n#result = np.where(z_2d == np.amin(z_2d), axis=1)\n#print(minInRows[0])\n#print(minInRows[1])\n",
    "id": "e85faedd9c8243eb8df3422900b8bfc8",
    "idx": 13,
    "time": "2021-02-16T20:21:10.413Z",
    "type": "execution"
   },
   {
    "id": "e85faedd9c8243eb8df3422900b8bfc8",
    "time": "2021-02-16T20:21:10.472Z",
    "type": "completion"
   },
   {
    "code": "def Stirling(tau):\n    N=1000\n    return N*np.exp(-1/tau)/(1+np.exp(-1/tau))",
    "id": "c6eb5ceb74a745c68e9b3ec81d8b91db",
    "idx": 14,
    "time": "2021-02-16T20:21:10.959Z",
    "type": "execution"
   },
   {
    "id": "c6eb5ceb74a745c68e9b3ec81d8b91db",
    "time": "2021-02-16T20:21:11.016Z",
    "type": "completion"
   },
   {
    "code": "Stirling(0.2)\n",
    "id": "27574747975348018c9d1b3161fec8f1",
    "idx": 15,
    "time": "2021-02-16T20:21:11.671Z",
    "type": "execution"
   },
   {
    "id": "27574747975348018c9d1b3161fec8f1",
    "time": "2021-02-16T20:21:11.759Z",
    "type": "completion"
   },
   {
    "code": "plt.plot(x_2d[minInRows[0], minInRows[1]], y_2d[minInRows[0], minInRows[1]]\n        , 'r-'  # plot with the color red, as line\n        )\nplt.plot(x_2d[minInRows[0], minInRows[1]], Stirling(x_2d[minInRows[0], minInRows[1]]), 'b-')",
    "id": "438a2dd91fa044e98956b104d4fbc059",
    "idx": 16,
    "time": "2021-02-16T20:21:13.284Z",
    "type": "execution"
   },
   {
    "id": "438a2dd91fa044e98956b104d4fbc059",
    "time": "2021-02-16T20:21:13.574Z",
    "type": "completion"
   },
   {
    "code": "y = np.linspace(0, 300, 500)\nx = np.linspace(.01,1, 500)\nx_2d, y_2d = np.meshgrid(x,y)\nz_2d = F(x_2d, y_2d)",
    "id": "3db2899b5eae4a4d941fc55ec4afde52",
    "idx": 8,
    "time": "2021-02-16T20:22:03.915Z",
    "type": "execution"
   },
   {
    "code": "from mpl_toolkits.mplot3d import Axes3D\nfig = plt.figure(figsize=(8,8)) #create figure object to hold the plot\nax = Axes3D(fig) #create Axes3D object to display the plot\nax.plot_surface(x_2d, y_2d, z_2d)\nax.set_xlabel(\"$x$\")\nax.set_ylabel(\"$y$\")\nax.set_zlabel(\"$F(x,y)$\")",
    "id": "950663c93f4e4522875c90b09192aac5",
    "idx": 9,
    "time": "2021-02-16T20:22:04.853Z",
    "type": "execution"
   },
   {
    "code": "#print(z_2d)\nresult = np.where(z_2d == np.amax(z_2d))",
    "id": "cbd13a2e6edf467c877157d79751d16d",
    "idx": 12,
    "time": "2021-02-16T20:22:07.857Z",
    "type": "execution"
   },
   {
    "code": "minInRows = np.where(z_2d == np.amin(z_2d, axis=0))\n#result = np.where(z_2d == np.amin(z_2d), axis=1)\n#print(minInRows[0])\n#print(minInRows[1])\n",
    "id": "e85faedd9c8243eb8df3422900b8bfc8",
    "idx": 13,
    "time": "2021-02-16T20:22:08.446Z",
    "type": "execution"
   },
   {
    "code": "def Stirling(tau):\n    N=1000\n    return N*np.exp(-1/tau)/(1+np.exp(-1/tau))",
    "id": "c6eb5ceb74a745c68e9b3ec81d8b91db",
    "idx": 14,
    "time": "2021-02-16T20:22:09.479Z",
    "type": "execution"
   },
   {
    "code": "Stirling(0.2)\n",
    "id": "27574747975348018c9d1b3161fec8f1",
    "idx": 15,
    "time": "2021-02-16T20:22:10.331Z",
    "type": "execution"
   },
   {
    "id": "3db2899b5eae4a4d941fc55ec4afde52",
    "time": "2021-02-16T20:22:11.610Z",
    "type": "completion"
   },
   {
    "code": "plt.plot(x_2d[minInRows[0], minInRows[1]], y_2d[minInRows[0], minInRows[1]]\n        , 'r-'  # plot with the color red, as line\n        )\nplt.plot(x_2d[minInRows[0], minInRows[1]], Stirling(x_2d[minInRows[0], minInRows[1]]), 'b-')",
    "id": "438a2dd91fa044e98956b104d4fbc059",
    "idx": 16,
    "time": "2021-02-16T20:22:11.870Z",
    "type": "execution"
   },
   {
    "id": "950663c93f4e4522875c90b09192aac5",
    "time": "2021-02-16T20:22:12.526Z",
    "type": "completion"
   },
   {
    "id": "cbd13a2e6edf467c877157d79751d16d",
    "time": "2021-02-16T20:22:12.531Z",
    "type": "completion"
   },
   {
    "id": "e85faedd9c8243eb8df3422900b8bfc8",
    "time": "2021-02-16T20:22:12.532Z",
    "type": "completion"
   },
   {
    "id": "c6eb5ceb74a745c68e9b3ec81d8b91db",
    "time": "2021-02-16T20:22:12.534Z",
    "type": "completion"
   },
   {
    "id": "27574747975348018c9d1b3161fec8f1",
    "time": "2021-02-16T20:22:12.538Z",
    "type": "completion"
   },
   {
    "id": "438a2dd91fa044e98956b104d4fbc059",
    "time": "2021-02-16T20:22:12.577Z",
    "type": "completion"
   },
   {
    "code": "y = np.linspace(0, 100, 500)\nx = np.linspace(.01,.3, 500)\nx_2d, y_2d = np.meshgrid(x,y)\nz_2d = F(x_2d, y_2d)",
    "id": "3db2899b5eae4a4d941fc55ec4afde52",
    "idx": 8,
    "time": "2021-02-16T20:22:55.482Z",
    "type": "execution"
   },
   {
    "code": "from mpl_toolkits.mplot3d import Axes3D\nfig = plt.figure(figsize=(8,8)) #create figure object to hold the plot\nax = Axes3D(fig) #create Axes3D object to display the plot\nax.plot_surface(x_2d, y_2d, z_2d)\nax.set_xlabel(\"$x$\")\nax.set_ylabel(\"$y$\")\nax.set_zlabel(\"$F(x,y)$\")",
    "id": "950663c93f4e4522875c90b09192aac5",
    "idx": 9,
    "time": "2021-02-16T20:22:56.226Z",
    "type": "execution"
   },
   {
    "code": "#print(z_2d)\nresult = np.where(z_2d == np.amax(z_2d))",
    "id": "cbd13a2e6edf467c877157d79751d16d",
    "idx": 12,
    "time": "2021-02-16T20:22:57.971Z",
    "type": "execution"
   },
   {
    "code": "minInRows = np.where(z_2d == np.amin(z_2d, axis=0))\n#result = np.where(z_2d == np.amin(z_2d), axis=1)\n#print(minInRows[0])\n#print(minInRows[1])\n",
    "id": "e85faedd9c8243eb8df3422900b8bfc8",
    "idx": 13,
    "time": "2021-02-16T20:22:58.483Z",
    "type": "execution"
   },
   {
    "code": "def Stirling(tau):\n    N=1000\n    return N*np.exp(-1/tau)/(1+np.exp(-1/tau))",
    "id": "c6eb5ceb74a745c68e9b3ec81d8b91db",
    "idx": 14,
    "time": "2021-02-16T20:22:59.037Z",
    "type": "execution"
   },
   {
    "code": "Stirling(0.2)\n",
    "id": "27574747975348018c9d1b3161fec8f1",
    "idx": 15,
    "time": "2021-02-16T20:22:59.707Z",
    "type": "execution"
   },
   {
    "id": "3db2899b5eae4a4d941fc55ec4afde52",
    "time": "2021-02-16T20:23:00.288Z",
    "type": "completion"
   },
   {
    "code": "plt.plot(x_2d[minInRows[0], minInRows[1]], y_2d[minInRows[0], minInRows[1]]\n        , 'r-'  # plot with the color red, as line\n        )\nplt.plot(x_2d[minInRows[0], minInRows[1]], Stirling(x_2d[minInRows[0], minInRows[1]]), 'b-')",
    "id": "438a2dd91fa044e98956b104d4fbc059",
    "idx": 16,
    "time": "2021-02-16T20:23:01.048Z",
    "type": "execution"
   },
   {
    "id": "950663c93f4e4522875c90b09192aac5",
    "time": "2021-02-16T20:23:01.489Z",
    "type": "completion"
   },
   {
    "id": "cbd13a2e6edf467c877157d79751d16d",
    "time": "2021-02-16T20:23:01.497Z",
    "type": "completion"
   },
   {
    "id": "e85faedd9c8243eb8df3422900b8bfc8",
    "time": "2021-02-16T20:23:01.499Z",
    "type": "completion"
   },
   {
    "id": "c6eb5ceb74a745c68e9b3ec81d8b91db",
    "time": "2021-02-16T20:23:01.502Z",
    "type": "completion"
   },
   {
    "id": "27574747975348018c9d1b3161fec8f1",
    "time": "2021-02-16T20:23:01.505Z",
    "type": "completion"
   },
   {
    "id": "438a2dd91fa044e98956b104d4fbc059",
    "time": "2021-02-16T20:23:01.572Z",
    "type": "completion"
   },
   {
    "code": "plt.plot(x_2d[minInRows[0], minInRows[1]], y_2d[minInRows[0], minInRows[1]]\n        , 'r-'  # plot with the color red, as line\n        )\nplt.plot(x_2d[minInRows[0], minInRows[1]], Stirling(x_2d[minInRows[0], minInRows[1]]), 'b-')",
    "id": "438a2dd91fa044e98956b104d4fbc059",
    "idx": 16,
    "time": "2021-02-16T20:33:08.628Z",
    "type": "execution"
   },
   {
    "id": "438a2dd91fa044e98956b104d4fbc059",
    "time": "2021-02-16T20:33:08.924Z",
    "type": "completion"
   },
   {
    "code": "import numpy as np\nimport math as math\nimport scipy.stats as st\nimport scipy.special  \nimport matplotlib.pyplot as plt\n\ndef fact(x):\n    return scipy.special.factorial(x, exact=True)\n    #return math.factorial(x)\n\ndef sigma(ntest, NA, NB): \n    #NA=1000\n    #NB=1000\n    ntest=ntest.astype(int)\n    z1=fact(NA)/(fact(ntest)*fact(NA-ntest))\n    z1=z1.astype(np.float128)\n    z1=np.log(z1)\n    z2=fact(NB)/(fact(ntest)*fact(NB-ntest))\n    z2=z2.astype(np.float128)\n    z2=np.log(z2)\n    return z1+z2                                                 ",
    "id": "84895652a93f40f1856ee1cbc80ce41e",
    "idx": 5,
    "time": "2021-02-16T20:39:59.993Z",
    "type": "execution"
   },
   {
    "id": "84895652a93f40f1856ee1cbc80ce41e",
    "time": "2021-02-16T20:40:00.072Z",
    "type": "completion"
   },
   {
    "code": "signma(10,100,100)",
    "id": "61a72f25a70643148816864e98664658",
    "idx": 6,
    "time": "2021-02-16T20:40:01.811Z",
    "type": "execution"
   },
   {
    "id": "61a72f25a70643148816864e98664658",
    "time": "2021-02-16T20:40:01.886Z",
    "type": "completion"
   },
   {
    "code": "sigma(10,100,100)",
    "id": "61a72f25a70643148816864e98664658",
    "idx": 6,
    "time": "2021-02-16T20:40:11.399Z",
    "type": "execution"
   },
   {
    "id": "61a72f25a70643148816864e98664658",
    "time": "2021-02-16T20:40:11.598Z",
    "type": "completion"
   },
   {
    "code": "sigma(10.0,100,100)",
    "id": "61a72f25a70643148816864e98664658",
    "idx": 6,
    "time": "2021-02-16T20:40:43.283Z",
    "type": "execution"
   },
   {
    "id": "61a72f25a70643148816864e98664658",
    "time": "2021-02-16T20:40:43.376Z",
    "type": "completion"
   },
   {
    "code": "sigma(10.0,100,100)",
    "id": "61a72f25a70643148816864e98664658",
    "idx": 6,
    "time": "2021-02-16T20:44:02.815Z",
    "type": "execution"
   },
   {
    "id": "61a72f25a70643148816864e98664658",
    "time": "2021-02-16T20:44:02.908Z",
    "type": "completion"
   },
   {
    "code": "import numpy as np\nimport math as math\nimport scipy.stats as st\nimport scipy.special  \nimport matplotlib.pyplot as plt\n\ndef fact(x):\n    return scipy.special.factorial(x, exact=True)\n    #return math.factorial(x)\n\ndef sigma(ntest, NA, NB): \n    #NA=1000\n    #NB=1000\n    #ntest=ntest.astype(int)\n    z1=fact(NA)/(fact(ntest)*fact(NA-ntest))\n    z1=z1.astype(np.float128)\n    z1=np.log(z1)\n    z2=fact(NB)/(fact(ntest)*fact(NB-ntest))\n    z2=z2.astype(np.float128)\n    z2=np.log(z2)\n    return z1+z2                                                 ",
    "id": "84895652a93f40f1856ee1cbc80ce41e",
    "idx": 5,
    "time": "2021-02-16T20:44:15.575Z",
    "type": "execution"
   },
   {
    "id": "84895652a93f40f1856ee1cbc80ce41e",
    "time": "2021-02-16T20:44:15.642Z",
    "type": "completion"
   },
   {
    "code": "sigma(10.0,100,100)",
    "id": "61a72f25a70643148816864e98664658",
    "idx": 6,
    "time": "2021-02-16T20:44:16.294Z",
    "type": "execution"
   },
   {
    "id": "61a72f25a70643148816864e98664658",
    "time": "2021-02-16T20:44:16.364Z",
    "type": "completion"
   },
   {
    "code": "import numpy as np\nimport math as math\nimport scipy.stats as st\nimport scipy.special  \nimport matplotlib.pyplot as plt\n\ndef fact(x):\n    return scipy.special.factorial(x, exact=True)\n    #return math.factorial(x)\n\ndef sigma(ntest, NA, NB): \n    NA=1000\n    NB=1000\n    ntest=ntest.astype(int)\n    z1=fact(NA)/(fact(ntest)*fact(NA-ntest))\n    z1=z1.astype(np.float128)\n    z1=np.log(z1)\n    z2=fact(NB)/(fact(ntest)*fact(NB-ntest))\n    z2=z2.astype(np.float128)\n    z2=np.log(z2)\n    return z1+z2                                                 ",
    "id": "84895652a93f40f1856ee1cbc80ce41e",
    "idx": 5,
    "time": "2021-02-16T20:44:53.787Z",
    "type": "execution"
   },
   {
    "id": "84895652a93f40f1856ee1cbc80ce41e",
    "time": "2021-02-16T20:44:53.854Z",
    "type": "completion"
   },
   {
    "code": "import numpy as np\nimport math as math\nimport scipy.stats as st\nimport scipy.special  \nimport matplotlib.pyplot as plt\n\ndef fact(x):\n    return scipy.special.factorial(x, exact=True)\n    #return math.factorial(x)\n\ndef sigma(ntest, NA, NB): \n    NA=1000\n    NB=1000\n    ntest=ntest.astype(int)\n    z1=fact(NA)/(fact(ntest)*fact(NA-ntest))\n    z1=z1.astype(np.float128)\n    z1=np.log(z1)\n    z2=fact(NB)/(fact(ntest)*fact(NB-ntest))\n    z2=z2.astype(np.float128)\n    z2=np.log(z2)\n    return z1+z2                                                 ",
    "id": "84895652a93f40f1856ee1cbc80ce41e",
    "idx": 5,
    "time": "2021-02-16T20:45:02.618Z",
    "type": "execution"
   },
   {
    "id": "84895652a93f40f1856ee1cbc80ce41e",
    "time": "2021-02-16T20:45:02.677Z",
    "type": "completion"
   },
   {
    "code": "from mpl_toolkits.mplot3d import Axes3D\nfig = plt.figure(figsize=(8,8)) #create figure object to hold the plot\nax = Axes3D(fig) #create Axes3D object to display the plot\nax.plot_surface(x_2d, y_2d, z_2d)\nax.set_xlabel(\"$\\tau$\")\nax.set_ylabel(\"$n$\")\nax.set_zlabel(\"$F(x,y)$\")",
    "id": "950663c93f4e4522875c90b09192aac5",
    "idx": 9,
    "time": "2021-02-16T20:47:42.553Z",
    "type": "execution"
   },
   {
    "id": "950663c93f4e4522875c90b09192aac5",
    "time": "2021-02-16T20:47:43.653Z",
    "type": "completion"
   },
   {
    "code": "from mpl_toolkits.mplot3d import Axes3D\nfig = plt.figure(figsize=(8,8)) #create figure object to hold the plot\nax = Axes3D(fig) #create Axes3D object to display the plot\nax.plot_surface(x_2d, y_2d, z_2d)\nax.set_xlabel(\"$t/U$\")\nax.set_ylabel(\"$n$\")\nax.set_zlabel(\"$F(x,y)$\")",
    "id": "950663c93f4e4522875c90b09192aac5",
    "idx": 9,
    "time": "2021-02-16T20:48:07.705Z",
    "type": "execution"
   },
   {
    "id": "950663c93f4e4522875c90b09192aac5",
    "time": "2021-02-16T20:48:08.716Z",
    "type": "completion"
   },
   {
    "code": "result = np.where(z_2d == np.amax(z_2d))\nminInRows = np.where(z_2d == np.amin(z_2d, axis=0))",
    "id": "cbd13a2e6edf467c877157d79751d16d",
    "idx": 11,
    "time": "2021-02-16T20:50:00.238Z",
    "type": "execution"
   },
   {
    "id": "cbd13a2e6edf467c877157d79751d16d",
    "time": "2021-02-16T20:50:00.308Z",
    "type": "completion"
   },
   {
    "code": "def Stirling(tau):\n    N=1000\n    return N*np.exp(-1/tau)/(1+np.exp(-1/tau))",
    "id": "c6eb5ceb74a745c68e9b3ec81d8b91db",
    "idx": 12,
    "time": "2021-02-16T20:50:01.033Z",
    "type": "execution"
   },
   {
    "id": "c6eb5ceb74a745c68e9b3ec81d8b91db",
    "time": "2021-02-16T20:50:01.125Z",
    "type": "completion"
   },
   {
    "code": "plt.plot(x_2d[minInRows[0], minInRows[1]], y_2d[minInRows[0], minInRows[1]]\n        , 'r-'  # plot with the color red, as line\n        )\nplt.plot(x_2d[minInRows[0], minInRows[1]], Stirling(x_2d[minInRows[0], minInRows[1]]), 'b-')",
    "id": "438a2dd91fa044e98956b104d4fbc059",
    "idx": 13,
    "time": "2021-02-16T20:50:01.947Z",
    "type": "execution"
   },
   {
    "id": "438a2dd91fa044e98956b104d4fbc059",
    "time": "2021-02-16T20:50:02.257Z",
    "type": "completion"
   },
   {
    "code": "y = np.linspace(0, 300, 500)\nx = np.linspace(.01,1, 500)\nx_2d, y_2d = np.meshgrid(x,y)\nz_2d = F(x_2d, y_2d)",
    "id": "3db2899b5eae4a4d941fc55ec4afde52",
    "idx": 7,
    "time": "2021-02-16T20:57:14.851Z",
    "type": "execution"
   },
   {
    "id": "3db2899b5eae4a4d941fc55ec4afde52",
    "time": "2021-02-16T20:57:14.949Z",
    "type": "completion"
   },
   {
    "code": "from mpl_toolkits.mplot3d import Axes3D\nfig = plt.figure(figsize=(8,8)) #create figure object to hold the plot\nax = Axes3D(fig) #create Axes3D object to display the plot\nax.plot_surface(x_2d, y_2d, z_2d)\nax.set_xlabel(\"$t/U$\")\nax.set_ylabel(\"$n$\")\nax.set_zlabel(\"$F(x,y)$\")",
    "id": "950663c93f4e4522875c90b09192aac5",
    "idx": 8,
    "time": "2021-02-16T20:57:15.594Z",
    "type": "execution"
   },
   {
    "id": "950663c93f4e4522875c90b09192aac5",
    "time": "2021-02-16T20:57:16.672Z",
    "type": "completion"
   },
   {
    "code": "result = np.where(z_2d == np.amax(z_2d))\nminInRows = np.where(z_2d == np.amin(z_2d, axis=0))",
    "id": "cbd13a2e6edf467c877157d79751d16d",
    "idx": 10,
    "time": "2021-02-16T20:57:16.992Z",
    "type": "execution"
   },
   {
    "id": "cbd13a2e6edf467c877157d79751d16d",
    "time": "2021-02-16T20:57:17.058Z",
    "type": "completion"
   },
   {
    "code": "def Stirling(tau):\n    N=1000\n    return N*np.exp(-1/tau)/(1+np.exp(-1/tau))",
    "id": "c6eb5ceb74a745c68e9b3ec81d8b91db",
    "idx": 11,
    "time": "2021-02-16T20:57:17.761Z",
    "type": "execution"
   },
   {
    "id": "c6eb5ceb74a745c68e9b3ec81d8b91db",
    "time": "2021-02-16T20:57:17.820Z",
    "type": "completion"
   },
   {
    "code": "plt.plot(x_2d[minInRows[0], minInRows[1]], y_2d[minInRows[0], minInRows[1]]\n        , 'r-'  # plot with the color red, as line\n        )\nplt.plot(x_2d[minInRows[0], minInRows[1]], Stirling(x_2d[minInRows[0], minInRows[1]]), 'b-')",
    "id": "438a2dd91fa044e98956b104d4fbc059",
    "idx": 12,
    "time": "2021-02-16T20:57:18.441Z",
    "type": "execution"
   },
   {
    "id": "438a2dd91fa044e98956b104d4fbc059",
    "time": "2021-02-16T20:57:18.661Z",
    "type": "completion"
   },
   {
    "code": "y = np.linspace(0, 300, 500)\nx = np.linspace(.01,1, 500)\nx_2d, y_2d = np.meshgrid(x,y)\nz_2d = F(x_2d, y_2d)",
    "id": "3db2899b5eae4a4d941fc55ec4afde52",
    "idx": 7,
    "time": "2021-02-16T20:58:15.204Z",
    "type": "execution"
   },
   {
    "id": "3db2899b5eae4a4d941fc55ec4afde52",
    "time": "2021-02-16T20:58:15.309Z",
    "type": "completion"
   },
   {
    "code": "from mpl_toolkits.mplot3d import Axes3D\nfig = plt.figure(figsize=(8,8)) #create figure object to hold the plot\nax = Axes3D(fig) #create Axes3D object to display the plot\nax.plot_surface(x_2d, y_2d, z_2d)\nax.set_xlabel(\"$t/U$\")\nax.set_ylabel(\"$n$\")\nax.set_zlabel(\"$F(x,y)$\")",
    "id": "950663c93f4e4522875c90b09192aac5",
    "idx": 8,
    "time": "2021-02-16T20:58:18.347Z",
    "type": "execution"
   },
   {
    "id": "950663c93f4e4522875c90b09192aac5",
    "time": "2021-02-16T20:58:19.417Z",
    "type": "completion"
   },
   {
    "code": "import numpy as np\nimport math as math\nimport scipy.stats as st\nimport scipy.special  \nimport matplotlib.pyplot as plt\n\ndef fact(x):\n    return scipy.special.factorial(x, exact=True)\n    #return math.factorial(x)\n\ndef sigma(ntest): \n    NA=1000\n    NB=1000\n    ntest=ntest.astype(int)\n    z1=fact(NA)/(fact(ntest)*fact(NA-ntest))\n    z1=z1.astype(np.float128)\n    z1=np.log(z1)\n    z2=fact(NB)/(fact(ntest)*fact(NB-ntest))\n    z2=z2.astype(np.float128)\n    z2=np.log(z2)\n    return z1+z2                                                 ",
    "id": "84895652a93f40f1856ee1cbc80ce41e",
    "idx": 4,
    "time": "2021-02-16T20:58:41.795Z",
    "type": "execution"
   },
   {
    "id": "84895652a93f40f1856ee1cbc80ce41e",
    "time": "2021-02-16T20:58:41.864Z",
    "type": "completion"
   },
   {
    "code": "def F(tautest,ntest):\n    return (2.0*ntest - tautest*sigma(ntest))",
    "id": "db78bdd7fd7b4621bdf91bf9900e6349",
    "idx": 6,
    "time": "2021-02-16T20:58:43.136Z",
    "type": "execution"
   },
   {
    "id": "db78bdd7fd7b4621bdf91bf9900e6349",
    "time": "2021-02-16T20:58:43.197Z",
    "type": "completion"
   },
   {
    "code": "y = np.linspace(0, 300, 500)\nx = np.linspace(.01,1, 500)\nx_2d, y_2d = np.meshgrid(x,y)\nz_2d = F(x_2d, y_2d)",
    "id": "3db2899b5eae4a4d941fc55ec4afde52",
    "idx": 7,
    "time": "2021-02-16T20:58:43.875Z",
    "type": "execution"
   },
   {
    "code": "from mpl_toolkits.mplot3d import Axes3D\nfig = plt.figure(figsize=(8,8)) #create figure object to hold the plot\nax = Axes3D(fig) #create Axes3D object to display the plot\nax.plot_surface(x_2d, y_2d, z_2d)\nax.set_xlabel(\"$t/U$\")\nax.set_ylabel(\"$n$\")\nax.set_zlabel(\"$F(x,y)$\")",
    "id": "950663c93f4e4522875c90b09192aac5",
    "idx": 8,
    "time": "2021-02-16T20:58:49.224Z",
    "type": "execution"
   },
   {
    "id": "3db2899b5eae4a4d941fc55ec4afde52",
    "time": "2021-02-16T20:58:51.345Z",
    "type": "completion"
   },
   {
    "id": "950663c93f4e4522875c90b09192aac5",
    "time": "2021-02-16T20:58:52.501Z",
    "type": "completion"
   },
   {
    "code": "result = np.where(z_2d == np.amax(z_2d))\nminInRows = np.where(z_2d == np.amin(z_2d, axis=0))",
    "id": "cbd13a2e6edf467c877157d79751d16d",
    "idx": 10,
    "time": "2021-02-16T20:58:53.778Z",
    "type": "execution"
   },
   {
    "id": "cbd13a2e6edf467c877157d79751d16d",
    "time": "2021-02-16T20:58:53.844Z",
    "type": "completion"
   },
   {
    "code": "def Stirling(tau):\n    N=1000\n    return N*np.exp(-1/tau)/(1+np.exp(-1/tau))",
    "id": "c6eb5ceb74a745c68e9b3ec81d8b91db",
    "idx": 11,
    "time": "2021-02-16T20:58:54.722Z",
    "type": "execution"
   },
   {
    "id": "c6eb5ceb74a745c68e9b3ec81d8b91db",
    "time": "2021-02-16T20:58:54.781Z",
    "type": "completion"
   },
   {
    "code": "plt.plot(x_2d[minInRows[0], minInRows[1]], y_2d[minInRows[0], minInRows[1]]\n        , 'r-'  # plot with the color red, as line\n        )\nplt.plot(x_2d[minInRows[0], minInRows[1]], Stirling(x_2d[minInRows[0], minInRows[1]]), 'b-')",
    "id": "438a2dd91fa044e98956b104d4fbc059",
    "idx": 12,
    "time": "2021-02-16T20:58:55.509Z",
    "type": "execution"
   },
   {
    "id": "438a2dd91fa044e98956b104d4fbc059",
    "time": "2021-02-16T20:58:55.803Z",
    "type": "completion"
   },
   {
    "code": "y = np.linspace(0, 300, 500)\nx = np.linspace(.01,3, 500)\nx_2d, y_2d = np.meshgrid(x,y)\nz_2d = F(x_2d, y_2d)",
    "id": "3db2899b5eae4a4d941fc55ec4afde52",
    "idx": 7,
    "time": "2021-02-16T20:59:37.455Z",
    "type": "execution"
   },
   {
    "code": "from mpl_toolkits.mplot3d import Axes3D\nfig = plt.figure(figsize=(8,8)) #create figure object to hold the plot\nax = Axes3D(fig) #create Axes3D object to display the plot\nax.plot_surface(x_2d, y_2d, z_2d)\nax.set_xlabel(\"$t/U$\")\nax.set_ylabel(\"$n$\")\nax.set_zlabel(\"$F(x,y)$\")",
    "id": "950663c93f4e4522875c90b09192aac5",
    "idx": 8,
    "time": "2021-02-16T20:59:38.089Z",
    "type": "execution"
   },
   {
    "code": "result = np.where(z_2d == np.amax(z_2d))\nminInRows = np.where(z_2d == np.amin(z_2d, axis=0))",
    "id": "cbd13a2e6edf467c877157d79751d16d",
    "idx": 10,
    "time": "2021-02-16T20:59:39.358Z",
    "type": "execution"
   },
   {
    "code": "def Stirling(tau):\n    N=1000\n    return N*np.exp(-1/tau)/(1+np.exp(-1/tau))",
    "id": "c6eb5ceb74a745c68e9b3ec81d8b91db",
    "idx": 11,
    "time": "2021-02-16T20:59:39.846Z",
    "type": "execution"
   },
   {
    "code": "plt.plot(x_2d[minInRows[0], minInRows[1]], y_2d[minInRows[0], minInRows[1]]\n        , 'r-'  # plot with the color red, as line\n        )\nplt.plot(x_2d[minInRows[0], minInRows[1]], Stirling(x_2d[minInRows[0], minInRows[1]]), 'b-')",
    "id": "438a2dd91fa044e98956b104d4fbc059",
    "idx": 12,
    "time": "2021-02-16T20:59:40.632Z",
    "type": "execution"
   },
   {
    "id": "3db2899b5eae4a4d941fc55ec4afde52",
    "time": "2021-02-16T20:59:44.617Z",
    "type": "completion"
   },
   {
    "id": "950663c93f4e4522875c90b09192aac5",
    "time": "2021-02-16T20:59:45.617Z",
    "type": "completion"
   },
   {
    "id": "cbd13a2e6edf467c877157d79751d16d",
    "time": "2021-02-16T20:59:45.620Z",
    "type": "completion"
   },
   {
    "id": "c6eb5ceb74a745c68e9b3ec81d8b91db",
    "time": "2021-02-16T20:59:45.622Z",
    "type": "completion"
   },
   {
    "id": "438a2dd91fa044e98956b104d4fbc059",
    "time": "2021-02-16T20:59:45.637Z",
    "type": "completion"
   },
   {
    "code": "y = np.linspace(0, 500, 500)\nx = np.linspace(.01,3, 500)\nx_2d, y_2d = np.meshgrid(x,y)\nz_2d = F(x_2d, y_2d)",
    "id": "3db2899b5eae4a4d941fc55ec4afde52",
    "idx": 7,
    "time": "2021-02-16T21:00:18.406Z",
    "type": "execution"
   },
   {
    "code": "from mpl_toolkits.mplot3d import Axes3D\nfig = plt.figure(figsize=(8,8)) #create figure object to hold the plot\nax = Axes3D(fig) #create Axes3D object to display the plot\nax.plot_surface(x_2d, y_2d, z_2d)\nax.set_xlabel(\"$t/U$\")\nax.set_ylabel(\"$n$\")\nax.set_zlabel(\"$F(x,y)$\")",
    "id": "950663c93f4e4522875c90b09192aac5",
    "idx": 8,
    "time": "2021-02-16T21:00:19.426Z",
    "type": "execution"
   },
   {
    "code": "result = np.where(z_2d == np.amax(z_2d))\nminInRows = np.where(z_2d == np.amin(z_2d, axis=0))",
    "id": "cbd13a2e6edf467c877157d79751d16d",
    "idx": 10,
    "time": "2021-02-16T21:00:20.842Z",
    "type": "execution"
   },
   {
    "code": "def Stirling(tau):\n    N=1000\n    return N*np.exp(-1/tau)/(1+np.exp(-1/tau))",
    "id": "c6eb5ceb74a745c68e9b3ec81d8b91db",
    "idx": 11,
    "time": "2021-02-16T21:00:21.297Z",
    "type": "execution"
   },
   {
    "code": "plt.plot(x_2d[minInRows[0], minInRows[1]], y_2d[minInRows[0], minInRows[1]]\n        , 'r-'  # plot with the color red, as line\n        )\nplt.plot(x_2d[minInRows[0], minInRows[1]], Stirling(x_2d[minInRows[0], minInRows[1]]), 'b-')",
    "id": "438a2dd91fa044e98956b104d4fbc059",
    "idx": 12,
    "time": "2021-02-16T21:00:22.083Z",
    "type": "execution"
   },
   {
    "id": "3db2899b5eae4a4d941fc55ec4afde52",
    "time": "2021-02-16T21:00:27.883Z",
    "type": "completion"
   },
   {
    "id": "950663c93f4e4522875c90b09192aac5",
    "time": "2021-02-16T21:00:28.866Z",
    "type": "completion"
   },
   {
    "id": "cbd13a2e6edf467c877157d79751d16d",
    "time": "2021-02-16T21:00:28.868Z",
    "type": "completion"
   },
   {
    "id": "c6eb5ceb74a745c68e9b3ec81d8b91db",
    "time": "2021-02-16T21:00:28.870Z",
    "type": "completion"
   },
   {
    "id": "438a2dd91fa044e98956b104d4fbc059",
    "time": "2021-02-16T21:00:28.904Z",
    "type": "completion"
   },
   {
    "code": "def F(tautest,ntest):\n    N=1000\n    return (2.0*ntest*(N-ntest)/N - tautest*sigma(ntest))",
    "id": "db78bdd7fd7b4621bdf91bf9900e6349",
    "idx": 6,
    "time": "2021-02-16T21:59:37.525Z",
    "type": "execution"
   },
   {
    "id": "db78bdd7fd7b4621bdf91bf9900e6349",
    "time": "2021-02-16T21:59:37.616Z",
    "type": "completion"
   },
   {
    "code": "y = np.linspace(0, 500, 500)\nx = np.linspace(.01,3, 500)\nx_2d, y_2d = np.meshgrid(x,y)\nz_2d = F(x_2d, y_2d)",
    "id": "3db2899b5eae4a4d941fc55ec4afde52",
    "idx": 7,
    "time": "2021-02-16T21:59:38.163Z",
    "type": "execution"
   },
   {
    "code": "from mpl_toolkits.mplot3d import Axes3D\nfig = plt.figure(figsize=(8,8)) #create figure object to hold the plot\nax = Axes3D(fig) #create Axes3D object to display the plot\nax.plot_surface(x_2d, y_2d, z_2d)\nax.set_xlabel(\"$t/U$\")\nax.set_ylabel(\"$n$\")\nax.set_zlabel(\"$F(x,y)$\")",
    "id": "950663c93f4e4522875c90b09192aac5",
    "idx": 8,
    "time": "2021-02-16T21:59:39.684Z",
    "type": "execution"
   },
   {
    "id": "3db2899b5eae4a4d941fc55ec4afde52",
    "time": "2021-02-16T21:59:47.306Z",
    "type": "completion"
   },
   {
    "id": "950663c93f4e4522875c90b09192aac5",
    "time": "2021-02-16T21:59:50.351Z",
    "type": "completion"
   },
   {
    "code": "y = np.linspace(0, 1000, 500)\nx = np.linspace(.01,3, 500)\nx_2d, y_2d = np.meshgrid(x,y)\nz_2d = F(x_2d, y_2d)",
    "id": "3db2899b5eae4a4d941fc55ec4afde52",
    "idx": 7,
    "time": "2021-02-16T22:01:22.774Z",
    "type": "execution"
   },
   {
    "code": "from mpl_toolkits.mplot3d import Axes3D\nfig = plt.figure(figsize=(8,8)) #create figure object to hold the plot\nax = Axes3D(fig) #create Axes3D object to display the plot\nax.plot_surface(x_2d, y_2d, z_2d)\nax.set_xlabel(\"$t/U$\")\nax.set_ylabel(\"$n$\")\nax.set_zlabel(\"$F(x,y)$\")",
    "id": "950663c93f4e4522875c90b09192aac5",
    "idx": 8,
    "time": "2021-02-16T22:01:29.086Z",
    "type": "execution"
   },
   {
    "id": "3db2899b5eae4a4d941fc55ec4afde52",
    "time": "2021-02-16T22:01:30.745Z",
    "type": "completion"
   },
   {
    "id": "950663c93f4e4522875c90b09192aac5",
    "time": "2021-02-16T22:01:32.094Z",
    "type": "completion"
   },
   {
    "code": "y = np.linspace(0, 1000, 500)\nx = np.linspace(.01,1, 500)\nx_2d, y_2d = np.meshgrid(x,y)\nz_2d = F(x_2d, y_2d)",
    "id": "3db2899b5eae4a4d941fc55ec4afde52",
    "idx": 7,
    "time": "2021-02-16T22:02:47.349Z",
    "type": "execution"
   },
   {
    "code": "from mpl_toolkits.mplot3d import Axes3D\nfig = plt.figure(figsize=(8,8)) #create figure object to hold the plot\nax = Axes3D(fig) #create Axes3D object to display the plot\nax.plot_surface(x_2d, y_2d, z_2d)\nax.set_xlabel(\"$t/U$\")\nax.set_ylabel(\"$n$\")\nax.set_zlabel(\"$F(x,y)$\")",
    "id": "950663c93f4e4522875c90b09192aac5",
    "idx": 8,
    "time": "2021-02-16T22:02:48.043Z",
    "type": "execution"
   },
   {
    "code": "result = np.where(z_2d == np.amax(z_2d))\nminInRows = np.where(z_2d == np.amin(z_2d, axis=0))",
    "id": "cbd13a2e6edf467c877157d79751d16d",
    "idx": 10,
    "time": "2021-02-16T22:02:50.964Z",
    "type": "execution"
   },
   {
    "code": "def Stirling(tau):\n    N=1000\n    return N*np.exp(-1/tau)/(1+np.exp(-1/tau))",
    "id": "c6eb5ceb74a745c68e9b3ec81d8b91db",
    "idx": 11,
    "time": "2021-02-16T22:02:51.477Z",
    "type": "execution"
   },
   {
    "code": "plt.plot(x_2d[minInRows[0], minInRows[1]], y_2d[minInRows[0], minInRows[1]]\n        , 'r-'  # plot with the color red, as line\n        )\nplt.plot(x_2d[minInRows[0], minInRows[1]], Stirling(x_2d[minInRows[0], minInRows[1]]), 'b-')",
    "id": "438a2dd91fa044e98956b104d4fbc059",
    "idx": 12,
    "time": "2021-02-16T22:02:52.032Z",
    "type": "execution"
   },
   {
    "id": "3db2899b5eae4a4d941fc55ec4afde52",
    "time": "2021-02-16T22:02:55.525Z",
    "type": "completion"
   },
   {
    "id": "950663c93f4e4522875c90b09192aac5",
    "time": "2021-02-16T22:02:56.880Z",
    "type": "completion"
   },
   {
    "id": "cbd13a2e6edf467c877157d79751d16d",
    "time": "2021-02-16T22:02:56.888Z",
    "type": "completion"
   },
   {
    "id": "c6eb5ceb74a745c68e9b3ec81d8b91db",
    "time": "2021-02-16T22:02:56.903Z",
    "type": "completion"
   },
   {
    "id": "438a2dd91fa044e98956b104d4fbc059",
    "time": "2021-02-16T22:02:56.932Z",
    "type": "completion"
   },
   {
    "code": "plt.plot(x_2d[minInRows[0], minInRows[1]], y_2d[minInRows[0], minInRows[1]]\n        , 'r-'  # plot with the color red, as line\n        )\n#plt.plot(x_2d[minInRows[0], minInRows[1]], Stirling(x_2d[minInRows[0], minInRows[1]]), 'b-')",
    "id": "438a2dd91fa044e98956b104d4fbc059",
    "idx": 12,
    "time": "2021-02-16T22:07:32.499Z",
    "type": "execution"
   },
   {
    "id": "438a2dd91fa044e98956b104d4fbc059",
    "time": "2021-02-16T22:07:32.784Z",
    "type": "completion"
   },
   {
    "code": "result = np.where(z_2d == np.amax(z_2d))\nminInRows = np.where(z_2d == np.amin(z_2d, axis=0)",
    "id": "cbd13a2e6edf467c877157d79751d16d",
    "idx": 10,
    "time": "2021-02-16T22:09:06.740Z",
    "type": "execution"
   },
   {
    "id": "cbd13a2e6edf467c877157d79751d16d",
    "time": "2021-02-16T22:09:06.835Z",
    "type": "completion"
   },
   {
    "code": "result = np.where(z_2d == np.amax(z_2d))\nminInRows = np.where(z_2d == np.amin(z_2d, axis=0))",
    "id": "cbd13a2e6edf467c877157d79751d16d",
    "idx": 10,
    "time": "2021-02-16T22:09:15.187Z",
    "type": "execution"
   },
   {
    "id": "cbd13a2e6edf467c877157d79751d16d",
    "time": "2021-02-16T22:09:15.269Z",
    "type": "completion"
   },
   {
    "code": "plt.plot(0.5,y)\n        , 'r-'  # plot with the color red, as line\n        )\n#plt.plot(x_2d[minInRows[0], minInRows[1]], Stirling(x_2d[minInRows[0], minInRows[1]]), 'b-')",
    "id": "0bec80146b444b999d908edb321bcbfc",
    "idx": 8,
    "time": "2021-02-16T22:15:14.369Z",
    "type": "execution"
   },
   {
    "id": "0bec80146b444b999d908edb321bcbfc",
    "time": "2021-02-16T22:15:14.474Z",
    "type": "completion"
   },
   {
    "code": "plt.plot(0.5,y\n        , 'r-'  # plot with the color red, as line\n        )\n#plt.plot(x_2d[minInRows[0], minInRows[1]], Stirling(x_2d[minInRows[0], minInRows[1]]), 'b-')",
    "id": "0bec80146b444b999d908edb321bcbfc",
    "idx": 8,
    "time": "2021-02-16T22:15:30.605Z",
    "type": "execution"
   },
   {
    "id": "0bec80146b444b999d908edb321bcbfc",
    "time": "2021-02-16T22:15:31.499Z",
    "type": "completion"
   },
   {
    "code": "plt.plot(y,F(0.5,y)\n        , 'r-'  # plot with the color red, as line\n        )\n#plt.plot(x_2d[minInRows[0], minInRows[1]], Stirling(x_2d[minInRows[0], minInRows[1]]), 'b-')",
    "id": "0bec80146b444b999d908edb321bcbfc",
    "idx": 8,
    "time": "2021-02-16T22:16:50.481Z",
    "type": "execution"
   },
   {
    "id": "0bec80146b444b999d908edb321bcbfc",
    "time": "2021-02-16T22:16:50.956Z",
    "type": "completion"
   },
   {
    "code": "plt.plot(y,F(0.4,y)\n        , 'r-'  # plot with the color red, as line\n        )\n#plt.plot(x_2d[minInRows[0], minInRows[1]], Stirling(x_2d[minInRows[0], minInRows[1]]), 'b-')",
    "id": "0bec80146b444b999d908edb321bcbfc",
    "idx": 8,
    "time": "2021-02-16T22:17:01.781Z",
    "type": "execution"
   },
   {
    "id": "0bec80146b444b999d908edb321bcbfc",
    "time": "2021-02-16T22:17:02.152Z",
    "type": "completion"
   },
   {
    "code": "plt.plot(y,F(0.3,y)\n        , 'r-'  # plot with the color red, as line\n        )\n#plt.plot(x_2d[minInRows[0], minInRows[1]], Stirling(x_2d[minInRows[0], minInRows[1]]), 'b-')",
    "id": "0bec80146b444b999d908edb321bcbfc",
    "idx": 8,
    "time": "2021-02-16T22:17:18.990Z",
    "type": "execution"
   },
   {
    "id": "0bec80146b444b999d908edb321bcbfc",
    "time": "2021-02-16T22:17:19.394Z",
    "type": "completion"
   },
   {
    "code": "plt.plot(y,F(0.4,y)\n        , 'r-'  # plot with the color red, as line\n        )\n#plt.plot(x_2d[minInRows[0], minInRows[1]], Stirling(x_2d[minInRows[0], minInRows[1]]), 'b-')",
    "id": "0bec80146b444b999d908edb321bcbfc",
    "idx": 8,
    "time": "2021-02-16T22:17:29.697Z",
    "type": "execution"
   },
   {
    "id": "0bec80146b444b999d908edb321bcbfc",
    "time": "2021-02-16T22:17:30.110Z",
    "type": "completion"
   },
   {
    "code": "#result = np.where(z_2d == np.amax(z_2d))\nminInRows = np.where(z_2d == np.amin(z_2d, axis=0))",
    "id": "cbd13a2e6edf467c877157d79751d16d",
    "idx": 11,
    "time": "2021-02-16T22:37:55.968Z",
    "type": "execution"
   },
   {
    "id": "cbd13a2e6edf467c877157d79751d16d",
    "time": "2021-02-16T22:37:56.063Z",
    "type": "completion"
   },
   {
    "code": "def Stirling(tau):\n    N=1000\n    return N*np.exp(-1/tau)/(1+np.exp(-1/tau))",
    "id": "c6eb5ceb74a745c68e9b3ec81d8b91db",
    "idx": 12,
    "time": "2021-02-16T22:37:56.570Z",
    "type": "execution"
   },
   {
    "id": "c6eb5ceb74a745c68e9b3ec81d8b91db",
    "time": "2021-02-16T22:37:56.648Z",
    "type": "completion"
   },
   {
    "code": "plt.plot(x_2d[minInRows[0], minInRows[1]], y_2d[minInRows[0], minInRows[1]]\n        , 'r-'  # plot with the color red, as line\n        )\n#plt.plot(x_2d[minInRows[0], minInRows[1]], Stirling(x_2d[minInRows[0], minInRows[1]]), 'b-')",
    "id": "438a2dd91fa044e98956b104d4fbc059",
    "idx": 13,
    "time": "2021-02-16T22:37:57.307Z",
    "type": "execution"
   },
   {
    "id": "438a2dd91fa044e98956b104d4fbc059",
    "time": "2021-02-16T22:37:57.615Z",
    "type": "completion"
   },
   {
    "code": "#result = np.where(z_2d == np.amax(z_2d))\nminInRows = np.where(z_2d == np.amin(z_2d, axis=0)",
    "id": "cbd13a2e6edf467c877157d79751d16d",
    "idx": 11,
    "time": "2021-02-16T22:39:27.524Z",
    "type": "execution"
   },
   {
    "id": "cbd13a2e6edf467c877157d79751d16d",
    "time": "2021-02-16T22:39:27.624Z",
    "type": "completion"
   },
   {
    "code": "#result = np.where(z_2d == np.amax(z_2d))\nminInRows = np.where(z_2d == np.amin(z_2d, axis=0))",
    "id": "cbd13a2e6edf467c877157d79751d16d",
    "idx": 11,
    "time": "2021-02-16T22:39:37.195Z",
    "type": "execution"
   },
   {
    "id": "cbd13a2e6edf467c877157d79751d16d",
    "time": "2021-02-16T22:39:37.272Z",
    "type": "completion"
   },
   {
    "code": "y = np.linspace(0, 500, 500)\nx = np.linspace(.01,1, 500)\nx_2d, y_2d = np.meshgrid(x,y)\nz_2d = F(x_2d, y_2d)",
    "id": "3db2899b5eae4a4d941fc55ec4afde52",
    "idx": 7,
    "time": "2021-02-16T23:28:06.317Z",
    "type": "execution"
   },
   {
    "code": "plt.plot(y,F(0.4,y)\n        , 'r-'  # plot with the color red, as line\n        )\n#plt.plot(x_2d[minInRows[0], minInRows[1]], Stirling(x_2d[minInRows[0], minInRows[1]]), 'b-')",
    "id": "0bec80146b444b999d908edb321bcbfc",
    "idx": 8,
    "time": "2021-02-16T23:28:07.567Z",
    "type": "execution"
   },
   {
    "code": "from mpl_toolkits.mplot3d import Axes3D\nfig = plt.figure(figsize=(8,8)) #create figure object to hold the plot\nax = Axes3D(fig) #create Axes3D object to display the plot\nax.plot_surface(x_2d, y_2d, z_2d)\nax.set_xlabel(\"$t/U$\")\nax.set_ylabel(\"$n$\")\nax.set_zlabel(\"$F(x,y)$\")",
    "id": "950663c93f4e4522875c90b09192aac5",
    "idx": 9,
    "time": "2021-02-16T23:28:08.884Z",
    "type": "execution"
   },
   {
    "code": "#result = np.where(z_2d == np.amax(z_2d))\nminInRows = np.where(z_2d == np.amin(z_2d, axis=0))",
    "id": "cbd13a2e6edf467c877157d79751d16d",
    "idx": 11,
    "time": "2021-02-16T23:28:11.398Z",
    "type": "execution"
   },
   {
    "code": "def Stirling(tau):\n    N=1000\n    return N*np.exp(-1/tau)/(1+np.exp(-1/tau))",
    "id": "c6eb5ceb74a745c68e9b3ec81d8b91db",
    "idx": 12,
    "time": "2021-02-16T23:28:12.565Z",
    "type": "execution"
   },
   {
    "code": "plt.plot(x_2d[minInRows[0], minInRows[1]], y_2d[minInRows[0], minInRows[1]]\n        , 'r-'  # plot with the color red, as line\n        )\n#plt.plot(x_2d[minInRows[0], minInRows[1]], Stirling(x_2d[minInRows[0], minInRows[1]]), 'b-')",
    "id": "438a2dd91fa044e98956b104d4fbc059",
    "idx": 13,
    "time": "2021-02-16T23:28:13.583Z",
    "type": "execution"
   },
   {
    "id": "3db2899b5eae4a4d941fc55ec4afde52",
    "time": "2021-02-16T23:28:15.547Z",
    "type": "completion"
   },
   {
    "id": "0bec80146b444b999d908edb321bcbfc",
    "time": "2021-02-16T23:28:15.827Z",
    "type": "completion"
   },
   {
    "id": "950663c93f4e4522875c90b09192aac5",
    "time": "2021-02-16T23:28:17.592Z",
    "type": "completion"
   },
   {
    "id": "cbd13a2e6edf467c877157d79751d16d",
    "time": "2021-02-16T23:28:17.595Z",
    "type": "completion"
   },
   {
    "id": "c6eb5ceb74a745c68e9b3ec81d8b91db",
    "time": "2021-02-16T23:28:17.605Z",
    "type": "completion"
   },
   {
    "id": "438a2dd91fa044e98956b104d4fbc059",
    "time": "2021-02-16T23:28:17.643Z",
    "type": "completion"
   },
   {
    "code": "y = np.linspace(0, 500, 500)\nx = np.linspace(.01,2, 500)\nx_2d, y_2d = np.meshgrid(x,y)\nz_2d = F(x_2d, y_2d)",
    "id": "3db2899b5eae4a4d941fc55ec4afde52",
    "idx": 7,
    "time": "2021-02-16T23:31:28.302Z",
    "type": "execution"
   },
   {
    "id": "3db2899b5eae4a4d941fc55ec4afde52",
    "time": "2021-02-16T23:31:36.401Z",
    "type": "completion"
   },
   {
    "code": "plt.plot(y,F(0.4,y)\n        , 'r-'  # plot with the color red, as line\n        )\n#plt.plot(x_2d[minInRows[0], minInRows[1]], Stirling(x_2d[minInRows[0], minInRows[1]]), 'b-')",
    "id": "0bec80146b444b999d908edb321bcbfc",
    "idx": 8,
    "time": "2021-02-16T23:31:39.582Z",
    "type": "execution"
   },
   {
    "id": "0bec80146b444b999d908edb321bcbfc",
    "time": "2021-02-16T23:31:39.930Z",
    "type": "completion"
   },
   {
    "code": "from mpl_toolkits.mplot3d import Axes3D\nfig = plt.figure(figsize=(8,8)) #create figure object to hold the plot\nax = Axes3D(fig) #create Axes3D object to display the plot\nax.plot_surface(x_2d, y_2d, z_2d)\nax.set_xlabel(\"$t/U$\")\nax.set_ylabel(\"$n$\")\nax.set_zlabel(\"$F(x,y)$\")",
    "id": "950663c93f4e4522875c90b09192aac5",
    "idx": 9,
    "time": "2021-02-16T23:31:41.013Z",
    "type": "execution"
   },
   {
    "id": "950663c93f4e4522875c90b09192aac5",
    "time": "2021-02-16T23:31:42.346Z",
    "type": "completion"
   },
   {
    "code": "#result = np.where(z_2d == np.amax(z_2d))\nminInRows = np.where(z_2d == np.amin(z_2d, axis=0))",
    "id": "cbd13a2e6edf467c877157d79751d16d",
    "idx": 11,
    "time": "2021-02-16T23:31:45.920Z",
    "type": "execution"
   },
   {
    "id": "cbd13a2e6edf467c877157d79751d16d",
    "time": "2021-02-16T23:31:45.997Z",
    "type": "completion"
   },
   {
    "code": "def Stirling(tau):\n    N=1000\n    return N*np.exp(-1/tau)/(1+np.exp(-1/tau))",
    "id": "c6eb5ceb74a745c68e9b3ec81d8b91db",
    "idx": 12,
    "time": "2021-02-16T23:31:46.898Z",
    "type": "execution"
   },
   {
    "id": "c6eb5ceb74a745c68e9b3ec81d8b91db",
    "time": "2021-02-16T23:31:46.969Z",
    "type": "completion"
   },
   {
    "code": "plt.plot(x_2d[minInRows[0], minInRows[1]], y_2d[minInRows[0], minInRows[1]]\n        , 'r-'  # plot with the color red, as line\n        )\n#plt.plot(x_2d[minInRows[0], minInRows[1]], Stirling(x_2d[minInRows[0], minInRows[1]]), 'b-')",
    "id": "438a2dd91fa044e98956b104d4fbc059",
    "idx": 13,
    "time": "2021-02-16T23:31:48.138Z",
    "type": "execution"
   },
   {
    "id": "438a2dd91fa044e98956b104d4fbc059",
    "time": "2021-02-16T23:31:48.398Z",
    "type": "completion"
   },
   {
    "code": "y = np.linspace(0, 500, 500)\nx = np.linspace(.01,3, 500)\nx_2d, y_2d = np.meshgrid(x,y)\nz_2d = F(x_2d, y_2d)",
    "id": "3db2899b5eae4a4d941fc55ec4afde52",
    "idx": 7,
    "time": "2021-02-16T23:32:21.130Z",
    "type": "execution"
   },
   {
    "code": "plt.plot(y,F(0.4,y)\n        , 'r-'  # plot with the color red, as line\n        )\n#plt.plot(x_2d[minInRows[0], minInRows[1]], Stirling(x_2d[minInRows[0], minInRows[1]]), 'b-')",
    "id": "0bec80146b444b999d908edb321bcbfc",
    "idx": 8,
    "time": "2021-02-16T23:32:21.751Z",
    "type": "execution"
   },
   {
    "code": "from mpl_toolkits.mplot3d import Axes3D\nfig = plt.figure(figsize=(8,8)) #create figure object to hold the plot\nax = Axes3D(fig) #create Axes3D object to display the plot\nax.plot_surface(x_2d, y_2d, z_2d)\nax.set_xlabel(\"$t/U$\")\nax.set_ylabel(\"$n$\")\nax.set_zlabel(\"$F(x,y)$\")",
    "id": "950663c93f4e4522875c90b09192aac5",
    "idx": 9,
    "time": "2021-02-16T23:32:22.521Z",
    "type": "execution"
   },
   {
    "code": "#result = np.where(z_2d == np.amax(z_2d))\nminInRows = np.where(z_2d == np.amin(z_2d, axis=0))",
    "id": "cbd13a2e6edf467c877157d79751d16d",
    "idx": 11,
    "time": "2021-02-16T23:32:23.936Z",
    "type": "execution"
   },
   {
    "code": "def Stirling(tau):\n    N=1000\n    return N*np.exp(-1/tau)/(1+np.exp(-1/tau))",
    "id": "c6eb5ceb74a745c68e9b3ec81d8b91db",
    "idx": 12,
    "time": "2021-02-16T23:32:24.548Z",
    "type": "execution"
   },
   {
    "code": "plt.plot(x_2d[minInRows[0], minInRows[1]], y_2d[minInRows[0], minInRows[1]]\n        , 'r-'  # plot with the color red, as line\n        )\n#plt.plot(x_2d[minInRows[0], minInRows[1]], Stirling(x_2d[minInRows[0], minInRows[1]]), 'b-')",
    "id": "438a2dd91fa044e98956b104d4fbc059",
    "idx": 13,
    "time": "2021-02-16T23:32:25.244Z",
    "type": "execution"
   },
   {
    "id": "3db2899b5eae4a4d941fc55ec4afde52",
    "time": "2021-02-16T23:32:29.678Z",
    "type": "completion"
   },
   {
    "id": "0bec80146b444b999d908edb321bcbfc",
    "time": "2021-02-16T23:32:30.185Z",
    "type": "completion"
   },
   {
    "id": "950663c93f4e4522875c90b09192aac5",
    "time": "2021-02-16T23:32:31.203Z",
    "type": "completion"
   },
   {
    "id": "cbd13a2e6edf467c877157d79751d16d",
    "time": "2021-02-16T23:32:31.212Z",
    "type": "completion"
   },
   {
    "id": "c6eb5ceb74a745c68e9b3ec81d8b91db",
    "time": "2021-02-16T23:32:31.214Z",
    "type": "completion"
   },
   {
    "id": "438a2dd91fa044e98956b104d4fbc059",
    "time": "2021-02-16T23:32:31.218Z",
    "type": "completion"
   },
   {
    "code": "#result = np.where(z_2d == np.amax(z_2d))\nminInRows = np.where(z_2d == np.amin(z_2d, axis=1))",
    "id": "cbd13a2e6edf467c877157d79751d16d",
    "idx": 11,
    "time": "2021-02-16T23:34:23.921Z",
    "type": "execution"
   },
   {
    "id": "cbd13a2e6edf467c877157d79751d16d",
    "time": "2021-02-16T23:34:24.005Z",
    "type": "completion"
   },
   {
    "code": "def Stirling(tau):\n    N=1000\n    return N*np.exp(-1/tau)/(1+np.exp(-1/tau))",
    "id": "c6eb5ceb74a745c68e9b3ec81d8b91db",
    "idx": 12,
    "time": "2021-02-16T23:34:24.556Z",
    "type": "execution"
   },
   {
    "id": "c6eb5ceb74a745c68e9b3ec81d8b91db",
    "time": "2021-02-16T23:34:24.628Z",
    "type": "completion"
   },
   {
    "code": "plt.plot(x_2d[minInRows[0], minInRows[1]], y_2d[minInRows[0], minInRows[1]]\n        , 'r-'  # plot with the color red, as line\n        )\n#plt.plot(x_2d[minInRows[0], minInRows[1]], Stirling(x_2d[minInRows[0], minInRows[1]]), 'b-')",
    "id": "438a2dd91fa044e98956b104d4fbc059",
    "idx": 13,
    "time": "2021-02-16T23:34:25.285Z",
    "type": "execution"
   },
   {
    "id": "438a2dd91fa044e98956b104d4fbc059",
    "time": "2021-02-16T23:34:25.554Z",
    "type": "completion"
   },
   {
    "code": "#result = np.where(z_2d == np.amax(z_2d))\nminInRows = np.where(z_2d == np.amin(z_2d, axis=0))",
    "id": "cbd13a2e6edf467c877157d79751d16d",
    "idx": 11,
    "time": "2021-02-16T23:34:36.244Z",
    "type": "execution"
   },
   {
    "id": "cbd13a2e6edf467c877157d79751d16d",
    "time": "2021-02-16T23:34:36.326Z",
    "type": "completion"
   },
   {
    "code": "def Stirling(tau):\n    N=1000\n    return N*np.exp(-1/tau)/(1+np.exp(-1/tau))",
    "id": "c6eb5ceb74a745c68e9b3ec81d8b91db",
    "idx": 12,
    "time": "2021-02-16T23:34:36.765Z",
    "type": "execution"
   },
   {
    "id": "c6eb5ceb74a745c68e9b3ec81d8b91db",
    "time": "2021-02-16T23:34:36.838Z",
    "type": "completion"
   },
   {
    "code": "plt.plot(x_2d[minInRows[0], minInRows[1]], y_2d[minInRows[0], minInRows[1]]\n        , 'r-'  # plot with the color red, as line\n        )\n#plt.plot(x_2d[minInRows[0], minInRows[1]], Stirling(x_2d[minInRows[0], minInRows[1]]), 'b-')",
    "id": "438a2dd91fa044e98956b104d4fbc059",
    "idx": 13,
    "time": "2021-02-16T23:34:37.317Z",
    "type": "execution"
   },
   {
    "id": "438a2dd91fa044e98956b104d4fbc059",
    "time": "2021-02-16T23:34:37.567Z",
    "type": "completion"
   },
   {
    "code": "plt.plot(y,F(1.4,y)\n        , 'r-'  # plot with the color red, as line\n        )\n#plt.plot(x_2d[minInRows[0], minInRows[1]], Stirling(x_2d[minInRows[0], minInRows[1]]), 'b-')",
    "id": "0bec80146b444b999d908edb321bcbfc",
    "idx": 8,
    "time": "2021-02-16T23:35:00.686Z",
    "type": "execution"
   },
   {
    "id": "0bec80146b444b999d908edb321bcbfc",
    "time": "2021-02-16T23:35:01.133Z",
    "type": "completion"
   },
   {
    "code": "plt.plot(y,F(1.0,y)\n        , 'r-'  # plot with the color red, as line\n        )\n#plt.plot(x_2d[minInRows[0], minInRows[1]], Stirling(x_2d[minInRows[0], minInRows[1]]), 'b-')",
    "id": "0bec80146b444b999d908edb321bcbfc",
    "idx": 8,
    "time": "2021-02-16T23:35:12.975Z",
    "type": "execution"
   },
   {
    "id": "0bec80146b444b999d908edb321bcbfc",
    "time": "2021-02-16T23:35:13.237Z",
    "type": "completion"
   },
   {
    "code": "plt.plot(y,F(0.7,y)\n        , 'r-'  # plot with the color red, as line\n        )\n#plt.plot(x_2d[minInRows[0], minInRows[1]], Stirling(x_2d[minInRows[0], minInRows[1]]), 'b-')",
    "id": "0bec80146b444b999d908edb321bcbfc",
    "idx": 8,
    "time": "2021-02-16T23:35:24.718Z",
    "type": "execution"
   },
   {
    "id": "0bec80146b444b999d908edb321bcbfc",
    "time": "2021-02-16T23:35:24.992Z",
    "type": "completion"
   },
   {
    "code": "plt.plot(y,F(0.6,y)\n        , 'r-'  # plot with the color red, as line\n        )\n#plt.plot(x_2d[minInRows[0], minInRows[1]], Stirling(x_2d[minInRows[0], minInRows[1]]), 'b-')",
    "id": "0bec80146b444b999d908edb321bcbfc",
    "idx": 8,
    "time": "2021-02-16T23:35:35.321Z",
    "type": "execution"
   },
   {
    "id": "0bec80146b444b999d908edb321bcbfc",
    "time": "2021-02-16T23:35:35.641Z",
    "type": "completion"
   },
   {
    "code": "plt.plot(y,F(0.5,y)\n        , 'r-'  # plot with the color red, as line\n        )\n#plt.plot(x_2d[minInRows[0], minInRows[1]], Stirling(x_2d[minInRows[0], minInRows[1]]), 'b-')",
    "id": "0bec80146b444b999d908edb321bcbfc",
    "idx": 8,
    "time": "2021-02-16T23:35:44.786Z",
    "type": "execution"
   },
   {
    "id": "0bec80146b444b999d908edb321bcbfc",
    "time": "2021-02-16T23:35:45.070Z",
    "type": "completion"
   },
   {
    "code": "plt.plot(y,F(0.45,y)\n        , 'r-'  # plot with the color red, as line\n        )\n#plt.plot(x_2d[minInRows[0], minInRows[1]], Stirling(x_2d[minInRows[0], minInRows[1]]), 'b-')",
    "id": "0bec80146b444b999d908edb321bcbfc",
    "idx": 8,
    "time": "2021-02-16T23:35:53.889Z",
    "type": "execution"
   },
   {
    "id": "0bec80146b444b999d908edb321bcbfc",
    "time": "2021-02-16T23:35:54.154Z",
    "type": "completion"
   },
   {
    "code": "plt.plot(y,F(0.5,y)\n        , 'r-'  # plot with the color red, as line\n        )\n#plt.plot(x_2d[minInRows[0], minInRows[1]], Stirling(x_2d[minInRows[0], minInRows[1]]), 'b-')",
    "id": "0bec80146b444b999d908edb321bcbfc",
    "idx": 8,
    "time": "2021-02-16T23:36:06.877Z",
    "type": "execution"
   },
   {
    "id": "0bec80146b444b999d908edb321bcbfc",
    "time": "2021-02-16T23:36:07.163Z",
    "type": "completion"
   },
   {
    "code": "plt.plot(y,F(0.4,y)\n        , 'r-'  # plot with the color red, as line\n        )\n#plt.plot(x_2d[minInRows[0], minInRows[1]], Stirling(x_2d[minInRows[0], minInRows[1]]), 'b-')",
    "id": "0bec80146b444b999d908edb321bcbfc",
    "idx": 8,
    "time": "2021-02-16T23:39:19.338Z",
    "type": "execution"
   },
   {
    "id": "0bec80146b444b999d908edb321bcbfc",
    "time": "2021-02-16T23:39:19.871Z",
    "type": "completion"
   },
   {
    "code": "from mpl_toolkits.mplot3d import Axes3D\nfig = plt.figure(figsize=(8,8)) #create figure object to hold the plot\nax = Axes3D(fig) #create Axes3D object to display the plot\nax.plot_surface(x_2d, y_2d, z_2d)\nax.set_xlabel(\"$t/U$\")\nax.set_ylabel(\"$n$\")\nax.set_zlabel(\"$F(x,y)$\")",
    "id": "950663c93f4e4522875c90b09192aac5",
    "idx": 9,
    "time": "2021-02-16T23:39:20.059Z",
    "type": "execution"
   },
   {
    "id": "950663c93f4e4522875c90b09192aac5",
    "time": "2021-02-16T23:39:21.649Z",
    "type": "completion"
   },
   {
    "code": "plt.plot(y,F(0.3,y)\n        , 'r-'  # plot with the color red, as line\n        )\n#plt.plot(x_2d[minInRows[0], minInRows[1]], Stirling(x_2d[minInRows[0], minInRows[1]]), 'b-')",
    "id": "0bec80146b444b999d908edb321bcbfc",
    "idx": 8,
    "time": "2021-02-16T23:39:33.127Z",
    "type": "execution"
   },
   {
    "id": "0bec80146b444b999d908edb321bcbfc",
    "time": "2021-02-16T23:39:33.457Z",
    "type": "completion"
   },
   {
    "code": "plt.plot(y,F(0.35,y)\n        , 'r-'  # plot with the color red, as line\n        )\n#plt.plot(x_2d[minInRows[0], minInRows[1]], Stirling(x_2d[minInRows[0], minInRows[1]]), 'b-')",
    "id": "0bec80146b444b999d908edb321bcbfc",
    "idx": 8,
    "time": "2021-02-16T23:39:43.139Z",
    "type": "execution"
   },
   {
    "id": "0bec80146b444b999d908edb321bcbfc",
    "time": "2021-02-16T23:39:43.467Z",
    "type": "completion"
   },
   {
    "code": "y = np.linspace(0, 500, 500)\nx = np.linspace(.01,1, 500)\nx_2d, y_2d = np.meshgrid(x,y)\nz_2d = F(x_2d, y_2d)",
    "id": "3db2899b5eae4a4d941fc55ec4afde52",
    "idx": 7,
    "time": "2021-02-16T23:49:24.194Z",
    "type": "execution"
   },
   {
    "code": "plt.plot(y,F(0.35,y)\n        , 'r-'  # plot with the color red, as line\n        )\n#plt.plot(x_2d[minInRows[0], minInRows[1]], Stirling(x_2d[minInRows[0], minInRows[1]]), 'b-')",
    "id": "0bec80146b444b999d908edb321bcbfc",
    "idx": 8,
    "time": "2021-02-16T23:49:24.898Z",
    "type": "execution"
   },
   {
    "code": "from mpl_toolkits.mplot3d import Axes3D\nfig = plt.figure(figsize=(8,8)) #create figure object to hold the plot\nax = Axes3D(fig) #create Axes3D object to display the plot\nax.plot_surface(x_2d, y_2d, z_2d)\nax.set_xlabel(\"$t/U$\")\nax.set_ylabel(\"$n$\")\nax.set_zlabel(\"$F(x,y)$\")",
    "id": "950663c93f4e4522875c90b09192aac5",
    "idx": 9,
    "time": "2021-02-16T23:49:25.615Z",
    "type": "execution"
   },
   {
    "code": "#result = np.where(z_2d == np.amax(z_2d))\nminInRows = np.where(z_2d == np.amin(z_2d, axis=0))",
    "id": "cbd13a2e6edf467c877157d79751d16d",
    "idx": 11,
    "time": "2021-02-16T23:49:27.237Z",
    "type": "execution"
   },
   {
    "code": "def Stirling(tau):\n    N=1000\n    return N*np.exp(-1/tau)/(1+np.exp(-1/tau))",
    "id": "c6eb5ceb74a745c68e9b3ec81d8b91db",
    "idx": 12,
    "time": "2021-02-16T23:49:27.800Z",
    "type": "execution"
   },
   {
    "code": "plt.plot(x_2d[minInRows[0], minInRows[1]], y_2d[minInRows[0], minInRows[1]]\n        , 'r-'  # plot with the color red, as line\n        )\n#plt.plot(x_2d[minInRows[0], minInRows[1]], Stirling(x_2d[minInRows[0], minInRows[1]]), 'b-')",
    "id": "438a2dd91fa044e98956b104d4fbc059",
    "idx": 13,
    "time": "2021-02-16T23:49:28.446Z",
    "type": "execution"
   },
   {
    "id": "3db2899b5eae4a4d941fc55ec4afde52",
    "time": "2021-02-16T23:49:32.317Z",
    "type": "completion"
   },
   {
    "id": "0bec80146b444b999d908edb321bcbfc",
    "time": "2021-02-16T23:49:32.595Z",
    "type": "completion"
   },
   {
    "id": "950663c93f4e4522875c90b09192aac5",
    "time": "2021-02-16T23:49:33.583Z",
    "type": "completion"
   },
   {
    "id": "cbd13a2e6edf467c877157d79751d16d",
    "time": "2021-02-16T23:49:33.585Z",
    "type": "completion"
   },
   {
    "id": "c6eb5ceb74a745c68e9b3ec81d8b91db",
    "time": "2021-02-16T23:49:33.634Z",
    "type": "completion"
   },
   {
    "id": "438a2dd91fa044e98956b104d4fbc059",
    "time": "2021-02-16T23:49:33.638Z",
    "type": "completion"
   },
   {
    "code": "plt.plot(y,F(0.3,y)\n        , 'r-'  # plot with the color red, as line\n        )\n#plt.plot(x_2d[minInRows[0], minInRows[1]], Stirling(x_2d[minInRows[0], minInRows[1]]), 'b-')",
    "id": "0bec80146b444b999d908edb321bcbfc",
    "idx": 8,
    "time": "2021-02-16T23:49:56.027Z",
    "type": "execution"
   },
   {
    "id": "0bec80146b444b999d908edb321bcbfc",
    "time": "2021-02-16T23:49:56.345Z",
    "type": "completion"
   },
   {
    "code": "Approx(1)\n",
    "id": "df8ee3166b224e7f95a35e9860ef4968",
    "idx": 14,
    "time": "2021-02-17T00:11:18.452Z",
    "type": "execution"
   },
   {
    "id": "df8ee3166b224e7f95a35e9860ef4968",
    "time": "2021-02-17T00:11:18.570Z",
    "type": "completion"
   },
   {
    "code": "def Approx(n):\n    N=1000\n    return 2*(N-2*n)/(N*np.log((N-m)/n))",
    "id": "144e7bbba5164db08ef3e4c70b6b2bab",
    "idx": 13,
    "time": "2021-02-17T00:11:28.382Z",
    "type": "execution"
   },
   {
    "id": "144e7bbba5164db08ef3e4c70b6b2bab",
    "time": "2021-02-17T00:11:28.455Z",
    "type": "completion"
   },
   {
    "code": "Approx(1)\n",
    "id": "df8ee3166b224e7f95a35e9860ef4968",
    "idx": 14,
    "time": "2021-02-17T00:11:31.451Z",
    "type": "execution"
   },
   {
    "id": "df8ee3166b224e7f95a35e9860ef4968",
    "time": "2021-02-17T00:11:31.540Z",
    "type": "completion"
   },
   {
    "code": "def Approx(n):\n    N=1000\n    return 2*(N-2*n)/(N*np.log((N-n)/n))",
    "id": "144e7bbba5164db08ef3e4c70b6b2bab",
    "idx": 13,
    "time": "2021-02-17T00:11:44.874Z",
    "type": "execution"
   },
   {
    "id": "144e7bbba5164db08ef3e4c70b6b2bab",
    "time": "2021-02-17T00:11:44.947Z",
    "type": "completion"
   },
   {
    "code": "Approx(1)\n",
    "id": "df8ee3166b224e7f95a35e9860ef4968",
    "idx": 14,
    "time": "2021-02-17T00:11:47.002Z",
    "type": "execution"
   },
   {
    "id": "df8ee3166b224e7f95a35e9860ef4968",
    "time": "2021-02-17T00:11:47.096Z",
    "type": "completion"
   },
   {
    "code": "Approx(10)\n",
    "id": "df8ee3166b224e7f95a35e9860ef4968",
    "idx": 14,
    "time": "2021-02-17T00:12:01.998Z",
    "type": "execution"
   },
   {
    "id": "df8ee3166b224e7f95a35e9860ef4968",
    "time": "2021-02-17T00:12:02.081Z",
    "type": "completion"
   },
   {
    "code": "Approx(100)\n",
    "id": "df8ee3166b224e7f95a35e9860ef4968",
    "idx": 14,
    "time": "2021-02-17T00:12:14.835Z",
    "type": "execution"
   },
   {
    "id": "df8ee3166b224e7f95a35e9860ef4968",
    "time": "2021-02-17T00:12:14.916Z",
    "type": "completion"
   },
   {
    "code": "Approx(500)\n",
    "id": "df8ee3166b224e7f95a35e9860ef4968",
    "idx": 14,
    "time": "2021-02-17T00:12:37.488Z",
    "type": "execution"
   },
   {
    "id": "df8ee3166b224e7f95a35e9860ef4968",
    "time": "2021-02-17T00:12:37.607Z",
    "type": "completion"
   },
   {
    "code": "Approx(499)\n",
    "id": "df8ee3166b224e7f95a35e9860ef4968",
    "idx": 14,
    "time": "2021-02-17T00:12:44.856Z",
    "type": "execution"
   },
   {
    "id": "df8ee3166b224e7f95a35e9860ef4968",
    "time": "2021-02-17T00:12:44.930Z",
    "type": "completion"
   },
   {
    "code": "Approx(498)\n",
    "id": "df8ee3166b224e7f95a35e9860ef4968",
    "idx": 14,
    "time": "2021-02-17T00:13:07.884Z",
    "type": "execution"
   },
   {
    "id": "df8ee3166b224e7f95a35e9860ef4968",
    "time": "2021-02-17T00:13:07.959Z",
    "type": "completion"
   },
   {
    "code": "Approx(400)\n",
    "id": "df8ee3166b224e7f95a35e9860ef4968",
    "idx": 14,
    "time": "2021-02-17T00:13:13.666Z",
    "type": "execution"
   },
   {
    "id": "df8ee3166b224e7f95a35e9860ef4968",
    "time": "2021-02-17T00:13:13.743Z",
    "type": "completion"
   },
   {
    "code": "Approx(300)\n",
    "id": "df8ee3166b224e7f95a35e9860ef4968",
    "idx": 14,
    "time": "2021-02-17T00:13:20.859Z",
    "type": "execution"
   },
   {
    "id": "df8ee3166b224e7f95a35e9860ef4968",
    "time": "2021-02-17T00:13:20.934Z",
    "type": "completion"
   },
   {
    "code": "Approx(100)\n",
    "id": "df8ee3166b224e7f95a35e9860ef4968",
    "idx": 14,
    "time": "2021-02-17T00:13:56.851Z",
    "type": "execution"
   },
   {
    "id": "df8ee3166b224e7f95a35e9860ef4968",
    "time": "2021-02-17T00:13:56.940Z",
    "type": "completion"
   },
   {
    "code": "Approx(50)\n",
    "id": "df8ee3166b224e7f95a35e9860ef4968",
    "idx": 14,
    "time": "2021-02-17T00:14:03.298Z",
    "type": "execution"
   },
   {
    "id": "df8ee3166b224e7f95a35e9860ef4968",
    "time": "2021-02-17T00:14:03.494Z",
    "type": "completion"
   },
   {
    "code": "def Approx(n):\n    N=1000\n    return (N-2*n)/(N*np.log((N-n)/n))",
    "id": "144e7bbba5164db08ef3e4c70b6b2bab",
    "idx": 13,
    "time": "2021-02-17T00:14:41.364Z",
    "type": "execution"
   },
   {
    "id": "144e7bbba5164db08ef3e4c70b6b2bab",
    "time": "2021-02-17T00:14:41.442Z",
    "type": "completion"
   },
   {
    "code": "Approx(50)\n",
    "id": "df8ee3166b224e7f95a35e9860ef4968",
    "idx": 14,
    "time": "2021-02-17T00:14:42.061Z",
    "type": "execution"
   },
   {
    "id": "df8ee3166b224e7f95a35e9860ef4968",
    "time": "2021-02-17T00:14:42.138Z",
    "type": "completion"
   },
   {
    "code": "Approx(100)\n",
    "id": "df8ee3166b224e7f95a35e9860ef4968",
    "idx": 14,
    "time": "2021-02-17T00:14:54.573Z",
    "type": "execution"
   },
   {
    "id": "df8ee3166b224e7f95a35e9860ef4968",
    "time": "2021-02-17T00:14:54.655Z",
    "type": "completion"
   },
   {
    "code": "Approx(300)\n",
    "id": "df8ee3166b224e7f95a35e9860ef4968",
    "idx": 14,
    "time": "2021-02-17T00:15:08.617Z",
    "type": "execution"
   },
   {
    "id": "df8ee3166b224e7f95a35e9860ef4968",
    "time": "2021-02-17T00:15:08.705Z",
    "type": "completion"
   },
   {
    "code": "Approx(400)\n",
    "id": "df8ee3166b224e7f95a35e9860ef4968",
    "idx": 14,
    "time": "2021-02-17T00:15:22.586Z",
    "type": "execution"
   },
   {
    "id": "df8ee3166b224e7f95a35e9860ef4968",
    "time": "2021-02-17T00:15:22.663Z",
    "type": "completion"
   },
   {
    "code": "plt.plot(x_2d[minInRows[0], minInRows[1]], y_2d[minInRows[0], minInRows[1]]\n        , 'r-'  # plot with the color red, as line)\nplt.plot(Approx(y_2d[minInRows[0], minInRows[1]]), y_2d[minInRows[0], minInRows[1]], 'b-')",
    "id": "438a2dd91fa044e98956b104d4fbc059",
    "idx": 15,
    "time": "2021-02-17T00:17:33.853Z",
    "type": "execution"
   },
   {
    "id": "438a2dd91fa044e98956b104d4fbc059",
    "time": "2021-02-17T00:17:33.948Z",
    "type": "completion"
   },
   {
    "code": "plt.plot(x_2d[minInRows[0], minInRows[1]], y_2d[minInRows[0], minInRows[1]]\n        , 'r-')  \nplt.plot(Approx(y_2d[minInRows[0], minInRows[1]]), y_2d[minInRows[0], minInRows[1]], 'b-')",
    "id": "438a2dd91fa044e98956b104d4fbc059",
    "idx": 15,
    "time": "2021-02-17T00:18:04.356Z",
    "type": "execution"
   },
   {
    "id": "438a2dd91fa044e98956b104d4fbc059",
    "time": "2021-02-17T00:18:04.613Z",
    "type": "completion"
   },
   {
    "code": "y = np.linspace(0, 500, 499)\nx = np.linspace(.01,1, 500)\nx_2d, y_2d = np.meshgrid(x,y)\nz_2d = F(x_2d, y_2d)",
    "id": "3db2899b5eae4a4d941fc55ec4afde52",
    "idx": 7,
    "time": "2021-02-17T00:18:34.161Z",
    "type": "execution"
   },
   {
    "code": "plt.plot(y,F(0.3,y)\n        , 'r-'  # plot with the color red, as line\n        )\n#plt.plot(x_2d[minInRows[0], minInRows[1]], Stirling(x_2d[minInRows[0], minInRows[1]]), 'b-')",
    "id": "0bec80146b444b999d908edb321bcbfc",
    "idx": 8,
    "time": "2021-02-17T00:18:34.881Z",
    "type": "execution"
   },
   {
    "code": "from mpl_toolkits.mplot3d import Axes3D\nfig = plt.figure(figsize=(8,8)) #create figure object to hold the plot\nax = Axes3D(fig) #create Axes3D object to display the plot\nax.plot_surface(x_2d, y_2d, z_2d)\nax.set_xlabel(\"$t/U$\")\nax.set_ylabel(\"$n$\")\nax.set_zlabel(\"$F(x,y)$\")",
    "id": "950663c93f4e4522875c90b09192aac5",
    "idx": 9,
    "time": "2021-02-17T00:18:35.486Z",
    "type": "execution"
   },
   {
    "code": "#result = np.where(z_2d == np.amax(z_2d))\nminInRows = np.where(z_2d == np.amin(z_2d, axis=0))",
    "id": "cbd13a2e6edf467c877157d79751d16d",
    "idx": 11,
    "time": "2021-02-17T00:18:36.711Z",
    "type": "execution"
   },
   {
    "code": "def Stirling(tau):\n    N=1000\n    return N*np.exp(-1/tau)/(1+np.exp(-1/tau))",
    "id": "c6eb5ceb74a745c68e9b3ec81d8b91db",
    "idx": 12,
    "time": "2021-02-17T00:18:37.231Z",
    "type": "execution"
   },
   {
    "code": "def Approx(n):\n    N=1000\n    return (N-2*n)/(N*np.log((N-n)/n))",
    "id": "144e7bbba5164db08ef3e4c70b6b2bab",
    "idx": 13,
    "time": "2021-02-17T00:18:37.702Z",
    "type": "execution"
   },
   {
    "code": "Approx(400)\n",
    "id": "df8ee3166b224e7f95a35e9860ef4968",
    "idx": 14,
    "time": "2021-02-17T00:18:38.282Z",
    "type": "execution"
   },
   {
    "code": "plt.plot(x_2d[minInRows[0], minInRows[1]], y_2d[minInRows[0], minInRows[1]]\n        , 'r-')  \nplt.plot(Approx(y_2d[minInRows[0], minInRows[1]]), y_2d[minInRows[0], minInRows[1]], 'b-')",
    "id": "438a2dd91fa044e98956b104d4fbc059",
    "idx": 15,
    "time": "2021-02-17T00:18:39.226Z",
    "type": "execution"
   },
   {
    "id": "3db2899b5eae4a4d941fc55ec4afde52",
    "time": "2021-02-17T00:18:42.500Z",
    "type": "completion"
   },
   {
    "id": "0bec80146b444b999d908edb321bcbfc",
    "time": "2021-02-17T00:18:42.732Z",
    "type": "completion"
   },
   {
    "id": "950663c93f4e4522875c90b09192aac5",
    "time": "2021-02-17T00:18:43.774Z",
    "type": "completion"
   },
   {
    "id": "cbd13a2e6edf467c877157d79751d16d",
    "time": "2021-02-17T00:18:43.776Z",
    "type": "completion"
   },
   {
    "id": "c6eb5ceb74a745c68e9b3ec81d8b91db",
    "time": "2021-02-17T00:18:43.777Z",
    "type": "completion"
   },
   {
    "id": "144e7bbba5164db08ef3e4c70b6b2bab",
    "time": "2021-02-17T00:18:43.778Z",
    "type": "completion"
   },
   {
    "id": "df8ee3166b224e7f95a35e9860ef4968",
    "time": "2021-02-17T00:18:43.781Z",
    "type": "completion"
   },
   {
    "id": "438a2dd91fa044e98956b104d4fbc059",
    "time": "2021-02-17T00:18:43.832Z",
    "type": "completion"
   },
   {
    "code": "def F(tautest,ntest):\n    N=1000\n    return (2.0*ntest*(N-2*ntest)/N - tautest*sigma(ntest))",
    "id": "db78bdd7fd7b4621bdf91bf9900e6349",
    "idx": 6,
    "time": "2021-02-17T00:44:59.877Z",
    "type": "execution"
   },
   {
    "id": "db78bdd7fd7b4621bdf91bf9900e6349",
    "time": "2021-02-17T00:44:59.964Z",
    "type": "completion"
   },
   {
    "code": "y = np.linspace(0, 500, 499)\nx = np.linspace(.01,1, 500)\nx_2d, y_2d = np.meshgrid(x,y)\nz_2d = F(x_2d, y_2d)",
    "id": "3db2899b5eae4a4d941fc55ec4afde52",
    "idx": 7,
    "time": "2021-02-17T00:45:00.544Z",
    "type": "execution"
   },
   {
    "code": "plt.plot(y,F(0.3,y)\n        , 'r-'  # plot with the color red, as line\n        )\n#plt.plot(x_2d[minInRows[0], minInRows[1]], Stirling(x_2d[minInRows[0], minInRows[1]]), 'b-')",
    "id": "0bec80146b444b999d908edb321bcbfc",
    "idx": 8,
    "time": "2021-02-17T00:45:01.400Z",
    "type": "execution"
   },
   {
    "code": "from mpl_toolkits.mplot3d import Axes3D\nfig = plt.figure(figsize=(8,8)) #create figure object to hold the plot\nax = Axes3D(fig) #create Axes3D object to display the plot\nax.plot_surface(x_2d, y_2d, z_2d)\nax.set_xlabel(\"$t/U$\")\nax.set_ylabel(\"$n$\")\nax.set_zlabel(\"$F(x,y)$\")",
    "id": "950663c93f4e4522875c90b09192aac5",
    "idx": 9,
    "time": "2021-02-17T00:45:02.775Z",
    "type": "execution"
   },
   {
    "id": "3db2899b5eae4a4d941fc55ec4afde52",
    "time": "2021-02-17T00:45:09.534Z",
    "type": "completion"
   },
   {
    "id": "0bec80146b444b999d908edb321bcbfc",
    "time": "2021-02-17T00:45:09.816Z",
    "type": "completion"
   },
   {
    "id": "950663c93f4e4522875c90b09192aac5",
    "time": "2021-02-17T00:45:10.834Z",
    "type": "completion"
   },
   {
    "code": "#result = np.where(z_2d == np.amax(z_2d))\nminInRows = np.where(z_2d == np.amin(z_2d, axis=0))",
    "id": "cbd13a2e6edf467c877157d79751d16d",
    "idx": 11,
    "time": "2021-02-17T00:45:24.827Z",
    "type": "execution"
   },
   {
    "id": "cbd13a2e6edf467c877157d79751d16d",
    "time": "2021-02-17T00:45:24.904Z",
    "type": "completion"
   },
   {
    "code": "def Stirling(tau):\n    N=1000\n    return N*np.exp(-1/tau)/(1+np.exp(-1/tau))",
    "id": "c6eb5ceb74a745c68e9b3ec81d8b91db",
    "idx": 12,
    "time": "2021-02-17T00:45:26.052Z",
    "type": "execution"
   },
   {
    "id": "c6eb5ceb74a745c68e9b3ec81d8b91db",
    "time": "2021-02-17T00:45:26.127Z",
    "type": "completion"
   },
   {
    "code": "def Approx(n):\n    N=1000\n    return (N-2*n)/(N*np.log((N-n)/n))",
    "id": "144e7bbba5164db08ef3e4c70b6b2bab",
    "idx": 13,
    "time": "2021-02-17T00:45:27.691Z",
    "type": "execution"
   },
   {
    "id": "144e7bbba5164db08ef3e4c70b6b2bab",
    "time": "2021-02-17T00:45:27.765Z",
    "type": "completion"
   },
   {
    "code": "Approx(400)\n",
    "id": "df8ee3166b224e7f95a35e9860ef4968",
    "idx": 14,
    "time": "2021-02-17T00:45:29.041Z",
    "type": "execution"
   },
   {
    "id": "df8ee3166b224e7f95a35e9860ef4968",
    "time": "2021-02-17T00:45:29.123Z",
    "type": "completion"
   },
   {
    "code": "plt.plot(x_2d[minInRows[0], minInRows[1]], y_2d[minInRows[0], minInRows[1]]\n        , 'r-')  \nplt.plot(Approx(y_2d[minInRows[0], minInRows[1]]), y_2d[minInRows[0], minInRows[1]], 'b-')",
    "id": "438a2dd91fa044e98956b104d4fbc059",
    "idx": 15,
    "time": "2021-02-17T00:45:30.397Z",
    "type": "execution"
   },
   {
    "id": "438a2dd91fa044e98956b104d4fbc059",
    "time": "2021-02-17T00:45:30.652Z",
    "type": "completion"
   },
   {
    "code": "plt.plot(y,F(0.2,y)\n        , 'r-'  # plot with the color red, as line\n        )\n#plt.plot(x_2d[minInRows[0], minInRows[1]], Stirling(x_2d[minInRows[0], minInRows[1]]), 'b-')",
    "id": "0bec80146b444b999d908edb321bcbfc",
    "idx": 8,
    "time": "2021-02-17T00:45:55.603Z",
    "type": "execution"
   },
   {
    "id": "0bec80146b444b999d908edb321bcbfc",
    "time": "2021-02-17T00:45:56.011Z",
    "type": "completion"
   },
   {
    "code": "plt.plot(y,F(0.1,y)\n        , 'r-'  # plot with the color red, as line\n        )\n#plt.plot(x_2d[minInRows[0], minInRows[1]], Stirling(x_2d[minInRows[0], minInRows[1]]), 'b-')",
    "id": "0bec80146b444b999d908edb321bcbfc",
    "idx": 8,
    "time": "2021-02-17T00:46:05.840Z",
    "type": "execution"
   },
   {
    "id": "0bec80146b444b999d908edb321bcbfc",
    "time": "2021-02-17T00:46:06.161Z",
    "type": "completion"
   },
   {
    "code": "plt.plot(y,F(0.4,y)\n        , 'r-'  # plot with the color red, as line\n        )\n#plt.plot(x_2d[minInRows[0], minInRows[1]], Stirling(x_2d[minInRows[0], minInRows[1]]), 'b-')",
    "id": "0bec80146b444b999d908edb321bcbfc",
    "idx": 8,
    "time": "2021-02-17T00:48:15.823Z",
    "type": "execution"
   },
   {
    "id": "0bec80146b444b999d908edb321bcbfc",
    "time": "2021-02-17T00:48:16.585Z",
    "type": "completion"
   },
   {
    "code": "plt.plot(y,F(0.2,y)\n        , 'r-'  # plot with the color red, as line\n        )\n#plt.plot(x_2d[minInRows[0], minInRows[1]], Stirling(x_2d[minInRows[0], minInRows[1]]), 'b-')",
    "id": "0bec80146b444b999d908edb321bcbfc",
    "idx": 8,
    "time": "2021-02-17T00:48:27.861Z",
    "type": "execution"
   },
   {
    "id": "0bec80146b444b999d908edb321bcbfc",
    "time": "2021-02-17T00:48:28.278Z",
    "type": "completion"
   },
   {
    "code": "plt.plot(y,F(0.25,y)\n        , 'r-'  # plot with the color red, as line\n        )\n#plt.plot(x_2d[minInRows[0], minInRows[1]], Stirling(x_2d[minInRows[0], minInRows[1]]), 'b-')",
    "id": "0bec80146b444b999d908edb321bcbfc",
    "idx": 8,
    "time": "2021-02-17T00:48:39.899Z",
    "type": "execution"
   },
   {
    "id": "0bec80146b444b999d908edb321bcbfc",
    "time": "2021-02-17T00:48:40.214Z",
    "type": "completion"
   },
   {
    "code": "def F(tautest,ntest):\n    N=1000\n    return (2.0*ntest*(N-ntest)/N - tautest*sigma(ntest))",
    "id": "db78bdd7fd7b4621bdf91bf9900e6349",
    "idx": 6,
    "time": "2021-02-17T01:01:40.142Z",
    "type": "execution"
   },
   {
    "id": "db78bdd7fd7b4621bdf91bf9900e6349",
    "time": "2021-02-17T01:01:40.327Z",
    "type": "completion"
   },
   {
    "code": "y = np.linspace(0, 500, 499)\nx = np.linspace(.01,1, 500)\nx_2d, y_2d = np.meshgrid(x,y)\nz_2d = F(x_2d, y_2d)",
    "id": "3db2899b5eae4a4d941fc55ec4afde52",
    "idx": 7,
    "time": "2021-02-17T01:01:40.733Z",
    "type": "execution"
   },
   {
    "code": "plt.plot(y,F(0.25,y)\n        , 'r-'  # plot with the color red, as line\n        )\n#plt.plot(x_2d[minInRows[0], minInRows[1]], Stirling(x_2d[minInRows[0], minInRows[1]]), 'b-')",
    "id": "0bec80146b444b999d908edb321bcbfc",
    "idx": 8,
    "time": "2021-02-17T01:01:41.489Z",
    "type": "execution"
   },
   {
    "code": "from mpl_toolkits.mplot3d import Axes3D\nfig = plt.figure(figsize=(8,8)) #create figure object to hold the plot\nax = Axes3D(fig) #create Axes3D object to display the plot\nax.plot_surface(x_2d, y_2d, z_2d)\nax.set_xlabel(\"$t/U$\")\nax.set_ylabel(\"$n$\")\nax.set_zlabel(\"$F(x,y)$\")",
    "id": "950663c93f4e4522875c90b09192aac5",
    "idx": 9,
    "time": "2021-02-17T01:01:42.319Z",
    "type": "execution"
   },
   {
    "id": "3db2899b5eae4a4d941fc55ec4afde52",
    "time": "2021-02-17T01:01:49.148Z",
    "type": "completion"
   },
   {
    "id": "0bec80146b444b999d908edb321bcbfc",
    "time": "2021-02-17T01:01:49.431Z",
    "type": "completion"
   },
   {
    "id": "950663c93f4e4522875c90b09192aac5",
    "time": "2021-02-17T01:01:50.744Z",
    "type": "completion"
   },
   {
    "code": "plt.plot(y,F(0.4,y)\n        , 'r-'  # plot with the color red, as line\n        )\n#plt.plot(x_2d[minInRows[0], minInRows[1]], Stirling(x_2d[minInRows[0], minInRows[1]]), 'b-')",
    "id": "0bec80146b444b999d908edb321bcbfc",
    "idx": 8,
    "time": "2021-02-17T01:02:00.545Z",
    "type": "execution"
   },
   {
    "id": "0bec80146b444b999d908edb321bcbfc",
    "time": "2021-02-17T01:02:01.146Z",
    "type": "completion"
   },
   {
    "code": "from mpl_toolkits.mplot3d import Axes3D\nfig = plt.figure(figsize=(8,8)) #create figure object to hold the plot\nax = Axes3D(fig) #create Axes3D object to display the plot\nax.plot_surface(x_2d, y_2d, z_2d)\nax.set_xlabel(\"$t/U$\")\nax.set_ylabel(\"$n$\")\nax.set_zlabel(\"$F(x,y)$\")",
    "id": "950663c93f4e4522875c90b09192aac5",
    "idx": 9,
    "time": "2021-02-17T01:02:04.545Z",
    "type": "execution"
   },
   {
    "id": "950663c93f4e4522875c90b09192aac5",
    "time": "2021-02-17T01:02:05.978Z",
    "type": "completion"
   },
   {
    "code": "y = np.linspace(0, 500, 499)\nx = np.linspace(.00,1, 500)\nx_2d, y_2d = np.meshgrid(x,y)\nz_2d = F(x_2d, y_2d)",
    "id": "3db2899b5eae4a4d941fc55ec4afde52",
    "idx": 8,
    "time": "2021-02-17T01:18:58.050Z",
    "type": "execution"
   },
   {
    "code": "plt.plot(y,F(0.4,y)\n        , 'r-'  # plot with the color red, as line\n        )\n#plt.plot(x_2d[minInRows[0], minInRows[1]], Stirling(x_2d[minInRows[0], minInRows[1]]), 'b-')",
    "id": "0bec80146b444b999d908edb321bcbfc",
    "idx": 9,
    "time": "2021-02-17T01:18:59.206Z",
    "type": "execution"
   },
   {
    "code": "from mpl_toolkits.mplot3d import Axes3D\nfig = plt.figure(figsize=(8,8)) #create figure object to hold the plot\nax = Axes3D(fig) #create Axes3D object to display the plot\nax.plot_surface(x_2d, y_2d, z_2d)\nax.set_xlabel(\"$t/U$\")\nax.set_ylabel(\"$n$\")\nax.set_zlabel(\"$F(x,y)$\")",
    "id": "950663c93f4e4522875c90b09192aac5",
    "idx": 10,
    "time": "2021-02-17T01:18:59.942Z",
    "type": "execution"
   },
   {
    "code": "#result = np.where(z_2d == np.amax(z_2d))\nminInRows = np.where(z_2d == np.amin(z_2d, axis=0))",
    "id": "cbd13a2e6edf467c877157d79751d16d",
    "idx": 12,
    "time": "2021-02-17T01:19:01.043Z",
    "type": "execution"
   },
   {
    "code": "def Stirling(tau):\n    N=1000\n    return N*np.exp(-1/tau)/(1+np.exp(-1/tau))",
    "id": "c6eb5ceb74a745c68e9b3ec81d8b91db",
    "idx": 13,
    "time": "2021-02-17T01:19:01.440Z",
    "type": "execution"
   },
   {
    "code": "def Approx(n):\n    N=1000\n    return (N-2*n)/(N*np.log((N-n)/n))",
    "id": "144e7bbba5164db08ef3e4c70b6b2bab",
    "idx": 14,
    "time": "2021-02-17T01:19:01.781Z",
    "type": "execution"
   },
   {
    "code": "Approx(400)\n",
    "id": "df8ee3166b224e7f95a35e9860ef4968",
    "idx": 15,
    "time": "2021-02-17T01:19:03.153Z",
    "type": "execution"
   },
   {
    "code": "plt.plot(x_2d[minInRows[0], minInRows[1]], y_2d[minInRows[0], minInRows[1]]\n        , 'r-')  \nplt.plot(Approx(y_2d[minInRows[0], minInRows[1]]), y_2d[minInRows[0], minInRows[1]], 'b-')",
    "id": "438a2dd91fa044e98956b104d4fbc059",
    "idx": 16,
    "time": "2021-02-17T01:19:04.121Z",
    "type": "execution"
   },
   {
    "id": "3db2899b5eae4a4d941fc55ec4afde52",
    "time": "2021-02-17T01:19:06.624Z",
    "type": "completion"
   },
   {
    "id": "0bec80146b444b999d908edb321bcbfc",
    "time": "2021-02-17T01:19:06.852Z",
    "type": "completion"
   },
   {
    "id": "950663c93f4e4522875c90b09192aac5",
    "time": "2021-02-17T01:19:08.236Z",
    "type": "completion"
   },
   {
    "id": "cbd13a2e6edf467c877157d79751d16d",
    "time": "2021-02-17T01:19:08.270Z",
    "type": "completion"
   },
   {
    "id": "c6eb5ceb74a745c68e9b3ec81d8b91db",
    "time": "2021-02-17T01:19:08.272Z",
    "type": "completion"
   },
   {
    "id": "144e7bbba5164db08ef3e4c70b6b2bab",
    "time": "2021-02-17T01:19:08.275Z",
    "type": "completion"
   },
   {
    "id": "df8ee3166b224e7f95a35e9860ef4968",
    "time": "2021-02-17T01:19:08.278Z",
    "type": "completion"
   },
   {
    "id": "438a2dd91fa044e98956b104d4fbc059",
    "time": "2021-02-17T01:19:08.284Z",
    "type": "completion"
   },
   {
    "code": "y = np.linspace(0, 500, 499)\nx = np.linspace(.00,1, 500)\nx_2d, y_2d = np.meshgrid(x,y)\nz_2d = F(x_2d, y_2d)\n\nplt.plot(y,F(0.4,y)\n        , 'r-'  # plot with the color red, as line\n        )",
    "id": "3db2899b5eae4a4d941fc55ec4afde52",
    "idx": 6,
    "time": "2021-02-17T01:21:13.919Z",
    "type": "execution"
   },
   {
    "id": "3db2899b5eae4a4d941fc55ec4afde52",
    "time": "2021-02-17T01:21:22.506Z",
    "type": "completion"
   },
   {
    "code": "Approx(400)\n",
    "id": "df8ee3166b224e7f95a35e9860ef4968",
    "idx": 13,
    "time": "2021-02-17T01:30:28.575Z",
    "type": "execution"
   },
   {
    "id": "df8ee3166b224e7f95a35e9860ef4968",
    "time": "2021-02-17T01:30:28.666Z",
    "type": "completion"
   },
   {
    "code": "plt.plot(x_2d[minInRows[0], minInRows[1]], y_2d[minInRows[0], minInRows[1]]\n        , 'r-')  \nplt.plot(Approx(y_2d[minInRows[0], minInRows[1]]), y_2d[minInRows[0], minInRows[1]], 'b-')",
    "id": "438a2dd91fa044e98956b104d4fbc059",
    "idx": 14,
    "time": "2021-02-17T01:30:29.232Z",
    "type": "execution"
   },
   {
    "id": "438a2dd91fa044e98956b104d4fbc059",
    "time": "2021-02-17T01:30:29.477Z",
    "type": "completion"
   },
   {
    "code": "import numpy as np\nimport math as math\nimport scipy.stats as st\nimport scipy.special  \nimport matplotlib.pyplot as plt\n\ndef fact(x):\n    return scipy.special.factorial(x, exact=True)\n    #return math.factorial(x)\n\ndef sigma(x): \n    N=1000\n    ntest=ntest.astype(int)\n    z=2*fact(N)/(fact(n*x)*fact(N-N*x))\n    z=z.astype(np.float128)\n    z=np.log(z)\n    return z   \n\ndef F(tau,x):\n    N=1000\n    return (2.0*N*x*(N-N*x)/N - tau*sigma(N*x))",
    "id": "84895652a93f40f1856ee1cbc80ce41e",
    "idx": 5,
    "time": "2021-02-17T01:36:03.568Z",
    "type": "execution"
   },
   {
    "id": "84895652a93f40f1856ee1cbc80ce41e",
    "time": "2021-02-17T01:36:03.655Z",
    "type": "completion"
   },
   {
    "code": "y = np.linspace(.01, 0.49, 500)\nx = np.linspace(.01,1, 500)\nx_2d, y_2d = np.meshgrid(x,y)\nz_2d = F(x_2d, y_2d)\n\nplt.plot(y,F(0.4,y)\n        , 'r-'  # plot with the color red, as line\n        )",
    "id": "3db2899b5eae4a4d941fc55ec4afde52",
    "idx": 6,
    "time": "2021-02-17T01:36:04.697Z",
    "type": "execution"
   },
   {
    "id": "3db2899b5eae4a4d941fc55ec4afde52",
    "time": "2021-02-17T01:36:04.828Z",
    "type": "completion"
   },
   {
    "code": "from mpl_toolkits.mplot3d import Axes3D\nfig = plt.figure(figsize=(8,8)) #create figure object to hold the plot\nax = Axes3D(fig) #create Axes3D object to display the plot\nax.plot_surface(x_2d, y_2d, z_2d)\nax.set_xlabel(\"$t/U$\")\nax.set_ylabel(\"$n$\")\nax.set_zlabel(\"$F(x,y)$\")",
    "id": "950663c93f4e4522875c90b09192aac5",
    "idx": 7,
    "time": "2021-02-17T01:36:06.079Z",
    "type": "execution"
   },
   {
    "id": "950663c93f4e4522875c90b09192aac5",
    "time": "2021-02-17T01:36:06.570Z",
    "type": "completion"
   },
   {
    "code": "import numpy as np\nimport math as math\nimport scipy.stats as st\nimport scipy.special  \nimport matplotlib.pyplot as plt\n\ndef fact(x):\n    return scipy.special.factorial(x, exact=True)\n    #return math.factorial(x)\n\ndef sigma(x): \n    N=1000\n    ntest=x*N\n    ntest=ntest.astype(int)\n    z=2*fact(N)/(fact(ntest)*fact(N-ntest))\n    z=z.astype(np.float128)\n    z=np.log(z)\n    return z   \n\ndef F(tau,x):\n    N=1000\n    return (2.0*N*x*(N-N*x)/N - tau*sigma(N*x))",
    "id": "84895652a93f40f1856ee1cbc80ce41e",
    "idx": 5,
    "time": "2021-02-17T01:38:21.824Z",
    "type": "execution"
   },
   {
    "id": "84895652a93f40f1856ee1cbc80ce41e",
    "time": "2021-02-17T01:38:21.930Z",
    "type": "completion"
   },
   {
    "code": "y = np.linspace(.01, 0.49, 500)\nx = np.linspace(.01,1, 500)\nx_2d, y_2d = np.meshgrid(x,y)\nz_2d = F(x_2d, y_2d)\n\nplt.plot(y,F(0.4,y)\n        , 'r-'  # plot with the color red, as line\n        )",
    "id": "3db2899b5eae4a4d941fc55ec4afde52",
    "idx": 6,
    "time": "2021-02-17T01:38:23.102Z",
    "type": "execution"
   },
   {
    "code": "from mpl_toolkits.mplot3d import Axes3D\nfig = plt.figure(figsize=(8,8)) #create figure object to hold the plot\nax = Axes3D(fig) #create Axes3D object to display the plot\nax.plot_surface(x_2d, y_2d, z_2d)\nax.set_xlabel(\"$t/U$\")\nax.set_ylabel(\"$n$\")\nax.set_zlabel(\"$F(x,y)$\")",
    "id": "950663c93f4e4522875c90b09192aac5",
    "idx": 7,
    "time": "2021-02-17T01:38:23.831Z",
    "type": "execution"
   },
   {
    "code": "Solution here",
    "id": "e6b32073b9c245868c8e543019516070",
    "idx": 9,
    "time": "2021-02-17T01:38:26.578Z",
    "type": "execution"
   },
   {
    "code": "#result = np.where(z_2d == np.amax(z_2d))\nminInRows = np.where(z_2d == np.amin(z_2d, axis=0))",
    "id": "cbd13a2e6edf467c877157d79751d16d",
    "idx": 10,
    "time": "2021-02-17T01:38:27.174Z",
    "type": "execution"
   },
   {
    "code": "def Stirling(tau):\n    N=1000\n    return N*np.exp(-1/tau)/(1+np.exp(-1/tau))",
    "id": "c6eb5ceb74a745c68e9b3ec81d8b91db",
    "idx": 11,
    "time": "2021-02-17T01:38:27.793Z",
    "type": "execution"
   },
   {
    "code": "def Approx(n):\n    N=1000\n    return (N-2*n)/(N*np.log((N-n)/n))",
    "id": "144e7bbba5164db08ef3e4c70b6b2bab",
    "idx": 12,
    "time": "2021-02-17T01:38:28.372Z",
    "type": "execution"
   },
   {
    "id": "3db2899b5eae4a4d941fc55ec4afde52",
    "time": "2021-02-17T01:38:45.673Z",
    "type": "completion"
   },
   {
    "id": "950663c93f4e4522875c90b09192aac5",
    "time": "2021-02-17T01:38:45.703Z",
    "type": "completion"
   },
   {
    "id": "e6b32073b9c245868c8e543019516070",
    "time": "2021-02-17T01:38:45.706Z",
    "type": "completion"
   },
   {
    "id": "cbd13a2e6edf467c877157d79751d16d",
    "time": "2021-02-17T01:38:45.707Z",
    "type": "completion"
   },
   {
    "id": "c6eb5ceb74a745c68e9b3ec81d8b91db",
    "time": "2021-02-17T01:38:45.708Z",
    "type": "completion"
   },
   {
    "id": "144e7bbba5164db08ef3e4c70b6b2bab",
    "time": "2021-02-17T01:38:45.708Z",
    "type": "completion"
   },
   {
    "code": "sigma(.2)",
    "id": "6656831762344c8f80c28276331909d7",
    "idx": 6,
    "time": "2021-02-17T01:40:00.447Z",
    "type": "execution"
   },
   {
    "id": "6656831762344c8f80c28276331909d7",
    "time": "2021-02-17T01:40:00.584Z",
    "type": "completion"
   },
   {
    "code": "import numpy as np\nimport math as math\nimport scipy.stats as st\nimport scipy.special  \nimport matplotlib.pyplot as plt\n\ndef fact(x):\n    return scipy.special.factorial(x, exact=True)\n    #return math.factorial(x)\n\ndef sigma(x): \n    N=1000\n    ntest=x*N\n    ntest=ntest.astype(int)\n    z=2*fact(N)/(fact(ntest)*fact(N-ntest))\n    z=z.astype(np.float128)\n    z=np.log(z)\n    return z   \n\ndef F(tau,x):\n    N=1000\n    return (2.0*N*x*(N-N*x)/N - tau*sigma(N*x))",
    "id": "84895652a93f40f1856ee1cbc80ce41e",
    "idx": 5,
    "time": "2021-02-17T01:40:26.354Z",
    "type": "execution"
   },
   {
    "id": "84895652a93f40f1856ee1cbc80ce41e",
    "time": "2021-02-17T01:40:26.423Z",
    "type": "completion"
   },
   {
    "code": "y = np.linspace(.01, 0.49, 500)\nx = np.linspace(.01,1, 500)\nx_2d, y_2d = np.meshgrid(x,y)\nz_2d = F(x_2d, y_2d)\n\nplt.plot(y,F(0.4,y)\n        , 'r-'  # plot with the color red, as line\n        )",
    "id": "3db2899b5eae4a4d941fc55ec4afde52",
    "idx": 7,
    "time": "2021-02-17T01:40:28.482Z",
    "type": "execution"
   },
   {
    "code": "from mpl_toolkits.mplot3d import Axes3D\nfig = plt.figure(figsize=(8,8)) #create figure object to hold the plot\nax = Axes3D(fig) #create Axes3D object to display the plot\nax.plot_surface(x_2d, y_2d, z_2d)\nax.set_xlabel(\"$t/U$\")\nax.set_ylabel(\"$n$\")\nax.set_zlabel(\"$F(x,y)$\")",
    "id": "950663c93f4e4522875c90b09192aac5",
    "idx": 8,
    "time": "2021-02-17T01:40:37.112Z",
    "type": "execution"
   },
   {
    "id": "3db2899b5eae4a4d941fc55ec4afde52",
    "time": "2021-02-17T01:40:51.474Z",
    "type": "completion"
   },
   {
    "id": "950663c93f4e4522875c90b09192aac5",
    "time": "2021-02-17T01:40:51.521Z",
    "type": "completion"
   },
   {
    "code": "import numpy as np\nimport math as math\nimport scipy.stats as st\nimport scipy.special  \nimport matplotlib.pyplot as plt\n\ndef fact(x):\n    return scipy.special.factorial(x, exact=True)\n    #return math.factorial(x)\n\ndef sigma(ntest): \n    N=1000\n    ntest=ntest.astype(int)\n    z=2*fact(N)/(fact(ntest)*fact(N-ntest))\n    z=z.astype(np.float128)\n    z=np.log(z)\n    return z   \n\ndef F(tau,x):\n    N=1000\n    return (2.0*ntest(N-ntest)/N - tau*sigma(ntest))",
    "id": "84895652a93f40f1856ee1cbc80ce41e",
    "idx": 5,
    "time": "2021-02-17T01:42:46.115Z",
    "type": "execution"
   },
   {
    "id": "84895652a93f40f1856ee1cbc80ce41e",
    "time": "2021-02-17T01:42:46.200Z",
    "type": "completion"
   },
   {
    "code": "y = np.linspace(.01, 0.49, 500)\nx = np.linspace(.01,1, 500)\nx_2d, y_2d = np.meshgrid(x,y)\nz_2d = F(x_2d, y_2d)\n\nplt.plot(y,F(0.4,y)\n        , 'r-'  # plot with the color red, as line\n        )",
    "id": "3db2899b5eae4a4d941fc55ec4afde52",
    "idx": 7,
    "time": "2021-02-17T01:42:47.407Z",
    "type": "execution"
   },
   {
    "id": "3db2899b5eae4a4d941fc55ec4afde52",
    "time": "2021-02-17T01:42:47.498Z",
    "type": "completion"
   },
   {
    "code": "from mpl_toolkits.mplot3d import Axes3D\nfig = plt.figure(figsize=(8,8)) #create figure object to hold the plot\nax = Axes3D(fig) #create Axes3D object to display the plot\nax.plot_surface(x_2d, y_2d, z_2d)\nax.set_xlabel(\"$t/U$\")\nax.set_ylabel(\"$n$\")\nax.set_zlabel(\"$F(x,y)$\")",
    "id": "950663c93f4e4522875c90b09192aac5",
    "idx": 8,
    "time": "2021-02-17T01:42:48.748Z",
    "type": "execution"
   },
   {
    "id": "950663c93f4e4522875c90b09192aac5",
    "time": "2021-02-17T01:42:49.217Z",
    "type": "completion"
   },
   {
    "code": "import numpy as np\nimport math as math\nimport scipy.stats as st\nimport scipy.special  \nimport matplotlib.pyplot as plt\n\ndef fact(x):\n    return scipy.special.factorial(x, exact=True)\n    #return math.factorial(x)\n\ndef sigma(ntest): \n    N=1000\n    ntest=ntest.astype(int)\n    z=2*fact(N)/(fact(ntest)*fact(N-ntest))\n    z=z.astype(np.float128)\n    z=np.log(z)\n    return z   \n\ndef F(tau,ntest):\n    N=1000\n    return (2.0*ntest(N-ntest)/N - tau*sigma(ntest))",
    "id": "84895652a93f40f1856ee1cbc80ce41e",
    "idx": 5,
    "time": "2021-02-17T01:43:10.304Z",
    "type": "execution"
   },
   {
    "id": "84895652a93f40f1856ee1cbc80ce41e",
    "time": "2021-02-17T01:43:10.374Z",
    "type": "completion"
   },
   {
    "code": "y = np.linspace(.01, 0.49, 500)\nx = np.linspace(.01,1, 500)\nx_2d, y_2d = np.meshgrid(x,y)\nz_2d = F(x_2d, y_2d)\n\nplt.plot(y,F(0.4,y)\n        , 'r-'  # plot with the color red, as line\n        )",
    "id": "3db2899b5eae4a4d941fc55ec4afde52",
    "idx": 7,
    "time": "2021-02-17T01:43:11.372Z",
    "type": "execution"
   },
   {
    "id": "3db2899b5eae4a4d941fc55ec4afde52",
    "time": "2021-02-17T01:43:11.452Z",
    "type": "completion"
   },
   {
    "code": "from mpl_toolkits.mplot3d import Axes3D\nfig = plt.figure(figsize=(8,8)) #create figure object to hold the plot\nax = Axes3D(fig) #create Axes3D object to display the plot\nax.plot_surface(x_2d, y_2d, z_2d)\nax.set_xlabel(\"$t/U$\")\nax.set_ylabel(\"$n$\")\nax.set_zlabel(\"$F(x,y)$\")",
    "id": "950663c93f4e4522875c90b09192aac5",
    "idx": 8,
    "time": "2021-02-17T01:43:12.299Z",
    "type": "execution"
   },
   {
    "id": "950663c93f4e4522875c90b09192aac5",
    "time": "2021-02-17T01:43:12.802Z",
    "type": "completion"
   },
   {
    "code": "import numpy as np\nimport math as math\nimport scipy.stats as st\nimport scipy.special  \nimport matplotlib.pyplot as plt\n\ndef fact(x):\n    return scipy.special.factorial(x, exact=True)\n    #return math.factorial(x)\n\ndef sigma(ntest): \n    N=1000\n    ntest=ntest.astype(int)\n    z=2*fact(N)/(fact(ntest)*fact(N-ntest))\n    z=z.astype(np.float128)\n    z=np.log(z)\n    return z   \n\ndef F(tau,ntest):\n    N=1000\n    return (2.0*ntest*(N-ntest)/N - tau*sigma(ntest))",
    "id": "84895652a93f40f1856ee1cbc80ce41e",
    "idx": 5,
    "time": "2021-02-17T01:43:39.932Z",
    "type": "execution"
   },
   {
    "id": "84895652a93f40f1856ee1cbc80ce41e",
    "time": "2021-02-17T01:43:40.000Z",
    "type": "completion"
   },
   {
    "code": "y = np.linspace(.01, 0.49, 500)\nx = np.linspace(.01,1, 500)\nx_2d, y_2d = np.meshgrid(x,y)\nz_2d = F(x_2d, y_2d)\n\nplt.plot(y,F(0.4,y)\n        , 'r-'  # plot with the color red, as line\n        )",
    "id": "3db2899b5eae4a4d941fc55ec4afde52",
    "idx": 7,
    "time": "2021-02-17T01:43:41.212Z",
    "type": "execution"
   },
   {
    "code": "from mpl_toolkits.mplot3d import Axes3D\nfig = plt.figure(figsize=(8,8)) #create figure object to hold the plot\nax = Axes3D(fig) #create Axes3D object to display the plot\nax.plot_surface(x_2d, y_2d, z_2d)\nax.set_xlabel(\"$t/U$\")\nax.set_ylabel(\"$n$\")\nax.set_zlabel(\"$F(x,y)$\")",
    "id": "950663c93f4e4522875c90b09192aac5",
    "idx": 8,
    "time": "2021-02-17T01:43:41.982Z",
    "type": "execution"
   },
   {
    "id": "3db2899b5eae4a4d941fc55ec4afde52",
    "time": "2021-02-17T01:43:43.128Z",
    "type": "completion"
   },
   {
    "id": "950663c93f4e4522875c90b09192aac5",
    "time": "2021-02-17T01:43:44.166Z",
    "type": "completion"
   },
   {
    "code": "y = np.linspace(.01, 500, 500)\nx = np.linspace(.01,1, 500)\nx_2d, y_2d = np.meshgrid(x,y)\nz_2d = F(x_2d, y_2d)\n\nplt.plot(y,F(0.4,y)\n        , 'r-'  # plot with the color red, as line\n        )",
    "id": "3db2899b5eae4a4d941fc55ec4afde52",
    "idx": 7,
    "time": "2021-02-17T01:44:12.203Z",
    "type": "execution"
   },
   {
    "code": "from mpl_toolkits.mplot3d import Axes3D\nfig = plt.figure(figsize=(8,8)) #create figure object to hold the plot\nax = Axes3D(fig) #create Axes3D object to display the plot\nax.plot_surface(x_2d, y_2d, z_2d)\nax.set_xlabel(\"$t/U$\")\nax.set_ylabel(\"$n$\")\nax.set_zlabel(\"$F(x,y)$\")",
    "id": "950663c93f4e4522875c90b09192aac5",
    "idx": 8,
    "time": "2021-02-17T01:44:13.527Z",
    "type": "execution"
   },
   {
    "code": "Solution here",
    "id": "e6b32073b9c245868c8e543019516070",
    "idx": 10,
    "time": "2021-02-17T01:44:15.679Z",
    "type": "execution"
   },
   {
    "id": "3db2899b5eae4a4d941fc55ec4afde52",
    "time": "2021-02-17T01:44:16.718Z",
    "type": "completion"
   },
   {
    "id": "950663c93f4e4522875c90b09192aac5",
    "time": "2021-02-17T01:44:17.804Z",
    "type": "completion"
   },
   {
    "id": "e6b32073b9c245868c8e543019516070",
    "time": "2021-02-17T01:44:17.810Z",
    "type": "completion"
   },
   {
    "code": "y = np.linspace(.01, 500, 500)\nx = np.linspace(.01,1, 500)\nx_2d, y_2d = np.meshgrid(x,y)\nz_2d = F(x_2d, y_2d)\n\nplt.plot(y,F(0.3,y)\n        , 'r-'  # plot with the color red, as line\n        )",
    "id": "3db2899b5eae4a4d941fc55ec4afde52",
    "idx": 7,
    "time": "2021-02-17T01:45:06.771Z",
    "type": "execution"
   },
   {
    "code": "from mpl_toolkits.mplot3d import Axes3D\nfig = plt.figure(figsize=(8,8)) #create figure object to hold the plot\nax = Axes3D(fig) #create Axes3D object to display the plot\nax.plot_surface(x_2d, y_2d, z_2d)\nax.set_xlabel(\"$t/U$\")\nax.set_ylabel(\"$n$\")\nax.set_zlabel(\"$F(x,y)$\")",
    "id": "950663c93f4e4522875c90b09192aac5",
    "idx": 8,
    "time": "2021-02-17T01:45:08.149Z",
    "type": "execution"
   },
   {
    "code": "Solution here",
    "id": "e6b32073b9c245868c8e543019516070",
    "idx": 10,
    "time": "2021-02-17T01:45:09.452Z",
    "type": "execution"
   },
   {
    "code": "#result = np.where(z_2d == np.amax(z_2d))\nminInRows = np.where(z_2d == np.amin(z_2d, axis=0))",
    "id": "cbd13a2e6edf467c877157d79751d16d",
    "idx": 11,
    "time": "2021-02-17T01:45:09.973Z",
    "type": "execution"
   },
   {
    "code": "def Stirling(tau):\n    N=1000\n    return N*np.exp(-1/tau)/(1+np.exp(-1/tau))",
    "id": "c6eb5ceb74a745c68e9b3ec81d8b91db",
    "idx": 12,
    "time": "2021-02-17T01:45:10.502Z",
    "type": "execution"
   },
   {
    "code": "def Approx(n):\n    N=1000\n    return (N-2*n)/(N*np.log((N-n)/n))",
    "id": "144e7bbba5164db08ef3e4c70b6b2bab",
    "idx": 13,
    "time": "2021-02-17T01:45:10.966Z",
    "type": "execution"
   },
   {
    "code": "import numpy as np\nimport math as math\nimport scipy.stats as st\nimport scipy.special  \nimport matplotlib.pyplot as plt\n\ndef fact(x):\n    return scipy.special.factorial(x, exact=True)\n    #return math.factorial(x)\n\ndef sigma(ntest): \n    N=1000\n    ntest=ntest.astype(int)\n    z=2*fact(N)/(fact(ntest)*fact(N-ntest))\n    z=z.astype(np.float128)\n    z=np.log(z)\n    return z   \n\ndef F(tau,ntest):\n    N=1000\n    return (2.0*ntest*(N-ntest)/N - tau*sigma(ntest))",
    "id": "84895652a93f40f1856ee1cbc80ce41e",
    "idx": 5,
    "time": "2021-02-17T01:45:23.638Z",
    "type": "execution"
   },
   {
    "id": "84895652a93f40f1856ee1cbc80ce41e",
    "time": "2021-02-17T01:45:24.726Z",
    "type": "completion"
   },
   {
    "code": "y = np.linspace(.01, 500, 500)\nx = np.linspace(.01,1, 500)\nx_2d, y_2d = np.meshgrid(x,y)\nz_2d = F(x_2d, y_2d)\n\nplt.plot(y,F(0.3,y)\n        , 'r-'  # plot with the color red, as line\n        )",
    "id": "3db2899b5eae4a4d941fc55ec4afde52",
    "idx": 7,
    "time": "2021-02-17T01:45:25.912Z",
    "type": "execution"
   },
   {
    "code": "from mpl_toolkits.mplot3d import Axes3D\nfig = plt.figure(figsize=(8,8)) #create figure object to hold the plot\nax = Axes3D(fig) #create Axes3D object to display the plot\nax.plot_surface(x_2d, y_2d, z_2d)\nax.set_xlabel(\"$t/U$\")\nax.set_ylabel(\"$n$\")\nax.set_zlabel(\"$F(x,y)$\")",
    "id": "950663c93f4e4522875c90b09192aac5",
    "idx": 8,
    "time": "2021-02-17T01:45:27.163Z",
    "type": "execution"
   },
   {
    "id": "3db2899b5eae4a4d941fc55ec4afde52",
    "time": "2021-02-17T01:45:30.797Z",
    "type": "completion"
   },
   {
    "id": "3db2899b5eae4a4d941fc55ec4afde52",
    "time": "2021-02-17T01:45:30.797Z",
    "type": "completion"
   },
   {
    "id": "950663c93f4e4522875c90b09192aac5",
    "time": "2021-02-17T01:45:31.836Z",
    "type": "completion"
   },
   {
    "id": "950663c93f4e4522875c90b09192aac5",
    "time": "2021-02-17T01:45:31.836Z",
    "type": "completion"
   },
   {
    "code": "def Approx(n):\n    N=1000\n    return (N-2*n)/(N*np.log((N-n)/n))",
    "id": "144e7bbba5164db08ef3e4c70b6b2bab",
    "idx": 13,
    "time": "2021-02-17T01:46:54.466Z",
    "type": "execution"
   },
   {
    "id": "144e7bbba5164db08ef3e4c70b6b2bab",
    "time": "2021-02-17T01:46:54.532Z",
    "type": "completion"
   },
   {
    "id": "144e7bbba5164db08ef3e4c70b6b2bab",
    "time": "2021-02-17T01:46:54.533Z",
    "type": "completion"
   },
   {
    "code": "Approx(400)\n",
    "id": "df8ee3166b224e7f95a35e9860ef4968",
    "idx": 14,
    "time": "2021-02-17T01:46:54.975Z",
    "type": "execution"
   },
   {
    "id": "df8ee3166b224e7f95a35e9860ef4968",
    "time": "2021-02-17T01:46:55.044Z",
    "type": "completion"
   },
   {
    "code": "plt.plot(x_2d[minInRows[0], minInRows[1]], y_2d[minInRows[0], minInRows[1]]\n        , 'r-')  \nplt.plot(Approx(y_2d[minInRows[0], minInRows[1]]), y_2d[minInRows[0], minInRows[1]], 'b-')",
    "id": "438a2dd91fa044e98956b104d4fbc059",
    "idx": 15,
    "time": "2021-02-17T01:46:55.723Z",
    "type": "execution"
   },
   {
    "id": "438a2dd91fa044e98956b104d4fbc059",
    "time": "2021-02-17T01:46:55.902Z",
    "type": "completion"
   },
   {
    "code": "import numpy as np\nimport math as math\nimport scipy.stats as st\nimport scipy.special  \nimport matplotlib.pyplot as plt\n\ndef fact(x):\n    return scipy.special.factorial(x, exact=True)\n    #return math.factorial(x)\n\ndef sigma(ntest): \n    N=1000\n    ntest=ntest.astype(int)\n    z=2*fact(N)/(fact(ntest)*fact(N-ntest))\n    z=z.astype(np.float128)\n    z=np.log(z)\n    return z   \n\ndef F(tau,ntest):\n    N=1000\n    return (2.0*tau*ntest*(N-ntest)/N - tau*sigma(ntest))",
    "id": "84895652a93f40f1856ee1cbc80ce41e",
    "idx": 5,
    "time": "2021-02-17T01:48:22.162Z",
    "type": "execution"
   },
   {
    "id": "84895652a93f40f1856ee1cbc80ce41e",
    "time": "2021-02-17T01:48:22.252Z",
    "type": "completion"
   },
   {
    "code": "y = np.linspace(.01, 500, 500)\nx = np.linspace(.01,1, 500)\nx_2d, y_2d = np.meshgrid(x,y)\nz_2d = F(x_2d, y_2d)\n\nplt.plot(y,F(0.3,y)\n        , 'r-'  # plot with the color red, as line\n        )",
    "id": "3db2899b5eae4a4d941fc55ec4afde52",
    "idx": 7,
    "time": "2021-02-17T01:48:23.715Z",
    "type": "execution"
   },
   {
    "code": "from mpl_toolkits.mplot3d import Axes3D\nfig = plt.figure(figsize=(8,8)) #create figure object to hold the plot\nax = Axes3D(fig) #create Axes3D object to display the plot\nax.plot_surface(x_2d, y_2d, z_2d)\nax.set_xlabel(\"$t/U$\")\nax.set_ylabel(\"$n$\")\nax.set_zlabel(\"$F(x,y)$\")",
    "id": "950663c93f4e4522875c90b09192aac5",
    "idx": 8,
    "time": "2021-02-17T01:48:24.766Z",
    "type": "execution"
   },
   {
    "code": "Solution here",
    "id": "e6b32073b9c245868c8e543019516070",
    "idx": 10,
    "time": "2021-02-17T01:48:26.322Z",
    "type": "execution"
   },
   {
    "code": "#result = np.where(z_2d == np.amax(z_2d))\nminInRows = np.where(z_2d == np.amin(z_2d, axis=0))",
    "id": "cbd13a2e6edf467c877157d79751d16d",
    "idx": 11,
    "time": "2021-02-17T01:48:26.951Z",
    "type": "execution"
   },
   {
    "code": "def Stirling(tau):\n    N=1000\n    return N*np.exp(-1/tau)/(1+np.exp(-1/tau))",
    "id": "c6eb5ceb74a745c68e9b3ec81d8b91db",
    "idx": 12,
    "time": "2021-02-17T01:48:27.579Z",
    "type": "execution"
   },
   {
    "id": "3db2899b5eae4a4d941fc55ec4afde52",
    "time": "2021-02-17T01:48:27.919Z",
    "type": "completion"
   },
   {
    "code": "def Approx(n):\n    N=1000\n    return (N-2*n)/(N*np.log((N-n)/n))",
    "id": "144e7bbba5164db08ef3e4c70b6b2bab",
    "idx": 13,
    "time": "2021-02-17T01:48:28.490Z",
    "type": "execution"
   },
   {
    "id": "950663c93f4e4522875c90b09192aac5",
    "time": "2021-02-17T01:48:28.814Z",
    "type": "completion"
   },
   {
    "id": "e6b32073b9c245868c8e543019516070",
    "time": "2021-02-17T01:48:28.818Z",
    "type": "completion"
   },
   {
    "id": "e6b32073b9c245868c8e543019516070",
    "time": "2021-02-17T01:48:28.818Z",
    "type": "completion"
   },
   {
    "id": "cbd13a2e6edf467c877157d79751d16d",
    "time": "2021-02-17T01:48:28.820Z",
    "type": "completion"
   },
   {
    "id": "cbd13a2e6edf467c877157d79751d16d",
    "time": "2021-02-17T01:48:28.820Z",
    "type": "completion"
   },
   {
    "id": "c6eb5ceb74a745c68e9b3ec81d8b91db",
    "time": "2021-02-17T01:48:28.822Z",
    "type": "completion"
   },
   {
    "id": "c6eb5ceb74a745c68e9b3ec81d8b91db",
    "time": "2021-02-17T01:48:28.823Z",
    "type": "completion"
   },
   {
    "id": "144e7bbba5164db08ef3e4c70b6b2bab",
    "time": "2021-02-17T01:48:28.825Z",
    "type": "completion"
   },
   {
    "code": "import numpy as np\nimport math as math\nimport scipy.stats as st\nimport scipy.special  \nimport matplotlib.pyplot as plt\n\ndef fact(x):\n    return scipy.special.factorial(x, exact=True)\n    #return math.factorial(x)\n\ndef sigma(ntest): \n    N=1000\n    ntest=ntest.astype(int)\n    z=2*fact(N)/(fact(ntest)*fact(N-ntest))\n    z=z.astype(np.float128)\n    z=np.log(z)\n    return z   \n\ndef F(tau,ntest):\n    N=1000\n    return (2.0*ntest*(N-ntest)/N - tau*sigma(ntest))",
    "id": "84895652a93f40f1856ee1cbc80ce41e",
    "idx": 5,
    "time": "2021-02-17T01:51:04.277Z",
    "type": "execution"
   },
   {
    "id": "84895652a93f40f1856ee1cbc80ce41e",
    "time": "2021-02-17T01:51:04.368Z",
    "type": "completion"
   },
   {
    "code": "y = np.linspace(.01, 500, 500)\nx = np.linspace(.01,1, 500)\nx_2d, y_2d = np.meshgrid(x,y)\nz_2d = F(x_2d, y_2d)\n\nplt.plot(y,F(0.3,y)\n        , 'r-'  # plot with the color red, as line\n        )",
    "id": "3db2899b5eae4a4d941fc55ec4afde52",
    "idx": 7,
    "time": "2021-02-17T01:51:05.722Z",
    "type": "execution"
   },
   {
    "code": "from mpl_toolkits.mplot3d import Axes3D\nfig = plt.figure(figsize=(8,8)) #create figure object to hold the plot\nax = Axes3D(fig) #create Axes3D object to display the plot\nax.plot_surface(x_2d, y_2d, z_2d)\nax.set_xlabel(\"$t/U$\")\nax.set_ylabel(\"$n$\")\nax.set_zlabel(\"$F(x,y)$\")",
    "id": "950663c93f4e4522875c90b09192aac5",
    "idx": 8,
    "time": "2021-02-17T01:51:07.659Z",
    "type": "execution"
   },
   {
    "code": "Solution here",
    "id": "e6b32073b9c245868c8e543019516070",
    "idx": 10,
    "time": "2021-02-17T01:51:09.685Z",
    "type": "execution"
   },
   {
    "id": "3db2899b5eae4a4d941fc55ec4afde52",
    "time": "2021-02-17T01:51:09.979Z",
    "type": "completion"
   },
   {
    "id": "950663c93f4e4522875c90b09192aac5",
    "time": "2021-02-17T01:51:10.886Z",
    "type": "completion"
   },
   {
    "id": "e6b32073b9c245868c8e543019516070",
    "time": "2021-02-17T01:51:10.928Z",
    "type": "completion"
   },
   {
    "code": "#result = np.where(z_2d == np.amax(z_2d))\nminInRows = np.where(z_2d == np.amin(z_2d, axis=0))",
    "id": "cbd13a2e6edf467c877157d79751d16d",
    "idx": 11,
    "time": "2021-02-17T01:51:11.183Z",
    "type": "execution"
   },
   {
    "id": "cbd13a2e6edf467c877157d79751d16d",
    "time": "2021-02-17T01:51:11.277Z",
    "type": "completion"
   },
   {
    "code": "y = np.linspace(.01, 500, 500)\nx = np.linspace(.01,1, 500)\nx_2d, y_2d = np.meshgrid(x,y)\nz_2d = F(x_2d, y_2d)\n\nplt.plot(y,F(0.4,y)\n        , 'r-'  # plot with the color red, as line\n        )",
    "id": "3db2899b5eae4a4d941fc55ec4afde52",
    "idx": 7,
    "time": "2021-02-17T01:51:57.335Z",
    "type": "execution"
   },
   {
    "code": "from mpl_toolkits.mplot3d import Axes3D\nfig = plt.figure(figsize=(8,8)) #create figure object to hold the plot\nax = Axes3D(fig) #create Axes3D object to display the plot\nax.plot_surface(x_2d, y_2d, z_2d)\nax.set_xlabel(\"$t/U$\")\nax.set_ylabel(\"$n$\")\nax.set_zlabel(\"$F(x,y)$\")",
    "id": "950663c93f4e4522875c90b09192aac5",
    "idx": 8,
    "time": "2021-02-17T01:51:58.410Z",
    "type": "execution"
   },
   {
    "id": "3db2899b5eae4a4d941fc55ec4afde52",
    "time": "2021-02-17T01:52:01.684Z",
    "type": "completion"
   },
   {
    "id": "950663c93f4e4522875c90b09192aac5",
    "time": "2021-02-17T01:52:02.622Z",
    "type": "completion"
   },
   {
    "code": "import numpy as np\nimport math as math\nimport scipy.stats as st\nimport scipy.special  \nimport matplotlib.pyplot as plt\n\ndef fact(x):\n    return scipy.special.factorial(x, exact=True)\n    #return math.factorial(x)\n\ndef sigma(ntest): \n    N=1000\n    ntest=ntest.astype(int)\n    z=2*fact(N)/(fact(ntest)*fact(N-ntest))\n    z=z.astype(np.float128)\n    z=np.log(z)\n    return z   \n\ndef F(tau,ntest):\n    N=1000\n    return (ntest*(N-ntest)/N - tau*sigma(ntest))",
    "id": "84895652a93f40f1856ee1cbc80ce41e",
    "idx": 5,
    "time": "2021-02-17T01:52:44.967Z",
    "type": "execution"
   },
   {
    "id": "84895652a93f40f1856ee1cbc80ce41e",
    "time": "2021-02-17T01:52:45.058Z",
    "type": "completion"
   },
   {
    "code": "y = np.linspace(.01, 500, 500)\nx = np.linspace(.01,1, 500)\nx_2d, y_2d = np.meshgrid(x,y)\nz_2d = F(x_2d, y_2d)\n\nplt.plot(y,F(0.4,y)\n        , 'r-'  # plot with the color red, as line\n        )",
    "id": "3db2899b5eae4a4d941fc55ec4afde52",
    "idx": 7,
    "time": "2021-02-17T01:52:46.399Z",
    "type": "execution"
   },
   {
    "code": "from mpl_toolkits.mplot3d import Axes3D\nfig = plt.figure(figsize=(8,8)) #create figure object to hold the plot\nax = Axes3D(fig) #create Axes3D object to display the plot\nax.plot_surface(x_2d, y_2d, z_2d)\nax.set_xlabel(\"$t/U$\")\nax.set_ylabel(\"$n$\")\nax.set_zlabel(\"$F(x,y)$\")",
    "id": "950663c93f4e4522875c90b09192aac5",
    "idx": 8,
    "time": "2021-02-17T01:52:47.450Z",
    "type": "execution"
   },
   {
    "id": "3db2899b5eae4a4d941fc55ec4afde52",
    "time": "2021-02-17T01:52:52.070Z",
    "type": "completion"
   },
   {
    "id": "950663c93f4e4522875c90b09192aac5",
    "time": "2021-02-17T01:52:52.321Z",
    "type": "completion"
   },
   {
    "code": "Solution here",
    "id": "e6b32073b9c245868c8e543019516070",
    "idx": 10,
    "time": "2021-02-17T01:53:22.897Z",
    "type": "execution"
   },
   {
    "id": "e6b32073b9c245868c8e543019516070",
    "time": "2021-02-17T01:53:22.967Z",
    "type": "completion"
   },
   {
    "code": "def Stirling(tau):\n    N=1000\n    return N*np.exp(-1/tau)/(1+np.exp(-1/tau))",
    "id": "c6eb5ceb74a745c68e9b3ec81d8b91db",
    "idx": 12,
    "time": "2021-02-17T01:53:50.839Z",
    "type": "execution"
   },
   {
    "id": "c6eb5ceb74a745c68e9b3ec81d8b91db",
    "time": "2021-02-17T01:53:50.908Z",
    "type": "completion"
   },
   {
    "code": "def Approx(n):\n    N=1000\n    return (N-2*n)/(N*np.log((N-n)/n))",
    "id": "144e7bbba5164db08ef3e4c70b6b2bab",
    "idx": 13,
    "time": "2021-02-17T01:53:51.410Z",
    "type": "execution"
   },
   {
    "id": "144e7bbba5164db08ef3e4c70b6b2bab",
    "time": "2021-02-17T01:53:51.481Z",
    "type": "completion"
   },
   {
    "code": "Approx(400)\n",
    "id": "df8ee3166b224e7f95a35e9860ef4968",
    "idx": 14,
    "time": "2021-02-17T01:53:51.965Z",
    "type": "execution"
   },
   {
    "id": "df8ee3166b224e7f95a35e9860ef4968",
    "time": "2021-02-17T01:53:52.038Z",
    "type": "completion"
   },
   {
    "code": "plt.plot(x_2d[minInRows[0], minInRows[1]], y_2d[minInRows[0], minInRows[1]]\n        , 'r-')  \nplt.plot(Approx(y_2d[minInRows[0], minInRows[1]]), y_2d[minInRows[0], minInRows[1]], 'b-')",
    "id": "438a2dd91fa044e98956b104d4fbc059",
    "idx": 15,
    "time": "2021-02-17T01:53:52.999Z",
    "type": "execution"
   },
   {
    "id": "438a2dd91fa044e98956b104d4fbc059",
    "time": "2021-02-17T01:53:53.328Z",
    "type": "completion"
   },
   {
    "code": "y = np.linspace(.01, 500, 500)\nx = np.linspace(.01,1, 500)\nx_2d, y_2d = np.meshgrid(x,y)\nz_2d = F(x_2d, y_2d)\n\nplt.plot(y,F(0.4,y)\n        , 'r-'  # plot with the color red, as line\n        )",
    "id": "3db2899b5eae4a4d941fc55ec4afde52",
    "idx": 7,
    "time": "2021-02-17T01:56:02.107Z",
    "type": "execution"
   },
   {
    "code": "from mpl_toolkits.mplot3d import Axes3D\nfig = plt.figure(figsize=(8,8)) #create figure object to hold the plot\nax = Axes3D(fig) #create Axes3D object to display the plot\nax.plot_surface(x_2d, y_2d, z_2d)\nax.set_xlabel(\"$t/U$\")\nax.set_ylabel(\"$n$\")\nax.set_zlabel(\"$F(x,y)$\")",
    "id": "950663c93f4e4522875c90b09192aac5",
    "idx": 8,
    "time": "2021-02-17T01:56:03.146Z",
    "type": "execution"
   },
   {
    "id": "3db2899b5eae4a4d941fc55ec4afde52",
    "time": "2021-02-17T01:56:06.357Z",
    "type": "completion"
   },
   {
    "id": "950663c93f4e4522875c90b09192aac5",
    "time": "2021-02-17T01:56:07.303Z",
    "type": "completion"
   },
   {
    "code": "#result = np.where(z_2d == np.amax(z_2d))\nminInRows = np.where(z_2d == np.amin(z_2d, axis=0))",
    "id": "cbd13a2e6edf467c877157d79751d16d",
    "idx": 11,
    "time": "2021-02-17T01:56:08.251Z",
    "type": "execution"
   },
   {
    "id": "cbd13a2e6edf467c877157d79751d16d",
    "time": "2021-02-17T01:56:08.346Z",
    "type": "completion"
   },
   {
    "code": "def tau(n):\n    N=1000\n    return (N-2*n)/(N*np.log((N-n)/n))",
    "id": "144e7bbba5164db08ef3e4c70b6b2bab",
    "idx": 12,
    "time": "2021-02-17T01:56:09.906Z",
    "type": "execution"
   },
   {
    "id": "144e7bbba5164db08ef3e4c70b6b2bab",
    "time": "2021-02-17T01:56:09.978Z",
    "type": "completion"
   },
   {
    "code": "tau(400)\n",
    "id": "df8ee3166b224e7f95a35e9860ef4968",
    "idx": 13,
    "time": "2021-02-17T01:56:10.717Z",
    "type": "execution"
   },
   {
    "id": "df8ee3166b224e7f95a35e9860ef4968",
    "time": "2021-02-17T01:56:10.791Z",
    "type": "completion"
   },
   {
    "code": "plt.plot(x_2d[minInRows[0], minInRows[1]], y_2d[minInRows[0], minInRows[1]]\n        , 'r-')  \nplt.plot(tau(y_2d[minInRows[0], minInRows[1]]), y_2d[minInRows[0], minInRows[1]], 'b-')",
    "id": "438a2dd91fa044e98956b104d4fbc059",
    "idx": 14,
    "time": "2021-02-17T01:56:11.819Z",
    "type": "execution"
   },
   {
    "id": "438a2dd91fa044e98956b104d4fbc059",
    "time": "2021-02-17T01:56:12.080Z",
    "type": "completion"
   },
   {
    "code": "#$$ F= U-\\tau\\sigma = 2Nx\\epsilon\\left(1-x\\right)-2\\tau\\ln\\left(\\frac{N!}{(Nx)!(N-Nx)!}\\right).$$",
    "id": "1560ca736f40465a973a77e953b7f7f8",
    "idx": 3,
    "time": "2021-02-17T02:03:05.299Z",
    "type": "execution"
   },
   {
    "id": "1560ca736f40465a973a77e953b7f7f8",
    "time": "2021-02-17T02:03:06.184Z",
    "type": "completion"
   },
   {
    "code": "y = np.linspace(.01, 500, 500)\nx = np.linspace(.01,.2, 500)\nx_2d, y_2d = np.meshgrid(x,y)\nz_2d = F(x_2d, y_2d)\n\nplt.plot(y,F(0.4,y)\n        , 'r-'  # plot with the color red, as line\n        )",
    "id": "3db2899b5eae4a4d941fc55ec4afde52",
    "idx": 8,
    "time": "2021-02-17T02:05:57.898Z",
    "type": "execution"
   },
   {
    "code": "from mpl_toolkits.mplot3d import Axes3D\nfig = plt.figure(figsize=(8,8)) #create figure object to hold the plot\nax = Axes3D(fig) #create Axes3D object to display the plot\nax.plot_surface(x_2d, y_2d, z_2d)\nax.set_xlabel(\"$t/U$\")\nax.set_ylabel(\"$n$\")\nax.set_zlabel(\"$F(x,y)$\")",
    "id": "950663c93f4e4522875c90b09192aac5",
    "idx": 9,
    "time": "2021-02-17T02:05:58.609Z",
    "type": "execution"
   },
   {
    "code": "Solution here:",
    "id": "cef220714d59492086459e2996735ef8",
    "idx": 11,
    "time": "2021-02-17T02:06:00.106Z",
    "type": "execution"
   },
   {
    "code": "#result = np.where(z_2d == np.amax(z_2d))\nminInRows = np.where(z_2d == np.amin(z_2d, axis=0))",
    "id": "cbd13a2e6edf467c877157d79751d16d",
    "idx": 13,
    "time": "2021-02-17T02:06:01.091Z",
    "type": "execution"
   },
   {
    "code": "def tau(n):\n    N=1000\n    return (N-2*n)/(N*np.log((N-n)/n))",
    "id": "144e7bbba5164db08ef3e4c70b6b2bab",
    "idx": 14,
    "time": "2021-02-17T02:06:01.646Z",
    "type": "execution"
   },
   {
    "code": "tau(400)\n",
    "id": "df8ee3166b224e7f95a35e9860ef4968",
    "idx": 15,
    "time": "2021-02-17T02:06:02.291Z",
    "type": "execution"
   },
   {
    "id": "3db2899b5eae4a4d941fc55ec4afde52",
    "time": "2021-02-17T02:06:02.317Z",
    "type": "completion"
   },
   {
    "code": "plt.plot(x_2d[minInRows[0], minInRows[1]], y_2d[minInRows[0], minInRows[1]]\n        , 'r-')  \nplt.plot(tau(y_2d[minInRows[0], minInRows[1]]), y_2d[minInRows[0], minInRows[1]], 'b-')",
    "id": "438a2dd91fa044e98956b104d4fbc059",
    "idx": 16,
    "time": "2021-02-17T02:06:02.838Z",
    "type": "execution"
   },
   {
    "id": "950663c93f4e4522875c90b09192aac5",
    "time": "2021-02-17T02:06:03.487Z",
    "type": "completion"
   },
   {
    "id": "cef220714d59492086459e2996735ef8",
    "time": "2021-02-17T02:06:03.500Z",
    "type": "completion"
   },
   {
    "id": "cbd13a2e6edf467c877157d79751d16d",
    "time": "2021-02-17T02:06:03.500Z",
    "type": "completion"
   },
   {
    "id": "144e7bbba5164db08ef3e4c70b6b2bab",
    "time": "2021-02-17T02:06:03.501Z",
    "type": "completion"
   },
   {
    "id": "df8ee3166b224e7f95a35e9860ef4968",
    "time": "2021-02-17T02:06:03.502Z",
    "type": "completion"
   },
   {
    "id": "438a2dd91fa044e98956b104d4fbc059",
    "time": "2021-02-17T02:06:03.508Z",
    "type": "completion"
   },
   {
    "code": "plt.plot(x_2d[minInRows[0], minInRows[1]], y_2d[minInRows[0], minInRows[1]]\n        , 'r-')  \nplt.plot(tau(y_2d[minInRows[0], minInRows[1]]), y_2d[minInRows[0], minInRows[1]], 'b-')",
    "id": "438a2dd91fa044e98956b104d4fbc059",
    "idx": 16,
    "time": "2021-02-17T02:06:15.755Z",
    "type": "execution"
   },
   {
    "id": "438a2dd91fa044e98956b104d4fbc059",
    "time": "2021-02-17T02:06:16.042Z",
    "type": "completion"
   },
   {
    "code": "import numpy as np\nimport math as math\nimport scipy.stats as st\nimport scipy.special  \nimport matplotlib.pyplot as plt\n\ndef fact(x):\n    return scipy.special.factorial(x, exact=True)\n    #return math.factorial(x)\n\ndef sigma(ntest): \n    N=1000\n    ntest=ntest.astype(int)\n    z=2*fact(N)/(fact(ntest)*fact(N-ntest))\n    z=z.astype(np.float128)\n    z=np.log(z)\n    return z   \n\ndef F(tau,ntest):\n    N=1000\n    return (ntest*(N-ntest)/N - tau*sigma(ntest))",
    "id": "84895652a93f40f1856ee1cbc80ce41e",
    "idx": 6,
    "time": "2021-02-17T02:06:24.116Z",
    "type": "execution"
   },
   {
    "id": "84895652a93f40f1856ee1cbc80ce41e",
    "time": "2021-02-17T02:06:24.187Z",
    "type": "completion"
   },
   {
    "code": "y = np.linspace(.01, 500, 500)\nx = np.linspace(.01,.2, 500)\nx_2d, y_2d = np.meshgrid(x,y)\nz_2d = F(x_2d, y_2d)\n\nplt.plot(y,F(0.4,y)\n        , 'r-'  # plot with the color red, as line\n        )",
    "id": "3db2899b5eae4a4d941fc55ec4afde52",
    "idx": 8,
    "time": "2021-02-17T02:06:25.702Z",
    "type": "execution"
   },
   {
    "code": "from mpl_toolkits.mplot3d import Axes3D\nfig = plt.figure(figsize=(8,8)) #create figure object to hold the plot\nax = Axes3D(fig) #create Axes3D object to display the plot\nax.plot_surface(x_2d, y_2d, z_2d)\nax.set_xlabel(\"$t/U$\")\nax.set_ylabel(\"$n$\")\nax.set_zlabel(\"$F(x,y)$\")",
    "id": "950663c93f4e4522875c90b09192aac5",
    "idx": 9,
    "time": "2021-02-17T02:06:26.877Z",
    "type": "execution"
   },
   {
    "code": "Solution here:",
    "id": "cef220714d59492086459e2996735ef8",
    "idx": 11,
    "time": "2021-02-17T02:06:29.600Z",
    "type": "execution"
   },
   {
    "id": "3db2899b5eae4a4d941fc55ec4afde52",
    "time": "2021-02-17T02:06:29.938Z",
    "type": "completion"
   },
   {
    "id": "950663c93f4e4522875c90b09192aac5",
    "time": "2021-02-17T02:06:30.901Z",
    "type": "completion"
   },
   {
    "id": "cef220714d59492086459e2996735ef8",
    "time": "2021-02-17T02:06:30.906Z",
    "type": "completion"
   },
   {
    "code": "#result = np.where(z_2d == np.amax(z_2d))\nminInRows = np.where(z_2d == np.amin(z_2d, axis=0))",
    "id": "cbd13a2e6edf467c877157d79751d16d",
    "idx": 13,
    "time": "2021-02-17T02:06:32.728Z",
    "type": "execution"
   },
   {
    "id": "cbd13a2e6edf467c877157d79751d16d",
    "time": "2021-02-17T02:06:32.799Z",
    "type": "completion"
   },
   {
    "code": "def tau(n):\n    N=1000\n    return (N-2*n)/(N*np.log((N-n)/n))",
    "id": "144e7bbba5164db08ef3e4c70b6b2bab",
    "idx": 14,
    "time": "2021-02-17T02:06:33.291Z",
    "type": "execution"
   },
   {
    "id": "144e7bbba5164db08ef3e4c70b6b2bab",
    "time": "2021-02-17T02:06:33.359Z",
    "type": "completion"
   },
   {
    "code": "tau(400)\n",
    "id": "df8ee3166b224e7f95a35e9860ef4968",
    "idx": 15,
    "time": "2021-02-17T02:06:33.920Z",
    "type": "execution"
   },
   {
    "id": "df8ee3166b224e7f95a35e9860ef4968",
    "time": "2021-02-17T02:06:33.999Z",
    "type": "completion"
   },
   {
    "code": "plt.plot(x_2d[minInRows[0], minInRows[1]], y_2d[minInRows[0], minInRows[1]]\n        , 'r-')  \nplt.plot(tau(y_2d[minInRows[0], minInRows[1]]), y_2d[minInRows[0], minInRows[1]], 'b-')",
    "id": "438a2dd91fa044e98956b104d4fbc059",
    "idx": 16,
    "time": "2021-02-17T02:06:34.706Z",
    "type": "execution"
   },
   {
    "id": "438a2dd91fa044e98956b104d4fbc059",
    "time": "2021-02-17T02:06:34.988Z",
    "type": "completion"
   },
   {
    "code": "y = np.linspace(.01, 500, 500)\nx = np.linspace(.01,.2, 50)\nx_2d, y_2d = np.meshgrid(x,y)\nz_2d = F(x_2d, y_2d)\n\nplt.plot(y,F(0.4,y)\n        , 'r-'  # plot with the color red, as line\n        )",
    "id": "3db2899b5eae4a4d941fc55ec4afde52",
    "idx": 8,
    "time": "2021-02-17T02:07:04.461Z",
    "type": "execution"
   },
   {
    "id": "3db2899b5eae4a4d941fc55ec4afde52",
    "time": "2021-02-17T02:07:05.148Z",
    "type": "completion"
   },
   {
    "code": "from mpl_toolkits.mplot3d import Axes3D\nfig = plt.figure(figsize=(8,8)) #create figure object to hold the plot\nax = Axes3D(fig) #create Axes3D object to display the plot\nax.plot_surface(x_2d, y_2d, z_2d)\nax.set_xlabel(\"$t/U$\")\nax.set_ylabel(\"$n$\")\nax.set_zlabel(\"$F(x,y)$\")",
    "id": "950663c93f4e4522875c90b09192aac5",
    "idx": 9,
    "time": "2021-02-17T02:07:05.697Z",
    "type": "execution"
   },
   {
    "id": "950663c93f4e4522875c90b09192aac5",
    "time": "2021-02-17T02:07:06.667Z",
    "type": "completion"
   },
   {
    "code": "Solution here:",
    "id": "cef220714d59492086459e2996735ef8",
    "idx": 11,
    "time": "2021-02-17T02:07:07.269Z",
    "type": "execution"
   },
   {
    "id": "cef220714d59492086459e2996735ef8",
    "time": "2021-02-17T02:07:07.339Z",
    "type": "completion"
   },
   {
    "code": "#result = np.where(z_2d == np.amax(z_2d))\nminInRows = np.where(z_2d == np.amin(z_2d, axis=0))",
    "id": "cbd13a2e6edf467c877157d79751d16d",
    "idx": 13,
    "time": "2021-02-17T02:07:16.703Z",
    "type": "execution"
   },
   {
    "id": "cbd13a2e6edf467c877157d79751d16d",
    "time": "2021-02-17T02:07:16.775Z",
    "type": "completion"
   },
   {
    "code": "def tau(n):\n    N=1000\n    return (N-2*n)/(N*np.log((N-n)/n))",
    "id": "144e7bbba5164db08ef3e4c70b6b2bab",
    "idx": 14,
    "time": "2021-02-17T02:07:17.922Z",
    "type": "execution"
   },
   {
    "id": "144e7bbba5164db08ef3e4c70b6b2bab",
    "time": "2021-02-17T02:07:17.995Z",
    "type": "completion"
   },
   {
    "code": "tau(400)\n",
    "id": "df8ee3166b224e7f95a35e9860ef4968",
    "idx": 15,
    "time": "2021-02-17T02:07:18.937Z",
    "type": "execution"
   },
   {
    "id": "df8ee3166b224e7f95a35e9860ef4968",
    "time": "2021-02-17T02:07:19.031Z",
    "type": "completion"
   },
   {
    "code": "plt.plot(x_2d[minInRows[0], minInRows[1]], y_2d[minInRows[0], minInRows[1]]\n        , 'r-')  \nplt.plot(tau(y_2d[minInRows[0], minInRows[1]]), y_2d[minInRows[0], minInRows[1]], 'b-')",
    "id": "438a2dd91fa044e98956b104d4fbc059",
    "idx": 16,
    "time": "2021-02-17T02:07:20.104Z",
    "type": "execution"
   },
   {
    "id": "438a2dd91fa044e98956b104d4fbc059",
    "time": "2021-02-17T02:07:20.372Z",
    "type": "completion"
   },
   {
    "code": "y = np.linspace(.01, 50, 500)\nx = np.linspace(.01,.2, 500)\nx_2d, y_2d = np.meshgrid(x,y)\nz_2d = F(x_2d, y_2d)\n\nplt.plot(y,F(0.4,y)\n        , 'r-'  # plot with the color red, as line\n        )",
    "id": "3db2899b5eae4a4d941fc55ec4afde52",
    "idx": 8,
    "time": "2021-02-17T02:07:55.522Z",
    "type": "execution"
   },
   {
    "code": "from mpl_toolkits.mplot3d import Axes3D\nfig = plt.figure(figsize=(8,8)) #create figure object to hold the plot\nax = Axes3D(fig) #create Axes3D object to display the plot\nax.plot_surface(x_2d, y_2d, z_2d)\nax.set_xlabel(\"$t/U$\")\nax.set_ylabel(\"$n$\")\nax.set_zlabel(\"$F(x,y)$\")",
    "id": "950663c93f4e4522875c90b09192aac5",
    "idx": 9,
    "time": "2021-02-17T02:07:56.168Z",
    "type": "execution"
   },
   {
    "id": "3db2899b5eae4a4d941fc55ec4afde52",
    "time": "2021-02-17T02:07:57.420Z",
    "type": "completion"
   },
   {
    "code": "Solution here:",
    "id": "cef220714d59492086459e2996735ef8",
    "idx": 11,
    "time": "2021-02-17T02:07:57.459Z",
    "type": "execution"
   },
   {
    "id": "950663c93f4e4522875c90b09192aac5",
    "time": "2021-02-17T02:07:58.316Z",
    "type": "completion"
   },
   {
    "id": "cef220714d59492086459e2996735ef8",
    "time": "2021-02-17T02:07:58.328Z",
    "type": "completion"
   },
   {
    "code": "#result = np.where(z_2d == np.amax(z_2d))\nminInRows = np.where(z_2d == np.amin(z_2d, axis=0))",
    "id": "cbd13a2e6edf467c877157d79751d16d",
    "idx": 13,
    "time": "2021-02-17T02:07:59.486Z",
    "type": "execution"
   },
   {
    "id": "cbd13a2e6edf467c877157d79751d16d",
    "time": "2021-02-17T02:07:59.561Z",
    "type": "completion"
   },
   {
    "code": "def tau(n):\n    N=1000\n    return (N-2*n)/(N*np.log((N-n)/n))",
    "id": "144e7bbba5164db08ef3e4c70b6b2bab",
    "idx": 14,
    "time": "2021-02-17T02:08:00.009Z",
    "type": "execution"
   },
   {
    "id": "144e7bbba5164db08ef3e4c70b6b2bab",
    "time": "2021-02-17T02:08:00.082Z",
    "type": "completion"
   },
   {
    "code": "tau(400)\n",
    "id": "df8ee3166b224e7f95a35e9860ef4968",
    "idx": 15,
    "time": "2021-02-17T02:08:00.480Z",
    "type": "execution"
   },
   {
    "id": "df8ee3166b224e7f95a35e9860ef4968",
    "time": "2021-02-17T02:08:00.565Z",
    "type": "completion"
   },
   {
    "code": "plt.plot(x_2d[minInRows[0], minInRows[1]], y_2d[minInRows[0], minInRows[1]]\n        , 'r-')  \nplt.plot(tau(y_2d[minInRows[0], minInRows[1]]), y_2d[minInRows[0], minInRows[1]], 'b-')",
    "id": "438a2dd91fa044e98956b104d4fbc059",
    "idx": 16,
    "time": "2021-02-17T02:08:01.199Z",
    "type": "execution"
   },
   {
    "id": "438a2dd91fa044e98956b104d4fbc059",
    "time": "2021-02-17T02:08:01.472Z",
    "type": "completion"
   },
   {
    "code": "import numpy as np\nimport math as math\nimport scipy.stats as st\nimport scipy.special  \nimport matplotlib.pyplot as plt\n\ndef fact(x):\n    return scipy.special.factorial(x, exact=True)\n    #return math.factorial(x)\n\ndef sigma(ntest): \n    N=1000\n    ntest=ntest.astype(int)\n    z=2*fact(N)/(fact(ntest)*fact(N-ntest))\n    z=z.astype(np.float128)\n    z=np.log(z)\n    return z   \n\ndef F(tau,ntest):\n    N=1000\n    return (ntest*(N-ntest)/N - tau*sigma(ntest))",
    "id": "84895652a93f40f1856ee1cbc80ce41e",
    "idx": 6,
    "time": "2021-02-17T02:08:29.480Z",
    "type": "execution"
   },
   {
    "id": "84895652a93f40f1856ee1cbc80ce41e",
    "time": "2021-02-17T02:08:29.574Z",
    "type": "completion"
   },
   {
    "code": "y = np.linspace(.01, 50, 500)\nx = np.linspace(.01,.2, 500)\nx_2d, y_2d = np.meshgrid(x,y)\nz_2d = F(x_2d, y_2d)\n\nplt.plot(y,F(0.4,y)\n        , 'r-'  # plot with the color red, as line\n        )",
    "id": "3db2899b5eae4a4d941fc55ec4afde52",
    "idx": 8,
    "time": "2021-02-17T02:08:30.526Z",
    "type": "execution"
   },
   {
    "code": "from mpl_toolkits.mplot3d import Axes3D\nfig = plt.figure(figsize=(8,8)) #create figure object to hold the plot\nax = Axes3D(fig) #create Axes3D object to display the plot\nax.plot_surface(x_2d, y_2d, z_2d)\nax.set_xlabel(\"$t/U$\")\nax.set_ylabel(\"$n$\")\nax.set_zlabel(\"$F(x,y)$\")",
    "id": "950663c93f4e4522875c90b09192aac5",
    "idx": 9,
    "time": "2021-02-17T02:08:31.073Z",
    "type": "execution"
   },
   {
    "code": "Solution here:",
    "id": "cef220714d59492086459e2996735ef8",
    "idx": 11,
    "time": "2021-02-17T02:08:32.307Z",
    "type": "execution"
   },
   {
    "id": "3db2899b5eae4a4d941fc55ec4afde52",
    "time": "2021-02-17T02:08:32.642Z",
    "type": "completion"
   },
   {
    "id": "950663c93f4e4522875c90b09192aac5",
    "time": "2021-02-17T02:08:33.544Z",
    "type": "completion"
   },
   {
    "id": "cef220714d59492086459e2996735ef8",
    "time": "2021-02-17T02:08:33.548Z",
    "type": "completion"
   },
   {
    "code": "#result = np.where(z_2d == np.amax(z_2d))\nminInRows = np.where(z_2d == np.amin(z_2d, axis=0))",
    "id": "cbd13a2e6edf467c877157d79751d16d",
    "idx": 13,
    "time": "2021-02-17T02:08:33.687Z",
    "type": "execution"
   },
   {
    "id": "cbd13a2e6edf467c877157d79751d16d",
    "time": "2021-02-17T02:08:33.766Z",
    "type": "completion"
   },
   {
    "code": "def tau(n):\n    N=1000\n    return (N-2*n)/(N*np.log((N-n)/n))",
    "id": "144e7bbba5164db08ef3e4c70b6b2bab",
    "idx": 14,
    "time": "2021-02-17T02:08:34.458Z",
    "type": "execution"
   },
   {
    "id": "144e7bbba5164db08ef3e4c70b6b2bab",
    "time": "2021-02-17T02:08:34.533Z",
    "type": "completion"
   },
   {
    "code": "tau(400)\n",
    "id": "df8ee3166b224e7f95a35e9860ef4968",
    "idx": 15,
    "time": "2021-02-17T02:08:35.143Z",
    "type": "execution"
   },
   {
    "id": "df8ee3166b224e7f95a35e9860ef4968",
    "time": "2021-02-17T02:08:35.221Z",
    "type": "completion"
   },
   {
    "code": "plt.plot(x_2d[minInRows[0], minInRows[1]], y_2d[minInRows[0], minInRows[1]]\n        , 'r-')  \nplt.plot(tau(y_2d[minInRows[0], minInRows[1]]), y_2d[minInRows[0], minInRows[1]], 'b-')",
    "id": "438a2dd91fa044e98956b104d4fbc059",
    "idx": 16,
    "time": "2021-02-17T02:08:35.872Z",
    "type": "execution"
   },
   {
    "id": "438a2dd91fa044e98956b104d4fbc059",
    "time": "2021-02-17T02:08:36.214Z",
    "type": "completion"
   },
   {
    "code": "#result = np.where(z_2d == np.amax(z_2d))\nminInRows = np.where(z_2d == np.amin(z_2d, axis=0))",
    "id": "cbd13a2e6edf467c877157d79751d16d",
    "idx": 13,
    "time": "2021-02-17T02:11:19.166Z",
    "type": "execution"
   },
   {
    "id": "cbd13a2e6edf467c877157d79751d16d",
    "time": "2021-02-17T02:11:19.261Z",
    "type": "completion"
   },
   {
    "code": "def tau(n):\n    N=1000\n    return (N-2*n)/(N*np.log((N-n)/n))",
    "id": "144e7bbba5164db08ef3e4c70b6b2bab",
    "idx": 14,
    "time": "2021-02-17T02:11:19.827Z",
    "type": "execution"
   },
   {
    "id": "144e7bbba5164db08ef3e4c70b6b2bab",
    "time": "2021-02-17T02:11:19.899Z",
    "type": "completion"
   },
   {
    "code": "tau(400)\n",
    "id": "df8ee3166b224e7f95a35e9860ef4968",
    "idx": 15,
    "time": "2021-02-17T02:11:20.365Z",
    "type": "execution"
   },
   {
    "id": "df8ee3166b224e7f95a35e9860ef4968",
    "time": "2021-02-17T02:11:20.442Z",
    "type": "completion"
   },
   {
    "code": "plt.plot(x_2d[minInRows[0], minInRows[1]], y_2d[minInRows[0], minInRows[1]]\n        , 'r-')  \nplt.plot(tau(y_2d[minInRows[0], minInRows[1]]), y_2d[minInRows[0], minInRows[1]], 'b-')",
    "id": "438a2dd91fa044e98956b104d4fbc059",
    "idx": 16,
    "time": "2021-02-17T02:11:21.176Z",
    "type": "execution"
   },
   {
    "id": "438a2dd91fa044e98956b104d4fbc059",
    "time": "2021-02-17T02:11:21.444Z",
    "type": "completion"
   },
   {
    "code": "plt.plot(x_2d[minInRows[0], minInRows[1]], y_2d[minInRows[0], minInRows[1]]\n        , 'r-')  \n#plt.plot(tau(y_2d[minInRows[0], minInRows[1]]), y_2d[minInRows[0], minInRows[1]], 'b-')\n#plt.plot(tau(y), y, 'b-')",
    "id": "438a2dd91fa044e98956b104d4fbc059",
    "idx": 16,
    "time": "2021-02-17T02:13:52.668Z",
    "type": "execution"
   },
   {
    "id": "438a2dd91fa044e98956b104d4fbc059",
    "time": "2021-02-17T02:13:53.385Z",
    "type": "completion"
   },
   {
    "code": "plt.plot(x_2d[minInRows[0], minInRows[1]], y_2d[minInRows[0], minInRows[1]]\n        , 'r-')  \n#plt.plot(tau(y_2d[minInRows[0], minInRows[1]]), y_2d[minInRows[0], minInRows[1]], 'b-')\nplt.plot(tau(y), y, 'b-')",
    "id": "438a2dd91fa044e98956b104d4fbc059",
    "idx": 16,
    "time": "2021-02-17T02:14:04.122Z",
    "type": "execution"
   },
   {
    "id": "438a2dd91fa044e98956b104d4fbc059",
    "time": "2021-02-17T02:14:04.413Z",
    "type": "completion"
   },
   {
    "code": "y = np.linspace(.01, 20, 500)\nx = np.linspace(.01,.2, 500)\nx_2d, y_2d = np.meshgrid(x,y)\nz_2d = F(x_2d, y_2d)\n\nplt.plot(y,F(0.4,y)\n        , 'r-'  # plot with the color red, as line\n        )",
    "id": "3db2899b5eae4a4d941fc55ec4afde52",
    "idx": 8,
    "time": "2021-02-17T02:14:52.389Z",
    "type": "execution"
   },
   {
    "code": "from mpl_toolkits.mplot3d import Axes3D\nfig = plt.figure(figsize=(8,8)) #create figure object to hold the plot\nax = Axes3D(fig) #create Axes3D object to display the plot\nax.plot_surface(x_2d, y_2d, z_2d)\nax.set_xlabel(\"$t/U$\")\nax.set_ylabel(\"$n$\")\nax.set_zlabel(\"$F(x,y)$\")",
    "id": "950663c93f4e4522875c90b09192aac5",
    "idx": 9,
    "time": "2021-02-17T02:14:53.097Z",
    "type": "execution"
   },
   {
    "id": "3db2899b5eae4a4d941fc55ec4afde52",
    "time": "2021-02-17T02:14:54.464Z",
    "type": "completion"
   },
   {
    "code": "Solution here:",
    "id": "cef220714d59492086459e2996735ef8",
    "idx": 11,
    "time": "2021-02-17T02:14:54.476Z",
    "type": "execution"
   },
   {
    "id": "950663c93f4e4522875c90b09192aac5",
    "time": "2021-02-17T02:14:55.400Z",
    "type": "completion"
   },
   {
    "id": "cef220714d59492086459e2996735ef8",
    "time": "2021-02-17T02:14:55.410Z",
    "type": "completion"
   },
   {
    "code": "#result = np.where(z_2d == np.amax(z_2d))\nminInRows = np.where(z_2d == np.amin(z_2d, axis=0))",
    "id": "cbd13a2e6edf467c877157d79751d16d",
    "idx": 13,
    "time": "2021-02-17T02:14:55.766Z",
    "type": "execution"
   },
   {
    "id": "cbd13a2e6edf467c877157d79751d16d",
    "time": "2021-02-17T02:14:55.841Z",
    "type": "completion"
   },
   {
    "code": "def tau(n):\n    N=1000\n    return (N-2*n)/(N*np.log((N-n)/n))",
    "id": "144e7bbba5164db08ef3e4c70b6b2bab",
    "idx": 14,
    "time": "2021-02-17T02:14:56.452Z",
    "type": "execution"
   },
   {
    "id": "144e7bbba5164db08ef3e4c70b6b2bab",
    "time": "2021-02-17T02:14:56.539Z",
    "type": "completion"
   },
   {
    "code": "tau(400)\n",
    "id": "df8ee3166b224e7f95a35e9860ef4968",
    "idx": 15,
    "time": "2021-02-17T02:14:57.057Z",
    "type": "execution"
   },
   {
    "id": "df8ee3166b224e7f95a35e9860ef4968",
    "time": "2021-02-17T02:14:57.128Z",
    "type": "completion"
   },
   {
    "code": "plt.plot(x_2d[minInRows[0], minInRows[1]], y_2d[minInRows[0], minInRows[1]]\n        , 'r-')  \n#plt.plot(tau(y_2d[minInRows[0], minInRows[1]]), y_2d[minInRows[0], minInRows[1]], 'b-')\nplt.plot(tau(y), y, 'b-')",
    "id": "438a2dd91fa044e98956b104d4fbc059",
    "idx": 16,
    "time": "2021-02-17T02:14:57.843Z",
    "type": "execution"
   },
   {
    "id": "438a2dd91fa044e98956b104d4fbc059",
    "time": "2021-02-17T02:14:58.181Z",
    "type": "completion"
   },
   {
    "code": "y = np.linspace(.01, 20, 500)\nx = np.linspace(.01,.25, 500)\nx_2d, y_2d = np.meshgrid(x,y)\nz_2d = F(x_2d, y_2d)\n\nplt.plot(y,F(0.4,y)\n        , 'r-'  # plot with the color red, as line\n        )",
    "id": "3db2899b5eae4a4d941fc55ec4afde52",
    "idx": 8,
    "time": "2021-02-17T02:15:22.764Z",
    "type": "execution"
   },
   {
    "code": "from mpl_toolkits.mplot3d import Axes3D\nfig = plt.figure(figsize=(8,8)) #create figure object to hold the plot\nax = Axes3D(fig) #create Axes3D object to display the plot\nax.plot_surface(x_2d, y_2d, z_2d)\nax.set_xlabel(\"$t/U$\")\nax.set_ylabel(\"$n$\")\nax.set_zlabel(\"$F(x,y)$\")",
    "id": "950663c93f4e4522875c90b09192aac5",
    "idx": 9,
    "time": "2021-02-17T02:15:23.460Z",
    "type": "execution"
   },
   {
    "code": "Solution here:",
    "id": "cef220714d59492086459e2996735ef8",
    "idx": 11,
    "time": "2021-02-17T02:15:24.646Z",
    "type": "execution"
   },
   {
    "id": "3db2899b5eae4a4d941fc55ec4afde52",
    "time": "2021-02-17T02:15:25.628Z",
    "type": "completion"
   },
   {
    "code": "#result = np.where(z_2d == np.amax(z_2d))\nminInRows = np.where(z_2d == np.amin(z_2d, axis=0))",
    "id": "cbd13a2e6edf467c877157d79751d16d",
    "idx": 13,
    "time": "2021-02-17T02:15:25.730Z",
    "type": "execution"
   },
   {
    "code": "def tau(n):\n    N=1000\n    return (N-2*n)/(N*np.log((N-n)/n))",
    "id": "144e7bbba5164db08ef3e4c70b6b2bab",
    "idx": 14,
    "time": "2021-02-17T02:15:26.392Z",
    "type": "execution"
   },
   {
    "id": "950663c93f4e4522875c90b09192aac5",
    "time": "2021-02-17T02:15:26.742Z",
    "type": "completion"
   },
   {
    "id": "cef220714d59492086459e2996735ef8",
    "time": "2021-02-17T02:15:26.746Z",
    "type": "completion"
   },
   {
    "id": "cbd13a2e6edf467c877157d79751d16d",
    "time": "2021-02-17T02:15:26.748Z",
    "type": "completion"
   },
   {
    "id": "144e7bbba5164db08ef3e4c70b6b2bab",
    "time": "2021-02-17T02:15:26.749Z",
    "type": "completion"
   },
   {
    "code": "tau(400)\n",
    "id": "df8ee3166b224e7f95a35e9860ef4968",
    "idx": 15,
    "time": "2021-02-17T02:15:26.914Z",
    "type": "execution"
   },
   {
    "id": "df8ee3166b224e7f95a35e9860ef4968",
    "time": "2021-02-17T02:15:26.986Z",
    "type": "completion"
   },
   {
    "code": "plt.plot(x_2d[minInRows[0], minInRows[1]], y_2d[minInRows[0], minInRows[1]]\n        , 'r-')  \n#plt.plot(tau(y_2d[minInRows[0], minInRows[1]]), y_2d[minInRows[0], minInRows[1]], 'b-')\nplt.plot(tau(y), y, 'b-')",
    "id": "438a2dd91fa044e98956b104d4fbc059",
    "idx": 16,
    "time": "2021-02-17T02:15:27.601Z",
    "type": "execution"
   },
   {
    "id": "438a2dd91fa044e98956b104d4fbc059",
    "time": "2021-02-17T02:15:27.875Z",
    "type": "completion"
   },
   {
    "code": "import numpy as np\nimport math as math\nimport scipy.stats as st\nimport scipy.special  \nimport matplotlib.pyplot as plt\n\ndef fact(x):\n    return scipy.special.factorial(x, exact=True)\n    #return math.factorial(x)\n\ndef sigma(ntest): \n    N=1000\n    ntest=ntest.astype(int)\n    z=2*fact(N)/(fact(ntest)*fact(N-ntest))\n    z=z.astype(np.float128)\n    z=np.log(z)\n    return z   \n\ndef F(tau,ntest):\n    N=1000\n    return (ntest*(N-ntest)/N - tau*sigma(ntest))",
    "id": "84895652a93f40f1856ee1cbc80ce41e",
    "idx": 6,
    "time": "2021-02-17T02:15:39.169Z",
    "type": "execution"
   },
   {
    "id": "84895652a93f40f1856ee1cbc80ce41e",
    "time": "2021-02-17T02:15:39.238Z",
    "type": "completion"
   },
   {
    "code": "y = np.linspace(.01, 20, 500)\nx = np.linspace(.01,.25, 500)\nx_2d, y_2d = np.meshgrid(x,y)\nz_2d = F(x_2d, y_2d)\n\nplt.plot(y,F(0.4,y)\n        , 'r-'  # plot with the color red, as line\n        )",
    "id": "3db2899b5eae4a4d941fc55ec4afde52",
    "idx": 8,
    "time": "2021-02-17T02:15:40.840Z",
    "type": "execution"
   },
   {
    "code": "from mpl_toolkits.mplot3d import Axes3D\nfig = plt.figure(figsize=(8,8)) #create figure object to hold the plot\nax = Axes3D(fig) #create Axes3D object to display the plot\nax.plot_surface(x_2d, y_2d, z_2d)\nax.set_xlabel(\"$t/U$\")\nax.set_ylabel(\"$n$\")\nax.set_zlabel(\"$F(x,y)$\")",
    "id": "950663c93f4e4522875c90b09192aac5",
    "idx": 9,
    "time": "2021-02-17T02:15:41.875Z",
    "type": "execution"
   },
   {
    "id": "3db2899b5eae4a4d941fc55ec4afde52",
    "time": "2021-02-17T02:15:42.951Z",
    "type": "completion"
   },
   {
    "id": "950663c93f4e4522875c90b09192aac5",
    "time": "2021-02-17T02:15:43.794Z",
    "type": "completion"
   },
   {
    "code": "Solution here:",
    "id": "cef220714d59492086459e2996735ef8",
    "idx": 11,
    "time": "2021-02-17T02:15:43.969Z",
    "type": "execution"
   },
   {
    "id": "cef220714d59492086459e2996735ef8",
    "time": "2021-02-17T02:15:44.046Z",
    "type": "completion"
   },
   {
    "code": "#result = np.where(z_2d == np.amax(z_2d))\nminInRows = np.where(z_2d == np.amin(z_2d, axis=0))",
    "id": "cbd13a2e6edf467c877157d79751d16d",
    "idx": 13,
    "time": "2021-02-17T02:15:45.939Z",
    "type": "execution"
   },
   {
    "id": "cbd13a2e6edf467c877157d79751d16d",
    "time": "2021-02-17T02:15:46.012Z",
    "type": "completion"
   },
   {
    "code": "def tau(n):\n    N=1000\n    return (N-2*n)/(N*np.log((N-n)/n))",
    "id": "144e7bbba5164db08ef3e4c70b6b2bab",
    "idx": 14,
    "time": "2021-02-17T02:15:46.740Z",
    "type": "execution"
   },
   {
    "id": "144e7bbba5164db08ef3e4c70b6b2bab",
    "time": "2021-02-17T02:15:46.809Z",
    "type": "completion"
   },
   {
    "code": "tau(400)\n",
    "id": "df8ee3166b224e7f95a35e9860ef4968",
    "idx": 15,
    "time": "2021-02-17T02:15:47.585Z",
    "type": "execution"
   },
   {
    "id": "df8ee3166b224e7f95a35e9860ef4968",
    "time": "2021-02-17T02:15:47.657Z",
    "type": "completion"
   },
   {
    "code": "plt.plot(x_2d[minInRows[0], minInRows[1]], y_2d[minInRows[0], minInRows[1]]\n        , 'r-')  \n#plt.plot(tau(y_2d[minInRows[0], minInRows[1]]), y_2d[minInRows[0], minInRows[1]], 'b-')\nplt.plot(tau(y), y, 'b-')",
    "id": "438a2dd91fa044e98956b104d4fbc059",
    "idx": 16,
    "time": "2021-02-17T02:15:48.387Z",
    "type": "execution"
   },
   {
    "id": "438a2dd91fa044e98956b104d4fbc059",
    "time": "2021-02-17T02:15:48.708Z",
    "type": "completion"
   },
   {
    "code": "from mpl_toolkits.mplot3d import Axes3D\nfig = plt.figure(figsize=(8,8)) #create figure object to hold the plot\nax = Axes3D(fig) #create Axes3D object to display the plot\nax.plot_surface(x_2d, y_2d, z_2d)\nax.set_xlabel(\"$$\\tau$/U$\")\nax.set_ylabel(\"$n$\")\nax.set_zlabel(\"$F(x,y)$\")",
    "id": "950663c93f4e4522875c90b09192aac5",
    "idx": 9,
    "time": "2021-02-17T02:17:16.536Z",
    "type": "execution"
   },
   {
    "id": "950663c93f4e4522875c90b09192aac5",
    "time": "2021-02-17T02:17:17.056Z",
    "type": "completion"
   },
   {
    "code": "from mpl_toolkits.mplot3d import Axes3D\nfig = plt.figure(figsize=(8,8)) #create figure object to hold the plot\nax = Axes3D(fig) #create Axes3D object to display the plot\nax.plot_surface(x_2d, y_2d, z_2d)\nax.set_xlabel(\"$tau/U$\")\nax.set_ylabel(\"$n$\")\nax.set_zlabel(\"$F(x,y)$\")",
    "id": "950663c93f4e4522875c90b09192aac5",
    "idx": 9,
    "time": "2021-02-17T02:17:33.948Z",
    "type": "execution"
   },
   {
    "id": "950663c93f4e4522875c90b09192aac5",
    "time": "2021-02-17T02:17:34.962Z",
    "type": "completion"
   },
   {
    "code": "plt.plot(x_2d[minInRows[0], minInRows[1]], y_2d[minInRows[0], minInRows[1]]\n        , 'r-')  \n#plt.plot(tau(y_2d[minInRows[0], minInRows[1]]), y_2d[minInRows[0], minInRows[1]], 'b-')\nplt.plot(tau(y), y, 'b-')\nxlabel(\"$tau/U$\")\nylabel(\"$n$\")",
    "id": "438a2dd91fa044e98956b104d4fbc059",
    "idx": 16,
    "time": "2021-02-17T02:18:30.565Z",
    "type": "execution"
   },
   {
    "id": "438a2dd91fa044e98956b104d4fbc059",
    "time": "2021-02-17T02:18:30.876Z",
    "type": "completion"
   },
   {
    "code": "plt.plot(x_2d[minInRows[0], minInRows[1]], y_2d[minInRows[0], minInRows[1]]\n        , 'r-')  \n#plt.plot(tau(y_2d[minInRows[0], minInRows[1]]), y_2d[minInRows[0], minInRows[1]], 'b-')\nplt.plot(tau(y), y, 'b-')\nplt.xlabel(\"tau/U\")\nplt.ylabel(\"n\")",
    "id": "438a2dd91fa044e98956b104d4fbc059",
    "idx": 16,
    "time": "2021-02-17T02:19:59.503Z",
    "type": "execution"
   },
   {
    "id": "438a2dd91fa044e98956b104d4fbc059",
    "time": "2021-02-17T02:19:59.854Z",
    "type": "completion"
   },
   {
    "code": "y = np.linspace(.01, 500, 500)\nx = np.linspace(.01,.7, 500)\nx_2d, y_2d = np.meshgrid(x,y)\nz_2d = F(x_2d, y_2d)\n\nplt.plot(y,F(0.4,y)\n        , 'r-'  # plot with the color red, as line\n        )",
    "id": "3db2899b5eae4a4d941fc55ec4afde52",
    "idx": 8,
    "time": "2021-02-17T02:20:30.825Z",
    "type": "execution"
   },
   {
    "code": "from mpl_toolkits.mplot3d import Axes3D\nfig = plt.figure(figsize=(8,8)) #create figure object to hold the plot\nax = Axes3D(fig) #create Axes3D object to display the plot\nax.plot_surface(x_2d, y_2d, z_2d)\nax.set_xlabel(\"$tau/U$\")\nax.set_ylabel(\"$n$\")\nax.set_zlabel(\"$F(x,y)$\")",
    "id": "950663c93f4e4522875c90b09192aac5",
    "idx": 9,
    "time": "2021-02-17T02:20:31.435Z",
    "type": "execution"
   },
   {
    "code": "Solution here:",
    "id": "cef220714d59492086459e2996735ef8",
    "idx": 11,
    "time": "2021-02-17T02:20:32.746Z",
    "type": "execution"
   },
   {
    "code": "#result = np.where(z_2d == np.amax(z_2d))\nminInRows = np.where(z_2d == np.amin(z_2d, axis=0))",
    "id": "cbd13a2e6edf467c877157d79751d16d",
    "idx": 13,
    "time": "2021-02-17T02:20:34.227Z",
    "type": "execution"
   },
   {
    "code": "def tau(n):\n    N=1000\n    return (N-2*n)/(N*np.log((N-n)/n))",
    "id": "144e7bbba5164db08ef3e4c70b6b2bab",
    "idx": 14,
    "time": "2021-02-17T02:20:34.889Z",
    "type": "execution"
   },
   {
    "code": "tau(400)\n",
    "id": "df8ee3166b224e7f95a35e9860ef4968",
    "idx": 15,
    "time": "2021-02-17T02:20:35.551Z",
    "type": "execution"
   },
   {
    "id": "3db2899b5eae4a4d941fc55ec4afde52",
    "time": "2021-02-17T02:20:36.044Z",
    "type": "completion"
   },
   {
    "code": "plt.plot(x_2d[minInRows[0], minInRows[1]], y_2d[minInRows[0], minInRows[1]]\n        , 'r-')  \n#plt.plot(tau(y_2d[minInRows[0], minInRows[1]]), y_2d[minInRows[0], minInRows[1]], 'b-')\nplt.plot(tau(y), y, 'b-')\nplt.xlabel(\"tau/U\")\nplt.ylabel(\"n\")",
    "id": "438a2dd91fa044e98956b104d4fbc059",
    "idx": 16,
    "time": "2021-02-17T02:20:36.257Z",
    "type": "execution"
   },
   {
    "id": "950663c93f4e4522875c90b09192aac5",
    "time": "2021-02-17T02:20:37.199Z",
    "type": "completion"
   },
   {
    "id": "cef220714d59492086459e2996735ef8",
    "time": "2021-02-17T02:20:37.204Z",
    "type": "completion"
   },
   {
    "id": "cbd13a2e6edf467c877157d79751d16d",
    "time": "2021-02-17T02:20:37.208Z",
    "type": "completion"
   },
   {
    "id": "144e7bbba5164db08ef3e4c70b6b2bab",
    "time": "2021-02-17T02:20:37.208Z",
    "type": "completion"
   },
   {
    "id": "df8ee3166b224e7f95a35e9860ef4968",
    "time": "2021-02-17T02:20:37.209Z",
    "type": "completion"
   },
   {
    "id": "438a2dd91fa044e98956b104d4fbc059",
    "time": "2021-02-17T02:20:37.210Z",
    "type": "completion"
   },
   {
    "code": "import numpy as np\nimport math as math\nimport scipy.stats as st\nimport scipy.special  \nimport matplotlib.pyplot as plt\n\ndef fact(x):\n    return scipy.special.factorial(x, exact=True)\n    #return math.factorial(x)\n\ndef sigma(ntest): \n    N=1000\n    ntest=ntest.astype(int)\n    z=2*fact(N)/(fact(ntest)*fact(N-ntest))\n    z=z.astype(np.float128)\n    z=np.log(z)\n    return z   \n\ndef F(tau,ntest):\n    N=1000\n    return (ntest*(N-ntest)/N - tau*sigma(ntest))",
    "id": "84895652a93f40f1856ee1cbc80ce41e",
    "idx": 6,
    "time": "2021-02-17T02:21:26.083Z",
    "type": "execution"
   },
   {
    "id": "84895652a93f40f1856ee1cbc80ce41e",
    "time": "2021-02-17T02:21:26.179Z",
    "type": "completion"
   },
   {
    "code": "y = np.linspace(.01, 500, 500)\nx = np.linspace(.01,.1, 500)\nx_2d, y_2d = np.meshgrid(x,y)\nz_2d = F(x_2d, y_2d)\n\nplt.plot(y,F(0.4,y)\n        , 'r-'  # plot with the color red, as line\n        )",
    "id": "3db2899b5eae4a4d941fc55ec4afde52",
    "idx": 8,
    "time": "2021-02-17T02:21:27.542Z",
    "type": "execution"
   },
   {
    "code": "from mpl_toolkits.mplot3d import Axes3D\nfig = plt.figure(figsize=(8,8)) #create figure object to hold the plot\nax = Axes3D(fig) #create Axes3D object to display the plot\nax.plot_surface(x_2d, y_2d, z_2d)\nax.set_xlabel(\"$tau/U$\")\nax.set_ylabel(\"$n$\")\nax.set_zlabel(\"$F(x,y)$\")",
    "id": "950663c93f4e4522875c90b09192aac5",
    "idx": 9,
    "time": "2021-02-17T02:21:28.924Z",
    "type": "execution"
   },
   {
    "id": "3db2899b5eae4a4d941fc55ec4afde52",
    "time": "2021-02-17T02:21:32.725Z",
    "type": "completion"
   },
   {
    "id": "950663c93f4e4522875c90b09192aac5",
    "time": "2021-02-17T02:21:33.150Z",
    "type": "completion"
   },
   {
    "code": "y = np.linspace(.01, 500, 500)\nx = np.linspace(.01,1., 500)\nx_2d, y_2d = np.meshgrid(x,y)\nz_2d = F(x_2d, y_2d)\n\nplt.plot(y,F(0.4,y)\n        , 'r-'  # plot with the color red, as line\n        )",
    "id": "3db2899b5eae4a4d941fc55ec4afde52",
    "idx": 8,
    "time": "2021-02-17T02:22:00.475Z",
    "type": "execution"
   },
   {
    "code": "from mpl_toolkits.mplot3d import Axes3D\nfig = plt.figure(figsize=(8,8)) #create figure object to hold the plot\nax = Axes3D(fig) #create Axes3D object to display the plot\nax.plot_surface(x_2d, y_2d, z_2d)\nax.set_xlabel(\"$tau/U$\")\nax.set_ylabel(\"$n$\")\nax.set_zlabel(\"$F(x,y)$\")",
    "id": "950663c93f4e4522875c90b09192aac5",
    "idx": 9,
    "time": "2021-02-17T02:22:01.693Z",
    "type": "execution"
   },
   {
    "id": "3db2899b5eae4a4d941fc55ec4afde52",
    "time": "2021-02-17T02:22:05.303Z",
    "type": "completion"
   },
   {
    "id": "950663c93f4e4522875c90b09192aac5",
    "time": "2021-02-17T02:22:06.400Z",
    "type": "completion"
   },
   {
    "code": "#result = np.where(z_2d == np.amax(z_2d))\nminInRows = np.where(z_2d == np.amin(z_2d, axis=0))",
    "id": "cbd13a2e6edf467c877157d79751d16d",
    "idx": 13,
    "time": "2021-02-17T02:22:29.649Z",
    "type": "execution"
   },
   {
    "id": "cbd13a2e6edf467c877157d79751d16d",
    "time": "2021-02-17T02:22:29.734Z",
    "type": "completion"
   },
   {
    "code": "def tau(n):\n    N=1000\n    return (N-2*n)/(N*np.log((N-n)/n))",
    "id": "144e7bbba5164db08ef3e4c70b6b2bab",
    "idx": 14,
    "time": "2021-02-17T02:22:30.713Z",
    "type": "execution"
   },
   {
    "id": "144e7bbba5164db08ef3e4c70b6b2bab",
    "time": "2021-02-17T02:22:30.784Z",
    "type": "completion"
   },
   {
    "code": "tau(400)\n",
    "id": "df8ee3166b224e7f95a35e9860ef4968",
    "idx": 15,
    "time": "2021-02-17T02:22:31.391Z",
    "type": "execution"
   },
   {
    "id": "df8ee3166b224e7f95a35e9860ef4968",
    "time": "2021-02-17T02:22:31.465Z",
    "type": "completion"
   },
   {
    "code": "plt.plot(x_2d[minInRows[0], minInRows[1]], y_2d[minInRows[0], minInRows[1]]\n        , 'r-')  \n#plt.plot(tau(y_2d[minInRows[0], minInRows[1]]), y_2d[minInRows[0], minInRows[1]], 'b-')\nplt.plot(tau(y), y, 'b-')\nplt.xlabel(\"tau/U\")\nplt.ylabel(\"n\")",
    "id": "438a2dd91fa044e98956b104d4fbc059",
    "idx": 16,
    "time": "2021-02-17T02:22:32.525Z",
    "type": "execution"
   },
   {
    "id": "438a2dd91fa044e98956b104d4fbc059",
    "time": "2021-02-17T02:22:32.806Z",
    "type": "completion"
   },
   {
    "code": "plt.plot(x_2d[minInRows[0], minInRows[1]], y_2d[minInRows[0], minInRows[1]]\n        , 'r-')  \n#plt.plot(tau(y_2d[minInRows[0], minInRows[1]]), y_2d[minInRows[0], minInRows[1]], 'b-')\nplt.plot(tau(y), y, 'b-')\nplt.xlabel(\"tau/ep\")\nplt.ylabel(\"n\")",
    "id": "438a2dd91fa044e98956b104d4fbc059",
    "idx": 16,
    "time": "2021-02-17T02:23:45.134Z",
    "type": "execution"
   },
   {
    "id": "438a2dd91fa044e98956b104d4fbc059",
    "time": "2021-02-17T02:23:45.428Z",
    "type": "completion"
   },
   {
    "code": "tau(499)\n",
    "id": "df8ee3166b224e7f95a35e9860ef4968",
    "idx": 15,
    "time": "2021-02-17T02:24:04.629Z",
    "type": "execution"
   },
   {
    "id": "df8ee3166b224e7f95a35e9860ef4968",
    "time": "2021-02-17T02:24:04.713Z",
    "type": "completion"
   },
   {
    "code": "print(tau(500))\n",
    "id": "c886beca4f85432e90f14088a0ab8faa",
    "idx": 19,
    "time": "2021-02-17T02:29:08.511Z",
    "type": "execution"
   },
   {
    "id": "c886beca4f85432e90f14088a0ab8faa",
    "time": "2021-02-17T02:29:08.607Z",
    "type": "completion"
   },
   {
    "code": "tau(500)\n",
    "id": "c886beca4f85432e90f14088a0ab8faa",
    "idx": 19,
    "time": "2021-02-17T02:29:21.642Z",
    "type": "execution"
   },
   {
    "id": "c886beca4f85432e90f14088a0ab8faa",
    "time": "2021-02-17T02:29:21.713Z",
    "type": "completion"
   },
   {
    "code": "tau(499)\n",
    "id": "c886beca4f85432e90f14088a0ab8faa",
    "idx": 19,
    "time": "2021-02-17T02:29:30.060Z",
    "type": "execution"
   },
   {
    "id": "c886beca4f85432e90f14088a0ab8faa",
    "time": "2021-02-17T02:29:30.131Z",
    "type": "completion"
   },
   {
    "code": "tau(499.5)\n",
    "id": "c886beca4f85432e90f14088a0ab8faa",
    "idx": 19,
    "time": "2021-02-17T02:29:37.061Z",
    "type": "execution"
   },
   {
    "id": "c886beca4f85432e90f14088a0ab8faa",
    "time": "2021-02-17T02:29:37.134Z",
    "type": "completion"
   },
   {
    "code": "tau(499.9)\n",
    "id": "c886beca4f85432e90f14088a0ab8faa",
    "idx": 19,
    "time": "2021-02-17T02:29:43.471Z",
    "type": "execution"
   },
   {
    "id": "c886beca4f85432e90f14088a0ab8faa",
    "time": "2021-02-17T02:29:44.640Z",
    "type": "completion"
   },
   {
    "code": "#$$ F= U-\\tau\\sigma = 2Nx\\epsilon\\left(1-x\\right)-2\\tau\\ln\\left(\\frac{N!}{(Nx)!(N-Nx)!}\\right).$$",
    "id": "1560ca736f40465a973a77e953b7f7f8",
    "idx": 3,
    "time": "2021-02-17T02:33:43.605Z",
    "type": "execution"
   },
   {
    "id": "1560ca736f40465a973a77e953b7f7f8",
    "time": "2021-02-17T02:33:43.701Z",
    "type": "completion"
   },
   {
    "code": "#Define gridding\ny = np.linspace(.01, 500, 500)\nx = np.linspace(.01,1., 500)\n\n\n\n",
    "id": "3db2899b5eae4a4d941fc55ec4afde52",
    "idx": 7,
    "time": "2021-02-17T02:39:12.029Z",
    "type": "execution"
   },
   {
    "id": "3db2899b5eae4a4d941fc55ec4afde52",
    "time": "2021-02-17T02:39:12.123Z",
    "type": "completion"
   },
   {
    "code": "from mpl_toolkits.mplot3d import Axes3D\nfig = plt.figure(figsize=(8,8)) #create figure object to hold the plot\nax = Axes3D(fig) #create Axes3D object to display the plot\nax.plot_surface(x_2d, y_2d, z_2d)\nax.set_xlabel(\"$tau/ep$\")\nax.set_ylabel(\"$n$\")\nax.set_zlabel(\"$F(x,y)$\")",
    "id": "950663c93f4e4522875c90b09192aac5",
    "idx": 8,
    "time": "2021-02-17T02:39:13.252Z",
    "type": "execution"
   },
   {
    "id": "950663c93f4e4522875c90b09192aac5",
    "time": "2021-02-17T02:39:14.340Z",
    "type": "completion"
   },
   {
    "code": "import numpy as np\nimport math as math\nimport scipy.stats as st\nimport scipy.special  \nimport matplotlib.pyplot as plt\n\ndef fact(x):\n    return scipy.special.factorial(x, exact=True)\n    #return math.factorial(x)\n\ndef sigma(ntest): \n    N=1000\n    ntest=ntest.astype(int)\n    z=2*fact(N)/(fact(ntest)*fact(N-ntest))\n    z=z.astype(np.float128)\n    z=np.log(z)\n    return z   \n\ndef F(tau,ntest):\n    N=1000\n    return (ntest*(N-ntest)/N - tau*sigma(ntest))",
    "id": "84895652a93f40f1856ee1cbc80ce41e",
    "idx": 6,
    "time": "2021-02-17T02:40:12.165Z",
    "type": "execution"
   },
   {
    "id": "84895652a93f40f1856ee1cbc80ce41e",
    "time": "2021-02-17T02:40:12.258Z",
    "type": "completion"
   },
   {
    "code": "#Define gridding\ny = np.linspace(.01, 500, 500)\nx = np.linspace(.01,1., 500)\n\n#make 3d plot\nfrom mpl_toolkits.mplot3d import Axes3D\nfig = plt.figure(figsize=(8,8)) #create figure object to hold the plot\nax = Axes3D(fig) #create Axes3D object to display the plot\nax.plot_surface(x_2d, y_2d, z_2d)\nax.set_xlabel(\"$tau/ep$\")\nax.set_ylabel(\"$n$\")\nax.set_zlabel(\"$F(x,y)$\")",
    "id": "950663c93f4e4522875c90b09192aac5",
    "idx": 7,
    "time": "2021-02-17T02:40:12.861Z",
    "type": "execution"
   },
   {
    "id": "950663c93f4e4522875c90b09192aac5",
    "time": "2021-02-17T02:40:13.919Z",
    "type": "completion"
   },
   {
    "code": "# Take a 2d slice as a warm up\nplt.plot(y,F(0.4,y), 'r-' )\nx_2d, y_2d = np.meshgrid(x,y)\nz_2d = F(x_2d, y_2d)",
    "id": "d1d1f9154dca4cce86be629d410d3ed7",
    "idx": 8,
    "time": "2021-02-17T02:41:04.559Z",
    "type": "execution"
   },
   {
    "id": "d1d1f9154dca4cce86be629d410d3ed7",
    "time": "2021-02-17T02:41:09.315Z",
    "type": "completion"
   },
   {
    "code": "# Take a 2d slice as a warm up\nplt.plot(y,F(0.7,y), 'r-' )\nx_2d, y_2d = np.meshgrid(x,y)\nz_2d = F(x_2d, y_2d)",
    "id": "d1d1f9154dca4cce86be629d410d3ed7",
    "idx": 8,
    "time": "2021-02-17T02:41:22.374Z",
    "type": "execution"
   },
   {
    "id": "d1d1f9154dca4cce86be629d410d3ed7",
    "time": "2021-02-17T02:41:27.028Z",
    "type": "completion"
   },
   {
    "code": "# Take a 2d slice as a warm up\nplt.plot(y,F(0.3,y), 'r-' )\nx_2d, y_2d = np.meshgrid(x,y)\nz_2d = F(x_2d, y_2d)",
    "id": "d1d1f9154dca4cce86be629d410d3ed7",
    "idx": 8,
    "time": "2021-02-17T02:41:38.950Z",
    "type": "execution"
   },
   {
    "id": "d1d1f9154dca4cce86be629d410d3ed7",
    "time": "2021-02-17T02:41:43.713Z",
    "type": "completion"
   },
   {
    "code": "# Take a 2d slice as a warm up\nplt.plot(y,F(0.45,y), 'r-' )\nx_2d, y_2d = np.meshgrid(x,y)\nz_2d = F(x_2d, y_2d)",
    "id": "d1d1f9154dca4cce86be629d410d3ed7",
    "idx": 8,
    "time": "2021-02-17T02:41:51.143Z",
    "type": "execution"
   },
   {
    "id": "d1d1f9154dca4cce86be629d410d3ed7",
    "time": "2021-02-17T02:41:56.166Z",
    "type": "completion"
   },
   {
    "code": "# Take a 2d slice as a warm up\nplt.plot(y,F(0.1,y), 'r-' )\nx_2d, y_2d = np.meshgrid(x,y)\nz_2d = F(x_2d, y_2d)",
    "id": "d1d1f9154dca4cce86be629d410d3ed7",
    "idx": 9,
    "time": "2021-02-17T02:43:29.622Z",
    "type": "execution"
   },
   {
    "id": "d1d1f9154dca4cce86be629d410d3ed7",
    "time": "2021-02-17T02:43:34.551Z",
    "type": "completion"
   },
   {
    "code": "# Take a 2d slice as a warm up\nplt.plot(y,F(0.3,y), 'r-' )\nx_2d, y_2d = np.meshgrid(x,y)\nz_2d = F(x_2d, y_2d)",
    "id": "d1d1f9154dca4cce86be629d410d3ed7",
    "idx": 9,
    "time": "2021-02-17T02:44:06.663Z",
    "type": "execution"
   },
   {
    "id": "d1d1f9154dca4cce86be629d410d3ed7",
    "time": "2021-02-17T02:44:11.435Z",
    "type": "completion"
   },
   {
    "code": "# Take a 2d slice as a warm up\nplt.plot(y,F(0.3,y), 'r-' )\nx_2d, y_2d = np.meshgrid(x,y)\nz_2d = F(x_2d, y_2d)",
    "id": "d1d1f9154dca4cce86be629d410d3ed7",
    "idx": 9,
    "time": "2021-02-17T02:44:20.120Z",
    "type": "execution"
   },
   {
    "id": "d1d1f9154dca4cce86be629d410d3ed7",
    "time": "2021-02-17T02:44:24.800Z",
    "type": "completion"
   },
   {
    "code": "# Take a 2d slice as a warm up\nplt.plot(y,F(0.35,y), 'r-' )\nx_2d, y_2d = np.meshgrid(x,y)\nz_2d = F(x_2d, y_2d)",
    "id": "d1d1f9154dca4cce86be629d410d3ed7",
    "idx": 9,
    "time": "2021-02-17T02:44:35.441Z",
    "type": "execution"
   },
   {
    "id": "d1d1f9154dca4cce86be629d410d3ed7",
    "time": "2021-02-17T02:44:40.199Z",
    "type": "completion"
   },
   {
    "code": "# Take a 2d slice as a warm up\nplt.plot(y,F(0.4,y), 'r-' )\nx_2d, y_2d = np.meshgrid(x,y)\nz_2d = F(x_2d, y_2d)",
    "id": "d1d1f9154dca4cce86be629d410d3ed7",
    "idx": 9,
    "time": "2021-02-17T02:44:47.293Z",
    "type": "execution"
   },
   {
    "id": "d1d1f9154dca4cce86be629d410d3ed7",
    "time": "2021-02-17T02:44:52.102Z",
    "type": "completion"
   },
   {
    "code": "# Take a 2d slice as a warm up\nplt.plot(y,F(0.6,y), 'r-' )\nx_2d, y_2d = np.meshgrid(x,y)\nz_2d = F(x_2d, y_2d)",
    "id": "d1d1f9154dca4cce86be629d410d3ed7",
    "idx": 9,
    "time": "2021-02-17T02:45:05.173Z",
    "type": "execution"
   },
   {
    "id": "d1d1f9154dca4cce86be629d410d3ed7",
    "time": "2021-02-17T02:45:09.937Z",
    "type": "completion"
   },
   {
    "code": "# Take a 2d slice as a warm up\nplt.plot(y,F(0.4,y), 'r-' )\nx_2d, y_2d = np.meshgrid(x,y)\nz_2d = F(x_2d, y_2d)",
    "id": "d1d1f9154dca4cce86be629d410d3ed7",
    "idx": 9,
    "time": "2021-02-17T02:47:13.575Z",
    "type": "execution"
   },
   {
    "id": "d1d1f9154dca4cce86be629d410d3ed7",
    "time": "2021-02-17T02:47:17.852Z",
    "type": "completion"
   },
   {
    "code": "c) Solution here:",
    "id": "cef220714d59492086459e2996735ef8",
    "idx": 12,
    "time": "2021-02-17T02:48:46.139Z",
    "type": "execution"
   },
   {
    "id": "cef220714d59492086459e2996735ef8",
    "time": "2021-02-17T02:48:46.252Z",
    "type": "completion"
   },
   {
    "code": "import numpy as np\nimport math as math\nimport scipy.stats as st\nimport scipy.special  \nimport matplotlib.pyplot as plt\n\ndef fact(x):\n    return scipy.special.factorial(x, exact=True)\n    #return math.factorial(x)\n\ndef sigma(ntest): \n    N=1000\n    ntest=ntest.astype(int)\n    z=2*fact(N)/(fact(ntest)*fact(N-ntest))\n    z=z.astype(np.float128)\n    z=np.log(z)\n    return z   \n\ndef F(tau,ntest):\n    N=1000\n    return (ntest*(N-ntest)/N - tau*sigma(ntest))\n\n# Take a 2d slice as a warm up\ny = np.linspace(.01, 500, 500)\nplt.plot(y,F(0.1,y), 'r-' )\nplt.plot(y,F(0.4,y), 'r-' )\nplt.plot(y,F(0.6,y), 'r-' )",
    "id": "99a3756773f44818848a2014a41f6d40",
    "idx": 7,
    "time": "2021-02-17T03:00:13.305Z",
    "type": "execution"
   },
   {
    "id": "99a3756773f44818848a2014a41f6d40",
    "time": "2021-02-17T03:00:14.050Z",
    "type": "completion"
   },
   {
    "code": "import numpy as np\nimport math as math\nimport scipy.stats as st\nimport scipy.special  \nimport matplotlib.pyplot as plt\n\ndef fact(x):\n    return scipy.special.factorial(x, exact=True)\n    #return math.factorial(x)\n\ndef sigma(ntest): \n    N=1000\n    ntest=ntest.astype(int)\n    z=2*fact(N)/(fact(ntest)*fact(N-ntest))\n    z=z.astype(np.float128)\n    z=np.log(z)\n    return z   \n\ndef F(tau,ntest):\n    N=1000\n    return (ntest*(N-ntest)/N - tau*sigma(ntest))\n\n# Take a 2d slice as a warm up\ny = np.linspace(.01, 500, 500)\nplt.plot(y,F(0.1,y), 'r-' )\nplt.plot(y,F(0.3,y), 'r-' )\nplt.plot(y,F(0.6,y), 'r-' )",
    "id": "99a3756773f44818848a2014a41f6d40",
    "idx": 7,
    "time": "2021-02-17T03:00:37.704Z",
    "type": "execution"
   },
   {
    "id": "99a3756773f44818848a2014a41f6d40",
    "time": "2021-02-17T03:00:38.113Z",
    "type": "completion"
   },
   {
    "code": "import numpy as np\nimport math as math\nimport scipy.stats as st\nimport scipy.special  \nimport matplotlib.pyplot as plt\n\ndef fact(x):\n    return scipy.special.factorial(x, exact=True)\n    #return math.factorial(x)\n\ndef sigma(ntest): \n    N=1000\n    ntest=ntest.astype(int)\n    z=2*fact(N)/(fact(ntest)*fact(N-ntest))\n    z=z.astype(np.float128)\n    z=np.log(z)\n    return z   \n\ndef F(tau,ntest):\n    N=1000\n    return (ntest*(N-ntest)/N - tau*sigma(ntest))\n\n# Take a 2d slice as a warm up\ny = np.linspace(.01, 500, 500)\nplt.plot(y,F(0.2,y), 'r-' )\nplt.plot(y,F(0.35,y), 'r-' )\nplt.plot(y,F(0.6,y), 'r-' )",
    "id": "99a3756773f44818848a2014a41f6d40",
    "idx": 7,
    "time": "2021-02-17T03:00:56.894Z",
    "type": "execution"
   },
   {
    "id": "99a3756773f44818848a2014a41f6d40",
    "time": "2021-02-17T03:00:57.240Z",
    "type": "completion"
   },
   {
    "code": "import numpy as np\nimport math as math\nimport scipy.stats as st\nimport scipy.special  \nimport matplotlib.pyplot as plt\n\ndef fact(x):\n    return scipy.special.factorial(x, exact=True)\n    #return math.factorial(x)\n\ndef sigma(ntest): \n    N=1000\n    ntest=ntest.astype(int)\n    z=2*fact(N)/(fact(ntest)*fact(N-ntest))\n    z=z.astype(np.float128)\n    z=np.log(z)\n    return z   \n\ndef F(tau,ntest):\n    N=1000\n    return (ntest*(N-ntest)/N - tau*sigma(ntest))\n\n# Take a 2d slice as a warm up\ny = np.linspace(.01, 500, 500)\nplt.plot(y,F(0.2,y), 'r-' )\nplt.plot(y,F(0.35,y), 'r-' )\nplt.plot(y,F(0.5,y), 'r-' )",
    "id": "99a3756773f44818848a2014a41f6d40",
    "idx": 7,
    "time": "2021-02-17T03:01:11.249Z",
    "type": "execution"
   },
   {
    "id": "99a3756773f44818848a2014a41f6d40",
    "time": "2021-02-17T03:01:11.577Z",
    "type": "completion"
   },
   {
    "code": "import numpy as np\nimport math as math\nimport scipy.stats as st\nimport scipy.special  \nimport matplotlib.pyplot as plt\n\ndef fact(x):\n    return scipy.special.factorial(x, exact=True)\n    #return math.factorial(x)\n\ndef sigma(ntest): \n    N=1000\n    ntest=ntest.astype(int)\n    z=2*fact(N)/(fact(ntest)*fact(N-ntest))\n    z=z.astype(np.float128)\n    z=np.log(z)\n    return z   \n\ndef F(tau,ntest):\n    N=1000\n    return (ntest*(N-ntest)/N - tau*sigma(ntest))\n\n# Take a 2d slice as a warm up\ny = np.linspace(.01, 500, 500)\nplt.plot(y,F(0.2,y), 'r-' )\nplt.plot(y,F(0.35,y), 'b-' )\nplt.plot(y,F(0.5,y), 'g-' )",
    "id": "99a3756773f44818848a2014a41f6d40",
    "idx": 7,
    "time": "2021-02-17T03:01:30.708Z",
    "type": "execution"
   },
   {
    "id": "99a3756773f44818848a2014a41f6d40",
    "time": "2021-02-17T03:01:31.035Z",
    "type": "completion"
   },
   {
    "code": "import numpy as np\nimport math as math\nimport scipy.stats as st\nimport scipy.special  \nimport matplotlib.pyplot as plt\n\ndef fact(x):\n    return scipy.special.factorial(x, exact=True)\n    #return math.factorial(x)\n\ndef sigma(ntest): \n    N=1000\n    ntest=ntest.astype(int)\n    z=2*fact(N)/(fact(ntest)*fact(N-ntest))\n    z=z.astype(np.float128)\n    z=np.log(z)\n    return z   \n\ndef F(tau,ntest):\n    N=1000\n    return (ntest*(N-ntest)/N - tau*sigma(ntest))\n\n# Take a 2d slice as a warm up\ny = np.linspace(.01, 500, 500)\nplt.plot(y,F(0.2,y), 'r-' )\nplt.plot(y,F(0.35,y), 'b-' )\nplt.plot(y,F(0.55,y), 'g-' )",
    "id": "99a3756773f44818848a2014a41f6d40",
    "idx": 7,
    "time": "2021-02-17T03:03:00.214Z",
    "type": "execution"
   },
   {
    "id": "99a3756773f44818848a2014a41f6d40",
    "time": "2021-02-17T03:03:00.587Z",
    "type": "completion"
   },
   {
    "code": "#Define gridding\ny = np.linspace(.01, 500, 500)\nx = np.linspace(.01,1., 500)\n\n#make 3d plot\nfrom mpl_toolkits.mplot3d import Axes3D\nfig = plt.figure(figsize=(8,8)) #create figure object to hold the plot\nax = Axes3D(fig) #create Axes3D object to display the plot\nax.plot_surface(x_2d, y_2d, z_2d)\nax.set_xlabel(\"$tau/ep$\")\nax.set_ylabel(\"$n$\")\nax.set_zlabel(\"$F(x,y)$\")",
    "id": "950663c93f4e4522875c90b09192aac5",
    "idx": 9,
    "time": "2021-02-17T03:10:12.244Z",
    "type": "execution"
   },
   {
    "id": "950663c93f4e4522875c90b09192aac5",
    "time": "2021-02-17T03:10:14.475Z",
    "type": "completion"
   },
   {
    "code": "#Define gridding\ny = np.linspace(.01, 500, 500)\nx = np.linspace(.01,1., 500)\nx_2d, y_2d = np.meshgrid(x,y)\nz_2d = F(x_2d, y_2d)\n#make 3d plot\nfrom mpl_toolkits.mplot3d import Axes3D\nfig = plt.figure(figsize=(8,8)) #create figure object to hold the plot\nax = Axes3D(fig) #create Axes3D object to display the plot\nax.plot_surface(x_2d, y_2d, z_2d)\nax.set_xlabel(\"$tau/ep$\")\nax.set_ylabel(\"$n$\")\nax.set_zlabel(\"$F(x,y)$\")",
    "id": "950663c93f4e4522875c90b09192aac5",
    "idx": 9,
    "time": "2021-02-17T03:12:13.805Z",
    "type": "execution"
   },
   {
    "id": "950663c93f4e4522875c90b09192aac5",
    "time": "2021-02-17T03:12:19.079Z",
    "type": "completion"
   },
   {
    "code": "#c Solution\n#result = np.where(z_2d == np.amax(z_2d))\nminInRows = np.where(z_2d == np.amin(z_2d, axis=0))\nplt.plot(x_2d[minInRows[0], minInRows[1]], y_2d[minInRows[0], minInRows[1]]\n        , 'r-')  \n#plt.plot(tau(y_2d[minInRows[0], minInRows[1]]), y_2d[minInRows[0], minInRows[1]], 'b-')\nplt.plot(tau(y), y, 'b-')\nplt.xlabel(\"tau/ep\")\nplt.ylabel(\"n\")",
    "id": "b71ab50336924643b1fa1d8ff3ed8067",
    "idx": 12,
    "time": "2021-02-17T03:15:21.303Z",
    "type": "execution"
   },
   {
    "id": "b71ab50336924643b1fa1d8ff3ed8067",
    "time": "2021-02-17T03:15:22.758Z",
    "type": "completion"
   },
   {
    "code": "#c Solution\n#result = np.where(z_2d == np.amax(z_2d))\nminInRows = np.where(z_2d == np.amin(z_2d, axis=0))\nplt.plot(x_2d[minInRows[0], minInRows[1]], y_2d[minInRows[0], minInRows[1]]\n        , 'r-')  \n#plt.plot(tau(y_2d[minInRows[0], minInRows[1]]), y_2d[minInRows[0], minInRows[1]], 'b-')\nplt.plot(tau(y), y, 'b-')\nplt.xlabel(\"tau/ep\")\nplt.ylabel(\"n\")",
    "id": "b71ab50336924643b1fa1d8ff3ed8067",
    "idx": 12,
    "time": "2021-02-17T03:17:14.757Z",
    "type": "execution"
   },
   {
    "id": "b71ab50336924643b1fa1d8ff3ed8067",
    "time": "2021-02-17T03:17:15.070Z",
    "type": "completion"
   },
   {
    "code": "#d Solution\ndef tau(n):\n    N=1000\n    return (N-2*n)/(N*np.log((N-n)/n))\n\nplt.plot(tau(y), y, 'b-')",
    "id": "144e7bbba5164db08ef3e4c70b6b2bab",
    "idx": 15,
    "time": "2021-02-17T03:17:24.745Z",
    "type": "execution"
   },
   {
    "id": "144e7bbba5164db08ef3e4c70b6b2bab",
    "time": "2021-02-17T03:17:24.986Z",
    "type": "completion"
   },
   {
    "code": "#d Solution\ndef tau(n):\n    N=1000\n    return (N-2*n)/(N*np.log((N-n)/n))\n\n#c Solution\n#result = np.where(z_2d == np.amax(z_2d))\nminInRows = np.where(z_2d == np.amin(z_2d, axis=0))\nplt.plot(x_2d[minInRows[0], minInRows[1]], y_2d[minInRows[0], minInRows[1]]\n        , 'r-')  \n#plt.plot(tau(y_2d[minInRows[0], minInRows[1]]), y_2d[minInRows[0], minInRows[1]], 'b-')\nplt.plot(tau(y), y, 'b-')\nplt.xlabel(\"tau/ep\")\nplt.ylabel(\"n\")",
    "id": "144e7bbba5164db08ef3e4c70b6b2bab",
    "idx": 15,
    "time": "2021-02-17T03:17:53.647Z",
    "type": "execution"
   },
   {
    "id": "144e7bbba5164db08ef3e4c70b6b2bab",
    "time": "2021-02-17T03:17:53.960Z",
    "type": "completion"
   },
   {
    "code": "#c Solution\n#result = np.where(z_2d == np.amax(z_2d))\nminInRows = np.where(z_2d == np.amin(z_2d, axis=0))\nplt.plot(x_2d[minInRows[0], minInRows[1]], y_2d[minInRows[0], minInRows[1]]\n        , 'r-')  \n#plt.plot(tau(y_2d[minInRows[0], minInRows[1]]), y_2d[minInRows[0], minInRows[1]], 'b-')\n#plt.plot(tau(y), y, 'b-')\nplt.xlabel(\"tau/ep\")\nplt.ylabel(\"n\")",
    "id": "b71ab50336924643b1fa1d8ff3ed8067",
    "idx": 12,
    "time": "2021-02-17T03:18:03.315Z",
    "type": "execution"
   },
   {
    "id": "b71ab50336924643b1fa1d8ff3ed8067",
    "time": "2021-02-17T03:18:03.663Z",
    "type": "completion"
   },
   {
    "code": "#c Solution\n#result = np.where(z_2d == np.amax(z_2d))\nminInRows = np.where(z_2d == np.amin(z_2d, axis=0))\nplt.plot(x_2d[minInRows[0], minInRows[1]], y_2d[minInRows[0], minInRows[1]]\n        , 'r-')  \n#plt.plot(tau(y_2d[minInRows[0], minInRows[1]]), y_2d[minInRows[0], minInRows[1]], 'b-')\n#plt.plot(tau(y), y, 'b-')\nplt.xlabel(\"tau/ep\")\nplt.ylabel(\"n\")",
    "id": "b71ab50336924643b1fa1d8ff3ed8067",
    "idx": 12,
    "time": "2021-02-17T03:18:14.818Z",
    "type": "execution"
   },
   {
    "id": "b71ab50336924643b1fa1d8ff3ed8067",
    "time": "2021-02-17T03:18:15.087Z",
    "type": "completion"
   },
   {
    "code": "#e Solution\nprint (tau(499.9))\n",
    "id": "c886beca4f85432e90f14088a0ab8faa",
    "idx": 18,
    "time": "2021-02-17T03:19:51.186Z",
    "type": "execution"
   },
   {
    "id": "c886beca4f85432e90f14088a0ab8faa",
    "time": "2021-02-17T03:19:51.302Z",
    "type": "completion"
   },
   {
    "code": "#Define gridding\ny = np.linspace(.01, 499, 500)\nx = np.linspace(.01,1., 500)\nx_2d, y_2d = np.meshgrid(x,y)\nz_2d = F(x_2d, y_2d)\n#make 3d plot\nfrom mpl_toolkits.mplot3d import Axes3D\nfig = plt.figure(figsize=(8,8)) #create figure object to hold the plot\nax = Axes3D(fig) #create Axes3D object to display the plot\nax.plot_surface(x_2d, y_2d, z_2d)\nax.set_xlabel(\"$tau/ep$\")\nax.set_ylabel(\"$n$\")\nax.set_zlabel(\"$F(x,y)$\")",
    "id": "950663c93f4e4522875c90b09192aac5",
    "idx": 9,
    "time": "2021-02-17T03:20:31.704Z",
    "type": "execution"
   },
   {
    "id": "950663c93f4e4522875c90b09192aac5",
    "time": "2021-02-17T03:20:37.131Z",
    "type": "completion"
   },
   {
    "code": "#c Solution\n#result = np.where(z_2d == np.amax(z_2d))\nminInRows = np.where(z_2d == np.amin(z_2d, axis=0))\nplt.plot(x_2d[minInRows[0], minInRows[1]], y_2d[minInRows[0], minInRows[1]]\n        , 'r-')  \n#plt.plot(tau(y_2d[minInRows[0], minInRows[1]]), y_2d[minInRows[0], minInRows[1]], 'b-')\n#plt.plot(tau(y), y, 'b-')\nplt.xlabel(\"tau/ep\")\nplt.ylabel(\"n\")",
    "id": "b71ab50336924643b1fa1d8ff3ed8067",
    "idx": 12,
    "time": "2021-02-17T03:20:39.483Z",
    "type": "execution"
   },
   {
    "id": "b71ab50336924643b1fa1d8ff3ed8067",
    "time": "2021-02-17T03:20:39.758Z",
    "type": "completion"
   },
   {
    "code": "#d Solution\ndef tau(n):\n    N=1000\n    return (N-2*n)/(N*np.log((N-n)/n))\n\n#c Solution\n#result = np.where(z_2d == np.amax(z_2d))\nminInRows = np.where(z_2d == np.amin(z_2d, axis=0))\nplt.plot(x_2d[minInRows[0], minInRows[1]], y_2d[minInRows[0], minInRows[1]]\n        , 'r-')  \n#plt.plot(tau(y_2d[minInRows[0], minInRows[1]]), y_2d[minInRows[0], minInRows[1]], 'b-')\nplt.plot(tau(y), y, 'b-')\nplt.xlabel(\"tau/ep\")\nplt.ylabel(\"n\")",
    "id": "144e7bbba5164db08ef3e4c70b6b2bab",
    "idx": 15,
    "time": "2021-02-17T03:20:43.190Z",
    "type": "execution"
   },
   {
    "id": "144e7bbba5164db08ef3e4c70b6b2bab",
    "time": "2021-02-17T03:20:43.520Z",
    "type": "completion"
   },
   {
    "code": "#a) Solution\nimport numpy as np\nimport math as math\nimport scipy.stats as st\nimport scipy.special  \nimport matplotlib.pyplot as plt\n\ndef fact(x):\n    return scipy.special.factorial(x, exact=True)\n    #return math.factorial(x)\n\ndef sigma(ntest): \n    N=1000\n    ntest=ntest.astype(int)\n    z=2*fact(N)/(fact(ntest)*fact(N-ntest))\n    z=z.astype(np.float128)\n    z=np.log(z)\n    return z   \n\ndef F(tau,ntest):\n    N=1000\n    return (ntest*(N-ntest)/N - tau*sigma(ntest))\n\n# Make some 2d plots\ny = np.linspace(.01, 500, 500)\nplt.plot(y,F(0.2,y), 'r-' )\nplt.plot(y,F(0.35,y), 'b-' )\nplt.plot(y,F(0.55,y), 'g-' )\n\n#for $\\tau/\\epsilon=0.35$, the free energy is a minimum for $n\\sim100$ or $x=0.1$.",
    "id": "99a3756773f44818848a2014a41f6d40",
    "idx": 5,
    "time": "2021-02-17T03:27:31.402Z",
    "type": "execution"
   },
   {
    "id": "99a3756773f44818848a2014a41f6d40",
    "time": "2021-02-17T03:27:31.749Z",
    "type": "completion"
   },
   {
    "code": "#c) Solution\n#result = np.where(z_2d == np.amax(z_2d))\nminInRows = np.where(z_2d == np.amin(z_2d, axis=0))\nplt.plot(x_2d[minInRows[0], minInRows[1]], y_2d[minInRows[0], minInRows[1]]\n        , 'r-')  \n#plt.plot(tau(y_2d[minInRows[0], minInRows[1]]), y_2d[minInRows[0], minInRows[1]], 'b-')\n#plt.plot(tau(y), y, 'b-')\nplt.xlabel(\"tau/ep\")\nplt.ylabel(\"n\")\n\n#phase speration occurs up until around $\\tau/\\ep=0.5$",
    "id": "b71ab50336924643b1fa1d8ff3ed8067",
    "idx": 12,
    "time": "2021-02-17T03:34:36.821Z",
    "type": "execution"
   },
   {
    "id": "b71ab50336924643b1fa1d8ff3ed8067",
    "time": "2021-02-17T03:34:37.115Z",
    "type": "completion"
   },
   {
    "code": "y = np.linspace(.01, 50, 500)\nx = np.linspace(.01,.2, 500)\nx_2d, y_2d = np.meshgrid(x,y)\nz_2d = F(x_2d, y_2d)\nminInRows = np.where(z_2d == np.amin(z_2d, axis=0))\nplt.plot(x_2d[minInRows[0], minInRows[1]], y_2d[minInRows[0], minInRows[1]]\n        , 'r-')  \n#plt.plot(tau(y_2d[minInRows[0], minInRows[1]]), y_2d[minInRows[0], minInRows[1]], 'b-')\nplt.plot(tau(y), y, 'b-')\nplt.xlabel(\"tau/ep\")\nplt.ylabel(\"n\")\n#The Stirling approximation works really well.",
    "id": "b5d265ed7225498986f99869cb63f7b7",
    "idx": 16,
    "time": "2021-02-17T03:36:50.723Z",
    "type": "execution"
   },
   {
    "id": "b5d265ed7225498986f99869cb63f7b7",
    "time": "2021-02-17T03:36:53.044Z",
    "type": "completion"
   },
   {
    "code": "y = np.linspace(.01, 20, 500)\nx = np.linspace(.01,.25, 500)\nx_2d, y_2d = np.meshgrid(x,y)\nz_2d = F(x_2d, y_2d)\nminInRows = np.where(z_2d == np.amin(z_2d, axis=0))\nplt.plot(x_2d[minInRows[0], minInRows[1]], y_2d[minInRows[0], minInRows[1]]\n        , 'r-')  \n#plt.plot(tau(y_2d[minInRows[0], minInRows[1]]), y_2d[minInRows[0], minInRows[1]], 'b-')\nplt.plot(tau(y), y, 'b-')\nplt.xlabel(\"tau/ep\")\nplt.ylabel(\"n\")\n#The Stirling approximation works really well.",
    "id": "b5d265ed7225498986f99869cb63f7b7",
    "idx": 16,
    "time": "2021-02-17T03:37:16.210Z",
    "type": "execution"
   },
   {
    "id": "b5d265ed7225498986f99869cb63f7b7",
    "time": "2021-02-17T03:37:18.318Z",
    "type": "completion"
   }
  ],
  "kernelspec": {
   "display_name": "Python 3",
   "language": "python",
   "name": "python3"
  },
  "language_info": {
   "codemirror_mode": {
    "name": "ipython",
    "version": 3
   },
   "file_extension": ".py",
   "mimetype": "text/x-python",
   "name": "python",
   "nbconvert_exporter": "python",
   "pygments_lexer": "ipython3",
   "version": "3.8.6"
  }
 },
 "nbformat": 4,
 "nbformat_minor": 1
}
